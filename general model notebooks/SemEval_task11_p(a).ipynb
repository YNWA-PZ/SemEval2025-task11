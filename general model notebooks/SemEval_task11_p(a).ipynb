{
 "cells": [
  {
   "cell_type": "code",
   "execution_count": null,
   "metadata": {
    "colab": {
     "base_uri": "https://localhost:8080/"
    },
    "id": "g7wkyDC0IyuJ",
    "outputId": "92d13ed5-d04c-4a1a-be1b-b230ca618bb7"
   },
   "outputs": [
    {
     "name": "stdout",
     "output_type": "stream",
     "text": [
      "Downloading...\n",
      "From: https://drive.google.com/uc?id=16hn7EOuNgWoK3Mgj3LYOy87PQaNJpTL-\n",
      "To: /content/SemEval2025_task11.zip\n",
      "\r  0% 0.00/3.40M [00:00<?, ?B/s]\r100% 3.40M/3.40M [00:00<00:00, 138MB/s]\n"
     ]
    }
   ],
   "source": [
    "!gdown 16hn7EOuNgWoK3Mgj3LYOy87PQaNJpTL-"
   ]
  },
  {
   "cell_type": "code",
   "execution_count": null,
   "metadata": {
    "id": "Kf5ohrpWI-u4"
   },
   "outputs": [],
   "source": [
    "!rm -rf public_data emo_unicode.py\n",
    "!unzip -q SemEval2025_task11.zip"
   ]
  },
  {
   "cell_type": "markdown",
   "metadata": {
    "id": "g-JLGLGAJNLD"
   },
   "source": [
    "INSTALLED"
   ]
  },
  {
   "cell_type": "code",
   "execution_count": null,
   "metadata": {
    "id": "4_fulKO1V1LK"
   },
   "outputs": [],
   "source": [
    "!pip install -q clean-text[gpl]\n",
    "# !pip install tqdm"
   ]
  },
  {
   "cell_type": "code",
   "execution_count": null,
   "metadata": {
    "id": "Tbpdh5w-Jw9F"
   },
   "outputs": [],
   "source": [
    "import numpy as np\n",
    "import pandas as pd\n",
    "from matplotlib import pyplot as plt\n",
    "%matplotlib inline\n",
    "import seaborn as sns\n",
    "import re\n",
    "import pandas as pd\n",
    "import time\n",
    "import os\n",
    "from sklearn import metrics\n",
    "import nltk\n",
    "from nltk.tokenize import word_tokenize\n",
    "from emo_unicode import UNICODE_EMOJI\n",
    "from tqdm.notebook import tqdm\n",
    "from tqdm import tqdm\n",
    "from cleantext import clean"
   ]
  },
  {
   "cell_type": "code",
   "execution_count": null,
   "metadata": {
    "colab": {
     "base_uri": "https://localhost:8080/"
    },
    "id": "sar-JEBpWQMI",
    "outputId": "f75f3e5c-afde-404c-ccfc-91d384c3136a"
   },
   "outputs": [
    {
     "name": "stderr",
     "output_type": "stream",
     "text": [
      "[nltk_data] Downloading package punkt to /root/nltk_data...\n",
      "[nltk_data]   Package punkt is already up-to-date!\n"
     ]
    },
    {
     "data": {
      "text/plain": [
       "True"
      ]
     },
     "execution_count": 190,
     "metadata": {},
     "output_type": "execute_result"
    }
   ],
   "source": [
    "nltk.download('punkt')"
   ]
  },
  {
   "cell_type": "markdown",
   "metadata": {
    "id": "oMfL-BzqJ3Ts"
   },
   "source": [
    "**load and preprocess**\n",
    "\n"
   ]
  },
  {
   "cell_type": "markdown",
   "metadata": {
    "id": "5kBkYBMUcjHx"
   },
   "source": [
    "constant\n"
   ]
  },
  {
   "cell_type": "code",
   "execution_count": null,
   "metadata": {
    "id": "R-ib7WVVchXo"
   },
   "outputs": [],
   "source": [
    "emoji_regex = r\"[\\U0001F600-\\U0001F64F\\U0001F300-\\U0001F5FF\\U0001F680-\\U0001F6FF\\U0001F700-\\U0001F77F\\U0001F780-\\U0001F7FF\\U0001F800-\\U0001F8FF\\U0001F900-\\U0001F9FF\\U0001FA00-\\U0001FA6F\\U0001FA70-\\U0001FAFF\\u2600-\\u26FF\\u2700-\\u27BF]\"\n",
    "labels=['Anger', 'Fear', 'Joy', 'Sadness', 'Surprise']\n",
    "kinds=[\"train\",\"dev\"]\n",
    "tasks=[\"track_a\",\"track_b\"]\n",
    "langs=[\"afr\",\"amh\",\"deu\",\"eng\",\"oro\",\"ptbr\",\"rus\",\"som\",\"sum\",\"tir\"]"
   ]
  },
  {
   "cell_type": "code",
   "execution_count": null,
   "metadata": {
    "id": "V5UbvcrjLKpQ"
   },
   "outputs": [],
   "source": [
    "\n",
    "\n",
    "def cleanhtml(raw_html):\n",
    "    cleanr = re.compile('<.*?>')\n",
    "    cleantext = re.sub(cleanr, '', raw_html)\n",
    "    return cleantext\n",
    "\n",
    "\n",
    "def cleaning(text):\n",
    "    text = text.strip()\n",
    "    text = re.sub(r\"&.*?;\",'',text)\n",
    "\n",
    "    # regular cleaning\n",
    "    text = clean(text,\n",
    "        fix_unicode=True,\n",
    "        to_ascii=False,\n",
    "        lower=True,\n",
    "        no_line_breaks=True,\n",
    "        no_urls=True,\n",
    "        no_emails=True,\n",
    "        no_phone_numbers=True,\n",
    "        no_numbers=False,\n",
    "        no_digits=False,\n",
    "        no_currency_symbols=True,\n",
    "        no_punct=True,\n",
    "        replace_with_url=\"\",\n",
    "        replace_with_email=\"\",\n",
    "        replace_with_phone_number=\"\",\n",
    "        replace_with_number=\"\",\n",
    "        replace_with_digit=\"0\",\n",
    "        replace_with_currency_symbol=\"\",\n",
    "    )\n",
    "\n",
    "    # cleaning htmls\n",
    "    text = cleanhtml(text)\n",
    "\n",
    "    # normalizing\n",
    "    text = str(text).lower()\n",
    "\n",
    "    # removing wierd patterns\n",
    "    wierd_pattern = re.compile(\"[\"\n",
    "        # u\"\\U0001F600-\\U0001F64F\"  # emoticons\n",
    "        u\"\\U0001F300-\\U0001F5FF\"  # symbols & pictographs\n",
    "        u\"\\U0001F680-\\U0001F6FF\"  # transport & map symbols\n",
    "        u\"\\U0001F1E0-\\U0001F1FF\"  # flags (iOS)\n",
    "        u\"\\U00002702-\\U000027B0\"\n",
    "        u\"\\U000024C2-\\U0001F251\"\n",
    "        u\"\\U0001f926-\\U0001f937\"\n",
    "        u'\\U00010000-\\U0010ffff'\n",
    "        u\"\\u200d\"\n",
    "        u\"\\u2640-\\u2642\"\n",
    "        u\"\\u2600-\\u2B55\"\n",
    "        u\"\\u23cf\"\n",
    "        u\"\\u23e9\"\n",
    "        u\"\\u231a\"\n",
    "        u\"\\u3030\"\n",
    "        u\"\\ufe0f\"\n",
    "        u\"\\u2069\"\n",
    "        u\"\\u2066\"\n",
    "        # u\"\\u200c\"\n",
    "        u\"\\u2068\"\n",
    "        u\"\\u2067\"\n",
    "        \"]+\", flags=re.UNICODE)\n",
    "\n",
    "    text = wierd_pattern.sub(r'', text)\n",
    "\n",
    "    # removing extra spaces, hashtags\n",
    "    text = re.sub(\"#\", \"\", text)\n",
    "    text = re.sub(\"\\s+\", \" \", text)\n",
    "\n",
    "    return text\n",
    "\n",
    "def convert_emoticons(text):\n",
    "  emojis=re.findall(emoji_regex,text)\n",
    "  # return emojis\n",
    "  for emot in emojis:\n",
    "    if emot not in UNICODE_EMOJI:\n",
    "      # print(\"gosh\")\n",
    "      text = re.sub(u'('+emot+')',\"\", text)\n",
    "    else:\n",
    "      text = re.sub(u'('+emot+')', \"_\".join(UNICODE_EMOJI[emot].replace(\",\",\"\").split()), text)\n",
    "  return text\n",
    "\n"
   ]
  },
  {
   "cell_type": "code",
   "execution_count": null,
   "metadata": {
    "id": "yA704OVfLp_Q"
   },
   "outputs": [],
   "source": [
    "def safe_tokenize(message):\n",
    "    if isinstance(message, str):\n",
    "        return word_tokenize(message)\n",
    "    else:\n",
    "        return []"
   ]
  },
  {
   "cell_type": "code",
   "execution_count": null,
   "metadata": {
    "colab": {
     "base_uri": "https://localhost:8080/"
    },
    "id": "0JtO9u4SN7Sh",
    "outputId": "4ba753da-cb64-4c06-e80e-6c93147e99e6"
   },
   "outputs": [
    {
     "name": "stderr",
     "output_type": "stream",
     "text": [
      "100%|██████████| 1222/1222 [00:00<00:00, 108035.91it/s]\n",
      "100%|██████████| 1222/1222 [00:00<00:00, 4813.12it/s]\n",
      "100%|██████████| 3549/3549 [00:00<00:00, 154026.52it/s]\n",
      "100%|██████████| 3549/3549 [00:00<00:00, 4055.13it/s]\n",
      "100%|██████████| 2603/2603 [00:00<00:00, 102446.01it/s]\n",
      "100%|██████████| 2603/2603 [00:00<00:00, 2654.21it/s]\n",
      "100%|██████████| 2768/2768 [00:00<00:00, 197161.14it/s]\n",
      "100%|██████████| 2768/2768 [00:00<00:00, 7661.30it/s]\n",
      "100%|██████████| 3442/3442 [00:00<00:00, 127715.16it/s]\n",
      "100%|██████████| 3442/3442 [00:00<00:00, 5337.34it/s]\n",
      "100%|██████████| 2226/2226 [00:00<00:00, 167814.38it/s]\n",
      "100%|██████████| 2226/2226 [00:00<00:00, 4162.03it/s]\n",
      "100%|██████████| 2679/2679 [00:00<00:00, 188982.82it/s]\n",
      "100%|██████████| 2679/2679 [00:00<00:00, 5870.62it/s]\n",
      "100%|██████████| 3392/3392 [00:00<00:00, 104499.46it/s]\n",
      "100%|██████████| 3392/3392 [00:00<00:00, 5380.26it/s]\n"
     ]
    },
    {
     "name": "stdout",
     "output_type": "stream",
     "text": [
      "public_data/train/track_a/sum.csv\n"
     ]
    },
    {
     "name": "stderr",
     "output_type": "stream",
     "text": [
      "100%|██████████| 3681/3681 [00:00<00:00, 143452.63it/s]\n",
      "100%|██████████| 3681/3681 [00:00<00:00, 4158.85it/s]\n"
     ]
    },
    {
     "name": "stdout",
     "output_type": "stream",
     "text": [
      "public_data/train/track_b/afr.csv\n"
     ]
    },
    {
     "name": "stderr",
     "output_type": "stream",
     "text": [
      "100%|██████████| 3549/3549 [00:00<00:00, 141220.08it/s]\n",
      "100%|██████████| 3549/3549 [00:00<00:00, 3968.06it/s]\n",
      "100%|██████████| 2603/2603 [00:00<00:00, 96652.53it/s]\n",
      "100%|██████████| 2603/2603 [00:01<00:00, 2602.87it/s]\n",
      "100%|██████████| 2768/2768 [00:00<00:00, 207481.48it/s]\n",
      "100%|██████████| 2768/2768 [00:00<00:00, 7258.99it/s]\n"
     ]
    },
    {
     "name": "stdout",
     "output_type": "stream",
     "text": [
      "public_data/train/track_b/oro.csv\n"
     ]
    },
    {
     "name": "stderr",
     "output_type": "stream",
     "text": [
      "100%|██████████| 2226/2226 [00:00<00:00, 165473.67it/s]\n",
      "100%|██████████| 2226/2226 [00:00<00:00, 4234.41it/s]\n",
      "100%|██████████| 2220/2220 [00:00<00:00, 176097.94it/s]\n",
      "100%|██████████| 2220/2220 [00:00<00:00, 5449.45it/s]\n"
     ]
    },
    {
     "name": "stdout",
     "output_type": "stream",
     "text": [
      "public_data/train/track_b/som.csv\n",
      "public_data/train/track_b/sum.csv\n",
      "public_data/train/track_b/tir.csv\n"
     ]
    },
    {
     "name": "stderr",
     "output_type": "stream",
     "text": [
      "100%|██████████| 98/98 [00:00<00:00, 62345.18it/s]\n",
      "100%|██████████| 98/98 [00:00<00:00, 5586.86it/s]\n",
      "100%|██████████| 592/592 [00:00<00:00, 95674.02it/s]\n",
      "100%|██████████| 592/592 [00:00<00:00, 3909.89it/s]\n",
      "100%|██████████| 200/200 [00:00<00:00, 38675.00it/s]\n",
      "100%|██████████| 200/200 [00:00<00:00, 2274.12it/s]\n",
      "100%|██████████| 116/116 [00:00<00:00, 56338.50it/s]\n",
      "100%|██████████| 116/116 [00:00<00:00, 4003.65it/s]\n",
      "100%|██████████| 574/574 [00:00<00:00, 78811.40it/s]\n",
      "100%|██████████| 574/574 [00:00<00:00, 2921.88it/s]\n",
      "100%|██████████| 200/200 [00:00<00:00, 56212.61it/s]\n",
      "100%|██████████| 200/200 [00:00<00:00, 2811.12it/s]\n",
      "100%|██████████| 401/401 [00:00<00:00, 65337.42it/s]\n",
      "100%|██████████| 401/401 [00:00<00:00, 2701.01it/s]\n",
      "100%|██████████| 566/566 [00:00<00:00, 39701.92it/s]\n",
      "100%|██████████| 566/566 [00:00<00:00, 2585.79it/s]\n"
     ]
    },
    {
     "name": "stdout",
     "output_type": "stream",
     "text": [
      "public_data/dev/track_a/sum_a.csv\n"
     ]
    },
    {
     "name": "stderr",
     "output_type": "stream",
     "text": [
      "100%|██████████| 614/614 [00:00<00:00, 66583.14it/s]\n",
      "100%|██████████| 614/614 [00:00<00:00, 2349.23it/s]\n"
     ]
    },
    {
     "name": "stdout",
     "output_type": "stream",
     "text": [
      "public_data/dev/track_b/afr_b.csv\n"
     ]
    },
    {
     "name": "stderr",
     "output_type": "stream",
     "text": [
      "100%|██████████| 592/592 [00:00<00:00, 50449.59it/s]\n",
      "100%|██████████| 592/592 [00:00<00:00, 2267.96it/s]\n",
      "100%|██████████| 200/200 [00:00<00:00, 23639.20it/s]\n",
      "100%|██████████| 200/200 [00:00<00:00, 1506.63it/s]\n",
      "100%|██████████| 116/116 [00:00<00:00, 19575.89it/s]\n",
      "100%|██████████| 116/116 [00:00<00:00, 4628.95it/s]\n"
     ]
    },
    {
     "name": "stdout",
     "output_type": "stream",
     "text": [
      "public_data/dev/track_b/oro_b.csv\n"
     ]
    },
    {
     "name": "stderr",
     "output_type": "stream",
     "text": [
      "100%|██████████| 200/200 [00:00<00:00, 73494.02it/s]\n",
      "100%|██████████| 200/200 [00:00<00:00, 2908.22it/s]\n",
      "100%|██████████| 343/343 [00:00<00:00, 97522.12it/s]\n",
      "100%|██████████| 343/343 [00:00<00:00, 3123.20it/s]"
     ]
    },
    {
     "name": "stdout",
     "output_type": "stream",
     "text": [
      "public_data/dev/track_b/som_b.csv\n",
      "public_data/dev/track_b/sum_b.csv\n",
      "public_data/dev/track_b/tir_b.csv\n"
     ]
    },
    {
     "name": "stderr",
     "output_type": "stream",
     "text": [
      "\n"
     ]
    }
   ],
   "source": [
    "tqdm.pandas()\n",
    "for kind in kinds:\n",
    "  for task in tasks:\n",
    "    for lang in langs:\n",
    "      if kind==\"dev\":\n",
    "        lang+=\"_\"+task[-1]\n",
    "      path=f\"public_data/{kind}/{task}/{lang}.csv\"\n",
    "      if not os.path.isfile(path):\n",
    "        print(path)\n",
    "        continue\n",
    "      train_data=pd.read_csv(path)\n",
    "      train_data['clean_message']=train_data['text'].progress_apply(convert_emoticons).progress_apply(cleaning)\n",
    "      train_data = train_data.reset_index(drop=True)\n",
    "      train_data=train_data.drop(columns={\"text\",\"id\"})\n",
    "      processed_path=f\"processed_data/{kind}/{task}/{lang}.csv\"\n",
    "      directory = os.path.dirname(processed_path)\n",
    "      if not os.path.exists(directory):\n",
    "        os.makedirs(directory)\n",
    "\n",
    "      train_data.to_csv(processed_path)\n",
    "\n"
   ]
  },
  {
   "cell_type": "code",
   "execution_count": null,
   "metadata": {
    "id": "-UNuNkJFkNAZ"
   },
   "outputs": [],
   "source": [
    "!zip -qr processed_data.zip processed_data"
   ]
  },
  {
   "cell_type": "code",
   "execution_count": null,
   "metadata": {
    "id": "-lSPK8NyNfTq"
   },
   "outputs": [],
   "source": [
    "# train_data[labels].sum()"
   ]
  },
  {
   "cell_type": "code",
   "execution_count": null,
   "metadata": {
    "id": "Fxb-hH9tLaHr"
   },
   "outputs": [],
   "source": [
    "# data_counts=train_data[labels].value_counts()\n",
    "# data_counts"
   ]
  },
  {
   "cell_type": "markdown",
   "metadata": {
    "id": "RXTGSadtL4qv"
   },
   "source": [
    "data visualization\n"
   ]
  },
  {
   "cell_type": "code",
   "execution_count": null,
   "metadata": {
    "id": "hLjjzt7-MBMC"
   },
   "outputs": [],
   "source": [
    "# train_data['num_words']=train_data['clean_message'].str.len()\n",
    "# fig=plt.figure(figsize=(12,8))\n",
    "# sns.set_style('dark')\n",
    "\n",
    "# sns.displot(train_data['num_words'], kde=True,color='Blue')\n",
    "# mean_val = train_data['num_words'].mean()\n",
    "# print(f'\\nMean:{mean_val:.2f}')\n",
    "# plt.legend()\n",
    "# plt.title('number of words in each message',fontsize=16,fontweight='bold')\n",
    "# plt.xlabel('Number of Words', fontsize=12)\n",
    "# plt.ylabel('Frequency', fontsize=12)\n",
    "\n",
    "# plt.grid(True, linestyle='--', alpha=1)\n",
    "# plt.show()"
   ]
  },
  {
   "cell_type": "code",
   "execution_count": null,
   "metadata": {
    "id": "sYikEmEpMDmn"
   },
   "outputs": [],
   "source": [
    "# big_len_data= train_data[train_data['clean_message'].apply(lambda x: len(x) >350)]\n",
    "# big_len_data"
   ]
  },
  {
   "cell_type": "code",
   "execution_count": null,
   "metadata": {
    "id": "MHMvCMHyUCqs"
   },
   "outputs": [],
   "source": [
    "# normal_len_data= train_data[train_data['clean_message'].apply(lambda x: len(x)<=350)]\n",
    "# normal_len_data"
   ]
  }
 ],
 "metadata": {
  "colab": {
   "provenance": []
  },
  "kernelspec": {
   "display_name": "Python 3",
   "name": "python3"
  },
  "language_info": {
   "name": "python"
  }
 },
 "nbformat": 4,
 "nbformat_minor": 0
}
