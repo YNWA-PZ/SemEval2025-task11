{
 "cells": [
  {
   "cell_type": "raw",
   "metadata": {
    "id": "xFuwgl6FOZmx"
   },
   "source": [
    "import os\n",
    "\n",
    "os.environ['CUDA_LAUNCH_BLOCKING'] = \"1\"\n",
    "\n",
    "os.environ['WANDB_DISABLED'] = \"true\""
   ]
  },
  {
   "cell_type": "code",
   "execution_count": 1,
   "metadata": {
    "colab": {
     "base_uri": "https://localhost:8080/"
    },
    "execution": {
     "iopub.execute_input": "2024-12-19T14:57:26.399606Z",
     "iopub.status.busy": "2024-12-19T14:57:26.399365Z",
     "iopub.status.idle": "2024-12-19T14:57:35.286961Z",
     "shell.execute_reply": "2024-12-19T14:57:35.285906Z",
     "shell.execute_reply.started": "2024-12-19T14:57:26.399575Z"
    },
    "id": "jiRg5MiCozSJ",
    "outputId": "82ae27cc-3b0b-4670-955b-4a42c61a1dcb",
    "trusted": true
   },
   "outputs": [
    {
     "name": "stdout",
     "output_type": "stream",
     "text": [
      "Requirement already satisfied: gdown in /usr/local/lib/python3.10/dist-packages (5.2.0)\n",
      "Requirement already satisfied: beautifulsoup4 in /usr/local/lib/python3.10/dist-packages (from gdown) (4.12.3)\n",
      "Requirement already satisfied: filelock in /usr/local/lib/python3.10/dist-packages (from gdown) (3.16.1)\n",
      "Requirement already satisfied: requests[socks] in /usr/local/lib/python3.10/dist-packages (from gdown) (2.32.3)\n",
      "Requirement already satisfied: tqdm in /usr/local/lib/python3.10/dist-packages (from gdown) (4.66.5)\n",
      "Requirement already satisfied: soupsieve>1.2 in /usr/local/lib/python3.10/dist-packages (from beautifulsoup4->gdown) (2.6)\n",
      "Requirement already satisfied: charset-normalizer<4,>=2 in /usr/local/lib/python3.10/dist-packages (from requests[socks]->gdown) (3.3.2)\n",
      "Requirement already satisfied: idna<4,>=2.5 in /usr/local/lib/python3.10/dist-packages (from requests[socks]->gdown) (3.10)\n",
      "Requirement already satisfied: urllib3<3,>=1.21.1 in /usr/local/lib/python3.10/dist-packages (from requests[socks]->gdown) (2.2.3)\n",
      "Requirement already satisfied: certifi>=2017.4.17 in /usr/local/lib/python3.10/dist-packages (from requests[socks]->gdown) (2024.8.30)\n",
      "Requirement already satisfied: PySocks!=1.5.7,>=1.5.6 in /usr/local/lib/python3.10/dist-packages (from requests[socks]->gdown) (1.7.1)\n",
      "Downloading...\n",
      "From: https://drive.google.com/uc?id=1mq9CWT9MXsH1Y-ihxVL4uEzufQjpBoer\n",
      "To: /kaggle/working/processed_data.zip\n",
      "100%|██████████████████████████████████████| 2.86M/2.86M [00:00<00:00, 19.0MB/s]\n"
     ]
    }
   ],
   "source": [
    "# !gdown 1qq5gDuEAqWnoviRBDYfbprLFD-MPQyNo\n",
    "\n",
    "!pip install gdown\n",
    "\n",
    "!gdown 1mq9CWT9MXsH1Y-ihxVL4uEzufQjpBoer"
   ]
  },
  {
   "cell_type": "code",
   "execution_count": 2,
   "metadata": {
    "execution": {
     "iopub.execute_input": "2024-12-19T14:57:35.288656Z",
     "iopub.status.busy": "2024-12-19T14:57:35.288332Z",
     "iopub.status.idle": "2024-12-19T14:57:35.594132Z",
     "shell.execute_reply": "2024-12-19T14:57:35.593178Z",
     "shell.execute_reply.started": "2024-12-19T14:57:35.288623Z"
    },
    "id": "kexrENAEo54E",
    "trusted": true
   },
   "outputs": [],
   "source": [
    "!rm -rf processed_data\n",
    "\n",
    "!unzip -q processed_data.zip"
   ]
  },
  {
   "cell_type": "code",
   "execution_count": 3,
   "metadata": {
    "colab": {
     "base_uri": "https://localhost:8080/"
    },
    "execution": {
     "iopub.execute_input": "2024-12-19T14:57:35.596582Z",
     "iopub.status.busy": "2024-12-19T14:57:35.596300Z",
     "iopub.status.idle": "2024-12-19T14:58:09.650778Z",
     "shell.execute_reply": "2024-12-19T14:58:09.649754Z",
     "shell.execute_reply.started": "2024-12-19T14:57:35.596559Z"
    },
    "id": "VC2TifwamSFK",
    "outputId": "ffae7c64-f324-4dc6-9771-061e513ec7bc",
    "trusted": true
   },
   "outputs": [
    {
     "name": "stdout",
     "output_type": "stream",
     "text": [
      "\u001b[2K     \u001b[90m━━━━━━━━━━━━━━━━━━━━━━━━━━━━━━━━━━━━━━━━\u001b[0m \u001b[32m44.1/44.1 kB\u001b[0m \u001b[31m1.5 MB/s\u001b[0m eta \u001b[36m0:00:00\u001b[0m\n",
      "\u001b[2K   \u001b[90m━━━━━━━━━━━━━━━━━━━━━━━━━━━━━━━━━━━━━━━━\u001b[0m \u001b[32m336.4/336.4 kB\u001b[0m \u001b[31m7.3 MB/s\u001b[0m eta \u001b[36m0:00:00\u001b[0mta \u001b[36m0:00:01\u001b[0m\n",
      "\u001b[2K   \u001b[90m━━━━━━━━━━━━━━━━━━━━━━━━━━━━━━━━━━━━━━━━\u001b[0m \u001b[32m3.0/3.0 MB\u001b[0m \u001b[31m48.9 MB/s\u001b[0m eta \u001b[36m0:00:00\u001b[0m00:01\u001b[0m\n",
      "\u001b[2K   \u001b[90m━━━━━━━━━━━━━━━━━━━━━━━━━━━━━━━━━━━━━━━━\u001b[0m \u001b[32m10.1/10.1 MB\u001b[0m \u001b[31m104.5 MB/s\u001b[0m eta \u001b[36m0:00:00\u001b[0m00:01\u001b[0m0:01\u001b[0m\n",
      "\u001b[2K   \u001b[90m━━━━━━━━━━━━━━━━━━━━━━━━━━━━━━━━━━━━━━━━\u001b[0m \u001b[32m23.5/23.5 MB\u001b[0m \u001b[31m76.4 MB/s\u001b[0m eta \u001b[36m0:00:00\u001b[0m:00:01\u001b[0m00:01\u001b[0m\n",
      "\u001b[2K   \u001b[90m━━━━━━━━━━━━━━━━━━━━━━━━━━━━━━━━━━━━━━━━\u001b[0m \u001b[32m424.1/424.1 kB\u001b[0m \u001b[31m24.7 MB/s\u001b[0m eta \u001b[36m0:00:00\u001b[0m\n",
      "\u001b[2K   \u001b[90m━━━━━━━━━━━━━━━━━━━━━━━━━━━━━━━━━━━━━━━━\u001b[0m \u001b[32m69.1/69.1 MB\u001b[0m \u001b[31m25.6 MB/s\u001b[0m eta \u001b[36m0:00:00\u001b[0m:00:01\u001b[0m00:01\u001b[0m\n",
      "\u001b[2K   \u001b[90m━━━━━━━━━━━━━━━━━━━━━━━━━━━━━━━━━━━━━━━━\u001b[0m \u001b[32m374.8/374.8 kB\u001b[0m \u001b[31m19.7 MB/s\u001b[0m eta \u001b[36m0:00:00\u001b[0m\n",
      "\u001b[2K   \u001b[90m━━━━━━━━━━━━━━━━━━━━━━━━━━━━━━━━━━━━━━━━\u001b[0m \u001b[32m450.5/450.5 kB\u001b[0m \u001b[31m27.9 MB/s\u001b[0m eta \u001b[36m0:00:00\u001b[0m\n",
      "\u001b[2K   \u001b[90m━━━━━━━━━━━━━━━━━━━━━━━━━━━━━━━━━━━━━━━━\u001b[0m \u001b[32m46.0/46.0 kB\u001b[0m \u001b[31m2.5 MB/s\u001b[0m eta \u001b[36m0:00:00\u001b[0m\n",
      "\u001b[2K   \u001b[90m━━━━━━━━━━━━━━━━━━━━━━━━━━━━━━━━━━━━━━━━\u001b[0m \u001b[32m13.2/13.2 MB\u001b[0m \u001b[31m95.5 MB/s\u001b[0m eta \u001b[36m0:00:00\u001b[0m:00:01\u001b[0m00:01\u001b[0m\n",
      "\u001b[2K   \u001b[90m━━━━━━━━━━━━━━━━━━━━━━━━━━━━━━━━━━━━━━━━\u001b[0m \u001b[32m86.8/86.8 kB\u001b[0m \u001b[31m5.8 MB/s\u001b[0m eta \u001b[36m0:00:00\u001b[0m\n",
      "\u001b[?25h"
     ]
    }
   ],
   "source": [
    "!pip install -q transformers[torch] accelerate -U\n",
    "\n",
    "!pip install -q datasets\n",
    "\n",
    "!pip install -q transformers\n",
    "\n",
    "!pip install -q iterative-stratification\n",
    "\n",
    "!pip install -q auto-gptq optimum bitsandbytes"
   ]
  },
  {
   "cell_type": "code",
   "execution_count": 4,
   "metadata": {
    "execution": {
     "iopub.execute_input": "2024-12-19T14:58:09.652524Z",
     "iopub.status.busy": "2024-12-19T14:58:09.652207Z",
     "iopub.status.idle": "2024-12-19T14:58:24.408558Z",
     "shell.execute_reply": "2024-12-19T14:58:24.407656Z",
     "shell.execute_reply.started": "2024-12-19T14:58:09.652500Z"
    },
    "id": "a_v9ZQjVoIma",
    "trusted": true
   },
   "outputs": [],
   "source": [
    "import numpy as np\n",
    "\n",
    "import pandas as pd\n",
    "\n",
    "import os\n",
    "\n",
    "from os import path\n",
    "\n",
    "import glob\n",
    "\n",
    "from tqdm.notebook import tqdm\n",
    "\n",
    "from tqdm import tqdm\n",
    "\n",
    "import string\n",
    "\n",
    "import copy\n",
    "\n",
    "from transformers import AutoTokenizer, AutoModelForSequenceClassification, TrainingArguments, Trainer,IntervalStrategy,BitsAndBytesConfig\n",
    "\n",
    "from datasets import Dataset,load_dataset, DatasetDict\n",
    "\n",
    "# from iterstrat.ml_stratifiers import MultilabelStratifiedKFold\n",
    "\n",
    "from sklearn.metrics import confusion_matrix, ConfusionMatrixDisplay\n",
    "\n",
    "\n",
    "\n",
    "from sklearn.model_selection import train_test_split,KFold\n",
    "\n",
    "from sklearn.metrics import classification_report,accuracy_score, f1_score\n",
    "\n",
    "from sklearn.metrics import precision_recall_fscore_support\n",
    "\n",
    "from sklearn.utils import shuffle\n",
    "\n",
    "from sklearn.preprocessing import LabelEncoder\n",
    "\n",
    "from scipy.special import expit\n",
    "\n",
    "from peft import prepare_model_for_kbit_training\n",
    "\n",
    "from peft import LoraConfig, get_peft_model,PeftModel\n"
   ]
  },
  {
   "cell_type": "code",
   "execution_count": 5,
   "metadata": {
    "execution": {
     "iopub.execute_input": "2024-12-19T14:58:24.410136Z",
     "iopub.status.busy": "2024-12-19T14:58:24.409583Z",
     "iopub.status.idle": "2024-12-19T14:58:24.413774Z",
     "shell.execute_reply": "2024-12-19T14:58:24.413083Z",
     "shell.execute_reply.started": "2024-12-19T14:58:24.410099Z"
    },
    "id": "BN44kbQ4ocG2",
    "trusted": true
   },
   "outputs": [],
   "source": [
    "import torch\n",
    "\n",
    "import torch.nn as nn\n",
    "\n",
    "import torch.nn.functional as F"
   ]
  },
  {
   "cell_type": "code",
   "execution_count": 6,
   "metadata": {
    "execution": {
     "iopub.execute_input": "2024-12-19T14:58:24.414854Z",
     "iopub.status.busy": "2024-12-19T14:58:24.414570Z",
     "iopub.status.idle": "2024-12-19T14:58:24.435274Z",
     "shell.execute_reply": "2024-12-19T14:58:24.434611Z",
     "shell.execute_reply.started": "2024-12-19T14:58:24.414830Z"
    },
    "id": "Ugv0OfRImSin",
    "trusted": true
   },
   "outputs": [],
   "source": [
    "\n",
    "\n",
    "models_list_3=[\n",
    "\n",
    "      \"FacebookAI/xlm-roberta-large\",\n",
    "\n",
    "#      \"google-bert/bert-base-multilingual-uncased\",\n",
    "\n",
    "          ]\n",
    "\n",
    "\n",
    "\n",
    "models_name_3=[\n",
    "\n",
    "\"XLM-Roberta-large\",\n",
    "\n",
    "# \"bert\",\n",
    "\n",
    "]\n"
   ]
  },
  {
   "cell_type": "code",
   "execution_count": 7,
   "metadata": {
    "execution": {
     "iopub.execute_input": "2024-12-19T14:58:24.436360Z",
     "iopub.status.busy": "2024-12-19T14:58:24.436071Z",
     "iopub.status.idle": "2024-12-19T14:58:24.451880Z",
     "shell.execute_reply": "2024-12-19T14:58:24.451093Z",
     "shell.execute_reply.started": "2024-12-19T14:58:24.436329Z"
    },
    "id": "1kwye6PzpT4N",
    "trusted": true
   },
   "outputs": [],
   "source": [
    "kind=\"train\"\n",
    "\n",
    "task=\"track_a\"\n",
    "\n",
    "langs=[\"afr\",\"amh\",\"deu\",\"eng\",\"oro\",\"ptbr\",\"rus\",\"som\",\"sum\",\"tir\"]\n",
    "\n",
    "# processed_path=f\"processed_data/{kinds[0]}/{tasks[0]}/{langs[3]}.csv\"\n",
    "\n",
    "\n",
    "\n",
    "# train_data=pd.read_csv(processed_path)\n"
   ]
  },
  {
   "cell_type": "code",
   "execution_count": 8,
   "metadata": {
    "colab": {
     "base_uri": "https://localhost:8080/"
    },
    "execution": {
     "iopub.execute_input": "2024-12-19T14:58:24.454273Z",
     "iopub.status.busy": "2024-12-19T14:58:24.454065Z",
     "iopub.status.idle": "2024-12-19T14:58:24.609008Z",
     "shell.execute_reply": "2024-12-19T14:58:24.608116Z",
     "shell.execute_reply.started": "2024-12-19T14:58:24.454254Z"
    },
    "id": "1x0MboqJuj21",
    "outputId": "ca6e68ee-4576-453e-d984-00d41384507e",
    "trusted": true
   },
   "outputs": [
    {
     "name": "stdout",
     "output_type": "stream",
     "text": [
      "not found: processed_data/train/track_a/sum.csv\n"
     ]
    }
   ],
   "source": [
    "all_csv=pd.DataFrame()\n",
    "\n",
    "for lang in langs:\n",
    "\n",
    "    processed_path=f\"processed_data/{kind}/{task}/{lang}.csv\"\n",
    "    if kind==\"dev\":\n",
    "       processed_path=processed_path.replace(lang,lang+task[-2:])\n",
    "    if not os.path.isfile(processed_path):\n",
    "\n",
    "      print(\"not found:\",processed_path)\n",
    "\n",
    "      continue\n",
    "    if lang==\"eng\":\n",
    "       continue\n",
    "    train_data=pd.read_csv(processed_path)\n",
    "\n",
    "    train_data.columns = train_data.columns.str.lower()\n",
    "\n",
    "    all_csv = pd.concat([all_csv, train_data],ignore_index=True)\n",
    "\n",
    "\n"
   ]
  },
  {
   "cell_type": "code",
   "execution_count": 9,
   "metadata": {
    "colab": {
     "base_uri": "https://localhost:8080/",
     "height": 423
    },
    "execution": {
     "iopub.execute_input": "2024-12-19T14:58:24.611180Z",
     "iopub.status.busy": "2024-12-19T14:58:24.610917Z",
     "iopub.status.idle": "2024-12-19T14:58:24.628607Z",
     "shell.execute_reply": "2024-12-19T14:58:24.627931Z",
     "shell.execute_reply.started": "2024-12-19T14:58:24.611157Z"
    },
    "id": "owuvojrICn5c",
    "outputId": "e97a2c94-d936-4426-d03f-335583239e40",
    "trusted": true
   },
   "outputs": [
    {
     "data": {
      "text/html": [
       "<div>\n",
       "<style scoped>\n",
       "    .dataframe tbody tr th:only-of-type {\n",
       "        vertical-align: middle;\n",
       "    }\n",
       "\n",
       "    .dataframe tbody tr th {\n",
       "        vertical-align: top;\n",
       "    }\n",
       "\n",
       "    .dataframe thead th {\n",
       "        text-align: right;\n",
       "    }\n",
       "</style>\n",
       "<table border=\"1\" class=\"dataframe\">\n",
       "  <thead>\n",
       "    <tr style=\"text-align: right;\">\n",
       "      <th></th>\n",
       "      <th>id</th>\n",
       "      <th>anger</th>\n",
       "      <th>disgust</th>\n",
       "      <th>fear</th>\n",
       "      <th>joy</th>\n",
       "      <th>sadness</th>\n",
       "      <th>lang</th>\n",
       "      <th>clean_message</th>\n",
       "      <th>surprise</th>\n",
       "    </tr>\n",
       "  </thead>\n",
       "  <tbody>\n",
       "    <tr>\n",
       "      <th>0</th>\n",
       "      <td>afr_train_track_a_00001</td>\n",
       "      <td>0</td>\n",
       "      <td>0</td>\n",
       "      <td>0</td>\n",
       "      <td>1</td>\n",
       "      <td>0</td>\n",
       "      <td>afr</td>\n",
       "      <td>ons sal gesondheidsprogramme in skole herinstel</td>\n",
       "      <td>NaN</td>\n",
       "    </tr>\n",
       "    <tr>\n",
       "      <th>1</th>\n",
       "      <td>afr_train_track_a_00002</td>\n",
       "      <td>0</td>\n",
       "      <td>0</td>\n",
       "      <td>0</td>\n",
       "      <td>1</td>\n",
       "      <td>0</td>\n",
       "      <td>afr</td>\n",
       "      <td>ons moet verstaan dat ons in landbou een groot...</td>\n",
       "      <td>NaN</td>\n",
       "    </tr>\n",
       "    <tr>\n",
       "      <th>2</th>\n",
       "      <td>afr_train_track_a_00003</td>\n",
       "      <td>0</td>\n",
       "      <td>0</td>\n",
       "      <td>0</td>\n",
       "      <td>1</td>\n",
       "      <td>0</td>\n",
       "      <td>afr</td>\n",
       "      <td>hulle is die trots van die boland en hulle hoo...</td>\n",
       "      <td>NaN</td>\n",
       "    </tr>\n",
       "    <tr>\n",
       "      <th>3</th>\n",
       "      <td>afr_train_track_a_00004</td>\n",
       "      <td>0</td>\n",
       "      <td>0</td>\n",
       "      <td>0</td>\n",
       "      <td>0</td>\n",
       "      <td>0</td>\n",
       "      <td>afr</td>\n",
       "      <td>ek sou nog baie voorbeelde vir u kon noem</td>\n",
       "      <td>NaN</td>\n",
       "    </tr>\n",
       "    <tr>\n",
       "      <th>4</th>\n",
       "      <td>afr_train_track_a_00005</td>\n",
       "      <td>0</td>\n",
       "      <td>0</td>\n",
       "      <td>0</td>\n",
       "      <td>1</td>\n",
       "      <td>0</td>\n",
       "      <td>afr</td>\n",
       "      <td>in ons bedryf loon dit gewoonlik om geduldig t...</td>\n",
       "      <td>NaN</td>\n",
       "    </tr>\n",
       "    <tr>\n",
       "      <th>...</th>\n",
       "      <td>...</td>\n",
       "      <td>...</td>\n",
       "      <td>...</td>\n",
       "      <td>...</td>\n",
       "      <td>...</td>\n",
       "      <td>...</td>\n",
       "      <td>...</td>\n",
       "      <td>...</td>\n",
       "      <td>...</td>\n",
       "    </tr>\n",
       "    <tr>\n",
       "      <th>22789</th>\n",
       "      <td>tir_train_track_a_03677</td>\n",
       "      <td>0</td>\n",
       "      <td>0</td>\n",
       "      <td>0</td>\n",
       "      <td>0</td>\n",
       "      <td>1</td>\n",
       "      <td>tir</td>\n",
       "      <td>ሕማቅ ስማዕ ጽንዓት ይሃብ ቤተስብን ምቅርብ መቃልስቱን መንግስተ ሰማይ የ...</td>\n",
       "      <td>0.0</td>\n",
       "    </tr>\n",
       "    <tr>\n",
       "      <th>22790</th>\n",
       "      <td>tir_train_track_a_03678</td>\n",
       "      <td>1</td>\n",
       "      <td>0</td>\n",
       "      <td>0</td>\n",
       "      <td>0</td>\n",
       "      <td>0</td>\n",
       "      <td>tir</td>\n",
       "      <td>ኣጃንዳ ክህቡና ደልዮም ዮም ዞም ሌያቡ</td>\n",
       "      <td>0.0</td>\n",
       "    </tr>\n",
       "    <tr>\n",
       "      <th>22791</th>\n",
       "      <td>tir_train_track_a_03679</td>\n",
       "      <td>0</td>\n",
       "      <td>0</td>\n",
       "      <td>0</td>\n",
       "      <td>0</td>\n",
       "      <td>0</td>\n",
       "      <td>tir</td>\n",
       "      <td>ኣብ መንጎ ኤርትራን ኢትዮጵያን ተፈጥሩ ዘሎ ሰላም ዝንቅንቆ የለን erit...</td>\n",
       "      <td>0.0</td>\n",
       "    </tr>\n",
       "    <tr>\n",
       "      <th>22792</th>\n",
       "      <td>tir_train_track_a_03680</td>\n",
       "      <td>0</td>\n",
       "      <td>0</td>\n",
       "      <td>0</td>\n",
       "      <td>0</td>\n",
       "      <td>0</td>\n",
       "      <td>tir</td>\n",
       "      <td>ብሪጣንያ ካብ ፈረንሳይ ዝሰግሩ ስደተኛታት ንምሓዝ ድሮንን ራዳርን ክጥቀም...</td>\n",
       "      <td>0.0</td>\n",
       "    </tr>\n",
       "    <tr>\n",
       "      <th>22793</th>\n",
       "      <td>tir_train_track_a_03681</td>\n",
       "      <td>0</td>\n",
       "      <td>0</td>\n",
       "      <td>0</td>\n",
       "      <td>0</td>\n",
       "      <td>0</td>\n",
       "      <td>tir</td>\n",
       "      <td>እቲ ዝገርም ስብሓት ካብ ገዛ ክወጽእ ኣይፍቀዶን ዝብል ሓበሬታ ረኺበ እዋ...</td>\n",
       "      <td>1.0</td>\n",
       "    </tr>\n",
       "  </tbody>\n",
       "</table>\n",
       "<p>22794 rows × 9 columns</p>\n",
       "</div>"
      ],
      "text/plain": [
       "                            id  anger  disgust  fear  joy  sadness lang  \\\n",
       "0      afr_train_track_a_00001      0        0     0    1        0  afr   \n",
       "1      afr_train_track_a_00002      0        0     0    1        0  afr   \n",
       "2      afr_train_track_a_00003      0        0     0    1        0  afr   \n",
       "3      afr_train_track_a_00004      0        0     0    0        0  afr   \n",
       "4      afr_train_track_a_00005      0        0     0    1        0  afr   \n",
       "...                        ...    ...      ...   ...  ...      ...  ...   \n",
       "22789  tir_train_track_a_03677      0        0     0    0        1  tir   \n",
       "22790  tir_train_track_a_03678      1        0     0    0        0  tir   \n",
       "22791  tir_train_track_a_03679      0        0     0    0        0  tir   \n",
       "22792  tir_train_track_a_03680      0        0     0    0        0  tir   \n",
       "22793  tir_train_track_a_03681      0        0     0    0        0  tir   \n",
       "\n",
       "                                           clean_message  surprise  \n",
       "0        ons sal gesondheidsprogramme in skole herinstel       NaN  \n",
       "1      ons moet verstaan dat ons in landbou een groot...       NaN  \n",
       "2      hulle is die trots van die boland en hulle hoo...       NaN  \n",
       "3              ek sou nog baie voorbeelde vir u kon noem       NaN  \n",
       "4      in ons bedryf loon dit gewoonlik om geduldig t...       NaN  \n",
       "...                                                  ...       ...  \n",
       "22789  ሕማቅ ስማዕ ጽንዓት ይሃብ ቤተስብን ምቅርብ መቃልስቱን መንግስተ ሰማይ የ...       0.0  \n",
       "22790                           ኣጃንዳ ክህቡና ደልዮም ዮም ዞም ሌያቡ       0.0  \n",
       "22791  ኣብ መንጎ ኤርትራን ኢትዮጵያን ተፈጥሩ ዘሎ ሰላም ዝንቅንቆ የለን erit...       0.0  \n",
       "22792  ብሪጣንያ ካብ ፈረንሳይ ዝሰግሩ ስደተኛታት ንምሓዝ ድሮንን ራዳርን ክጥቀም...       0.0  \n",
       "22793  እቲ ዝገርም ስብሓት ካብ ገዛ ክወጽእ ኣይፍቀዶን ዝብል ሓበሬታ ረኺበ እዋ...       1.0  \n",
       "\n",
       "[22794 rows x 9 columns]"
      ]
     },
     "execution_count": 9,
     "metadata": {},
     "output_type": "execute_result"
    }
   ],
   "source": [
    "all_csv"
   ]
  },
  {
   "cell_type": "code",
   "execution_count": 10,
   "metadata": {
    "colab": {
     "base_uri": "https://localhost:8080/",
     "height": 53
    },
    "execution": {
     "iopub.execute_input": "2024-12-19T14:58:24.629477Z",
     "iopub.status.busy": "2024-12-19T14:58:24.629268Z",
     "iopub.status.idle": "2024-12-19T14:58:24.639330Z",
     "shell.execute_reply": "2024-12-19T14:58:24.638639Z",
     "shell.execute_reply.started": "2024-12-19T14:58:24.629458Z"
    },
    "id": "zm9h2f0rBad4",
    "outputId": "9bd1a4c5-6dff-4fbb-8589-fdab9099b171",
    "trusted": true
   },
   "outputs": [
    {
     "data": {
      "text/html": [
       "<div>\n",
       "<style scoped>\n",
       "    .dataframe tbody tr th:only-of-type {\n",
       "        vertical-align: middle;\n",
       "    }\n",
       "\n",
       "    .dataframe tbody tr th {\n",
       "        vertical-align: top;\n",
       "    }\n",
       "\n",
       "    .dataframe thead th {\n",
       "        text-align: right;\n",
       "    }\n",
       "</style>\n",
       "<table border=\"1\" class=\"dataframe\">\n",
       "  <thead>\n",
       "    <tr style=\"text-align: right;\">\n",
       "      <th></th>\n",
       "      <th>id</th>\n",
       "      <th>anger</th>\n",
       "      <th>disgust</th>\n",
       "      <th>fear</th>\n",
       "      <th>joy</th>\n",
       "      <th>sadness</th>\n",
       "      <th>lang</th>\n",
       "      <th>clean_message</th>\n",
       "      <th>surprise</th>\n",
       "    </tr>\n",
       "  </thead>\n",
       "  <tbody>\n",
       "  </tbody>\n",
       "</table>\n",
       "</div>"
      ],
      "text/plain": [
       "Empty DataFrame\n",
       "Columns: [id, anger, disgust, fear, joy, sadness, lang, clean_message, surprise]\n",
       "Index: []"
      ]
     },
     "execution_count": 10,
     "metadata": {},
     "output_type": "execute_result"
    }
   ],
   "source": [
    "all_csv[all_csv[\"lang\"]==\"eng\"]"
   ]
  },
  {
   "cell_type": "code",
   "execution_count": 11,
   "metadata": {
    "execution": {
     "iopub.execute_input": "2024-12-19T14:58:24.640387Z",
     "iopub.status.busy": "2024-12-19T14:58:24.640192Z",
     "iopub.status.idle": "2024-12-19T14:58:24.651564Z",
     "shell.execute_reply": "2024-12-19T14:58:24.650779Z",
     "shell.execute_reply.started": "2024-12-19T14:58:24.640369Z"
    },
    "id": "BDrtrsvCBad4",
    "trusted": true
   },
   "outputs": [],
   "source": [
    "# float_columns = all_csv.select_dtypes(include=['float64']).columns\n",
    "# # Check each column and convert only if there are no NaN values\n",
    "# for col in float_columns:\n",
    "#     if all_csv[col].isna().sum() == 0:  # No NaN values in the column\n",
    "#         print(f\"converting {kind} {task} {lang} column {col} to int\")\n",
    "#         all_csv[col] = all_csv[col].astype('int')\n",
    "#     else:\n",
    "#         print(f\"converting {kind} {task} {lang} column {col} to int\")"
   ]
  },
  {
   "cell_type": "code",
   "execution_count": 12,
   "metadata": {
    "execution": {
     "iopub.execute_input": "2024-12-19T14:58:24.652482Z",
     "iopub.status.busy": "2024-12-19T14:58:24.652289Z",
     "iopub.status.idle": "2024-12-19T14:58:24.666579Z",
     "shell.execute_reply": "2024-12-19T14:58:24.665840Z",
     "shell.execute_reply.started": "2024-12-19T14:58:24.652464Z"
    },
    "id": "zITfHiVrBad5",
    "trusted": true
   },
   "outputs": [],
   "source": [
    "train_data=all_csv\n"
   ]
  },
  {
   "cell_type": "code",
   "execution_count": 13,
   "metadata": {
    "execution": {
     "iopub.execute_input": "2024-12-19T14:58:24.667574Z",
     "iopub.status.busy": "2024-12-19T14:58:24.667286Z",
     "iopub.status.idle": "2024-12-19T14:58:24.681055Z",
     "shell.execute_reply": "2024-12-19T14:58:24.680259Z",
     "shell.execute_reply.started": "2024-12-19T14:58:24.667538Z"
    },
    "id": "kN_EpabwBad5",
    "trusted": true
   },
   "outputs": [],
   "source": [
    "# train_data = train_data.drop(columns=['disgust'],axis=1)\n"
   ]
  },
  {
   "cell_type": "code",
   "execution_count": 14,
   "metadata": {
    "colab": {
     "base_uri": "https://localhost:8080/",
     "height": 423
    },
    "execution": {
     "iopub.execute_input": "2024-12-19T14:58:24.682310Z",
     "iopub.status.busy": "2024-12-19T14:58:24.681995Z",
     "iopub.status.idle": "2024-12-19T14:58:24.712998Z",
     "shell.execute_reply": "2024-12-19T14:58:24.712405Z",
     "shell.execute_reply.started": "2024-12-19T14:58:24.682280Z"
    },
    "id": "7a-08HGownlu",
    "outputId": "43b94e4b-275c-41ab-a91b-4baf7cc028c7",
    "trusted": true
   },
   "outputs": [
    {
     "data": {
      "text/html": [
       "<div>\n",
       "<style scoped>\n",
       "    .dataframe tbody tr th:only-of-type {\n",
       "        vertical-align: middle;\n",
       "    }\n",
       "\n",
       "    .dataframe tbody tr th {\n",
       "        vertical-align: top;\n",
       "    }\n",
       "\n",
       "    .dataframe thead th {\n",
       "        text-align: right;\n",
       "    }\n",
       "</style>\n",
       "<table border=\"1\" class=\"dataframe\">\n",
       "  <thead>\n",
       "    <tr style=\"text-align: right;\">\n",
       "      <th></th>\n",
       "      <th>id</th>\n",
       "      <th>anger</th>\n",
       "      <th>disgust</th>\n",
       "      <th>fear</th>\n",
       "      <th>joy</th>\n",
       "      <th>sadness</th>\n",
       "      <th>lang</th>\n",
       "      <th>clean_message</th>\n",
       "      <th>surprise</th>\n",
       "    </tr>\n",
       "  </thead>\n",
       "  <tbody>\n",
       "    <tr>\n",
       "      <th>0</th>\n",
       "      <td>afr_train_track_a_00001</td>\n",
       "      <td>0</td>\n",
       "      <td>0</td>\n",
       "      <td>0</td>\n",
       "      <td>1</td>\n",
       "      <td>0</td>\n",
       "      <td>afr</td>\n",
       "      <td>ons sal gesondheidsprogramme in skole herinstel</td>\n",
       "      <td>0.0</td>\n",
       "    </tr>\n",
       "    <tr>\n",
       "      <th>1</th>\n",
       "      <td>afr_train_track_a_00002</td>\n",
       "      <td>0</td>\n",
       "      <td>0</td>\n",
       "      <td>0</td>\n",
       "      <td>1</td>\n",
       "      <td>0</td>\n",
       "      <td>afr</td>\n",
       "      <td>ons moet verstaan dat ons in landbou een groot...</td>\n",
       "      <td>0.0</td>\n",
       "    </tr>\n",
       "    <tr>\n",
       "      <th>2</th>\n",
       "      <td>afr_train_track_a_00003</td>\n",
       "      <td>0</td>\n",
       "      <td>0</td>\n",
       "      <td>0</td>\n",
       "      <td>1</td>\n",
       "      <td>0</td>\n",
       "      <td>afr</td>\n",
       "      <td>hulle is die trots van die boland en hulle hoo...</td>\n",
       "      <td>0.0</td>\n",
       "    </tr>\n",
       "    <tr>\n",
       "      <th>3</th>\n",
       "      <td>afr_train_track_a_00004</td>\n",
       "      <td>0</td>\n",
       "      <td>0</td>\n",
       "      <td>0</td>\n",
       "      <td>0</td>\n",
       "      <td>0</td>\n",
       "      <td>afr</td>\n",
       "      <td>ek sou nog baie voorbeelde vir u kon noem</td>\n",
       "      <td>0.0</td>\n",
       "    </tr>\n",
       "    <tr>\n",
       "      <th>4</th>\n",
       "      <td>afr_train_track_a_00005</td>\n",
       "      <td>0</td>\n",
       "      <td>0</td>\n",
       "      <td>0</td>\n",
       "      <td>1</td>\n",
       "      <td>0</td>\n",
       "      <td>afr</td>\n",
       "      <td>in ons bedryf loon dit gewoonlik om geduldig t...</td>\n",
       "      <td>0.0</td>\n",
       "    </tr>\n",
       "    <tr>\n",
       "      <th>...</th>\n",
       "      <td>...</td>\n",
       "      <td>...</td>\n",
       "      <td>...</td>\n",
       "      <td>...</td>\n",
       "      <td>...</td>\n",
       "      <td>...</td>\n",
       "      <td>...</td>\n",
       "      <td>...</td>\n",
       "      <td>...</td>\n",
       "    </tr>\n",
       "    <tr>\n",
       "      <th>22789</th>\n",
       "      <td>tir_train_track_a_03677</td>\n",
       "      <td>0</td>\n",
       "      <td>0</td>\n",
       "      <td>0</td>\n",
       "      <td>0</td>\n",
       "      <td>1</td>\n",
       "      <td>tir</td>\n",
       "      <td>ሕማቅ ስማዕ ጽንዓት ይሃብ ቤተስብን ምቅርብ መቃልስቱን መንግስተ ሰማይ የ...</td>\n",
       "      <td>0.0</td>\n",
       "    </tr>\n",
       "    <tr>\n",
       "      <th>22790</th>\n",
       "      <td>tir_train_track_a_03678</td>\n",
       "      <td>1</td>\n",
       "      <td>0</td>\n",
       "      <td>0</td>\n",
       "      <td>0</td>\n",
       "      <td>0</td>\n",
       "      <td>tir</td>\n",
       "      <td>ኣጃንዳ ክህቡና ደልዮም ዮም ዞም ሌያቡ</td>\n",
       "      <td>0.0</td>\n",
       "    </tr>\n",
       "    <tr>\n",
       "      <th>22791</th>\n",
       "      <td>tir_train_track_a_03679</td>\n",
       "      <td>0</td>\n",
       "      <td>0</td>\n",
       "      <td>0</td>\n",
       "      <td>0</td>\n",
       "      <td>0</td>\n",
       "      <td>tir</td>\n",
       "      <td>ኣብ መንጎ ኤርትራን ኢትዮጵያን ተፈጥሩ ዘሎ ሰላም ዝንቅንቆ የለን erit...</td>\n",
       "      <td>0.0</td>\n",
       "    </tr>\n",
       "    <tr>\n",
       "      <th>22792</th>\n",
       "      <td>tir_train_track_a_03680</td>\n",
       "      <td>0</td>\n",
       "      <td>0</td>\n",
       "      <td>0</td>\n",
       "      <td>0</td>\n",
       "      <td>0</td>\n",
       "      <td>tir</td>\n",
       "      <td>ብሪጣንያ ካብ ፈረንሳይ ዝሰግሩ ስደተኛታት ንምሓዝ ድሮንን ራዳርን ክጥቀም...</td>\n",
       "      <td>0.0</td>\n",
       "    </tr>\n",
       "    <tr>\n",
       "      <th>22793</th>\n",
       "      <td>tir_train_track_a_03681</td>\n",
       "      <td>0</td>\n",
       "      <td>0</td>\n",
       "      <td>0</td>\n",
       "      <td>0</td>\n",
       "      <td>0</td>\n",
       "      <td>tir</td>\n",
       "      <td>እቲ ዝገርም ስብሓት ካብ ገዛ ክወጽእ ኣይፍቀዶን ዝብል ሓበሬታ ረኺበ እዋ...</td>\n",
       "      <td>1.0</td>\n",
       "    </tr>\n",
       "  </tbody>\n",
       "</table>\n",
       "<p>22794 rows × 9 columns</p>\n",
       "</div>"
      ],
      "text/plain": [
       "                            id  anger  disgust  fear  joy  sadness lang  \\\n",
       "0      afr_train_track_a_00001      0        0     0    1        0  afr   \n",
       "1      afr_train_track_a_00002      0        0     0    1        0  afr   \n",
       "2      afr_train_track_a_00003      0        0     0    1        0  afr   \n",
       "3      afr_train_track_a_00004      0        0     0    0        0  afr   \n",
       "4      afr_train_track_a_00005      0        0     0    1        0  afr   \n",
       "...                        ...    ...      ...   ...  ...      ...  ...   \n",
       "22789  tir_train_track_a_03677      0        0     0    0        1  tir   \n",
       "22790  tir_train_track_a_03678      1        0     0    0        0  tir   \n",
       "22791  tir_train_track_a_03679      0        0     0    0        0  tir   \n",
       "22792  tir_train_track_a_03680      0        0     0    0        0  tir   \n",
       "22793  tir_train_track_a_03681      0        0     0    0        0  tir   \n",
       "\n",
       "                                           clean_message  surprise  \n",
       "0        ons sal gesondheidsprogramme in skole herinstel       0.0  \n",
       "1      ons moet verstaan dat ons in landbou een groot...       0.0  \n",
       "2      hulle is die trots van die boland en hulle hoo...       0.0  \n",
       "3              ek sou nog baie voorbeelde vir u kon noem       0.0  \n",
       "4      in ons bedryf loon dit gewoonlik om geduldig t...       0.0  \n",
       "...                                                  ...       ...  \n",
       "22789  ሕማቅ ስማዕ ጽንዓት ይሃብ ቤተስብን ምቅርብ መቃልስቱን መንግስተ ሰማይ የ...       0.0  \n",
       "22790                           ኣጃንዳ ክህቡና ደልዮም ዮም ዞም ሌያቡ       0.0  \n",
       "22791  ኣብ መንጎ ኤርትራን ኢትዮጵያን ተፈጥሩ ዘሎ ሰላም ዝንቅንቆ የለን erit...       0.0  \n",
       "22792  ብሪጣንያ ካብ ፈረንሳይ ዝሰግሩ ስደተኛታት ንምሓዝ ድሮንን ራዳርን ክጥቀም...       0.0  \n",
       "22793  እቲ ዝገርም ስብሓት ካብ ገዛ ክወጽእ ኣይፍቀዶን ዝብል ሓበሬታ ረኺበ እዋ...       1.0  \n",
       "\n",
       "[22794 rows x 9 columns]"
      ]
     },
     "execution_count": 14,
     "metadata": {},
     "output_type": "execute_result"
    }
   ],
   "source": [
    "\n",
    "train_data=train_data.fillna(0)\n",
    "\n",
    "train_data"
   ]
  },
  {
   "cell_type": "code",
   "execution_count": 15,
   "metadata": {
    "colab": {
     "base_uri": "https://localhost:8080/",
     "height": 423
    },
    "execution": {
     "iopub.execute_input": "2024-12-19T14:58:24.714131Z",
     "iopub.status.busy": "2024-12-19T14:58:24.713844Z",
     "iopub.status.idle": "2024-12-19T14:58:24.726171Z",
     "shell.execute_reply": "2024-12-19T14:58:24.725349Z",
     "shell.execute_reply.started": "2024-12-19T14:58:24.714108Z"
    },
    "id": "wWyOiTLLBad5",
    "outputId": "9d77a8d0-39be-4fdb-e7fc-49fbe980ebd9",
    "trusted": true
   },
   "outputs": [
    {
     "data": {
      "text/html": [
       "<div>\n",
       "<style scoped>\n",
       "    .dataframe tbody tr th:only-of-type {\n",
       "        vertical-align: middle;\n",
       "    }\n",
       "\n",
       "    .dataframe tbody tr th {\n",
       "        vertical-align: top;\n",
       "    }\n",
       "\n",
       "    .dataframe thead th {\n",
       "        text-align: right;\n",
       "    }\n",
       "</style>\n",
       "<table border=\"1\" class=\"dataframe\">\n",
       "  <thead>\n",
       "    <tr style=\"text-align: right;\">\n",
       "      <th></th>\n",
       "      <th>id</th>\n",
       "      <th>anger</th>\n",
       "      <th>disgust</th>\n",
       "      <th>fear</th>\n",
       "      <th>joy</th>\n",
       "      <th>sadness</th>\n",
       "      <th>lang</th>\n",
       "      <th>clean_message</th>\n",
       "      <th>surprise</th>\n",
       "    </tr>\n",
       "  </thead>\n",
       "  <tbody>\n",
       "    <tr>\n",
       "      <th>0</th>\n",
       "      <td>afr_train_track_a_00001</td>\n",
       "      <td>0</td>\n",
       "      <td>0</td>\n",
       "      <td>0</td>\n",
       "      <td>1</td>\n",
       "      <td>0</td>\n",
       "      <td>afr</td>\n",
       "      <td>ons sal gesondheidsprogramme in skole herinstel</td>\n",
       "      <td>0</td>\n",
       "    </tr>\n",
       "    <tr>\n",
       "      <th>1</th>\n",
       "      <td>afr_train_track_a_00002</td>\n",
       "      <td>0</td>\n",
       "      <td>0</td>\n",
       "      <td>0</td>\n",
       "      <td>1</td>\n",
       "      <td>0</td>\n",
       "      <td>afr</td>\n",
       "      <td>ons moet verstaan dat ons in landbou een groot...</td>\n",
       "      <td>0</td>\n",
       "    </tr>\n",
       "    <tr>\n",
       "      <th>2</th>\n",
       "      <td>afr_train_track_a_00003</td>\n",
       "      <td>0</td>\n",
       "      <td>0</td>\n",
       "      <td>0</td>\n",
       "      <td>1</td>\n",
       "      <td>0</td>\n",
       "      <td>afr</td>\n",
       "      <td>hulle is die trots van die boland en hulle hoo...</td>\n",
       "      <td>0</td>\n",
       "    </tr>\n",
       "    <tr>\n",
       "      <th>3</th>\n",
       "      <td>afr_train_track_a_00004</td>\n",
       "      <td>0</td>\n",
       "      <td>0</td>\n",
       "      <td>0</td>\n",
       "      <td>0</td>\n",
       "      <td>0</td>\n",
       "      <td>afr</td>\n",
       "      <td>ek sou nog baie voorbeelde vir u kon noem</td>\n",
       "      <td>0</td>\n",
       "    </tr>\n",
       "    <tr>\n",
       "      <th>4</th>\n",
       "      <td>afr_train_track_a_00005</td>\n",
       "      <td>0</td>\n",
       "      <td>0</td>\n",
       "      <td>0</td>\n",
       "      <td>1</td>\n",
       "      <td>0</td>\n",
       "      <td>afr</td>\n",
       "      <td>in ons bedryf loon dit gewoonlik om geduldig t...</td>\n",
       "      <td>0</td>\n",
       "    </tr>\n",
       "    <tr>\n",
       "      <th>...</th>\n",
       "      <td>...</td>\n",
       "      <td>...</td>\n",
       "      <td>...</td>\n",
       "      <td>...</td>\n",
       "      <td>...</td>\n",
       "      <td>...</td>\n",
       "      <td>...</td>\n",
       "      <td>...</td>\n",
       "      <td>...</td>\n",
       "    </tr>\n",
       "    <tr>\n",
       "      <th>22789</th>\n",
       "      <td>tir_train_track_a_03677</td>\n",
       "      <td>0</td>\n",
       "      <td>0</td>\n",
       "      <td>0</td>\n",
       "      <td>0</td>\n",
       "      <td>1</td>\n",
       "      <td>tir</td>\n",
       "      <td>ሕማቅ ስማዕ ጽንዓት ይሃብ ቤተስብን ምቅርብ መቃልስቱን መንግስተ ሰማይ የ...</td>\n",
       "      <td>0</td>\n",
       "    </tr>\n",
       "    <tr>\n",
       "      <th>22790</th>\n",
       "      <td>tir_train_track_a_03678</td>\n",
       "      <td>1</td>\n",
       "      <td>0</td>\n",
       "      <td>0</td>\n",
       "      <td>0</td>\n",
       "      <td>0</td>\n",
       "      <td>tir</td>\n",
       "      <td>ኣጃንዳ ክህቡና ደልዮም ዮም ዞም ሌያቡ</td>\n",
       "      <td>0</td>\n",
       "    </tr>\n",
       "    <tr>\n",
       "      <th>22791</th>\n",
       "      <td>tir_train_track_a_03679</td>\n",
       "      <td>0</td>\n",
       "      <td>0</td>\n",
       "      <td>0</td>\n",
       "      <td>0</td>\n",
       "      <td>0</td>\n",
       "      <td>tir</td>\n",
       "      <td>ኣብ መንጎ ኤርትራን ኢትዮጵያን ተፈጥሩ ዘሎ ሰላም ዝንቅንቆ የለን erit...</td>\n",
       "      <td>0</td>\n",
       "    </tr>\n",
       "    <tr>\n",
       "      <th>22792</th>\n",
       "      <td>tir_train_track_a_03680</td>\n",
       "      <td>0</td>\n",
       "      <td>0</td>\n",
       "      <td>0</td>\n",
       "      <td>0</td>\n",
       "      <td>0</td>\n",
       "      <td>tir</td>\n",
       "      <td>ብሪጣንያ ካብ ፈረንሳይ ዝሰግሩ ስደተኛታት ንምሓዝ ድሮንን ራዳርን ክጥቀም...</td>\n",
       "      <td>0</td>\n",
       "    </tr>\n",
       "    <tr>\n",
       "      <th>22793</th>\n",
       "      <td>tir_train_track_a_03681</td>\n",
       "      <td>0</td>\n",
       "      <td>0</td>\n",
       "      <td>0</td>\n",
       "      <td>0</td>\n",
       "      <td>0</td>\n",
       "      <td>tir</td>\n",
       "      <td>እቲ ዝገርም ስብሓት ካብ ገዛ ክወጽእ ኣይፍቀዶን ዝብል ሓበሬታ ረኺበ እዋ...</td>\n",
       "      <td>1</td>\n",
       "    </tr>\n",
       "  </tbody>\n",
       "</table>\n",
       "<p>22794 rows × 9 columns</p>\n",
       "</div>"
      ],
      "text/plain": [
       "                            id  anger  disgust  fear  joy  sadness lang  \\\n",
       "0      afr_train_track_a_00001      0        0     0    1        0  afr   \n",
       "1      afr_train_track_a_00002      0        0     0    1        0  afr   \n",
       "2      afr_train_track_a_00003      0        0     0    1        0  afr   \n",
       "3      afr_train_track_a_00004      0        0     0    0        0  afr   \n",
       "4      afr_train_track_a_00005      0        0     0    1        0  afr   \n",
       "...                        ...    ...      ...   ...  ...      ...  ...   \n",
       "22789  tir_train_track_a_03677      0        0     0    0        1  tir   \n",
       "22790  tir_train_track_a_03678      1        0     0    0        0  tir   \n",
       "22791  tir_train_track_a_03679      0        0     0    0        0  tir   \n",
       "22792  tir_train_track_a_03680      0        0     0    0        0  tir   \n",
       "22793  tir_train_track_a_03681      0        0     0    0        0  tir   \n",
       "\n",
       "                                           clean_message  surprise  \n",
       "0        ons sal gesondheidsprogramme in skole herinstel         0  \n",
       "1      ons moet verstaan dat ons in landbou een groot...         0  \n",
       "2      hulle is die trots van die boland en hulle hoo...         0  \n",
       "3              ek sou nog baie voorbeelde vir u kon noem         0  \n",
       "4      in ons bedryf loon dit gewoonlik om geduldig t...         0  \n",
       "...                                                  ...       ...  \n",
       "22789  ሕማቅ ስማዕ ጽንዓት ይሃብ ቤተስብን ምቅርብ መቃልስቱን መንግስተ ሰማይ የ...         0  \n",
       "22790                           ኣጃንዳ ክህቡና ደልዮም ዮም ዞም ሌያቡ         0  \n",
       "22791  ኣብ መንጎ ኤርትራን ኢትዮጵያን ተፈጥሩ ዘሎ ሰላም ዝንቅንቆ የለን erit...         0  \n",
       "22792  ብሪጣንያ ካብ ፈረንሳይ ዝሰግሩ ስደተኛታት ንምሓዝ ድሮንን ራዳርን ክጥቀም...         0  \n",
       "22793  እቲ ዝገርም ስብሓት ካብ ገዛ ክወጽእ ኣይፍቀዶን ዝብል ሓበሬታ ረኺበ እዋ...         1  \n",
       "\n",
       "[22794 rows x 9 columns]"
      ]
     },
     "execution_count": 15,
     "metadata": {},
     "output_type": "execute_result"
    }
   ],
   "source": [
    "float_columns = train_data.select_dtypes(include=['float64']).columns\n",
    "\n",
    "# Convert those columns to int\n",
    "train_data[float_columns] = train_data[float_columns].astype('int')\n",
    "train_data"
   ]
  },
  {
   "cell_type": "code",
   "execution_count": 16,
   "metadata": {
    "colab": {
     "base_uri": "https://localhost:8080/",
     "height": 366
    },
    "execution": {
     "iopub.execute_input": "2024-12-19T14:58:24.727285Z",
     "iopub.status.busy": "2024-12-19T14:58:24.726982Z",
     "iopub.status.idle": "2024-12-19T14:58:24.742490Z",
     "shell.execute_reply": "2024-12-19T14:58:24.741668Z",
     "shell.execute_reply.started": "2024-12-19T14:58:24.727252Z"
    },
    "id": "LfElY7blBad5",
    "outputId": "fb21a4f9-ff4b-4b85-8fb3-0b457d7f239d",
    "trusted": true
   },
   "outputs": [
    {
     "data": {
      "text/plain": [
       "id               object\n",
       "anger             int64\n",
       "disgust           int64\n",
       "fear              int64\n",
       "joy               int64\n",
       "sadness           int64\n",
       "lang             object\n",
       "clean_message    object\n",
       "surprise          int64\n",
       "dtype: object"
      ]
     },
     "execution_count": 16,
     "metadata": {},
     "output_type": "execute_result"
    }
   ],
   "source": [
    "train_data.dtypes"
   ]
  },
  {
   "cell_type": "code",
   "execution_count": 17,
   "metadata": {
    "colab": {
     "base_uri": "https://localhost:8080/",
     "height": 423
    },
    "execution": {
     "iopub.execute_input": "2024-12-19T14:58:24.743544Z",
     "iopub.status.busy": "2024-12-19T14:58:24.743314Z",
     "iopub.status.idle": "2024-12-19T14:58:24.772157Z",
     "shell.execute_reply": "2024-12-19T14:58:24.771497Z",
     "shell.execute_reply.started": "2024-12-19T14:58:24.743513Z"
    },
    "id": "tlabsablmWzT",
    "outputId": "c403a470-dfa2-4e5b-d1ab-a55ab7764858",
    "trusted": true
   },
   "outputs": [
    {
     "data": {
      "text/html": [
       "<div>\n",
       "<style scoped>\n",
       "    .dataframe tbody tr th:only-of-type {\n",
       "        vertical-align: middle;\n",
       "    }\n",
       "\n",
       "    .dataframe tbody tr th {\n",
       "        vertical-align: top;\n",
       "    }\n",
       "\n",
       "    .dataframe thead th {\n",
       "        text-align: right;\n",
       "    }\n",
       "</style>\n",
       "<table border=\"1\" class=\"dataframe\">\n",
       "  <thead>\n",
       "    <tr style=\"text-align: right;\">\n",
       "      <th></th>\n",
       "      <th>index</th>\n",
       "      <th>id</th>\n",
       "      <th>anger</th>\n",
       "      <th>disgust</th>\n",
       "      <th>fear</th>\n",
       "      <th>joy</th>\n",
       "      <th>sadness</th>\n",
       "      <th>lang</th>\n",
       "      <th>clean_message</th>\n",
       "      <th>surprise</th>\n",
       "    </tr>\n",
       "  </thead>\n",
       "  <tbody>\n",
       "    <tr>\n",
       "      <th>0</th>\n",
       "      <td>0</td>\n",
       "      <td>afr_train_track_a_00001</td>\n",
       "      <td>0</td>\n",
       "      <td>0</td>\n",
       "      <td>0</td>\n",
       "      <td>1</td>\n",
       "      <td>0</td>\n",
       "      <td>afr</td>\n",
       "      <td>ons sal gesondheidsprogramme in skole herinstel</td>\n",
       "      <td>0</td>\n",
       "    </tr>\n",
       "    <tr>\n",
       "      <th>1</th>\n",
       "      <td>1</td>\n",
       "      <td>afr_train_track_a_00002</td>\n",
       "      <td>0</td>\n",
       "      <td>0</td>\n",
       "      <td>0</td>\n",
       "      <td>1</td>\n",
       "      <td>0</td>\n",
       "      <td>afr</td>\n",
       "      <td>ons moet verstaan dat ons in landbou een groot...</td>\n",
       "      <td>0</td>\n",
       "    </tr>\n",
       "    <tr>\n",
       "      <th>2</th>\n",
       "      <td>2</td>\n",
       "      <td>afr_train_track_a_00003</td>\n",
       "      <td>0</td>\n",
       "      <td>0</td>\n",
       "      <td>0</td>\n",
       "      <td>1</td>\n",
       "      <td>0</td>\n",
       "      <td>afr</td>\n",
       "      <td>hulle is die trots van die boland en hulle hoo...</td>\n",
       "      <td>0</td>\n",
       "    </tr>\n",
       "    <tr>\n",
       "      <th>3</th>\n",
       "      <td>3</td>\n",
       "      <td>afr_train_track_a_00004</td>\n",
       "      <td>0</td>\n",
       "      <td>0</td>\n",
       "      <td>0</td>\n",
       "      <td>0</td>\n",
       "      <td>0</td>\n",
       "      <td>afr</td>\n",
       "      <td>ek sou nog baie voorbeelde vir u kon noem</td>\n",
       "      <td>0</td>\n",
       "    </tr>\n",
       "    <tr>\n",
       "      <th>4</th>\n",
       "      <td>4</td>\n",
       "      <td>afr_train_track_a_00005</td>\n",
       "      <td>0</td>\n",
       "      <td>0</td>\n",
       "      <td>0</td>\n",
       "      <td>1</td>\n",
       "      <td>0</td>\n",
       "      <td>afr</td>\n",
       "      <td>in ons bedryf loon dit gewoonlik om geduldig t...</td>\n",
       "      <td>0</td>\n",
       "    </tr>\n",
       "    <tr>\n",
       "      <th>...</th>\n",
       "      <td>...</td>\n",
       "      <td>...</td>\n",
       "      <td>...</td>\n",
       "      <td>...</td>\n",
       "      <td>...</td>\n",
       "      <td>...</td>\n",
       "      <td>...</td>\n",
       "      <td>...</td>\n",
       "      <td>...</td>\n",
       "      <td>...</td>\n",
       "    </tr>\n",
       "    <tr>\n",
       "      <th>22789</th>\n",
       "      <td>22789</td>\n",
       "      <td>tir_train_track_a_03677</td>\n",
       "      <td>0</td>\n",
       "      <td>0</td>\n",
       "      <td>0</td>\n",
       "      <td>0</td>\n",
       "      <td>1</td>\n",
       "      <td>tir</td>\n",
       "      <td>ሕማቅ ስማዕ ጽንዓት ይሃብ ቤተስብን ምቅርብ መቃልስቱን መንግስተ ሰማይ የ...</td>\n",
       "      <td>0</td>\n",
       "    </tr>\n",
       "    <tr>\n",
       "      <th>22790</th>\n",
       "      <td>22790</td>\n",
       "      <td>tir_train_track_a_03678</td>\n",
       "      <td>1</td>\n",
       "      <td>0</td>\n",
       "      <td>0</td>\n",
       "      <td>0</td>\n",
       "      <td>0</td>\n",
       "      <td>tir</td>\n",
       "      <td>ኣጃንዳ ክህቡና ደልዮም ዮም ዞም ሌያቡ</td>\n",
       "      <td>0</td>\n",
       "    </tr>\n",
       "    <tr>\n",
       "      <th>22791</th>\n",
       "      <td>22791</td>\n",
       "      <td>tir_train_track_a_03679</td>\n",
       "      <td>0</td>\n",
       "      <td>0</td>\n",
       "      <td>0</td>\n",
       "      <td>0</td>\n",
       "      <td>0</td>\n",
       "      <td>tir</td>\n",
       "      <td>ኣብ መንጎ ኤርትራን ኢትዮጵያን ተፈጥሩ ዘሎ ሰላም ዝንቅንቆ የለን erit...</td>\n",
       "      <td>0</td>\n",
       "    </tr>\n",
       "    <tr>\n",
       "      <th>22792</th>\n",
       "      <td>22792</td>\n",
       "      <td>tir_train_track_a_03680</td>\n",
       "      <td>0</td>\n",
       "      <td>0</td>\n",
       "      <td>0</td>\n",
       "      <td>0</td>\n",
       "      <td>0</td>\n",
       "      <td>tir</td>\n",
       "      <td>ብሪጣንያ ካብ ፈረንሳይ ዝሰግሩ ስደተኛታት ንምሓዝ ድሮንን ራዳርን ክጥቀም...</td>\n",
       "      <td>0</td>\n",
       "    </tr>\n",
       "    <tr>\n",
       "      <th>22793</th>\n",
       "      <td>22793</td>\n",
       "      <td>tir_train_track_a_03681</td>\n",
       "      <td>0</td>\n",
       "      <td>0</td>\n",
       "      <td>0</td>\n",
       "      <td>0</td>\n",
       "      <td>0</td>\n",
       "      <td>tir</td>\n",
       "      <td>እቲ ዝገርም ስብሓት ካብ ገዛ ክወጽእ ኣይፍቀዶን ዝብል ሓበሬታ ረኺበ እዋ...</td>\n",
       "      <td>1</td>\n",
       "    </tr>\n",
       "  </tbody>\n",
       "</table>\n",
       "<p>22794 rows × 10 columns</p>\n",
       "</div>"
      ],
      "text/plain": [
       "       index                       id  anger  disgust  fear  joy  sadness  \\\n",
       "0          0  afr_train_track_a_00001      0        0     0    1        0   \n",
       "1          1  afr_train_track_a_00002      0        0     0    1        0   \n",
       "2          2  afr_train_track_a_00003      0        0     0    1        0   \n",
       "3          3  afr_train_track_a_00004      0        0     0    0        0   \n",
       "4          4  afr_train_track_a_00005      0        0     0    1        0   \n",
       "...      ...                      ...    ...      ...   ...  ...      ...   \n",
       "22789  22789  tir_train_track_a_03677      0        0     0    0        1   \n",
       "22790  22790  tir_train_track_a_03678      1        0     0    0        0   \n",
       "22791  22791  tir_train_track_a_03679      0        0     0    0        0   \n",
       "22792  22792  tir_train_track_a_03680      0        0     0    0        0   \n",
       "22793  22793  tir_train_track_a_03681      0        0     0    0        0   \n",
       "\n",
       "      lang                                      clean_message  surprise  \n",
       "0      afr    ons sal gesondheidsprogramme in skole herinstel         0  \n",
       "1      afr  ons moet verstaan dat ons in landbou een groot...         0  \n",
       "2      afr  hulle is die trots van die boland en hulle hoo...         0  \n",
       "3      afr          ek sou nog baie voorbeelde vir u kon noem         0  \n",
       "4      afr  in ons bedryf loon dit gewoonlik om geduldig t...         0  \n",
       "...    ...                                                ...       ...  \n",
       "22789  tir  ሕማቅ ስማዕ ጽንዓት ይሃብ ቤተስብን ምቅርብ መቃልስቱን መንግስተ ሰማይ የ...         0  \n",
       "22790  tir                           ኣጃንዳ ክህቡና ደልዮም ዮም ዞም ሌያቡ         0  \n",
       "22791  tir  ኣብ መንጎ ኤርትራን ኢትዮጵያን ተፈጥሩ ዘሎ ሰላም ዝንቅንቆ የለን erit...         0  \n",
       "22792  tir  ብሪጣንያ ካብ ፈረንሳይ ዝሰግሩ ስደተኛታት ንምሓዝ ድሮንን ራዳርን ክጥቀም...         0  \n",
       "22793  tir  እቲ ዝገርም ስብሓት ካብ ገዛ ክወጽእ ኣይፍቀዶን ዝብል ሓበሬታ ረኺበ እዋ...         1  \n",
       "\n",
       "[22794 rows x 10 columns]"
      ]
     },
     "execution_count": 17,
     "metadata": {},
     "output_type": "execute_result"
    }
   ],
   "source": [
    "train_data = train_data[\n",
    "\n",
    "train_data['clean_message'].isnull()==False]\n",
    "\n",
    "train_data.reset_index()"
   ]
  },
  {
   "cell_type": "code",
   "execution_count": 18,
   "metadata": {
    "colab": {
     "base_uri": "https://localhost:8080/",
     "height": 423
    },
    "execution": {
     "iopub.execute_input": "2024-12-19T14:58:24.773095Z",
     "iopub.status.busy": "2024-12-19T14:58:24.772871Z",
     "iopub.status.idle": "2024-12-19T14:58:24.783123Z",
     "shell.execute_reply": "2024-12-19T14:58:24.782392Z",
     "shell.execute_reply.started": "2024-12-19T14:58:24.773075Z"
    },
    "id": "3sl4zq2jBad6",
    "outputId": "a8e8152b-9e1b-4a36-e564-2236c7018aca",
    "trusted": true
   },
   "outputs": [
    {
     "data": {
      "text/html": [
       "<div>\n",
       "<style scoped>\n",
       "    .dataframe tbody tr th:only-of-type {\n",
       "        vertical-align: middle;\n",
       "    }\n",
       "\n",
       "    .dataframe tbody tr th {\n",
       "        vertical-align: top;\n",
       "    }\n",
       "\n",
       "    .dataframe thead th {\n",
       "        text-align: right;\n",
       "    }\n",
       "</style>\n",
       "<table border=\"1\" class=\"dataframe\">\n",
       "  <thead>\n",
       "    <tr style=\"text-align: right;\">\n",
       "      <th></th>\n",
       "      <th>id</th>\n",
       "      <th>anger</th>\n",
       "      <th>disgust</th>\n",
       "      <th>fear</th>\n",
       "      <th>joy</th>\n",
       "      <th>sadness</th>\n",
       "      <th>lang</th>\n",
       "      <th>clean_message</th>\n",
       "      <th>surprise</th>\n",
       "    </tr>\n",
       "  </thead>\n",
       "  <tbody>\n",
       "    <tr>\n",
       "      <th>0</th>\n",
       "      <td>afr_train_track_a_00001</td>\n",
       "      <td>0</td>\n",
       "      <td>0</td>\n",
       "      <td>0</td>\n",
       "      <td>1</td>\n",
       "      <td>0</td>\n",
       "      <td>afr</td>\n",
       "      <td>ons sal gesondheidsprogramme in skole herinstel</td>\n",
       "      <td>0</td>\n",
       "    </tr>\n",
       "    <tr>\n",
       "      <th>1</th>\n",
       "      <td>afr_train_track_a_00002</td>\n",
       "      <td>0</td>\n",
       "      <td>0</td>\n",
       "      <td>0</td>\n",
       "      <td>1</td>\n",
       "      <td>0</td>\n",
       "      <td>afr</td>\n",
       "      <td>ons moet verstaan dat ons in landbou een groot...</td>\n",
       "      <td>0</td>\n",
       "    </tr>\n",
       "    <tr>\n",
       "      <th>2</th>\n",
       "      <td>afr_train_track_a_00003</td>\n",
       "      <td>0</td>\n",
       "      <td>0</td>\n",
       "      <td>0</td>\n",
       "      <td>1</td>\n",
       "      <td>0</td>\n",
       "      <td>afr</td>\n",
       "      <td>hulle is die trots van die boland en hulle hoo...</td>\n",
       "      <td>0</td>\n",
       "    </tr>\n",
       "    <tr>\n",
       "      <th>3</th>\n",
       "      <td>afr_train_track_a_00004</td>\n",
       "      <td>0</td>\n",
       "      <td>0</td>\n",
       "      <td>0</td>\n",
       "      <td>0</td>\n",
       "      <td>0</td>\n",
       "      <td>afr</td>\n",
       "      <td>ek sou nog baie voorbeelde vir u kon noem</td>\n",
       "      <td>0</td>\n",
       "    </tr>\n",
       "    <tr>\n",
       "      <th>4</th>\n",
       "      <td>afr_train_track_a_00005</td>\n",
       "      <td>0</td>\n",
       "      <td>0</td>\n",
       "      <td>0</td>\n",
       "      <td>1</td>\n",
       "      <td>0</td>\n",
       "      <td>afr</td>\n",
       "      <td>in ons bedryf loon dit gewoonlik om geduldig t...</td>\n",
       "      <td>0</td>\n",
       "    </tr>\n",
       "    <tr>\n",
       "      <th>...</th>\n",
       "      <td>...</td>\n",
       "      <td>...</td>\n",
       "      <td>...</td>\n",
       "      <td>...</td>\n",
       "      <td>...</td>\n",
       "      <td>...</td>\n",
       "      <td>...</td>\n",
       "      <td>...</td>\n",
       "      <td>...</td>\n",
       "    </tr>\n",
       "    <tr>\n",
       "      <th>22789</th>\n",
       "      <td>tir_train_track_a_03677</td>\n",
       "      <td>0</td>\n",
       "      <td>0</td>\n",
       "      <td>0</td>\n",
       "      <td>0</td>\n",
       "      <td>1</td>\n",
       "      <td>tir</td>\n",
       "      <td>ሕማቅ ስማዕ ጽንዓት ይሃብ ቤተስብን ምቅርብ መቃልስቱን መንግስተ ሰማይ የ...</td>\n",
       "      <td>0</td>\n",
       "    </tr>\n",
       "    <tr>\n",
       "      <th>22790</th>\n",
       "      <td>tir_train_track_a_03678</td>\n",
       "      <td>1</td>\n",
       "      <td>0</td>\n",
       "      <td>0</td>\n",
       "      <td>0</td>\n",
       "      <td>0</td>\n",
       "      <td>tir</td>\n",
       "      <td>ኣጃንዳ ክህቡና ደልዮም ዮም ዞም ሌያቡ</td>\n",
       "      <td>0</td>\n",
       "    </tr>\n",
       "    <tr>\n",
       "      <th>22791</th>\n",
       "      <td>tir_train_track_a_03679</td>\n",
       "      <td>0</td>\n",
       "      <td>0</td>\n",
       "      <td>0</td>\n",
       "      <td>0</td>\n",
       "      <td>0</td>\n",
       "      <td>tir</td>\n",
       "      <td>ኣብ መንጎ ኤርትራን ኢትዮጵያን ተፈጥሩ ዘሎ ሰላም ዝንቅንቆ የለን erit...</td>\n",
       "      <td>0</td>\n",
       "    </tr>\n",
       "    <tr>\n",
       "      <th>22792</th>\n",
       "      <td>tir_train_track_a_03680</td>\n",
       "      <td>0</td>\n",
       "      <td>0</td>\n",
       "      <td>0</td>\n",
       "      <td>0</td>\n",
       "      <td>0</td>\n",
       "      <td>tir</td>\n",
       "      <td>ብሪጣንያ ካብ ፈረንሳይ ዝሰግሩ ስደተኛታት ንምሓዝ ድሮንን ራዳርን ክጥቀም...</td>\n",
       "      <td>0</td>\n",
       "    </tr>\n",
       "    <tr>\n",
       "      <th>22793</th>\n",
       "      <td>tir_train_track_a_03681</td>\n",
       "      <td>0</td>\n",
       "      <td>0</td>\n",
       "      <td>0</td>\n",
       "      <td>0</td>\n",
       "      <td>0</td>\n",
       "      <td>tir</td>\n",
       "      <td>እቲ ዝገርም ስብሓት ካብ ገዛ ክወጽእ ኣይፍቀዶን ዝብል ሓበሬታ ረኺበ እዋ...</td>\n",
       "      <td>1</td>\n",
       "    </tr>\n",
       "  </tbody>\n",
       "</table>\n",
       "<p>22794 rows × 9 columns</p>\n",
       "</div>"
      ],
      "text/plain": [
       "                            id  anger  disgust  fear  joy  sadness lang  \\\n",
       "0      afr_train_track_a_00001      0        0     0    1        0  afr   \n",
       "1      afr_train_track_a_00002      0        0     0    1        0  afr   \n",
       "2      afr_train_track_a_00003      0        0     0    1        0  afr   \n",
       "3      afr_train_track_a_00004      0        0     0    0        0  afr   \n",
       "4      afr_train_track_a_00005      0        0     0    1        0  afr   \n",
       "...                        ...    ...      ...   ...  ...      ...  ...   \n",
       "22789  tir_train_track_a_03677      0        0     0    0        1  tir   \n",
       "22790  tir_train_track_a_03678      1        0     0    0        0  tir   \n",
       "22791  tir_train_track_a_03679      0        0     0    0        0  tir   \n",
       "22792  tir_train_track_a_03680      0        0     0    0        0  tir   \n",
       "22793  tir_train_track_a_03681      0        0     0    0        0  tir   \n",
       "\n",
       "                                           clean_message  surprise  \n",
       "0        ons sal gesondheidsprogramme in skole herinstel         0  \n",
       "1      ons moet verstaan dat ons in landbou een groot...         0  \n",
       "2      hulle is die trots van die boland en hulle hoo...         0  \n",
       "3              ek sou nog baie voorbeelde vir u kon noem         0  \n",
       "4      in ons bedryf loon dit gewoonlik om geduldig t...         0  \n",
       "...                                                  ...       ...  \n",
       "22789  ሕማቅ ስማዕ ጽንዓት ይሃብ ቤተስብን ምቅርብ መቃልስቱን መንግስተ ሰማይ የ...         0  \n",
       "22790                           ኣጃንዳ ክህቡና ደልዮም ዮም ዞም ሌያቡ         0  \n",
       "22791  ኣብ መንጎ ኤርትራን ኢትዮጵያን ተፈጥሩ ዘሎ ሰላም ዝንቅንቆ የለን erit...         0  \n",
       "22792  ብሪጣንያ ካብ ፈረንሳይ ዝሰግሩ ስደተኛታት ንምሓዝ ድሮንን ራዳርን ክጥቀም...         0  \n",
       "22793  እቲ ዝገርም ስብሓት ካብ ገዛ ክወጽእ ኣይፍቀዶን ዝብል ሓበሬታ ረኺበ እዋ...         1  \n",
       "\n",
       "[22794 rows x 9 columns]"
      ]
     },
     "execution_count": 18,
     "metadata": {},
     "output_type": "execute_result"
    }
   ],
   "source": [
    "train_data"
   ]
  },
  {
   "cell_type": "code",
   "execution_count": 19,
   "metadata": {
    "execution": {
     "iopub.execute_input": "2024-12-19T14:58:24.784218Z",
     "iopub.status.busy": "2024-12-19T14:58:24.783943Z",
     "iopub.status.idle": "2024-12-19T14:58:24.795605Z",
     "shell.execute_reply": "2024-12-19T14:58:24.794930Z",
     "shell.execute_reply.started": "2024-12-19T14:58:24.784180Z"
    },
    "id": "2RXwzOOkBad6",
    "trusted": true
   },
   "outputs": [],
   "source": [
    "label_columns =['anger', 'fear', 'joy', 'sadness', 'surprise']"
   ]
  },
  {
   "cell_type": "code",
   "execution_count": 20,
   "metadata": {
    "colab": {
     "base_uri": "https://localhost:8080/",
     "height": 366
    },
    "execution": {
     "iopub.execute_input": "2024-12-19T14:58:24.796616Z",
     "iopub.status.busy": "2024-12-19T14:58:24.796343Z",
     "iopub.status.idle": "2024-12-19T14:58:24.816579Z",
     "shell.execute_reply": "2024-12-19T14:58:24.815857Z",
     "shell.execute_reply.started": "2024-12-19T14:58:24.796581Z"
    },
    "id": "5SDZ3wEUBad6",
    "outputId": "133e0d74-5eaa-4a1e-8708-f91d72da4756",
    "trusted": true
   },
   "outputs": [
    {
     "data": {
      "text/plain": [
       "lang\n",
       "tir     3681\n",
       "amh     3549\n",
       "oro     3442\n",
       "som     3392\n",
       "rus     2679\n",
       "deu     2603\n",
       "ptbr    2226\n",
       "afr     1222\n",
       "Name: count, dtype: int64"
      ]
     },
     "execution_count": 20,
     "metadata": {},
     "output_type": "execute_result"
    }
   ],
   "source": [
    "train_data['lang'].value_counts()"
   ]
  },
  {
   "cell_type": "code",
   "execution_count": 21,
   "metadata": {
    "colab": {
     "base_uri": "https://localhost:8080/"
    },
    "execution": {
     "iopub.execute_input": "2024-12-19T14:58:24.817544Z",
     "iopub.status.busy": "2024-12-19T14:58:24.817268Z",
     "iopub.status.idle": "2024-12-19T14:58:24.833951Z",
     "shell.execute_reply": "2024-12-19T14:58:24.833354Z",
     "shell.execute_reply.started": "2024-12-19T14:58:24.817514Z"
    },
    "id": "5ubyh_YPBad6",
    "outputId": "73cc4eb8-24e2-443c-ca9a-72d582821ad6",
    "trusted": true
   },
   "outputs": [
    {
     "data": {
      "text/plain": [
       "0"
      ]
     },
     "execution_count": 21,
     "metadata": {},
     "output_type": "execute_result"
    }
   ],
   "source": [
    "sum(train_data['lang'].isna())"
   ]
  },
  {
   "cell_type": "code",
   "execution_count": 22,
   "metadata": {
    "colab": {
     "base_uri": "https://localhost:8080/",
     "height": 89
    },
    "execution": {
     "iopub.execute_input": "2024-12-19T14:58:24.834910Z",
     "iopub.status.busy": "2024-12-19T14:58:24.834666Z",
     "iopub.status.idle": "2024-12-19T14:58:24.853766Z",
     "shell.execute_reply": "2024-12-19T14:58:24.853099Z",
     "shell.execute_reply.started": "2024-12-19T14:58:24.834880Z"
    },
    "id": "8lubfAyYBad6",
    "outputId": "b1aa0170-b9ef-4e88-df24-2f6253ec9cd4",
    "trusted": true
   },
   "outputs": [
    {
     "data": {
      "text/html": [
       "<div>\n",
       "<style scoped>\n",
       "    .dataframe tbody tr th:only-of-type {\n",
       "        vertical-align: middle;\n",
       "    }\n",
       "\n",
       "    .dataframe tbody tr th {\n",
       "        vertical-align: top;\n",
       "    }\n",
       "\n",
       "    .dataframe thead th {\n",
       "        text-align: right;\n",
       "    }\n",
       "</style>\n",
       "<table border=\"1\" class=\"dataframe\">\n",
       "  <thead>\n",
       "    <tr style=\"text-align: right;\">\n",
       "      <th></th>\n",
       "      <th>id</th>\n",
       "      <th>anger</th>\n",
       "      <th>disgust</th>\n",
       "      <th>fear</th>\n",
       "      <th>joy</th>\n",
       "      <th>sadness</th>\n",
       "      <th>lang</th>\n",
       "      <th>clean_message</th>\n",
       "      <th>surprise</th>\n",
       "    </tr>\n",
       "  </thead>\n",
       "  <tbody>\n",
       "  </tbody>\n",
       "</table>\n",
       "</div>"
      ],
      "text/plain": [
       "Empty DataFrame\n",
       "Columns: [id, anger, disgust, fear, joy, sadness, lang, clean_message, surprise]\n",
       "Index: []"
      ]
     },
     "execution_count": 22,
     "metadata": {},
     "output_type": "execute_result"
    }
   ],
   "source": [
    "nan_rows = train_data[train_data.isna().any(axis=1)]\n",
    "nan_rows\n",
    "# Group by 'lang' and list the rows with NaNs for each language\n",
    "# nan_by_language = nan_rows.groupby('lang').apply(lambda x: x)\n",
    "\n",
    "# Display the result\n",
    "# print(nan_by_language)"
   ]
  },
  {
   "cell_type": "code",
   "execution_count": 23,
   "metadata": {
    "colab": {
     "base_uri": "https://localhost:8080/",
     "height": 53
    },
    "execution": {
     "iopub.execute_input": "2024-12-19T14:58:24.858455Z",
     "iopub.status.busy": "2024-12-19T14:58:24.858252Z",
     "iopub.status.idle": "2024-12-19T14:58:24.867613Z",
     "shell.execute_reply": "2024-12-19T14:58:24.867014Z",
     "shell.execute_reply.started": "2024-12-19T14:58:24.858437Z"
    },
    "id": "egecP3nTBad6",
    "outputId": "c3e4e25e-0211-435a-f1c4-dd1fda5822ac",
    "trusted": true
   },
   "outputs": [
    {
     "data": {
      "text/html": [
       "<div>\n",
       "<style scoped>\n",
       "    .dataframe tbody tr th:only-of-type {\n",
       "        vertical-align: middle;\n",
       "    }\n",
       "\n",
       "    .dataframe tbody tr th {\n",
       "        vertical-align: top;\n",
       "    }\n",
       "\n",
       "    .dataframe thead th {\n",
       "        text-align: right;\n",
       "    }\n",
       "</style>\n",
       "<table border=\"1\" class=\"dataframe\">\n",
       "  <thead>\n",
       "    <tr style=\"text-align: right;\">\n",
       "      <th></th>\n",
       "      <th>id</th>\n",
       "      <th>anger</th>\n",
       "      <th>disgust</th>\n",
       "      <th>fear</th>\n",
       "      <th>joy</th>\n",
       "      <th>sadness</th>\n",
       "      <th>lang</th>\n",
       "      <th>clean_message</th>\n",
       "      <th>surprise</th>\n",
       "    </tr>\n",
       "  </thead>\n",
       "  <tbody>\n",
       "  </tbody>\n",
       "</table>\n",
       "</div>"
      ],
      "text/plain": [
       "Empty DataFrame\n",
       "Columns: [id, anger, disgust, fear, joy, sadness, lang, clean_message, surprise]\n",
       "Index: []"
      ]
     },
     "execution_count": 23,
     "metadata": {},
     "output_type": "execute_result"
    }
   ],
   "source": [
    "nan_rows[nan_rows[\"lang\"]==\"eng\"]"
   ]
  },
  {
   "cell_type": "code",
   "execution_count": 24,
   "metadata": {
    "colab": {
     "base_uri": "https://localhost:8080/",
     "height": 366
    },
    "execution": {
     "iopub.execute_input": "2024-12-19T14:58:24.869793Z",
     "iopub.status.busy": "2024-12-19T14:58:24.869552Z",
     "iopub.status.idle": "2024-12-19T14:58:24.884670Z",
     "shell.execute_reply": "2024-12-19T14:58:24.883998Z",
     "shell.execute_reply.started": "2024-12-19T14:58:24.869771Z"
    },
    "id": "kweBEYKVBad6",
    "outputId": "8a1db74e-4fc0-49b4-d39e-12d467044590",
    "trusted": true
   },
   "outputs": [
    {
     "data": {
      "text/plain": [
       "id               object\n",
       "anger             int64\n",
       "disgust           int64\n",
       "fear              int64\n",
       "joy               int64\n",
       "sadness           int64\n",
       "lang             object\n",
       "clean_message    object\n",
       "surprise          int64\n",
       "dtype: object"
      ]
     },
     "execution_count": 24,
     "metadata": {},
     "output_type": "execute_result"
    }
   ],
   "source": [
    "train_data[train_data[\"lang\"]==\"deu\"].dtypes"
   ]
  },
  {
   "cell_type": "code",
   "execution_count": 25,
   "metadata": {
    "colab": {
     "base_uri": "https://localhost:8080/"
    },
    "execution": {
     "iopub.execute_input": "2024-12-19T14:58:24.885630Z",
     "iopub.status.busy": "2024-12-19T14:58:24.885360Z",
     "iopub.status.idle": "2024-12-19T14:58:25.020155Z",
     "shell.execute_reply": "2024-12-19T14:58:25.019548Z",
     "shell.execute_reply.started": "2024-12-19T14:58:24.885597Z"
    },
    "id": "JhtGZAd5Bad7",
    "outputId": "e75d5118-4103-4c57-9d3a-9a986f2d1e93",
    "trusted": true
   },
   "outputs": [
    {
     "name": "stdout",
     "output_type": "stream",
     "text": [
      "afr anger [0 1]\n",
      "afr fear [0 1]\n",
      "afr joy [1 0]\n",
      "afr sadness [0 1]\n",
      "afr surprise [0]\n",
      "amh anger [0 1]\n",
      "amh fear [0 1]\n",
      "amh joy [1 0]\n",
      "amh sadness [0 1]\n",
      "amh surprise [0]\n",
      "deu anger [0 1]\n",
      "deu fear [0 1]\n",
      "deu joy [1 0]\n",
      "deu sadness [0 1]\n",
      "deu surprise [0]\n",
      "eng anger [0 1]\n",
      "eng fear [0 1]\n",
      "eng joy [1 0]\n",
      "eng sadness [0 1]\n",
      "eng surprise [0]\n",
      "oro anger [0 1]\n",
      "oro fear [0 1]\n",
      "oro joy [1 0]\n",
      "oro sadness [0 1]\n",
      "oro surprise [0]\n",
      "ptbr anger [0 1]\n",
      "ptbr fear [0 1]\n",
      "ptbr joy [1 0]\n",
      "ptbr sadness [0 1]\n",
      "ptbr surprise [0]\n",
      "rus anger [0 1]\n",
      "rus fear [0 1]\n",
      "rus joy [1 0]\n",
      "rus sadness [0 1]\n",
      "rus surprise [0]\n",
      "som anger [0 1]\n",
      "som fear [0 1]\n",
      "som joy [1 0]\n",
      "som sadness [0 1]\n",
      "som surprise [0]\n",
      "sum anger [0 1]\n",
      "sum fear [0 1]\n",
      "sum joy [1 0]\n",
      "sum sadness [0 1]\n",
      "sum surprise [0]\n",
      "tir anger [0 1]\n",
      "tir fear [0 1]\n",
      "tir joy [1 0]\n",
      "tir sadness [0 1]\n",
      "tir surprise [0]\n"
     ]
    }
   ],
   "source": [
    "for lang in langs:\n",
    "    for label in label_columns:\n",
    "        print(lang,label,train_data[train_data[\"lang\"]==\"afr\"][label].unique())"
   ]
  },
  {
   "cell_type": "code",
   "execution_count": 26,
   "metadata": {
    "colab": {
     "base_uri": "https://localhost:8080/",
     "height": 115
    },
    "execution": {
     "iopub.execute_input": "2024-12-19T14:58:25.021247Z",
     "iopub.status.busy": "2024-12-19T14:58:25.020933Z",
     "iopub.status.idle": "2024-12-19T14:58:25.026878Z",
     "shell.execute_reply": "2024-12-19T14:58:25.026107Z",
     "shell.execute_reply.started": "2024-12-19T14:58:25.021216Z"
    },
    "id": "dkMYBknIBad7",
    "outputId": "5b465640-59ae-485f-e1c2-4716a0a081ca",
    "trusted": true
   },
   "outputs": [
    {
     "data": {
      "text/plain": [
       "Series([], Name: count, dtype: int64)"
      ]
     },
     "execution_count": 26,
     "metadata": {},
     "output_type": "execute_result"
    }
   ],
   "source": [
    "nan_rows[\"lang\"].value_counts()"
   ]
  },
  {
   "cell_type": "code",
   "execution_count": 27,
   "metadata": {
    "colab": {
     "base_uri": "https://localhost:8080/",
     "height": 366
    },
    "execution": {
     "iopub.execute_input": "2024-12-19T14:58:25.027925Z",
     "iopub.status.busy": "2024-12-19T14:58:25.027662Z",
     "iopub.status.idle": "2024-12-19T14:58:25.042711Z",
     "shell.execute_reply": "2024-12-19T14:58:25.041886Z",
     "shell.execute_reply.started": "2024-12-19T14:58:25.027895Z"
    },
    "id": "OrpSoZdfBad7",
    "outputId": "e70b6787-a195-44b6-b234-d6a69d325a3e",
    "trusted": true
   },
   "outputs": [
    {
     "data": {
      "text/plain": [
       "id               object\n",
       "anger             int64\n",
       "disgust           int64\n",
       "fear              int64\n",
       "joy               int64\n",
       "sadness           int64\n",
       "lang             object\n",
       "clean_message    object\n",
       "surprise          int64\n",
       "dtype: object"
      ]
     },
     "execution_count": 27,
     "metadata": {},
     "output_type": "execute_result"
    }
   ],
   "source": [
    "nan_rows.dtypes"
   ]
  },
  {
   "cell_type": "code",
   "execution_count": 28,
   "metadata": {
    "colab": {
     "base_uri": "https://localhost:8080/"
    },
    "execution": {
     "iopub.execute_input": "2024-12-19T14:58:25.043762Z",
     "iopub.status.busy": "2024-12-19T14:58:25.043529Z",
     "iopub.status.idle": "2024-12-19T14:58:25.094839Z",
     "shell.execute_reply": "2024-12-19T14:58:25.094230Z",
     "shell.execute_reply.started": "2024-12-19T14:58:25.043729Z"
    },
    "id": "a1FDeJieBad7",
    "outputId": "fa69c6d5-6c8b-4c7e-c877-f42afc2b262d",
    "trusted": true
   },
   "outputs": [
    {
     "name": "stdout",
     "output_type": "stream",
     "text": [
      "              id  disgust   fear    joy  sadness  lang  clean_message  \\\n",
      "lang                                                                    \n",
      "afr  0      True    False  False   True    False  True           True   \n",
      "     1      True    False  False   True    False  True           True   \n",
      "     2      True    False  False   True    False  True           True   \n",
      "     3      True    False  False  False    False  True           True   \n",
      "     4      True    False  False   True    False  True           True   \n",
      "...          ...      ...    ...    ...      ...   ...            ...   \n",
      "tir  22789  True    False  False  False     True  True           True   \n",
      "     22790  True    False  False  False    False  True           True   \n",
      "     22791  True    False  False  False    False  True           True   \n",
      "     22792  True    False  False  False    False  True           True   \n",
      "     22793  True    False  False  False    False  True           True   \n",
      "\n",
      "            surprise  \n",
      "lang                  \n",
      "afr  0         False  \n",
      "     1         False  \n",
      "     2         False  \n",
      "     3         False  \n",
      "     4         False  \n",
      "...              ...  \n",
      "tir  22789     False  \n",
      "     22790     False  \n",
      "     22791     False  \n",
      "     22792     False  \n",
      "     22793      True  \n",
      "\n",
      "[22794 rows x 8 columns]\n"
     ]
    }
   ],
   "source": [
    "# Step 2: Count how many columns are not 0 or 1 for each language\n",
    "def count_nonzero_nonone_rows(group):\n",
    "    # Exclude the 'lang' column from counting if needed\n",
    "    # Use boolean conditions to count values that are not 0 or 1\n",
    "    return (group.drop(columns='anger') != 0) & (group.drop(columns='anger') != 1).sum(axis=1).sum()\n",
    "\n",
    "# Group by 'lang' and apply the function to count non-zero, non-one values\n",
    "non_zero_non_one_counts = train_data.groupby('lang').apply(count_nonzero_nonone_rows)\n",
    "\n",
    "# Display the results\n",
    "# result = pd.DataFrame({\n",
    "#     'row_count': lang_row_counts,\n",
    "#     'non_zero_non_one_count': non_zero_non_one_counts\n",
    "# })\n",
    "\n",
    "print(non_zero_non_one_counts)"
   ]
  },
  {
   "cell_type": "code",
   "execution_count": 29,
   "metadata": {
    "execution": {
     "iopub.execute_input": "2024-12-19T14:58:25.095665Z",
     "iopub.status.busy": "2024-12-19T14:58:25.095454Z",
     "iopub.status.idle": "2024-12-19T14:58:25.099070Z",
     "shell.execute_reply": "2024-12-19T14:58:25.098126Z",
     "shell.execute_reply.started": "2024-12-19T14:58:25.095645Z"
    },
    "id": "BlryRwZ9Bad7",
    "trusted": true
   },
   "outputs": [],
   "source": [
    "label_columns =['anger', 'fear', 'joy', 'sadness', 'surprise']\n"
   ]
  },
  {
   "cell_type": "code",
   "execution_count": 30,
   "metadata": {
    "execution": {
     "iopub.execute_input": "2024-12-19T14:58:25.100345Z",
     "iopub.status.busy": "2024-12-19T14:58:25.100016Z",
     "iopub.status.idle": "2024-12-19T14:58:25.115309Z",
     "shell.execute_reply": "2024-12-19T14:58:25.114643Z",
     "shell.execute_reply.started": "2024-12-19T14:58:25.100312Z"
    },
    "id": "Efx2E-A4Bad7",
    "trusted": true
   },
   "outputs": [],
   "source": [
    "# shuffle data\n",
    "train_data=train_data.sample(frac=1,random_state=42)\n",
    "# train_data=train_data.sample(100,random_state=42)\n"
   ]
  },
  {
   "cell_type": "code",
   "execution_count": 31,
   "metadata": {
    "execution": {
     "iopub.execute_input": "2024-12-19T14:58:25.116201Z",
     "iopub.status.busy": "2024-12-19T14:58:25.115965Z",
     "iopub.status.idle": "2024-12-19T14:58:25.131928Z",
     "shell.execute_reply": "2024-12-19T14:58:25.131170Z",
     "shell.execute_reply.started": "2024-12-19T14:58:25.116181Z"
    },
    "id": "QfMcAI26Bad7",
    "trusted": true
   },
   "outputs": [],
   "source": [
    "# train valid split\n",
    "train,valid=train_test_split(train_data,test_size=0.2,random_state=42)"
   ]
  },
  {
   "cell_type": "code",
   "execution_count": 32,
   "metadata": {
    "execution": {
     "iopub.execute_input": "2024-12-19T14:58:25.133011Z",
     "iopub.status.busy": "2024-12-19T14:58:25.132708Z",
     "iopub.status.idle": "2024-12-19T14:58:25.154161Z",
     "shell.execute_reply": "2024-12-19T14:58:25.153516Z",
     "shell.execute_reply.started": "2024-12-19T14:58:25.132974Z"
    },
    "id": "K0MsuYqpBad8",
    "trusted": true
   },
   "outputs": [],
   "source": [
    "x_train, y_train = train['clean_message'].values.tolist(), train[label_columns].values.tolist()\n",
    "\n",
    "x_valid, y_valid = valid['clean_message'].values.tolist(), valid[label_columns].values.tolist()"
   ]
  },
  {
   "cell_type": "code",
   "execution_count": 33,
   "metadata": {
    "execution": {
     "iopub.execute_input": "2024-12-19T14:58:25.154991Z",
     "iopub.status.busy": "2024-12-19T14:58:25.154782Z",
     "iopub.status.idle": "2024-12-19T14:58:25.176284Z",
     "shell.execute_reply": "2024-12-19T14:58:25.175639Z",
     "shell.execute_reply.started": "2024-12-19T14:58:25.154972Z"
    },
    "id": "6Sgs63uPBad8",
    "trusted": true
   },
   "outputs": [],
   "source": [
    "y_train_df = pd.DataFrame(y_train, columns=label_columns)"
   ]
  },
  {
   "cell_type": "code",
   "execution_count": 34,
   "metadata": {
    "colab": {
     "base_uri": "https://localhost:8080/"
    },
    "execution": {
     "iopub.execute_input": "2024-12-19T14:58:25.177299Z",
     "iopub.status.busy": "2024-12-19T14:58:25.177052Z",
     "iopub.status.idle": "2024-12-19T14:58:25.196590Z",
     "shell.execute_reply": "2024-12-19T14:58:25.195792Z",
     "shell.execute_reply.started": "2024-12-19T14:58:25.177279Z"
    },
    "id": "sVD0DSPvmdcE",
    "outputId": "95ab8c82-b82f-460f-c1b0-0d768929b8d1",
    "trusted": true
   },
   "outputs": [
    {
     "name": "stdout",
     "output_type": "stream",
     "text": [
      "          count_0  count_1    sum\n",
      "anger       14426     3809  18235\n",
      "fear        17059     1176  18235\n",
      "joy         14310     3925  18235\n",
      "sadness     15451     2784  18235\n",
      "surprise    17056     1179  18235\n"
     ]
    }
   ],
   "source": [
    "#update label column name\n",
    "\n",
    "label_distribution = y_train_df.apply(pd.Series.value_counts).T.fillna(0).astype(int)\n",
    "\n",
    "label_distribution.columns = ['count_0', 'count_1']\n",
    "label_distribution['sum'] = label_distribution['count_0'] + label_distribution['count_1']\n",
    "print(label_distribution)"
   ]
  },
  {
   "cell_type": "code",
   "execution_count": 35,
   "metadata": {
    "execution": {
     "iopub.execute_input": "2024-12-19T14:58:25.197615Z",
     "iopub.status.busy": "2024-12-19T14:58:25.197330Z",
     "iopub.status.idle": "2024-12-19T14:58:25.258458Z",
     "shell.execute_reply": "2024-12-19T14:58:25.257556Z",
     "shell.execute_reply.started": "2024-12-19T14:58:25.197581Z"
    },
    "id": "-EFMbbzALDd6",
    "trusted": true
   },
   "outputs": [],
   "source": [
    "device=\"cuda\" if torch.cuda.is_available() else 'cpu'"
   ]
  },
  {
   "cell_type": "code",
   "execution_count": 36,
   "metadata": {
    "execution": {
     "iopub.execute_input": "2024-12-19T14:58:25.259527Z",
     "iopub.status.busy": "2024-12-19T14:58:25.259231Z",
     "iopub.status.idle": "2024-12-19T14:58:25.273916Z",
     "shell.execute_reply": "2024-12-19T14:58:25.273173Z",
     "shell.execute_reply.started": "2024-12-19T14:58:25.259495Z"
    },
    "id": "yZqp6Z2YmkJM",
    "trusted": true
   },
   "outputs": [],
   "source": [
    "class Dataset(torch.utils.data.Dataset):\n",
    "\n",
    "    def __init__(self, encodings, labels):\n",
    "\n",
    "        self.encodings = encodings\n",
    "\n",
    "        self.labels = labels\n",
    "\n",
    "\n",
    "\n",
    "    def __getitem__(self, idx):\n",
    "\n",
    "        item = {key: torch.tensor(val[idx]) for key, val in self.encodings.items()}\n",
    "\n",
    "        item['labels'] = torch.tensor(self.labels[idx], dtype=torch.float)\n",
    "\n",
    "        return item\n",
    "\n",
    "\n",
    "    def __len__(self):\n",
    "\n",
    "        return len(self.labels)"
   ]
  },
  {
   "cell_type": "code",
   "execution_count": 37,
   "metadata": {
    "colab": {
     "base_uri": "https://localhost:8080/"
    },
    "execution": {
     "iopub.execute_input": "2024-12-19T14:58:25.274978Z",
     "iopub.status.busy": "2024-12-19T14:58:25.274696Z",
     "iopub.status.idle": "2024-12-19T14:58:25.428515Z",
     "shell.execute_reply": "2024-12-19T14:58:25.427603Z",
     "shell.execute_reply.started": "2024-12-19T14:58:25.274947Z"
    },
    "id": "oKxH4x81Bad8",
    "outputId": "a70de637-71bb-402a-cd0e-c27405ab273c",
    "trusted": true
   },
   "outputs": [
    {
     "name": "stdout",
     "output_type": "stream",
     "text": [
      "ls: cannot access 'output/best-model-v1': No such file or directory\n"
     ]
    },
    {
     "name": "stderr",
     "output_type": "stream",
     "text": [
      "/usr/lib/python3.10/pty.py:89: RuntimeWarning: os.fork() was called. os.fork() is incompatible with multithreaded code, and JAX is multithreaded, so this will likely lead to a deadlock.\n",
      "  pid, fd = os.forkpty()\n"
     ]
    }
   ],
   "source": [
    "!ls output/best-model-v1"
   ]
  },
  {
   "cell_type": "code",
   "execution_count": 38,
   "metadata": {
    "execution": {
     "iopub.execute_input": "2024-12-19T14:58:25.429860Z",
     "iopub.status.busy": "2024-12-19T14:58:25.429562Z",
     "iopub.status.idle": "2024-12-19T14:58:25.435413Z",
     "shell.execute_reply": "2024-12-19T14:58:25.434619Z",
     "shell.execute_reply.started": "2024-12-19T14:58:25.429833Z"
    },
    "id": "rkp5NCQoml0I",
    "trusted": true
   },
   "outputs": [],
   "source": [
    "def build_dataset(x_train,y_train,x_valid,y_valid,MAX_LENGTH):\n",
    "\n",
    "  train_encodings = tokenizer(x_train, truncation=True, padding=\"max_length\", max_length=MAX_LENGTH)\n",
    "\n",
    "  valid_encodings = tokenizer(x_valid, truncation=True, padding=\"max_length\", max_length=MAX_LENGTH)\n",
    "\n",
    "  train_dataset = Dataset(train_encodings, y_train)\n",
    "\n",
    "  valid_dataset = Dataset(valid_encodings, y_valid)\n",
    "\n",
    "  return train_dataset,valid_dataset\n",
    "\n",
    "\n",
    "\n",
    "def train_arg():\n",
    "\n",
    "    training_args = TrainingArguments(\n",
    "\n",
    "    output_dir=\"./output/best-model-v1\",\n",
    "\n",
    "    report_to=None,\n",
    "    dataloader_pin_memory=False,\n",
    "\n",
    "    num_train_epochs=3,\n",
    "\n",
    "    gradient_accumulation_steps=2,\n",
    "\n",
    "    per_device_train_batch_size=8,\n",
    "\n",
    "    per_device_eval_batch_size=16,\n",
    "\n",
    "    learning_rate=2e-5,\n",
    "\n",
    "    weight_decay=0.01,\n",
    "\n",
    "    eval_strategy=IntervalStrategy.STEPS,\n",
    "\n",
    "    save_total_limit=1,\n",
    "\n",
    "    logging_dir=\"./logs\",\n",
    "\n",
    "    logging_strategy=IntervalStrategy.STEPS,\n",
    "\n",
    "    logging_steps=250,\n",
    "\n",
    "    eval_steps=500,\n",
    "\n",
    "    load_best_model_at_end=True,\n",
    "\n",
    "    lr_scheduler_type=\"cosine_with_restarts\",\n",
    "\n",
    "    warmup_steps=500,\n",
    "\n",
    "    save_strategy=\"steps\",\n",
    "\n",
    "    save_steps=500,\n",
    "\n",
    "  )\n",
    "\n",
    "    return training_args"
   ]
  },
  {
   "cell_type": "code",
   "execution_count": 39,
   "metadata": {
    "execution": {
     "iopub.execute_input": "2024-12-19T14:58:25.436531Z",
     "iopub.status.busy": "2024-12-19T14:58:25.436266Z",
     "iopub.status.idle": "2024-12-19T14:58:25.450373Z",
     "shell.execute_reply": "2024-12-19T14:58:25.449667Z",
     "shell.execute_reply.started": "2024-12-19T14:58:25.436509Z"
    },
    "id": "izahhMy5NwVv",
    "trusted": true
   },
   "outputs": [],
   "source": [
    "def compute_metrics(p):\n",
    "\n",
    "  predicted_logits = p.predictions\n",
    "\n",
    "  print(f\"Type of predicted_logits: {type(predicted_logits)}\")\n",
    "\n",
    "  if isinstance(predicted_logits, tuple):\n",
    "\n",
    "        predicted_logits = predicted_logits[0]\n",
    "\n",
    "  if not isinstance(predicted_logits, np.ndarray):\n",
    "\n",
    "        predicted_logits = np.array(predicted_logits)\n",
    "\n",
    "  if len(predicted_logits.shape) == 3:\n",
    "\n",
    "        predicted_logits = predicted_logits[:, 0, :]\n",
    "\n",
    "  predicted_probabilities = expit(predicted_logits)\n",
    "\n",
    "  threshold = 0.5\n",
    "\n",
    "  predicted_classes = (predicted_probabilities >= threshold).astype(int)\n",
    "\n",
    "  precision, recall, f1, _ = precision_recall_fscore_support(y_valid, predicted_classes, average=\"weighted\",zero_division=0)\n",
    "\n",
    "  accuracy = accuracy_score(y_valid, predicted_classes)\n",
    "\n",
    "  return {\n",
    "\n",
    "        \"accuracy\": accuracy,\n",
    "\n",
    "        \"precision\": precision,\n",
    "\n",
    "        \"recall\": recall,\n",
    "\n",
    "        \"f1_score\": f1\n",
    "\n",
    "    }"
   ]
  },
  {
   "cell_type": "code",
   "execution_count": 40,
   "metadata": {
    "execution": {
     "iopub.execute_input": "2024-12-19T14:58:25.451550Z",
     "iopub.status.busy": "2024-12-19T14:58:25.451287Z",
     "iopub.status.idle": "2024-12-19T14:58:25.470264Z",
     "shell.execute_reply": "2024-12-19T14:58:25.469463Z",
     "shell.execute_reply.started": "2024-12-19T14:58:25.451529Z"
    },
    "id": "ahrCmCKmmvvV",
    "trusted": true
   },
   "outputs": [],
   "source": [
    "def evaluate_func(trainer):\n",
    "\n",
    "  trainer.evaluate()\n",
    "\n",
    "  predictions = trainer.predict(valid_dataset)\n",
    "\n",
    "  predicted_logits = predictions.predictions\n",
    "\n",
    "  print(f\"Type of predicted_logits: {type(predicted_logits)}\")\n",
    "\n",
    "  if isinstance(predicted_logits, tuple):\n",
    "\n",
    "        predicted_logits = predicted_logits[0]\n",
    "\n",
    "  if not isinstance(predicted_logits, np.ndarray):\n",
    "\n",
    "        predicted_logits = np.array(predicted_logits)\n",
    "\n",
    "  if len(predicted_logits.shape) == 3:\n",
    "\n",
    "        predicted_logits = predicted_logits[:, 0, :]\n",
    "\n",
    "  predicted_probabilities = expit(predicted_logits)\n",
    "\n",
    "  threshold = 0.5\n",
    "\n",
    "  predicted_classes = (predicted_probabilities >= threshold).astype(int)\n",
    "\n",
    "  precision, recall, f1, _ = precision_recall_fscore_support(y_valid, predicted_classes, average=None,zero_division=0)\n",
    "\n",
    "  accuracy = accuracy_score(y_valid, predicted_classes)\n",
    "\n",
    "  return precision, recall, f1,accuracy"
   ]
  },
  {
   "cell_type": "code",
   "execution_count": 41,
   "metadata": {
    "execution": {
     "iopub.execute_input": "2024-12-19T14:58:25.471424Z",
     "iopub.status.busy": "2024-12-19T14:58:25.471146Z",
     "iopub.status.idle": "2024-12-19T14:58:25.485217Z",
     "shell.execute_reply": "2024-12-19T14:58:25.484501Z",
     "shell.execute_reply.started": "2024-12-19T14:58:25.471399Z"
    },
    "id": "_2K_WqEPnF6l",
    "trusted": true
   },
   "outputs": [],
   "source": [
    "MAX_LENGTH = 256\n",
    "\n",
    "metrics_df = pd.DataFrame(columns=[\"Models_name\", \"Precision\", \"Recall\", \"F1_score\", \"Accuracy\"])\n",
    "\n",
    "confusion_matrices = []"
   ]
  },
  {
   "cell_type": "code",
   "execution_count": 42,
   "metadata": {
    "execution": {
     "iopub.execute_input": "2024-12-19T14:58:25.486326Z",
     "iopub.status.busy": "2024-12-19T14:58:25.486054Z",
     "iopub.status.idle": "2024-12-19T14:58:25.500745Z",
     "shell.execute_reply": "2024-12-19T14:58:25.499953Z",
     "shell.execute_reply.started": "2024-12-19T14:58:25.486303Z"
    },
    "id": "3TcPpfq1GdUI",
    "trusted": true
   },
   "outputs": [],
   "source": [
    "quantization_config = BitsAndBytesConfig(\n",
    "\n",
    "    load_in_4bit=True,\n",
    "\n",
    "    bnb_4bit_use_double_quant=True,\n",
    "\n",
    "    bnb_4bit_quant_type=\"nf4\",\n",
    "\n",
    "    bnb_4bit_compute_dtype=torch.bfloat16,\n",
    "\n",
    ")"
   ]
  },
  {
   "cell_type": "code",
   "execution_count": 43,
   "metadata": {
    "execution": {
     "iopub.execute_input": "2024-12-19T14:58:25.501848Z",
     "iopub.status.busy": "2024-12-19T14:58:25.501609Z",
     "iopub.status.idle": "2024-12-19T14:58:25.515692Z",
     "shell.execute_reply": "2024-12-19T14:58:25.515006Z",
     "shell.execute_reply.started": "2024-12-19T14:58:25.501817Z"
    },
    "id": "ps6BcVspzvnP",
    "trusted": true
   },
   "outputs": [],
   "source": [
    "models_list=models_list_3\n",
    "\n",
    "models_name=models_name_3\n",
    "\n",
    "x=models_list[0]"
   ]
  },
  {
   "cell_type": "code",
   "execution_count": 44,
   "metadata": {
    "execution": {
     "iopub.execute_input": "2024-12-19T14:58:25.516775Z",
     "iopub.status.busy": "2024-12-19T14:58:25.516579Z",
     "iopub.status.idle": "2024-12-19T14:58:25.531197Z",
     "shell.execute_reply": "2024-12-19T14:58:25.530523Z",
     "shell.execute_reply.started": "2024-12-19T14:58:25.516757Z"
    },
    "id": "jHjrZwu7_GSr",
    "trusted": true
   },
   "outputs": [],
   "source": [
    "token=\"\"\n",
    "\n",
    "import huggingface_hub\n",
    "\n",
    "if \"gemma\" in x or \"Phi\" in x:\n",
    "\n",
    "  huggingface_hub.login(token=token)"
   ]
  },
  {
   "cell_type": "code",
   "execution_count": 45,
   "metadata": {
    "execution": {
     "iopub.execute_input": "2024-12-19T14:58:25.532224Z",
     "iopub.status.busy": "2024-12-19T14:58:25.531972Z",
     "iopub.status.idle": "2024-12-19T14:58:25.545462Z",
     "shell.execute_reply": "2024-12-19T14:58:25.544627Z",
     "shell.execute_reply.started": "2024-12-19T14:58:25.532197Z"
    },
    "id": "cclf1eMoIfuA",
    "trusted": true
   },
   "outputs": [],
   "source": [
    "USE_LORA=False"
   ]
  },
  {
   "cell_type": "code",
   "execution_count": 46,
   "metadata": {
    "colab": {
     "base_uri": "https://localhost:8080/"
    },
    "execution": {
     "iopub.execute_input": "2024-12-19T14:58:25.546589Z",
     "iopub.status.busy": "2024-12-19T14:58:25.546301Z",
     "iopub.status.idle": "2024-12-19T14:58:59.090783Z",
     "shell.execute_reply": "2024-12-19T14:58:59.089918Z",
     "shell.execute_reply.started": "2024-12-19T14:58:25.546556Z"
    },
    "id": "RTwQtNnRZXNI",
    "outputId": "178047e4-136d-4f7b-c2b9-5677f8939533",
    "trusted": true
   },
   "outputs": [
    {
     "name": "stdout",
     "output_type": "stream",
     "text": [
      "FacebookAI/xlm-roberta-large\n"
     ]
    },
    {
     "data": {
      "application/vnd.jupyter.widget-view+json": {
       "model_id": "cd50847ae09e4f30b21ef5e849985cae",
       "version_major": 2,
       "version_minor": 0
      },
      "text/plain": [
       "tokenizer_config.json:   0%|          | 0.00/25.0 [00:00<?, ?B/s]"
      ]
     },
     "metadata": {},
     "output_type": "display_data"
    },
    {
     "data": {
      "application/vnd.jupyter.widget-view+json": {
       "model_id": "b72fb3037d1e4a50817bf82c24c6ae1c",
       "version_major": 2,
       "version_minor": 0
      },
      "text/plain": [
       "config.json:   0%|          | 0.00/616 [00:00<?, ?B/s]"
      ]
     },
     "metadata": {},
     "output_type": "display_data"
    },
    {
     "data": {
      "application/vnd.jupyter.widget-view+json": {
       "model_id": "c189db80938d443182e7ef834a2be124",
       "version_major": 2,
       "version_minor": 0
      },
      "text/plain": [
       "sentencepiece.bpe.model:   0%|          | 0.00/5.07M [00:00<?, ?B/s]"
      ]
     },
     "metadata": {},
     "output_type": "display_data"
    },
    {
     "data": {
      "application/vnd.jupyter.widget-view+json": {
       "model_id": "1e2cd7c3a79b42c4904e323ca0427471",
       "version_major": 2,
       "version_minor": 0
      },
      "text/plain": [
       "tokenizer.json:   0%|          | 0.00/9.10M [00:00<?, ?B/s]"
      ]
     },
     "metadata": {},
     "output_type": "display_data"
    },
    {
     "data": {
      "application/vnd.jupyter.widget-view+json": {
       "model_id": "d1cfee4f34d44358a5d1443e1a484731",
       "version_major": 2,
       "version_minor": 0
      },
      "text/plain": [
       "model.safetensors:   0%|          | 0.00/2.24G [00:00<?, ?B/s]"
      ]
     },
     "metadata": {},
     "output_type": "display_data"
    },
    {
     "name": "stderr",
     "output_type": "stream",
     "text": [
      "Some weights of XLMRobertaForSequenceClassification were not initialized from the model checkpoint at FacebookAI/xlm-roberta-large and are newly initialized: ['classifier.dense.bias', 'classifier.dense.weight', 'classifier.out_proj.bias', 'classifier.out_proj.weight']\n",
      "You should probably TRAIN this model on a down-stream task to be able to use it for predictions and inference.\n"
     ]
    }
   ],
   "source": [
    "\n",
    "\n",
    "torch.cuda.empty_cache()\n",
    "\n",
    "\n",
    "\n",
    "print(x)\n",
    "\n",
    "tokenizer = AutoTokenizer.from_pretrained(x)\n",
    "\n",
    "model = AutoModelForSequenceClassification.from_pretrained(x, num_labels=len(label_columns),\n",
    "\n",
    "                                                            ignore_mismatched_sizes=True,\n",
    "\n",
    "                                                            quantization_config=quantization_config if USE_LORA else None,\n",
    "\n",
    "                                                            # low_cpu_mem_usage=True,\n",
    "\n",
    "                                                           torch_dtype=torch.bfloat16,\n",
    "\n",
    "                                                           problem_type = \"multi_label_classification\",\n",
    "\n",
    "\n",
    "\n",
    "                                                            )"
   ]
  },
  {
   "cell_type": "code",
   "execution_count": 47,
   "metadata": {
    "colab": {
     "base_uri": "https://localhost:8080/"
    },
    "execution": {
     "iopub.execute_input": "2024-12-19T14:58:59.092435Z",
     "iopub.status.busy": "2024-12-19T14:58:59.092085Z",
     "iopub.status.idle": "2024-12-19T14:58:59.099130Z",
     "shell.execute_reply": "2024-12-19T14:58:59.098355Z",
     "shell.execute_reply.started": "2024-12-19T14:58:59.092400Z"
    },
    "id": "h5TGLlXVBaeB",
    "outputId": "4c6e1856-4702-4d4f-d22d-f22f09834d7c",
    "trusted": true
   },
   "outputs": [
    {
     "data": {
      "text/plain": [
       "[]"
      ]
     },
     "execution_count": 47,
     "metadata": {},
     "output_type": "execute_result"
    }
   ],
   "source": [
    "def find_target_modules(model):\n",
    "    # Initialize a Set to Store Unique Layers\n",
    "    unique_layers = set()\n",
    "\n",
    "    # Iterate Over All Named Modules in the Model\n",
    "    for name, module in model.named_modules():\n",
    "        # Check if the Module Type Contains 'Linear4bit'\n",
    "        if \"Linear4bit\" in str(type(module)):\n",
    "            # Extract the Type of the Layer\n",
    "            layer_type = name.split('.')[-1]\n",
    "\n",
    "            # Add the Layer Type to the Set of Unique Layers\n",
    "            unique_layers.add(layer_type)\n",
    "\n",
    "    # Return the Set of Unique Layers Converted to a List\n",
    "    return list(unique_layers)\n",
    "find_target_modules(model)"
   ]
  },
  {
   "cell_type": "code",
   "execution_count": 48,
   "metadata": {
    "execution": {
     "iopub.execute_input": "2024-12-19T14:58:59.099953Z",
     "iopub.status.busy": "2024-12-19T14:58:59.099771Z",
     "iopub.status.idle": "2024-12-19T14:58:59.115042Z",
     "shell.execute_reply": "2024-12-19T14:58:59.114409Z",
     "shell.execute_reply.started": "2024-12-19T14:58:59.099935Z"
    },
    "id": "AmPLSuxxBaeB",
    "trusted": true
   },
   "outputs": [],
   "source": [
    "# a="
   ]
  },
  {
   "cell_type": "code",
   "execution_count": 49,
   "metadata": {
    "execution": {
     "iopub.execute_input": "2024-12-19T14:58:59.116112Z",
     "iopub.status.busy": "2024-12-19T14:58:59.115817Z",
     "iopub.status.idle": "2024-12-19T14:58:59.130194Z",
     "shell.execute_reply": "2024-12-19T14:58:59.129423Z",
     "shell.execute_reply.started": "2024-12-19T14:58:59.116088Z"
    },
    "id": "MCHCmWeqZd1R",
    "trusted": true
   },
   "outputs": [],
   "source": [
    "model.train() # model in training mode (dropout modules are activated)\n",
    "\n",
    "if USE_LORA:\n",
    "\n",
    "  # enable gradient check pointing\n",
    "\n",
    "  model.gradient_checkpointing_enable()\n",
    "\n",
    "  target_modules_dict={\n",
    "\n",
    "      \"microsoft/Phi-3.5-mini-instruct\":'all-linear',\n",
    "      \"unsloth/Llama-3.2-1B-Instruct\":[\"q_proj\",\"k_proj\",\"v_proj\"],\n",
    "      \"unsloth/Qwen2.5-3B-Instruct-bnb-4bit\":[\"q_proj\",\"k_proj\",\"v_proj\"],\n",
    "  }\n",
    "\n",
    "  target_modules= target_modules_dict.get(x,[\"q_proj\"])\n",
    "\n",
    "\n",
    "\n",
    "  # enable quantized training\n",
    "\n",
    "  model = prepare_model_for_kbit_training(model)\n",
    "\n",
    "  config = LoraConfig(\n",
    "\n",
    "    r=8,\n",
    "\n",
    "    lora_alpha=32,\n",
    "\n",
    "    # target_modules=[\"k_proj\"],\n",
    "\n",
    "    target_modules = target_modules,#TODOOOOOOOOOOOOO\n",
    "\n",
    "    lora_dropout=0.1,\n",
    "\n",
    "    bias=\"none\",\n",
    "\n",
    "    task_type=\"SEQ_CLS\",\n",
    "\n",
    "  )\n",
    "\n",
    "  # LoRA trainable version of model\n",
    "\n",
    "  model = get_peft_model(model, config)\n",
    "\n",
    "\n",
    "\n",
    "  # trainable parameter count\n",
    "\n",
    "  model.print_trainable_parameters()\n",
    "\n",
    "device=\"cuda\" if torch.cuda.is_available() else 'cpu'"
   ]
  },
  {
   "cell_type": "code",
   "execution_count": 50,
   "metadata": {
    "colab": {
     "base_uri": "https://localhost:8080/",
     "height": 36
    },
    "execution": {
     "iopub.execute_input": "2024-12-19T14:58:59.131231Z",
     "iopub.status.busy": "2024-12-19T14:58:59.130970Z",
     "iopub.status.idle": "2024-12-19T14:58:59.146615Z",
     "shell.execute_reply": "2024-12-19T14:58:59.145934Z",
     "shell.execute_reply.started": "2024-12-19T14:58:59.131201Z"
    },
    "id": "PxWaxUtlO_Ev",
    "outputId": "027e9b9a-d282-4d65-de7f-8829f59ff0a5",
    "trusted": true
   },
   "outputs": [
    {
     "data": {
      "text/plain": [
       "'<pad>'"
      ]
     },
     "execution_count": 50,
     "metadata": {},
     "output_type": "execute_result"
    }
   ],
   "source": [
    "if tokenizer.pad_token is None:\n",
    "    print(\"adding tokenizer token\")\n",
    "    # tokenizer.add_special_tokens({'pad_token': '[PAD]'})\n",
    "\n",
    "    tokenizer.pad_token=tokenizer.eos_token\n",
    "\n",
    "    model.config.pad_token_id = tokenizer.pad_token_id\n",
    "\n",
    "    # model.resize_token_embeddings(len(tokenizer))\n",
    "\n",
    "    if model.config.pad_token_id is None:\n",
    "        print(\"setting model pad token\")\n",
    "        model.config.pad_token_id = tokenizer.pad_token_id\n",
    "\n",
    "tokenizer.pad_token"
   ]
  },
  {
   "cell_type": "code",
   "execution_count": 51,
   "metadata": {
    "colab": {
     "base_uri": "https://localhost:8080/",
     "height": 36
    },
    "execution": {
     "iopub.execute_input": "2024-12-19T14:58:59.147677Z",
     "iopub.status.busy": "2024-12-19T14:58:59.147392Z",
     "iopub.status.idle": "2024-12-19T14:58:59.160545Z",
     "shell.execute_reply": "2024-12-19T14:58:59.159770Z",
     "shell.execute_reply.started": "2024-12-19T14:58:59.147646Z"
    },
    "id": "CWtjrTGfJtvS",
    "outputId": "f2d7586f-f7fc-403b-ef2f-bf68cdb67a61",
    "trusted": true
   },
   "outputs": [
    {
     "data": {
      "text/plain": [
       "'cuda'"
      ]
     },
     "execution_count": 51,
     "metadata": {},
     "output_type": "execute_result"
    }
   ],
   "source": [
    "device"
   ]
  },
  {
   "cell_type": "code",
   "execution_count": 52,
   "metadata": {
    "execution": {
     "iopub.execute_input": "2024-12-19T14:58:59.161645Z",
     "iopub.status.busy": "2024-12-19T14:58:59.161354Z",
     "iopub.status.idle": "2024-12-19T14:58:59.688416Z",
     "shell.execute_reply": "2024-12-19T14:58:59.687688Z",
     "shell.execute_reply.started": "2024-12-19T14:58:59.161615Z"
    },
    "id": "Ot09dhy1Jq2T",
    "trusted": true
   },
   "outputs": [],
   "source": [
    "model = model.to(device)\n",
    "\n",
    "# for param in model.parameters():\n",
    "\n",
    "#     param.data = param.data.contiguous()\n"
   ]
  },
  {
   "cell_type": "code",
   "execution_count": 53,
   "metadata": {
    "colab": {
     "base_uri": "https://localhost:8080/"
    },
    "execution": {
     "iopub.execute_input": "2024-12-19T14:58:59.689502Z",
     "iopub.status.busy": "2024-12-19T14:58:59.689197Z",
     "iopub.status.idle": "2024-12-19T14:58:59.719257Z",
     "shell.execute_reply": "2024-12-19T14:58:59.718496Z",
     "shell.execute_reply.started": "2024-12-19T14:58:59.689468Z"
    },
    "id": "QdJNlzlyJ5Ae",
    "outputId": "78f5bc6c-935b-499e-ee40-e00d8d732226",
    "trusted": true
   },
   "outputs": [
    {
     "name": "stderr",
     "output_type": "stream",
     "text": [
      "Using the `WANDB_DISABLED` environment variable is deprecated and will be removed in v5. Use the --report_to flag to control the integrations used for logging result (for instance --report_to none).\n"
     ]
    }
   ],
   "source": [
    "os.environ['WANDB_DISABLED']=\"true\"\n",
    "training_args = train_arg()"
   ]
  },
  {
   "cell_type": "code",
   "execution_count": 54,
   "metadata": {
    "execution": {
     "iopub.execute_input": "2024-12-19T14:58:59.720321Z",
     "iopub.status.busy": "2024-12-19T14:58:59.720068Z",
     "iopub.status.idle": "2024-12-19T14:59:01.635685Z",
     "shell.execute_reply": "2024-12-19T14:59:01.634982Z",
     "shell.execute_reply.started": "2024-12-19T14:58:59.720300Z"
    },
    "id": "6Cx4DPiiIs_7",
    "trusted": true
   },
   "outputs": [],
   "source": [
    "train_dataset,valid_dataset=build_dataset(x_train,y_train,x_valid,y_valid,MAX_LENGTH)"
   ]
  },
  {
   "cell_type": "code",
   "execution_count": 55,
   "metadata": {
    "execution": {
     "iopub.execute_input": "2024-12-19T14:59:01.636711Z",
     "iopub.status.busy": "2024-12-19T14:59:01.636479Z",
     "iopub.status.idle": "2024-12-19T14:59:02.187416Z",
     "shell.execute_reply": "2024-12-19T14:59:02.186724Z",
     "shell.execute_reply.started": "2024-12-19T14:59:01.636690Z"
    },
    "id": "WCD2WpxWaQBx",
    "trusted": true
   },
   "outputs": [],
   "source": [
    "trainer = Trainer(\n",
    "\n",
    "    model=model,\n",
    "\n",
    "    args=training_args,\n",
    "\n",
    "    train_dataset=train_dataset,\n",
    "\n",
    "    eval_dataset=valid_dataset,\n",
    "\n",
    "    #compute_metrics=compute_metrics,\n",
    "\n",
    "    # data_collator=data_collator\n",
    "\n",
    ")"
   ]
  },
  {
   "cell_type": "code",
   "execution_count": 56,
   "metadata": {
    "colab": {
     "background_save": true,
     "base_uri": "https://localhost:8080/",
     "height": 388
    },
    "execution": {
     "iopub.execute_input": "2024-12-19T14:59:02.188420Z",
     "iopub.status.busy": "2024-12-19T14:59:02.188185Z",
     "iopub.status.idle": "2024-12-19T15:33:40.313474Z",
     "shell.execute_reply": "2024-12-19T15:33:40.312565Z",
     "shell.execute_reply.started": "2024-12-19T14:59:02.188398Z"
    },
    "id": "YbO6fS_6nNWA",
    "outputId": "ef3d604c-843d-47ce-a99f-aa7616b57e6c",
    "trusted": true
   },
   "outputs": [
    {
     "data": {
      "text/html": [
       "\n",
       "    <div>\n",
       "      \n",
       "      <progress value='1140' max='1140' style='width:300px; height:20px; vertical-align: middle;'></progress>\n",
       "      [1140/1140 34:35, Epoch 1/1]\n",
       "    </div>\n",
       "    <table border=\"1\" class=\"dataframe\">\n",
       "  <thead>\n",
       " <tr style=\"text-align: left;\">\n",
       "      <th>Step</th>\n",
       "      <th>Training Loss</th>\n",
       "      <th>Validation Loss</th>\n",
       "    </tr>\n",
       "  </thead>\n",
       "  <tbody>\n",
       "    <tr>\n",
       "      <td>500</td>\n",
       "      <td>0.780400</td>\n",
       "      <td>0.385347</td>\n",
       "    </tr>\n",
       "    <tr>\n",
       "      <td>1000</td>\n",
       "      <td>0.713800</td>\n",
       "      <td>0.340517</td>\n",
       "    </tr>\n",
       "  </tbody>\n",
       "</table><p>"
      ],
      "text/plain": [
       "<IPython.core.display.HTML object>"
      ]
     },
     "metadata": {},
     "output_type": "display_data"
    }
   ],
   "source": [
    "checkpoints = sorted(glob.glob(os.path.join(trainer.args.output_dir, \"checkpoint-*\")), key=os.path.getmtime)\n",
    "\n",
    "\n",
    "\n",
    "resume_checkpoint = True if checkpoints else False\n",
    "\n",
    "model.config.use_cache = False  # silence the warnings. Please re-enable for inference!\n",
    "\n",
    "trainer.train(resume_from_checkpoint=resume_checkpoint)\n",
    "\n",
    "model.config.use_cache = True\n"
   ]
  },
  {
   "cell_type": "code",
   "execution_count": 57,
   "metadata": {
    "colab": {
     "background_save": true
    },
    "execution": {
     "iopub.execute_input": "2024-12-19T15:33:40.314726Z",
     "iopub.status.busy": "2024-12-19T15:33:40.314410Z",
     "iopub.status.idle": "2024-12-19T15:40:37.598567Z",
     "shell.execute_reply": "2024-12-19T15:40:37.597809Z",
     "shell.execute_reply.started": "2024-12-19T15:33:40.314694Z"
    },
    "id": "uGLXR8HmBaeC",
    "outputId": "a3ce297c-577b-425f-e2a5-23cb923c5932",
    "trusted": true
   },
   "outputs": [
    {
     "data": {
      "text/html": [],
      "text/plain": [
       "<IPython.core.display.HTML object>"
      ]
     },
     "metadata": {},
     "output_type": "display_data"
    },
    {
     "name": "stdout",
     "output_type": "stream",
     "text": [
      "Type of predicted_logits: <class 'numpy.ndarray'>\n"
     ]
    },
    {
     "name": "stderr",
     "output_type": "stream",
     "text": [
      "<ipython-input-57-280a069bd3c3>:19: FutureWarning: The behavior of DataFrame concatenation with empty or all-NA entries is deprecated. In a future version, this will no longer exclude empty or all-NA columns when determining the result dtypes. To retain the old behavior, exclude the relevant entries before the concat operation.\n",
      "  metrics_df = pd.concat([metrics_df, new_data], ignore_index=True)\n"
     ]
    },
    {
     "data": {
      "text/html": [],
      "text/plain": [
       "<IPython.core.display.HTML object>"
      ]
     },
     "metadata": {},
     "output_type": "display_data"
    },
    {
     "name": "stdout",
     "output_type": "stream",
     "text": [
      "Computing confusion matrix for label: anger\n",
      "Computing confusion matrix for label: fear\n",
      "Computing confusion matrix for label: joy\n",
      "Computing confusion matrix for label: sadness\n",
      "Computing confusion matrix for label: surprise\n",
      "FacebookAI/xlm-roberta-large evaluates:\n",
      "Class 'anger': Precision: 0.8810, Recall: 0.0380, F1: 0.0729\n",
      "Class 'fear': Precision: 0.0000, Recall: 0.0000, F1: 0.0000\n",
      "Class 'joy': Precision: 0.6632, Recall: 0.3455, F1: 0.4543\n",
      "Class 'sadness': Precision: 0.0000, Recall: 0.0000, F1: 0.0000\n",
      "Class 'surprise': Precision: 0.0000, Recall: 0.0000, F1: 0.0000\n",
      "Overall accuracy: 0.4203\n",
      "-------------------------------------------------------------------------\n",
      "\n"
     ]
    }
   ],
   "source": [
    "model.config.use_cache = True\n",
    "precision, recall, f1,accuracy=evaluate_func(trainer)\n",
    "new_data = pd.DataFrame({\n",
    "\n",
    "  \"Models_name\": [x],\n",
    "\n",
    "  \"Precision\": [precision],\n",
    "\n",
    "  \"Recall\": [recall],\n",
    "\n",
    "  \"F1_score\": [f1],\n",
    "\n",
    "  \"Accuracy\": [accuracy]\n",
    "\n",
    "})\n",
    "\n",
    "\n",
    "\n",
    "metrics_df = pd.concat([metrics_df, new_data], ignore_index=True)\n",
    "\n",
    "\n",
    "\n",
    "model_confusion_matrices = []\n",
    "\n",
    "predicted_classes = trainer.predict(valid_dataset).predictions\n",
    "\n",
    "\n",
    "\n",
    "\n",
    "\n",
    "\n",
    "\n",
    "if isinstance(predicted_classes, tuple) :\n",
    "\n",
    "  predicted_classes = predicted_classes[0]\n",
    "\n",
    "predicted_classes = np.array(predicted_classes)\n",
    "\n",
    "# print(f\"Type after conversion: {type(predicted_classes)}\")\n",
    "\n",
    "\n",
    "\n",
    "if len(predicted_classes.shape) > 2:\n",
    "\n",
    "  predicted_classes = predicted_classes.reshape(predicted_classes.shape[0], -1)\n",
    "\n",
    "  # print(f\"Shape after reshaping: {predicted_classes.shape}\")\n",
    "\n",
    "\n",
    "\n",
    "\n",
    "\n",
    "\n",
    "\n",
    "\n",
    "\n",
    "predicted_classes = (expit(predicted_classes) >= 0.5).astype(int)\n",
    "\n",
    "\n",
    "\n",
    "y_valid_np = np.array(y_valid)\n",
    "\n",
    "\n",
    "\n",
    "for j in range(len(label_columns)):\n",
    "\n",
    "    print(f\"Computing confusion matrix for label: {label_columns[j]}\")\n",
    "\n",
    "    cm = confusion_matrix(y_valid_np[:, j], predicted_classes[:, j])\n",
    "\n",
    "\n",
    "\n",
    "    # cm = confusion_matrix(y_valid[:, j], predicted_classes[:, j])\n",
    "\n",
    "    model_confusion_matrices.append(cm)\n",
    "\n",
    "confusion_matrices.append(model_confusion_matrices)\n",
    "\n",
    "\n",
    "\n",
    "\n",
    "\n",
    "print(f\"{x} evaluates:\")\n",
    "\n",
    "for k, label in enumerate(label_columns):\n",
    "\n",
    "  print(f\"Class '{label}': Precision: {precision[k]:.4f}, Recall: {recall[k]:.4f}, F1: {f1[k]:.4f}\")\n",
    "\n",
    "print(f\"Overall accuracy: {accuracy:.4f}\")\n",
    "\n",
    "print(\"-------------------------------------------------------------------------\\n\")"
   ]
  },
  {
   "cell_type": "code",
   "execution_count": 58,
   "metadata": {
    "colab": {
     "background_save": true
    },
    "execution": {
     "iopub.execute_input": "2024-12-19T15:40:37.599719Z",
     "iopub.status.busy": "2024-12-19T15:40:37.599463Z",
     "iopub.status.idle": "2024-12-19T15:40:37.604236Z",
     "shell.execute_reply": "2024-12-19T15:40:37.603298Z",
     "shell.execute_reply.started": "2024-12-19T15:40:37.599696Z"
    },
    "id": "j18Fd55UP7F2",
    "trusted": true
   },
   "outputs": [],
   "source": [
    "def build_dataset(x_train,y_train,x_valid,y_valid,MAX_LENGTH):\n",
    "\n",
    "  train_encodings = tokenizer(x_train, truncation=True, padding=\"max_length\", max_length=MAX_LENGTH)\n",
    "\n",
    "  valid_encodings = tokenizer(x_valid, truncation=True, padding=\"max_length\", max_length=MAX_LENGTH)\n",
    "\n",
    "  train_dataset = Dataset(train_encodings, y_train)\n",
    "\n",
    "  valid_dataset = Dataset(valid_encodings, y_valid)\n",
    "\n",
    "  return train_dataset,valid_dataset\n",
    "\n"
   ]
  },
  {
   "cell_type": "code",
   "execution_count": 59,
   "metadata": {
    "colab": {
     "background_save": true
    },
    "execution": {
     "iopub.execute_input": "2024-12-19T15:40:37.605552Z",
     "iopub.status.busy": "2024-12-19T15:40:37.605259Z",
     "iopub.status.idle": "2024-12-19T15:42:57.536560Z",
     "shell.execute_reply": "2024-12-19T15:42:57.535608Z",
     "shell.execute_reply.started": "2024-12-19T15:40:37.605528Z"
    },
    "id": "nNQrEWEJBaeC",
    "outputId": "a3a20055-8bd6-48e6-d41e-cfb4cbb2ad70",
    "trusted": true
   },
   "outputs": [
    {
     "data": {
      "text/html": [],
      "text/plain": [
       "<IPython.core.display.HTML object>"
      ]
     },
     "metadata": {},
     "output_type": "display_data"
    },
    {
     "name": "stderr",
     "output_type": "stream",
     "text": [
      "/usr/local/lib/python3.10/dist-packages/sklearn/metrics/_classification.py:1344: UndefinedMetricWarning: Precision and F-score are ill-defined and being set to 0.0 in labels with no predicted samples. Use `zero_division` parameter to control this behavior.\n",
      "  _warn_prf(average, modifier, msg_start, len(result))\n",
      "/usr/local/lib/python3.10/dist-packages/sklearn/metrics/_classification.py:1344: UndefinedMetricWarning: Recall and F-score are ill-defined and being set to 0.0 in labels with no true samples. Use `zero_division` parameter to control this behavior.\n",
      "  _warn_prf(average, modifier, msg_start, len(result))\n",
      "<ipython-input-59-8992453f5833>:46: FutureWarning: The behavior of DataFrame concatenation with empty or all-NA entries is deprecated. In a future version, this will no longer exclude empty or all-NA columns when determining the result dtypes. To retain the old behavior, exclude the relevant entries before the concat operation.\n",
      "  lang_metrics_df = pd.concat([lang_metrics_df, new_data], ignore_index=True)\n"
     ]
    },
    {
     "data": {
      "text/html": [],
      "text/plain": [
       "<IPython.core.display.HTML object>"
      ]
     },
     "metadata": {},
     "output_type": "display_data"
    },
    {
     "name": "stderr",
     "output_type": "stream",
     "text": [
      "/usr/local/lib/python3.10/dist-packages/sklearn/metrics/_classification.py:1344: UndefinedMetricWarning: Precision and F-score are ill-defined and being set to 0.0 in labels with no predicted samples. Use `zero_division` parameter to control this behavior.\n",
      "  _warn_prf(average, modifier, msg_start, len(result))\n"
     ]
    },
    {
     "data": {
      "text/html": [],
      "text/plain": [
       "<IPython.core.display.HTML object>"
      ]
     },
     "metadata": {},
     "output_type": "display_data"
    },
    {
     "name": "stderr",
     "output_type": "stream",
     "text": [
      "/usr/local/lib/python3.10/dist-packages/sklearn/metrics/_classification.py:1344: UndefinedMetricWarning: Precision and F-score are ill-defined and being set to 0.0 in labels with no predicted samples. Use `zero_division` parameter to control this behavior.\n",
      "  _warn_prf(average, modifier, msg_start, len(result))\n"
     ]
    },
    {
     "data": {
      "text/html": [],
      "text/plain": [
       "<IPython.core.display.HTML object>"
      ]
     },
     "metadata": {},
     "output_type": "display_data"
    },
    {
     "name": "stderr",
     "output_type": "stream",
     "text": [
      "/usr/local/lib/python3.10/dist-packages/sklearn/metrics/_classification.py:1344: UndefinedMetricWarning: Precision and F-score are ill-defined and being set to 0.0 in labels with no predicted samples. Use `zero_division` parameter to control this behavior.\n",
      "  _warn_prf(average, modifier, msg_start, len(result))\n"
     ]
    },
    {
     "data": {
      "text/html": [],
      "text/plain": [
       "<IPython.core.display.HTML object>"
      ]
     },
     "metadata": {},
     "output_type": "display_data"
    },
    {
     "name": "stderr",
     "output_type": "stream",
     "text": [
      "/usr/local/lib/python3.10/dist-packages/sklearn/metrics/_classification.py:1344: UndefinedMetricWarning: Precision and F-score are ill-defined and being set to 0.0 in labels with no predicted samples. Use `zero_division` parameter to control this behavior.\n",
      "  _warn_prf(average, modifier, msg_start, len(result))\n"
     ]
    },
    {
     "data": {
      "text/html": [],
      "text/plain": [
       "<IPython.core.display.HTML object>"
      ]
     },
     "metadata": {},
     "output_type": "display_data"
    },
    {
     "name": "stderr",
     "output_type": "stream",
     "text": [
      "/usr/local/lib/python3.10/dist-packages/sklearn/metrics/_classification.py:1344: UndefinedMetricWarning: Precision and F-score are ill-defined and being set to 0.0 in labels with no predicted samples. Use `zero_division` parameter to control this behavior.\n",
      "  _warn_prf(average, modifier, msg_start, len(result))\n"
     ]
    },
    {
     "data": {
      "text/html": [],
      "text/plain": [
       "<IPython.core.display.HTML object>"
      ]
     },
     "metadata": {},
     "output_type": "display_data"
    },
    {
     "name": "stderr",
     "output_type": "stream",
     "text": [
      "/usr/local/lib/python3.10/dist-packages/sklearn/metrics/_classification.py:1344: UndefinedMetricWarning: Precision and F-score are ill-defined and being set to 0.0 in labels with no predicted samples. Use `zero_division` parameter to control this behavior.\n",
      "  _warn_prf(average, modifier, msg_start, len(result))\n"
     ]
    },
    {
     "data": {
      "text/html": [],
      "text/plain": [
       "<IPython.core.display.HTML object>"
      ]
     },
     "metadata": {},
     "output_type": "display_data"
    },
    {
     "name": "stdout",
     "output_type": "stream",
     "text": [
      "  Language  Precision    Recall  F1_score  Accuracy\n",
      "0      afr   0.498713  0.184524  0.269378  0.496032\n",
      "1      amh   0.483311  0.066318  0.108253  0.344218\n",
      "2      deu   0.472817  0.091650  0.140899  0.316288\n",
      "3      oro   0.318148  0.191781  0.239307  0.441578\n",
      "4     ptbr   0.572487  0.166220  0.217163  0.398693\n",
      "5      rus   0.200474  0.150852  0.172158  0.364706\n",
      "6      som   0.138522  0.108571  0.121732  0.502941\n",
      "7      tir   0.000000  0.000000  0.000000  0.501359\n"
     ]
    },
    {
     "name": "stderr",
     "output_type": "stream",
     "text": [
      "/usr/local/lib/python3.10/dist-packages/sklearn/metrics/_classification.py:1344: UndefinedMetricWarning: Precision and F-score are ill-defined and being set to 0.0 in labels with no predicted samples. Use `zero_division` parameter to control this behavior.\n",
      "  _warn_prf(average, modifier, msg_start, len(result))\n"
     ]
    }
   ],
   "source": [
    "# Initialize a DataFrame to store the evaluation results for each language\n",
    "lang_metrics_df = pd.DataFrame(columns=[\"Language\", \"Precision\", \"Recall\", \"F1_score\", \"Accuracy\"])\n",
    "\n",
    "# Iterate over each language\n",
    "for lang in langs:\n",
    "    # Filter the validation data for the current language\n",
    "    lang_valid_data = valid[valid['lang'] == lang]\n",
    "    lang_x_valid = lang_valid_data['clean_message'].values.tolist()\n",
    "    lang_y_valid = lang_valid_data[label_columns].values.tolist()\n",
    "    if(len(lang_valid_data)==0):\n",
    "      continue\n",
    "    # Tokenize the validation data\n",
    "    lang_valid_encodings = tokenizer(lang_x_valid, truncation=True, padding=\"max_length\", max_length=MAX_LENGTH)\n",
    "    lang_valid_dataset = Dataset(lang_valid_encodings, lang_y_valid)\n",
    "\n",
    "    # Get predictions\n",
    "    predictions = trainer.predict(lang_valid_dataset,)\n",
    "    predicted_logits = predictions.predictions\n",
    "\n",
    "    if isinstance(predicted_logits, tuple):\n",
    "        predicted_logits = predicted_logits[0]\n",
    "\n",
    "    if not isinstance(predicted_logits, np.ndarray):\n",
    "        predicted_logits = np.array(predicted_logits)\n",
    "\n",
    "    if len(predicted_logits.shape) == 3:\n",
    "        predicted_logits = predicted_logits[:, 0, :]\n",
    "\n",
    "    predicted_probabilities = expit(predicted_logits)\n",
    "    threshold = 0.5\n",
    "    predicted_classes = (predicted_probabilities >= threshold).astype(int)\n",
    "\n",
    "    # Compute metrics\n",
    "    precision, recall, f1, _ = precision_recall_fscore_support(lang_y_valid, predicted_classes, average=\"weighted\")\n",
    "    accuracy = accuracy_score(lang_y_valid, predicted_classes)\n",
    "\n",
    "    # Store the metrics in the DataFrame\n",
    "    new_data = pd.DataFrame({\n",
    "        \"Language\": [lang],\n",
    "        \"Precision\": [precision],\n",
    "        \"Recall\": [recall],\n",
    "        \"F1_score\": [f1],\n",
    "        \"Accuracy\": [accuracy]\n",
    "    })\n",
    "\n",
    "    lang_metrics_df = pd.concat([lang_metrics_df, new_data], ignore_index=True)\n",
    "\n",
    "# Display the evaluation results for each language\n",
    "print(lang_metrics_df)"
   ]
  }
 ],
 "metadata": {
  "accelerator": "GPU",
  "colab": {
   "gpuType": "T4",
   "provenance": []
  },
  "kaggle": {
   "accelerator": "gpu",
   "dataSources": [],
   "dockerImageVersionId": 30823,
   "isGpuEnabled": true,
   "isInternetEnabled": true,
   "language": "python",
   "sourceType": "notebook"
  },
  "kernelspec": {
   "display_name": "Python 3",
   "language": "python",
   "name": "python3"
  },
  "language_info": {
   "codemirror_mode": {
    "name": "ipython",
    "version": 3
   },
   "file_extension": ".py",
   "mimetype": "text/x-python",
   "name": "python",
   "nbconvert_exporter": "python",
   "pygments_lexer": "ipython3",
   "version": "3.10.12"
  }
 },
 "nbformat": 4,
 "nbformat_minor": 4
}
