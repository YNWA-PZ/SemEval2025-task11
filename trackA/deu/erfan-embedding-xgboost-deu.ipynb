{
 "cells": [
  {
   "cell_type": "code",
   "execution_count": 1,
   "metadata": {
    "execution": {
     "iopub.execute_input": "2025-01-11T21:29:36.414754Z",
     "iopub.status.busy": "2025-01-11T21:29:36.414543Z",
     "iopub.status.idle": "2025-01-11T21:29:36.418257Z",
     "shell.execute_reply": "2025-01-11T21:29:36.417414Z",
     "shell.execute_reply.started": "2025-01-11T21:29:36.414722Z"
    },
    "id": "rVRSZaZ7DdeQ",
    "trusted": true
   },
   "outputs": [],
   "source": [
    "import os\n",
    "\n",
    "os.environ['CUDA_LAUNCH_BLOCKING'] = \"1\"\n",
    "\n",
    "os.environ['WANDB_DISABLED'] = \"true\""
   ]
  },
  {
   "cell_type": "code",
   "execution_count": 2,
   "metadata": {
    "colab": {
     "base_uri": "https://localhost:8080/"
    },
    "execution": {
     "iopub.execute_input": "2025-01-11T21:29:36.419363Z",
     "iopub.status.busy": "2025-01-11T21:29:36.419074Z",
     "iopub.status.idle": "2025-01-11T21:29:40.816575Z",
     "shell.execute_reply": "2025-01-11T21:29:40.815672Z",
     "shell.execute_reply.started": "2025-01-11T21:29:36.419334Z"
    },
    "id": "jiRg5MiCozSJ",
    "outputId": "eb23773c-2175-42f8-ddbb-7d5e6cace816",
    "trusted": true
   },
   "outputs": [
    {
     "name": "stdout",
     "output_type": "stream",
     "text": [
      "Downloading...\n",
      "From: https://drive.google.com/uc?id=1EI12smTmdi4Mlu_lLNULN6p6g9dYEWql\n",
      "To: /kaggle/working/processed_data.zip\n",
      "100%|███████████████████████████████████████| 6.00M/6.00M [00:00<00:00, 283MB/s]\n"
     ]
    }
   ],
   "source": [
    "# !gdown 1qq5gDuEAqWnoviRBDYfbprLFD-MPQyNo\n",
    "# !gdown 1mq9CWT9MXsH1Y-ihxVL4uEzufQjpBoer\n",
    "!gdown 1EI12smTmdi4Mlu_lLNULN6p6g9dYEWql"
   ]
  },
  {
   "cell_type": "code",
   "execution_count": 3,
   "metadata": {
    "execution": {
     "iopub.execute_input": "2025-01-11T21:29:40.817937Z",
     "iopub.status.busy": "2025-01-11T21:29:40.817673Z",
     "iopub.status.idle": "2025-01-11T21:29:41.218891Z",
     "shell.execute_reply": "2025-01-11T21:29:41.217699Z",
     "shell.execute_reply.started": "2025-01-11T21:29:40.817917Z"
    },
    "id": "kexrENAEo54E",
    "trusted": true
   },
   "outputs": [],
   "source": [
    "!rm -rf processed_data\n",
    "\n",
    "!unzip -q processed_data.zip"
   ]
  },
  {
   "cell_type": "code",
   "execution_count": 4,
   "metadata": {
    "colab": {
     "base_uri": "https://localhost:8080/"
    },
    "execution": {
     "iopub.execute_input": "2025-01-11T21:29:41.221361Z",
     "iopub.status.busy": "2025-01-11T21:29:41.221090Z",
     "iopub.status.idle": "2025-01-11T21:30:15.262031Z",
     "shell.execute_reply": "2025-01-11T21:30:15.261001Z",
     "shell.execute_reply.started": "2025-01-11T21:29:41.221341Z"
    },
    "id": "VC2TifwamSFK",
    "outputId": "566c98a8-3d92-4cbe-8b60-3745ef38887a",
    "trusted": true
   },
   "outputs": [
    {
     "name": "stdout",
     "output_type": "stream",
     "text": [
      "\u001b[2K     \u001b[90m━━━━━━━━━━━━━━━━━━━━━━━━━━━━━━━━━━━━━━━━\u001b[0m \u001b[32m44.4/44.4 kB\u001b[0m \u001b[31m1.9 MB/s\u001b[0m eta \u001b[36m0:00:00\u001b[0m\n",
      "\u001b[2K   \u001b[90m━━━━━━━━━━━━━━━━━━━━━━━━━━━━━━━━━━━━━━━━\u001b[0m \u001b[32m336.4/336.4 kB\u001b[0m \u001b[31m11.4 MB/s\u001b[0m eta \u001b[36m0:00:00\u001b[0m\n",
      "\u001b[2K   \u001b[90m━━━━━━━━━━━━━━━━━━━━━━━━━━━━━━━━━━━━━━━━\u001b[0m \u001b[32m3.0/3.0 MB\u001b[0m \u001b[31m64.4 MB/s\u001b[0m eta \u001b[36m0:00:00\u001b[0m:00:01\u001b[0m\n",
      "\u001b[2K   \u001b[90m━━━━━━━━━━━━━━━━━━━━━━━━━━━━━━━━━━━━━━━━\u001b[0m \u001b[32m9.7/9.7 MB\u001b[0m \u001b[31m110.0 MB/s\u001b[0m eta \u001b[36m0:00:00\u001b[0m00:01\u001b[0m00:01\u001b[0m\n",
      "\u001b[2K   \u001b[90m━━━━━━━━━━━━━━━━━━━━━━━━━━━━━━━━━━━━━━━━\u001b[0m \u001b[32m23.5/23.5 MB\u001b[0m \u001b[31m77.4 MB/s\u001b[0m eta \u001b[36m0:00:00\u001b[0m:00:01\u001b[0m00:01\u001b[0m\n",
      "\u001b[2K   \u001b[90m━━━━━━━━━━━━━━━━━━━━━━━━━━━━━━━━━━━━━━━━\u001b[0m \u001b[32m424.1/424.1 kB\u001b[0m \u001b[31m25.0 MB/s\u001b[0m eta \u001b[36m0:00:00\u001b[0m\n",
      "\u001b[2K   \u001b[90m━━━━━━━━━━━━━━━━━━━━━━━━━━━━━━━━━━━━━━━━\u001b[0m \u001b[32m69.1/69.1 MB\u001b[0m \u001b[31m25.5 MB/s\u001b[0m eta \u001b[36m0:00:00\u001b[0m:00:01\u001b[0m00:01\u001b[0m\n",
      "\u001b[2K   \u001b[90m━━━━━━━━━━━━━━━━━━━━━━━━━━━━━━━━━━━━━━━━\u001b[0m \u001b[32m374.8/374.8 kB\u001b[0m \u001b[31m21.0 MB/s\u001b[0m eta \u001b[36m0:00:00\u001b[0m\n",
      "\u001b[2K   \u001b[90m━━━━━━━━━━━━━━━━━━━━━━━━━━━━━━━━━━━━━━━━\u001b[0m \u001b[32m450.7/450.7 kB\u001b[0m \u001b[31m25.8 MB/s\u001b[0m eta \u001b[36m0:00:00\u001b[0m\n",
      "\u001b[2K   \u001b[90m━━━━━━━━━━━━━━━━━━━━━━━━━━━━━━━━━━━━━━━━\u001b[0m \u001b[32m46.0/46.0 kB\u001b[0m \u001b[31m2.5 MB/s\u001b[0m eta \u001b[36m0:00:00\u001b[0m\n",
      "\u001b[2K   \u001b[90m━━━━━━━━━━━━━━━━━━━━━━━━━━━━━━━━━━━━━━━━\u001b[0m \u001b[32m13.2/13.2 MB\u001b[0m \u001b[31m96.4 MB/s\u001b[0m eta \u001b[36m0:00:00\u001b[0m:00:01\u001b[0m0:01\u001b[0m\n",
      "\u001b[2K   \u001b[90m━━━━━━━━━━━━━━━━━━━━━━━━━━━━━━━━━━━━━━━━\u001b[0m \u001b[32m86.8/86.8 kB\u001b[0m \u001b[31m5.7 MB/s\u001b[0m eta \u001b[36m0:00:00\u001b[0m\n",
      "\u001b[?25h"
     ]
    }
   ],
   "source": [
    "!pip install -q transformers[torch] accelerate -U\n",
    "\n",
    "!pip install -q datasets\n",
    "\n",
    "!pip install -q transformers\n",
    "\n",
    "!pip install -q iterative-stratification\n",
    "\n",
    "!pip install -q auto-gptq optimum bitsandbytes"
   ]
  },
  {
   "cell_type": "code",
   "execution_count": 5,
   "metadata": {
    "execution": {
     "iopub.execute_input": "2025-01-11T21:30:15.263875Z",
     "iopub.status.busy": "2025-01-11T21:30:15.263571Z",
     "iopub.status.idle": "2025-01-11T21:30:29.827041Z",
     "shell.execute_reply": "2025-01-11T21:30:29.826395Z",
     "shell.execute_reply.started": "2025-01-11T21:30:15.263853Z"
    },
    "id": "a_v9ZQjVoIma",
    "trusted": true
   },
   "outputs": [],
   "source": [
    "import numpy as np\n",
    "\n",
    "import pandas as pd\n",
    "\n",
    "import os\n",
    "\n",
    "from os import path\n",
    "\n",
    "import glob\n",
    "\n",
    "from tqdm.notebook import tqdm\n",
    "\n",
    "from tqdm import tqdm\n",
    "\n",
    "import string\n",
    "\n",
    "import copy\n",
    "\n",
    "from transformers import AutoTokenizer, AutoModelForSequenceClassification, TrainingArguments, Trainer,IntervalStrategy,BitsAndBytesConfig\n",
    "\n",
    "from datasets import Dataset,load_dataset, DatasetDict\n",
    "\n",
    "# from iterstrat.ml_stratifiers import MultilabelStratifiedKFold\n",
    "\n",
    "from sklearn.metrics import confusion_matrix, ConfusionMatrixDisplay\n",
    "\n",
    "\n",
    "\n",
    "from sklearn.model_selection import train_test_split,KFold\n",
    "\n",
    "from sklearn.metrics import classification_report,accuracy_score, f1_score\n",
    "\n",
    "from sklearn.metrics import precision_recall_fscore_support\n",
    "\n",
    "from sklearn.utils import shuffle\n",
    "\n",
    "from sklearn.preprocessing import LabelEncoder\n",
    "\n",
    "from scipy.special import expit\n",
    "\n",
    "from peft import prepare_model_for_kbit_training\n",
    "\n",
    "from peft import LoraConfig, get_peft_model,PeftModel\n"
   ]
  },
  {
   "cell_type": "code",
   "execution_count": 6,
   "metadata": {
    "execution": {
     "iopub.execute_input": "2025-01-11T21:30:29.828300Z",
     "iopub.status.busy": "2025-01-11T21:30:29.827779Z",
     "iopub.status.idle": "2025-01-11T21:30:29.831819Z",
     "shell.execute_reply": "2025-01-11T21:30:29.831048Z",
     "shell.execute_reply.started": "2025-01-11T21:30:29.828276Z"
    },
    "id": "BN44kbQ4ocG2",
    "trusted": true
   },
   "outputs": [],
   "source": [
    "import torch\n",
    "\n",
    "import torch.nn as nn\n",
    "\n",
    "import torch.nn.functional as F"
   ]
  },
  {
   "cell_type": "code",
   "execution_count": 7,
   "metadata": {
    "execution": {
     "iopub.execute_input": "2025-01-11T21:30:29.832958Z",
     "iopub.status.busy": "2025-01-11T21:30:29.832647Z",
     "iopub.status.idle": "2025-01-11T21:30:29.898762Z",
     "shell.execute_reply": "2025-01-11T21:30:29.897996Z",
     "shell.execute_reply.started": "2025-01-11T21:30:29.832927Z"
    },
    "id": "Ugv0OfRImSin",
    "trusted": true
   },
   "outputs": [],
   "source": [
    "\n",
    "\n",
    "models_list_3=[\n",
    "        # \"FacebookAI/xlm-roberta-large\",\n",
    "      # \"google-bert/bert-base-uncased\",\n",
    "        # \"dunzhang/stella_en_1.5B_v5\",\n",
    "   \n",
    "    # \"ai-forever/FRIDA\"\n",
    "# \"Alibaba-NLP/gme-Qwen2-VL-7B-Instruct\"\n",
    "\n",
    "\n",
    "    # \"GritLM/GritLM-7B\"\n",
    "    # \"yoeven/multilingual-e5-large-instruct-Q3_K_S-GGUF\"\n",
    "\n",
    "\n",
    "\n",
    "\n",
    "\"Alignment-Lab-AI/e5-mistral-7b-instruct\"\n",
    "    # \"intfloat/multilingual-e5-large-instruct\"\n",
    "#      \"google-bert/bert-base-multilingual-uncased\",\n",
    "\n",
    "          ]\n",
    "\n",
    "\n",
    "\n",
    "models_name_3=[\n",
    "# \"FacebookAI/xlm-roberta-large\",\n",
    "# \"google-bert/bert-base-uncased\",\n",
    "        # \"dunzhang/stella_en_1.5B_v5\",\n",
    "# \"Alibaba-NLP/gme-Qwen2-VL-7B-Instruct\"\n",
    "# \"GritLM/GritLM-7B\"\n",
    "   \n",
    "    \n",
    "    \n",
    "    # \"yoeven/multilingual-e5-large-instruct-Q3_K_S-GGUF\"\n",
    "    \n",
    "    \n",
    "    \n",
    "    \n",
    "    # \"intfloat/multilingual-e5-large-instruct\"\n",
    "    \"Alignment-Lab-AI/e5-mistral-7b-instruct\"\n",
    "\n",
    "    # \"ai-forever/FRIDA\"\n",
    "    \n",
    "# \"bert\",\n",
    "\n",
    "]\n"
   ]
  },
  {
   "cell_type": "code",
   "execution_count": 8,
   "metadata": {
    "execution": {
     "iopub.execute_input": "2025-01-11T21:30:29.899822Z",
     "iopub.status.busy": "2025-01-11T21:30:29.899540Z",
     "iopub.status.idle": "2025-01-11T21:30:29.917073Z",
     "shell.execute_reply": "2025-01-11T21:30:29.916296Z",
     "shell.execute_reply.started": "2025-01-11T21:30:29.899784Z"
    },
    "id": "1kwye6PzpT4N",
    "trusted": true
   },
   "outputs": [],
   "source": [
    "kind=\"train\"\n",
    "\n",
    "task=\"track_a\"\n",
    "\n",
    "# langs=[\"afr\",\"amh\",\"deu\",\"eng\",\"oro\",\"ptbr\",\"rus\",\"som\",\"sum\",\"tir\"]\n",
    "# labels=['Anger','Disgust', 'Fear', 'Joy', 'Sadness', 'Surprise']\n",
    "# langs=[\"amh\",\"arq\",\"ary\",\"chn\",\"deu\",\"esp\",\"hau\",\"hin\",\"ibo\",\"kin\",\"mar\",\"orm\",\"pcm\",\"ptbr\",\"ptmz\",\"ron\",\"rus\",\"som\",\"sun\",\"swa\",\"swe\",\"tat\",\"tir\",\"ukr\",\"vmw\",\"yor\",\"ind\",\"jav\",\"xho\",\"zul\"]\n",
    "langs=[\"deu\"]\n",
    "# langs=[\"afr\"]\n",
    "\n",
    "\n",
    "# processed_path=f\"processed_data/{kinds[0]}/{tasks[0]}/{langs[3]}.csv\"\n",
    "\n",
    "\n",
    "\n",
    "# train_data=pd.read_csv(processed_path)\n"
   ]
  },
  {
   "cell_type": "code",
   "execution_count": 9,
   "metadata": {
    "execution": {
     "iopub.execute_input": "2025-01-11T21:30:29.918145Z",
     "iopub.status.busy": "2025-01-11T21:30:29.917858Z",
     "iopub.status.idle": "2025-01-11T21:30:29.955193Z",
     "shell.execute_reply": "2025-01-11T21:30:29.954660Z",
     "shell.execute_reply.started": "2025-01-11T21:30:29.918101Z"
    },
    "id": "1x0MboqJuj21",
    "trusted": true
   },
   "outputs": [],
   "source": [
    "all_csv=pd.DataFrame()\n",
    "\n",
    "for lang in langs:\n",
    "\n",
    "    processed_path=f\"processed_data/{kind}/{task}/{lang}.csv\"\n",
    "    # if kind==\"dev\":\n",
    "    #    processed_path=processed_path.replace(lang,lang+task[-2:])\n",
    "    if not os.path.isfile(processed_path):\n",
    "\n",
    "      print(\"not found:\",processed_path)\n",
    "\n",
    "      continue\n",
    "    train_data=pd.read_csv(processed_path)\n",
    "\n",
    "    train_data.columns = train_data.columns.str.lower()\n",
    "\n",
    "    all_csv = pd.concat([all_csv, train_data],ignore_index=True)\n",
    "\n",
    "\n"
   ]
  },
  {
   "cell_type": "code",
   "execution_count": 10,
   "metadata": {
    "colab": {
     "base_uri": "https://localhost:8080/",
     "height": 423
    },
    "execution": {
     "iopub.execute_input": "2025-01-11T21:30:29.956074Z",
     "iopub.status.busy": "2025-01-11T21:30:29.955789Z",
     "iopub.status.idle": "2025-01-11T21:30:29.973353Z",
     "shell.execute_reply": "2025-01-11T21:30:29.972746Z",
     "shell.execute_reply.started": "2025-01-11T21:30:29.956048Z"
    },
    "id": "owuvojrICn5c",
    "outputId": "c9377cbd-1c93-43f6-d584-d29d319b8ad2",
    "trusted": true
   },
   "outputs": [
    {
     "data": {
      "text/html": [
       "<div>\n",
       "<style scoped>\n",
       "    .dataframe tbody tr th:only-of-type {\n",
       "        vertical-align: middle;\n",
       "    }\n",
       "\n",
       "    .dataframe tbody tr th {\n",
       "        vertical-align: top;\n",
       "    }\n",
       "\n",
       "    .dataframe thead th {\n",
       "        text-align: right;\n",
       "    }\n",
       "</style>\n",
       "<table border=\"1\" class=\"dataframe\">\n",
       "  <thead>\n",
       "    <tr style=\"text-align: right;\">\n",
       "      <th></th>\n",
       "      <th>id</th>\n",
       "      <th>anger</th>\n",
       "      <th>disgust</th>\n",
       "      <th>fear</th>\n",
       "      <th>joy</th>\n",
       "      <th>sadness</th>\n",
       "      <th>surprise</th>\n",
       "      <th>lang</th>\n",
       "      <th>clean_message</th>\n",
       "    </tr>\n",
       "  </thead>\n",
       "  <tbody>\n",
       "    <tr>\n",
       "      <th>0</th>\n",
       "      <td>deu_train_track_a_00001</td>\n",
       "      <td>0</td>\n",
       "      <td>0</td>\n",
       "      <td>1</td>\n",
       "      <td>0</td>\n",
       "      <td>0</td>\n",
       "      <td>0</td>\n",
       "      <td>deu</td>\n",
       "      <td>hallo an alle lesenden da ich jetzt erstmal ei...</td>\n",
       "    </tr>\n",
       "    <tr>\n",
       "      <th>1</th>\n",
       "      <td>deu_train_track_a_00002</td>\n",
       "      <td>0</td>\n",
       "      <td>0</td>\n",
       "      <td>0</td>\n",
       "      <td>0</td>\n",
       "      <td>0</td>\n",
       "      <td>0</td>\n",
       "      <td>deu</td>\n",
       "      <td>du warst bestimmt schon in verschiedenen lände...</td>\n",
       "    </tr>\n",
       "    <tr>\n",
       "      <th>2</th>\n",
       "      <td>deu_train_track_a_00003</td>\n",
       "      <td>0</td>\n",
       "      <td>0</td>\n",
       "      <td>0</td>\n",
       "      <td>0</td>\n",
       "      <td>0</td>\n",
       "      <td>0</td>\n",
       "      <td>deu</td>\n",
       "      <td>wenn ihr um geld spielt bei bingo fangen sie a...</td>\n",
       "    </tr>\n",
       "    <tr>\n",
       "      <th>3</th>\n",
       "      <td>deu_train_track_a_00004</td>\n",
       "      <td>0</td>\n",
       "      <td>1</td>\n",
       "      <td>0</td>\n",
       "      <td>1</td>\n",
       "      <td>0</td>\n",
       "      <td>0</td>\n",
       "      <td>deu</td>\n",
       "      <td>ich finde baerbock macht sich sehr gut als aus...</td>\n",
       "    </tr>\n",
       "    <tr>\n",
       "      <th>4</th>\n",
       "      <td>deu_train_track_a_00005</td>\n",
       "      <td>0</td>\n",
       "      <td>0</td>\n",
       "      <td>0</td>\n",
       "      <td>0</td>\n",
       "      <td>0</td>\n",
       "      <td>0</td>\n",
       "      <td>deu</td>\n",
       "      <td>ich war bei der zweiten impfung bereits schwan...</td>\n",
       "    </tr>\n",
       "    <tr>\n",
       "      <th>...</th>\n",
       "      <td>...</td>\n",
       "      <td>...</td>\n",
       "      <td>...</td>\n",
       "      <td>...</td>\n",
       "      <td>...</td>\n",
       "      <td>...</td>\n",
       "      <td>...</td>\n",
       "      <td>...</td>\n",
       "      <td>...</td>\n",
       "    </tr>\n",
       "    <tr>\n",
       "      <th>2598</th>\n",
       "      <td>deu_train_track_a_02599</td>\n",
       "      <td>0</td>\n",
       "      <td>0</td>\n",
       "      <td>0</td>\n",
       "      <td>0</td>\n",
       "      <td>1</td>\n",
       "      <td>0</td>\n",
       "      <td>deu</td>\n",
       "      <td>meine schwester hat mit 14 ihren ersten freund...</td>\n",
       "    </tr>\n",
       "    <tr>\n",
       "      <th>2599</th>\n",
       "      <td>deu_train_track_a_02600</td>\n",
       "      <td>0</td>\n",
       "      <td>0</td>\n",
       "      <td>0</td>\n",
       "      <td>0</td>\n",
       "      <td>0</td>\n",
       "      <td>0</td>\n",
       "      <td>deu</td>\n",
       "      <td>die grammatik ist bedenklich bis falsch hast d...</td>\n",
       "    </tr>\n",
       "    <tr>\n",
       "      <th>2600</th>\n",
       "      <td>deu_train_track_a_02601</td>\n",
       "      <td>0</td>\n",
       "      <td>0</td>\n",
       "      <td>0</td>\n",
       "      <td>0</td>\n",
       "      <td>0</td>\n",
       "      <td>0</td>\n",
       "      <td>deu</td>\n",
       "      <td>gefühle sind nie lächerlich da muss ich dich e...</td>\n",
       "    </tr>\n",
       "    <tr>\n",
       "      <th>2601</th>\n",
       "      <td>deu_train_track_a_02602</td>\n",
       "      <td>0</td>\n",
       "      <td>0</td>\n",
       "      <td>0</td>\n",
       "      <td>0</td>\n",
       "      <td>1</td>\n",
       "      <td>0</td>\n",
       "      <td>deu</td>\n",
       "      <td>wann ist das elend denn vorbei reißen die nach...</td>\n",
       "    </tr>\n",
       "    <tr>\n",
       "      <th>2602</th>\n",
       "      <td>deu_train_track_a_02603</td>\n",
       "      <td>0</td>\n",
       "      <td>0</td>\n",
       "      <td>0</td>\n",
       "      <td>0</td>\n",
       "      <td>0</td>\n",
       "      <td>0</td>\n",
       "      <td>deu</td>\n",
       "      <td>hey wenn es dir hilft bei mir ist das gleiche ...</td>\n",
       "    </tr>\n",
       "  </tbody>\n",
       "</table>\n",
       "<p>2603 rows × 9 columns</p>\n",
       "</div>"
      ],
      "text/plain": [
       "                           id  anger  disgust  fear  joy  sadness  surprise  \\\n",
       "0     deu_train_track_a_00001      0        0     1    0        0         0   \n",
       "1     deu_train_track_a_00002      0        0     0    0        0         0   \n",
       "2     deu_train_track_a_00003      0        0     0    0        0         0   \n",
       "3     deu_train_track_a_00004      0        1     0    1        0         0   \n",
       "4     deu_train_track_a_00005      0        0     0    0        0         0   \n",
       "...                       ...    ...      ...   ...  ...      ...       ...   \n",
       "2598  deu_train_track_a_02599      0        0     0    0        1         0   \n",
       "2599  deu_train_track_a_02600      0        0     0    0        0         0   \n",
       "2600  deu_train_track_a_02601      0        0     0    0        0         0   \n",
       "2601  deu_train_track_a_02602      0        0     0    0        1         0   \n",
       "2602  deu_train_track_a_02603      0        0     0    0        0         0   \n",
       "\n",
       "     lang                                      clean_message  \n",
       "0     deu  hallo an alle lesenden da ich jetzt erstmal ei...  \n",
       "1     deu  du warst bestimmt schon in verschiedenen lände...  \n",
       "2     deu  wenn ihr um geld spielt bei bingo fangen sie a...  \n",
       "3     deu  ich finde baerbock macht sich sehr gut als aus...  \n",
       "4     deu  ich war bei der zweiten impfung bereits schwan...  \n",
       "...   ...                                                ...  \n",
       "2598  deu  meine schwester hat mit 14 ihren ersten freund...  \n",
       "2599  deu  die grammatik ist bedenklich bis falsch hast d...  \n",
       "2600  deu  gefühle sind nie lächerlich da muss ich dich e...  \n",
       "2601  deu  wann ist das elend denn vorbei reißen die nach...  \n",
       "2602  deu  hey wenn es dir hilft bei mir ist das gleiche ...  \n",
       "\n",
       "[2603 rows x 9 columns]"
      ]
     },
     "execution_count": 10,
     "metadata": {},
     "output_type": "execute_result"
    }
   ],
   "source": [
    "all_csv"
   ]
  },
  {
   "cell_type": "code",
   "execution_count": 11,
   "metadata": {
    "colab": {
     "base_uri": "https://localhost:8080/",
     "height": 423
    },
    "execution": {
     "iopub.execute_input": "2025-01-11T21:30:29.974292Z",
     "iopub.status.busy": "2025-01-11T21:30:29.974062Z",
     "iopub.status.idle": "2025-01-11T21:30:29.983342Z",
     "shell.execute_reply": "2025-01-11T21:30:29.982579Z",
     "shell.execute_reply.started": "2025-01-11T21:30:29.974261Z"
    },
    "id": "zm9h2f0rBad4",
    "outputId": "b758a83e-1472-41e2-9f29-59c98e7e3d21",
    "trusted": true
   },
   "outputs": [
    {
     "data": {
      "text/html": [
       "<div>\n",
       "<style scoped>\n",
       "    .dataframe tbody tr th:only-of-type {\n",
       "        vertical-align: middle;\n",
       "    }\n",
       "\n",
       "    .dataframe tbody tr th {\n",
       "        vertical-align: top;\n",
       "    }\n",
       "\n",
       "    .dataframe thead th {\n",
       "        text-align: right;\n",
       "    }\n",
       "</style>\n",
       "<table border=\"1\" class=\"dataframe\">\n",
       "  <thead>\n",
       "    <tr style=\"text-align: right;\">\n",
       "      <th></th>\n",
       "      <th>id</th>\n",
       "      <th>anger</th>\n",
       "      <th>disgust</th>\n",
       "      <th>fear</th>\n",
       "      <th>joy</th>\n",
       "      <th>sadness</th>\n",
       "      <th>surprise</th>\n",
       "      <th>lang</th>\n",
       "      <th>clean_message</th>\n",
       "    </tr>\n",
       "  </thead>\n",
       "  <tbody>\n",
       "  </tbody>\n",
       "</table>\n",
       "</div>"
      ],
      "text/plain": [
       "Empty DataFrame\n",
       "Columns: [id, anger, disgust, fear, joy, sadness, surprise, lang, clean_message]\n",
       "Index: []"
      ]
     },
     "execution_count": 11,
     "metadata": {},
     "output_type": "execute_result"
    }
   ],
   "source": [
    "all_csv[all_csv[\"lang\"]==\"eng\"]"
   ]
  },
  {
   "cell_type": "code",
   "execution_count": 12,
   "metadata": {
    "execution": {
     "iopub.execute_input": "2025-01-11T21:30:29.984369Z",
     "iopub.status.busy": "2025-01-11T21:30:29.984159Z",
     "iopub.status.idle": "2025-01-11T21:30:29.997406Z",
     "shell.execute_reply": "2025-01-11T21:30:29.996610Z",
     "shell.execute_reply.started": "2025-01-11T21:30:29.984345Z"
    },
    "id": "BDrtrsvCBad4",
    "trusted": true
   },
   "outputs": [],
   "source": [
    "# float_columns = all_csv.select_dtypes(include=['float64']).columns\n",
    "# # Check each column and convert only if there are no NaN values\n",
    "# for col in float_columns:\n",
    "#     if all_csv[col].isna().sum() == 0:  # No NaN values in the column\n",
    "#         print(f\"converting {kind} {task} {lang} column {col} to int\")\n",
    "#         all_csv[col] = all_csv[col].astype('int')\n",
    "#     else:\n",
    "#         print(f\"converting {kind} {task} {lang} column {col} to int\")"
   ]
  },
  {
   "cell_type": "code",
   "execution_count": 13,
   "metadata": {
    "execution": {
     "iopub.execute_input": "2025-01-11T21:30:30.000872Z",
     "iopub.status.busy": "2025-01-11T21:30:30.000648Z",
     "iopub.status.idle": "2025-01-11T21:30:30.016073Z",
     "shell.execute_reply": "2025-01-11T21:30:30.015262Z",
     "shell.execute_reply.started": "2025-01-11T21:30:30.000851Z"
    },
    "id": "zITfHiVrBad5",
    "trusted": true
   },
   "outputs": [],
   "source": [
    "train_data=all_csv\n"
   ]
  },
  {
   "cell_type": "code",
   "execution_count": 14,
   "metadata": {
    "execution": {
     "iopub.execute_input": "2025-01-11T21:30:30.018403Z",
     "iopub.status.busy": "2025-01-11T21:30:30.018212Z",
     "iopub.status.idle": "2025-01-11T21:30:30.029824Z",
     "shell.execute_reply": "2025-01-11T21:30:30.029043Z",
     "shell.execute_reply.started": "2025-01-11T21:30:30.018385Z"
    },
    "id": "kN_EpabwBad5",
    "trusted": true
   },
   "outputs": [],
   "source": [
    "# train_data = train_data.drop(columns=['disgust'],axis=1)\n"
   ]
  },
  {
   "cell_type": "code",
   "execution_count": 15,
   "metadata": {
    "colab": {
     "base_uri": "https://localhost:8080/",
     "height": 423
    },
    "execution": {
     "iopub.execute_input": "2025-01-11T21:30:30.030891Z",
     "iopub.status.busy": "2025-01-11T21:30:30.030598Z",
     "iopub.status.idle": "2025-01-11T21:30:30.052044Z",
     "shell.execute_reply": "2025-01-11T21:30:30.051203Z",
     "shell.execute_reply.started": "2025-01-11T21:30:30.030862Z"
    },
    "id": "7a-08HGownlu",
    "outputId": "bde1e56a-5531-4f75-c024-4ef394839db9",
    "trusted": true
   },
   "outputs": [
    {
     "data": {
      "text/html": [
       "<div>\n",
       "<style scoped>\n",
       "    .dataframe tbody tr th:only-of-type {\n",
       "        vertical-align: middle;\n",
       "    }\n",
       "\n",
       "    .dataframe tbody tr th {\n",
       "        vertical-align: top;\n",
       "    }\n",
       "\n",
       "    .dataframe thead th {\n",
       "        text-align: right;\n",
       "    }\n",
       "</style>\n",
       "<table border=\"1\" class=\"dataframe\">\n",
       "  <thead>\n",
       "    <tr style=\"text-align: right;\">\n",
       "      <th></th>\n",
       "      <th>id</th>\n",
       "      <th>anger</th>\n",
       "      <th>disgust</th>\n",
       "      <th>fear</th>\n",
       "      <th>joy</th>\n",
       "      <th>sadness</th>\n",
       "      <th>surprise</th>\n",
       "      <th>lang</th>\n",
       "      <th>clean_message</th>\n",
       "    </tr>\n",
       "  </thead>\n",
       "  <tbody>\n",
       "    <tr>\n",
       "      <th>0</th>\n",
       "      <td>deu_train_track_a_00001</td>\n",
       "      <td>0</td>\n",
       "      <td>0</td>\n",
       "      <td>1</td>\n",
       "      <td>0</td>\n",
       "      <td>0</td>\n",
       "      <td>0</td>\n",
       "      <td>deu</td>\n",
       "      <td>hallo an alle lesenden da ich jetzt erstmal ei...</td>\n",
       "    </tr>\n",
       "    <tr>\n",
       "      <th>1</th>\n",
       "      <td>deu_train_track_a_00002</td>\n",
       "      <td>0</td>\n",
       "      <td>0</td>\n",
       "      <td>0</td>\n",
       "      <td>0</td>\n",
       "      <td>0</td>\n",
       "      <td>0</td>\n",
       "      <td>deu</td>\n",
       "      <td>du warst bestimmt schon in verschiedenen lände...</td>\n",
       "    </tr>\n",
       "    <tr>\n",
       "      <th>2</th>\n",
       "      <td>deu_train_track_a_00003</td>\n",
       "      <td>0</td>\n",
       "      <td>0</td>\n",
       "      <td>0</td>\n",
       "      <td>0</td>\n",
       "      <td>0</td>\n",
       "      <td>0</td>\n",
       "      <td>deu</td>\n",
       "      <td>wenn ihr um geld spielt bei bingo fangen sie a...</td>\n",
       "    </tr>\n",
       "    <tr>\n",
       "      <th>3</th>\n",
       "      <td>deu_train_track_a_00004</td>\n",
       "      <td>0</td>\n",
       "      <td>1</td>\n",
       "      <td>0</td>\n",
       "      <td>1</td>\n",
       "      <td>0</td>\n",
       "      <td>0</td>\n",
       "      <td>deu</td>\n",
       "      <td>ich finde baerbock macht sich sehr gut als aus...</td>\n",
       "    </tr>\n",
       "    <tr>\n",
       "      <th>4</th>\n",
       "      <td>deu_train_track_a_00005</td>\n",
       "      <td>0</td>\n",
       "      <td>0</td>\n",
       "      <td>0</td>\n",
       "      <td>0</td>\n",
       "      <td>0</td>\n",
       "      <td>0</td>\n",
       "      <td>deu</td>\n",
       "      <td>ich war bei der zweiten impfung bereits schwan...</td>\n",
       "    </tr>\n",
       "    <tr>\n",
       "      <th>...</th>\n",
       "      <td>...</td>\n",
       "      <td>...</td>\n",
       "      <td>...</td>\n",
       "      <td>...</td>\n",
       "      <td>...</td>\n",
       "      <td>...</td>\n",
       "      <td>...</td>\n",
       "      <td>...</td>\n",
       "      <td>...</td>\n",
       "    </tr>\n",
       "    <tr>\n",
       "      <th>2598</th>\n",
       "      <td>deu_train_track_a_02599</td>\n",
       "      <td>0</td>\n",
       "      <td>0</td>\n",
       "      <td>0</td>\n",
       "      <td>0</td>\n",
       "      <td>1</td>\n",
       "      <td>0</td>\n",
       "      <td>deu</td>\n",
       "      <td>meine schwester hat mit 14 ihren ersten freund...</td>\n",
       "    </tr>\n",
       "    <tr>\n",
       "      <th>2599</th>\n",
       "      <td>deu_train_track_a_02600</td>\n",
       "      <td>0</td>\n",
       "      <td>0</td>\n",
       "      <td>0</td>\n",
       "      <td>0</td>\n",
       "      <td>0</td>\n",
       "      <td>0</td>\n",
       "      <td>deu</td>\n",
       "      <td>die grammatik ist bedenklich bis falsch hast d...</td>\n",
       "    </tr>\n",
       "    <tr>\n",
       "      <th>2600</th>\n",
       "      <td>deu_train_track_a_02601</td>\n",
       "      <td>0</td>\n",
       "      <td>0</td>\n",
       "      <td>0</td>\n",
       "      <td>0</td>\n",
       "      <td>0</td>\n",
       "      <td>0</td>\n",
       "      <td>deu</td>\n",
       "      <td>gefühle sind nie lächerlich da muss ich dich e...</td>\n",
       "    </tr>\n",
       "    <tr>\n",
       "      <th>2601</th>\n",
       "      <td>deu_train_track_a_02602</td>\n",
       "      <td>0</td>\n",
       "      <td>0</td>\n",
       "      <td>0</td>\n",
       "      <td>0</td>\n",
       "      <td>1</td>\n",
       "      <td>0</td>\n",
       "      <td>deu</td>\n",
       "      <td>wann ist das elend denn vorbei reißen die nach...</td>\n",
       "    </tr>\n",
       "    <tr>\n",
       "      <th>2602</th>\n",
       "      <td>deu_train_track_a_02603</td>\n",
       "      <td>0</td>\n",
       "      <td>0</td>\n",
       "      <td>0</td>\n",
       "      <td>0</td>\n",
       "      <td>0</td>\n",
       "      <td>0</td>\n",
       "      <td>deu</td>\n",
       "      <td>hey wenn es dir hilft bei mir ist das gleiche ...</td>\n",
       "    </tr>\n",
       "  </tbody>\n",
       "</table>\n",
       "<p>2603 rows × 9 columns</p>\n",
       "</div>"
      ],
      "text/plain": [
       "                           id  anger  disgust  fear  joy  sadness  surprise  \\\n",
       "0     deu_train_track_a_00001      0        0     1    0        0         0   \n",
       "1     deu_train_track_a_00002      0        0     0    0        0         0   \n",
       "2     deu_train_track_a_00003      0        0     0    0        0         0   \n",
       "3     deu_train_track_a_00004      0        1     0    1        0         0   \n",
       "4     deu_train_track_a_00005      0        0     0    0        0         0   \n",
       "...                       ...    ...      ...   ...  ...      ...       ...   \n",
       "2598  deu_train_track_a_02599      0        0     0    0        1         0   \n",
       "2599  deu_train_track_a_02600      0        0     0    0        0         0   \n",
       "2600  deu_train_track_a_02601      0        0     0    0        0         0   \n",
       "2601  deu_train_track_a_02602      0        0     0    0        1         0   \n",
       "2602  deu_train_track_a_02603      0        0     0    0        0         0   \n",
       "\n",
       "     lang                                      clean_message  \n",
       "0     deu  hallo an alle lesenden da ich jetzt erstmal ei...  \n",
       "1     deu  du warst bestimmt schon in verschiedenen lände...  \n",
       "2     deu  wenn ihr um geld spielt bei bingo fangen sie a...  \n",
       "3     deu  ich finde baerbock macht sich sehr gut als aus...  \n",
       "4     deu  ich war bei der zweiten impfung bereits schwan...  \n",
       "...   ...                                                ...  \n",
       "2598  deu  meine schwester hat mit 14 ihren ersten freund...  \n",
       "2599  deu  die grammatik ist bedenklich bis falsch hast d...  \n",
       "2600  deu  gefühle sind nie lächerlich da muss ich dich e...  \n",
       "2601  deu  wann ist das elend denn vorbei reißen die nach...  \n",
       "2602  deu  hey wenn es dir hilft bei mir ist das gleiche ...  \n",
       "\n",
       "[2603 rows x 9 columns]"
      ]
     },
     "execution_count": 15,
     "metadata": {},
     "output_type": "execute_result"
    }
   ],
   "source": [
    "\n",
    "train_data=train_data.fillna(0)\n",
    "\n",
    "train_data"
   ]
  },
  {
   "cell_type": "code",
   "execution_count": 16,
   "metadata": {
    "colab": {
     "base_uri": "https://localhost:8080/",
     "height": 423
    },
    "execution": {
     "iopub.execute_input": "2025-01-11T21:30:30.052976Z",
     "iopub.status.busy": "2025-01-11T21:30:30.052753Z",
     "iopub.status.idle": "2025-01-11T21:30:30.075150Z",
     "shell.execute_reply": "2025-01-11T21:30:30.074497Z",
     "shell.execute_reply.started": "2025-01-11T21:30:30.052957Z"
    },
    "id": "wWyOiTLLBad5",
    "outputId": "bf78fafa-fc19-4090-863b-f1f758ce555e",
    "trusted": true
   },
   "outputs": [
    {
     "data": {
      "text/html": [
       "<div>\n",
       "<style scoped>\n",
       "    .dataframe tbody tr th:only-of-type {\n",
       "        vertical-align: middle;\n",
       "    }\n",
       "\n",
       "    .dataframe tbody tr th {\n",
       "        vertical-align: top;\n",
       "    }\n",
       "\n",
       "    .dataframe thead th {\n",
       "        text-align: right;\n",
       "    }\n",
       "</style>\n",
       "<table border=\"1\" class=\"dataframe\">\n",
       "  <thead>\n",
       "    <tr style=\"text-align: right;\">\n",
       "      <th></th>\n",
       "      <th>id</th>\n",
       "      <th>anger</th>\n",
       "      <th>disgust</th>\n",
       "      <th>fear</th>\n",
       "      <th>joy</th>\n",
       "      <th>sadness</th>\n",
       "      <th>surprise</th>\n",
       "      <th>lang</th>\n",
       "      <th>clean_message</th>\n",
       "    </tr>\n",
       "  </thead>\n",
       "  <tbody>\n",
       "    <tr>\n",
       "      <th>0</th>\n",
       "      <td>deu_train_track_a_00001</td>\n",
       "      <td>0</td>\n",
       "      <td>0</td>\n",
       "      <td>1</td>\n",
       "      <td>0</td>\n",
       "      <td>0</td>\n",
       "      <td>0</td>\n",
       "      <td>deu</td>\n",
       "      <td>hallo an alle lesenden da ich jetzt erstmal ei...</td>\n",
       "    </tr>\n",
       "    <tr>\n",
       "      <th>1</th>\n",
       "      <td>deu_train_track_a_00002</td>\n",
       "      <td>0</td>\n",
       "      <td>0</td>\n",
       "      <td>0</td>\n",
       "      <td>0</td>\n",
       "      <td>0</td>\n",
       "      <td>0</td>\n",
       "      <td>deu</td>\n",
       "      <td>du warst bestimmt schon in verschiedenen lände...</td>\n",
       "    </tr>\n",
       "    <tr>\n",
       "      <th>2</th>\n",
       "      <td>deu_train_track_a_00003</td>\n",
       "      <td>0</td>\n",
       "      <td>0</td>\n",
       "      <td>0</td>\n",
       "      <td>0</td>\n",
       "      <td>0</td>\n",
       "      <td>0</td>\n",
       "      <td>deu</td>\n",
       "      <td>wenn ihr um geld spielt bei bingo fangen sie a...</td>\n",
       "    </tr>\n",
       "    <tr>\n",
       "      <th>3</th>\n",
       "      <td>deu_train_track_a_00004</td>\n",
       "      <td>0</td>\n",
       "      <td>1</td>\n",
       "      <td>0</td>\n",
       "      <td>1</td>\n",
       "      <td>0</td>\n",
       "      <td>0</td>\n",
       "      <td>deu</td>\n",
       "      <td>ich finde baerbock macht sich sehr gut als aus...</td>\n",
       "    </tr>\n",
       "    <tr>\n",
       "      <th>4</th>\n",
       "      <td>deu_train_track_a_00005</td>\n",
       "      <td>0</td>\n",
       "      <td>0</td>\n",
       "      <td>0</td>\n",
       "      <td>0</td>\n",
       "      <td>0</td>\n",
       "      <td>0</td>\n",
       "      <td>deu</td>\n",
       "      <td>ich war bei der zweiten impfung bereits schwan...</td>\n",
       "    </tr>\n",
       "    <tr>\n",
       "      <th>...</th>\n",
       "      <td>...</td>\n",
       "      <td>...</td>\n",
       "      <td>...</td>\n",
       "      <td>...</td>\n",
       "      <td>...</td>\n",
       "      <td>...</td>\n",
       "      <td>...</td>\n",
       "      <td>...</td>\n",
       "      <td>...</td>\n",
       "    </tr>\n",
       "    <tr>\n",
       "      <th>2598</th>\n",
       "      <td>deu_train_track_a_02599</td>\n",
       "      <td>0</td>\n",
       "      <td>0</td>\n",
       "      <td>0</td>\n",
       "      <td>0</td>\n",
       "      <td>1</td>\n",
       "      <td>0</td>\n",
       "      <td>deu</td>\n",
       "      <td>meine schwester hat mit 14 ihren ersten freund...</td>\n",
       "    </tr>\n",
       "    <tr>\n",
       "      <th>2599</th>\n",
       "      <td>deu_train_track_a_02600</td>\n",
       "      <td>0</td>\n",
       "      <td>0</td>\n",
       "      <td>0</td>\n",
       "      <td>0</td>\n",
       "      <td>0</td>\n",
       "      <td>0</td>\n",
       "      <td>deu</td>\n",
       "      <td>die grammatik ist bedenklich bis falsch hast d...</td>\n",
       "    </tr>\n",
       "    <tr>\n",
       "      <th>2600</th>\n",
       "      <td>deu_train_track_a_02601</td>\n",
       "      <td>0</td>\n",
       "      <td>0</td>\n",
       "      <td>0</td>\n",
       "      <td>0</td>\n",
       "      <td>0</td>\n",
       "      <td>0</td>\n",
       "      <td>deu</td>\n",
       "      <td>gefühle sind nie lächerlich da muss ich dich e...</td>\n",
       "    </tr>\n",
       "    <tr>\n",
       "      <th>2601</th>\n",
       "      <td>deu_train_track_a_02602</td>\n",
       "      <td>0</td>\n",
       "      <td>0</td>\n",
       "      <td>0</td>\n",
       "      <td>0</td>\n",
       "      <td>1</td>\n",
       "      <td>0</td>\n",
       "      <td>deu</td>\n",
       "      <td>wann ist das elend denn vorbei reißen die nach...</td>\n",
       "    </tr>\n",
       "    <tr>\n",
       "      <th>2602</th>\n",
       "      <td>deu_train_track_a_02603</td>\n",
       "      <td>0</td>\n",
       "      <td>0</td>\n",
       "      <td>0</td>\n",
       "      <td>0</td>\n",
       "      <td>0</td>\n",
       "      <td>0</td>\n",
       "      <td>deu</td>\n",
       "      <td>hey wenn es dir hilft bei mir ist das gleiche ...</td>\n",
       "    </tr>\n",
       "  </tbody>\n",
       "</table>\n",
       "<p>2603 rows × 9 columns</p>\n",
       "</div>"
      ],
      "text/plain": [
       "                           id  anger  disgust  fear  joy  sadness  surprise  \\\n",
       "0     deu_train_track_a_00001      0        0     1    0        0         0   \n",
       "1     deu_train_track_a_00002      0        0     0    0        0         0   \n",
       "2     deu_train_track_a_00003      0        0     0    0        0         0   \n",
       "3     deu_train_track_a_00004      0        1     0    1        0         0   \n",
       "4     deu_train_track_a_00005      0        0     0    0        0         0   \n",
       "...                       ...    ...      ...   ...  ...      ...       ...   \n",
       "2598  deu_train_track_a_02599      0        0     0    0        1         0   \n",
       "2599  deu_train_track_a_02600      0        0     0    0        0         0   \n",
       "2600  deu_train_track_a_02601      0        0     0    0        0         0   \n",
       "2601  deu_train_track_a_02602      0        0     0    0        1         0   \n",
       "2602  deu_train_track_a_02603      0        0     0    0        0         0   \n",
       "\n",
       "     lang                                      clean_message  \n",
       "0     deu  hallo an alle lesenden da ich jetzt erstmal ei...  \n",
       "1     deu  du warst bestimmt schon in verschiedenen lände...  \n",
       "2     deu  wenn ihr um geld spielt bei bingo fangen sie a...  \n",
       "3     deu  ich finde baerbock macht sich sehr gut als aus...  \n",
       "4     deu  ich war bei der zweiten impfung bereits schwan...  \n",
       "...   ...                                                ...  \n",
       "2598  deu  meine schwester hat mit 14 ihren ersten freund...  \n",
       "2599  deu  die grammatik ist bedenklich bis falsch hast d...  \n",
       "2600  deu  gefühle sind nie lächerlich da muss ich dich e...  \n",
       "2601  deu  wann ist das elend denn vorbei reißen die nach...  \n",
       "2602  deu  hey wenn es dir hilft bei mir ist das gleiche ...  \n",
       "\n",
       "[2603 rows x 9 columns]"
      ]
     },
     "execution_count": 16,
     "metadata": {},
     "output_type": "execute_result"
    }
   ],
   "source": [
    "float_columns = train_data.select_dtypes(include=['float64']).columns\n",
    "\n",
    "# Convert those columns to int\n",
    "train_data[float_columns] = train_data[float_columns].astype('int')\n",
    "train_data"
   ]
  },
  {
   "cell_type": "code",
   "execution_count": 17,
   "metadata": {
    "colab": {
     "base_uri": "https://localhost:8080/",
     "height": 335
    },
    "execution": {
     "iopub.execute_input": "2025-01-11T21:30:30.076165Z",
     "iopub.status.busy": "2025-01-11T21:30:30.075884Z",
     "iopub.status.idle": "2025-01-11T21:30:30.091659Z",
     "shell.execute_reply": "2025-01-11T21:30:30.091006Z",
     "shell.execute_reply.started": "2025-01-11T21:30:30.076137Z"
    },
    "id": "LfElY7blBad5",
    "outputId": "1f406e85-0afd-4b39-dc71-49bfc83c3788",
    "trusted": true
   },
   "outputs": [
    {
     "data": {
      "text/plain": [
       "id               object\n",
       "anger             int64\n",
       "disgust           int64\n",
       "fear              int64\n",
       "joy               int64\n",
       "sadness           int64\n",
       "surprise          int64\n",
       "lang             object\n",
       "clean_message    object\n",
       "dtype: object"
      ]
     },
     "execution_count": 17,
     "metadata": {},
     "output_type": "execute_result"
    }
   ],
   "source": [
    "train_data.dtypes"
   ]
  },
  {
   "cell_type": "code",
   "execution_count": 18,
   "metadata": {
    "colab": {
     "base_uri": "https://localhost:8080/",
     "height": 423
    },
    "execution": {
     "iopub.execute_input": "2025-01-11T21:30:30.092822Z",
     "iopub.status.busy": "2025-01-11T21:30:30.092526Z",
     "iopub.status.idle": "2025-01-11T21:30:30.115951Z",
     "shell.execute_reply": "2025-01-11T21:30:30.115182Z",
     "shell.execute_reply.started": "2025-01-11T21:30:30.092777Z"
    },
    "id": "tlabsablmWzT",
    "outputId": "7ce6c2c0-569e-408a-cace-a17ff116ab17",
    "trusted": true
   },
   "outputs": [
    {
     "data": {
      "text/html": [
       "<div>\n",
       "<style scoped>\n",
       "    .dataframe tbody tr th:only-of-type {\n",
       "        vertical-align: middle;\n",
       "    }\n",
       "\n",
       "    .dataframe tbody tr th {\n",
       "        vertical-align: top;\n",
       "    }\n",
       "\n",
       "    .dataframe thead th {\n",
       "        text-align: right;\n",
       "    }\n",
       "</style>\n",
       "<table border=\"1\" class=\"dataframe\">\n",
       "  <thead>\n",
       "    <tr style=\"text-align: right;\">\n",
       "      <th></th>\n",
       "      <th>index</th>\n",
       "      <th>id</th>\n",
       "      <th>anger</th>\n",
       "      <th>disgust</th>\n",
       "      <th>fear</th>\n",
       "      <th>joy</th>\n",
       "      <th>sadness</th>\n",
       "      <th>surprise</th>\n",
       "      <th>lang</th>\n",
       "      <th>clean_message</th>\n",
       "    </tr>\n",
       "  </thead>\n",
       "  <tbody>\n",
       "    <tr>\n",
       "      <th>0</th>\n",
       "      <td>0</td>\n",
       "      <td>deu_train_track_a_00001</td>\n",
       "      <td>0</td>\n",
       "      <td>0</td>\n",
       "      <td>1</td>\n",
       "      <td>0</td>\n",
       "      <td>0</td>\n",
       "      <td>0</td>\n",
       "      <td>deu</td>\n",
       "      <td>hallo an alle lesenden da ich jetzt erstmal ei...</td>\n",
       "    </tr>\n",
       "    <tr>\n",
       "      <th>1</th>\n",
       "      <td>1</td>\n",
       "      <td>deu_train_track_a_00002</td>\n",
       "      <td>0</td>\n",
       "      <td>0</td>\n",
       "      <td>0</td>\n",
       "      <td>0</td>\n",
       "      <td>0</td>\n",
       "      <td>0</td>\n",
       "      <td>deu</td>\n",
       "      <td>du warst bestimmt schon in verschiedenen lände...</td>\n",
       "    </tr>\n",
       "    <tr>\n",
       "      <th>2</th>\n",
       "      <td>2</td>\n",
       "      <td>deu_train_track_a_00003</td>\n",
       "      <td>0</td>\n",
       "      <td>0</td>\n",
       "      <td>0</td>\n",
       "      <td>0</td>\n",
       "      <td>0</td>\n",
       "      <td>0</td>\n",
       "      <td>deu</td>\n",
       "      <td>wenn ihr um geld spielt bei bingo fangen sie a...</td>\n",
       "    </tr>\n",
       "    <tr>\n",
       "      <th>3</th>\n",
       "      <td>3</td>\n",
       "      <td>deu_train_track_a_00004</td>\n",
       "      <td>0</td>\n",
       "      <td>1</td>\n",
       "      <td>0</td>\n",
       "      <td>1</td>\n",
       "      <td>0</td>\n",
       "      <td>0</td>\n",
       "      <td>deu</td>\n",
       "      <td>ich finde baerbock macht sich sehr gut als aus...</td>\n",
       "    </tr>\n",
       "    <tr>\n",
       "      <th>4</th>\n",
       "      <td>4</td>\n",
       "      <td>deu_train_track_a_00005</td>\n",
       "      <td>0</td>\n",
       "      <td>0</td>\n",
       "      <td>0</td>\n",
       "      <td>0</td>\n",
       "      <td>0</td>\n",
       "      <td>0</td>\n",
       "      <td>deu</td>\n",
       "      <td>ich war bei der zweiten impfung bereits schwan...</td>\n",
       "    </tr>\n",
       "    <tr>\n",
       "      <th>...</th>\n",
       "      <td>...</td>\n",
       "      <td>...</td>\n",
       "      <td>...</td>\n",
       "      <td>...</td>\n",
       "      <td>...</td>\n",
       "      <td>...</td>\n",
       "      <td>...</td>\n",
       "      <td>...</td>\n",
       "      <td>...</td>\n",
       "      <td>...</td>\n",
       "    </tr>\n",
       "    <tr>\n",
       "      <th>2598</th>\n",
       "      <td>2598</td>\n",
       "      <td>deu_train_track_a_02599</td>\n",
       "      <td>0</td>\n",
       "      <td>0</td>\n",
       "      <td>0</td>\n",
       "      <td>0</td>\n",
       "      <td>1</td>\n",
       "      <td>0</td>\n",
       "      <td>deu</td>\n",
       "      <td>meine schwester hat mit 14 ihren ersten freund...</td>\n",
       "    </tr>\n",
       "    <tr>\n",
       "      <th>2599</th>\n",
       "      <td>2599</td>\n",
       "      <td>deu_train_track_a_02600</td>\n",
       "      <td>0</td>\n",
       "      <td>0</td>\n",
       "      <td>0</td>\n",
       "      <td>0</td>\n",
       "      <td>0</td>\n",
       "      <td>0</td>\n",
       "      <td>deu</td>\n",
       "      <td>die grammatik ist bedenklich bis falsch hast d...</td>\n",
       "    </tr>\n",
       "    <tr>\n",
       "      <th>2600</th>\n",
       "      <td>2600</td>\n",
       "      <td>deu_train_track_a_02601</td>\n",
       "      <td>0</td>\n",
       "      <td>0</td>\n",
       "      <td>0</td>\n",
       "      <td>0</td>\n",
       "      <td>0</td>\n",
       "      <td>0</td>\n",
       "      <td>deu</td>\n",
       "      <td>gefühle sind nie lächerlich da muss ich dich e...</td>\n",
       "    </tr>\n",
       "    <tr>\n",
       "      <th>2601</th>\n",
       "      <td>2601</td>\n",
       "      <td>deu_train_track_a_02602</td>\n",
       "      <td>0</td>\n",
       "      <td>0</td>\n",
       "      <td>0</td>\n",
       "      <td>0</td>\n",
       "      <td>1</td>\n",
       "      <td>0</td>\n",
       "      <td>deu</td>\n",
       "      <td>wann ist das elend denn vorbei reißen die nach...</td>\n",
       "    </tr>\n",
       "    <tr>\n",
       "      <th>2602</th>\n",
       "      <td>2602</td>\n",
       "      <td>deu_train_track_a_02603</td>\n",
       "      <td>0</td>\n",
       "      <td>0</td>\n",
       "      <td>0</td>\n",
       "      <td>0</td>\n",
       "      <td>0</td>\n",
       "      <td>0</td>\n",
       "      <td>deu</td>\n",
       "      <td>hey wenn es dir hilft bei mir ist das gleiche ...</td>\n",
       "    </tr>\n",
       "  </tbody>\n",
       "</table>\n",
       "<p>2603 rows × 10 columns</p>\n",
       "</div>"
      ],
      "text/plain": [
       "      index                       id  anger  disgust  fear  joy  sadness  \\\n",
       "0         0  deu_train_track_a_00001      0        0     1    0        0   \n",
       "1         1  deu_train_track_a_00002      0        0     0    0        0   \n",
       "2         2  deu_train_track_a_00003      0        0     0    0        0   \n",
       "3         3  deu_train_track_a_00004      0        1     0    1        0   \n",
       "4         4  deu_train_track_a_00005      0        0     0    0        0   \n",
       "...     ...                      ...    ...      ...   ...  ...      ...   \n",
       "2598   2598  deu_train_track_a_02599      0        0     0    0        1   \n",
       "2599   2599  deu_train_track_a_02600      0        0     0    0        0   \n",
       "2600   2600  deu_train_track_a_02601      0        0     0    0        0   \n",
       "2601   2601  deu_train_track_a_02602      0        0     0    0        1   \n",
       "2602   2602  deu_train_track_a_02603      0        0     0    0        0   \n",
       "\n",
       "      surprise lang                                      clean_message  \n",
       "0            0  deu  hallo an alle lesenden da ich jetzt erstmal ei...  \n",
       "1            0  deu  du warst bestimmt schon in verschiedenen lände...  \n",
       "2            0  deu  wenn ihr um geld spielt bei bingo fangen sie a...  \n",
       "3            0  deu  ich finde baerbock macht sich sehr gut als aus...  \n",
       "4            0  deu  ich war bei der zweiten impfung bereits schwan...  \n",
       "...        ...  ...                                                ...  \n",
       "2598         0  deu  meine schwester hat mit 14 ihren ersten freund...  \n",
       "2599         0  deu  die grammatik ist bedenklich bis falsch hast d...  \n",
       "2600         0  deu  gefühle sind nie lächerlich da muss ich dich e...  \n",
       "2601         0  deu  wann ist das elend denn vorbei reißen die nach...  \n",
       "2602         0  deu  hey wenn es dir hilft bei mir ist das gleiche ...  \n",
       "\n",
       "[2603 rows x 10 columns]"
      ]
     },
     "execution_count": 18,
     "metadata": {},
     "output_type": "execute_result"
    }
   ],
   "source": [
    "train_data = train_data[\n",
    "\n",
    "train_data['clean_message'].isnull()==False]\n",
    "\n",
    "train_data.reset_index()"
   ]
  },
  {
   "cell_type": "code",
   "execution_count": 19,
   "metadata": {
    "colab": {
     "base_uri": "https://localhost:8080/",
     "height": 423
    },
    "execution": {
     "iopub.execute_input": "2025-01-11T21:30:30.116926Z",
     "iopub.status.busy": "2025-01-11T21:30:30.116670Z",
     "iopub.status.idle": "2025-01-11T21:30:30.127394Z",
     "shell.execute_reply": "2025-01-11T21:30:30.126720Z",
     "shell.execute_reply.started": "2025-01-11T21:30:30.116907Z"
    },
    "id": "3sl4zq2jBad6",
    "outputId": "c8c98a42-4f25-4bb8-bb4e-dc0e8690acc3",
    "trusted": true
   },
   "outputs": [
    {
     "data": {
      "text/html": [
       "<div>\n",
       "<style scoped>\n",
       "    .dataframe tbody tr th:only-of-type {\n",
       "        vertical-align: middle;\n",
       "    }\n",
       "\n",
       "    .dataframe tbody tr th {\n",
       "        vertical-align: top;\n",
       "    }\n",
       "\n",
       "    .dataframe thead th {\n",
       "        text-align: right;\n",
       "    }\n",
       "</style>\n",
       "<table border=\"1\" class=\"dataframe\">\n",
       "  <thead>\n",
       "    <tr style=\"text-align: right;\">\n",
       "      <th></th>\n",
       "      <th>id</th>\n",
       "      <th>anger</th>\n",
       "      <th>disgust</th>\n",
       "      <th>fear</th>\n",
       "      <th>joy</th>\n",
       "      <th>sadness</th>\n",
       "      <th>surprise</th>\n",
       "      <th>lang</th>\n",
       "      <th>clean_message</th>\n",
       "    </tr>\n",
       "  </thead>\n",
       "  <tbody>\n",
       "    <tr>\n",
       "      <th>0</th>\n",
       "      <td>deu_train_track_a_00001</td>\n",
       "      <td>0</td>\n",
       "      <td>0</td>\n",
       "      <td>1</td>\n",
       "      <td>0</td>\n",
       "      <td>0</td>\n",
       "      <td>0</td>\n",
       "      <td>deu</td>\n",
       "      <td>hallo an alle lesenden da ich jetzt erstmal ei...</td>\n",
       "    </tr>\n",
       "    <tr>\n",
       "      <th>1</th>\n",
       "      <td>deu_train_track_a_00002</td>\n",
       "      <td>0</td>\n",
       "      <td>0</td>\n",
       "      <td>0</td>\n",
       "      <td>0</td>\n",
       "      <td>0</td>\n",
       "      <td>0</td>\n",
       "      <td>deu</td>\n",
       "      <td>du warst bestimmt schon in verschiedenen lände...</td>\n",
       "    </tr>\n",
       "    <tr>\n",
       "      <th>2</th>\n",
       "      <td>deu_train_track_a_00003</td>\n",
       "      <td>0</td>\n",
       "      <td>0</td>\n",
       "      <td>0</td>\n",
       "      <td>0</td>\n",
       "      <td>0</td>\n",
       "      <td>0</td>\n",
       "      <td>deu</td>\n",
       "      <td>wenn ihr um geld spielt bei bingo fangen sie a...</td>\n",
       "    </tr>\n",
       "    <tr>\n",
       "      <th>3</th>\n",
       "      <td>deu_train_track_a_00004</td>\n",
       "      <td>0</td>\n",
       "      <td>1</td>\n",
       "      <td>0</td>\n",
       "      <td>1</td>\n",
       "      <td>0</td>\n",
       "      <td>0</td>\n",
       "      <td>deu</td>\n",
       "      <td>ich finde baerbock macht sich sehr gut als aus...</td>\n",
       "    </tr>\n",
       "    <tr>\n",
       "      <th>4</th>\n",
       "      <td>deu_train_track_a_00005</td>\n",
       "      <td>0</td>\n",
       "      <td>0</td>\n",
       "      <td>0</td>\n",
       "      <td>0</td>\n",
       "      <td>0</td>\n",
       "      <td>0</td>\n",
       "      <td>deu</td>\n",
       "      <td>ich war bei der zweiten impfung bereits schwan...</td>\n",
       "    </tr>\n",
       "    <tr>\n",
       "      <th>...</th>\n",
       "      <td>...</td>\n",
       "      <td>...</td>\n",
       "      <td>...</td>\n",
       "      <td>...</td>\n",
       "      <td>...</td>\n",
       "      <td>...</td>\n",
       "      <td>...</td>\n",
       "      <td>...</td>\n",
       "      <td>...</td>\n",
       "    </tr>\n",
       "    <tr>\n",
       "      <th>2598</th>\n",
       "      <td>deu_train_track_a_02599</td>\n",
       "      <td>0</td>\n",
       "      <td>0</td>\n",
       "      <td>0</td>\n",
       "      <td>0</td>\n",
       "      <td>1</td>\n",
       "      <td>0</td>\n",
       "      <td>deu</td>\n",
       "      <td>meine schwester hat mit 14 ihren ersten freund...</td>\n",
       "    </tr>\n",
       "    <tr>\n",
       "      <th>2599</th>\n",
       "      <td>deu_train_track_a_02600</td>\n",
       "      <td>0</td>\n",
       "      <td>0</td>\n",
       "      <td>0</td>\n",
       "      <td>0</td>\n",
       "      <td>0</td>\n",
       "      <td>0</td>\n",
       "      <td>deu</td>\n",
       "      <td>die grammatik ist bedenklich bis falsch hast d...</td>\n",
       "    </tr>\n",
       "    <tr>\n",
       "      <th>2600</th>\n",
       "      <td>deu_train_track_a_02601</td>\n",
       "      <td>0</td>\n",
       "      <td>0</td>\n",
       "      <td>0</td>\n",
       "      <td>0</td>\n",
       "      <td>0</td>\n",
       "      <td>0</td>\n",
       "      <td>deu</td>\n",
       "      <td>gefühle sind nie lächerlich da muss ich dich e...</td>\n",
       "    </tr>\n",
       "    <tr>\n",
       "      <th>2601</th>\n",
       "      <td>deu_train_track_a_02602</td>\n",
       "      <td>0</td>\n",
       "      <td>0</td>\n",
       "      <td>0</td>\n",
       "      <td>0</td>\n",
       "      <td>1</td>\n",
       "      <td>0</td>\n",
       "      <td>deu</td>\n",
       "      <td>wann ist das elend denn vorbei reißen die nach...</td>\n",
       "    </tr>\n",
       "    <tr>\n",
       "      <th>2602</th>\n",
       "      <td>deu_train_track_a_02603</td>\n",
       "      <td>0</td>\n",
       "      <td>0</td>\n",
       "      <td>0</td>\n",
       "      <td>0</td>\n",
       "      <td>0</td>\n",
       "      <td>0</td>\n",
       "      <td>deu</td>\n",
       "      <td>hey wenn es dir hilft bei mir ist das gleiche ...</td>\n",
       "    </tr>\n",
       "  </tbody>\n",
       "</table>\n",
       "<p>2603 rows × 9 columns</p>\n",
       "</div>"
      ],
      "text/plain": [
       "                           id  anger  disgust  fear  joy  sadness  surprise  \\\n",
       "0     deu_train_track_a_00001      0        0     1    0        0         0   \n",
       "1     deu_train_track_a_00002      0        0     0    0        0         0   \n",
       "2     deu_train_track_a_00003      0        0     0    0        0         0   \n",
       "3     deu_train_track_a_00004      0        1     0    1        0         0   \n",
       "4     deu_train_track_a_00005      0        0     0    0        0         0   \n",
       "...                       ...    ...      ...   ...  ...      ...       ...   \n",
       "2598  deu_train_track_a_02599      0        0     0    0        1         0   \n",
       "2599  deu_train_track_a_02600      0        0     0    0        0         0   \n",
       "2600  deu_train_track_a_02601      0        0     0    0        0         0   \n",
       "2601  deu_train_track_a_02602      0        0     0    0        1         0   \n",
       "2602  deu_train_track_a_02603      0        0     0    0        0         0   \n",
       "\n",
       "     lang                                      clean_message  \n",
       "0     deu  hallo an alle lesenden da ich jetzt erstmal ei...  \n",
       "1     deu  du warst bestimmt schon in verschiedenen lände...  \n",
       "2     deu  wenn ihr um geld spielt bei bingo fangen sie a...  \n",
       "3     deu  ich finde baerbock macht sich sehr gut als aus...  \n",
       "4     deu  ich war bei der zweiten impfung bereits schwan...  \n",
       "...   ...                                                ...  \n",
       "2598  deu  meine schwester hat mit 14 ihren ersten freund...  \n",
       "2599  deu  die grammatik ist bedenklich bis falsch hast d...  \n",
       "2600  deu  gefühle sind nie lächerlich da muss ich dich e...  \n",
       "2601  deu  wann ist das elend denn vorbei reißen die nach...  \n",
       "2602  deu  hey wenn es dir hilft bei mir ist das gleiche ...  \n",
       "\n",
       "[2603 rows x 9 columns]"
      ]
     },
     "execution_count": 19,
     "metadata": {},
     "output_type": "execute_result"
    }
   ],
   "source": [
    "train_data"
   ]
  },
  {
   "cell_type": "code",
   "execution_count": 20,
   "metadata": {
    "execution": {
     "iopub.execute_input": "2025-01-11T21:30:30.128414Z",
     "iopub.status.busy": "2025-01-11T21:30:30.128136Z",
     "iopub.status.idle": "2025-01-11T21:30:30.140301Z",
     "shell.execute_reply": "2025-01-11T21:30:30.139642Z",
     "shell.execute_reply.started": "2025-01-11T21:30:30.128369Z"
    },
    "id": "2RXwzOOkBad6",
    "trusted": true
   },
   "outputs": [],
   "source": [
    "# label_columns =['anger', 'fear', 'joy', 'sadness', 'surprise']\n",
    "label_columns =['anger', 'disgust', 'fear', 'joy', 'sadness', 'surprise']\n"
   ]
  },
  {
   "cell_type": "code",
   "execution_count": 21,
   "metadata": {
    "colab": {
     "base_uri": "https://localhost:8080/",
     "height": 147
    },
    "execution": {
     "iopub.execute_input": "2025-01-11T21:30:30.141198Z",
     "iopub.status.busy": "2025-01-11T21:30:30.140990Z",
     "iopub.status.idle": "2025-01-11T21:30:30.164617Z",
     "shell.execute_reply": "2025-01-11T21:30:30.163872Z",
     "shell.execute_reply.started": "2025-01-11T21:30:30.141169Z"
    },
    "id": "5SDZ3wEUBad6",
    "outputId": "8d6fe3c2-3fed-4ceb-8a7e-c0e433eb9b6c",
    "trusted": true
   },
   "outputs": [
    {
     "data": {
      "text/plain": [
       "lang\n",
       "deu    2603\n",
       "Name: count, dtype: int64"
      ]
     },
     "execution_count": 21,
     "metadata": {},
     "output_type": "execute_result"
    }
   ],
   "source": [
    "train_data['lang'].value_counts()"
   ]
  },
  {
   "cell_type": "code",
   "execution_count": 22,
   "metadata": {
    "colab": {
     "base_uri": "https://localhost:8080/"
    },
    "execution": {
     "iopub.execute_input": "2025-01-11T21:30:30.165514Z",
     "iopub.status.busy": "2025-01-11T21:30:30.165314Z",
     "iopub.status.idle": "2025-01-11T21:30:30.179348Z",
     "shell.execute_reply": "2025-01-11T21:30:30.178693Z",
     "shell.execute_reply.started": "2025-01-11T21:30:30.165496Z"
    },
    "id": "5ubyh_YPBad6",
    "outputId": "d0112a33-0d96-4c8a-f9da-477e9d141e96",
    "trusted": true
   },
   "outputs": [
    {
     "data": {
      "text/plain": [
       "0"
      ]
     },
     "execution_count": 22,
     "metadata": {},
     "output_type": "execute_result"
    }
   ],
   "source": [
    "sum(train_data['lang'].isna())"
   ]
  },
  {
   "cell_type": "code",
   "execution_count": 23,
   "metadata": {
    "colab": {
     "base_uri": "https://localhost:8080/",
     "height": 89
    },
    "execution": {
     "iopub.execute_input": "2025-01-11T21:30:30.180363Z",
     "iopub.status.busy": "2025-01-11T21:30:30.180066Z",
     "iopub.status.idle": "2025-01-11T21:30:30.197620Z",
     "shell.execute_reply": "2025-01-11T21:30:30.196719Z",
     "shell.execute_reply.started": "2025-01-11T21:30:30.180315Z"
    },
    "id": "8lubfAyYBad6",
    "outputId": "cb645860-bc14-46b9-9531-bdc25da9456b",
    "trusted": true
   },
   "outputs": [
    {
     "data": {
      "text/html": [
       "<div>\n",
       "<style scoped>\n",
       "    .dataframe tbody tr th:only-of-type {\n",
       "        vertical-align: middle;\n",
       "    }\n",
       "\n",
       "    .dataframe tbody tr th {\n",
       "        vertical-align: top;\n",
       "    }\n",
       "\n",
       "    .dataframe thead th {\n",
       "        text-align: right;\n",
       "    }\n",
       "</style>\n",
       "<table border=\"1\" class=\"dataframe\">\n",
       "  <thead>\n",
       "    <tr style=\"text-align: right;\">\n",
       "      <th></th>\n",
       "      <th>id</th>\n",
       "      <th>anger</th>\n",
       "      <th>disgust</th>\n",
       "      <th>fear</th>\n",
       "      <th>joy</th>\n",
       "      <th>sadness</th>\n",
       "      <th>surprise</th>\n",
       "      <th>lang</th>\n",
       "      <th>clean_message</th>\n",
       "    </tr>\n",
       "  </thead>\n",
       "  <tbody>\n",
       "  </tbody>\n",
       "</table>\n",
       "</div>"
      ],
      "text/plain": [
       "Empty DataFrame\n",
       "Columns: [id, anger, disgust, fear, joy, sadness, surprise, lang, clean_message]\n",
       "Index: []"
      ]
     },
     "execution_count": 23,
     "metadata": {},
     "output_type": "execute_result"
    }
   ],
   "source": [
    "nan_rows = train_data[train_data.isna().any(axis=1)]\n",
    "nan_rows\n",
    "# Group by 'lang' and list the rows with NaNs for each language\n",
    "# nan_by_language = nan_rows.groupby('lang').apply(lambda x: x)\n",
    "\n",
    "# Display the result\n",
    "# print(nan_by_language)"
   ]
  },
  {
   "cell_type": "code",
   "execution_count": 24,
   "metadata": {
    "colab": {
     "base_uri": "https://localhost:8080/",
     "height": 53
    },
    "execution": {
     "iopub.execute_input": "2025-01-11T21:30:30.198650Z",
     "iopub.status.busy": "2025-01-11T21:30:30.198467Z",
     "iopub.status.idle": "2025-01-11T21:30:30.215032Z",
     "shell.execute_reply": "2025-01-11T21:30:30.214391Z",
     "shell.execute_reply.started": "2025-01-11T21:30:30.198634Z"
    },
    "id": "egecP3nTBad6",
    "outputId": "c8c00fd4-8f13-48b6-833e-c48456076f53",
    "trusted": true
   },
   "outputs": [
    {
     "data": {
      "text/html": [
       "<div>\n",
       "<style scoped>\n",
       "    .dataframe tbody tr th:only-of-type {\n",
       "        vertical-align: middle;\n",
       "    }\n",
       "\n",
       "    .dataframe tbody tr th {\n",
       "        vertical-align: top;\n",
       "    }\n",
       "\n",
       "    .dataframe thead th {\n",
       "        text-align: right;\n",
       "    }\n",
       "</style>\n",
       "<table border=\"1\" class=\"dataframe\">\n",
       "  <thead>\n",
       "    <tr style=\"text-align: right;\">\n",
       "      <th></th>\n",
       "      <th>id</th>\n",
       "      <th>anger</th>\n",
       "      <th>disgust</th>\n",
       "      <th>fear</th>\n",
       "      <th>joy</th>\n",
       "      <th>sadness</th>\n",
       "      <th>surprise</th>\n",
       "      <th>lang</th>\n",
       "      <th>clean_message</th>\n",
       "    </tr>\n",
       "  </thead>\n",
       "  <tbody>\n",
       "  </tbody>\n",
       "</table>\n",
       "</div>"
      ],
      "text/plain": [
       "Empty DataFrame\n",
       "Columns: [id, anger, disgust, fear, joy, sadness, surprise, lang, clean_message]\n",
       "Index: []"
      ]
     },
     "execution_count": 24,
     "metadata": {},
     "output_type": "execute_result"
    }
   ],
   "source": [
    "nan_rows[nan_rows[\"lang\"]==\"eng\"]"
   ]
  },
  {
   "cell_type": "code",
   "execution_count": 25,
   "metadata": {
    "colab": {
     "base_uri": "https://localhost:8080/",
     "height": 335
    },
    "execution": {
     "iopub.execute_input": "2025-01-11T21:30:30.216133Z",
     "iopub.status.busy": "2025-01-11T21:30:30.215774Z",
     "iopub.status.idle": "2025-01-11T21:30:30.232477Z",
     "shell.execute_reply": "2025-01-11T21:30:30.231856Z",
     "shell.execute_reply.started": "2025-01-11T21:30:30.216105Z"
    },
    "id": "kweBEYKVBad6",
    "outputId": "f00c12c4-a8c0-4326-db01-45fc46b8929b",
    "trusted": true
   },
   "outputs": [
    {
     "data": {
      "text/plain": [
       "id               object\n",
       "anger             int64\n",
       "disgust           int64\n",
       "fear              int64\n",
       "joy               int64\n",
       "sadness           int64\n",
       "surprise          int64\n",
       "lang             object\n",
       "clean_message    object\n",
       "dtype: object"
      ]
     },
     "execution_count": 25,
     "metadata": {},
     "output_type": "execute_result"
    }
   ],
   "source": [
    "train_data[train_data[\"lang\"]==\"deu\"].dtypes"
   ]
  },
  {
   "cell_type": "code",
   "execution_count": 26,
   "metadata": {
    "colab": {
     "base_uri": "https://localhost:8080/",
     "height": 115
    },
    "execution": {
     "iopub.execute_input": "2025-01-11T21:30:30.233444Z",
     "iopub.status.busy": "2025-01-11T21:30:30.233200Z",
     "iopub.status.idle": "2025-01-11T21:30:30.248358Z",
     "shell.execute_reply": "2025-01-11T21:30:30.247635Z",
     "shell.execute_reply.started": "2025-01-11T21:30:30.233425Z"
    },
    "id": "dkMYBknIBad7",
    "outputId": "ae0d4698-637b-405f-8dde-cabc897eb410",
    "trusted": true
   },
   "outputs": [
    {
     "data": {
      "text/plain": [
       "Series([], Name: count, dtype: int64)"
      ]
     },
     "execution_count": 26,
     "metadata": {},
     "output_type": "execute_result"
    }
   ],
   "source": [
    "nan_rows[\"lang\"].value_counts()"
   ]
  },
  {
   "cell_type": "code",
   "execution_count": 27,
   "metadata": {
    "colab": {
     "base_uri": "https://localhost:8080/",
     "height": 335
    },
    "execution": {
     "iopub.execute_input": "2025-01-11T21:30:30.249476Z",
     "iopub.status.busy": "2025-01-11T21:30:30.249179Z",
     "iopub.status.idle": "2025-01-11T21:30:30.264484Z",
     "shell.execute_reply": "2025-01-11T21:30:30.263886Z",
     "shell.execute_reply.started": "2025-01-11T21:30:30.249446Z"
    },
    "id": "OrpSoZdfBad7",
    "outputId": "a7fa64e1-e191-460e-cd25-f201cfba907b",
    "trusted": true
   },
   "outputs": [
    {
     "data": {
      "text/plain": [
       "id               object\n",
       "anger             int64\n",
       "disgust           int64\n",
       "fear              int64\n",
       "joy               int64\n",
       "sadness           int64\n",
       "surprise          int64\n",
       "lang             object\n",
       "clean_message    object\n",
       "dtype: object"
      ]
     },
     "execution_count": 27,
     "metadata": {},
     "output_type": "execute_result"
    }
   ],
   "source": [
    "nan_rows.dtypes"
   ]
  },
  {
   "cell_type": "code",
   "execution_count": 28,
   "metadata": {
    "colab": {
     "base_uri": "https://localhost:8080/"
    },
    "execution": {
     "iopub.execute_input": "2025-01-11T21:30:30.265520Z",
     "iopub.status.busy": "2025-01-11T21:30:30.265195Z",
     "iopub.status.idle": "2025-01-11T21:30:30.291283Z",
     "shell.execute_reply": "2025-01-11T21:30:30.290503Z",
     "shell.execute_reply.started": "2025-01-11T21:30:30.265490Z"
    },
    "id": "a1FDeJieBad7",
    "outputId": "51f08738-2c7a-40cd-a06e-ff835ad2ac30",
    "trusted": true
   },
   "outputs": [
    {
     "name": "stdout",
     "output_type": "stream",
     "text": [
      "             id  disgust   fear    joy  sadness  surprise  lang  clean_message\n",
      "lang                                                                          \n",
      "deu  0     True    False   True  False    False     False  True           True\n",
      "     1     True    False  False  False    False     False  True           True\n",
      "     2     True    False  False  False    False     False  True           True\n",
      "     3     True     True  False   True    False     False  True           True\n",
      "     4     True    False  False  False    False     False  True           True\n",
      "...         ...      ...    ...    ...      ...       ...   ...            ...\n",
      "     2598  True    False  False  False     True     False  True           True\n",
      "     2599  True    False  False  False    False     False  True           True\n",
      "     2600  True    False  False  False    False     False  True           True\n",
      "     2601  True    False  False  False     True     False  True           True\n",
      "     2602  True    False  False  False    False     False  True           True\n",
      "\n",
      "[2603 rows x 8 columns]\n"
     ]
    }
   ],
   "source": [
    "# Step 2: Count how many columns are not 0 or 1 for each language\n",
    "def count_nonzero_nonone_rows(group):\n",
    "    # Exclude the 'lang' column from counting if needed\n",
    "    # Use boolean conditions to count values that are not 0 or 1\n",
    "    return (group.drop(columns='anger') != 0) & (group.drop(columns='anger') != 1).sum(axis=1).sum()\n",
    "\n",
    "# Group by 'lang' and apply the function to count non-zero, non-one values\n",
    "non_zero_non_one_counts = train_data.groupby('lang').apply(count_nonzero_nonone_rows)\n",
    "\n",
    "# Display the results\n",
    "# result = pd.DataFrame({\n",
    "#     'row_count': lang_row_counts,\n",
    "#     'non_zero_non_one_count': non_zero_non_one_counts\n",
    "# })\n",
    "\n",
    "print(non_zero_non_one_counts)"
   ]
  },
  {
   "cell_type": "code",
   "execution_count": 29,
   "metadata": {
    "colab": {
     "base_uri": "https://localhost:8080/"
    },
    "execution": {
     "iopub.execute_input": "2025-01-11T21:30:30.292334Z",
     "iopub.status.busy": "2025-01-11T21:30:30.292072Z",
     "iopub.status.idle": "2025-01-11T21:30:30.297915Z",
     "shell.execute_reply": "2025-01-11T21:30:30.297081Z",
     "shell.execute_reply.started": "2025-01-11T21:30:30.292314Z"
    },
    "id": "VPAf2dnTZF_H",
    "outputId": "f556f2b7-2cdc-4149-a690-a72b205401a2",
    "trusted": true
   },
   "outputs": [
    {
     "data": {
      "text/plain": [
       "833"
      ]
     },
     "execution_count": 29,
     "metadata": {},
     "output_type": "execute_result"
    }
   ],
   "source": [
    "maxi=train_data['clean_message'].apply(len).max()\n",
    "maxi"
   ]
  },
  {
   "cell_type": "code",
   "execution_count": 30,
   "metadata": {
    "colab": {
     "base_uri": "https://localhost:8080/"
    },
    "execution": {
     "iopub.execute_input": "2025-01-11T21:30:30.298841Z",
     "iopub.status.busy": "2025-01-11T21:30:30.298630Z",
     "iopub.status.idle": "2025-01-11T21:30:30.317956Z",
     "shell.execute_reply": "2025-01-11T21:30:30.317068Z",
     "shell.execute_reply.started": "2025-01-11T21:30:30.298803Z"
    },
    "id": "IpWtbxUzZM2o",
    "outputId": "4e249516-29d6-42a2-9c9f-2f2621f4f9e8",
    "trusted": true
   },
   "outputs": [
    {
     "data": {
      "text/html": [
       "<div>\n",
       "<style scoped>\n",
       "    .dataframe tbody tr th:only-of-type {\n",
       "        vertical-align: middle;\n",
       "    }\n",
       "\n",
       "    .dataframe tbody tr th {\n",
       "        vertical-align: top;\n",
       "    }\n",
       "\n",
       "    .dataframe thead th {\n",
       "        text-align: right;\n",
       "    }\n",
       "</style>\n",
       "<table border=\"1\" class=\"dataframe\">\n",
       "  <thead>\n",
       "    <tr style=\"text-align: right;\">\n",
       "      <th></th>\n",
       "      <th>id</th>\n",
       "      <th>anger</th>\n",
       "      <th>disgust</th>\n",
       "      <th>fear</th>\n",
       "      <th>joy</th>\n",
       "      <th>sadness</th>\n",
       "      <th>surprise</th>\n",
       "      <th>lang</th>\n",
       "      <th>clean_message</th>\n",
       "    </tr>\n",
       "  </thead>\n",
       "  <tbody>\n",
       "    <tr>\n",
       "      <th>450</th>\n",
       "      <td>deu_train_track_a_00451</td>\n",
       "      <td>1</td>\n",
       "      <td>1</td>\n",
       "      <td>0</td>\n",
       "      <td>0</td>\n",
       "      <td>0</td>\n",
       "      <td>0</td>\n",
       "      <td>deu</td>\n",
       "      <td>es ist seit geraumer zeit völlig klar daß russ...</td>\n",
       "    </tr>\n",
       "  </tbody>\n",
       "</table>\n",
       "</div>"
      ],
      "text/plain": [
       "                          id  anger  disgust  fear  joy  sadness  surprise  \\\n",
       "450  deu_train_track_a_00451      1        1     0    0        0         0   \n",
       "\n",
       "    lang                                      clean_message  \n",
       "450  deu  es ist seit geraumer zeit völlig klar daß russ...  "
      ]
     },
     "execution_count": 30,
     "metadata": {},
     "output_type": "execute_result"
    }
   ],
   "source": [
    "train_data[train_data['clean_message'].apply(len) == maxi]"
   ]
  },
  {
   "cell_type": "code",
   "execution_count": 31,
   "metadata": {
    "colab": {
     "base_uri": "https://localhost:8080/"
    },
    "execution": {
     "iopub.execute_input": "2025-01-11T21:30:30.319035Z",
     "iopub.status.busy": "2025-01-11T21:30:30.318751Z",
     "iopub.status.idle": "2025-01-11T21:30:30.335696Z",
     "shell.execute_reply": "2025-01-11T21:30:30.335036Z",
     "shell.execute_reply.started": "2025-01-11T21:30:30.319007Z"
    },
    "id": "_gXtuVeaZREY",
    "outputId": "3c4d9d96-842a-4278-a1ba-88654e8eaac6",
    "trusted": true
   },
   "outputs": [
    {
     "data": {
      "text/plain": [
       "array(['es ist seit geraumer zeit völlig klar daß russland ein widersacher ist und uns als eu und natoland feindlich gesonnen ist es ist weiterhin völlig klar daß russische geheimdienste sowohl einflußoperationen als auch spionage durchführen sie wären ja unfähig wenn sie das nicht täten im kontext des russischen angriffs auf europa das einzige haarsträubende bei der ganzen sache ist also daß offensichtlich bei der bundeswehr nicht so agiert wird als sei man zu jeder zeit ziel der russischen dienste und derartige gespräche nicht den entsprechenden sicherheitsmaßnahmen unterliegen da braucht man nix dem putin vorwerfen natürlich kommt aus russland desinformation destabilisierung und spionage ist ja russland ist ja kaum neu der bundeswehr aber ist vorzuwerfen daß sie sich nicht dagegen schützt bei allseits bekannter sicherheitslage'],\n",
       "      dtype=object)"
      ]
     },
     "execution_count": 31,
     "metadata": {},
     "output_type": "execute_result"
    }
   ],
   "source": [
    "train_data[train_data['clean_message'].apply(len) == maxi][\"clean_message\"].values"
   ]
  },
  {
   "cell_type": "code",
   "execution_count": 32,
   "metadata": {
    "execution": {
     "iopub.execute_input": "2025-01-11T21:30:30.336725Z",
     "iopub.status.busy": "2025-01-11T21:30:30.336457Z",
     "iopub.status.idle": "2025-01-11T21:30:30.351654Z",
     "shell.execute_reply": "2025-01-11T21:30:30.350869Z",
     "shell.execute_reply.started": "2025-01-11T21:30:30.336704Z"
    },
    "id": "Efx2E-A4Bad7",
    "trusted": true
   },
   "outputs": [],
   "source": [
    "# shuffle data\n",
    "train_data=train_data.sample(frac=1)\n",
    "# train_data=train_data.sample(100,random_state=42)\n"
   ]
  },
  {
   "cell_type": "code",
   "execution_count": 33,
   "metadata": {
    "execution": {
     "iopub.execute_input": "2025-01-11T21:30:30.352850Z",
     "iopub.status.busy": "2025-01-11T21:30:30.352552Z",
     "iopub.status.idle": "2025-01-11T21:30:30.370522Z",
     "shell.execute_reply": "2025-01-11T21:30:30.369871Z",
     "shell.execute_reply.started": "2025-01-11T21:30:30.352803Z"
    },
    "id": "QfMcAI26Bad7",
    "trusted": true
   },
   "outputs": [],
   "source": [
    "# train valid split\n",
    "train,valid=train_test_split(train_data,test_size=0.2,random_state=42)"
   ]
  },
  {
   "cell_type": "code",
   "execution_count": 34,
   "metadata": {
    "execution": {
     "iopub.execute_input": "2025-01-11T21:30:30.371444Z",
     "iopub.status.busy": "2025-01-11T21:30:30.371204Z",
     "iopub.status.idle": "2025-01-11T21:30:30.387590Z",
     "shell.execute_reply": "2025-01-11T21:30:30.386695Z",
     "shell.execute_reply.started": "2025-01-11T21:30:30.371424Z"
    },
    "id": "K0MsuYqpBad8",
    "trusted": true
   },
   "outputs": [],
   "source": [
    "x_train, y_train = train['clean_message'].values.tolist(), train[label_columns].values.tolist()\n",
    "\n",
    "x_valid, y_valid = valid['clean_message'].values.tolist(), valid[label_columns].values.tolist()"
   ]
  },
  {
   "cell_type": "code",
   "execution_count": 35,
   "metadata": {
    "execution": {
     "iopub.execute_input": "2025-01-11T21:30:30.388848Z",
     "iopub.status.busy": "2025-01-11T21:30:30.388583Z",
     "iopub.status.idle": "2025-01-11T21:30:30.405171Z",
     "shell.execute_reply": "2025-01-11T21:30:30.404400Z",
     "shell.execute_reply.started": "2025-01-11T21:30:30.388802Z"
    },
    "id": "6Sgs63uPBad8",
    "trusted": true
   },
   "outputs": [],
   "source": [
    "y_train_df = pd.DataFrame(y_train, columns=label_columns)"
   ]
  },
  {
   "cell_type": "code",
   "execution_count": 36,
   "metadata": {
    "colab": {
     "base_uri": "https://localhost:8080/"
    },
    "execution": {
     "iopub.execute_input": "2025-01-11T21:30:30.406200Z",
     "iopub.status.busy": "2025-01-11T21:30:30.405971Z",
     "iopub.status.idle": "2025-01-11T21:30:30.427218Z",
     "shell.execute_reply": "2025-01-11T21:30:30.426442Z",
     "shell.execute_reply.started": "2025-01-11T21:30:30.406181Z"
    },
    "id": "sVD0DSPvmdcE",
    "outputId": "d1d4d506-8552-4109-f0cc-f8979708f551",
    "trusted": true
   },
   "outputs": [
    {
     "name": "stdout",
     "output_type": "stream",
     "text": [
      "          count_0  count_1   sum\n",
      "anger        1454      628  2082\n",
      "disgust      1405      677  2082\n",
      "fear         1894      188  2082\n",
      "joy          1640      442  2082\n",
      "sadness      1686      396  2082\n",
      "surprise     1948      134  2082\n"
     ]
    }
   ],
   "source": [
    "#update label column name\n",
    "\n",
    "label_distribution = y_train_df.apply(pd.Series.value_counts).T.fillna(0).astype(int)\n",
    "\n",
    "label_distribution.columns = ['count_0', 'count_1']\n",
    "label_distribution['sum'] = label_distribution['count_0'] + label_distribution['count_1']\n",
    "print(label_distribution)"
   ]
  },
  {
   "cell_type": "code",
   "execution_count": 37,
   "metadata": {
    "execution": {
     "iopub.execute_input": "2025-01-11T21:30:30.428301Z",
     "iopub.status.busy": "2025-01-11T21:30:30.428033Z",
     "iopub.status.idle": "2025-01-11T21:30:30.494022Z",
     "shell.execute_reply": "2025-01-11T21:30:30.493342Z",
     "shell.execute_reply.started": "2025-01-11T21:30:30.428281Z"
    },
    "id": "-EFMbbzALDd6",
    "trusted": true
   },
   "outputs": [],
   "source": [
    "device=\"cuda\" if torch.cuda.is_available() else 'cpu'"
   ]
  },
  {
   "cell_type": "code",
   "execution_count": 38,
   "metadata": {
    "colab": {
     "base_uri": "https://localhost:8080/"
    },
    "execution": {
     "iopub.execute_input": "2025-01-11T21:30:30.495044Z",
     "iopub.status.busy": "2025-01-11T21:30:30.494797Z",
     "iopub.status.idle": "2025-01-11T21:30:31.032004Z",
     "shell.execute_reply": "2025-01-11T21:30:31.031299Z",
     "shell.execute_reply.started": "2025-01-11T21:30:30.495024Z"
    },
    "id": "ggY-tV1n2P7Q",
    "outputId": "368e6ef3-763a-45b0-887e-8057f8dfb6d9",
    "trusted": true
   },
   "outputs": [
    {
     "data": {
      "text/plain": [
       "tensor([1.6576, 1.5377, 5.5372, 2.3552, 2.6288, 7.7687], device='cuda:0')"
      ]
     },
     "execution_count": 38,
     "metadata": {},
     "output_type": "execute_result"
    }
   ],
   "source": [
    "from sklearn.utils.class_weight import compute_class_weight\n",
    "\n",
    "counts_0 = label_distribution['count_0'].to_numpy()\n",
    "counts_1 = label_distribution['count_1'].to_numpy()\n",
    "\n",
    "# Compute class-specific weights for each label (each class)\n",
    "class_weights = []\n",
    "for i in range(len(counts_0)):\n",
    "    weight = compute_class_weight('balanced', classes=np.array([0, 1]), y=[0] * counts_0[i] + [1] * counts_1[i])\n",
    "    class_weights.append(weight)\n",
    "\n",
    "# Convert the list of weights to a tensor\n",
    "class_weights_tensor = torch.tensor([w[1] for w in class_weights], dtype=torch.float,device=device)\n",
    "class_weights_tensor"
   ]
  },
  {
   "cell_type": "code",
   "execution_count": 39,
   "metadata": {
    "execution": {
     "iopub.execute_input": "2025-01-11T21:30:31.032871Z",
     "iopub.status.busy": "2025-01-11T21:30:31.032650Z",
     "iopub.status.idle": "2025-01-11T21:30:31.037697Z",
     "shell.execute_reply": "2025-01-11T21:30:31.036857Z",
     "shell.execute_reply.started": "2025-01-11T21:30:31.032853Z"
    },
    "id": "yZqp6Z2YmkJM",
    "trusted": true
   },
   "outputs": [],
   "source": [
    "class Dataset(torch.utils.data.Dataset):\n",
    "\n",
    "    def __init__(self, encodings, labels):\n",
    "\n",
    "        self.encodings = encodings\n",
    "\n",
    "        self.labels = labels\n",
    "\n",
    "\n",
    "\n",
    "    def __getitem__(self, idx):\n",
    "\n",
    "        item = {key: torch.tensor(val[idx]) for key, val in self.encodings.items()}\n",
    "\n",
    "        item['labels'] = torch.tensor(self.labels[idx], dtype=torch.float)\n",
    "\n",
    "        return item\n",
    "\n",
    "\n",
    "    def __len__(self):\n",
    "\n",
    "        return len(self.labels)"
   ]
  },
  {
   "cell_type": "code",
   "execution_count": 40,
   "metadata": {
    "colab": {
     "base_uri": "https://localhost:8080/"
    },
    "execution": {
     "iopub.execute_input": "2025-01-11T21:30:31.042996Z",
     "iopub.status.busy": "2025-01-11T21:30:31.042722Z",
     "iopub.status.idle": "2025-01-11T21:30:31.196554Z",
     "shell.execute_reply": "2025-01-11T21:30:31.195634Z",
     "shell.execute_reply.started": "2025-01-11T21:30:31.042975Z"
    },
    "id": "oKxH4x81Bad8",
    "outputId": "e2316388-3f40-44d2-bfbc-444b511b7164",
    "trusted": true
   },
   "outputs": [
    {
     "name": "stdout",
     "output_type": "stream",
     "text": [
      "ls: cannot access 'output/best-model-v1': No such file or directory\n"
     ]
    },
    {
     "name": "stderr",
     "output_type": "stream",
     "text": [
      "/usr/lib/python3.10/pty.py:89: RuntimeWarning: os.fork() was called. os.fork() is incompatible with multithreaded code, and JAX is multithreaded, so this will likely lead to a deadlock.\n",
      "  pid, fd = os.forkpty()\n"
     ]
    }
   ],
   "source": [
    "!ls output/best-model-v1"
   ]
  },
  {
   "cell_type": "code",
   "execution_count": 41,
   "metadata": {
    "execution": {
     "iopub.execute_input": "2025-01-11T21:30:31.198742Z",
     "iopub.status.busy": "2025-01-11T21:30:31.198520Z",
     "iopub.status.idle": "2025-01-11T21:30:31.204496Z",
     "shell.execute_reply": "2025-01-11T21:30:31.203712Z",
     "shell.execute_reply.started": "2025-01-11T21:30:31.198722Z"
    },
    "id": "rkp5NCQoml0I",
    "trusted": true
   },
   "outputs": [],
   "source": [
    "def build_dataset(x_train,y_train,x_valid,y_valid,MAX_LENGTH):\n",
    "\n",
    "  train_encodings = tokenizer(x_train, truncation=True, padding=\"max_length\", max_length=MAX_LENGTH)\n",
    "\n",
    "  valid_encodings = tokenizer(x_valid, truncation=True, padding=\"max_length\", max_length=MAX_LENGTH)\n",
    "\n",
    "  train_dataset = Dataset(train_encodings, y_train)\n",
    "\n",
    "  valid_dataset = Dataset(valid_encodings, y_valid)\n",
    "\n",
    "  return train_dataset,valid_dataset\n",
    "\n",
    "\n",
    "\n",
    "def train_arg():\n",
    "\n",
    "    training_args = TrainingArguments(\n",
    "\n",
    "    output_dir=\"./output/best-model-v1\",\n",
    "\n",
    "    report_to=None,\n",
    "    dataloader_pin_memory=False,\n",
    "\n",
    "    num_train_epochs=3,\n",
    "\n",
    "    gradient_accumulation_steps=2,\n",
    "\n",
    "    per_device_train_batch_size=8,\n",
    "\n",
    "    per_device_eval_batch_size=16,\n",
    "\n",
    "    learning_rate=2e-5,\n",
    "\n",
    "    weight_decay=0.01,\n",
    "\n",
    "    eval_strategy=IntervalStrategy.STEPS,\n",
    "\n",
    "    save_total_limit=1,\n",
    "\n",
    "    logging_dir=\"./logs\",\n",
    "\n",
    "    logging_strategy=IntervalStrategy.STEPS,\n",
    "\n",
    "    logging_steps=250,\n",
    "\n",
    "    eval_steps=500,\n",
    "\n",
    "    load_best_model_at_end=True,\n",
    "\n",
    "    lr_scheduler_type=\"cosine_with_restarts\",\n",
    "\n",
    "    warmup_steps=500,\n",
    "\n",
    "    save_strategy=\"steps\",\n",
    "\n",
    "    save_steps=500,\n",
    "\n",
    "  )\n",
    "\n",
    "    return training_args"
   ]
  },
  {
   "cell_type": "code",
   "execution_count": 42,
   "metadata": {
    "execution": {
     "iopub.execute_input": "2025-01-11T21:30:31.205473Z",
     "iopub.status.busy": "2025-01-11T21:30:31.205272Z",
     "iopub.status.idle": "2025-01-11T21:30:31.225802Z",
     "shell.execute_reply": "2025-01-11T21:30:31.225020Z",
     "shell.execute_reply.started": "2025-01-11T21:30:31.205454Z"
    },
    "id": "izahhMy5NwVv",
    "trusted": true
   },
   "outputs": [],
   "source": [
    "from sklearn.metrics import accuracy_score, precision_recall_fscore_support\n",
    "import numpy as np\n",
    "\n",
    "def compute_metrics(eval_pred):\n",
    "    \"\"\"\n",
    "    Compute metrics for multi-label classification.\n",
    "\n",
    "    Args:\n",
    "        eval_pred: Tuple of (predictions, labels).\n",
    "            predictions: logits or probabilities of shape (batch_size, num_labels)\n",
    "            labels: ground truth of shape (batch_size, num_labels)\n",
    "\n",
    "    Returns:\n",
    "        metrics: Dictionary containing accuracy, precision, recall, and F1-score.\n",
    "    \"\"\"\n",
    "    # Unpack predictions and labels\n",
    "    logits, labels = eval_pred\n",
    "\n",
    "    # Convert logits to binary predictions\n",
    "    # If your model outputs probabilities (e.g., after sigmoid), use threshold=0.5\n",
    "    probabilities = expit(logits)\n",
    "    predictions = (probabilities > 0.5).astype(int)\n",
    "\n",
    "    # Compute accuracy\n",
    "    accuracy = accuracy_score(labels, predictions)\n",
    "\n",
    "    # Compute precision, recall, f1-score\n",
    "    precision, recall, f1, _ = precision_recall_fscore_support(\n",
    "        labels, predictions, average=None\n",
    "    )\n",
    "\n",
    "    return {\n",
    "        \"accuracy\": accuracy,\n",
    "        \"precision\": precision,\n",
    "        \"recall\": recall,\n",
    "        \"f1\": f1\n",
    "    }"
   ]
  },
  {
   "cell_type": "code",
   "execution_count": 43,
   "metadata": {
    "execution": {
     "iopub.execute_input": "2025-01-11T21:30:31.226885Z",
     "iopub.status.busy": "2025-01-11T21:30:31.226573Z",
     "iopub.status.idle": "2025-01-11T21:30:31.245388Z",
     "shell.execute_reply": "2025-01-11T21:30:31.244543Z",
     "shell.execute_reply.started": "2025-01-11T21:30:31.226858Z"
    },
    "id": "cnH_BQ0XQeVZ",
    "trusted": true
   },
   "outputs": [],
   "source": [
    "import torch\n",
    "from torch.utils.data import DataLoader\n",
    "from tqdm import tqdm\n",
    "from scipy.special import expit  # For sigmoid activation if needed\n",
    "\n",
    "def evaluate_model(model, valid_dataset, compute_metrics, batch_size=32, device=\"cuda\",average=None):\n",
    "    \"\"\"\n",
    "    Evaluate a multi-label classification model without using the Hugging Face Trainer.\n",
    "\n",
    "    Args:\n",
    "        model: The trained model (Hugging Face model).\n",
    "        valid_dataset: The validation dataset (torch.utils.data.Dataset).\n",
    "        compute_metrics: The function to compute evaluation metrics.\n",
    "        batch_size: Batch size for evaluation.\n",
    "        device: Device to perform evaluation (e.g., \"cuda\" or \"cpu\").\n",
    "\n",
    "    Returns:\n",
    "        metrics: Dictionary containing evaluation metrics.\n",
    "    \"\"\"\n",
    "    # Set model to evaluation mode\n",
    "    model.eval()\n",
    "    model.to(device)\n",
    "\n",
    "    # Create DataLoader for the validation dataset\n",
    "    valid_loader = DataLoader(valid_dataset, batch_size=batch_size, shuffle=False)\n",
    "\n",
    "    all_predictions = []\n",
    "    all_labels = []\n",
    "\n",
    "    # Disable gradient computation for evaluation\n",
    "    with torch.no_grad():\n",
    "        for batch in tqdm(valid_loader, desc=\"Evaluating\"):\n",
    "            # Get inputs and labels\n",
    "            inputs = {key: val.to(device) for key, val in batch.items() if key != \"labels\"}\n",
    "            labels = batch[\"labels\"].to(device)\n",
    "\n",
    "            # Forward pass: Get logits\n",
    "            logits = model(**inputs)\n",
    "\n",
    "            # Apply sigmoid activation to logits if necessary (for multi-label classification)\n",
    "            probabilities = expit(logits.cpu().numpy())  # Convert logits to probabilities\n",
    "            predictions = (probabilities > 0.5).astype(int)  # Convert probabilities to binary predictions\n",
    "\n",
    "            # Collect predictions and labels\n",
    "            all_predictions.append(predictions)\n",
    "            all_labels.append(labels.cpu().numpy())\n",
    "    print()\n",
    "    # Concatenate all predictions and labels\n",
    "    all_predictions = np.concatenate(all_predictions, axis=0)\n",
    "    all_labels = np.concatenate(all_labels, axis=0)\n",
    "\n",
    "    # Unpack predictions and labels\n",
    "    logits, labels = all_predictions,all_labels\n",
    "\n",
    "    # Convert logits to binary predictions\n",
    "    # If your model outputs probabilities (e.g., after sigmoid), use threshold=0.5\n",
    "    probabilities = expit(logits)\n",
    "    predictions = (probabilities > 0.5).astype(int)\n",
    "\n",
    "    # Compute accuracy\n",
    "    accuracy = accuracy_score(labels, predictions)\n",
    "\n",
    "    # Compute precision, recall, f1-score\n",
    "    precision, recall, f1, _ = precision_recall_fscore_support(\n",
    "        labels, predictions, average=average\n",
    "    )\n",
    "    return {\n",
    "        \"accuracy\": accuracy,\n",
    "        \"precision\": precision,\n",
    "        \"recall\": recall,\n",
    "        \"f1\": f1\n",
    "    },all_predictions"
   ]
  },
  {
   "cell_type": "code",
   "execution_count": 44,
   "metadata": {
    "execution": {
     "iopub.execute_input": "2025-01-11T21:30:31.246350Z",
     "iopub.status.busy": "2025-01-11T21:30:31.246088Z",
     "iopub.status.idle": "2025-01-11T21:30:31.264502Z",
     "shell.execute_reply": "2025-01-11T21:30:31.263673Z",
     "shell.execute_reply.started": "2025-01-11T21:30:31.246330Z"
    },
    "id": "ahrCmCKmmvvV",
    "trusted": true
   },
   "outputs": [],
   "source": [
    "def evaluate_func(trainer):\n",
    "    metrics = evaluate_model(\n",
    "    model=model,\n",
    "    valid_dataset=valid_dataset,\n",
    "    compute_metrics=compute_metrics,\n",
    "    batch_size=32,\n",
    "    device=device\n",
    ")\n",
    "    accuracy=metrics[\"accuracy\"]\n",
    "    precision=metrics[\"precision\"]\n",
    "    recall=metrics[\"recall\"]\n",
    "    f1=metrics[\"f1\"]\n",
    "\n",
    "    return precision, recall, f1, accuracy"
   ]
  },
  {
   "cell_type": "code",
   "execution_count": 45,
   "metadata": {
    "execution": {
     "iopub.execute_input": "2025-01-11T21:30:31.265569Z",
     "iopub.status.busy": "2025-01-11T21:30:31.265289Z",
     "iopub.status.idle": "2025-01-11T21:30:31.285352Z",
     "shell.execute_reply": "2025-01-11T21:30:31.284508Z",
     "shell.execute_reply.started": "2025-01-11T21:30:31.265540Z"
    },
    "id": "_2K_WqEPnF6l",
    "trusted": true
   },
   "outputs": [],
   "source": [
    "MAX_LENGTH = 512\n",
    "\n",
    "metrics_df = pd.DataFrame(columns=[\"Models_name\", \"Precision\", \"Recall\", \"F1_score\", \"Accuracy\"])\n",
    "\n",
    "confusion_matrices = []"
   ]
  },
  {
   "cell_type": "code",
   "execution_count": 46,
   "metadata": {
    "execution": {
     "iopub.execute_input": "2025-01-11T21:30:31.286337Z",
     "iopub.status.busy": "2025-01-11T21:30:31.286067Z",
     "iopub.status.idle": "2025-01-11T21:30:31.300977Z",
     "shell.execute_reply": "2025-01-11T21:30:31.300240Z",
     "shell.execute_reply.started": "2025-01-11T21:30:31.286309Z"
    },
    "id": "3TcPpfq1GdUI",
    "trusted": true
   },
   "outputs": [],
   "source": [
    "quantization_config = BitsAndBytesConfig(\n",
    "\n",
    "    load_in_4bit=True,\n",
    "\n",
    "    bnb_4bit_use_double_quant=True,\n",
    "\n",
    "    bnb_4bit_quant_type=\"nf4\",\n",
    "\n",
    "    bnb_4bit_compute_dtype=torch.bfloat16,\n",
    "\n",
    ")"
   ]
  },
  {
   "cell_type": "code",
   "execution_count": 47,
   "metadata": {
    "execution": {
     "iopub.execute_input": "2025-01-11T21:30:31.301855Z",
     "iopub.status.busy": "2025-01-11T21:30:31.301638Z",
     "iopub.status.idle": "2025-01-11T21:30:31.315765Z",
     "shell.execute_reply": "2025-01-11T21:30:31.315195Z",
     "shell.execute_reply.started": "2025-01-11T21:30:31.301836Z"
    },
    "id": "ps6BcVspzvnP",
    "trusted": true
   },
   "outputs": [],
   "source": [
    "models_list=models_list_3\n",
    "\n",
    "models_name=models_name_3\n",
    "\n",
    "x=models_list[0]"
   ]
  },
  {
   "cell_type": "code",
   "execution_count": 48,
   "metadata": {
    "execution": {
     "iopub.execute_input": "2025-01-11T21:30:31.316682Z",
     "iopub.status.busy": "2025-01-11T21:30:31.316421Z",
     "iopub.status.idle": "2025-01-11T21:30:31.330958Z",
     "shell.execute_reply": "2025-01-11T21:30:31.330305Z",
     "shell.execute_reply.started": "2025-01-11T21:30:31.316661Z"
    },
    "id": "jHjrZwu7_GSr",
    "trusted": true
   },
   "outputs": [],
   "source": [
    "token=\"\"\n",
    "\n",
    "import huggingface_hub\n",
    "\n",
    "if \"gemma\" in x or \"Phi\" in x:\n",
    "\n",
    "  huggingface_hub.login(token=token)"
   ]
  },
  {
   "cell_type": "code",
   "execution_count": 49,
   "metadata": {
    "execution": {
     "iopub.execute_input": "2025-01-11T21:30:31.332020Z",
     "iopub.status.busy": "2025-01-11T21:30:31.331784Z",
     "iopub.status.idle": "2025-01-11T21:30:31.346078Z",
     "shell.execute_reply": "2025-01-11T21:30:31.345393Z",
     "shell.execute_reply.started": "2025-01-11T21:30:31.332001Z"
    },
    "id": "cclf1eMoIfuA",
    "trusted": true
   },
   "outputs": [],
   "source": [
    "USE_LORA=False"
   ]
  },
  {
   "cell_type": "code",
   "execution_count": 50,
   "metadata": {
    "execution": {
     "iopub.execute_input": "2025-01-11T21:30:31.347211Z",
     "iopub.status.busy": "2025-01-11T21:30:31.346900Z",
     "iopub.status.idle": "2025-01-11T21:30:35.018544Z",
     "shell.execute_reply": "2025-01-11T21:30:35.017399Z",
     "shell.execute_reply.started": "2025-01-11T21:30:31.347169Z"
    },
    "id": "4uSE7TEYBGfN",
    "trusted": true
   },
   "outputs": [
    {
     "name": "stderr",
     "output_type": "stream",
     "text": [
      "/usr/lib/python3.10/pty.py:89: RuntimeWarning: os.fork() was called. os.fork() is incompatible with multithreaded code, and JAX is multithreaded, so this will likely lead to a deadlock.\n",
      "  pid, fd = os.forkpty()\n"
     ]
    },
    {
     "name": "stdout",
     "output_type": "stream",
     "text": [
      "Collecting sentence_transformers\n",
      "  Downloading sentence_transformers-3.3.1-py3-none-any.whl.metadata (10 kB)\n",
      "Requirement already satisfied: transformers<5.0.0,>=4.41.0 in /usr/local/lib/python3.10/dist-packages (from sentence_transformers) (4.48.0)\n",
      "Requirement already satisfied: tqdm in /usr/local/lib/python3.10/dist-packages (from sentence_transformers) (4.66.5)\n",
      "Requirement already satisfied: torch>=1.11.0 in /usr/local/lib/python3.10/dist-packages (from sentence_transformers) (2.4.1+cu121)\n",
      "Requirement already satisfied: scikit-learn in /usr/local/lib/python3.10/dist-packages (from sentence_transformers) (1.2.2)\n",
      "Requirement already satisfied: scipy in /usr/local/lib/python3.10/dist-packages (from sentence_transformers) (1.13.1)\n",
      "Requirement already satisfied: huggingface-hub>=0.20.0 in /usr/local/lib/python3.10/dist-packages (from sentence_transformers) (0.27.1)\n",
      "Requirement already satisfied: Pillow in /usr/local/lib/python3.10/dist-packages (from sentence_transformers) (10.4.0)\n",
      "Requirement already satisfied: filelock in /usr/local/lib/python3.10/dist-packages (from huggingface-hub>=0.20.0->sentence_transformers) (3.16.1)\n",
      "Requirement already satisfied: fsspec>=2023.5.0 in /usr/local/lib/python3.10/dist-packages (from huggingface-hub>=0.20.0->sentence_transformers) (2024.6.1)\n",
      "Requirement already satisfied: packaging>=20.9 in /usr/local/lib/python3.10/dist-packages (from huggingface-hub>=0.20.0->sentence_transformers) (24.1)\n",
      "Requirement already satisfied: pyyaml>=5.1 in /usr/local/lib/python3.10/dist-packages (from huggingface-hub>=0.20.0->sentence_transformers) (6.0.2)\n",
      "Requirement already satisfied: requests in /usr/local/lib/python3.10/dist-packages (from huggingface-hub>=0.20.0->sentence_transformers) (2.32.3)\n",
      "Requirement already satisfied: typing-extensions>=3.7.4.3 in /usr/local/lib/python3.10/dist-packages (from huggingface-hub>=0.20.0->sentence_transformers) (4.12.2)\n",
      "Requirement already satisfied: sympy in /usr/local/lib/python3.10/dist-packages (from torch>=1.11.0->sentence_transformers) (1.13.3)\n",
      "Requirement already satisfied: networkx in /usr/local/lib/python3.10/dist-packages (from torch>=1.11.0->sentence_transformers) (3.3)\n",
      "Requirement already satisfied: jinja2 in /usr/local/lib/python3.10/dist-packages (from torch>=1.11.0->sentence_transformers) (3.1.4)\n",
      "Requirement already satisfied: numpy>=1.17 in /usr/local/lib/python3.10/dist-packages (from transformers<5.0.0,>=4.41.0->sentence_transformers) (1.26.4)\n",
      "Requirement already satisfied: regex!=2019.12.17 in /usr/local/lib/python3.10/dist-packages (from transformers<5.0.0,>=4.41.0->sentence_transformers) (2024.9.11)\n",
      "Requirement already satisfied: tokenizers<0.22,>=0.21 in /usr/local/lib/python3.10/dist-packages (from transformers<5.0.0,>=4.41.0->sentence_transformers) (0.21.0)\n",
      "Requirement already satisfied: safetensors>=0.4.1 in /usr/local/lib/python3.10/dist-packages (from transformers<5.0.0,>=4.41.0->sentence_transformers) (0.4.5)\n",
      "Requirement already satisfied: joblib>=1.1.1 in /usr/local/lib/python3.10/dist-packages (from scikit-learn->sentence_transformers) (1.4.2)\n",
      "Requirement already satisfied: threadpoolctl>=2.0.0 in /usr/local/lib/python3.10/dist-packages (from scikit-learn->sentence_transformers) (3.5.0)\n",
      "Requirement already satisfied: MarkupSafe>=2.0 in /usr/local/lib/python3.10/dist-packages (from jinja2->torch>=1.11.0->sentence_transformers) (2.1.5)\n",
      "Requirement already satisfied: charset-normalizer<4,>=2 in /usr/local/lib/python3.10/dist-packages (from requests->huggingface-hub>=0.20.0->sentence_transformers) (3.3.2)\n",
      "Requirement already satisfied: idna<4,>=2.5 in /usr/local/lib/python3.10/dist-packages (from requests->huggingface-hub>=0.20.0->sentence_transformers) (3.10)\n",
      "Requirement already satisfied: urllib3<3,>=1.21.1 in /usr/local/lib/python3.10/dist-packages (from requests->huggingface-hub>=0.20.0->sentence_transformers) (2.2.3)\n",
      "Requirement already satisfied: certifi>=2017.4.17 in /usr/local/lib/python3.10/dist-packages (from requests->huggingface-hub>=0.20.0->sentence_transformers) (2024.8.30)\n",
      "Requirement already satisfied: mpmath<1.4,>=1.1.0 in /usr/local/lib/python3.10/dist-packages (from sympy->torch>=1.11.0->sentence_transformers) (1.3.0)\n",
      "Downloading sentence_transformers-3.3.1-py3-none-any.whl (268 kB)\n",
      "\u001b[2K   \u001b[90m━━━━━━━━━━━━━━━━━━━━━━━━━━━━━━━━━━━━━━━━\u001b[0m \u001b[32m268.8/268.8 kB\u001b[0m \u001b[31m7.9 MB/s\u001b[0m eta \u001b[36m0:00:00\u001b[0m\n",
      "\u001b[?25hInstalling collected packages: sentence_transformers\n",
      "Successfully installed sentence_transformers-3.3.1\n",
      "Note: you may need to restart the kernel to use updated packages.\n"
     ]
    }
   ],
   "source": [
    "pip install sentence_transformers"
   ]
  },
  {
   "cell_type": "code",
   "execution_count": 51,
   "metadata": {
    "execution": {
     "iopub.execute_input": "2025-01-11T21:30:35.020083Z",
     "iopub.status.busy": "2025-01-11T21:30:35.019714Z",
     "iopub.status.idle": "2025-01-11T21:30:35.078283Z",
     "shell.execute_reply": "2025-01-11T21:30:35.077618Z",
     "shell.execute_reply.started": "2025-01-11T21:30:35.020048Z"
    },
    "id": "4uSE7TEYBGfN",
    "trusted": true
   },
   "outputs": [],
   "source": [
    "from transformers import AutoModel\n",
    "from sentence_transformers import SentenceTransformer"
   ]
  },
  {
   "cell_type": "code",
   "execution_count": 52,
   "metadata": {
    "colab": {
     "base_uri": "https://localhost:8080/",
     "height": 849,
     "referenced_widgets": [
      "ecc1237c87bb43b991fa8038c392c1c5",
      "36b49368ee064ba19dceafec256a5336",
      "7498e3fcc72347d4bcc5cfe4e20ee91b",
      "4a4527dada434aab99e2532abbe58138",
      "09c928c1123e425c96b90ba90ada0039",
      "354127f77231450aa925161a073d09ee",
      "8305448ddc7749c69dad3c8f29af8a54",
      "0739338398bc4123b98262dc02a41d80",
      "8b1db2ff410741e49cc4a0b6cc4f8089",
      "09466dbdf7fe43a0ba22d9556586d24e",
      "567e51676c474eb9b13c78df597e48b6",
      "bfba31f1a47f4003becd5a0441064e4b",
      "acb82e505aee45fb9b361a916128b489",
      "2ba8bc6f3659461f86679b3b218b2f24",
      "b4b300bde00d40e18ab9e75383fecf02",
      "39f399bbde9b4f5ca2ae372d31ea9b1c",
      "86cdb18f5a194e29aece5d3e9bf65d64",
      "66d793205f7a4d67bc6e84335cbe8524",
      "5bf164bbecc64ca2a782857472ce0c33",
      "9b3ce81629954efcb91225e85bddca03",
      "2a4c0c1242a8429ebfca3ea2f548966d",
      "5f62972b08e648b1bb1282dc85bd3240",
      "f41e3695d91e4e6d80a4a3bda972520c",
      "1160dde5b89848e4b50190003b619bf8",
      "155d4a49db99433b9b296c6b8ecbf8e1",
      "457528549bc84a8e9d350a42b3092fe1",
      "93739977e0494b8f9578488ad1aa7c12",
      "e2402c5f19ab43eab0acddfc00a31315",
      "678d7dba90dc4daaa60fcb5dfc64f7b1",
      "6d7bcb5f9f2e488f9ea1e36389faea7d",
      "304fd40ad8ea49deb388d69cae44f077",
      "f4761a10afe74bfd97bbcf29a12c90d6",
      "a73980dd227742ca85274dfade53a3bd",
      "f1beae07cf3241ddbe519b60b6de49e1",
      "9f81d7baf35243e28b5a64e0ff7c1f8c",
      "720672ded9e142a99e3302cd4ddab677",
      "301eef7f313448b8bb8af4a61811eb65",
      "38e8e974434141cb8c60903b5a57a6ed",
      "3c1d2efb25994cbaa23738eee9e9733f",
      "38f1d21c3b824f1fae210f4cc49cdaee",
      "a6e2e46cffb8477e9c6362bea7355211",
      "65ac28b94c2e458093da8a5af4990897",
      "9093173f0afa44879916c743fd9833c2",
      "4476170cfb4344d29e2acb0ac65be27d",
      "b4f1ac904a024a279764fd89c7929ee5",
      "e319fa9f6f374acba5c462e3f0dd59af",
      "408f7a6c211744b5b2272efd71758039",
      "4c47d3addb4d4af2991177fc763e7531",
      "491c292f13f0415f9ce528486060ce9e",
      "f131b09f8b0042bf96820b8615757975",
      "414dddcdd547403aa5a30a64bb2a2454",
      "52819339ea6c454da072c06018ed03b5",
      "63438a8d5dc14d02830144ecad44b9bc",
      "4c32448662c845e2baade1f1322c0199",
      "6bf79aafdc6246c7b6e081014941b82d",
      "26e21f3ffc294f5aaa6027843259a801",
      "4cea9e59e63d44148615b71418e1b7fe",
      "ed9473c2f8304d0fb3f084ea4c924335",
      "7ab4520efb144f14b8b81b02ea7c775e",
      "96941f496cf046e1a21e8402ed87f667",
      "39ccc49618f545618dd90081cf701d7c",
      "2637f18c252f47c78d13d99f5cfaf796",
      "457c06bc84704fae85acf6542c45faa5",
      "0d3ea15b5a164c3b8752f90fb7f1dd06",
      "0098e7d832fc41a982db4ef4a8fbc67e",
      "5e88d06b19574a78acfb362d991ca1bc",
      "8d730ee1ab5c487e944a9dd7ad239fd6",
      "c5b402c4d312402799c05eca77c93700",
      "5ce44c82e1444dbab21239ea0bff27db",
      "cc5115e08af34578a118bd78a19c2900",
      "bf83610bc3ff45d780b32e3ccbaf8eb5",
      "64d0fc9b185f4c9683f718e47e6ddb59",
      "3a888bc6667e4422b4f1f70e50f2ea37",
      "f5e34faa167f4f318d2c8e9ec3e86eb3",
      "869e08e8a21b4dfda45464f5dfcadfa1",
      "9d1277fbfa8e45a4b8522cdf5ce5116d",
      "763fe10369314e66876450b7259f52f7",
      "48c608b347874b57b04f5b24fd6397a7",
      "775bbd407ac94f54bec9821707929ed1",
      "511ecd55d35641379108d484217b3e28",
      "da360a0f56644b0baab32bbfb2050eb1",
      "d6174f2166b64db2bcb7be6cca118f45",
      "8b4fc213b37b458d935682e71b5dcc6b",
      "d87835ba98cc4cf997271b85695370c6",
      "fddb8385a0f4448d87594745b307c6b5",
      "eedfe82821154cd29e29385edceb9d0e",
      "40a7dec1c6a14544971109b7677321b7",
      "4e70b90e0d4845b3b4fe90d07efe8dbd",
      "ebf390d1a4e1434bae3c8cba1749c0e8",
      "d0816304c62e405c91cfc3c1817d9e4f",
      "cd0ee35fafa1419e84cd990ffece3a48",
      "94a61c1306ca493d87da06a5e7cfafd7",
      "c657de2e6f124978bd464d9ba8403239",
      "c45098fe6c89484da73ef3dfde56e9e9",
      "591fd37f75ba4f80a4c27d7ec1fbbb9d",
      "530db69948aa4a3db16f2a3b9e017c82",
      "8962b56b5c1545f69d2f35a40a718eab",
      "f599133d0dfb4b2590f9deddf1f1ba21",
      "59dd545974dc484c9651efda080bff39",
      "477fb4e3221046488723e495cee72027",
      "e6529185ee5548f99371e1add7be6310",
      "31bddd53fc28465a8b398fdedecdb98c",
      "d66de37bf2fb46dab402e812baaef88e",
      "58a3c02f5b9a415c9b3af836b109ef46",
      "0ada76009163415ba7b27fcfb1810da0",
      "c8173ba3bc5345849e36041169b76586",
      "ae76ca33a1eb4465bcee096661fe7753",
      "34e7eea941b5494097e96cbcacb1aea8",
      "f4f2a3d5f40c4a67add453aa6c843426",
      "43109c4a88274dc38fc8a9d606d5cd75",
      "fd1f134c70834d8b8acad29ad90a6474",
      "4d40903cc8054533b849e48b8046bcc0",
      "2d82f633f0054c5dba772101bb5827d4",
      "db5c9a8097354fa1886db8861a98b05b",
      "7111d2f0086d42cfbc6bbdafb023bf7d",
      "72a753503d09405399e948f39f207d62",
      "6c9f4774728949e280da83c726adec4e",
      "6338127e769f48f6bffe0c9c5201984c",
      "676d326c87634cb7b5fb21b5c1e189f2",
      "b8d21f361adf41b4b88a631752adbfff",
      "1b8a4b72c3344c949d1101f4fc28c34e",
      "59d481df84a149449d19b8879c5ca52c",
      "703d447de5854cbca397b1fdc4e8ed44",
      "06eb44bb5a8440d19225dc751b022e8c",
      "fc263bd8cb5a4cddb10318776c2c2aa5",
      "6c37dceb19c24a0092f177c7dc905af7",
      "8beb2c8e944a4618b3720f77e9e0e0e1",
      "c758f49c80cd45cd9ac76c951efad429",
      "67ad1f33db634eb69eb52539b04c899b",
      "1afdb9a0ca754ff99094a7410a43ca62",
      "e3fdcafbdf3c42b9bb19e9893757e70d",
      "d1cf7782a60745128d870e416ded980b",
      "697ee9cbabd2469fa6ca7eb814882f1f",
      "96ce1a556c92437a84b1c777f81f5a50",
      "be2880141cf14b889596ed69e78cee63",
      "4c0bb9f3f61443a7bf78afac3d4aef06",
      "ead419ce05b04e6dbdd516b0c5a1711f",
      "76f6e651ea2e4d38ac16769da3d793e8",
      "3767ebc0a8df474f8cbb42264f51f8fe",
      "888334d22b15455f8235a7fe0d65cd4d",
      "be6b0dab84c841628158ba823da7ed52",
      "3cf7b832636d447984abdf49c05c47cf",
      "88f43d0f2dfa40caad0c706699f97e9e",
      "800554f148524f6bb99f0d2808605bf1",
      "512ad1dd5016490380f5026b78147866",
      "bf8930e3193e45a3ac0ea4940170d316",
      "75d1d25d1e1f4470a047e66e634409ca",
      "0358df8889ce433a997807e512707407",
      "f922b1f0accf436a89274829dbc0f686",
      "0a85ad2e4ad84a79961c4110c799ab9e",
      "44089dd53ccc4fcf9c053872434e3cb2",
      "e86065095b6549f9a45156aaa32c8481",
      "f200e2f72ac74d07ac7dad2a427a0a0f",
      "a1df94cbcc944ced92f31cfe796c79dc",
      "0077f51e976443a5ae084752adc0c069",
      "d5ce1bedbb0b41f1b1c1b07d40776e9c",
      "ffbcb2799bef475592457e0ce78963c8",
      "6502860a9c73480fb59ddd59bbd58a2f",
      "b7b006a3f14a44afb23b0331d3a80f6f",
      "0dfb8473370b4ecea7a47348962874df",
      "d08d92cda3f44bc6bd6744bcfbbaa10c",
      "a489f7427d884fe2a2c40c69635a67aa",
      "e121871dd70e410e924e057c4e8898ef",
      "9d88b888a94940cfa8ad1a580664ec53",
      "068bfbe2f774425ca8f8dc2d43507584",
      "89647ac6014c4963937a22ba8d666de1",
      "e1067efd482b40fdbfe84e86ee424f71",
      "7744cd95ce484743a5668b6849d4442f",
      "dd842bd25bbe4a9794378117fdd53884",
      "8cc69376461f444586b6c394855dbaaf",
      "d4b811ace3444f89b163fee46551f744",
      "4552272947b04babbfcbc49b2f273cb0",
      "b7bdbdf068d749de8b26bb543ac2ced3",
      "a675e5f8be41452590208658d798c94a",
      "4281231a3af44dd98154f22ac11e8ea0",
      "26c6e6a2ec3b40a28103a2691f1f5ac5",
      "992544c6a18a4a7bbb0a502be36f2944",
      "7a5a8845e47442018a0772ce20f7109a",
      "e6dd21d8dba74cdfabd5dcbefa681f89",
      "dd4d0d438f8d4f47be83746313082749",
      "3289317d336b467aaa33dfaabfbba202",
      "429aa70459cf417b91455c7edb0e5405",
      "f197da552a0446b5a81525302d8899de",
      "ff2748a7d22647fb9f8a7c0d21467ed5",
      "8c7c69ddfaf64b5482a7e1a79e0e4667",
      "16139a1858dc4ec5b159864dafdcd69d",
      "0aa298220b894b70ab30f60b6e8796bb",
      "e750e909f1134962b17eb4205a0b82c0",
      "4c941244f0ea481aa3b5c5df4f15a002",
      "7e3aa1d049474db8837169f48e26d7cb",
      "edb9402027f14a1abdc105a64e3570fd",
      "a44ab456b35740ab89ef9861147829cd",
      "745631d9ede94e4f94fe8413216f4b1f",
      "b26458770c72475e91ae393e05ea4d6f",
      "18af2d8c4b0e4298a5673dbe67a59a0c",
      "54420608bd794ffe8a4f4565368b8515",
      "a5a06f3f8fe5434f94b8f7b4d44e3447",
      "a0e062c68d2f4c6fab2c5b01d518100c"
     ]
    },
    "execution": {
     "iopub.execute_input": "2025-01-11T21:30:35.079215Z",
     "iopub.status.busy": "2025-01-11T21:30:35.078972Z",
     "iopub.status.idle": "2025-01-11T21:37:08.046293Z",
     "shell.execute_reply": "2025-01-11T21:37:08.045526Z",
     "shell.execute_reply.started": "2025-01-11T21:30:35.079193Z"
    },
    "id": "RTwQtNnRZXNI",
    "outputId": "20630226-4074-4abb-ad0c-1c46ad423136",
    "trusted": true
   },
   "outputs": [
    {
     "name": "stdout",
     "output_type": "stream",
     "text": [
      "Alignment-Lab-AI/e5-mistral-7b-instruct\n"
     ]
    },
    {
     "data": {
      "application/vnd.jupyter.widget-view+json": {
       "model_id": "c9f9deef4cfe4220a60117d6274f82da",
       "version_major": 2,
       "version_minor": 0
      },
      "text/plain": [
       "modules.json:   0%|          | 0.00/349 [00:00<?, ?B/s]"
      ]
     },
     "metadata": {},
     "output_type": "display_data"
    },
    {
     "data": {
      "application/vnd.jupyter.widget-view+json": {
       "model_id": "660c44e9761e4fe5b5bacd49515ff614",
       "version_major": 2,
       "version_minor": 0
      },
      "text/plain": [
       "config_sentence_transformers.json:   0%|          | 0.00/557 [00:00<?, ?B/s]"
      ]
     },
     "metadata": {},
     "output_type": "display_data"
    },
    {
     "data": {
      "application/vnd.jupyter.widget-view+json": {
       "model_id": "ce9821ff71a841dcb836fc051c621193",
       "version_major": 2,
       "version_minor": 0
      },
      "text/plain": [
       "README.md:   0%|          | 0.00/178k [00:00<?, ?B/s]"
      ]
     },
     "metadata": {},
     "output_type": "display_data"
    },
    {
     "data": {
      "application/vnd.jupyter.widget-view+json": {
       "model_id": "16090e0e0b224d8d9c028688b9354f3e",
       "version_major": 2,
       "version_minor": 0
      },
      "text/plain": [
       "sentence_bert_config.json:   0%|          | 0.00/55.0 [00:00<?, ?B/s]"
      ]
     },
     "metadata": {},
     "output_type": "display_data"
    },
    {
     "data": {
      "application/vnd.jupyter.widget-view+json": {
       "model_id": "9d725e62c86e4c6baca18a4bd0adc184",
       "version_major": 2,
       "version_minor": 0
      },
      "text/plain": [
       "config.json:   0%|          | 0.00/603 [00:00<?, ?B/s]"
      ]
     },
     "metadata": {},
     "output_type": "display_data"
    },
    {
     "data": {
      "application/vnd.jupyter.widget-view+json": {
       "model_id": "5d62ad5037fa4155a1837a6818757d24",
       "version_major": 2,
       "version_minor": 0
      },
      "text/plain": [
       "model.safetensors.index.json:   0%|          | 0.00/23.3k [00:00<?, ?B/s]"
      ]
     },
     "metadata": {},
     "output_type": "display_data"
    },
    {
     "data": {
      "application/vnd.jupyter.widget-view+json": {
       "model_id": "08dce0c37f2e473f9969ca921d3abe0c",
       "version_major": 2,
       "version_minor": 0
      },
      "text/plain": [
       "Downloading shards:   0%|          | 0/2 [00:00<?, ?it/s]"
      ]
     },
     "metadata": {},
     "output_type": "display_data"
    },
    {
     "data": {
      "application/vnd.jupyter.widget-view+json": {
       "model_id": "ff57fee8a3e84ff0892141421a236815",
       "version_major": 2,
       "version_minor": 0
      },
      "text/plain": [
       "model-00001-of-00002.safetensors:   0%|          | 0.00/9.94G [00:00<?, ?B/s]"
      ]
     },
     "metadata": {},
     "output_type": "display_data"
    },
    {
     "data": {
      "application/vnd.jupyter.widget-view+json": {
       "model_id": "9dc14eeedb244818b4490eb747ea74d8",
       "version_major": 2,
       "version_minor": 0
      },
      "text/plain": [
       "model-00002-of-00002.safetensors:   0%|          | 0.00/4.28G [00:00<?, ?B/s]"
      ]
     },
     "metadata": {},
     "output_type": "display_data"
    },
    {
     "data": {
      "application/vnd.jupyter.widget-view+json": {
       "model_id": "6a1120f5374049a4b908144b1589680e",
       "version_major": 2,
       "version_minor": 0
      },
      "text/plain": [
       "Loading checkpoint shards:   0%|          | 0/2 [00:00<?, ?it/s]"
      ]
     },
     "metadata": {},
     "output_type": "display_data"
    },
    {
     "data": {
      "application/vnd.jupyter.widget-view+json": {
       "model_id": "8993a329ad1048c0987c3a942176fff6",
       "version_major": 2,
       "version_minor": 0
      },
      "text/plain": [
       "tokenizer_config.json:   0%|          | 0.00/981 [00:00<?, ?B/s]"
      ]
     },
     "metadata": {},
     "output_type": "display_data"
    },
    {
     "data": {
      "application/vnd.jupyter.widget-view+json": {
       "model_id": "259a4853e4934f26aea27b7a532f7112",
       "version_major": 2,
       "version_minor": 0
      },
      "text/plain": [
       "tokenizer.model:   0%|          | 0.00/493k [00:00<?, ?B/s]"
      ]
     },
     "metadata": {},
     "output_type": "display_data"
    },
    {
     "data": {
      "application/vnd.jupyter.widget-view+json": {
       "model_id": "7445d4c36bf64e8e8397d20f3146a0bb",
       "version_major": 2,
       "version_minor": 0
      },
      "text/plain": [
       "tokenizer.json:   0%|          | 0.00/1.80M [00:00<?, ?B/s]"
      ]
     },
     "metadata": {},
     "output_type": "display_data"
    },
    {
     "data": {
      "application/vnd.jupyter.widget-view+json": {
       "model_id": "6958edf056ea4f428c02a57f62b9268e",
       "version_major": 2,
       "version_minor": 0
      },
      "text/plain": [
       "added_tokens.json:   0%|          | 0.00/42.0 [00:00<?, ?B/s]"
      ]
     },
     "metadata": {},
     "output_type": "display_data"
    },
    {
     "data": {
      "application/vnd.jupyter.widget-view+json": {
       "model_id": "c4e1a750538f492ea6ee1a99a0688fdd",
       "version_major": 2,
       "version_minor": 0
      },
      "text/plain": [
       "special_tokens_map.json:   0%|          | 0.00/168 [00:00<?, ?B/s]"
      ]
     },
     "metadata": {},
     "output_type": "display_data"
    },
    {
     "data": {
      "application/vnd.jupyter.widget-view+json": {
       "model_id": "305cac2722a04821b0371ca7e752b57e",
       "version_major": 2,
       "version_minor": 0
      },
      "text/plain": [
       "1_Pooling/config.json:   0%|          | 0.00/297 [00:00<?, ?B/s]"
      ]
     },
     "metadata": {},
     "output_type": "display_data"
    }
   ],
   "source": [
    "\n",
    "\n",
    "torch.cuda.empty_cache()\n",
    "\n",
    "\n",
    "\n",
    "print(x)\n",
    "use_gpu = torch.cuda.is_available()\n",
    "embedding_model = SentenceTransformer(\n",
    "        x,\n",
    "        trust_remote_code=True,\n",
    "        device=\"cpu\" if not use_gpu else \"cuda\",\n",
    "        model_kwargs={\n",
    "            \"torch_dtype\": torch.bfloat16 if use_gpu else torch.float32,\n",
    "            \"attn_implementation\": \"eager\"\n",
    "        },\n",
    "        # vector_dim must be 12288, 1024, 512, 256\n",
    "        ## 1024 is recommended\n",
    "        # set is_text_encoder 'True', if you do not encode image\n",
    "        # config_kwargs={\"is_text_encoder\": True, \"vector_dim\": 1024},\n",
    "    )\n",
    "    # We can reduce the max_seq_length from the default of 2048 for faster encoding\n",
    "embedding_model.max_seq_length = MAX_LENGTH"
   ]
  },
  {
   "cell_type": "code",
   "execution_count": 53,
   "metadata": {
    "colab": {
     "base_uri": "https://localhost:8080/"
    },
    "execution": {
     "iopub.execute_input": "2025-01-11T21:37:08.047583Z",
     "iopub.status.busy": "2025-01-11T21:37:08.047232Z",
     "iopub.status.idle": "2025-01-11T21:37:08.056130Z",
     "shell.execute_reply": "2025-01-11T21:37:08.055379Z",
     "shell.execute_reply.started": "2025-01-11T21:37:08.047544Z"
    },
    "id": "h5TGLlXVBaeB",
    "outputId": "9ea57e5c-ca86-4e7e-e26f-b4fb1904bb76",
    "trusted": true
   },
   "outputs": [
    {
     "data": {
      "text/plain": [
       "[]"
      ]
     },
     "execution_count": 53,
     "metadata": {},
     "output_type": "execute_result"
    }
   ],
   "source": [
    "def find_target_modules(model):\n",
    "    # Initialize a Set to Store Unique Layers\n",
    "    unique_layers = set()\n",
    "\n",
    "    # Iterate Over All Named Modules in the Model\n",
    "    for name, module in model.named_modules():\n",
    "        # Check if the Module Type Contains 'Linear4bit'\n",
    "        if \"Linear4bit\" in str(type(module)):\n",
    "            # Extract the Type of the Layer\n",
    "            layer_type = name.split('.')[-1]\n",
    "\n",
    "            # Add the Layer Type to the Set of Unique Layers\n",
    "            unique_layers.add(layer_type)\n",
    "\n",
    "    # Return the Set of Unique Layers Converted to a List\n",
    "    return list(unique_layers)\n",
    "find_target_modules(embedding_model)"
   ]
  },
  {
   "cell_type": "code",
   "execution_count": 54,
   "metadata": {
    "execution": {
     "iopub.execute_input": "2025-01-11T21:37:08.057068Z",
     "iopub.status.busy": "2025-01-11T21:37:08.056825Z",
     "iopub.status.idle": "2025-01-11T21:37:08.075269Z",
     "shell.execute_reply": "2025-01-11T21:37:08.074606Z",
     "shell.execute_reply.started": "2025-01-11T21:37:08.057046Z"
    },
    "id": "AmPLSuxxBaeB",
    "trusted": true
   },
   "outputs": [],
   "source": [
    "# a="
   ]
  },
  {
   "cell_type": "code",
   "execution_count": 55,
   "metadata": {
    "execution": {
     "iopub.execute_input": "2025-01-11T21:37:08.076341Z",
     "iopub.status.busy": "2025-01-11T21:37:08.076070Z",
     "iopub.status.idle": "2025-01-11T21:37:08.091307Z",
     "shell.execute_reply": "2025-01-11T21:37:08.090611Z",
     "shell.execute_reply.started": "2025-01-11T21:37:08.076313Z"
    },
    "id": "MCHCmWeqZd1R",
    "trusted": true
   },
   "outputs": [],
   "source": [
    "embedding_model.eval() # embedding_model in training mode (dropout modules are activated)\n",
    "\n",
    "if USE_LORA:\n",
    "\n",
    "  # enable gradient check pointing\n",
    "\n",
    "  embedding_model.gradient_checkpointing_enable()\n",
    "\n",
    "  target_modules_dict={\n",
    "\n",
    "      \"microsoft/Phi-3.5-mini-instruct\":'all-linear',\n",
    "      \"unsloth/Llama-3.2-1B-Instruct\":[\"q_proj\",\"k_proj\",\"v_proj\"],\n",
    "      \"unsloth/Qwen2.5-3B-Instruct-bnb-4bit\":[\"q_proj\",\"k_proj\",\"v_proj\"],\n",
    "  }\n",
    "\n",
    "  target_modules= target_modules_dict.get(x,[\"q_proj\"])\n",
    "\n",
    "\n",
    "\n",
    "  # enable quantized training\n",
    "\n",
    "  embedding_model = prepare_model_for_kbit_training(embedding_model)\n",
    "\n",
    "  config = LoraConfig(\n",
    "\n",
    "    r=8,\n",
    "\n",
    "    lora_alpha=32,\n",
    "\n",
    "    # target_modules=[\"k_proj\"],\n",
    "\n",
    "    target_modules = target_modules,#TODOOOOOOOOOOOOO\n",
    "\n",
    "    lora_dropout=0.1,\n",
    "\n",
    "    bias=\"none\",\n",
    "\n",
    "    task_type=\"SEQ_CLS\",\n",
    "\n",
    "  )\n",
    "\n",
    "  # LoRA trainable version of model\n",
    "\n",
    "  embedding_model = get_peft_model(embedding_model, config)\n",
    "\n",
    "\n",
    "\n",
    "  # trainable parameter count\n",
    "\n",
    "  embedding_model.print_trainable_parameters()\n",
    "\n",
    "device=\"cuda\" if torch.cuda.is_available() else 'cpu'"
   ]
  },
  {
   "cell_type": "code",
   "execution_count": 56,
   "metadata": {
    "colab": {
     "base_uri": "https://localhost:8080/",
     "height": 36
    },
    "execution": {
     "iopub.execute_input": "2025-01-11T21:37:08.092309Z",
     "iopub.status.busy": "2025-01-11T21:37:08.092024Z",
     "iopub.status.idle": "2025-01-11T21:37:08.107955Z",
     "shell.execute_reply": "2025-01-11T21:37:08.107277Z",
     "shell.execute_reply.started": "2025-01-11T21:37:08.092287Z"
    },
    "id": "CWtjrTGfJtvS",
    "outputId": "5106252a-f602-4b45-ec99-4c3fe5c85020",
    "trusted": true
   },
   "outputs": [
    {
     "data": {
      "text/plain": [
       "'cuda'"
      ]
     },
     "execution_count": 56,
     "metadata": {},
     "output_type": "execute_result"
    }
   ],
   "source": [
    "device"
   ]
  },
  {
   "cell_type": "code",
   "execution_count": 57,
   "metadata": {
    "execution": {
     "iopub.execute_input": "2025-01-11T21:37:08.109088Z",
     "iopub.status.busy": "2025-01-11T21:37:08.108836Z",
     "iopub.status.idle": "2025-01-11T21:37:08.128072Z",
     "shell.execute_reply": "2025-01-11T21:37:08.127257Z",
     "shell.execute_reply.started": "2025-01-11T21:37:08.109068Z"
    },
    "id": "Ot09dhy1Jq2T",
    "trusted": true
   },
   "outputs": [],
   "source": [
    "embedding_model = embedding_model.to(device)\n",
    "\n",
    "for param in embedding_model.parameters():\n",
    "    param.data = param.data.contiguous()\n"
   ]
  },
  {
   "cell_type": "code",
   "execution_count": 58,
   "metadata": {
    "execution": {
     "iopub.execute_input": "2025-01-11T21:37:08.129223Z",
     "iopub.status.busy": "2025-01-11T21:37:08.128937Z",
     "iopub.status.idle": "2025-01-11T21:37:08.134308Z",
     "shell.execute_reply": "2025-01-11T21:37:08.133513Z",
     "shell.execute_reply.started": "2025-01-11T21:37:08.129192Z"
    },
    "id": "LcyDYbHFFhS4",
    "trusted": true
   },
   "outputs": [],
   "source": [
    "\n",
    "# Custom Dataset for batching\n",
    "class TextDataset(Dataset):\n",
    "    def __init__(self, texts):\n",
    "        self.texts = texts\n",
    "\n",
    "    def __len__(self):\n",
    "        return len(self.texts)\n",
    "\n",
    "    def __getitem__(self, idx):\n",
    "        # Tokenize a single example\n",
    "        return self.texts[idx]\n",
    "        # return self.tokenizer(\n",
    "        #     self.texts[idx],\n",
    "        #     truncation=True,\n",
    "        #     padding=\"max_length\",\n",
    "        #     max_length=self.max_length,\n",
    "        #     return_tensors=\"pt\"\n",
    "        # )\n"
   ]
  },
  {
   "cell_type": "code",
   "execution_count": 59,
   "metadata": {
    "execution": {
     "iopub.execute_input": "2025-01-11T21:37:08.135414Z",
     "iopub.status.busy": "2025-01-11T21:37:08.135126Z",
     "iopub.status.idle": "2025-01-11T21:37:08.153393Z",
     "shell.execute_reply": "2025-01-11T21:37:08.152565Z",
     "shell.execute_reply.started": "2025-01-11T21:37:08.135384Z"
    },
    "id": "s8dV8g_NDo_v",
    "trusted": true
   },
   "outputs": [],
   "source": [
    "\n",
    "# Batch extraction function\n",
    "def extract_embeddings(texts, model, batch_size=32):\n",
    "    dataset = TextDataset(texts)\n",
    "    dataloader = DataLoader(dataset, batch_size=batch_size, shuffle=False)\n",
    "\n",
    "    embeddings = []\n",
    "    model.eval()\n",
    "    with torch.no_grad():\n",
    "        for batch in tqdm(dataloader, desc=\"Extracting embeddings\"):\n",
    "            # Move batch to device\n",
    "            # input_ids = torch.Tensor(batch['input_ids']).squeeze().to(device)\n",
    "            # attention_mask = torch.Tensor(batch['attention_mask']).squeeze().to(device)\n",
    "\n",
    "            # Forward pass through the model\n",
    "            cls_embeddings = model.encode(batch)\n",
    "            embeddings.append(cls_embeddings)\n",
    "\n",
    "    return np.vstack(embeddings)"
   ]
  },
  {
   "cell_type": "code",
   "execution_count": 60,
   "metadata": {
    "colab": {
     "base_uri": "https://localhost:8080/"
    },
    "execution": {
     "iopub.execute_input": "2025-01-11T21:37:08.154634Z",
     "iopub.status.busy": "2025-01-11T21:37:08.154345Z",
     "iopub.status.idle": "2025-01-11T21:56:32.819408Z",
     "shell.execute_reply": "2025-01-11T21:56:32.818656Z",
     "shell.execute_reply.started": "2025-01-11T21:37:08.154603Z"
    },
    "id": "QkJtUXXiDx22",
    "outputId": "dfa08127-b9e8-4de4-b412-5aa37ba8eed2",
    "trusted": true
   },
   "outputs": [
    {
     "name": "stderr",
     "output_type": "stream",
     "text": [
      "Extracting embeddings:   0%|          | 0/66 [00:00<?, ?it/s]"
     ]
    },
    {
     "data": {
      "application/vnd.jupyter.widget-view+json": {
       "model_id": "fcf07907c80c47ee8ecb5b1ae82741d8",
       "version_major": 2,
       "version_minor": 0
      },
      "text/plain": [
       "Batches:   0%|          | 0/1 [00:00<?, ?it/s]"
      ]
     },
     "metadata": {},
     "output_type": "display_data"
    },
    {
     "name": "stderr",
     "output_type": "stream",
     "text": [
      "Extracting embeddings:   2%|▏         | 1/66 [00:10<11:48, 10.90s/it]"
     ]
    },
    {
     "data": {
      "application/vnd.jupyter.widget-view+json": {
       "model_id": "0b3b803a4e944136b58e6102b1775a5d",
       "version_major": 2,
       "version_minor": 0
      },
      "text/plain": [
       "Batches:   0%|          | 0/1 [00:00<?, ?it/s]"
      ]
     },
     "metadata": {},
     "output_type": "display_data"
    },
    {
     "name": "stderr",
     "output_type": "stream",
     "text": [
      "Extracting embeddings:   3%|▎         | 2/66 [00:26<14:18, 13.42s/it]"
     ]
    },
    {
     "data": {
      "application/vnd.jupyter.widget-view+json": {
       "model_id": "523e520d4fef44d4915f8929cd8dcf63",
       "version_major": 2,
       "version_minor": 0
      },
      "text/plain": [
       "Batches:   0%|          | 0/1 [00:00<?, ?it/s]"
      ]
     },
     "metadata": {},
     "output_type": "display_data"
    },
    {
     "name": "stderr",
     "output_type": "stream",
     "text": [
      "Extracting embeddings:   5%|▍         | 3/66 [00:39<14:17, 13.61s/it]"
     ]
    },
    {
     "data": {
      "application/vnd.jupyter.widget-view+json": {
       "model_id": "895f0bec95434095af886992950b5d75",
       "version_major": 2,
       "version_minor": 0
      },
      "text/plain": [
       "Batches:   0%|          | 0/1 [00:00<?, ?it/s]"
      ]
     },
     "metadata": {},
     "output_type": "display_data"
    },
    {
     "name": "stderr",
     "output_type": "stream",
     "text": [
      "Extracting embeddings:   6%|▌         | 4/66 [00:54<14:20, 13.89s/it]"
     ]
    },
    {
     "data": {
      "application/vnd.jupyter.widget-view+json": {
       "model_id": "da4ae1d9cd0f43b7b2b4e27c762db754",
       "version_major": 2,
       "version_minor": 0
      },
      "text/plain": [
       "Batches:   0%|          | 0/1 [00:00<?, ?it/s]"
      ]
     },
     "metadata": {},
     "output_type": "display_data"
    },
    {
     "name": "stderr",
     "output_type": "stream",
     "text": [
      "Extracting embeddings:   8%|▊         | 5/66 [01:08<14:22, 14.14s/it]"
     ]
    },
    {
     "data": {
      "application/vnd.jupyter.widget-view+json": {
       "model_id": "cfb8af01c8ac4dedb37ca46059e77583",
       "version_major": 2,
       "version_minor": 0
      },
      "text/plain": [
       "Batches:   0%|          | 0/1 [00:00<?, ?it/s]"
      ]
     },
     "metadata": {},
     "output_type": "display_data"
    },
    {
     "name": "stderr",
     "output_type": "stream",
     "text": [
      "Extracting embeddings:   9%|▉         | 6/66 [01:24<14:36, 14.62s/it]"
     ]
    },
    {
     "data": {
      "application/vnd.jupyter.widget-view+json": {
       "model_id": "70a96bec47e042d89a6f8db6c23a9da2",
       "version_major": 2,
       "version_minor": 0
      },
      "text/plain": [
       "Batches:   0%|          | 0/1 [00:00<?, ?it/s]"
      ]
     },
     "metadata": {},
     "output_type": "display_data"
    },
    {
     "name": "stderr",
     "output_type": "stream",
     "text": [
      "Extracting embeddings:  11%|█         | 7/66 [01:39<14:28, 14.73s/it]"
     ]
    },
    {
     "data": {
      "application/vnd.jupyter.widget-view+json": {
       "model_id": "5acd74c12ae14ddd8adbdbddbbefa7fe",
       "version_major": 2,
       "version_minor": 0
      },
      "text/plain": [
       "Batches:   0%|          | 0/1 [00:00<?, ?it/s]"
      ]
     },
     "metadata": {},
     "output_type": "display_data"
    },
    {
     "name": "stderr",
     "output_type": "stream",
     "text": [
      "Extracting embeddings:  12%|█▏        | 8/66 [01:50<13:02, 13.49s/it]"
     ]
    },
    {
     "data": {
      "application/vnd.jupyter.widget-view+json": {
       "model_id": "86b9d0c98e28432ca11d6f8439afd413",
       "version_major": 2,
       "version_minor": 0
      },
      "text/plain": [
       "Batches:   0%|          | 0/1 [00:00<?, ?it/s]"
      ]
     },
     "metadata": {},
     "output_type": "display_data"
    },
    {
     "name": "stderr",
     "output_type": "stream",
     "text": [
      "Extracting embeddings:  14%|█▎        | 9/66 [02:03<12:45, 13.42s/it]"
     ]
    },
    {
     "data": {
      "application/vnd.jupyter.widget-view+json": {
       "model_id": "762fd9c553f94567b368f911cc609025",
       "version_major": 2,
       "version_minor": 0
      },
      "text/plain": [
       "Batches:   0%|          | 0/1 [00:00<?, ?it/s]"
      ]
     },
     "metadata": {},
     "output_type": "display_data"
    },
    {
     "name": "stderr",
     "output_type": "stream",
     "text": [
      "Extracting embeddings:  15%|█▌        | 10/66 [02:14<11:59, 12.85s/it]"
     ]
    },
    {
     "data": {
      "application/vnd.jupyter.widget-view+json": {
       "model_id": "d0dcef968c0b4da09721bac5b6a7e397",
       "version_major": 2,
       "version_minor": 0
      },
      "text/plain": [
       "Batches:   0%|          | 0/1 [00:00<?, ?it/s]"
      ]
     },
     "metadata": {},
     "output_type": "display_data"
    },
    {
     "name": "stderr",
     "output_type": "stream",
     "text": [
      "Extracting embeddings:  17%|█▋        | 11/66 [02:30<12:37, 13.77s/it]"
     ]
    },
    {
     "data": {
      "application/vnd.jupyter.widget-view+json": {
       "model_id": "19b9f8b78112484ca2935711db2c25c9",
       "version_major": 2,
       "version_minor": 0
      },
      "text/plain": [
       "Batches:   0%|          | 0/1 [00:00<?, ?it/s]"
      ]
     },
     "metadata": {},
     "output_type": "display_data"
    },
    {
     "name": "stderr",
     "output_type": "stream",
     "text": [
      "Extracting embeddings:  18%|█▊        | 12/66 [02:44<12:17, 13.65s/it]"
     ]
    },
    {
     "data": {
      "application/vnd.jupyter.widget-view+json": {
       "model_id": "db10ab186b9744158cf0501fa78bb7ac",
       "version_major": 2,
       "version_minor": 0
      },
      "text/plain": [
       "Batches:   0%|          | 0/1 [00:00<?, ?it/s]"
      ]
     },
     "metadata": {},
     "output_type": "display_data"
    },
    {
     "name": "stderr",
     "output_type": "stream",
     "text": [
      "Extracting embeddings:  20%|█▉        | 13/66 [02:59<12:24, 14.05s/it]"
     ]
    },
    {
     "data": {
      "application/vnd.jupyter.widget-view+json": {
       "model_id": "41d0868523d84a1fb449fee9651663e2",
       "version_major": 2,
       "version_minor": 0
      },
      "text/plain": [
       "Batches:   0%|          | 0/1 [00:00<?, ?it/s]"
      ]
     },
     "metadata": {},
     "output_type": "display_data"
    },
    {
     "name": "stderr",
     "output_type": "stream",
     "text": [
      "Extracting embeddings:  21%|██        | 14/66 [03:15<12:38, 14.58s/it]"
     ]
    },
    {
     "data": {
      "application/vnd.jupyter.widget-view+json": {
       "model_id": "fb59b2ced4624664b82da4e836ae1022",
       "version_major": 2,
       "version_minor": 0
      },
      "text/plain": [
       "Batches:   0%|          | 0/1 [00:00<?, ?it/s]"
      ]
     },
     "metadata": {},
     "output_type": "display_data"
    },
    {
     "name": "stderr",
     "output_type": "stream",
     "text": [
      "Extracting embeddings:  23%|██▎       | 15/66 [03:30<12:36, 14.83s/it]"
     ]
    },
    {
     "data": {
      "application/vnd.jupyter.widget-view+json": {
       "model_id": "c4a8355f057a420ca608930ef18219f5",
       "version_major": 2,
       "version_minor": 0
      },
      "text/plain": [
       "Batches:   0%|          | 0/1 [00:00<?, ?it/s]"
      ]
     },
     "metadata": {},
     "output_type": "display_data"
    },
    {
     "name": "stderr",
     "output_type": "stream",
     "text": [
      "Extracting embeddings:  24%|██▍       | 16/66 [03:44<12:08, 14.57s/it]"
     ]
    },
    {
     "data": {
      "application/vnd.jupyter.widget-view+json": {
       "model_id": "2834432438fa4eda8ea9316fff52880a",
       "version_major": 2,
       "version_minor": 0
      },
      "text/plain": [
       "Batches:   0%|          | 0/1 [00:00<?, ?it/s]"
      ]
     },
     "metadata": {},
     "output_type": "display_data"
    },
    {
     "name": "stderr",
     "output_type": "stream",
     "text": [
      "Extracting embeddings:  26%|██▌       | 17/66 [03:58<11:43, 14.36s/it]"
     ]
    },
    {
     "data": {
      "application/vnd.jupyter.widget-view+json": {
       "model_id": "10c800a1a71e413ca3ef51041d450f90",
       "version_major": 2,
       "version_minor": 0
      },
      "text/plain": [
       "Batches:   0%|          | 0/1 [00:00<?, ?it/s]"
      ]
     },
     "metadata": {},
     "output_type": "display_data"
    },
    {
     "name": "stderr",
     "output_type": "stream",
     "text": [
      "Extracting embeddings:  27%|██▋       | 18/66 [04:09<10:44, 13.44s/it]"
     ]
    },
    {
     "data": {
      "application/vnd.jupyter.widget-view+json": {
       "model_id": "0f8071deff0d4c52b8631e7e75f250e7",
       "version_major": 2,
       "version_minor": 0
      },
      "text/plain": [
       "Batches:   0%|          | 0/1 [00:00<?, ?it/s]"
      ]
     },
     "metadata": {},
     "output_type": "display_data"
    },
    {
     "name": "stderr",
     "output_type": "stream",
     "text": [
      "Extracting embeddings:  29%|██▉       | 19/66 [04:23<10:45, 13.73s/it]"
     ]
    },
    {
     "data": {
      "application/vnd.jupyter.widget-view+json": {
       "model_id": "315bd33c35d943a89e2758c390a2b6d8",
       "version_major": 2,
       "version_minor": 0
      },
      "text/plain": [
       "Batches:   0%|          | 0/1 [00:00<?, ?it/s]"
      ]
     },
     "metadata": {},
     "output_type": "display_data"
    },
    {
     "name": "stderr",
     "output_type": "stream",
     "text": [
      "Extracting embeddings:  30%|███       | 20/66 [04:33<09:38, 12.58s/it]"
     ]
    },
    {
     "data": {
      "application/vnd.jupyter.widget-view+json": {
       "model_id": "08890294a5a64316b2174a2fcab1bfcc",
       "version_major": 2,
       "version_minor": 0
      },
      "text/plain": [
       "Batches:   0%|          | 0/1 [00:00<?, ?it/s]"
      ]
     },
     "metadata": {},
     "output_type": "display_data"
    },
    {
     "name": "stderr",
     "output_type": "stream",
     "text": [
      "Extracting embeddings:  32%|███▏      | 21/66 [04:48<09:55, 13.23s/it]"
     ]
    },
    {
     "data": {
      "application/vnd.jupyter.widget-view+json": {
       "model_id": "41112525a8c3454687ef204975aa0392",
       "version_major": 2,
       "version_minor": 0
      },
      "text/plain": [
       "Batches:   0%|          | 0/1 [00:00<?, ?it/s]"
      ]
     },
     "metadata": {},
     "output_type": "display_data"
    },
    {
     "name": "stderr",
     "output_type": "stream",
     "text": [
      "Extracting embeddings:  33%|███▎      | 22/66 [05:02<09:57, 13.58s/it]"
     ]
    },
    {
     "data": {
      "application/vnd.jupyter.widget-view+json": {
       "model_id": "3a8c3b2069394660a1687264060d0d49",
       "version_major": 2,
       "version_minor": 0
      },
      "text/plain": [
       "Batches:   0%|          | 0/1 [00:00<?, ?it/s]"
      ]
     },
     "metadata": {},
     "output_type": "display_data"
    },
    {
     "name": "stderr",
     "output_type": "stream",
     "text": [
      "Extracting embeddings:  35%|███▍      | 23/66 [05:20<10:30, 14.66s/it]"
     ]
    },
    {
     "data": {
      "application/vnd.jupyter.widget-view+json": {
       "model_id": "ae06ae19398f413080ba0e77de9ee789",
       "version_major": 2,
       "version_minor": 0
      },
      "text/plain": [
       "Batches:   0%|          | 0/1 [00:00<?, ?it/s]"
      ]
     },
     "metadata": {},
     "output_type": "display_data"
    },
    {
     "name": "stderr",
     "output_type": "stream",
     "text": [
      "Extracting embeddings:  36%|███▋      | 24/66 [05:34<10:07, 14.45s/it]"
     ]
    },
    {
     "data": {
      "application/vnd.jupyter.widget-view+json": {
       "model_id": "0d6169993e55495a84a5a21b68105dc9",
       "version_major": 2,
       "version_minor": 0
      },
      "text/plain": [
       "Batches:   0%|          | 0/1 [00:00<?, ?it/s]"
      ]
     },
     "metadata": {},
     "output_type": "display_data"
    },
    {
     "name": "stderr",
     "output_type": "stream",
     "text": [
      "Extracting embeddings:  38%|███▊      | 25/66 [05:46<09:25, 13.78s/it]"
     ]
    },
    {
     "data": {
      "application/vnd.jupyter.widget-view+json": {
       "model_id": "a58b56315fe5408fbad7df409024700c",
       "version_major": 2,
       "version_minor": 0
      },
      "text/plain": [
       "Batches:   0%|          | 0/1 [00:00<?, ?it/s]"
      ]
     },
     "metadata": {},
     "output_type": "display_data"
    },
    {
     "name": "stderr",
     "output_type": "stream",
     "text": [
      "Extracting embeddings:  39%|███▉      | 26/66 [06:01<09:22, 14.07s/it]"
     ]
    },
    {
     "data": {
      "application/vnd.jupyter.widget-view+json": {
       "model_id": "680f17c1292145d7a71f2f6839519b98",
       "version_major": 2,
       "version_minor": 0
      },
      "text/plain": [
       "Batches:   0%|          | 0/1 [00:00<?, ?it/s]"
      ]
     },
     "metadata": {},
     "output_type": "display_data"
    },
    {
     "name": "stderr",
     "output_type": "stream",
     "text": [
      "Extracting embeddings:  41%|████      | 27/66 [06:17<09:33, 14.72s/it]"
     ]
    },
    {
     "data": {
      "application/vnd.jupyter.widget-view+json": {
       "model_id": "6f7723f915ed4439b0de917e4672a838",
       "version_major": 2,
       "version_minor": 0
      },
      "text/plain": [
       "Batches:   0%|          | 0/1 [00:00<?, ?it/s]"
      ]
     },
     "metadata": {},
     "output_type": "display_data"
    },
    {
     "name": "stderr",
     "output_type": "stream",
     "text": [
      "Extracting embeddings:  42%|████▏     | 28/66 [06:29<08:50, 13.96s/it]"
     ]
    },
    {
     "data": {
      "application/vnd.jupyter.widget-view+json": {
       "model_id": "dbeafb676061495d881a3acf0b86c11d",
       "version_major": 2,
       "version_minor": 0
      },
      "text/plain": [
       "Batches:   0%|          | 0/1 [00:00<?, ?it/s]"
      ]
     },
     "metadata": {},
     "output_type": "display_data"
    },
    {
     "name": "stderr",
     "output_type": "stream",
     "text": [
      "Extracting embeddings:  44%|████▍     | 29/66 [06:43<08:37, 14.00s/it]"
     ]
    },
    {
     "data": {
      "application/vnd.jupyter.widget-view+json": {
       "model_id": "e745dd50b8554f3fa3de203865480c51",
       "version_major": 2,
       "version_minor": 0
      },
      "text/plain": [
       "Batches:   0%|          | 0/1 [00:00<?, ?it/s]"
      ]
     },
     "metadata": {},
     "output_type": "display_data"
    },
    {
     "name": "stderr",
     "output_type": "stream",
     "text": [
      "Extracting embeddings:  45%|████▌     | 30/66 [06:57<08:23, 13.99s/it]"
     ]
    },
    {
     "data": {
      "application/vnd.jupyter.widget-view+json": {
       "model_id": "a2127a32ef3b4d529adaa7b642a4f5f6",
       "version_major": 2,
       "version_minor": 0
      },
      "text/plain": [
       "Batches:   0%|          | 0/1 [00:00<?, ?it/s]"
      ]
     },
     "metadata": {},
     "output_type": "display_data"
    },
    {
     "name": "stderr",
     "output_type": "stream",
     "text": [
      "Extracting embeddings:  47%|████▋     | 31/66 [07:10<08:03, 13.81s/it]"
     ]
    },
    {
     "data": {
      "application/vnd.jupyter.widget-view+json": {
       "model_id": "a894fdd4634249bd8603e3e590c7fe01",
       "version_major": 2,
       "version_minor": 0
      },
      "text/plain": [
       "Batches:   0%|          | 0/1 [00:00<?, ?it/s]"
      ]
     },
     "metadata": {},
     "output_type": "display_data"
    },
    {
     "name": "stderr",
     "output_type": "stream",
     "text": [
      "Extracting embeddings:  48%|████▊     | 32/66 [07:23<07:39, 13.51s/it]"
     ]
    },
    {
     "data": {
      "application/vnd.jupyter.widget-view+json": {
       "model_id": "786523c91bea4d69952b02842d3a44da",
       "version_major": 2,
       "version_minor": 0
      },
      "text/plain": [
       "Batches:   0%|          | 0/1 [00:00<?, ?it/s]"
      ]
     },
     "metadata": {},
     "output_type": "display_data"
    },
    {
     "name": "stderr",
     "output_type": "stream",
     "text": [
      "Extracting embeddings:  50%|█████     | 33/66 [07:38<07:42, 14.01s/it]"
     ]
    },
    {
     "data": {
      "application/vnd.jupyter.widget-view+json": {
       "model_id": "6a6c875bc5414efdacc9bc9d10e7410a",
       "version_major": 2,
       "version_minor": 0
      },
      "text/plain": [
       "Batches:   0%|          | 0/1 [00:00<?, ?it/s]"
      ]
     },
     "metadata": {},
     "output_type": "display_data"
    },
    {
     "name": "stderr",
     "output_type": "stream",
     "text": [
      "Extracting embeddings:  52%|█████▏    | 34/66 [07:54<07:41, 14.43s/it]"
     ]
    },
    {
     "data": {
      "application/vnd.jupyter.widget-view+json": {
       "model_id": "ac7f55ea99a0486fac0004a220fef89d",
       "version_major": 2,
       "version_minor": 0
      },
      "text/plain": [
       "Batches:   0%|          | 0/1 [00:00<?, ?it/s]"
      ]
     },
     "metadata": {},
     "output_type": "display_data"
    },
    {
     "name": "stderr",
     "output_type": "stream",
     "text": [
      "Extracting embeddings:  53%|█████▎    | 35/66 [08:07<07:16, 14.09s/it]"
     ]
    },
    {
     "data": {
      "application/vnd.jupyter.widget-view+json": {
       "model_id": "3184d72960cc44d7ab5cb8e20d6034ba",
       "version_major": 2,
       "version_minor": 0
      },
      "text/plain": [
       "Batches:   0%|          | 0/1 [00:00<?, ?it/s]"
      ]
     },
     "metadata": {},
     "output_type": "display_data"
    },
    {
     "name": "stderr",
     "output_type": "stream",
     "text": [
      "Extracting embeddings:  55%|█████▍    | 36/66 [08:22<07:10, 14.35s/it]"
     ]
    },
    {
     "data": {
      "application/vnd.jupyter.widget-view+json": {
       "model_id": "ebd79caddbc44623a36e16fa829f35f5",
       "version_major": 2,
       "version_minor": 0
      },
      "text/plain": [
       "Batches:   0%|          | 0/1 [00:00<?, ?it/s]"
      ]
     },
     "metadata": {},
     "output_type": "display_data"
    },
    {
     "name": "stderr",
     "output_type": "stream",
     "text": [
      "Extracting embeddings:  56%|█████▌    | 37/66 [08:37<06:58, 14.42s/it]"
     ]
    },
    {
     "data": {
      "application/vnd.jupyter.widget-view+json": {
       "model_id": "3f66cdd5981541c69a90d6e5979e1a1a",
       "version_major": 2,
       "version_minor": 0
      },
      "text/plain": [
       "Batches:   0%|          | 0/1 [00:00<?, ?it/s]"
      ]
     },
     "metadata": {},
     "output_type": "display_data"
    },
    {
     "name": "stderr",
     "output_type": "stream",
     "text": [
      "Extracting embeddings:  58%|█████▊    | 38/66 [08:50<06:37, 14.19s/it]"
     ]
    },
    {
     "data": {
      "application/vnd.jupyter.widget-view+json": {
       "model_id": "24bfbfe73da240a4a9154042cce96769",
       "version_major": 2,
       "version_minor": 0
      },
      "text/plain": [
       "Batches:   0%|          | 0/1 [00:00<?, ?it/s]"
      ]
     },
     "metadata": {},
     "output_type": "display_data"
    },
    {
     "name": "stderr",
     "output_type": "stream",
     "text": [
      "Extracting embeddings:  59%|█████▉    | 39/66 [09:02<06:00, 13.35s/it]"
     ]
    },
    {
     "data": {
      "application/vnd.jupyter.widget-view+json": {
       "model_id": "0d4c50b5f6264b85b3e5ee0aee719e2e",
       "version_major": 2,
       "version_minor": 0
      },
      "text/plain": [
       "Batches:   0%|          | 0/1 [00:00<?, ?it/s]"
      ]
     },
     "metadata": {},
     "output_type": "display_data"
    },
    {
     "name": "stderr",
     "output_type": "stream",
     "text": [
      "Extracting embeddings:  61%|██████    | 40/66 [09:15<05:47, 13.37s/it]"
     ]
    },
    {
     "data": {
      "application/vnd.jupyter.widget-view+json": {
       "model_id": "fd63c1c9c51c49a9ac94b8dc7329ba97",
       "version_major": 2,
       "version_minor": 0
      },
      "text/plain": [
       "Batches:   0%|          | 0/1 [00:00<?, ?it/s]"
      ]
     },
     "metadata": {},
     "output_type": "display_data"
    },
    {
     "name": "stderr",
     "output_type": "stream",
     "text": [
      "Extracting embeddings:  62%|██████▏   | 41/66 [09:34<06:13, 14.93s/it]"
     ]
    },
    {
     "data": {
      "application/vnd.jupyter.widget-view+json": {
       "model_id": "a45b0482ca004be19e7360485fbe1b97",
       "version_major": 2,
       "version_minor": 0
      },
      "text/plain": [
       "Batches:   0%|          | 0/1 [00:00<?, ?it/s]"
      ]
     },
     "metadata": {},
     "output_type": "display_data"
    },
    {
     "name": "stderr",
     "output_type": "stream",
     "text": [
      "Extracting embeddings:  64%|██████▎   | 42/66 [09:48<05:52, 14.68s/it]"
     ]
    },
    {
     "data": {
      "application/vnd.jupyter.widget-view+json": {
       "model_id": "2c8579fd658a46bb8555bea3cd901587",
       "version_major": 2,
       "version_minor": 0
      },
      "text/plain": [
       "Batches:   0%|          | 0/1 [00:00<?, ?it/s]"
      ]
     },
     "metadata": {},
     "output_type": "display_data"
    },
    {
     "name": "stderr",
     "output_type": "stream",
     "text": [
      "Extracting embeddings:  65%|██████▌   | 43/66 [10:03<05:43, 14.93s/it]"
     ]
    },
    {
     "data": {
      "application/vnd.jupyter.widget-view+json": {
       "model_id": "43233c69bc26421d8aa75a853a44e3f4",
       "version_major": 2,
       "version_minor": 0
      },
      "text/plain": [
       "Batches:   0%|          | 0/1 [00:00<?, ?it/s]"
      ]
     },
     "metadata": {},
     "output_type": "display_data"
    },
    {
     "name": "stderr",
     "output_type": "stream",
     "text": [
      "Extracting embeddings:  67%|██████▋   | 44/66 [10:16<05:15, 14.33s/it]"
     ]
    },
    {
     "data": {
      "application/vnd.jupyter.widget-view+json": {
       "model_id": "5dde0310e8d249a39b5b84a481264f97",
       "version_major": 2,
       "version_minor": 0
      },
      "text/plain": [
       "Batches:   0%|          | 0/1 [00:00<?, ?it/s]"
      ]
     },
     "metadata": {},
     "output_type": "display_data"
    },
    {
     "name": "stderr",
     "output_type": "stream",
     "text": [
      "Extracting embeddings:  68%|██████▊   | 45/66 [10:31<05:04, 14.52s/it]"
     ]
    },
    {
     "data": {
      "application/vnd.jupyter.widget-view+json": {
       "model_id": "7910787aaa28455198c6f0038d174b94",
       "version_major": 2,
       "version_minor": 0
      },
      "text/plain": [
       "Batches:   0%|          | 0/1 [00:00<?, ?it/s]"
      ]
     },
     "metadata": {},
     "output_type": "display_data"
    },
    {
     "name": "stderr",
     "output_type": "stream",
     "text": [
      "Extracting embeddings:  70%|██████▉   | 46/66 [10:42<04:30, 13.52s/it]"
     ]
    },
    {
     "data": {
      "application/vnd.jupyter.widget-view+json": {
       "model_id": "165f16f5fa2d43aa8e081ec71f3df7ee",
       "version_major": 2,
       "version_minor": 0
      },
      "text/plain": [
       "Batches:   0%|          | 0/1 [00:00<?, ?it/s]"
      ]
     },
     "metadata": {},
     "output_type": "display_data"
    },
    {
     "name": "stderr",
     "output_type": "stream",
     "text": [
      "Extracting embeddings:  71%|███████   | 47/66 [10:55<04:09, 13.12s/it]"
     ]
    },
    {
     "data": {
      "application/vnd.jupyter.widget-view+json": {
       "model_id": "9760a4be81f54e74add6a04a0de406a2",
       "version_major": 2,
       "version_minor": 0
      },
      "text/plain": [
       "Batches:   0%|          | 0/1 [00:00<?, ?it/s]"
      ]
     },
     "metadata": {},
     "output_type": "display_data"
    },
    {
     "name": "stderr",
     "output_type": "stream",
     "text": [
      "Extracting embeddings:  73%|███████▎  | 48/66 [11:09<04:03, 13.51s/it]"
     ]
    },
    {
     "data": {
      "application/vnd.jupyter.widget-view+json": {
       "model_id": "c221f918a2ed4803bd6cf6a38645e2e7",
       "version_major": 2,
       "version_minor": 0
      },
      "text/plain": [
       "Batches:   0%|          | 0/1 [00:00<?, ?it/s]"
      ]
     },
     "metadata": {},
     "output_type": "display_data"
    },
    {
     "name": "stderr",
     "output_type": "stream",
     "text": [
      "Extracting embeddings:  74%|███████▍  | 49/66 [11:25<04:00, 14.15s/it]"
     ]
    },
    {
     "data": {
      "application/vnd.jupyter.widget-view+json": {
       "model_id": "704fbe5285d349b4a9dbd1fa3a1c819e",
       "version_major": 2,
       "version_minor": 0
      },
      "text/plain": [
       "Batches:   0%|          | 0/1 [00:00<?, ?it/s]"
      ]
     },
     "metadata": {},
     "output_type": "display_data"
    },
    {
     "name": "stderr",
     "output_type": "stream",
     "text": [
      "Extracting embeddings:  76%|███████▌  | 50/66 [11:40<03:50, 14.43s/it]"
     ]
    },
    {
     "data": {
      "application/vnd.jupyter.widget-view+json": {
       "model_id": "30fd3a94354e49799d40d32fcbcbb491",
       "version_major": 2,
       "version_minor": 0
      },
      "text/plain": [
       "Batches:   0%|          | 0/1 [00:00<?, ?it/s]"
      ]
     },
     "metadata": {},
     "output_type": "display_data"
    },
    {
     "name": "stderr",
     "output_type": "stream",
     "text": [
      "Extracting embeddings:  77%|███████▋  | 51/66 [11:55<03:38, 14.59s/it]"
     ]
    },
    {
     "data": {
      "application/vnd.jupyter.widget-view+json": {
       "model_id": "8a409eeeac884474a5d115b7f0a4eda8",
       "version_major": 2,
       "version_minor": 0
      },
      "text/plain": [
       "Batches:   0%|          | 0/1 [00:00<?, ?it/s]"
      ]
     },
     "metadata": {},
     "output_type": "display_data"
    },
    {
     "name": "stderr",
     "output_type": "stream",
     "text": [
      "Extracting embeddings:  79%|███████▉  | 52/66 [12:09<03:22, 14.50s/it]"
     ]
    },
    {
     "data": {
      "application/vnd.jupyter.widget-view+json": {
       "model_id": "059b0383e1b2400996f30880e89f9677",
       "version_major": 2,
       "version_minor": 0
      },
      "text/plain": [
       "Batches:   0%|          | 0/1 [00:00<?, ?it/s]"
      ]
     },
     "metadata": {},
     "output_type": "display_data"
    },
    {
     "name": "stderr",
     "output_type": "stream",
     "text": [
      "Extracting embeddings:  80%|████████  | 53/66 [12:19<02:50, 13.09s/it]"
     ]
    },
    {
     "data": {
      "application/vnd.jupyter.widget-view+json": {
       "model_id": "8ced6217d19e472594be7c393de1eb22",
       "version_major": 2,
       "version_minor": 0
      },
      "text/plain": [
       "Batches:   0%|          | 0/1 [00:00<?, ?it/s]"
      ]
     },
     "metadata": {},
     "output_type": "display_data"
    },
    {
     "name": "stderr",
     "output_type": "stream",
     "text": [
      "Extracting embeddings:  82%|████████▏ | 54/66 [12:34<02:43, 13.59s/it]"
     ]
    },
    {
     "data": {
      "application/vnd.jupyter.widget-view+json": {
       "model_id": "0be986aca5a849d1a099a0b5007c523f",
       "version_major": 2,
       "version_minor": 0
      },
      "text/plain": [
       "Batches:   0%|          | 0/1 [00:00<?, ?it/s]"
      ]
     },
     "metadata": {},
     "output_type": "display_data"
    },
    {
     "name": "stderr",
     "output_type": "stream",
     "text": [
      "Extracting embeddings:  83%|████████▎ | 55/66 [12:49<02:35, 14.14s/it]"
     ]
    },
    {
     "data": {
      "application/vnd.jupyter.widget-view+json": {
       "model_id": "cfb311ebb4fb4113ac3adc5a88d0849c",
       "version_major": 2,
       "version_minor": 0
      },
      "text/plain": [
       "Batches:   0%|          | 0/1 [00:00<?, ?it/s]"
      ]
     },
     "metadata": {},
     "output_type": "display_data"
    },
    {
     "name": "stderr",
     "output_type": "stream",
     "text": [
      "Extracting embeddings:  85%|████████▍ | 56/66 [13:04<02:25, 14.52s/it]"
     ]
    },
    {
     "data": {
      "application/vnd.jupyter.widget-view+json": {
       "model_id": "144dd09722dc4514a93a786919db1fba",
       "version_major": 2,
       "version_minor": 0
      },
      "text/plain": [
       "Batches:   0%|          | 0/1 [00:00<?, ?it/s]"
      ]
     },
     "metadata": {},
     "output_type": "display_data"
    },
    {
     "name": "stderr",
     "output_type": "stream",
     "text": [
      "Extracting embeddings:  86%|████████▋ | 57/66 [13:20<02:14, 14.91s/it]"
     ]
    },
    {
     "data": {
      "application/vnd.jupyter.widget-view+json": {
       "model_id": "6485f51fd6124f229bf75130867caeb0",
       "version_major": 2,
       "version_minor": 0
      },
      "text/plain": [
       "Batches:   0%|          | 0/1 [00:00<?, ?it/s]"
      ]
     },
     "metadata": {},
     "output_type": "display_data"
    },
    {
     "name": "stderr",
     "output_type": "stream",
     "text": [
      "Extracting embeddings:  88%|████████▊ | 58/66 [13:35<01:58, 14.81s/it]"
     ]
    },
    {
     "data": {
      "application/vnd.jupyter.widget-view+json": {
       "model_id": "481980c9de6c466da31514bf68f64f21",
       "version_major": 2,
       "version_minor": 0
      },
      "text/plain": [
       "Batches:   0%|          | 0/1 [00:00<?, ?it/s]"
      ]
     },
     "metadata": {},
     "output_type": "display_data"
    },
    {
     "name": "stderr",
     "output_type": "stream",
     "text": [
      "Extracting embeddings:  89%|████████▉ | 59/66 [13:49<01:42, 14.59s/it]"
     ]
    },
    {
     "data": {
      "application/vnd.jupyter.widget-view+json": {
       "model_id": "c5332f320c2e4e65b78e2047876b2246",
       "version_major": 2,
       "version_minor": 0
      },
      "text/plain": [
       "Batches:   0%|          | 0/1 [00:00<?, ?it/s]"
      ]
     },
     "metadata": {},
     "output_type": "display_data"
    },
    {
     "name": "stderr",
     "output_type": "stream",
     "text": [
      "Extracting embeddings:  91%|█████████ | 60/66 [14:06<01:32, 15.37s/it]"
     ]
    },
    {
     "data": {
      "application/vnd.jupyter.widget-view+json": {
       "model_id": "50b6fd31d6f4411dba650854b948f0c0",
       "version_major": 2,
       "version_minor": 0
      },
      "text/plain": [
       "Batches:   0%|          | 0/1 [00:00<?, ?it/s]"
      ]
     },
     "metadata": {},
     "output_type": "display_data"
    },
    {
     "name": "stderr",
     "output_type": "stream",
     "text": [
      "Extracting embeddings:  92%|█████████▏| 61/66 [14:20<01:15, 15.08s/it]"
     ]
    },
    {
     "data": {
      "application/vnd.jupyter.widget-view+json": {
       "model_id": "38f2d96f160a41da96cd72910455afce",
       "version_major": 2,
       "version_minor": 0
      },
      "text/plain": [
       "Batches:   0%|          | 0/1 [00:00<?, ?it/s]"
      ]
     },
     "metadata": {},
     "output_type": "display_data"
    },
    {
     "name": "stderr",
     "output_type": "stream",
     "text": [
      "Extracting embeddings:  94%|█████████▍| 62/66 [14:36<01:00, 15.21s/it]"
     ]
    },
    {
     "data": {
      "application/vnd.jupyter.widget-view+json": {
       "model_id": "51a48896dcf74b2d98ed9b0de10eede9",
       "version_major": 2,
       "version_minor": 0
      },
      "text/plain": [
       "Batches:   0%|          | 0/1 [00:00<?, ?it/s]"
      ]
     },
     "metadata": {},
     "output_type": "display_data"
    },
    {
     "name": "stderr",
     "output_type": "stream",
     "text": [
      "Extracting embeddings:  95%|█████████▌| 63/66 [14:50<00:44, 14.94s/it]"
     ]
    },
    {
     "data": {
      "application/vnd.jupyter.widget-view+json": {
       "model_id": "927226939a6a4816bd39a73402930112",
       "version_major": 2,
       "version_minor": 0
      },
      "text/plain": [
       "Batches:   0%|          | 0/1 [00:00<?, ?it/s]"
      ]
     },
     "metadata": {},
     "output_type": "display_data"
    },
    {
     "name": "stderr",
     "output_type": "stream",
     "text": [
      "Extracting embeddings:  97%|█████████▋| 64/66 [15:06<00:30, 15.08s/it]"
     ]
    },
    {
     "data": {
      "application/vnd.jupyter.widget-view+json": {
       "model_id": "d61027c433034bb09e1b66bbd023a7ea",
       "version_major": 2,
       "version_minor": 0
      },
      "text/plain": [
       "Batches:   0%|          | 0/1 [00:00<?, ?it/s]"
      ]
     },
     "metadata": {},
     "output_type": "display_data"
    },
    {
     "name": "stderr",
     "output_type": "stream",
     "text": [
      "Extracting embeddings:  98%|█████████▊| 65/66 [15:19<00:14, 14.65s/it]"
     ]
    },
    {
     "data": {
      "application/vnd.jupyter.widget-view+json": {
       "model_id": "1f220d8ea4074e92abee5891e796ba08",
       "version_major": 2,
       "version_minor": 0
      },
      "text/plain": [
       "Batches:   0%|          | 0/1 [00:00<?, ?it/s]"
      ]
     },
     "metadata": {},
     "output_type": "display_data"
    },
    {
     "name": "stderr",
     "output_type": "stream",
     "text": [
      "Extracting embeddings: 100%|██████████| 66/66 [15:20<00:00, 13.95s/it]\n",
      "Extracting embeddings:   0%|          | 0/17 [00:00<?, ?it/s]"
     ]
    },
    {
     "data": {
      "application/vnd.jupyter.widget-view+json": {
       "model_id": "0f213d8846cc44c4bff0cf71d42d02bb",
       "version_major": 2,
       "version_minor": 0
      },
      "text/plain": [
       "Batches:   0%|          | 0/1 [00:00<?, ?it/s]"
      ]
     },
     "metadata": {},
     "output_type": "display_data"
    },
    {
     "name": "stderr",
     "output_type": "stream",
     "text": [
      "Extracting embeddings:   6%|▌         | 1/17 [00:14<03:59, 14.96s/it]"
     ]
    },
    {
     "data": {
      "application/vnd.jupyter.widget-view+json": {
       "model_id": "7f80ffe952104e4b9949b93cc953c6dd",
       "version_major": 2,
       "version_minor": 0
      },
      "text/plain": [
       "Batches:   0%|          | 0/1 [00:00<?, ?it/s]"
      ]
     },
     "metadata": {},
     "output_type": "display_data"
    },
    {
     "name": "stderr",
     "output_type": "stream",
     "text": [
      "Extracting embeddings:  12%|█▏        | 2/17 [00:29<03:42, 14.84s/it]"
     ]
    },
    {
     "data": {
      "application/vnd.jupyter.widget-view+json": {
       "model_id": "1b66107f38b544cdb0bc734647217a60",
       "version_major": 2,
       "version_minor": 0
      },
      "text/plain": [
       "Batches:   0%|          | 0/1 [00:00<?, ?it/s]"
      ]
     },
     "metadata": {},
     "output_type": "display_data"
    },
    {
     "name": "stderr",
     "output_type": "stream",
     "text": [
      "Extracting embeddings:  18%|█▊        | 3/17 [00:45<03:32, 15.15s/it]"
     ]
    },
    {
     "data": {
      "application/vnd.jupyter.widget-view+json": {
       "model_id": "8f5540ddd2dd430385ceb2c421c7b0bf",
       "version_major": 2,
       "version_minor": 0
      },
      "text/plain": [
       "Batches:   0%|          | 0/1 [00:00<?, ?it/s]"
      ]
     },
     "metadata": {},
     "output_type": "display_data"
    },
    {
     "name": "stderr",
     "output_type": "stream",
     "text": [
      "Extracting embeddings:  24%|██▎       | 4/17 [00:59<03:12, 14.81s/it]"
     ]
    },
    {
     "data": {
      "application/vnd.jupyter.widget-view+json": {
       "model_id": "d5f1b306889a44e297396eea64a55feb",
       "version_major": 2,
       "version_minor": 0
      },
      "text/plain": [
       "Batches:   0%|          | 0/1 [00:00<?, ?it/s]"
      ]
     },
     "metadata": {},
     "output_type": "display_data"
    },
    {
     "name": "stderr",
     "output_type": "stream",
     "text": [
      "Extracting embeddings:  29%|██▉       | 5/17 [01:11<02:45, 13.79s/it]"
     ]
    },
    {
     "data": {
      "application/vnd.jupyter.widget-view+json": {
       "model_id": "543a6d5760f74cb3aecf39a4b0b1d43d",
       "version_major": 2,
       "version_minor": 0
      },
      "text/plain": [
       "Batches:   0%|          | 0/1 [00:00<?, ?it/s]"
      ]
     },
     "metadata": {},
     "output_type": "display_data"
    },
    {
     "name": "stderr",
     "output_type": "stream",
     "text": [
      "Extracting embeddings:  35%|███▌      | 6/17 [01:28<02:42, 14.77s/it]"
     ]
    },
    {
     "data": {
      "application/vnd.jupyter.widget-view+json": {
       "model_id": "cc2e290817dd4cd6afffd70afcf7a486",
       "version_major": 2,
       "version_minor": 0
      },
      "text/plain": [
       "Batches:   0%|          | 0/1 [00:00<?, ?it/s]"
      ]
     },
     "metadata": {},
     "output_type": "display_data"
    },
    {
     "name": "stderr",
     "output_type": "stream",
     "text": [
      "Extracting embeddings:  41%|████      | 7/17 [01:44<02:33, 15.36s/it]"
     ]
    },
    {
     "data": {
      "application/vnd.jupyter.widget-view+json": {
       "model_id": "e94bff0265d94cbe8fbd7783acf576a0",
       "version_major": 2,
       "version_minor": 0
      },
      "text/plain": [
       "Batches:   0%|          | 0/1 [00:00<?, ?it/s]"
      ]
     },
     "metadata": {},
     "output_type": "display_data"
    },
    {
     "name": "stderr",
     "output_type": "stream",
     "text": [
      "Extracting embeddings:  47%|████▋     | 8/17 [01:59<02:17, 15.27s/it]"
     ]
    },
    {
     "data": {
      "application/vnd.jupyter.widget-view+json": {
       "model_id": "9606bce8dd52460cac4b6054a8e92714",
       "version_major": 2,
       "version_minor": 0
      },
      "text/plain": [
       "Batches:   0%|          | 0/1 [00:00<?, ?it/s]"
      ]
     },
     "metadata": {},
     "output_type": "display_data"
    },
    {
     "name": "stderr",
     "output_type": "stream",
     "text": [
      "Extracting embeddings:  53%|█████▎    | 9/17 [02:18<02:11, 16.42s/it]"
     ]
    },
    {
     "data": {
      "application/vnd.jupyter.widget-view+json": {
       "model_id": "361cb1faeaf7437eba21e88c8e18bb16",
       "version_major": 2,
       "version_minor": 0
      },
      "text/plain": [
       "Batches:   0%|          | 0/1 [00:00<?, ?it/s]"
      ]
     },
     "metadata": {},
     "output_type": "display_data"
    },
    {
     "name": "stderr",
     "output_type": "stream",
     "text": [
      "Extracting embeddings:  59%|█████▉    | 10/17 [02:30<01:43, 14.84s/it]"
     ]
    },
    {
     "data": {
      "application/vnd.jupyter.widget-view+json": {
       "model_id": "036fda973b7d4db38de5197f81913a78",
       "version_major": 2,
       "version_minor": 0
      },
      "text/plain": [
       "Batches:   0%|          | 0/1 [00:00<?, ?it/s]"
      ]
     },
     "metadata": {},
     "output_type": "display_data"
    },
    {
     "name": "stderr",
     "output_type": "stream",
     "text": [
      "Extracting embeddings:  65%|██████▍   | 11/17 [02:44<01:28, 14.81s/it]"
     ]
    },
    {
     "data": {
      "application/vnd.jupyter.widget-view+json": {
       "model_id": "47d9fb4185884f53b7e04822ff5d2abc",
       "version_major": 2,
       "version_minor": 0
      },
      "text/plain": [
       "Batches:   0%|          | 0/1 [00:00<?, ?it/s]"
      ]
     },
     "metadata": {},
     "output_type": "display_data"
    },
    {
     "name": "stderr",
     "output_type": "stream",
     "text": [
      "Extracting embeddings:  71%|███████   | 12/17 [03:00<01:15, 15.03s/it]"
     ]
    },
    {
     "data": {
      "application/vnd.jupyter.widget-view+json": {
       "model_id": "76b2282e26614781bd618394bc877dbb",
       "version_major": 2,
       "version_minor": 0
      },
      "text/plain": [
       "Batches:   0%|          | 0/1 [00:00<?, ?it/s]"
      ]
     },
     "metadata": {},
     "output_type": "display_data"
    },
    {
     "name": "stderr",
     "output_type": "stream",
     "text": [
      "Extracting embeddings:  76%|███████▋  | 13/17 [03:16<01:01, 15.35s/it]"
     ]
    },
    {
     "data": {
      "application/vnd.jupyter.widget-view+json": {
       "model_id": "1ecd0df22e8a4e8f9fe11ea4434dc95b",
       "version_major": 2,
       "version_minor": 0
      },
      "text/plain": [
       "Batches:   0%|          | 0/1 [00:00<?, ?it/s]"
      ]
     },
     "metadata": {},
     "output_type": "display_data"
    },
    {
     "name": "stderr",
     "output_type": "stream",
     "text": [
      "Extracting embeddings:  82%|████████▏ | 14/17 [03:33<00:48, 16.00s/it]"
     ]
    },
    {
     "data": {
      "application/vnd.jupyter.widget-view+json": {
       "model_id": "cdcc3bad23b44ebc9d2dfb976d659e78",
       "version_major": 2,
       "version_minor": 0
      },
      "text/plain": [
       "Batches:   0%|          | 0/1 [00:00<?, ?it/s]"
      ]
     },
     "metadata": {},
     "output_type": "display_data"
    },
    {
     "name": "stderr",
     "output_type": "stream",
     "text": [
      "Extracting embeddings:  88%|████████▊ | 15/17 [03:47<00:30, 15.21s/it]"
     ]
    },
    {
     "data": {
      "application/vnd.jupyter.widget-view+json": {
       "model_id": "5b6846d204694b349fa295d60ed8110b",
       "version_major": 2,
       "version_minor": 0
      },
      "text/plain": [
       "Batches:   0%|          | 0/1 [00:00<?, ?it/s]"
      ]
     },
     "metadata": {},
     "output_type": "display_data"
    },
    {
     "name": "stderr",
     "output_type": "stream",
     "text": [
      "Extracting embeddings:  94%|█████████▍| 16/17 [04:01<00:14, 14.87s/it]"
     ]
    },
    {
     "data": {
      "application/vnd.jupyter.widget-view+json": {
       "model_id": "b0eeb4f14bd6416ba32d7d670bf06fba",
       "version_major": 2,
       "version_minor": 0
      },
      "text/plain": [
       "Batches:   0%|          | 0/1 [00:00<?, ?it/s]"
      ]
     },
     "metadata": {},
     "output_type": "display_data"
    },
    {
     "name": "stderr",
     "output_type": "stream",
     "text": [
      "Extracting embeddings: 100%|██████████| 17/17 [04:03<00:00, 14.35s/it]\n"
     ]
    }
   ],
   "source": [
    "# Extract embeddings for train and validation datasets\n",
    "x_train_embeddings = extract_embeddings(x_train, embedding_model, batch_size=32)\n",
    "x_valid_embeddings = extract_embeddings(x_valid, embedding_model, batch_size=32)"
   ]
  },
  {
   "cell_type": "code",
   "execution_count": 61,
   "metadata": {
    "execution": {
     "iopub.execute_input": "2025-01-11T21:56:32.820616Z",
     "iopub.status.busy": "2025-01-11T21:56:32.820345Z",
     "iopub.status.idle": "2025-01-11T21:56:32.825697Z",
     "shell.execute_reply": "2025-01-11T21:56:32.824982Z",
     "shell.execute_reply.started": "2025-01-11T21:56:32.820592Z"
    },
    "id": "J-d1ZAwbDzS-",
    "trusted": true
   },
   "outputs": [],
   "source": [
    "# Flatten labels for XGBoost (multi-label classification)\n",
    "y_train_flat = np.array(y_train)\n",
    "y_valid_flat = np.array(y_valid)"
   ]
  },
  {
   "cell_type": "code",
   "execution_count": 62,
   "metadata": {
    "execution": {
     "iopub.execute_input": "2025-01-11T21:56:32.826862Z",
     "iopub.status.busy": "2025-01-11T21:56:32.826566Z",
     "iopub.status.idle": "2025-01-11T21:56:33.068243Z",
     "shell.execute_reply": "2025-01-11T21:56:33.067305Z",
     "shell.execute_reply.started": "2025-01-11T21:56:32.826832Z"
    },
    "id": "TMRlx05eKvBY",
    "trusted": true
   },
   "outputs": [],
   "source": [
    "import xgboost as xgb"
   ]
  },
  {
   "cell_type": "code",
   "execution_count": 65,
   "metadata": {
    "colab": {
     "base_uri": "https://localhost:8080/"
    },
    "execution": {
     "iopub.execute_input": "2025-01-11T21:59:54.391166Z",
     "iopub.status.busy": "2025-01-11T21:59:54.390784Z",
     "iopub.status.idle": "2025-01-11T22:04:33.190762Z",
     "shell.execute_reply": "2025-01-11T22:04:33.189785Z",
     "shell.execute_reply.started": "2025-01-11T21:59:54.391138Z"
    },
    "id": "lEP0kNeYD7L2",
    "outputId": "87c8f746-94b3-4236-916f-c47668c4f68e",
    "trusted": true
   },
   "outputs": [
    {
     "name": "stdout",
     "output_type": "stream",
     "text": [
      "Training XGBoost for label: anger\n",
      "Training XGBoost for label: disgust\n",
      "Training XGBoost for label: fear\n",
      "Training XGBoost for label: joy\n",
      "Training XGBoost for label: sadness\n",
      "Training XGBoost for label: surprise\n"
     ]
    }
   ],
   "source": [
    "xgb_models = {}\n",
    "predictions = {}\n",
    "\n",
    "for i, label in enumerate(label_columns):\n",
    "    print(f\"Training XGBoost for label: {label}\")\n",
    "    # Use the computed class weights for the positive class\n",
    "    scale_pos_weight = class_weights_tensor[i].item()\n",
    "    # Initialize and train XGBoost classifier\n",
    "    # xgb_model = xgb.XGBClassifier(\n",
    "    #     objective='binary:logistic',\n",
    "    #     eval_metric='logloss',\n",
    "    #     use_label_encoder=False,\n",
    "    #     n_estimators=100,\n",
    "    #     learning_rate=0.1,\n",
    "    #     max_depth=6,\n",
    "    #     tree_method='hist',\n",
    "    #     scale_pos_weight=scale_pos_weight,  # Apply the class weight here\n",
    "    #     device=device\n",
    "    # )\n",
    "    xgb_model = xgb.XGBClassifier(\n",
    "    objective='binary:logistic',\n",
    "    eval_metric='logloss',\n",
    "    use_label_encoder=False,\n",
    "    n_estimators=100,\n",
    "    learning_rate=0.1,\n",
    "    max_depth=6,\n",
    "    tree_method='hist',  # Use CPU-based method\n",
    "    scale_pos_weight=scale_pos_weight  # Apply the class weight here\n",
    ")\n",
    "\n",
    "    xgb_model.fit(x_train_embeddings, y_train_flat[:, i])\n",
    "    xgb_models[label] = xgb_model\n",
    "\n",
    "    # Predict on validation data\n",
    "    predictions[label] = xgb_model.predict(x_valid_embeddings)"
   ]
  },
  {
   "cell_type": "code",
   "execution_count": 66,
   "metadata": {
    "execution": {
     "iopub.execute_input": "2025-01-11T22:04:39.520875Z",
     "iopub.status.busy": "2025-01-11T22:04:39.520524Z",
     "iopub.status.idle": "2025-01-11T22:04:39.537756Z",
     "shell.execute_reply": "2025-01-11T22:04:39.537063Z",
     "shell.execute_reply.started": "2025-01-11T22:04:39.520838Z"
    },
    "id": "71wf1rQCD9tn",
    "trusted": true
   },
   "outputs": [],
   "source": [
    "# Evaluate the models\n",
    "results = []\n",
    "for i, label in enumerate(label_columns):\n",
    "    precision, recall, f1, _ = precision_recall_fscore_support(\n",
    "        y_valid_flat[:, i],\n",
    "        predictions[label],\n",
    "        average=\"binary\"\n",
    "    )\n",
    "    accuracy = accuracy_score(y_valid_flat[:, i], predictions[label])\n",
    "    results.append({\n",
    "        \"Label\": label,\n",
    "        \"Precision\": precision,\n",
    "        \"Recall\": recall,\n",
    "        \"F1 Score\": f1,\n",
    "        \"Accuracy\": accuracy\n",
    "    })"
   ]
  },
  {
   "cell_type": "code",
   "execution_count": 67,
   "metadata": {
    "colab": {
     "base_uri": "https://localhost:8080/"
    },
    "execution": {
     "iopub.execute_input": "2025-01-11T22:04:43.482206Z",
     "iopub.status.busy": "2025-01-11T22:04:43.481870Z",
     "iopub.status.idle": "2025-01-11T22:04:43.491411Z",
     "shell.execute_reply": "2025-01-11T22:04:43.490585Z",
     "shell.execute_reply.started": "2025-01-11T22:04:43.482168Z"
    },
    "id": "7mxcaQ7dEBZm",
    "outputId": "61e7a1e8-1c1c-4806-bb51-81fcc86c011a",
    "trusted": true
   },
   "outputs": [
    {
     "name": "stdout",
     "output_type": "stream",
     "text": [
      "      Label  Precision    Recall  F1 Score  Accuracy\n",
      "0     anger   0.786325  0.657143  0.715953  0.859885\n",
      "1   disgust   0.727273  0.670968  0.697987  0.827255\n",
      "2      fear   0.875000  0.137255  0.237288  0.913628\n",
      "3       joy   0.693548  0.434343  0.534161  0.856046\n",
      "4   sadness   0.803571  0.375000  0.511364  0.834933\n",
      "5  surprise   0.500000  0.040000  0.074074  0.952015\n"
     ]
    }
   ],
   "source": [
    "# Display evaluation results\n",
    "results_df = pd.DataFrame(results)\n",
    "print(results_df)"
   ]
  },
  {
   "cell_type": "code",
   "execution_count": 68,
   "metadata": {
    "colab": {
     "base_uri": "https://localhost:8080/"
    },
    "execution": {
     "iopub.execute_input": "2025-01-11T22:04:50.756894Z",
     "iopub.status.busy": "2025-01-11T22:04:50.756566Z",
     "iopub.status.idle": "2025-01-11T22:04:50.763767Z",
     "shell.execute_reply": "2025-01-11T22:04:50.763120Z",
     "shell.execute_reply.started": "2025-01-11T22:04:50.756868Z"
    },
    "id": "uGLXR8HmBaeC",
    "outputId": "65fecf40-4632-42cb-97b2-bafc4b93ee01",
    "trusted": true
   },
   "outputs": [
    {
     "name": "stdout",
     "output_type": "stream",
     "text": [
      "Alignment-Lab-AI/e5-mistral-7b-instruct evaluates:\n",
      "Class 'anger': Precision: 0.7863, Recall: 0.6571, F1: 0.7160\n",
      "Class 'disgust': Precision: 0.7273, Recall: 0.6710, F1: 0.6980\n",
      "Class 'fear': Precision: 0.8750, Recall: 0.1373, F1: 0.2373\n",
      "Class 'joy': Precision: 0.6935, Recall: 0.4343, F1: 0.5342\n",
      "Class 'sadness': Precision: 0.8036, Recall: 0.3750, F1: 0.5114\n",
      "Class 'surprise': Precision: 0.5000, Recall: 0.0400, F1: 0.0741\n",
      "Overall accuracy: 0.9520\n",
      "-------------------------------------------------------------------------\n",
      "\n"
     ]
    }
   ],
   "source": [
    "print(f\"{x} evaluates:\")\n",
    "\n",
    "for k, res in enumerate(results):\n",
    "\n",
    "  print(f\"Class '{res['Label']}': Precision: {res['Precision']:.4f}, Recall: {res['Recall']:.4f}, F1: {res['F1 Score']:.4f}\")\n",
    "\n",
    "print(f\"Overall accuracy: {accuracy:.4f}\")\n",
    "\n",
    "print(\"-------------------------------------------------------------------------\\n\")"
   ]
  },
  {
   "cell_type": "code",
   "execution_count": 69,
   "metadata": {
    "execution": {
     "iopub.execute_input": "2025-01-11T22:05:03.411316Z",
     "iopub.status.busy": "2025-01-11T22:05:03.411010Z",
     "iopub.status.idle": "2025-01-11T22:05:03.451563Z",
     "shell.execute_reply": "2025-01-11T22:05:03.450911Z",
     "shell.execute_reply.started": "2025-01-11T22:05:03.411292Z"
    },
    "id": "NabI3knjECpg",
    "trusted": true
   },
   "outputs": [],
   "source": [
    "# Save the XGBoost models if needed\n",
    "for label, model in xgb_models.items():\n",
    "    model.save_model(f\"xgb_model_{label}.json\")"
   ]
  },
  {
   "cell_type": "code",
   "execution_count": 70,
   "metadata": {
    "colab": {
     "base_uri": "https://localhost:8080/"
    },
    "execution": {
     "iopub.execute_input": "2025-01-11T22:05:09.799842Z",
     "iopub.status.busy": "2025-01-11T22:05:09.799494Z",
     "iopub.status.idle": "2025-01-11T22:09:13.844579Z",
     "shell.execute_reply": "2025-01-11T22:09:13.843379Z",
     "shell.execute_reply.started": "2025-01-11T22:05:09.799799Z"
    },
    "id": "nNQrEWEJBaeC",
    "outputId": "8700d262-dd15-4930-f2ad-cf1a298c141e",
    "trusted": true
   },
   "outputs": [
    {
     "name": "stderr",
     "output_type": "stream",
     "text": [
      "Extracting embeddings:   0%|          | 0/17 [00:00<?, ?it/s]"
     ]
    },
    {
     "data": {
      "application/vnd.jupyter.widget-view+json": {
       "model_id": "c9264de22f134efaa226386abba767ea",
       "version_major": 2,
       "version_minor": 0
      },
      "text/plain": [
       "Batches:   0%|          | 0/1 [00:00<?, ?it/s]"
      ]
     },
     "metadata": {},
     "output_type": "display_data"
    },
    {
     "name": "stderr",
     "output_type": "stream",
     "text": [
      "Extracting embeddings:   6%|▌         | 1/17 [00:14<03:59, 14.99s/it]"
     ]
    },
    {
     "data": {
      "application/vnd.jupyter.widget-view+json": {
       "model_id": "b85dea89999d45f1a11e996dbe5b1ed1",
       "version_major": 2,
       "version_minor": 0
      },
      "text/plain": [
       "Batches:   0%|          | 0/1 [00:00<?, ?it/s]"
      ]
     },
     "metadata": {},
     "output_type": "display_data"
    },
    {
     "name": "stderr",
     "output_type": "stream",
     "text": [
      "Extracting embeddings:  12%|█▏        | 2/17 [00:29<03:42, 14.84s/it]"
     ]
    },
    {
     "data": {
      "application/vnd.jupyter.widget-view+json": {
       "model_id": "fd8a888b6da7402588a9f6456f0b2902",
       "version_major": 2,
       "version_minor": 0
      },
      "text/plain": [
       "Batches:   0%|          | 0/1 [00:00<?, ?it/s]"
      ]
     },
     "metadata": {},
     "output_type": "display_data"
    },
    {
     "name": "stderr",
     "output_type": "stream",
     "text": [
      "Extracting embeddings:  18%|█▊        | 3/17 [00:45<03:32, 15.15s/it]"
     ]
    },
    {
     "data": {
      "application/vnd.jupyter.widget-view+json": {
       "model_id": "e50fcfb1993748ffa9e27053c4805f3b",
       "version_major": 2,
       "version_minor": 0
      },
      "text/plain": [
       "Batches:   0%|          | 0/1 [00:00<?, ?it/s]"
      ]
     },
     "metadata": {},
     "output_type": "display_data"
    },
    {
     "name": "stderr",
     "output_type": "stream",
     "text": [
      "Extracting embeddings:  24%|██▎       | 4/17 [00:59<03:12, 14.81s/it]"
     ]
    },
    {
     "data": {
      "application/vnd.jupyter.widget-view+json": {
       "model_id": "0f9f2605b66a45f992d47c6fe31554ce",
       "version_major": 2,
       "version_minor": 0
      },
      "text/plain": [
       "Batches:   0%|          | 0/1 [00:00<?, ?it/s]"
      ]
     },
     "metadata": {},
     "output_type": "display_data"
    },
    {
     "name": "stderr",
     "output_type": "stream",
     "text": [
      "Extracting embeddings:  29%|██▉       | 5/17 [01:11<02:45, 13.79s/it]"
     ]
    },
    {
     "data": {
      "application/vnd.jupyter.widget-view+json": {
       "model_id": "3f9e251bf1fb41c5af410dae26ff9fb0",
       "version_major": 2,
       "version_minor": 0
      },
      "text/plain": [
       "Batches:   0%|          | 0/1 [00:00<?, ?it/s]"
      ]
     },
     "metadata": {},
     "output_type": "display_data"
    },
    {
     "name": "stderr",
     "output_type": "stream",
     "text": [
      "Extracting embeddings:  35%|███▌      | 6/17 [01:28<02:42, 14.77s/it]"
     ]
    },
    {
     "data": {
      "application/vnd.jupyter.widget-view+json": {
       "model_id": "e50864a59bbb401aaee86ded954e2535",
       "version_major": 2,
       "version_minor": 0
      },
      "text/plain": [
       "Batches:   0%|          | 0/1 [00:00<?, ?it/s]"
      ]
     },
     "metadata": {},
     "output_type": "display_data"
    },
    {
     "name": "stderr",
     "output_type": "stream",
     "text": [
      "Extracting embeddings:  41%|████      | 7/17 [01:44<02:33, 15.35s/it]"
     ]
    },
    {
     "data": {
      "application/vnd.jupyter.widget-view+json": {
       "model_id": "ec005698bc04458e9a5d59cf2b12bbaa",
       "version_major": 2,
       "version_minor": 0
      },
      "text/plain": [
       "Batches:   0%|          | 0/1 [00:00<?, ?it/s]"
      ]
     },
     "metadata": {},
     "output_type": "display_data"
    },
    {
     "name": "stderr",
     "output_type": "stream",
     "text": [
      "Extracting embeddings:  47%|████▋     | 8/17 [01:59<02:17, 15.26s/it]"
     ]
    },
    {
     "data": {
      "application/vnd.jupyter.widget-view+json": {
       "model_id": "9df63732860d470cb25ae6055824de42",
       "version_major": 2,
       "version_minor": 0
      },
      "text/plain": [
       "Batches:   0%|          | 0/1 [00:00<?, ?it/s]"
      ]
     },
     "metadata": {},
     "output_type": "display_data"
    },
    {
     "name": "stderr",
     "output_type": "stream",
     "text": [
      "Extracting embeddings:  53%|█████▎    | 9/17 [02:18<02:11, 16.41s/it]"
     ]
    },
    {
     "data": {
      "application/vnd.jupyter.widget-view+json": {
       "model_id": "14527e2f4e084676b1176c22fda8af36",
       "version_major": 2,
       "version_minor": 0
      },
      "text/plain": [
       "Batches:   0%|          | 0/1 [00:00<?, ?it/s]"
      ]
     },
     "metadata": {},
     "output_type": "display_data"
    },
    {
     "name": "stderr",
     "output_type": "stream",
     "text": [
      "Extracting embeddings:  59%|█████▉    | 10/17 [02:30<01:43, 14.83s/it]"
     ]
    },
    {
     "data": {
      "application/vnd.jupyter.widget-view+json": {
       "model_id": "5feab862c5b54b07977c70eb06b61d2d",
       "version_major": 2,
       "version_minor": 0
      },
      "text/plain": [
       "Batches:   0%|          | 0/1 [00:00<?, ?it/s]"
      ]
     },
     "metadata": {},
     "output_type": "display_data"
    },
    {
     "name": "stderr",
     "output_type": "stream",
     "text": [
      "Extracting embeddings:  65%|██████▍   | 11/17 [02:44<01:28, 14.80s/it]"
     ]
    },
    {
     "data": {
      "application/vnd.jupyter.widget-view+json": {
       "model_id": "dd26f4926c224ef28447dc6bac04e8ea",
       "version_major": 2,
       "version_minor": 0
      },
      "text/plain": [
       "Batches:   0%|          | 0/1 [00:00<?, ?it/s]"
      ]
     },
     "metadata": {},
     "output_type": "display_data"
    },
    {
     "name": "stderr",
     "output_type": "stream",
     "text": [
      "Extracting embeddings:  71%|███████   | 12/17 [03:00<01:15, 15.02s/it]"
     ]
    },
    {
     "data": {
      "application/vnd.jupyter.widget-view+json": {
       "model_id": "446f9dc80d024732ad81788d6d88988c",
       "version_major": 2,
       "version_minor": 0
      },
      "text/plain": [
       "Batches:   0%|          | 0/1 [00:00<?, ?it/s]"
      ]
     },
     "metadata": {},
     "output_type": "display_data"
    },
    {
     "name": "stderr",
     "output_type": "stream",
     "text": [
      "Extracting embeddings:  76%|███████▋  | 13/17 [03:16<01:01, 15.35s/it]"
     ]
    },
    {
     "data": {
      "application/vnd.jupyter.widget-view+json": {
       "model_id": "b553c887221d444f8bdc68965a5dc82e",
       "version_major": 2,
       "version_minor": 0
      },
      "text/plain": [
       "Batches:   0%|          | 0/1 [00:00<?, ?it/s]"
      ]
     },
     "metadata": {},
     "output_type": "display_data"
    },
    {
     "name": "stderr",
     "output_type": "stream",
     "text": [
      "Extracting embeddings:  82%|████████▏ | 14/17 [03:33<00:48, 16.01s/it]"
     ]
    },
    {
     "data": {
      "application/vnd.jupyter.widget-view+json": {
       "model_id": "8f7709fb448545e9b6e105c256ed798b",
       "version_major": 2,
       "version_minor": 0
      },
      "text/plain": [
       "Batches:   0%|          | 0/1 [00:00<?, ?it/s]"
      ]
     },
     "metadata": {},
     "output_type": "display_data"
    },
    {
     "name": "stderr",
     "output_type": "stream",
     "text": [
      "Extracting embeddings:  88%|████████▊ | 15/17 [03:47<00:30, 15.22s/it]"
     ]
    },
    {
     "data": {
      "application/vnd.jupyter.widget-view+json": {
       "model_id": "43929a62ef234841ab33caa16272c009",
       "version_major": 2,
       "version_minor": 0
      },
      "text/plain": [
       "Batches:   0%|          | 0/1 [00:00<?, ?it/s]"
      ]
     },
     "metadata": {},
     "output_type": "display_data"
    },
    {
     "name": "stderr",
     "output_type": "stream",
     "text": [
      "Extracting embeddings:  94%|█████████▍| 16/17 [04:01<00:14, 14.87s/it]"
     ]
    },
    {
     "data": {
      "application/vnd.jupyter.widget-view+json": {
       "model_id": "6a29e2c9c3494e8e9b08ba430c220a61",
       "version_major": 2,
       "version_minor": 0
      },
      "text/plain": [
       "Batches:   0%|          | 0/1 [00:00<?, ?it/s]"
      ]
     },
     "metadata": {},
     "output_type": "display_data"
    },
    {
     "name": "stderr",
     "output_type": "stream",
     "text": [
      "Extracting embeddings: 100%|██████████| 17/17 [04:03<00:00, 14.35s/it]"
     ]
    },
    {
     "name": "stdout",
     "output_type": "stream",
     "text": [
      "\n",
      "  Language  Precision    Recall  F1_score  Accuracy\n",
      "0      deu   0.730953  0.385785  0.461805   0.87396\n"
     ]
    },
    {
     "name": "stderr",
     "output_type": "stream",
     "text": [
      "\n",
      "<ipython-input-70-a88114e91a2a>:49: FutureWarning: The behavior of DataFrame concatenation with empty or all-NA entries is deprecated. In a future version, this will no longer exclude empty or all-NA columns when determining the result dtypes. To retain the old behavior, exclude the relevant entries before the concat operation.\n",
      "  lang_metrics_df = pd.concat([lang_metrics_df, new_data], ignore_index=True)\n"
     ]
    }
   ],
   "source": [
    "# Initialize a DataFrame to store the evaluation results for each language\n",
    "lang_metrics_df = pd.DataFrame(columns=[\"Language\", \"Precision\", \"Recall\", \"F1_score\", \"Accuracy\"])\n",
    "\n",
    "# Iterate over each language\n",
    "for lang in langs:\n",
    "    # Filter the validation data for the current language\n",
    "    lang_valid_data = valid[valid['lang'] == lang]\n",
    "    lang_x_valid = lang_valid_data['clean_message'].values.tolist()\n",
    "    lang_y_valid = lang_valid_data[label_columns].values.tolist()\n",
    "\n",
    "    if len(lang_valid_data) == 0:\n",
    "        continue\n",
    "\n",
    "    # Extract embeddings for the current language's validation data\n",
    "    lang_x_valid_embeddings = extract_embeddings(lang_x_valid, embedding_model)\n",
    "    print()\n",
    "    # Initialize metrics storage\n",
    "    all_precisions, all_recalls, all_f1_scores, all_accuracies = [], [], [], []\n",
    "\n",
    "    # Evaluate each label separately\n",
    "    for i, label in enumerate(label_columns):\n",
    "        # Predict using the corresponding XGBoost model\n",
    "        lang_predictions = xgb_models[label].predict(lang_x_valid_embeddings)\n",
    "\n",
    "        # Compute metrics\n",
    "        precision, recall, f1, _ = precision_recall_fscore_support(\n",
    "            np.array(lang_y_valid)[:, i],  # True labels for this label\n",
    "            lang_predictions,\n",
    "            average=\"binary\",\n",
    "            zero_division=0\n",
    "        )\n",
    "        accuracy = accuracy_score(np.array(lang_y_valid)[:, i], lang_predictions)\n",
    "\n",
    "        # Store metrics\n",
    "        all_precisions.append(precision)\n",
    "        all_recalls.append(recall)\n",
    "        all_f1_scores.append(f1)\n",
    "        all_accuracies.append(accuracy)\n",
    "\n",
    "    # Aggregate metrics (average across all labels for the language)\n",
    "    new_data = pd.DataFrame({\n",
    "        \"Language\": [lang],\n",
    "        \"Precision\": [np.mean(all_precisions)],\n",
    "        \"Recall\": [np.mean(all_recalls)],\n",
    "        \"F1_score\": [np.mean(all_f1_scores)],\n",
    "        \"Accuracy\": [np.mean(all_accuracies)]\n",
    "    })\n",
    "\n",
    "    lang_metrics_df = pd.concat([lang_metrics_df, new_data], ignore_index=True)\n",
    "\n",
    "# Display the evaluation results for each language\n",
    "print(lang_metrics_df)\n"
   ]
  },
  {
   "cell_type": "code",
   "execution_count": 71,
   "metadata": {
    "execution": {
     "iopub.execute_input": "2025-01-11T22:09:13.846425Z",
     "iopub.status.busy": "2025-01-11T22:09:13.846051Z",
     "iopub.status.idle": "2025-01-11T22:09:17.205311Z",
     "shell.execute_reply": "2025-01-11T22:09:17.204239Z",
     "shell.execute_reply.started": "2025-01-11T22:09:13.846379Z"
    },
    "trusted": true
   },
   "outputs": [
    {
     "name": "stderr",
     "output_type": "stream",
     "text": [
      "/usr/lib/python3.10/pty.py:89: RuntimeWarning: os.fork() was called. os.fork() is incompatible with multithreaded code, and JAX is multithreaded, so this will likely lead to a deadlock.\n",
      "  pid, fd = os.forkpty()\n"
     ]
    },
    {
     "name": "stdout",
     "output_type": "stream",
     "text": [
      "Requirement already satisfied: transformers in /usr/local/lib/python3.10/dist-packages (4.48.0)\n",
      "Requirement already satisfied: huggingface_hub in /usr/local/lib/python3.10/dist-packages (0.27.1)\n",
      "Requirement already satisfied: filelock in /usr/local/lib/python3.10/dist-packages (from transformers) (3.16.1)\n",
      "Requirement already satisfied: numpy>=1.17 in /usr/local/lib/python3.10/dist-packages (from transformers) (1.26.4)\n",
      "Requirement already satisfied: packaging>=20.0 in /usr/local/lib/python3.10/dist-packages (from transformers) (24.1)\n",
      "Requirement already satisfied: pyyaml>=5.1 in /usr/local/lib/python3.10/dist-packages (from transformers) (6.0.2)\n",
      "Requirement already satisfied: regex!=2019.12.17 in /usr/local/lib/python3.10/dist-packages (from transformers) (2024.9.11)\n",
      "Requirement already satisfied: requests in /usr/local/lib/python3.10/dist-packages (from transformers) (2.32.3)\n",
      "Requirement already satisfied: tokenizers<0.22,>=0.21 in /usr/local/lib/python3.10/dist-packages (from transformers) (0.21.0)\n",
      "Requirement already satisfied: safetensors>=0.4.1 in /usr/local/lib/python3.10/dist-packages (from transformers) (0.4.5)\n",
      "Requirement already satisfied: tqdm>=4.27 in /usr/local/lib/python3.10/dist-packages (from transformers) (4.66.5)\n",
      "Requirement already satisfied: fsspec>=2023.5.0 in /usr/local/lib/python3.10/dist-packages (from huggingface_hub) (2024.6.1)\n",
      "Requirement already satisfied: typing-extensions>=3.7.4.3 in /usr/local/lib/python3.10/dist-packages (from huggingface_hub) (4.12.2)\n",
      "Requirement already satisfied: charset-normalizer<4,>=2 in /usr/local/lib/python3.10/dist-packages (from requests->transformers) (3.3.2)\n",
      "Requirement already satisfied: idna<4,>=2.5 in /usr/local/lib/python3.10/dist-packages (from requests->transformers) (3.10)\n",
      "Requirement already satisfied: urllib3<3,>=1.21.1 in /usr/local/lib/python3.10/dist-packages (from requests->transformers) (2.2.3)\n",
      "Requirement already satisfied: certifi>=2017.4.17 in /usr/local/lib/python3.10/dist-packages (from requests->transformers) (2024.8.30)\n"
     ]
    }
   ],
   "source": [
    "!pip install transformers huggingface_hub"
   ]
  },
  {
   "cell_type": "code",
   "execution_count": 72,
   "metadata": {
    "execution": {
     "iopub.execute_input": "2025-01-11T22:09:17.207348Z",
     "iopub.status.busy": "2025-01-11T22:09:17.207016Z",
     "iopub.status.idle": "2025-01-11T22:09:17.340974Z",
     "shell.execute_reply": "2025-01-11T22:09:17.340309Z",
     "shell.execute_reply.started": "2025-01-11T22:09:17.207314Z"
    },
    "trusted": true
   },
   "outputs": [],
   "source": [
    "from huggingface_hub import login\n",
    "\n",
    "# Replace 'your_token_here' with your actual Hugging Face token\n",
    "login(\"\")\n"
   ]
  },
  {
   "cell_type": "code",
   "execution_count": null,
   "metadata": {
    "execution": {
     "iopub.status.busy": "2025-01-11T21:56:34.623425Z",
     "iopub.status.idle": "2025-01-11T21:56:34.623668Z",
     "shell.execute_reply": "2025-01-11T21:56:34.623572Z"
    },
    "trusted": true
   },
   "outputs": [],
   "source": [
    "from huggingface_hub import HfApi, HfFolder, create_repo, upload_file,login,Repository\n",
    "import os\n",
    "\n",
    "repo_id = \"ErfanSadegh/XGBOOST_DEU1\" \n",
    "api = HfApi()\n",
    "\n",
    "files_to_upload = [\"/kaggle/working/xgb_model_anger.json\",\"/kaggle/working/xgb_model_disgust.json\",\"/kaggle/working/xgb_model_fear.json\",\n",
    "                   \"/kaggle/working/xgb_model_joy.json\",\"/kaggle/working/xgb_model_sadness.json\",\"/kaggle/working/xgb_model_surprise.json\"]\n",
    "\n",
    "for file_path in files_to_upload:\n",
    "    api.upload_file(\n",
    "        path_or_fileobj=file_path,\n",
    "        path_in_repo=file_path.split(\"/\")[-1],\n",
    "        repo_id=repo_id,\n",
    "        # repo_type=\"model\" \n",
    "    )\n",
    "\n",
    "print(\"Model uploaded successfully!\")\n"
   ]
  }
 ],
 "metadata": {
  "accelerator": "GPU",
  "colab": {
   "gpuType": "T4",
   "provenance": []
  },
  "kaggle": {
   "accelerator": "gpu",
   "dataSources": [],
   "dockerImageVersionId": 30823,
   "isGpuEnabled": true,
   "isInternetEnabled": true,
   "language": "python",
   "sourceType": "notebook"
  },
  "kernelspec": {
   "display_name": "Python 3",
   "language": "python",
   "name": "python3"
  },
  "language_info": {
   "codemirror_mode": {
    "name": "ipython",
    "version": 3
   },
   "file_extension": ".py",
   "mimetype": "text/x-python",
   "name": "python",
   "nbconvert_exporter": "python",
   "pygments_lexer": "ipython3",
   "version": "3.10.12"
  },
  "widgets": {
   "application/vnd.jupyter.widget-state+json": {
    "0077f51e976443a5ae084752adc0c069": {
     "model_module": "@jupyter-widgets/controls",
     "model_module_version": "1.5.0",
     "model_name": "HBoxModel",
     "state": {
      "_dom_classes": [],
      "_model_module": "@jupyter-widgets/controls",
      "_model_module_version": "1.5.0",
      "_model_name": "HBoxModel",
      "_view_count": null,
      "_view_module": "@jupyter-widgets/controls",
      "_view_module_version": "1.5.0",
      "_view_name": "HBoxView",
      "box_style": "",
      "children": [
       "IPY_MODEL_d5ce1bedbb0b41f1b1c1b07d40776e9c",
       "IPY_MODEL_ffbcb2799bef475592457e0ce78963c8",
       "IPY_MODEL_6502860a9c73480fb59ddd59bbd58a2f"
      ],
      "layout": "IPY_MODEL_b7b006a3f14a44afb23b0331d3a80f6f"
     }
    },
    "0098e7d832fc41a982db4ef4a8fbc67e": {
     "model_module": "@jupyter-widgets/base",
     "model_module_version": "1.2.0",
     "model_name": "LayoutModel",
     "state": {
      "_model_module": "@jupyter-widgets/base",
      "_model_module_version": "1.2.0",
      "_model_name": "LayoutModel",
      "_view_count": null,
      "_view_module": "@jupyter-widgets/base",
      "_view_module_version": "1.2.0",
      "_view_name": "LayoutView",
      "align_content": null,
      "align_items": null,
      "align_self": null,
      "border": null,
      "bottom": null,
      "display": null,
      "flex": null,
      "flex_flow": null,
      "grid_area": null,
      "grid_auto_columns": null,
      "grid_auto_flow": null,
      "grid_auto_rows": null,
      "grid_column": null,
      "grid_gap": null,
      "grid_row": null,
      "grid_template_areas": null,
      "grid_template_columns": null,
      "grid_template_rows": null,
      "height": null,
      "justify_content": null,
      "justify_items": null,
      "left": null,
      "margin": null,
      "max_height": null,
      "max_width": null,
      "min_height": null,
      "min_width": null,
      "object_fit": null,
      "object_position": null,
      "order": null,
      "overflow": null,
      "overflow_x": null,
      "overflow_y": null,
      "padding": null,
      "right": null,
      "top": null,
      "visibility": null,
      "width": null
     }
    },
    "0358df8889ce433a997807e512707407": {
     "model_module": "@jupyter-widgets/base",
     "model_module_version": "1.2.0",
     "model_name": "LayoutModel",
     "state": {
      "_model_module": "@jupyter-widgets/base",
      "_model_module_version": "1.2.0",
      "_model_name": "LayoutModel",
      "_view_count": null,
      "_view_module": "@jupyter-widgets/base",
      "_view_module_version": "1.2.0",
      "_view_name": "LayoutView",
      "align_content": null,
      "align_items": null,
      "align_self": null,
      "border": null,
      "bottom": null,
      "display": null,
      "flex": null,
      "flex_flow": null,
      "grid_area": null,
      "grid_auto_columns": null,
      "grid_auto_flow": null,
      "grid_auto_rows": null,
      "grid_column": null,
      "grid_gap": null,
      "grid_row": null,
      "grid_template_areas": null,
      "grid_template_columns": null,
      "grid_template_rows": null,
      "height": null,
      "justify_content": null,
      "justify_items": null,
      "left": null,
      "margin": null,
      "max_height": null,
      "max_width": null,
      "min_height": null,
      "min_width": null,
      "object_fit": null,
      "object_position": null,
      "order": null,
      "overflow": null,
      "overflow_x": null,
      "overflow_y": null,
      "padding": null,
      "right": null,
      "top": null,
      "visibility": null,
      "width": null
     }
    },
    "068bfbe2f774425ca8f8dc2d43507584": {
     "model_module": "@jupyter-widgets/controls",
     "model_module_version": "1.5.0",
     "model_name": "DescriptionStyleModel",
     "state": {
      "_model_module": "@jupyter-widgets/controls",
      "_model_module_version": "1.5.0",
      "_model_name": "DescriptionStyleModel",
      "_view_count": null,
      "_view_module": "@jupyter-widgets/base",
      "_view_module_version": "1.2.0",
      "_view_name": "StyleView",
      "description_width": ""
     }
    },
    "06eb44bb5a8440d19225dc751b022e8c": {
     "model_module": "@jupyter-widgets/controls",
     "model_module_version": "1.5.0",
     "model_name": "FloatProgressModel",
     "state": {
      "_dom_classes": [],
      "_model_module": "@jupyter-widgets/controls",
      "_model_module_version": "1.5.0",
      "_model_name": "FloatProgressModel",
      "_view_count": null,
      "_view_module": "@jupyter-widgets/controls",
      "_view_module_version": "1.5.0",
      "_view_name": "ProgressView",
      "bar_style": "success",
      "description": "",
      "description_tooltip": null,
      "layout": "IPY_MODEL_67ad1f33db634eb69eb52539b04c899b",
      "max": 7028814,
      "min": 0,
      "orientation": "horizontal",
      "style": "IPY_MODEL_1afdb9a0ca754ff99094a7410a43ca62",
      "value": 7028814
     }
    },
    "0739338398bc4123b98262dc02a41d80": {
     "model_module": "@jupyter-widgets/base",
     "model_module_version": "1.2.0",
     "model_name": "LayoutModel",
     "state": {
      "_model_module": "@jupyter-widgets/base",
      "_model_module_version": "1.2.0",
      "_model_name": "LayoutModel",
      "_view_count": null,
      "_view_module": "@jupyter-widgets/base",
      "_view_module_version": "1.2.0",
      "_view_name": "LayoutView",
      "align_content": null,
      "align_items": null,
      "align_self": null,
      "border": null,
      "bottom": null,
      "display": null,
      "flex": null,
      "flex_flow": null,
      "grid_area": null,
      "grid_auto_columns": null,
      "grid_auto_flow": null,
      "grid_auto_rows": null,
      "grid_column": null,
      "grid_gap": null,
      "grid_row": null,
      "grid_template_areas": null,
      "grid_template_columns": null,
      "grid_template_rows": null,
      "height": null,
      "justify_content": null,
      "justify_items": null,
      "left": null,
      "margin": null,
      "max_height": null,
      "max_width": null,
      "min_height": null,
      "min_width": null,
      "object_fit": null,
      "object_position": null,
      "order": null,
      "overflow": null,
      "overflow_x": null,
      "overflow_y": null,
      "padding": null,
      "right": null,
      "top": null,
      "visibility": null,
      "width": null
     }
    },
    "09466dbdf7fe43a0ba22d9556586d24e": {
     "model_module": "@jupyter-widgets/base",
     "model_module_version": "1.2.0",
     "model_name": "LayoutModel",
     "state": {
      "_model_module": "@jupyter-widgets/base",
      "_model_module_version": "1.2.0",
      "_model_name": "LayoutModel",
      "_view_count": null,
      "_view_module": "@jupyter-widgets/base",
      "_view_module_version": "1.2.0",
      "_view_name": "LayoutView",
      "align_content": null,
      "align_items": null,
      "align_self": null,
      "border": null,
      "bottom": null,
      "display": null,
      "flex": null,
      "flex_flow": null,
      "grid_area": null,
      "grid_auto_columns": null,
      "grid_auto_flow": null,
      "grid_auto_rows": null,
      "grid_column": null,
      "grid_gap": null,
      "grid_row": null,
      "grid_template_areas": null,
      "grid_template_columns": null,
      "grid_template_rows": null,
      "height": null,
      "justify_content": null,
      "justify_items": null,
      "left": null,
      "margin": null,
      "max_height": null,
      "max_width": null,
      "min_height": null,
      "min_width": null,
      "object_fit": null,
      "object_position": null,
      "order": null,
      "overflow": null,
      "overflow_x": null,
      "overflow_y": null,
      "padding": null,
      "right": null,
      "top": null,
      "visibility": null,
      "width": null
     }
    },
    "09c928c1123e425c96b90ba90ada0039": {
     "model_module": "@jupyter-widgets/base",
     "model_module_version": "1.2.0",
     "model_name": "LayoutModel",
     "state": {
      "_model_module": "@jupyter-widgets/base",
      "_model_module_version": "1.2.0",
      "_model_name": "LayoutModel",
      "_view_count": null,
      "_view_module": "@jupyter-widgets/base",
      "_view_module_version": "1.2.0",
      "_view_name": "LayoutView",
      "align_content": null,
      "align_items": null,
      "align_self": null,
      "border": null,
      "bottom": null,
      "display": null,
      "flex": null,
      "flex_flow": null,
      "grid_area": null,
      "grid_auto_columns": null,
      "grid_auto_flow": null,
      "grid_auto_rows": null,
      "grid_column": null,
      "grid_gap": null,
      "grid_row": null,
      "grid_template_areas": null,
      "grid_template_columns": null,
      "grid_template_rows": null,
      "height": null,
      "justify_content": null,
      "justify_items": null,
      "left": null,
      "margin": null,
      "max_height": null,
      "max_width": null,
      "min_height": null,
      "min_width": null,
      "object_fit": null,
      "object_position": null,
      "order": null,
      "overflow": null,
      "overflow_x": null,
      "overflow_y": null,
      "padding": null,
      "right": null,
      "top": null,
      "visibility": null,
      "width": null
     }
    },
    "0a85ad2e4ad84a79961c4110c799ab9e": {
     "model_module": "@jupyter-widgets/controls",
     "model_module_version": "1.5.0",
     "model_name": "DescriptionStyleModel",
     "state": {
      "_model_module": "@jupyter-widgets/controls",
      "_model_module_version": "1.5.0",
      "_model_name": "DescriptionStyleModel",
      "_view_count": null,
      "_view_module": "@jupyter-widgets/base",
      "_view_module_version": "1.2.0",
      "_view_name": "StyleView",
      "description_width": ""
     }
    },
    "0aa298220b894b70ab30f60b6e8796bb": {
     "model_module": "@jupyter-widgets/controls",
     "model_module_version": "1.5.0",
     "model_name": "DescriptionStyleModel",
     "state": {
      "_model_module": "@jupyter-widgets/controls",
      "_model_module_version": "1.5.0",
      "_model_name": "DescriptionStyleModel",
      "_view_count": null,
      "_view_module": "@jupyter-widgets/base",
      "_view_module_version": "1.2.0",
      "_view_name": "StyleView",
      "description_width": ""
     }
    },
    "0ada76009163415ba7b27fcfb1810da0": {
     "model_module": "@jupyter-widgets/base",
     "model_module_version": "1.2.0",
     "model_name": "LayoutModel",
     "state": {
      "_model_module": "@jupyter-widgets/base",
      "_model_module_version": "1.2.0",
      "_model_name": "LayoutModel",
      "_view_count": null,
      "_view_module": "@jupyter-widgets/base",
      "_view_module_version": "1.2.0",
      "_view_name": "LayoutView",
      "align_content": null,
      "align_items": null,
      "align_self": null,
      "border": null,
      "bottom": null,
      "display": null,
      "flex": null,
      "flex_flow": null,
      "grid_area": null,
      "grid_auto_columns": null,
      "grid_auto_flow": null,
      "grid_auto_rows": null,
      "grid_column": null,
      "grid_gap": null,
      "grid_row": null,
      "grid_template_areas": null,
      "grid_template_columns": null,
      "grid_template_rows": null,
      "height": null,
      "justify_content": null,
      "justify_items": null,
      "left": null,
      "margin": null,
      "max_height": null,
      "max_width": null,
      "min_height": null,
      "min_width": null,
      "object_fit": null,
      "object_position": null,
      "order": null,
      "overflow": null,
      "overflow_x": null,
      "overflow_y": null,
      "padding": null,
      "right": null,
      "top": null,
      "visibility": null,
      "width": null
     }
    },
    "0d3ea15b5a164c3b8752f90fb7f1dd06": {
     "model_module": "@jupyter-widgets/controls",
     "model_module_version": "1.5.0",
     "model_name": "ProgressStyleModel",
     "state": {
      "_model_module": "@jupyter-widgets/controls",
      "_model_module_version": "1.5.0",
      "_model_name": "ProgressStyleModel",
      "_view_count": null,
      "_view_module": "@jupyter-widgets/base",
      "_view_module_version": "1.2.0",
      "_view_name": "StyleView",
      "bar_color": null,
      "description_width": ""
     }
    },
    "0dfb8473370b4ecea7a47348962874df": {
     "model_module": "@jupyter-widgets/base",
     "model_module_version": "1.2.0",
     "model_name": "LayoutModel",
     "state": {
      "_model_module": "@jupyter-widgets/base",
      "_model_module_version": "1.2.0",
      "_model_name": "LayoutModel",
      "_view_count": null,
      "_view_module": "@jupyter-widgets/base",
      "_view_module_version": "1.2.0",
      "_view_name": "LayoutView",
      "align_content": null,
      "align_items": null,
      "align_self": null,
      "border": null,
      "bottom": null,
      "display": null,
      "flex": null,
      "flex_flow": null,
      "grid_area": null,
      "grid_auto_columns": null,
      "grid_auto_flow": null,
      "grid_auto_rows": null,
      "grid_column": null,
      "grid_gap": null,
      "grid_row": null,
      "grid_template_areas": null,
      "grid_template_columns": null,
      "grid_template_rows": null,
      "height": null,
      "justify_content": null,
      "justify_items": null,
      "left": null,
      "margin": null,
      "max_height": null,
      "max_width": null,
      "min_height": null,
      "min_width": null,
      "object_fit": null,
      "object_position": null,
      "order": null,
      "overflow": null,
      "overflow_x": null,
      "overflow_y": null,
      "padding": null,
      "right": null,
      "top": null,
      "visibility": null,
      "width": null
     }
    },
    "1160dde5b89848e4b50190003b619bf8": {
     "model_module": "@jupyter-widgets/controls",
     "model_module_version": "1.5.0",
     "model_name": "HTMLModel",
     "state": {
      "_dom_classes": [],
      "_model_module": "@jupyter-widgets/controls",
      "_model_module_version": "1.5.0",
      "_model_name": "HTMLModel",
      "_view_count": null,
      "_view_module": "@jupyter-widgets/controls",
      "_view_module_version": "1.5.0",
      "_view_name": "HTMLView",
      "description": "",
      "description_tooltip": null,
      "layout": "IPY_MODEL_e2402c5f19ab43eab0acddfc00a31315",
      "placeholder": "​",
      "style": "IPY_MODEL_678d7dba90dc4daaa60fcb5dfc64f7b1",
      "value": "README.md: 100%"
     }
    },
    "155d4a49db99433b9b296c6b8ecbf8e1": {
     "model_module": "@jupyter-widgets/controls",
     "model_module_version": "1.5.0",
     "model_name": "FloatProgressModel",
     "state": {
      "_dom_classes": [],
      "_model_module": "@jupyter-widgets/controls",
      "_model_module_version": "1.5.0",
      "_model_name": "FloatProgressModel",
      "_view_count": null,
      "_view_module": "@jupyter-widgets/controls",
      "_view_module_version": "1.5.0",
      "_view_name": "ProgressView",
      "bar_style": "success",
      "description": "",
      "description_tooltip": null,
      "layout": "IPY_MODEL_6d7bcb5f9f2e488f9ea1e36389faea7d",
      "max": 169190,
      "min": 0,
      "orientation": "horizontal",
      "style": "IPY_MODEL_304fd40ad8ea49deb388d69cae44f077",
      "value": 169190
     }
    },
    "16139a1858dc4ec5b159864dafdcd69d": {
     "model_module": "@jupyter-widgets/base",
     "model_module_version": "1.2.0",
     "model_name": "LayoutModel",
     "state": {
      "_model_module": "@jupyter-widgets/base",
      "_model_module_version": "1.2.0",
      "_model_name": "LayoutModel",
      "_view_count": null,
      "_view_module": "@jupyter-widgets/base",
      "_view_module_version": "1.2.0",
      "_view_name": "LayoutView",
      "align_content": null,
      "align_items": null,
      "align_self": null,
      "border": null,
      "bottom": null,
      "display": null,
      "flex": null,
      "flex_flow": null,
      "grid_area": null,
      "grid_auto_columns": null,
      "grid_auto_flow": null,
      "grid_auto_rows": null,
      "grid_column": null,
      "grid_gap": null,
      "grid_row": null,
      "grid_template_areas": null,
      "grid_template_columns": null,
      "grid_template_rows": null,
      "height": null,
      "justify_content": null,
      "justify_items": null,
      "left": null,
      "margin": null,
      "max_height": null,
      "max_width": null,
      "min_height": null,
      "min_width": null,
      "object_fit": null,
      "object_position": null,
      "order": null,
      "overflow": null,
      "overflow_x": null,
      "overflow_y": null,
      "padding": null,
      "right": null,
      "top": null,
      "visibility": null,
      "width": null
     }
    },
    "18af2d8c4b0e4298a5673dbe67a59a0c": {
     "model_module": "@jupyter-widgets/base",
     "model_module_version": "1.2.0",
     "model_name": "LayoutModel",
     "state": {
      "_model_module": "@jupyter-widgets/base",
      "_model_module_version": "1.2.0",
      "_model_name": "LayoutModel",
      "_view_count": null,
      "_view_module": "@jupyter-widgets/base",
      "_view_module_version": "1.2.0",
      "_view_name": "LayoutView",
      "align_content": null,
      "align_items": null,
      "align_self": null,
      "border": null,
      "bottom": null,
      "display": null,
      "flex": null,
      "flex_flow": null,
      "grid_area": null,
      "grid_auto_columns": null,
      "grid_auto_flow": null,
      "grid_auto_rows": null,
      "grid_column": null,
      "grid_gap": null,
      "grid_row": null,
      "grid_template_areas": null,
      "grid_template_columns": null,
      "grid_template_rows": null,
      "height": null,
      "justify_content": null,
      "justify_items": null,
      "left": null,
      "margin": null,
      "max_height": null,
      "max_width": null,
      "min_height": null,
      "min_width": null,
      "object_fit": null,
      "object_position": null,
      "order": null,
      "overflow": null,
      "overflow_x": null,
      "overflow_y": null,
      "padding": null,
      "right": null,
      "top": null,
      "visibility": null,
      "width": null
     }
    },
    "1afdb9a0ca754ff99094a7410a43ca62": {
     "model_module": "@jupyter-widgets/controls",
     "model_module_version": "1.5.0",
     "model_name": "ProgressStyleModel",
     "state": {
      "_model_module": "@jupyter-widgets/controls",
      "_model_module_version": "1.5.0",
      "_model_name": "ProgressStyleModel",
      "_view_count": null,
      "_view_module": "@jupyter-widgets/base",
      "_view_module_version": "1.2.0",
      "_view_name": "StyleView",
      "bar_color": null,
      "description_width": ""
     }
    },
    "1b8a4b72c3344c949d1101f4fc28c34e": {
     "model_module": "@jupyter-widgets/controls",
     "model_module_version": "1.5.0",
     "model_name": "DescriptionStyleModel",
     "state": {
      "_model_module": "@jupyter-widgets/controls",
      "_model_module_version": "1.5.0",
      "_model_name": "DescriptionStyleModel",
      "_view_count": null,
      "_view_module": "@jupyter-widgets/base",
      "_view_module_version": "1.2.0",
      "_view_name": "StyleView",
      "description_width": ""
     }
    },
    "2637f18c252f47c78d13d99f5cfaf796": {
     "model_module": "@jupyter-widgets/controls",
     "model_module_version": "1.5.0",
     "model_name": "DescriptionStyleModel",
     "state": {
      "_model_module": "@jupyter-widgets/controls",
      "_model_module_version": "1.5.0",
      "_model_name": "DescriptionStyleModel",
      "_view_count": null,
      "_view_module": "@jupyter-widgets/base",
      "_view_module_version": "1.2.0",
      "_view_name": "StyleView",
      "description_width": ""
     }
    },
    "26c6e6a2ec3b40a28103a2691f1f5ac5": {
     "model_module": "@jupyter-widgets/controls",
     "model_module_version": "1.5.0",
     "model_name": "DescriptionStyleModel",
     "state": {
      "_model_module": "@jupyter-widgets/controls",
      "_model_module_version": "1.5.0",
      "_model_name": "DescriptionStyleModel",
      "_view_count": null,
      "_view_module": "@jupyter-widgets/base",
      "_view_module_version": "1.2.0",
      "_view_name": "StyleView",
      "description_width": ""
     }
    },
    "26e21f3ffc294f5aaa6027843259a801": {
     "model_module": "@jupyter-widgets/controls",
     "model_module_version": "1.5.0",
     "model_name": "HBoxModel",
     "state": {
      "_dom_classes": [],
      "_model_module": "@jupyter-widgets/controls",
      "_model_module_version": "1.5.0",
      "_model_name": "HBoxModel",
      "_view_count": null,
      "_view_module": "@jupyter-widgets/controls",
      "_view_module_version": "1.5.0",
      "_view_name": "HBoxView",
      "box_style": "",
      "children": [
       "IPY_MODEL_4cea9e59e63d44148615b71418e1b7fe",
       "IPY_MODEL_ed9473c2f8304d0fb3f084ea4c924335",
       "IPY_MODEL_7ab4520efb144f14b8b81b02ea7c775e"
      ],
      "layout": "IPY_MODEL_96941f496cf046e1a21e8402ed87f667"
     }
    },
    "2a4c0c1242a8429ebfca3ea2f548966d": {
     "model_module": "@jupyter-widgets/base",
     "model_module_version": "1.2.0",
     "model_name": "LayoutModel",
     "state": {
      "_model_module": "@jupyter-widgets/base",
      "_model_module_version": "1.2.0",
      "_model_name": "LayoutModel",
      "_view_count": null,
      "_view_module": "@jupyter-widgets/base",
      "_view_module_version": "1.2.0",
      "_view_name": "LayoutView",
      "align_content": null,
      "align_items": null,
      "align_self": null,
      "border": null,
      "bottom": null,
      "display": null,
      "flex": null,
      "flex_flow": null,
      "grid_area": null,
      "grid_auto_columns": null,
      "grid_auto_flow": null,
      "grid_auto_rows": null,
      "grid_column": null,
      "grid_gap": null,
      "grid_row": null,
      "grid_template_areas": null,
      "grid_template_columns": null,
      "grid_template_rows": null,
      "height": null,
      "justify_content": null,
      "justify_items": null,
      "left": null,
      "margin": null,
      "max_height": null,
      "max_width": null,
      "min_height": null,
      "min_width": null,
      "object_fit": null,
      "object_position": null,
      "order": null,
      "overflow": null,
      "overflow_x": null,
      "overflow_y": null,
      "padding": null,
      "right": null,
      "top": null,
      "visibility": null,
      "width": null
     }
    },
    "2ba8bc6f3659461f86679b3b218b2f24": {
     "model_module": "@jupyter-widgets/controls",
     "model_module_version": "1.5.0",
     "model_name": "FloatProgressModel",
     "state": {
      "_dom_classes": [],
      "_model_module": "@jupyter-widgets/controls",
      "_model_module_version": "1.5.0",
      "_model_name": "FloatProgressModel",
      "_view_count": null,
      "_view_module": "@jupyter-widgets/controls",
      "_view_module_version": "1.5.0",
      "_view_name": "ProgressView",
      "bar_style": "success",
      "description": "",
      "description_tooltip": null,
      "layout": "IPY_MODEL_5bf164bbecc64ca2a782857472ce0c33",
      "max": 397,
      "min": 0,
      "orientation": "horizontal",
      "style": "IPY_MODEL_9b3ce81629954efcb91225e85bddca03",
      "value": 397
     }
    },
    "2d82f633f0054c5dba772101bb5827d4": {
     "model_module": "@jupyter-widgets/controls",
     "model_module_version": "1.5.0",
     "model_name": "FloatProgressModel",
     "state": {
      "_dom_classes": [],
      "_model_module": "@jupyter-widgets/controls",
      "_model_module_version": "1.5.0",
      "_model_name": "FloatProgressModel",
      "_view_count": null,
      "_view_module": "@jupyter-widgets/controls",
      "_view_module_version": "1.5.0",
      "_view_name": "ProgressView",
      "bar_style": "success",
      "description": "",
      "description_tooltip": null,
      "layout": "IPY_MODEL_6338127e769f48f6bffe0c9c5201984c",
      "max": 1671853,
      "min": 0,
      "orientation": "horizontal",
      "style": "IPY_MODEL_676d326c87634cb7b5fb21b5c1e189f2",
      "value": 1671853
     }
    },
    "301eef7f313448b8bb8af4a61811eb65": {
     "model_module": "@jupyter-widgets/controls",
     "model_module_version": "1.5.0",
     "model_name": "HTMLModel",
     "state": {
      "_dom_classes": [],
      "_model_module": "@jupyter-widgets/controls",
      "_model_module_version": "1.5.0",
      "_model_name": "HTMLModel",
      "_view_count": null,
      "_view_module": "@jupyter-widgets/controls",
      "_view_module_version": "1.5.0",
      "_view_name": "HTMLView",
      "description": "",
      "description_tooltip": null,
      "layout": "IPY_MODEL_9093173f0afa44879916c743fd9833c2",
      "placeholder": "​",
      "style": "IPY_MODEL_4476170cfb4344d29e2acb0ac65be27d",
      "value": " 51.0/51.0 [00:00&lt;00:00, 4.02kB/s]"
     }
    },
    "304fd40ad8ea49deb388d69cae44f077": {
     "model_module": "@jupyter-widgets/controls",
     "model_module_version": "1.5.0",
     "model_name": "ProgressStyleModel",
     "state": {
      "_model_module": "@jupyter-widgets/controls",
      "_model_module_version": "1.5.0",
      "_model_name": "ProgressStyleModel",
      "_view_count": null,
      "_view_module": "@jupyter-widgets/base",
      "_view_module_version": "1.2.0",
      "_view_name": "StyleView",
      "bar_color": null,
      "description_width": ""
     }
    },
    "31bddd53fc28465a8b398fdedecdb98c": {
     "model_module": "@jupyter-widgets/controls",
     "model_module_version": "1.5.0",
     "model_name": "FloatProgressModel",
     "state": {
      "_dom_classes": [],
      "_model_module": "@jupyter-widgets/controls",
      "_model_module_version": "1.5.0",
      "_model_name": "FloatProgressModel",
      "_view_count": null,
      "_view_module": "@jupyter-widgets/controls",
      "_view_module_version": "1.5.0",
      "_view_name": "ProgressView",
      "bar_style": "success",
      "description": "",
      "description_tooltip": null,
      "layout": "IPY_MODEL_ae76ca33a1eb4465bcee096661fe7753",
      "max": 2776833,
      "min": 0,
      "orientation": "horizontal",
      "style": "IPY_MODEL_34e7eea941b5494097e96cbcacb1aea8",
      "value": 2776833
     }
    },
    "3289317d336b467aaa33dfaabfbba202": {
     "model_module": "@jupyter-widgets/base",
     "model_module_version": "1.2.0",
     "model_name": "LayoutModel",
     "state": {
      "_model_module": "@jupyter-widgets/base",
      "_model_module_version": "1.2.0",
      "_model_name": "LayoutModel",
      "_view_count": null,
      "_view_module": "@jupyter-widgets/base",
      "_view_module_version": "1.2.0",
      "_view_name": "LayoutView",
      "align_content": null,
      "align_items": null,
      "align_self": null,
      "border": null,
      "bottom": null,
      "display": null,
      "flex": null,
      "flex_flow": null,
      "grid_area": null,
      "grid_auto_columns": null,
      "grid_auto_flow": null,
      "grid_auto_rows": null,
      "grid_column": null,
      "grid_gap": null,
      "grid_row": null,
      "grid_template_areas": null,
      "grid_template_columns": null,
      "grid_template_rows": null,
      "height": null,
      "justify_content": null,
      "justify_items": null,
      "left": null,
      "margin": null,
      "max_height": null,
      "max_width": null,
      "min_height": null,
      "min_width": null,
      "object_fit": null,
      "object_position": null,
      "order": null,
      "overflow": null,
      "overflow_x": null,
      "overflow_y": null,
      "padding": null,
      "right": null,
      "top": null,
      "visibility": null,
      "width": null
     }
    },
    "34e7eea941b5494097e96cbcacb1aea8": {
     "model_module": "@jupyter-widgets/controls",
     "model_module_version": "1.5.0",
     "model_name": "ProgressStyleModel",
     "state": {
      "_model_module": "@jupyter-widgets/controls",
      "_model_module_version": "1.5.0",
      "_model_name": "ProgressStyleModel",
      "_view_count": null,
      "_view_module": "@jupyter-widgets/base",
      "_view_module_version": "1.2.0",
      "_view_name": "StyleView",
      "bar_color": null,
      "description_width": ""
     }
    },
    "354127f77231450aa925161a073d09ee": {
     "model_module": "@jupyter-widgets/base",
     "model_module_version": "1.2.0",
     "model_name": "LayoutModel",
     "state": {
      "_model_module": "@jupyter-widgets/base",
      "_model_module_version": "1.2.0",
      "_model_name": "LayoutModel",
      "_view_count": null,
      "_view_module": "@jupyter-widgets/base",
      "_view_module_version": "1.2.0",
      "_view_name": "LayoutView",
      "align_content": null,
      "align_items": null,
      "align_self": null,
      "border": null,
      "bottom": null,
      "display": null,
      "flex": null,
      "flex_flow": null,
      "grid_area": null,
      "grid_auto_columns": null,
      "grid_auto_flow": null,
      "grid_auto_rows": null,
      "grid_column": null,
      "grid_gap": null,
      "grid_row": null,
      "grid_template_areas": null,
      "grid_template_columns": null,
      "grid_template_rows": null,
      "height": null,
      "justify_content": null,
      "justify_items": null,
      "left": null,
      "margin": null,
      "max_height": null,
      "max_width": null,
      "min_height": null,
      "min_width": null,
      "object_fit": null,
      "object_position": null,
      "order": null,
      "overflow": null,
      "overflow_x": null,
      "overflow_y": null,
      "padding": null,
      "right": null,
      "top": null,
      "visibility": null,
      "width": null
     }
    },
    "36b49368ee064ba19dceafec256a5336": {
     "model_module": "@jupyter-widgets/controls",
     "model_module_version": "1.5.0",
     "model_name": "HTMLModel",
     "state": {
      "_dom_classes": [],
      "_model_module": "@jupyter-widgets/controls",
      "_model_module_version": "1.5.0",
      "_model_name": "HTMLModel",
      "_view_count": null,
      "_view_module": "@jupyter-widgets/controls",
      "_view_module_version": "1.5.0",
      "_view_name": "HTMLView",
      "description": "",
      "description_tooltip": null,
      "layout": "IPY_MODEL_354127f77231450aa925161a073d09ee",
      "placeholder": "​",
      "style": "IPY_MODEL_8305448ddc7749c69dad3c8f29af8a54",
      "value": "modules.json: 100%"
     }
    },
    "3767ebc0a8df474f8cbb42264f51f8fe": {
     "model_module": "@jupyter-widgets/controls",
     "model_module_version": "1.5.0",
     "model_name": "DescriptionStyleModel",
     "state": {
      "_model_module": "@jupyter-widgets/controls",
      "_model_module_version": "1.5.0",
      "_model_name": "DescriptionStyleModel",
      "_view_count": null,
      "_view_module": "@jupyter-widgets/base",
      "_view_module_version": "1.2.0",
      "_view_name": "StyleView",
      "description_width": ""
     }
    },
    "38e8e974434141cb8c60903b5a57a6ed": {
     "model_module": "@jupyter-widgets/base",
     "model_module_version": "1.2.0",
     "model_name": "LayoutModel",
     "state": {
      "_model_module": "@jupyter-widgets/base",
      "_model_module_version": "1.2.0",
      "_model_name": "LayoutModel",
      "_view_count": null,
      "_view_module": "@jupyter-widgets/base",
      "_view_module_version": "1.2.0",
      "_view_name": "LayoutView",
      "align_content": null,
      "align_items": null,
      "align_self": null,
      "border": null,
      "bottom": null,
      "display": null,
      "flex": null,
      "flex_flow": null,
      "grid_area": null,
      "grid_auto_columns": null,
      "grid_auto_flow": null,
      "grid_auto_rows": null,
      "grid_column": null,
      "grid_gap": null,
      "grid_row": null,
      "grid_template_areas": null,
      "grid_template_columns": null,
      "grid_template_rows": null,
      "height": null,
      "justify_content": null,
      "justify_items": null,
      "left": null,
      "margin": null,
      "max_height": null,
      "max_width": null,
      "min_height": null,
      "min_width": null,
      "object_fit": null,
      "object_position": null,
      "order": null,
      "overflow": null,
      "overflow_x": null,
      "overflow_y": null,
      "padding": null,
      "right": null,
      "top": null,
      "visibility": null,
      "width": null
     }
    },
    "38f1d21c3b824f1fae210f4cc49cdaee": {
     "model_module": "@jupyter-widgets/controls",
     "model_module_version": "1.5.0",
     "model_name": "DescriptionStyleModel",
     "state": {
      "_model_module": "@jupyter-widgets/controls",
      "_model_module_version": "1.5.0",
      "_model_name": "DescriptionStyleModel",
      "_view_count": null,
      "_view_module": "@jupyter-widgets/base",
      "_view_module_version": "1.2.0",
      "_view_name": "StyleView",
      "description_width": ""
     }
    },
    "39ccc49618f545618dd90081cf701d7c": {
     "model_module": "@jupyter-widgets/base",
     "model_module_version": "1.2.0",
     "model_name": "LayoutModel",
     "state": {
      "_model_module": "@jupyter-widgets/base",
      "_model_module_version": "1.2.0",
      "_model_name": "LayoutModel",
      "_view_count": null,
      "_view_module": "@jupyter-widgets/base",
      "_view_module_version": "1.2.0",
      "_view_name": "LayoutView",
      "align_content": null,
      "align_items": null,
      "align_self": null,
      "border": null,
      "bottom": null,
      "display": null,
      "flex": null,
      "flex_flow": null,
      "grid_area": null,
      "grid_auto_columns": null,
      "grid_auto_flow": null,
      "grid_auto_rows": null,
      "grid_column": null,
      "grid_gap": null,
      "grid_row": null,
      "grid_template_areas": null,
      "grid_template_columns": null,
      "grid_template_rows": null,
      "height": null,
      "justify_content": null,
      "justify_items": null,
      "left": null,
      "margin": null,
      "max_height": null,
      "max_width": null,
      "min_height": null,
      "min_width": null,
      "object_fit": null,
      "object_position": null,
      "order": null,
      "overflow": null,
      "overflow_x": null,
      "overflow_y": null,
      "padding": null,
      "right": null,
      "top": null,
      "visibility": null,
      "width": null
     }
    },
    "39f399bbde9b4f5ca2ae372d31ea9b1c": {
     "model_module": "@jupyter-widgets/base",
     "model_module_version": "1.2.0",
     "model_name": "LayoutModel",
     "state": {
      "_model_module": "@jupyter-widgets/base",
      "_model_module_version": "1.2.0",
      "_model_name": "LayoutModel",
      "_view_count": null,
      "_view_module": "@jupyter-widgets/base",
      "_view_module_version": "1.2.0",
      "_view_name": "LayoutView",
      "align_content": null,
      "align_items": null,
      "align_self": null,
      "border": null,
      "bottom": null,
      "display": null,
      "flex": null,
      "flex_flow": null,
      "grid_area": null,
      "grid_auto_columns": null,
      "grid_auto_flow": null,
      "grid_auto_rows": null,
      "grid_column": null,
      "grid_gap": null,
      "grid_row": null,
      "grid_template_areas": null,
      "grid_template_columns": null,
      "grid_template_rows": null,
      "height": null,
      "justify_content": null,
      "justify_items": null,
      "left": null,
      "margin": null,
      "max_height": null,
      "max_width": null,
      "min_height": null,
      "min_width": null,
      "object_fit": null,
      "object_position": null,
      "order": null,
      "overflow": null,
      "overflow_x": null,
      "overflow_y": null,
      "padding": null,
      "right": null,
      "top": null,
      "visibility": null,
      "width": null
     }
    },
    "3a888bc6667e4422b4f1f70e50f2ea37": {
     "model_module": "@jupyter-widgets/controls",
     "model_module_version": "1.5.0",
     "model_name": "DescriptionStyleModel",
     "state": {
      "_model_module": "@jupyter-widgets/controls",
      "_model_module_version": "1.5.0",
      "_model_name": "DescriptionStyleModel",
      "_view_count": null,
      "_view_module": "@jupyter-widgets/base",
      "_view_module_version": "1.2.0",
      "_view_name": "StyleView",
      "description_width": ""
     }
    },
    "3c1d2efb25994cbaa23738eee9e9733f": {
     "model_module": "@jupyter-widgets/base",
     "model_module_version": "1.2.0",
     "model_name": "LayoutModel",
     "state": {
      "_model_module": "@jupyter-widgets/base",
      "_model_module_version": "1.2.0",
      "_model_name": "LayoutModel",
      "_view_count": null,
      "_view_module": "@jupyter-widgets/base",
      "_view_module_version": "1.2.0",
      "_view_name": "LayoutView",
      "align_content": null,
      "align_items": null,
      "align_self": null,
      "border": null,
      "bottom": null,
      "display": null,
      "flex": null,
      "flex_flow": null,
      "grid_area": null,
      "grid_auto_columns": null,
      "grid_auto_flow": null,
      "grid_auto_rows": null,
      "grid_column": null,
      "grid_gap": null,
      "grid_row": null,
      "grid_template_areas": null,
      "grid_template_columns": null,
      "grid_template_rows": null,
      "height": null,
      "justify_content": null,
      "justify_items": null,
      "left": null,
      "margin": null,
      "max_height": null,
      "max_width": null,
      "min_height": null,
      "min_width": null,
      "object_fit": null,
      "object_position": null,
      "order": null,
      "overflow": null,
      "overflow_x": null,
      "overflow_y": null,
      "padding": null,
      "right": null,
      "top": null,
      "visibility": null,
      "width": null
     }
    },
    "3cf7b832636d447984abdf49c05c47cf": {
     "model_module": "@jupyter-widgets/base",
     "model_module_version": "1.2.0",
     "model_name": "LayoutModel",
     "state": {
      "_model_module": "@jupyter-widgets/base",
      "_model_module_version": "1.2.0",
      "_model_name": "LayoutModel",
      "_view_count": null,
      "_view_module": "@jupyter-widgets/base",
      "_view_module_version": "1.2.0",
      "_view_name": "LayoutView",
      "align_content": null,
      "align_items": null,
      "align_self": null,
      "border": null,
      "bottom": null,
      "display": null,
      "flex": null,
      "flex_flow": null,
      "grid_area": null,
      "grid_auto_columns": null,
      "grid_auto_flow": null,
      "grid_auto_rows": null,
      "grid_column": null,
      "grid_gap": null,
      "grid_row": null,
      "grid_template_areas": null,
      "grid_template_columns": null,
      "grid_template_rows": null,
      "height": null,
      "justify_content": null,
      "justify_items": null,
      "left": null,
      "margin": null,
      "max_height": null,
      "max_width": null,
      "min_height": null,
      "min_width": null,
      "object_fit": null,
      "object_position": null,
      "order": null,
      "overflow": null,
      "overflow_x": null,
      "overflow_y": null,
      "padding": null,
      "right": null,
      "top": null,
      "visibility": null,
      "width": null
     }
    },
    "408f7a6c211744b5b2272efd71758039": {
     "model_module": "@jupyter-widgets/controls",
     "model_module_version": "1.5.0",
     "model_name": "FloatProgressModel",
     "state": {
      "_dom_classes": [],
      "_model_module": "@jupyter-widgets/controls",
      "_model_module_version": "1.5.0",
      "_model_name": "FloatProgressModel",
      "_view_count": null,
      "_view_module": "@jupyter-widgets/controls",
      "_view_module_version": "1.5.0",
      "_view_name": "ProgressView",
      "bar_style": "success",
      "description": "",
      "description_tooltip": null,
      "layout": "IPY_MODEL_52819339ea6c454da072c06018ed03b5",
      "max": 844,
      "min": 0,
      "orientation": "horizontal",
      "style": "IPY_MODEL_63438a8d5dc14d02830144ecad44b9bc",
      "value": 844
     }
    },
    "40a7dec1c6a14544971109b7677321b7": {
     "model_module": "@jupyter-widgets/base",
     "model_module_version": "1.2.0",
     "model_name": "LayoutModel",
     "state": {
      "_model_module": "@jupyter-widgets/base",
      "_model_module_version": "1.2.0",
      "_model_name": "LayoutModel",
      "_view_count": null,
      "_view_module": "@jupyter-widgets/base",
      "_view_module_version": "1.2.0",
      "_view_name": "LayoutView",
      "align_content": null,
      "align_items": null,
      "align_self": null,
      "border": null,
      "bottom": null,
      "display": null,
      "flex": null,
      "flex_flow": null,
      "grid_area": null,
      "grid_auto_columns": null,
      "grid_auto_flow": null,
      "grid_auto_rows": null,
      "grid_column": null,
      "grid_gap": null,
      "grid_row": null,
      "grid_template_areas": null,
      "grid_template_columns": null,
      "grid_template_rows": null,
      "height": null,
      "justify_content": null,
      "justify_items": null,
      "left": null,
      "margin": null,
      "max_height": null,
      "max_width": null,
      "min_height": null,
      "min_width": null,
      "object_fit": null,
      "object_position": null,
      "order": null,
      "overflow": null,
      "overflow_x": null,
      "overflow_y": null,
      "padding": null,
      "right": null,
      "top": null,
      "visibility": null,
      "width": null
     }
    },
    "414dddcdd547403aa5a30a64bb2a2454": {
     "model_module": "@jupyter-widgets/controls",
     "model_module_version": "1.5.0",
     "model_name": "DescriptionStyleModel",
     "state": {
      "_model_module": "@jupyter-widgets/controls",
      "_model_module_version": "1.5.0",
      "_model_name": "DescriptionStyleModel",
      "_view_count": null,
      "_view_module": "@jupyter-widgets/base",
      "_view_module_version": "1.2.0",
      "_view_name": "StyleView",
      "description_width": ""
     }
    },
    "4281231a3af44dd98154f22ac11e8ea0": {
     "model_module": "@jupyter-widgets/base",
     "model_module_version": "1.2.0",
     "model_name": "LayoutModel",
     "state": {
      "_model_module": "@jupyter-widgets/base",
      "_model_module_version": "1.2.0",
      "_model_name": "LayoutModel",
      "_view_count": null,
      "_view_module": "@jupyter-widgets/base",
      "_view_module_version": "1.2.0",
      "_view_name": "LayoutView",
      "align_content": null,
      "align_items": null,
      "align_self": null,
      "border": null,
      "bottom": null,
      "display": null,
      "flex": null,
      "flex_flow": null,
      "grid_area": null,
      "grid_auto_columns": null,
      "grid_auto_flow": null,
      "grid_auto_rows": null,
      "grid_column": null,
      "grid_gap": null,
      "grid_row": null,
      "grid_template_areas": null,
      "grid_template_columns": null,
      "grid_template_rows": null,
      "height": null,
      "justify_content": null,
      "justify_items": null,
      "left": null,
      "margin": null,
      "max_height": null,
      "max_width": null,
      "min_height": null,
      "min_width": null,
      "object_fit": null,
      "object_position": null,
      "order": null,
      "overflow": null,
      "overflow_x": null,
      "overflow_y": null,
      "padding": null,
      "right": null,
      "top": null,
      "visibility": null,
      "width": null
     }
    },
    "429aa70459cf417b91455c7edb0e5405": {
     "model_module": "@jupyter-widgets/base",
     "model_module_version": "1.2.0",
     "model_name": "LayoutModel",
     "state": {
      "_model_module": "@jupyter-widgets/base",
      "_model_module_version": "1.2.0",
      "_model_name": "LayoutModel",
      "_view_count": null,
      "_view_module": "@jupyter-widgets/base",
      "_view_module_version": "1.2.0",
      "_view_name": "LayoutView",
      "align_content": null,
      "align_items": null,
      "align_self": null,
      "border": null,
      "bottom": null,
      "display": null,
      "flex": null,
      "flex_flow": null,
      "grid_area": null,
      "grid_auto_columns": null,
      "grid_auto_flow": null,
      "grid_auto_rows": null,
      "grid_column": null,
      "grid_gap": null,
      "grid_row": null,
      "grid_template_areas": null,
      "grid_template_columns": null,
      "grid_template_rows": null,
      "height": null,
      "justify_content": null,
      "justify_items": null,
      "left": null,
      "margin": null,
      "max_height": null,
      "max_width": null,
      "min_height": null,
      "min_width": null,
      "object_fit": null,
      "object_position": null,
      "order": null,
      "overflow": null,
      "overflow_x": null,
      "overflow_y": null,
      "padding": null,
      "right": null,
      "top": null,
      "visibility": null,
      "width": null
     }
    },
    "43109c4a88274dc38fc8a9d606d5cd75": {
     "model_module": "@jupyter-widgets/controls",
     "model_module_version": "1.5.0",
     "model_name": "DescriptionStyleModel",
     "state": {
      "_model_module": "@jupyter-widgets/controls",
      "_model_module_version": "1.5.0",
      "_model_name": "DescriptionStyleModel",
      "_view_count": null,
      "_view_module": "@jupyter-widgets/base",
      "_view_module_version": "1.2.0",
      "_view_name": "StyleView",
      "description_width": ""
     }
    },
    "44089dd53ccc4fcf9c053872434e3cb2": {
     "model_module": "@jupyter-widgets/base",
     "model_module_version": "1.2.0",
     "model_name": "LayoutModel",
     "state": {
      "_model_module": "@jupyter-widgets/base",
      "_model_module_version": "1.2.0",
      "_model_name": "LayoutModel",
      "_view_count": null,
      "_view_module": "@jupyter-widgets/base",
      "_view_module_version": "1.2.0",
      "_view_name": "LayoutView",
      "align_content": null,
      "align_items": null,
      "align_self": null,
      "border": null,
      "bottom": null,
      "display": null,
      "flex": null,
      "flex_flow": null,
      "grid_area": null,
      "grid_auto_columns": null,
      "grid_auto_flow": null,
      "grid_auto_rows": null,
      "grid_column": null,
      "grid_gap": null,
      "grid_row": null,
      "grid_template_areas": null,
      "grid_template_columns": null,
      "grid_template_rows": null,
      "height": null,
      "justify_content": null,
      "justify_items": null,
      "left": null,
      "margin": null,
      "max_height": null,
      "max_width": null,
      "min_height": null,
      "min_width": null,
      "object_fit": null,
      "object_position": null,
      "order": null,
      "overflow": null,
      "overflow_x": null,
      "overflow_y": null,
      "padding": null,
      "right": null,
      "top": null,
      "visibility": null,
      "width": null
     }
    },
    "4476170cfb4344d29e2acb0ac65be27d": {
     "model_module": "@jupyter-widgets/controls",
     "model_module_version": "1.5.0",
     "model_name": "DescriptionStyleModel",
     "state": {
      "_model_module": "@jupyter-widgets/controls",
      "_model_module_version": "1.5.0",
      "_model_name": "DescriptionStyleModel",
      "_view_count": null,
      "_view_module": "@jupyter-widgets/base",
      "_view_module_version": "1.2.0",
      "_view_name": "StyleView",
      "description_width": ""
     }
    },
    "4552272947b04babbfcbc49b2f273cb0": {
     "model_module": "@jupyter-widgets/controls",
     "model_module_version": "1.5.0",
     "model_name": "DescriptionStyleModel",
     "state": {
      "_model_module": "@jupyter-widgets/controls",
      "_model_module_version": "1.5.0",
      "_model_name": "DescriptionStyleModel",
      "_view_count": null,
      "_view_module": "@jupyter-widgets/base",
      "_view_module_version": "1.2.0",
      "_view_name": "StyleView",
      "description_width": ""
     }
    },
    "457528549bc84a8e9d350a42b3092fe1": {
     "model_module": "@jupyter-widgets/controls",
     "model_module_version": "1.5.0",
     "model_name": "HTMLModel",
     "state": {
      "_dom_classes": [],
      "_model_module": "@jupyter-widgets/controls",
      "_model_module_version": "1.5.0",
      "_model_name": "HTMLModel",
      "_view_count": null,
      "_view_module": "@jupyter-widgets/controls",
      "_view_module_version": "1.5.0",
      "_view_name": "HTMLView",
      "description": "",
      "description_tooltip": null,
      "layout": "IPY_MODEL_f4761a10afe74bfd97bbcf29a12c90d6",
      "placeholder": "​",
      "style": "IPY_MODEL_a73980dd227742ca85274dfade53a3bd",
      "value": " 169k/169k [00:00&lt;00:00, 3.82MB/s]"
     }
    },
    "457c06bc84704fae85acf6542c45faa5": {
     "model_module": "@jupyter-widgets/base",
     "model_module_version": "1.2.0",
     "model_name": "LayoutModel",
     "state": {
      "_model_module": "@jupyter-widgets/base",
      "_model_module_version": "1.2.0",
      "_model_name": "LayoutModel",
      "_view_count": null,
      "_view_module": "@jupyter-widgets/base",
      "_view_module_version": "1.2.0",
      "_view_name": "LayoutView",
      "align_content": null,
      "align_items": null,
      "align_self": null,
      "border": null,
      "bottom": null,
      "display": null,
      "flex": null,
      "flex_flow": null,
      "grid_area": null,
      "grid_auto_columns": null,
      "grid_auto_flow": null,
      "grid_auto_rows": null,
      "grid_column": null,
      "grid_gap": null,
      "grid_row": null,
      "grid_template_areas": null,
      "grid_template_columns": null,
      "grid_template_rows": null,
      "height": null,
      "justify_content": null,
      "justify_items": null,
      "left": null,
      "margin": null,
      "max_height": null,
      "max_width": null,
      "min_height": null,
      "min_width": null,
      "object_fit": null,
      "object_position": null,
      "order": null,
      "overflow": null,
      "overflow_x": null,
      "overflow_y": null,
      "padding": null,
      "right": null,
      "top": null,
      "visibility": null,
      "width": null
     }
    },
    "477fb4e3221046488723e495cee72027": {
     "model_module": "@jupyter-widgets/controls",
     "model_module_version": "1.5.0",
     "model_name": "HBoxModel",
     "state": {
      "_dom_classes": [],
      "_model_module": "@jupyter-widgets/controls",
      "_model_module_version": "1.5.0",
      "_model_name": "HBoxModel",
      "_view_count": null,
      "_view_module": "@jupyter-widgets/controls",
      "_view_module_version": "1.5.0",
      "_view_name": "HBoxView",
      "box_style": "",
      "children": [
       "IPY_MODEL_e6529185ee5548f99371e1add7be6310",
       "IPY_MODEL_31bddd53fc28465a8b398fdedecdb98c",
       "IPY_MODEL_d66de37bf2fb46dab402e812baaef88e"
      ],
      "layout": "IPY_MODEL_58a3c02f5b9a415c9b3af836b109ef46"
     }
    },
    "48c608b347874b57b04f5b24fd6397a7": {
     "model_module": "@jupyter-widgets/controls",
     "model_module_version": "1.5.0",
     "model_name": "HBoxModel",
     "state": {
      "_dom_classes": [],
      "_model_module": "@jupyter-widgets/controls",
      "_model_module_version": "1.5.0",
      "_model_name": "HBoxModel",
      "_view_count": null,
      "_view_module": "@jupyter-widgets/controls",
      "_view_module_version": "1.5.0",
      "_view_name": "HBoxView",
      "box_style": "",
      "children": [
       "IPY_MODEL_775bbd407ac94f54bec9821707929ed1",
       "IPY_MODEL_511ecd55d35641379108d484217b3e28",
       "IPY_MODEL_da360a0f56644b0baab32bbfb2050eb1"
      ],
      "layout": "IPY_MODEL_d6174f2166b64db2bcb7be6cca118f45"
     }
    },
    "491c292f13f0415f9ce528486060ce9e": {
     "model_module": "@jupyter-widgets/base",
     "model_module_version": "1.2.0",
     "model_name": "LayoutModel",
     "state": {
      "_model_module": "@jupyter-widgets/base",
      "_model_module_version": "1.2.0",
      "_model_name": "LayoutModel",
      "_view_count": null,
      "_view_module": "@jupyter-widgets/base",
      "_view_module_version": "1.2.0",
      "_view_name": "LayoutView",
      "align_content": null,
      "align_items": null,
      "align_self": null,
      "border": null,
      "bottom": null,
      "display": null,
      "flex": null,
      "flex_flow": null,
      "grid_area": null,
      "grid_auto_columns": null,
      "grid_auto_flow": null,
      "grid_auto_rows": null,
      "grid_column": null,
      "grid_gap": null,
      "grid_row": null,
      "grid_template_areas": null,
      "grid_template_columns": null,
      "grid_template_rows": null,
      "height": null,
      "justify_content": null,
      "justify_items": null,
      "left": null,
      "margin": null,
      "max_height": null,
      "max_width": null,
      "min_height": null,
      "min_width": null,
      "object_fit": null,
      "object_position": null,
      "order": null,
      "overflow": null,
      "overflow_x": null,
      "overflow_y": null,
      "padding": null,
      "right": null,
      "top": null,
      "visibility": null,
      "width": null
     }
    },
    "4a4527dada434aab99e2532abbe58138": {
     "model_module": "@jupyter-widgets/controls",
     "model_module_version": "1.5.0",
     "model_name": "HTMLModel",
     "state": {
      "_dom_classes": [],
      "_model_module": "@jupyter-widgets/controls",
      "_model_module_version": "1.5.0",
      "_model_name": "HTMLModel",
      "_view_count": null,
      "_view_module": "@jupyter-widgets/controls",
      "_view_module_version": "1.5.0",
      "_view_name": "HTMLView",
      "description": "",
      "description_tooltip": null,
      "layout": "IPY_MODEL_09466dbdf7fe43a0ba22d9556586d24e",
      "placeholder": "​",
      "style": "IPY_MODEL_567e51676c474eb9b13c78df597e48b6",
      "value": " 316/316 [00:00&lt;00:00, 14.2kB/s]"
     }
    },
    "4c0bb9f3f61443a7bf78afac3d4aef06": {
     "model_module": "@jupyter-widgets/controls",
     "model_module_version": "1.5.0",
     "model_name": "HTMLModel",
     "state": {
      "_dom_classes": [],
      "_model_module": "@jupyter-widgets/controls",
      "_model_module_version": "1.5.0",
      "_model_name": "HTMLModel",
      "_view_count": null,
      "_view_module": "@jupyter-widgets/controls",
      "_view_module_version": "1.5.0",
      "_view_name": "HTMLView",
      "description": "",
      "description_tooltip": null,
      "layout": "IPY_MODEL_3cf7b832636d447984abdf49c05c47cf",
      "placeholder": "​",
      "style": "IPY_MODEL_88f43d0f2dfa40caad0c706699f97e9e",
      "value": " 80.0/80.0 [00:00&lt;00:00, 4.36kB/s]"
     }
    },
    "4c32448662c845e2baade1f1322c0199": {
     "model_module": "@jupyter-widgets/base",
     "model_module_version": "1.2.0",
     "model_name": "LayoutModel",
     "state": {
      "_model_module": "@jupyter-widgets/base",
      "_model_module_version": "1.2.0",
      "_model_name": "LayoutModel",
      "_view_count": null,
      "_view_module": "@jupyter-widgets/base",
      "_view_module_version": "1.2.0",
      "_view_name": "LayoutView",
      "align_content": null,
      "align_items": null,
      "align_self": null,
      "border": null,
      "bottom": null,
      "display": null,
      "flex": null,
      "flex_flow": null,
      "grid_area": null,
      "grid_auto_columns": null,
      "grid_auto_flow": null,
      "grid_auto_rows": null,
      "grid_column": null,
      "grid_gap": null,
      "grid_row": null,
      "grid_template_areas": null,
      "grid_template_columns": null,
      "grid_template_rows": null,
      "height": null,
      "justify_content": null,
      "justify_items": null,
      "left": null,
      "margin": null,
      "max_height": null,
      "max_width": null,
      "min_height": null,
      "min_width": null,
      "object_fit": null,
      "object_position": null,
      "order": null,
      "overflow": null,
      "overflow_x": null,
      "overflow_y": null,
      "padding": null,
      "right": null,
      "top": null,
      "visibility": null,
      "width": null
     }
    },
    "4c47d3addb4d4af2991177fc763e7531": {
     "model_module": "@jupyter-widgets/controls",
     "model_module_version": "1.5.0",
     "model_name": "HTMLModel",
     "state": {
      "_dom_classes": [],
      "_model_module": "@jupyter-widgets/controls",
      "_model_module_version": "1.5.0",
      "_model_name": "HTMLModel",
      "_view_count": null,
      "_view_module": "@jupyter-widgets/controls",
      "_view_module_version": "1.5.0",
      "_view_name": "HTMLView",
      "description": "",
      "description_tooltip": null,
      "layout": "IPY_MODEL_4c32448662c845e2baade1f1322c0199",
      "placeholder": "​",
      "style": "IPY_MODEL_6bf79aafdc6246c7b6e081014941b82d",
      "value": " 844/844 [00:00&lt;00:00, 58.7kB/s]"
     }
    },
    "4c941244f0ea481aa3b5c5df4f15a002": {
     "model_module": "@jupyter-widgets/controls",
     "model_module_version": "1.5.0",
     "model_name": "HTMLModel",
     "state": {
      "_dom_classes": [],
      "_model_module": "@jupyter-widgets/controls",
      "_model_module_version": "1.5.0",
      "_model_name": "HTMLModel",
      "_view_count": null,
      "_view_module": "@jupyter-widgets/controls",
      "_view_module_version": "1.5.0",
      "_view_name": "HTMLView",
      "description": "",
      "description_tooltip": null,
      "layout": "IPY_MODEL_745631d9ede94e4f94fe8413216f4b1f",
      "placeholder": "​",
      "style": "IPY_MODEL_b26458770c72475e91ae393e05ea4d6f",
      "value": "pytorch_model.bin: 100%"
     }
    },
    "4cea9e59e63d44148615b71418e1b7fe": {
     "model_module": "@jupyter-widgets/controls",
     "model_module_version": "1.5.0",
     "model_name": "HTMLModel",
     "state": {
      "_dom_classes": [],
      "_model_module": "@jupyter-widgets/controls",
      "_model_module_version": "1.5.0",
      "_model_name": "HTMLModel",
      "_view_count": null,
      "_view_module": "@jupyter-widgets/controls",
      "_view_module_version": "1.5.0",
      "_view_name": "HTMLView",
      "description": "",
      "description_tooltip": null,
      "layout": "IPY_MODEL_39ccc49618f545618dd90081cf701d7c",
      "placeholder": "​",
      "style": "IPY_MODEL_2637f18c252f47c78d13d99f5cfaf796",
      "value": "modeling_qwen.py: 100%"
     }
    },
    "4d40903cc8054533b849e48b8046bcc0": {
     "model_module": "@jupyter-widgets/controls",
     "model_module_version": "1.5.0",
     "model_name": "HTMLModel",
     "state": {
      "_dom_classes": [],
      "_model_module": "@jupyter-widgets/controls",
      "_model_module_version": "1.5.0",
      "_model_name": "HTMLModel",
      "_view_count": null,
      "_view_module": "@jupyter-widgets/controls",
      "_view_module_version": "1.5.0",
      "_view_name": "HTMLView",
      "description": "",
      "description_tooltip": null,
      "layout": "IPY_MODEL_72a753503d09405399e948f39f207d62",
      "placeholder": "​",
      "style": "IPY_MODEL_6c9f4774728949e280da83c726adec4e",
      "value": "merges.txt: 100%"
     }
    },
    "4e70b90e0d4845b3b4fe90d07efe8dbd": {
     "model_module": "@jupyter-widgets/controls",
     "model_module_version": "1.5.0",
     "model_name": "DescriptionStyleModel",
     "state": {
      "_model_module": "@jupyter-widgets/controls",
      "_model_module_version": "1.5.0",
      "_model_name": "DescriptionStyleModel",
      "_view_count": null,
      "_view_module": "@jupyter-widgets/base",
      "_view_module_version": "1.2.0",
      "_view_name": "StyleView",
      "description_width": ""
     }
    },
    "511ecd55d35641379108d484217b3e28": {
     "model_module": "@jupyter-widgets/controls",
     "model_module_version": "1.5.0",
     "model_name": "FloatProgressModel",
     "state": {
      "_dom_classes": [],
      "_model_module": "@jupyter-widgets/controls",
      "_model_module_version": "1.5.0",
      "_model_name": "FloatProgressModel",
      "_view_count": null,
      "_view_module": "@jupyter-widgets/controls",
      "_view_module_version": "1.5.0",
      "_view_name": "ProgressView",
      "bar_style": "success",
      "description": "",
      "description_tooltip": null,
      "layout": "IPY_MODEL_fddb8385a0f4448d87594745b307c6b5",
      "max": 1312,
      "min": 0,
      "orientation": "horizontal",
      "style": "IPY_MODEL_eedfe82821154cd29e29385edceb9d0e",
      "value": 1312
     }
    },
    "512ad1dd5016490380f5026b78147866": {
     "model_module": "@jupyter-widgets/controls",
     "model_module_version": "1.5.0",
     "model_name": "HTMLModel",
     "state": {
      "_dom_classes": [],
      "_model_module": "@jupyter-widgets/controls",
      "_model_module_version": "1.5.0",
      "_model_name": "HTMLModel",
      "_view_count": null,
      "_view_module": "@jupyter-widgets/controls",
      "_view_module_version": "1.5.0",
      "_view_name": "HTMLView",
      "description": "",
      "description_tooltip": null,
      "layout": "IPY_MODEL_f922b1f0accf436a89274829dbc0f686",
      "placeholder": "​",
      "style": "IPY_MODEL_0a85ad2e4ad84a79961c4110c799ab9e",
      "value": "special_tokens_map.json: 100%"
     }
    },
    "52819339ea6c454da072c06018ed03b5": {
     "model_module": "@jupyter-widgets/base",
     "model_module_version": "1.2.0",
     "model_name": "LayoutModel",
     "state": {
      "_model_module": "@jupyter-widgets/base",
      "_model_module_version": "1.2.0",
      "_model_name": "LayoutModel",
      "_view_count": null,
      "_view_module": "@jupyter-widgets/base",
      "_view_module_version": "1.2.0",
      "_view_name": "LayoutView",
      "align_content": null,
      "align_items": null,
      "align_self": null,
      "border": null,
      "bottom": null,
      "display": null,
      "flex": null,
      "flex_flow": null,
      "grid_area": null,
      "grid_auto_columns": null,
      "grid_auto_flow": null,
      "grid_auto_rows": null,
      "grid_column": null,
      "grid_gap": null,
      "grid_row": null,
      "grid_template_areas": null,
      "grid_template_columns": null,
      "grid_template_rows": null,
      "height": null,
      "justify_content": null,
      "justify_items": null,
      "left": null,
      "margin": null,
      "max_height": null,
      "max_width": null,
      "min_height": null,
      "min_width": null,
      "object_fit": null,
      "object_position": null,
      "order": null,
      "overflow": null,
      "overflow_x": null,
      "overflow_y": null,
      "padding": null,
      "right": null,
      "top": null,
      "visibility": null,
      "width": null
     }
    },
    "530db69948aa4a3db16f2a3b9e017c82": {
     "model_module": "@jupyter-widgets/base",
     "model_module_version": "1.2.0",
     "model_name": "LayoutModel",
     "state": {
      "_model_module": "@jupyter-widgets/base",
      "_model_module_version": "1.2.0",
      "_model_name": "LayoutModel",
      "_view_count": null,
      "_view_module": "@jupyter-widgets/base",
      "_view_module_version": "1.2.0",
      "_view_name": "LayoutView",
      "align_content": null,
      "align_items": null,
      "align_self": null,
      "border": null,
      "bottom": null,
      "display": null,
      "flex": null,
      "flex_flow": null,
      "grid_area": null,
      "grid_auto_columns": null,
      "grid_auto_flow": null,
      "grid_auto_rows": null,
      "grid_column": null,
      "grid_gap": null,
      "grid_row": null,
      "grid_template_areas": null,
      "grid_template_columns": null,
      "grid_template_rows": null,
      "height": null,
      "justify_content": null,
      "justify_items": null,
      "left": null,
      "margin": null,
      "max_height": null,
      "max_width": null,
      "min_height": null,
      "min_width": null,
      "object_fit": null,
      "object_position": null,
      "order": null,
      "overflow": null,
      "overflow_x": null,
      "overflow_y": null,
      "padding": null,
      "right": null,
      "top": null,
      "visibility": null,
      "width": null
     }
    },
    "54420608bd794ffe8a4f4565368b8515": {
     "model_module": "@jupyter-widgets/controls",
     "model_module_version": "1.5.0",
     "model_name": "ProgressStyleModel",
     "state": {
      "_model_module": "@jupyter-widgets/controls",
      "_model_module_version": "1.5.0",
      "_model_name": "ProgressStyleModel",
      "_view_count": null,
      "_view_module": "@jupyter-widgets/base",
      "_view_module_version": "1.2.0",
      "_view_name": "StyleView",
      "bar_color": null,
      "description_width": ""
     }
    },
    "567e51676c474eb9b13c78df597e48b6": {
     "model_module": "@jupyter-widgets/controls",
     "model_module_version": "1.5.0",
     "model_name": "DescriptionStyleModel",
     "state": {
      "_model_module": "@jupyter-widgets/controls",
      "_model_module_version": "1.5.0",
      "_model_name": "DescriptionStyleModel",
      "_view_count": null,
      "_view_module": "@jupyter-widgets/base",
      "_view_module_version": "1.2.0",
      "_view_name": "StyleView",
      "description_width": ""
     }
    },
    "58a3c02f5b9a415c9b3af836b109ef46": {
     "model_module": "@jupyter-widgets/base",
     "model_module_version": "1.2.0",
     "model_name": "LayoutModel",
     "state": {
      "_model_module": "@jupyter-widgets/base",
      "_model_module_version": "1.2.0",
      "_model_name": "LayoutModel",
      "_view_count": null,
      "_view_module": "@jupyter-widgets/base",
      "_view_module_version": "1.2.0",
      "_view_name": "LayoutView",
      "align_content": null,
      "align_items": null,
      "align_self": null,
      "border": null,
      "bottom": null,
      "display": null,
      "flex": null,
      "flex_flow": null,
      "grid_area": null,
      "grid_auto_columns": null,
      "grid_auto_flow": null,
      "grid_auto_rows": null,
      "grid_column": null,
      "grid_gap": null,
      "grid_row": null,
      "grid_template_areas": null,
      "grid_template_columns": null,
      "grid_template_rows": null,
      "height": null,
      "justify_content": null,
      "justify_items": null,
      "left": null,
      "margin": null,
      "max_height": null,
      "max_width": null,
      "min_height": null,
      "min_width": null,
      "object_fit": null,
      "object_position": null,
      "order": null,
      "overflow": null,
      "overflow_x": null,
      "overflow_y": null,
      "padding": null,
      "right": null,
      "top": null,
      "visibility": null,
      "width": null
     }
    },
    "591fd37f75ba4f80a4c27d7ec1fbbb9d": {
     "model_module": "@jupyter-widgets/controls",
     "model_module_version": "1.5.0",
     "model_name": "DescriptionStyleModel",
     "state": {
      "_model_module": "@jupyter-widgets/controls",
      "_model_module_version": "1.5.0",
      "_model_name": "DescriptionStyleModel",
      "_view_count": null,
      "_view_module": "@jupyter-widgets/base",
      "_view_module_version": "1.2.0",
      "_view_name": "StyleView",
      "description_width": ""
     }
    },
    "59d481df84a149449d19b8879c5ca52c": {
     "model_module": "@jupyter-widgets/controls",
     "model_module_version": "1.5.0",
     "model_name": "HBoxModel",
     "state": {
      "_dom_classes": [],
      "_model_module": "@jupyter-widgets/controls",
      "_model_module_version": "1.5.0",
      "_model_name": "HBoxModel",
      "_view_count": null,
      "_view_module": "@jupyter-widgets/controls",
      "_view_module_version": "1.5.0",
      "_view_name": "HBoxView",
      "box_style": "",
      "children": [
       "IPY_MODEL_703d447de5854cbca397b1fdc4e8ed44",
       "IPY_MODEL_06eb44bb5a8440d19225dc751b022e8c",
       "IPY_MODEL_fc263bd8cb5a4cddb10318776c2c2aa5"
      ],
      "layout": "IPY_MODEL_6c37dceb19c24a0092f177c7dc905af7"
     }
    },
    "59dd545974dc484c9651efda080bff39": {
     "model_module": "@jupyter-widgets/controls",
     "model_module_version": "1.5.0",
     "model_name": "DescriptionStyleModel",
     "state": {
      "_model_module": "@jupyter-widgets/controls",
      "_model_module_version": "1.5.0",
      "_model_name": "DescriptionStyleModel",
      "_view_count": null,
      "_view_module": "@jupyter-widgets/base",
      "_view_module_version": "1.2.0",
      "_view_name": "StyleView",
      "description_width": ""
     }
    },
    "5bf164bbecc64ca2a782857472ce0c33": {
     "model_module": "@jupyter-widgets/base",
     "model_module_version": "1.2.0",
     "model_name": "LayoutModel",
     "state": {
      "_model_module": "@jupyter-widgets/base",
      "_model_module_version": "1.2.0",
      "_model_name": "LayoutModel",
      "_view_count": null,
      "_view_module": "@jupyter-widgets/base",
      "_view_module_version": "1.2.0",
      "_view_name": "LayoutView",
      "align_content": null,
      "align_items": null,
      "align_self": null,
      "border": null,
      "bottom": null,
      "display": null,
      "flex": null,
      "flex_flow": null,
      "grid_area": null,
      "grid_auto_columns": null,
      "grid_auto_flow": null,
      "grid_auto_rows": null,
      "grid_column": null,
      "grid_gap": null,
      "grid_row": null,
      "grid_template_areas": null,
      "grid_template_columns": null,
      "grid_template_rows": null,
      "height": null,
      "justify_content": null,
      "justify_items": null,
      "left": null,
      "margin": null,
      "max_height": null,
      "max_width": null,
      "min_height": null,
      "min_width": null,
      "object_fit": null,
      "object_position": null,
      "order": null,
      "overflow": null,
      "overflow_x": null,
      "overflow_y": null,
      "padding": null,
      "right": null,
      "top": null,
      "visibility": null,
      "width": null
     }
    },
    "5ce44c82e1444dbab21239ea0bff27db": {
     "model_module": "@jupyter-widgets/controls",
     "model_module_version": "1.5.0",
     "model_name": "FloatProgressModel",
     "state": {
      "_dom_classes": [],
      "_model_module": "@jupyter-widgets/controls",
      "_model_module_version": "1.5.0",
      "_model_name": "FloatProgressModel",
      "_view_count": null,
      "_view_module": "@jupyter-widgets/controls",
      "_view_module_version": "1.5.0",
      "_view_name": "ProgressView",
      "bar_style": "success",
      "description": "",
      "description_tooltip": null,
      "layout": "IPY_MODEL_f5e34faa167f4f318d2c8e9ec3e86eb3",
      "max": 6173113776,
      "min": 0,
      "orientation": "horizontal",
      "style": "IPY_MODEL_869e08e8a21b4dfda45464f5dfcadfa1",
      "value": 6173113776
     }
    },
    "5e88d06b19574a78acfb362d991ca1bc": {
     "model_module": "@jupyter-widgets/controls",
     "model_module_version": "1.5.0",
     "model_name": "DescriptionStyleModel",
     "state": {
      "_model_module": "@jupyter-widgets/controls",
      "_model_module_version": "1.5.0",
      "_model_name": "DescriptionStyleModel",
      "_view_count": null,
      "_view_module": "@jupyter-widgets/base",
      "_view_module_version": "1.2.0",
      "_view_name": "StyleView",
      "description_width": ""
     }
    },
    "5f62972b08e648b1bb1282dc85bd3240": {
     "model_module": "@jupyter-widgets/controls",
     "model_module_version": "1.5.0",
     "model_name": "DescriptionStyleModel",
     "state": {
      "_model_module": "@jupyter-widgets/controls",
      "_model_module_version": "1.5.0",
      "_model_name": "DescriptionStyleModel",
      "_view_count": null,
      "_view_module": "@jupyter-widgets/base",
      "_view_module_version": "1.2.0",
      "_view_name": "StyleView",
      "description_width": ""
     }
    },
    "6338127e769f48f6bffe0c9c5201984c": {
     "model_module": "@jupyter-widgets/base",
     "model_module_version": "1.2.0",
     "model_name": "LayoutModel",
     "state": {
      "_model_module": "@jupyter-widgets/base",
      "_model_module_version": "1.2.0",
      "_model_name": "LayoutModel",
      "_view_count": null,
      "_view_module": "@jupyter-widgets/base",
      "_view_module_version": "1.2.0",
      "_view_name": "LayoutView",
      "align_content": null,
      "align_items": null,
      "align_self": null,
      "border": null,
      "bottom": null,
      "display": null,
      "flex": null,
      "flex_flow": null,
      "grid_area": null,
      "grid_auto_columns": null,
      "grid_auto_flow": null,
      "grid_auto_rows": null,
      "grid_column": null,
      "grid_gap": null,
      "grid_row": null,
      "grid_template_areas": null,
      "grid_template_columns": null,
      "grid_template_rows": null,
      "height": null,
      "justify_content": null,
      "justify_items": null,
      "left": null,
      "margin": null,
      "max_height": null,
      "max_width": null,
      "min_height": null,
      "min_width": null,
      "object_fit": null,
      "object_position": null,
      "order": null,
      "overflow": null,
      "overflow_x": null,
      "overflow_y": null,
      "padding": null,
      "right": null,
      "top": null,
      "visibility": null,
      "width": null
     }
    },
    "63438a8d5dc14d02830144ecad44b9bc": {
     "model_module": "@jupyter-widgets/controls",
     "model_module_version": "1.5.0",
     "model_name": "ProgressStyleModel",
     "state": {
      "_model_module": "@jupyter-widgets/controls",
      "_model_module_version": "1.5.0",
      "_model_name": "ProgressStyleModel",
      "_view_count": null,
      "_view_module": "@jupyter-widgets/base",
      "_view_module_version": "1.2.0",
      "_view_name": "StyleView",
      "bar_color": null,
      "description_width": ""
     }
    },
    "64d0fc9b185f4c9683f718e47e6ddb59": {
     "model_module": "@jupyter-widgets/base",
     "model_module_version": "1.2.0",
     "model_name": "LayoutModel",
     "state": {
      "_model_module": "@jupyter-widgets/base",
      "_model_module_version": "1.2.0",
      "_model_name": "LayoutModel",
      "_view_count": null,
      "_view_module": "@jupyter-widgets/base",
      "_view_module_version": "1.2.0",
      "_view_name": "LayoutView",
      "align_content": null,
      "align_items": null,
      "align_self": null,
      "border": null,
      "bottom": null,
      "display": null,
      "flex": null,
      "flex_flow": null,
      "grid_area": null,
      "grid_auto_columns": null,
      "grid_auto_flow": null,
      "grid_auto_rows": null,
      "grid_column": null,
      "grid_gap": null,
      "grid_row": null,
      "grid_template_areas": null,
      "grid_template_columns": null,
      "grid_template_rows": null,
      "height": null,
      "justify_content": null,
      "justify_items": null,
      "left": null,
      "margin": null,
      "max_height": null,
      "max_width": null,
      "min_height": null,
      "min_width": null,
      "object_fit": null,
      "object_position": null,
      "order": null,
      "overflow": null,
      "overflow_x": null,
      "overflow_y": null,
      "padding": null,
      "right": null,
      "top": null,
      "visibility": null,
      "width": null
     }
    },
    "6502860a9c73480fb59ddd59bbd58a2f": {
     "model_module": "@jupyter-widgets/controls",
     "model_module_version": "1.5.0",
     "model_name": "HTMLModel",
     "state": {
      "_dom_classes": [],
      "_model_module": "@jupyter-widgets/controls",
      "_model_module_version": "1.5.0",
      "_model_name": "HTMLModel",
      "_view_count": null,
      "_view_module": "@jupyter-widgets/controls",
      "_view_module_version": "1.5.0",
      "_view_name": "HTMLView",
      "description": "",
      "description_tooltip": null,
      "layout": "IPY_MODEL_9d88b888a94940cfa8ad1a580664ec53",
      "placeholder": "​",
      "style": "IPY_MODEL_068bfbe2f774425ca8f8dc2d43507584",
      "value": " 289/289 [00:00&lt;00:00, 17.7kB/s]"
     }
    },
    "65ac28b94c2e458093da8a5af4990897": {
     "model_module": "@jupyter-widgets/controls",
     "model_module_version": "1.5.0",
     "model_name": "ProgressStyleModel",
     "state": {
      "_model_module": "@jupyter-widgets/controls",
      "_model_module_version": "1.5.0",
      "_model_name": "ProgressStyleModel",
      "_view_count": null,
      "_view_module": "@jupyter-widgets/base",
      "_view_module_version": "1.2.0",
      "_view_name": "StyleView",
      "bar_color": null,
      "description_width": ""
     }
    },
    "66d793205f7a4d67bc6e84335cbe8524": {
     "model_module": "@jupyter-widgets/controls",
     "model_module_version": "1.5.0",
     "model_name": "DescriptionStyleModel",
     "state": {
      "_model_module": "@jupyter-widgets/controls",
      "_model_module_version": "1.5.0",
      "_model_name": "DescriptionStyleModel",
      "_view_count": null,
      "_view_module": "@jupyter-widgets/base",
      "_view_module_version": "1.2.0",
      "_view_name": "StyleView",
      "description_width": ""
     }
    },
    "676d326c87634cb7b5fb21b5c1e189f2": {
     "model_module": "@jupyter-widgets/controls",
     "model_module_version": "1.5.0",
     "model_name": "ProgressStyleModel",
     "state": {
      "_model_module": "@jupyter-widgets/controls",
      "_model_module_version": "1.5.0",
      "_model_name": "ProgressStyleModel",
      "_view_count": null,
      "_view_module": "@jupyter-widgets/base",
      "_view_module_version": "1.2.0",
      "_view_name": "StyleView",
      "bar_color": null,
      "description_width": ""
     }
    },
    "678d7dba90dc4daaa60fcb5dfc64f7b1": {
     "model_module": "@jupyter-widgets/controls",
     "model_module_version": "1.5.0",
     "model_name": "DescriptionStyleModel",
     "state": {
      "_model_module": "@jupyter-widgets/controls",
      "_model_module_version": "1.5.0",
      "_model_name": "DescriptionStyleModel",
      "_view_count": null,
      "_view_module": "@jupyter-widgets/base",
      "_view_module_version": "1.2.0",
      "_view_name": "StyleView",
      "description_width": ""
     }
    },
    "67ad1f33db634eb69eb52539b04c899b": {
     "model_module": "@jupyter-widgets/base",
     "model_module_version": "1.2.0",
     "model_name": "LayoutModel",
     "state": {
      "_model_module": "@jupyter-widgets/base",
      "_model_module_version": "1.2.0",
      "_model_name": "LayoutModel",
      "_view_count": null,
      "_view_module": "@jupyter-widgets/base",
      "_view_module_version": "1.2.0",
      "_view_name": "LayoutView",
      "align_content": null,
      "align_items": null,
      "align_self": null,
      "border": null,
      "bottom": null,
      "display": null,
      "flex": null,
      "flex_flow": null,
      "grid_area": null,
      "grid_auto_columns": null,
      "grid_auto_flow": null,
      "grid_auto_rows": null,
      "grid_column": null,
      "grid_gap": null,
      "grid_row": null,
      "grid_template_areas": null,
      "grid_template_columns": null,
      "grid_template_rows": null,
      "height": null,
      "justify_content": null,
      "justify_items": null,
      "left": null,
      "margin": null,
      "max_height": null,
      "max_width": null,
      "min_height": null,
      "min_width": null,
      "object_fit": null,
      "object_position": null,
      "order": null,
      "overflow": null,
      "overflow_x": null,
      "overflow_y": null,
      "padding": null,
      "right": null,
      "top": null,
      "visibility": null,
      "width": null
     }
    },
    "697ee9cbabd2469fa6ca7eb814882f1f": {
     "model_module": "@jupyter-widgets/controls",
     "model_module_version": "1.5.0",
     "model_name": "HBoxModel",
     "state": {
      "_dom_classes": [],
      "_model_module": "@jupyter-widgets/controls",
      "_model_module_version": "1.5.0",
      "_model_name": "HBoxModel",
      "_view_count": null,
      "_view_module": "@jupyter-widgets/controls",
      "_view_module_version": "1.5.0",
      "_view_name": "HBoxView",
      "box_style": "",
      "children": [
       "IPY_MODEL_96ce1a556c92437a84b1c777f81f5a50",
       "IPY_MODEL_be2880141cf14b889596ed69e78cee63",
       "IPY_MODEL_4c0bb9f3f61443a7bf78afac3d4aef06"
      ],
      "layout": "IPY_MODEL_ead419ce05b04e6dbdd516b0c5a1711f"
     }
    },
    "6bf79aafdc6246c7b6e081014941b82d": {
     "model_module": "@jupyter-widgets/controls",
     "model_module_version": "1.5.0",
     "model_name": "DescriptionStyleModel",
     "state": {
      "_model_module": "@jupyter-widgets/controls",
      "_model_module_version": "1.5.0",
      "_model_name": "DescriptionStyleModel",
      "_view_count": null,
      "_view_module": "@jupyter-widgets/base",
      "_view_module_version": "1.2.0",
      "_view_name": "StyleView",
      "description_width": ""
     }
    },
    "6c37dceb19c24a0092f177c7dc905af7": {
     "model_module": "@jupyter-widgets/base",
     "model_module_version": "1.2.0",
     "model_name": "LayoutModel",
     "state": {
      "_model_module": "@jupyter-widgets/base",
      "_model_module_version": "1.2.0",
      "_model_name": "LayoutModel",
      "_view_count": null,
      "_view_module": "@jupyter-widgets/base",
      "_view_module_version": "1.2.0",
      "_view_name": "LayoutView",
      "align_content": null,
      "align_items": null,
      "align_self": null,
      "border": null,
      "bottom": null,
      "display": null,
      "flex": null,
      "flex_flow": null,
      "grid_area": null,
      "grid_auto_columns": null,
      "grid_auto_flow": null,
      "grid_auto_rows": null,
      "grid_column": null,
      "grid_gap": null,
      "grid_row": null,
      "grid_template_areas": null,
      "grid_template_columns": null,
      "grid_template_rows": null,
      "height": null,
      "justify_content": null,
      "justify_items": null,
      "left": null,
      "margin": null,
      "max_height": null,
      "max_width": null,
      "min_height": null,
      "min_width": null,
      "object_fit": null,
      "object_position": null,
      "order": null,
      "overflow": null,
      "overflow_x": null,
      "overflow_y": null,
      "padding": null,
      "right": null,
      "top": null,
      "visibility": null,
      "width": null
     }
    },
    "6c9f4774728949e280da83c726adec4e": {
     "model_module": "@jupyter-widgets/controls",
     "model_module_version": "1.5.0",
     "model_name": "DescriptionStyleModel",
     "state": {
      "_model_module": "@jupyter-widgets/controls",
      "_model_module_version": "1.5.0",
      "_model_name": "DescriptionStyleModel",
      "_view_count": null,
      "_view_module": "@jupyter-widgets/base",
      "_view_module_version": "1.2.0",
      "_view_name": "StyleView",
      "description_width": ""
     }
    },
    "6d7bcb5f9f2e488f9ea1e36389faea7d": {
     "model_module": "@jupyter-widgets/base",
     "model_module_version": "1.2.0",
     "model_name": "LayoutModel",
     "state": {
      "_model_module": "@jupyter-widgets/base",
      "_model_module_version": "1.2.0",
      "_model_name": "LayoutModel",
      "_view_count": null,
      "_view_module": "@jupyter-widgets/base",
      "_view_module_version": "1.2.0",
      "_view_name": "LayoutView",
      "align_content": null,
      "align_items": null,
      "align_self": null,
      "border": null,
      "bottom": null,
      "display": null,
      "flex": null,
      "flex_flow": null,
      "grid_area": null,
      "grid_auto_columns": null,
      "grid_auto_flow": null,
      "grid_auto_rows": null,
      "grid_column": null,
      "grid_gap": null,
      "grid_row": null,
      "grid_template_areas": null,
      "grid_template_columns": null,
      "grid_template_rows": null,
      "height": null,
      "justify_content": null,
      "justify_items": null,
      "left": null,
      "margin": null,
      "max_height": null,
      "max_width": null,
      "min_height": null,
      "min_width": null,
      "object_fit": null,
      "object_position": null,
      "order": null,
      "overflow": null,
      "overflow_x": null,
      "overflow_y": null,
      "padding": null,
      "right": null,
      "top": null,
      "visibility": null,
      "width": null
     }
    },
    "703d447de5854cbca397b1fdc4e8ed44": {
     "model_module": "@jupyter-widgets/controls",
     "model_module_version": "1.5.0",
     "model_name": "HTMLModel",
     "state": {
      "_dom_classes": [],
      "_model_module": "@jupyter-widgets/controls",
      "_model_module_version": "1.5.0",
      "_model_name": "HTMLModel",
      "_view_count": null,
      "_view_module": "@jupyter-widgets/controls",
      "_view_module_version": "1.5.0",
      "_view_name": "HTMLView",
      "description": "",
      "description_tooltip": null,
      "layout": "IPY_MODEL_8beb2c8e944a4618b3720f77e9e0e0e1",
      "placeholder": "​",
      "style": "IPY_MODEL_c758f49c80cd45cd9ac76c951efad429",
      "value": "tokenizer.json: 100%"
     }
    },
    "7111d2f0086d42cfbc6bbdafb023bf7d": {
     "model_module": "@jupyter-widgets/base",
     "model_module_version": "1.2.0",
     "model_name": "LayoutModel",
     "state": {
      "_model_module": "@jupyter-widgets/base",
      "_model_module_version": "1.2.0",
      "_model_name": "LayoutModel",
      "_view_count": null,
      "_view_module": "@jupyter-widgets/base",
      "_view_module_version": "1.2.0",
      "_view_name": "LayoutView",
      "align_content": null,
      "align_items": null,
      "align_self": null,
      "border": null,
      "bottom": null,
      "display": null,
      "flex": null,
      "flex_flow": null,
      "grid_area": null,
      "grid_auto_columns": null,
      "grid_auto_flow": null,
      "grid_auto_rows": null,
      "grid_column": null,
      "grid_gap": null,
      "grid_row": null,
      "grid_template_areas": null,
      "grid_template_columns": null,
      "grid_template_rows": null,
      "height": null,
      "justify_content": null,
      "justify_items": null,
      "left": null,
      "margin": null,
      "max_height": null,
      "max_width": null,
      "min_height": null,
      "min_width": null,
      "object_fit": null,
      "object_position": null,
      "order": null,
      "overflow": null,
      "overflow_x": null,
      "overflow_y": null,
      "padding": null,
      "right": null,
      "top": null,
      "visibility": null,
      "width": null
     }
    },
    "720672ded9e142a99e3302cd4ddab677": {
     "model_module": "@jupyter-widgets/controls",
     "model_module_version": "1.5.0",
     "model_name": "FloatProgressModel",
     "state": {
      "_dom_classes": [],
      "_model_module": "@jupyter-widgets/controls",
      "_model_module_version": "1.5.0",
      "_model_name": "FloatProgressModel",
      "_view_count": null,
      "_view_module": "@jupyter-widgets/controls",
      "_view_module_version": "1.5.0",
      "_view_name": "ProgressView",
      "bar_style": "success",
      "description": "",
      "description_tooltip": null,
      "layout": "IPY_MODEL_a6e2e46cffb8477e9c6362bea7355211",
      "max": 51,
      "min": 0,
      "orientation": "horizontal",
      "style": "IPY_MODEL_65ac28b94c2e458093da8a5af4990897",
      "value": 51
     }
    },
    "72a753503d09405399e948f39f207d62": {
     "model_module": "@jupyter-widgets/base",
     "model_module_version": "1.2.0",
     "model_name": "LayoutModel",
     "state": {
      "_model_module": "@jupyter-widgets/base",
      "_model_module_version": "1.2.0",
      "_model_name": "LayoutModel",
      "_view_count": null,
      "_view_module": "@jupyter-widgets/base",
      "_view_module_version": "1.2.0",
      "_view_name": "LayoutView",
      "align_content": null,
      "align_items": null,
      "align_self": null,
      "border": null,
      "bottom": null,
      "display": null,
      "flex": null,
      "flex_flow": null,
      "grid_area": null,
      "grid_auto_columns": null,
      "grid_auto_flow": null,
      "grid_auto_rows": null,
      "grid_column": null,
      "grid_gap": null,
      "grid_row": null,
      "grid_template_areas": null,
      "grid_template_columns": null,
      "grid_template_rows": null,
      "height": null,
      "justify_content": null,
      "justify_items": null,
      "left": null,
      "margin": null,
      "max_height": null,
      "max_width": null,
      "min_height": null,
      "min_width": null,
      "object_fit": null,
      "object_position": null,
      "order": null,
      "overflow": null,
      "overflow_x": null,
      "overflow_y": null,
      "padding": null,
      "right": null,
      "top": null,
      "visibility": null,
      "width": null
     }
    },
    "745631d9ede94e4f94fe8413216f4b1f": {
     "model_module": "@jupyter-widgets/base",
     "model_module_version": "1.2.0",
     "model_name": "LayoutModel",
     "state": {
      "_model_module": "@jupyter-widgets/base",
      "_model_module_version": "1.2.0",
      "_model_name": "LayoutModel",
      "_view_count": null,
      "_view_module": "@jupyter-widgets/base",
      "_view_module_version": "1.2.0",
      "_view_name": "LayoutView",
      "align_content": null,
      "align_items": null,
      "align_self": null,
      "border": null,
      "bottom": null,
      "display": null,
      "flex": null,
      "flex_flow": null,
      "grid_area": null,
      "grid_auto_columns": null,
      "grid_auto_flow": null,
      "grid_auto_rows": null,
      "grid_column": null,
      "grid_gap": null,
      "grid_row": null,
      "grid_template_areas": null,
      "grid_template_columns": null,
      "grid_template_rows": null,
      "height": null,
      "justify_content": null,
      "justify_items": null,
      "left": null,
      "margin": null,
      "max_height": null,
      "max_width": null,
      "min_height": null,
      "min_width": null,
      "object_fit": null,
      "object_position": null,
      "order": null,
      "overflow": null,
      "overflow_x": null,
      "overflow_y": null,
      "padding": null,
      "right": null,
      "top": null,
      "visibility": null,
      "width": null
     }
    },
    "7498e3fcc72347d4bcc5cfe4e20ee91b": {
     "model_module": "@jupyter-widgets/controls",
     "model_module_version": "1.5.0",
     "model_name": "FloatProgressModel",
     "state": {
      "_dom_classes": [],
      "_model_module": "@jupyter-widgets/controls",
      "_model_module_version": "1.5.0",
      "_model_name": "FloatProgressModel",
      "_view_count": null,
      "_view_module": "@jupyter-widgets/controls",
      "_view_module_version": "1.5.0",
      "_view_name": "ProgressView",
      "bar_style": "success",
      "description": "",
      "description_tooltip": null,
      "layout": "IPY_MODEL_0739338398bc4123b98262dc02a41d80",
      "max": 316,
      "min": 0,
      "orientation": "horizontal",
      "style": "IPY_MODEL_8b1db2ff410741e49cc4a0b6cc4f8089",
      "value": 316
     }
    },
    "75d1d25d1e1f4470a047e66e634409ca": {
     "model_module": "@jupyter-widgets/controls",
     "model_module_version": "1.5.0",
     "model_name": "HTMLModel",
     "state": {
      "_dom_classes": [],
      "_model_module": "@jupyter-widgets/controls",
      "_model_module_version": "1.5.0",
      "_model_name": "HTMLModel",
      "_view_count": null,
      "_view_module": "@jupyter-widgets/controls",
      "_view_module_version": "1.5.0",
      "_view_name": "HTMLView",
      "description": "",
      "description_tooltip": null,
      "layout": "IPY_MODEL_f200e2f72ac74d07ac7dad2a427a0a0f",
      "placeholder": "​",
      "style": "IPY_MODEL_a1df94cbcc944ced92f31cfe796c79dc",
      "value": " 370/370 [00:00&lt;00:00, 28.8kB/s]"
     }
    },
    "763fe10369314e66876450b7259f52f7": {
     "model_module": "@jupyter-widgets/controls",
     "model_module_version": "1.5.0",
     "model_name": "DescriptionStyleModel",
     "state": {
      "_model_module": "@jupyter-widgets/controls",
      "_model_module_version": "1.5.0",
      "_model_name": "DescriptionStyleModel",
      "_view_count": null,
      "_view_module": "@jupyter-widgets/base",
      "_view_module_version": "1.2.0",
      "_view_name": "StyleView",
      "description_width": ""
     }
    },
    "76f6e651ea2e4d38ac16769da3d793e8": {
     "model_module": "@jupyter-widgets/base",
     "model_module_version": "1.2.0",
     "model_name": "LayoutModel",
     "state": {
      "_model_module": "@jupyter-widgets/base",
      "_model_module_version": "1.2.0",
      "_model_name": "LayoutModel",
      "_view_count": null,
      "_view_module": "@jupyter-widgets/base",
      "_view_module_version": "1.2.0",
      "_view_name": "LayoutView",
      "align_content": null,
      "align_items": null,
      "align_self": null,
      "border": null,
      "bottom": null,
      "display": null,
      "flex": null,
      "flex_flow": null,
      "grid_area": null,
      "grid_auto_columns": null,
      "grid_auto_flow": null,
      "grid_auto_rows": null,
      "grid_column": null,
      "grid_gap": null,
      "grid_row": null,
      "grid_template_areas": null,
      "grid_template_columns": null,
      "grid_template_rows": null,
      "height": null,
      "justify_content": null,
      "justify_items": null,
      "left": null,
      "margin": null,
      "max_height": null,
      "max_width": null,
      "min_height": null,
      "min_width": null,
      "object_fit": null,
      "object_position": null,
      "order": null,
      "overflow": null,
      "overflow_x": null,
      "overflow_y": null,
      "padding": null,
      "right": null,
      "top": null,
      "visibility": null,
      "width": null
     }
    },
    "7744cd95ce484743a5668b6849d4442f": {
     "model_module": "@jupyter-widgets/controls",
     "model_module_version": "1.5.0",
     "model_name": "FloatProgressModel",
     "state": {
      "_dom_classes": [],
      "_model_module": "@jupyter-widgets/controls",
      "_model_module_version": "1.5.0",
      "_model_name": "FloatProgressModel",
      "_view_count": null,
      "_view_module": "@jupyter-widgets/controls",
      "_view_module_version": "1.5.0",
      "_view_name": "ProgressView",
      "bar_style": "success",
      "description": "",
      "description_tooltip": null,
      "layout": "IPY_MODEL_b7bdbdf068d749de8b26bb543ac2ced3",
      "max": 122,
      "min": 0,
      "orientation": "horizontal",
      "style": "IPY_MODEL_a675e5f8be41452590208658d798c94a",
      "value": 122
     }
    },
    "775bbd407ac94f54bec9821707929ed1": {
     "model_module": "@jupyter-widgets/controls",
     "model_module_version": "1.5.0",
     "model_name": "HTMLModel",
     "state": {
      "_dom_classes": [],
      "_model_module": "@jupyter-widgets/controls",
      "_model_module_version": "1.5.0",
      "_model_name": "HTMLModel",
      "_view_count": null,
      "_view_module": "@jupyter-widgets/controls",
      "_view_module_version": "1.5.0",
      "_view_name": "HTMLView",
      "description": "",
      "description_tooltip": null,
      "layout": "IPY_MODEL_8b4fc213b37b458d935682e71b5dcc6b",
      "placeholder": "​",
      "style": "IPY_MODEL_d87835ba98cc4cf997271b85695370c6",
      "value": "tokenizer_config.json: 100%"
     }
    },
    "7a5a8845e47442018a0772ce20f7109a": {
     "model_module": "@jupyter-widgets/controls",
     "model_module_version": "1.5.0",
     "model_name": "HTMLModel",
     "state": {
      "_dom_classes": [],
      "_model_module": "@jupyter-widgets/controls",
      "_model_module_version": "1.5.0",
      "_model_name": "HTMLModel",
      "_view_count": null,
      "_view_module": "@jupyter-widgets/controls",
      "_view_module_version": "1.5.0",
      "_view_name": "HTMLView",
      "description": "",
      "description_tooltip": null,
      "layout": "IPY_MODEL_429aa70459cf417b91455c7edb0e5405",
      "placeholder": "​",
      "style": "IPY_MODEL_f197da552a0446b5a81525302d8899de",
      "value": "model.safetensors: 100%"
     }
    },
    "7ab4520efb144f14b8b81b02ea7c775e": {
     "model_module": "@jupyter-widgets/controls",
     "model_module_version": "1.5.0",
     "model_name": "HTMLModel",
     "state": {
      "_dom_classes": [],
      "_model_module": "@jupyter-widgets/controls",
      "_model_module_version": "1.5.0",
      "_model_name": "HTMLModel",
      "_view_count": null,
      "_view_module": "@jupyter-widgets/controls",
      "_view_module_version": "1.5.0",
      "_view_name": "HTMLView",
      "description": "",
      "description_tooltip": null,
      "layout": "IPY_MODEL_0098e7d832fc41a982db4ef4a8fbc67e",
      "placeholder": "​",
      "style": "IPY_MODEL_5e88d06b19574a78acfb362d991ca1bc",
      "value": " 65.3k/65.3k [00:00&lt;00:00, 3.94MB/s]"
     }
    },
    "7e3aa1d049474db8837169f48e26d7cb": {
     "model_module": "@jupyter-widgets/controls",
     "model_module_version": "1.5.0",
     "model_name": "FloatProgressModel",
     "state": {
      "_dom_classes": [],
      "_model_module": "@jupyter-widgets/controls",
      "_model_module_version": "1.5.0",
      "_model_name": "FloatProgressModel",
      "_view_count": null,
      "_view_module": "@jupyter-widgets/controls",
      "_view_module_version": "1.5.0",
      "_view_name": "ProgressView",
      "bar_style": "success",
      "description": "",
      "description_tooltip": null,
      "layout": "IPY_MODEL_18af2d8c4b0e4298a5673dbe67a59a0c",
      "max": 6297084,
      "min": 0,
      "orientation": "horizontal",
      "style": "IPY_MODEL_54420608bd794ffe8a4f4565368b8515",
      "value": 6297084
     }
    },
    "800554f148524f6bb99f0d2808605bf1": {
     "model_module": "@jupyter-widgets/controls",
     "model_module_version": "1.5.0",
     "model_name": "HBoxModel",
     "state": {
      "_dom_classes": [],
      "_model_module": "@jupyter-widgets/controls",
      "_model_module_version": "1.5.0",
      "_model_name": "HBoxModel",
      "_view_count": null,
      "_view_module": "@jupyter-widgets/controls",
      "_view_module_version": "1.5.0",
      "_view_name": "HBoxView",
      "box_style": "",
      "children": [
       "IPY_MODEL_512ad1dd5016490380f5026b78147866",
       "IPY_MODEL_bf8930e3193e45a3ac0ea4940170d316",
       "IPY_MODEL_75d1d25d1e1f4470a047e66e634409ca"
      ],
      "layout": "IPY_MODEL_0358df8889ce433a997807e512707407"
     }
    },
    "8305448ddc7749c69dad3c8f29af8a54": {
     "model_module": "@jupyter-widgets/controls",
     "model_module_version": "1.5.0",
     "model_name": "DescriptionStyleModel",
     "state": {
      "_model_module": "@jupyter-widgets/controls",
      "_model_module_version": "1.5.0",
      "_model_name": "DescriptionStyleModel",
      "_view_count": null,
      "_view_module": "@jupyter-widgets/base",
      "_view_module_version": "1.2.0",
      "_view_name": "StyleView",
      "description_width": ""
     }
    },
    "869e08e8a21b4dfda45464f5dfcadfa1": {
     "model_module": "@jupyter-widgets/controls",
     "model_module_version": "1.5.0",
     "model_name": "ProgressStyleModel",
     "state": {
      "_model_module": "@jupyter-widgets/controls",
      "_model_module_version": "1.5.0",
      "_model_name": "ProgressStyleModel",
      "_view_count": null,
      "_view_module": "@jupyter-widgets/base",
      "_view_module_version": "1.2.0",
      "_view_name": "StyleView",
      "bar_color": null,
      "description_width": ""
     }
    },
    "86cdb18f5a194e29aece5d3e9bf65d64": {
     "model_module": "@jupyter-widgets/base",
     "model_module_version": "1.2.0",
     "model_name": "LayoutModel",
     "state": {
      "_model_module": "@jupyter-widgets/base",
      "_model_module_version": "1.2.0",
      "_model_name": "LayoutModel",
      "_view_count": null,
      "_view_module": "@jupyter-widgets/base",
      "_view_module_version": "1.2.0",
      "_view_name": "LayoutView",
      "align_content": null,
      "align_items": null,
      "align_self": null,
      "border": null,
      "bottom": null,
      "display": null,
      "flex": null,
      "flex_flow": null,
      "grid_area": null,
      "grid_auto_columns": null,
      "grid_auto_flow": null,
      "grid_auto_rows": null,
      "grid_column": null,
      "grid_gap": null,
      "grid_row": null,
      "grid_template_areas": null,
      "grid_template_columns": null,
      "grid_template_rows": null,
      "height": null,
      "justify_content": null,
      "justify_items": null,
      "left": null,
      "margin": null,
      "max_height": null,
      "max_width": null,
      "min_height": null,
      "min_width": null,
      "object_fit": null,
      "object_position": null,
      "order": null,
      "overflow": null,
      "overflow_x": null,
      "overflow_y": null,
      "padding": null,
      "right": null,
      "top": null,
      "visibility": null,
      "width": null
     }
    },
    "888334d22b15455f8235a7fe0d65cd4d": {
     "model_module": "@jupyter-widgets/base",
     "model_module_version": "1.2.0",
     "model_name": "LayoutModel",
     "state": {
      "_model_module": "@jupyter-widgets/base",
      "_model_module_version": "1.2.0",
      "_model_name": "LayoutModel",
      "_view_count": null,
      "_view_module": "@jupyter-widgets/base",
      "_view_module_version": "1.2.0",
      "_view_name": "LayoutView",
      "align_content": null,
      "align_items": null,
      "align_self": null,
      "border": null,
      "bottom": null,
      "display": null,
      "flex": null,
      "flex_flow": null,
      "grid_area": null,
      "grid_auto_columns": null,
      "grid_auto_flow": null,
      "grid_auto_rows": null,
      "grid_column": null,
      "grid_gap": null,
      "grid_row": null,
      "grid_template_areas": null,
      "grid_template_columns": null,
      "grid_template_rows": null,
      "height": null,
      "justify_content": null,
      "justify_items": null,
      "left": null,
      "margin": null,
      "max_height": null,
      "max_width": null,
      "min_height": null,
      "min_width": null,
      "object_fit": null,
      "object_position": null,
      "order": null,
      "overflow": null,
      "overflow_x": null,
      "overflow_y": null,
      "padding": null,
      "right": null,
      "top": null,
      "visibility": null,
      "width": null
     }
    },
    "88f43d0f2dfa40caad0c706699f97e9e": {
     "model_module": "@jupyter-widgets/controls",
     "model_module_version": "1.5.0",
     "model_name": "DescriptionStyleModel",
     "state": {
      "_model_module": "@jupyter-widgets/controls",
      "_model_module_version": "1.5.0",
      "_model_name": "DescriptionStyleModel",
      "_view_count": null,
      "_view_module": "@jupyter-widgets/base",
      "_view_module_version": "1.2.0",
      "_view_name": "StyleView",
      "description_width": ""
     }
    },
    "8962b56b5c1545f69d2f35a40a718eab": {
     "model_module": "@jupyter-widgets/controls",
     "model_module_version": "1.5.0",
     "model_name": "ProgressStyleModel",
     "state": {
      "_model_module": "@jupyter-widgets/controls",
      "_model_module_version": "1.5.0",
      "_model_name": "ProgressStyleModel",
      "_view_count": null,
      "_view_module": "@jupyter-widgets/base",
      "_view_module_version": "1.2.0",
      "_view_name": "StyleView",
      "bar_color": null,
      "description_width": ""
     }
    },
    "89647ac6014c4963937a22ba8d666de1": {
     "model_module": "@jupyter-widgets/controls",
     "model_module_version": "1.5.0",
     "model_name": "HBoxModel",
     "state": {
      "_dom_classes": [],
      "_model_module": "@jupyter-widgets/controls",
      "_model_module_version": "1.5.0",
      "_model_name": "HBoxModel",
      "_view_count": null,
      "_view_module": "@jupyter-widgets/controls",
      "_view_module_version": "1.5.0",
      "_view_name": "HBoxView",
      "box_style": "",
      "children": [
       "IPY_MODEL_e1067efd482b40fdbfe84e86ee424f71",
       "IPY_MODEL_7744cd95ce484743a5668b6849d4442f",
       "IPY_MODEL_dd842bd25bbe4a9794378117fdd53884"
      ],
      "layout": "IPY_MODEL_8cc69376461f444586b6c394855dbaaf"
     }
    },
    "8b1db2ff410741e49cc4a0b6cc4f8089": {
     "model_module": "@jupyter-widgets/controls",
     "model_module_version": "1.5.0",
     "model_name": "ProgressStyleModel",
     "state": {
      "_model_module": "@jupyter-widgets/controls",
      "_model_module_version": "1.5.0",
      "_model_name": "ProgressStyleModel",
      "_view_count": null,
      "_view_module": "@jupyter-widgets/base",
      "_view_module_version": "1.2.0",
      "_view_name": "StyleView",
      "bar_color": null,
      "description_width": ""
     }
    },
    "8b4fc213b37b458d935682e71b5dcc6b": {
     "model_module": "@jupyter-widgets/base",
     "model_module_version": "1.2.0",
     "model_name": "LayoutModel",
     "state": {
      "_model_module": "@jupyter-widgets/base",
      "_model_module_version": "1.2.0",
      "_model_name": "LayoutModel",
      "_view_count": null,
      "_view_module": "@jupyter-widgets/base",
      "_view_module_version": "1.2.0",
      "_view_name": "LayoutView",
      "align_content": null,
      "align_items": null,
      "align_self": null,
      "border": null,
      "bottom": null,
      "display": null,
      "flex": null,
      "flex_flow": null,
      "grid_area": null,
      "grid_auto_columns": null,
      "grid_auto_flow": null,
      "grid_auto_rows": null,
      "grid_column": null,
      "grid_gap": null,
      "grid_row": null,
      "grid_template_areas": null,
      "grid_template_columns": null,
      "grid_template_rows": null,
      "height": null,
      "justify_content": null,
      "justify_items": null,
      "left": null,
      "margin": null,
      "max_height": null,
      "max_width": null,
      "min_height": null,
      "min_width": null,
      "object_fit": null,
      "object_position": null,
      "order": null,
      "overflow": null,
      "overflow_x": null,
      "overflow_y": null,
      "padding": null,
      "right": null,
      "top": null,
      "visibility": null,
      "width": null
     }
    },
    "8beb2c8e944a4618b3720f77e9e0e0e1": {
     "model_module": "@jupyter-widgets/base",
     "model_module_version": "1.2.0",
     "model_name": "LayoutModel",
     "state": {
      "_model_module": "@jupyter-widgets/base",
      "_model_module_version": "1.2.0",
      "_model_name": "LayoutModel",
      "_view_count": null,
      "_view_module": "@jupyter-widgets/base",
      "_view_module_version": "1.2.0",
      "_view_name": "LayoutView",
      "align_content": null,
      "align_items": null,
      "align_self": null,
      "border": null,
      "bottom": null,
      "display": null,
      "flex": null,
      "flex_flow": null,
      "grid_area": null,
      "grid_auto_columns": null,
      "grid_auto_flow": null,
      "grid_auto_rows": null,
      "grid_column": null,
      "grid_gap": null,
      "grid_row": null,
      "grid_template_areas": null,
      "grid_template_columns": null,
      "grid_template_rows": null,
      "height": null,
      "justify_content": null,
      "justify_items": null,
      "left": null,
      "margin": null,
      "max_height": null,
      "max_width": null,
      "min_height": null,
      "min_width": null,
      "object_fit": null,
      "object_position": null,
      "order": null,
      "overflow": null,
      "overflow_x": null,
      "overflow_y": null,
      "padding": null,
      "right": null,
      "top": null,
      "visibility": null,
      "width": null
     }
    },
    "8c7c69ddfaf64b5482a7e1a79e0e4667": {
     "model_module": "@jupyter-widgets/controls",
     "model_module_version": "1.5.0",
     "model_name": "ProgressStyleModel",
     "state": {
      "_model_module": "@jupyter-widgets/controls",
      "_model_module_version": "1.5.0",
      "_model_name": "ProgressStyleModel",
      "_view_count": null,
      "_view_module": "@jupyter-widgets/base",
      "_view_module_version": "1.2.0",
      "_view_name": "StyleView",
      "bar_color": null,
      "description_width": ""
     }
    },
    "8cc69376461f444586b6c394855dbaaf": {
     "model_module": "@jupyter-widgets/base",
     "model_module_version": "1.2.0",
     "model_name": "LayoutModel",
     "state": {
      "_model_module": "@jupyter-widgets/base",
      "_model_module_version": "1.2.0",
      "_model_name": "LayoutModel",
      "_view_count": null,
      "_view_module": "@jupyter-widgets/base",
      "_view_module_version": "1.2.0",
      "_view_name": "LayoutView",
      "align_content": null,
      "align_items": null,
      "align_self": null,
      "border": null,
      "bottom": null,
      "display": null,
      "flex": null,
      "flex_flow": null,
      "grid_area": null,
      "grid_auto_columns": null,
      "grid_auto_flow": null,
      "grid_auto_rows": null,
      "grid_column": null,
      "grid_gap": null,
      "grid_row": null,
      "grid_template_areas": null,
      "grid_template_columns": null,
      "grid_template_rows": null,
      "height": null,
      "justify_content": null,
      "justify_items": null,
      "left": null,
      "margin": null,
      "max_height": null,
      "max_width": null,
      "min_height": null,
      "min_width": null,
      "object_fit": null,
      "object_position": null,
      "order": null,
      "overflow": null,
      "overflow_x": null,
      "overflow_y": null,
      "padding": null,
      "right": null,
      "top": null,
      "visibility": null,
      "width": null
     }
    },
    "8d730ee1ab5c487e944a9dd7ad239fd6": {
     "model_module": "@jupyter-widgets/controls",
     "model_module_version": "1.5.0",
     "model_name": "HBoxModel",
     "state": {
      "_dom_classes": [],
      "_model_module": "@jupyter-widgets/controls",
      "_model_module_version": "1.5.0",
      "_model_name": "HBoxModel",
      "_view_count": null,
      "_view_module": "@jupyter-widgets/controls",
      "_view_module_version": "1.5.0",
      "_view_name": "HBoxView",
      "box_style": "",
      "children": [
       "IPY_MODEL_c5b402c4d312402799c05eca77c93700",
       "IPY_MODEL_5ce44c82e1444dbab21239ea0bff27db",
       "IPY_MODEL_cc5115e08af34578a118bd78a19c2900"
      ],
      "layout": "IPY_MODEL_bf83610bc3ff45d780b32e3ccbaf8eb5"
     }
    },
    "9093173f0afa44879916c743fd9833c2": {
     "model_module": "@jupyter-widgets/base",
     "model_module_version": "1.2.0",
     "model_name": "LayoutModel",
     "state": {
      "_model_module": "@jupyter-widgets/base",
      "_model_module_version": "1.2.0",
      "_model_name": "LayoutModel",
      "_view_count": null,
      "_view_module": "@jupyter-widgets/base",
      "_view_module_version": "1.2.0",
      "_view_name": "LayoutView",
      "align_content": null,
      "align_items": null,
      "align_self": null,
      "border": null,
      "bottom": null,
      "display": null,
      "flex": null,
      "flex_flow": null,
      "grid_area": null,
      "grid_auto_columns": null,
      "grid_auto_flow": null,
      "grid_auto_rows": null,
      "grid_column": null,
      "grid_gap": null,
      "grid_row": null,
      "grid_template_areas": null,
      "grid_template_columns": null,
      "grid_template_rows": null,
      "height": null,
      "justify_content": null,
      "justify_items": null,
      "left": null,
      "margin": null,
      "max_height": null,
      "max_width": null,
      "min_height": null,
      "min_width": null,
      "object_fit": null,
      "object_position": null,
      "order": null,
      "overflow": null,
      "overflow_x": null,
      "overflow_y": null,
      "padding": null,
      "right": null,
      "top": null,
      "visibility": null,
      "width": null
     }
    },
    "93739977e0494b8f9578488ad1aa7c12": {
     "model_module": "@jupyter-widgets/base",
     "model_module_version": "1.2.0",
     "model_name": "LayoutModel",
     "state": {
      "_model_module": "@jupyter-widgets/base",
      "_model_module_version": "1.2.0",
      "_model_name": "LayoutModel",
      "_view_count": null,
      "_view_module": "@jupyter-widgets/base",
      "_view_module_version": "1.2.0",
      "_view_name": "LayoutView",
      "align_content": null,
      "align_items": null,
      "align_self": null,
      "border": null,
      "bottom": null,
      "display": null,
      "flex": null,
      "flex_flow": null,
      "grid_area": null,
      "grid_auto_columns": null,
      "grid_auto_flow": null,
      "grid_auto_rows": null,
      "grid_column": null,
      "grid_gap": null,
      "grid_row": null,
      "grid_template_areas": null,
      "grid_template_columns": null,
      "grid_template_rows": null,
      "height": null,
      "justify_content": null,
      "justify_items": null,
      "left": null,
      "margin": null,
      "max_height": null,
      "max_width": null,
      "min_height": null,
      "min_width": null,
      "object_fit": null,
      "object_position": null,
      "order": null,
      "overflow": null,
      "overflow_x": null,
      "overflow_y": null,
      "padding": null,
      "right": null,
      "top": null,
      "visibility": null,
      "width": null
     }
    },
    "94a61c1306ca493d87da06a5e7cfafd7": {
     "model_module": "@jupyter-widgets/controls",
     "model_module_version": "1.5.0",
     "model_name": "HTMLModel",
     "state": {
      "_dom_classes": [],
      "_model_module": "@jupyter-widgets/controls",
      "_model_module_version": "1.5.0",
      "_model_name": "HTMLModel",
      "_view_count": null,
      "_view_module": "@jupyter-widgets/controls",
      "_view_module_version": "1.5.0",
      "_view_name": "HTMLView",
      "description": "",
      "description_tooltip": null,
      "layout": "IPY_MODEL_f599133d0dfb4b2590f9deddf1f1ba21",
      "placeholder": "​",
      "style": "IPY_MODEL_59dd545974dc484c9651efda080bff39",
      "value": " 10.8k/10.8k [00:00&lt;00:00, 538kB/s]"
     }
    },
    "96941f496cf046e1a21e8402ed87f667": {
     "model_module": "@jupyter-widgets/base",
     "model_module_version": "1.2.0",
     "model_name": "LayoutModel",
     "state": {
      "_model_module": "@jupyter-widgets/base",
      "_model_module_version": "1.2.0",
      "_model_name": "LayoutModel",
      "_view_count": null,
      "_view_module": "@jupyter-widgets/base",
      "_view_module_version": "1.2.0",
      "_view_name": "LayoutView",
      "align_content": null,
      "align_items": null,
      "align_self": null,
      "border": null,
      "bottom": null,
      "display": null,
      "flex": null,
      "flex_flow": null,
      "grid_area": null,
      "grid_auto_columns": null,
      "grid_auto_flow": null,
      "grid_auto_rows": null,
      "grid_column": null,
      "grid_gap": null,
      "grid_row": null,
      "grid_template_areas": null,
      "grid_template_columns": null,
      "grid_template_rows": null,
      "height": null,
      "justify_content": null,
      "justify_items": null,
      "left": null,
      "margin": null,
      "max_height": null,
      "max_width": null,
      "min_height": null,
      "min_width": null,
      "object_fit": null,
      "object_position": null,
      "order": null,
      "overflow": null,
      "overflow_x": null,
      "overflow_y": null,
      "padding": null,
      "right": null,
      "top": null,
      "visibility": null,
      "width": null
     }
    },
    "96ce1a556c92437a84b1c777f81f5a50": {
     "model_module": "@jupyter-widgets/controls",
     "model_module_version": "1.5.0",
     "model_name": "HTMLModel",
     "state": {
      "_dom_classes": [],
      "_model_module": "@jupyter-widgets/controls",
      "_model_module_version": "1.5.0",
      "_model_name": "HTMLModel",
      "_view_count": null,
      "_view_module": "@jupyter-widgets/controls",
      "_view_module_version": "1.5.0",
      "_view_name": "HTMLView",
      "description": "",
      "description_tooltip": null,
      "layout": "IPY_MODEL_76f6e651ea2e4d38ac16769da3d793e8",
      "placeholder": "​",
      "style": "IPY_MODEL_3767ebc0a8df474f8cbb42264f51f8fe",
      "value": "added_tokens.json: 100%"
     }
    },
    "992544c6a18a4a7bbb0a502be36f2944": {
     "model_module": "@jupyter-widgets/controls",
     "model_module_version": "1.5.0",
     "model_name": "HBoxModel",
     "state": {
      "_dom_classes": [],
      "_model_module": "@jupyter-widgets/controls",
      "_model_module_version": "1.5.0",
      "_model_name": "HBoxModel",
      "_view_count": null,
      "_view_module": "@jupyter-widgets/controls",
      "_view_module_version": "1.5.0",
      "_view_name": "HBoxView",
      "box_style": "",
      "children": [
       "IPY_MODEL_7a5a8845e47442018a0772ce20f7109a",
       "IPY_MODEL_e6dd21d8dba74cdfabd5dcbefa681f89",
       "IPY_MODEL_dd4d0d438f8d4f47be83746313082749"
      ],
      "layout": "IPY_MODEL_3289317d336b467aaa33dfaabfbba202"
     }
    },
    "9b3ce81629954efcb91225e85bddca03": {
     "model_module": "@jupyter-widgets/controls",
     "model_module_version": "1.5.0",
     "model_name": "ProgressStyleModel",
     "state": {
      "_model_module": "@jupyter-widgets/controls",
      "_model_module_version": "1.5.0",
      "_model_name": "ProgressStyleModel",
      "_view_count": null,
      "_view_module": "@jupyter-widgets/base",
      "_view_module_version": "1.2.0",
      "_view_name": "StyleView",
      "bar_color": null,
      "description_width": ""
     }
    },
    "9d1277fbfa8e45a4b8522cdf5ce5116d": {
     "model_module": "@jupyter-widgets/base",
     "model_module_version": "1.2.0",
     "model_name": "LayoutModel",
     "state": {
      "_model_module": "@jupyter-widgets/base",
      "_model_module_version": "1.2.0",
      "_model_name": "LayoutModel",
      "_view_count": null,
      "_view_module": "@jupyter-widgets/base",
      "_view_module_version": "1.2.0",
      "_view_name": "LayoutView",
      "align_content": null,
      "align_items": null,
      "align_self": null,
      "border": null,
      "bottom": null,
      "display": null,
      "flex": null,
      "flex_flow": null,
      "grid_area": null,
      "grid_auto_columns": null,
      "grid_auto_flow": null,
      "grid_auto_rows": null,
      "grid_column": null,
      "grid_gap": null,
      "grid_row": null,
      "grid_template_areas": null,
      "grid_template_columns": null,
      "grid_template_rows": null,
      "height": null,
      "justify_content": null,
      "justify_items": null,
      "left": null,
      "margin": null,
      "max_height": null,
      "max_width": null,
      "min_height": null,
      "min_width": null,
      "object_fit": null,
      "object_position": null,
      "order": null,
      "overflow": null,
      "overflow_x": null,
      "overflow_y": null,
      "padding": null,
      "right": null,
      "top": null,
      "visibility": null,
      "width": null
     }
    },
    "9d88b888a94940cfa8ad1a580664ec53": {
     "model_module": "@jupyter-widgets/base",
     "model_module_version": "1.2.0",
     "model_name": "LayoutModel",
     "state": {
      "_model_module": "@jupyter-widgets/base",
      "_model_module_version": "1.2.0",
      "_model_name": "LayoutModel",
      "_view_count": null,
      "_view_module": "@jupyter-widgets/base",
      "_view_module_version": "1.2.0",
      "_view_name": "LayoutView",
      "align_content": null,
      "align_items": null,
      "align_self": null,
      "border": null,
      "bottom": null,
      "display": null,
      "flex": null,
      "flex_flow": null,
      "grid_area": null,
      "grid_auto_columns": null,
      "grid_auto_flow": null,
      "grid_auto_rows": null,
      "grid_column": null,
      "grid_gap": null,
      "grid_row": null,
      "grid_template_areas": null,
      "grid_template_columns": null,
      "grid_template_rows": null,
      "height": null,
      "justify_content": null,
      "justify_items": null,
      "left": null,
      "margin": null,
      "max_height": null,
      "max_width": null,
      "min_height": null,
      "min_width": null,
      "object_fit": null,
      "object_position": null,
      "order": null,
      "overflow": null,
      "overflow_x": null,
      "overflow_y": null,
      "padding": null,
      "right": null,
      "top": null,
      "visibility": null,
      "width": null
     }
    },
    "9f81d7baf35243e28b5a64e0ff7c1f8c": {
     "model_module": "@jupyter-widgets/controls",
     "model_module_version": "1.5.0",
     "model_name": "HTMLModel",
     "state": {
      "_dom_classes": [],
      "_model_module": "@jupyter-widgets/controls",
      "_model_module_version": "1.5.0",
      "_model_name": "HTMLModel",
      "_view_count": null,
      "_view_module": "@jupyter-widgets/controls",
      "_view_module_version": "1.5.0",
      "_view_name": "HTMLView",
      "description": "",
      "description_tooltip": null,
      "layout": "IPY_MODEL_3c1d2efb25994cbaa23738eee9e9733f",
      "placeholder": "​",
      "style": "IPY_MODEL_38f1d21c3b824f1fae210f4cc49cdaee",
      "value": "sentence_bert_config.json: 100%"
     }
    },
    "a0e062c68d2f4c6fab2c5b01d518100c": {
     "model_module": "@jupyter-widgets/controls",
     "model_module_version": "1.5.0",
     "model_name": "DescriptionStyleModel",
     "state": {
      "_model_module": "@jupyter-widgets/controls",
      "_model_module_version": "1.5.0",
      "_model_name": "DescriptionStyleModel",
      "_view_count": null,
      "_view_module": "@jupyter-widgets/base",
      "_view_module_version": "1.2.0",
      "_view_name": "StyleView",
      "description_width": ""
     }
    },
    "a1df94cbcc944ced92f31cfe796c79dc": {
     "model_module": "@jupyter-widgets/controls",
     "model_module_version": "1.5.0",
     "model_name": "DescriptionStyleModel",
     "state": {
      "_model_module": "@jupyter-widgets/controls",
      "_model_module_version": "1.5.0",
      "_model_name": "DescriptionStyleModel",
      "_view_count": null,
      "_view_module": "@jupyter-widgets/base",
      "_view_module_version": "1.2.0",
      "_view_name": "StyleView",
      "description_width": ""
     }
    },
    "a44ab456b35740ab89ef9861147829cd": {
     "model_module": "@jupyter-widgets/base",
     "model_module_version": "1.2.0",
     "model_name": "LayoutModel",
     "state": {
      "_model_module": "@jupyter-widgets/base",
      "_model_module_version": "1.2.0",
      "_model_name": "LayoutModel",
      "_view_count": null,
      "_view_module": "@jupyter-widgets/base",
      "_view_module_version": "1.2.0",
      "_view_name": "LayoutView",
      "align_content": null,
      "align_items": null,
      "align_self": null,
      "border": null,
      "bottom": null,
      "display": null,
      "flex": null,
      "flex_flow": null,
      "grid_area": null,
      "grid_auto_columns": null,
      "grid_auto_flow": null,
      "grid_auto_rows": null,
      "grid_column": null,
      "grid_gap": null,
      "grid_row": null,
      "grid_template_areas": null,
      "grid_template_columns": null,
      "grid_template_rows": null,
      "height": null,
      "justify_content": null,
      "justify_items": null,
      "left": null,
      "margin": null,
      "max_height": null,
      "max_width": null,
      "min_height": null,
      "min_width": null,
      "object_fit": null,
      "object_position": null,
      "order": null,
      "overflow": null,
      "overflow_x": null,
      "overflow_y": null,
      "padding": null,
      "right": null,
      "top": null,
      "visibility": null,
      "width": null
     }
    },
    "a489f7427d884fe2a2c40c69635a67aa": {
     "model_module": "@jupyter-widgets/base",
     "model_module_version": "1.2.0",
     "model_name": "LayoutModel",
     "state": {
      "_model_module": "@jupyter-widgets/base",
      "_model_module_version": "1.2.0",
      "_model_name": "LayoutModel",
      "_view_count": null,
      "_view_module": "@jupyter-widgets/base",
      "_view_module_version": "1.2.0",
      "_view_name": "LayoutView",
      "align_content": null,
      "align_items": null,
      "align_self": null,
      "border": null,
      "bottom": null,
      "display": null,
      "flex": null,
      "flex_flow": null,
      "grid_area": null,
      "grid_auto_columns": null,
      "grid_auto_flow": null,
      "grid_auto_rows": null,
      "grid_column": null,
      "grid_gap": null,
      "grid_row": null,
      "grid_template_areas": null,
      "grid_template_columns": null,
      "grid_template_rows": null,
      "height": null,
      "justify_content": null,
      "justify_items": null,
      "left": null,
      "margin": null,
      "max_height": null,
      "max_width": null,
      "min_height": null,
      "min_width": null,
      "object_fit": null,
      "object_position": null,
      "order": null,
      "overflow": null,
      "overflow_x": null,
      "overflow_y": null,
      "padding": null,
      "right": null,
      "top": null,
      "visibility": null,
      "width": null
     }
    },
    "a5a06f3f8fe5434f94b8f7b4d44e3447": {
     "model_module": "@jupyter-widgets/base",
     "model_module_version": "1.2.0",
     "model_name": "LayoutModel",
     "state": {
      "_model_module": "@jupyter-widgets/base",
      "_model_module_version": "1.2.0",
      "_model_name": "LayoutModel",
      "_view_count": null,
      "_view_module": "@jupyter-widgets/base",
      "_view_module_version": "1.2.0",
      "_view_name": "LayoutView",
      "align_content": null,
      "align_items": null,
      "align_self": null,
      "border": null,
      "bottom": null,
      "display": null,
      "flex": null,
      "flex_flow": null,
      "grid_area": null,
      "grid_auto_columns": null,
      "grid_auto_flow": null,
      "grid_auto_rows": null,
      "grid_column": null,
      "grid_gap": null,
      "grid_row": null,
      "grid_template_areas": null,
      "grid_template_columns": null,
      "grid_template_rows": null,
      "height": null,
      "justify_content": null,
      "justify_items": null,
      "left": null,
      "margin": null,
      "max_height": null,
      "max_width": null,
      "min_height": null,
      "min_width": null,
      "object_fit": null,
      "object_position": null,
      "order": null,
      "overflow": null,
      "overflow_x": null,
      "overflow_y": null,
      "padding": null,
      "right": null,
      "top": null,
      "visibility": null,
      "width": null
     }
    },
    "a675e5f8be41452590208658d798c94a": {
     "model_module": "@jupyter-widgets/controls",
     "model_module_version": "1.5.0",
     "model_name": "ProgressStyleModel",
     "state": {
      "_model_module": "@jupyter-widgets/controls",
      "_model_module_version": "1.5.0",
      "_model_name": "ProgressStyleModel",
      "_view_count": null,
      "_view_module": "@jupyter-widgets/base",
      "_view_module_version": "1.2.0",
      "_view_name": "StyleView",
      "bar_color": null,
      "description_width": ""
     }
    },
    "a6e2e46cffb8477e9c6362bea7355211": {
     "model_module": "@jupyter-widgets/base",
     "model_module_version": "1.2.0",
     "model_name": "LayoutModel",
     "state": {
      "_model_module": "@jupyter-widgets/base",
      "_model_module_version": "1.2.0",
      "_model_name": "LayoutModel",
      "_view_count": null,
      "_view_module": "@jupyter-widgets/base",
      "_view_module_version": "1.2.0",
      "_view_name": "LayoutView",
      "align_content": null,
      "align_items": null,
      "align_self": null,
      "border": null,
      "bottom": null,
      "display": null,
      "flex": null,
      "flex_flow": null,
      "grid_area": null,
      "grid_auto_columns": null,
      "grid_auto_flow": null,
      "grid_auto_rows": null,
      "grid_column": null,
      "grid_gap": null,
      "grid_row": null,
      "grid_template_areas": null,
      "grid_template_columns": null,
      "grid_template_rows": null,
      "height": null,
      "justify_content": null,
      "justify_items": null,
      "left": null,
      "margin": null,
      "max_height": null,
      "max_width": null,
      "min_height": null,
      "min_width": null,
      "object_fit": null,
      "object_position": null,
      "order": null,
      "overflow": null,
      "overflow_x": null,
      "overflow_y": null,
      "padding": null,
      "right": null,
      "top": null,
      "visibility": null,
      "width": null
     }
    },
    "a73980dd227742ca85274dfade53a3bd": {
     "model_module": "@jupyter-widgets/controls",
     "model_module_version": "1.5.0",
     "model_name": "DescriptionStyleModel",
     "state": {
      "_model_module": "@jupyter-widgets/controls",
      "_model_module_version": "1.5.0",
      "_model_name": "DescriptionStyleModel",
      "_view_count": null,
      "_view_module": "@jupyter-widgets/base",
      "_view_module_version": "1.2.0",
      "_view_name": "StyleView",
      "description_width": ""
     }
    },
    "acb82e505aee45fb9b361a916128b489": {
     "model_module": "@jupyter-widgets/controls",
     "model_module_version": "1.5.0",
     "model_name": "HTMLModel",
     "state": {
      "_dom_classes": [],
      "_model_module": "@jupyter-widgets/controls",
      "_model_module_version": "1.5.0",
      "_model_name": "HTMLModel",
      "_view_count": null,
      "_view_module": "@jupyter-widgets/controls",
      "_view_module_version": "1.5.0",
      "_view_name": "HTMLView",
      "description": "",
      "description_tooltip": null,
      "layout": "IPY_MODEL_86cdb18f5a194e29aece5d3e9bf65d64",
      "placeholder": "​",
      "style": "IPY_MODEL_66d793205f7a4d67bc6e84335cbe8524",
      "value": "config_sentence_transformers.json: 100%"
     }
    },
    "ae76ca33a1eb4465bcee096661fe7753": {
     "model_module": "@jupyter-widgets/base",
     "model_module_version": "1.2.0",
     "model_name": "LayoutModel",
     "state": {
      "_model_module": "@jupyter-widgets/base",
      "_model_module_version": "1.2.0",
      "_model_name": "LayoutModel",
      "_view_count": null,
      "_view_module": "@jupyter-widgets/base",
      "_view_module_version": "1.2.0",
      "_view_name": "LayoutView",
      "align_content": null,
      "align_items": null,
      "align_self": null,
      "border": null,
      "bottom": null,
      "display": null,
      "flex": null,
      "flex_flow": null,
      "grid_area": null,
      "grid_auto_columns": null,
      "grid_auto_flow": null,
      "grid_auto_rows": null,
      "grid_column": null,
      "grid_gap": null,
      "grid_row": null,
      "grid_template_areas": null,
      "grid_template_columns": null,
      "grid_template_rows": null,
      "height": null,
      "justify_content": null,
      "justify_items": null,
      "left": null,
      "margin": null,
      "max_height": null,
      "max_width": null,
      "min_height": null,
      "min_width": null,
      "object_fit": null,
      "object_position": null,
      "order": null,
      "overflow": null,
      "overflow_x": null,
      "overflow_y": null,
      "padding": null,
      "right": null,
      "top": null,
      "visibility": null,
      "width": null
     }
    },
    "b26458770c72475e91ae393e05ea4d6f": {
     "model_module": "@jupyter-widgets/controls",
     "model_module_version": "1.5.0",
     "model_name": "DescriptionStyleModel",
     "state": {
      "_model_module": "@jupyter-widgets/controls",
      "_model_module_version": "1.5.0",
      "_model_name": "DescriptionStyleModel",
      "_view_count": null,
      "_view_module": "@jupyter-widgets/base",
      "_view_module_version": "1.2.0",
      "_view_name": "StyleView",
      "description_width": ""
     }
    },
    "b4b300bde00d40e18ab9e75383fecf02": {
     "model_module": "@jupyter-widgets/controls",
     "model_module_version": "1.5.0",
     "model_name": "HTMLModel",
     "state": {
      "_dom_classes": [],
      "_model_module": "@jupyter-widgets/controls",
      "_model_module_version": "1.5.0",
      "_model_name": "HTMLModel",
      "_view_count": null,
      "_view_module": "@jupyter-widgets/controls",
      "_view_module_version": "1.5.0",
      "_view_name": "HTMLView",
      "description": "",
      "description_tooltip": null,
      "layout": "IPY_MODEL_2a4c0c1242a8429ebfca3ea2f548966d",
      "placeholder": "​",
      "style": "IPY_MODEL_5f62972b08e648b1bb1282dc85bd3240",
      "value": " 397/397 [00:00&lt;00:00, 25.5kB/s]"
     }
    },
    "b4f1ac904a024a279764fd89c7929ee5": {
     "model_module": "@jupyter-widgets/controls",
     "model_module_version": "1.5.0",
     "model_name": "HBoxModel",
     "state": {
      "_dom_classes": [],
      "_model_module": "@jupyter-widgets/controls",
      "_model_module_version": "1.5.0",
      "_model_name": "HBoxModel",
      "_view_count": null,
      "_view_module": "@jupyter-widgets/controls",
      "_view_module_version": "1.5.0",
      "_view_name": "HBoxView",
      "box_style": "",
      "children": [
       "IPY_MODEL_e319fa9f6f374acba5c462e3f0dd59af",
       "IPY_MODEL_408f7a6c211744b5b2272efd71758039",
       "IPY_MODEL_4c47d3addb4d4af2991177fc763e7531"
      ],
      "layout": "IPY_MODEL_491c292f13f0415f9ce528486060ce9e"
     }
    },
    "b7b006a3f14a44afb23b0331d3a80f6f": {
     "model_module": "@jupyter-widgets/base",
     "model_module_version": "1.2.0",
     "model_name": "LayoutModel",
     "state": {
      "_model_module": "@jupyter-widgets/base",
      "_model_module_version": "1.2.0",
      "_model_name": "LayoutModel",
      "_view_count": null,
      "_view_module": "@jupyter-widgets/base",
      "_view_module_version": "1.2.0",
      "_view_name": "LayoutView",
      "align_content": null,
      "align_items": null,
      "align_self": null,
      "border": null,
      "bottom": null,
      "display": null,
      "flex": null,
      "flex_flow": null,
      "grid_area": null,
      "grid_auto_columns": null,
      "grid_auto_flow": null,
      "grid_auto_rows": null,
      "grid_column": null,
      "grid_gap": null,
      "grid_row": null,
      "grid_template_areas": null,
      "grid_template_columns": null,
      "grid_template_rows": null,
      "height": null,
      "justify_content": null,
      "justify_items": null,
      "left": null,
      "margin": null,
      "max_height": null,
      "max_width": null,
      "min_height": null,
      "min_width": null,
      "object_fit": null,
      "object_position": null,
      "order": null,
      "overflow": null,
      "overflow_x": null,
      "overflow_y": null,
      "padding": null,
      "right": null,
      "top": null,
      "visibility": null,
      "width": null
     }
    },
    "b7bdbdf068d749de8b26bb543ac2ced3": {
     "model_module": "@jupyter-widgets/base",
     "model_module_version": "1.2.0",
     "model_name": "LayoutModel",
     "state": {
      "_model_module": "@jupyter-widgets/base",
      "_model_module_version": "1.2.0",
      "_model_name": "LayoutModel",
      "_view_count": null,
      "_view_module": "@jupyter-widgets/base",
      "_view_module_version": "1.2.0",
      "_view_name": "LayoutView",
      "align_content": null,
      "align_items": null,
      "align_self": null,
      "border": null,
      "bottom": null,
      "display": null,
      "flex": null,
      "flex_flow": null,
      "grid_area": null,
      "grid_auto_columns": null,
      "grid_auto_flow": null,
      "grid_auto_rows": null,
      "grid_column": null,
      "grid_gap": null,
      "grid_row": null,
      "grid_template_areas": null,
      "grid_template_columns": null,
      "grid_template_rows": null,
      "height": null,
      "justify_content": null,
      "justify_items": null,
      "left": null,
      "margin": null,
      "max_height": null,
      "max_width": null,
      "min_height": null,
      "min_width": null,
      "object_fit": null,
      "object_position": null,
      "order": null,
      "overflow": null,
      "overflow_x": null,
      "overflow_y": null,
      "padding": null,
      "right": null,
      "top": null,
      "visibility": null,
      "width": null
     }
    },
    "b8d21f361adf41b4b88a631752adbfff": {
     "model_module": "@jupyter-widgets/base",
     "model_module_version": "1.2.0",
     "model_name": "LayoutModel",
     "state": {
      "_model_module": "@jupyter-widgets/base",
      "_model_module_version": "1.2.0",
      "_model_name": "LayoutModel",
      "_view_count": null,
      "_view_module": "@jupyter-widgets/base",
      "_view_module_version": "1.2.0",
      "_view_name": "LayoutView",
      "align_content": null,
      "align_items": null,
      "align_self": null,
      "border": null,
      "bottom": null,
      "display": null,
      "flex": null,
      "flex_flow": null,
      "grid_area": null,
      "grid_auto_columns": null,
      "grid_auto_flow": null,
      "grid_auto_rows": null,
      "grid_column": null,
      "grid_gap": null,
      "grid_row": null,
      "grid_template_areas": null,
      "grid_template_columns": null,
      "grid_template_rows": null,
      "height": null,
      "justify_content": null,
      "justify_items": null,
      "left": null,
      "margin": null,
      "max_height": null,
      "max_width": null,
      "min_height": null,
      "min_width": null,
      "object_fit": null,
      "object_position": null,
      "order": null,
      "overflow": null,
      "overflow_x": null,
      "overflow_y": null,
      "padding": null,
      "right": null,
      "top": null,
      "visibility": null,
      "width": null
     }
    },
    "be2880141cf14b889596ed69e78cee63": {
     "model_module": "@jupyter-widgets/controls",
     "model_module_version": "1.5.0",
     "model_name": "FloatProgressModel",
     "state": {
      "_dom_classes": [],
      "_model_module": "@jupyter-widgets/controls",
      "_model_module_version": "1.5.0",
      "_model_name": "FloatProgressModel",
      "_view_count": null,
      "_view_module": "@jupyter-widgets/controls",
      "_view_module_version": "1.5.0",
      "_view_name": "ProgressView",
      "bar_style": "success",
      "description": "",
      "description_tooltip": null,
      "layout": "IPY_MODEL_888334d22b15455f8235a7fe0d65cd4d",
      "max": 80,
      "min": 0,
      "orientation": "horizontal",
      "style": "IPY_MODEL_be6b0dab84c841628158ba823da7ed52",
      "value": 80
     }
    },
    "be6b0dab84c841628158ba823da7ed52": {
     "model_module": "@jupyter-widgets/controls",
     "model_module_version": "1.5.0",
     "model_name": "ProgressStyleModel",
     "state": {
      "_model_module": "@jupyter-widgets/controls",
      "_model_module_version": "1.5.0",
      "_model_name": "ProgressStyleModel",
      "_view_count": null,
      "_view_module": "@jupyter-widgets/base",
      "_view_module_version": "1.2.0",
      "_view_name": "StyleView",
      "bar_color": null,
      "description_width": ""
     }
    },
    "bf83610bc3ff45d780b32e3ccbaf8eb5": {
     "model_module": "@jupyter-widgets/base",
     "model_module_version": "1.2.0",
     "model_name": "LayoutModel",
     "state": {
      "_model_module": "@jupyter-widgets/base",
      "_model_module_version": "1.2.0",
      "_model_name": "LayoutModel",
      "_view_count": null,
      "_view_module": "@jupyter-widgets/base",
      "_view_module_version": "1.2.0",
      "_view_name": "LayoutView",
      "align_content": null,
      "align_items": null,
      "align_self": null,
      "border": null,
      "bottom": null,
      "display": null,
      "flex": null,
      "flex_flow": null,
      "grid_area": null,
      "grid_auto_columns": null,
      "grid_auto_flow": null,
      "grid_auto_rows": null,
      "grid_column": null,
      "grid_gap": null,
      "grid_row": null,
      "grid_template_areas": null,
      "grid_template_columns": null,
      "grid_template_rows": null,
      "height": null,
      "justify_content": null,
      "justify_items": null,
      "left": null,
      "margin": null,
      "max_height": null,
      "max_width": null,
      "min_height": null,
      "min_width": null,
      "object_fit": null,
      "object_position": null,
      "order": null,
      "overflow": null,
      "overflow_x": null,
      "overflow_y": null,
      "padding": null,
      "right": null,
      "top": null,
      "visibility": null,
      "width": null
     }
    },
    "bf8930e3193e45a3ac0ea4940170d316": {
     "model_module": "@jupyter-widgets/controls",
     "model_module_version": "1.5.0",
     "model_name": "FloatProgressModel",
     "state": {
      "_dom_classes": [],
      "_model_module": "@jupyter-widgets/controls",
      "_model_module_version": "1.5.0",
      "_model_name": "FloatProgressModel",
      "_view_count": null,
      "_view_module": "@jupyter-widgets/controls",
      "_view_module_version": "1.5.0",
      "_view_name": "ProgressView",
      "bar_style": "success",
      "description": "",
      "description_tooltip": null,
      "layout": "IPY_MODEL_44089dd53ccc4fcf9c053872434e3cb2",
      "max": 370,
      "min": 0,
      "orientation": "horizontal",
      "style": "IPY_MODEL_e86065095b6549f9a45156aaa32c8481",
      "value": 370
     }
    },
    "bfba31f1a47f4003becd5a0441064e4b": {
     "model_module": "@jupyter-widgets/controls",
     "model_module_version": "1.5.0",
     "model_name": "HBoxModel",
     "state": {
      "_dom_classes": [],
      "_model_module": "@jupyter-widgets/controls",
      "_model_module_version": "1.5.0",
      "_model_name": "HBoxModel",
      "_view_count": null,
      "_view_module": "@jupyter-widgets/controls",
      "_view_module_version": "1.5.0",
      "_view_name": "HBoxView",
      "box_style": "",
      "children": [
       "IPY_MODEL_acb82e505aee45fb9b361a916128b489",
       "IPY_MODEL_2ba8bc6f3659461f86679b3b218b2f24",
       "IPY_MODEL_b4b300bde00d40e18ab9e75383fecf02"
      ],
      "layout": "IPY_MODEL_39f399bbde9b4f5ca2ae372d31ea9b1c"
     }
    },
    "c45098fe6c89484da73ef3dfde56e9e9": {
     "model_module": "@jupyter-widgets/base",
     "model_module_version": "1.2.0",
     "model_name": "LayoutModel",
     "state": {
      "_model_module": "@jupyter-widgets/base",
      "_model_module_version": "1.2.0",
      "_model_name": "LayoutModel",
      "_view_count": null,
      "_view_module": "@jupyter-widgets/base",
      "_view_module_version": "1.2.0",
      "_view_name": "LayoutView",
      "align_content": null,
      "align_items": null,
      "align_self": null,
      "border": null,
      "bottom": null,
      "display": null,
      "flex": null,
      "flex_flow": null,
      "grid_area": null,
      "grid_auto_columns": null,
      "grid_auto_flow": null,
      "grid_auto_rows": null,
      "grid_column": null,
      "grid_gap": null,
      "grid_row": null,
      "grid_template_areas": null,
      "grid_template_columns": null,
      "grid_template_rows": null,
      "height": null,
      "justify_content": null,
      "justify_items": null,
      "left": null,
      "margin": null,
      "max_height": null,
      "max_width": null,
      "min_height": null,
      "min_width": null,
      "object_fit": null,
      "object_position": null,
      "order": null,
      "overflow": null,
      "overflow_x": null,
      "overflow_y": null,
      "padding": null,
      "right": null,
      "top": null,
      "visibility": null,
      "width": null
     }
    },
    "c5b402c4d312402799c05eca77c93700": {
     "model_module": "@jupyter-widgets/controls",
     "model_module_version": "1.5.0",
     "model_name": "HTMLModel",
     "state": {
      "_dom_classes": [],
      "_model_module": "@jupyter-widgets/controls",
      "_model_module_version": "1.5.0",
      "_model_name": "HTMLModel",
      "_view_count": null,
      "_view_module": "@jupyter-widgets/controls",
      "_view_module_version": "1.5.0",
      "_view_name": "HTMLView",
      "description": "",
      "description_tooltip": null,
      "layout": "IPY_MODEL_64d0fc9b185f4c9683f718e47e6ddb59",
      "placeholder": "​",
      "style": "IPY_MODEL_3a888bc6667e4422b4f1f70e50f2ea37",
      "value": "model.safetensors: 100%"
     }
    },
    "c657de2e6f124978bd464d9ba8403239": {
     "model_module": "@jupyter-widgets/base",
     "model_module_version": "1.2.0",
     "model_name": "LayoutModel",
     "state": {
      "_model_module": "@jupyter-widgets/base",
      "_model_module_version": "1.2.0",
      "_model_name": "LayoutModel",
      "_view_count": null,
      "_view_module": "@jupyter-widgets/base",
      "_view_module_version": "1.2.0",
      "_view_name": "LayoutView",
      "align_content": null,
      "align_items": null,
      "align_self": null,
      "border": null,
      "bottom": null,
      "display": null,
      "flex": null,
      "flex_flow": null,
      "grid_area": null,
      "grid_auto_columns": null,
      "grid_auto_flow": null,
      "grid_auto_rows": null,
      "grid_column": null,
      "grid_gap": null,
      "grid_row": null,
      "grid_template_areas": null,
      "grid_template_columns": null,
      "grid_template_rows": null,
      "height": null,
      "justify_content": null,
      "justify_items": null,
      "left": null,
      "margin": null,
      "max_height": null,
      "max_width": null,
      "min_height": null,
      "min_width": null,
      "object_fit": null,
      "object_position": null,
      "order": null,
      "overflow": null,
      "overflow_x": null,
      "overflow_y": null,
      "padding": null,
      "right": null,
      "top": null,
      "visibility": null,
      "width": null
     }
    },
    "c758f49c80cd45cd9ac76c951efad429": {
     "model_module": "@jupyter-widgets/controls",
     "model_module_version": "1.5.0",
     "model_name": "DescriptionStyleModel",
     "state": {
      "_model_module": "@jupyter-widgets/controls",
      "_model_module_version": "1.5.0",
      "_model_name": "DescriptionStyleModel",
      "_view_count": null,
      "_view_module": "@jupyter-widgets/base",
      "_view_module_version": "1.2.0",
      "_view_name": "StyleView",
      "description_width": ""
     }
    },
    "c8173ba3bc5345849e36041169b76586": {
     "model_module": "@jupyter-widgets/controls",
     "model_module_version": "1.5.0",
     "model_name": "DescriptionStyleModel",
     "state": {
      "_model_module": "@jupyter-widgets/controls",
      "_model_module_version": "1.5.0",
      "_model_name": "DescriptionStyleModel",
      "_view_count": null,
      "_view_module": "@jupyter-widgets/base",
      "_view_module_version": "1.2.0",
      "_view_name": "StyleView",
      "description_width": ""
     }
    },
    "cc5115e08af34578a118bd78a19c2900": {
     "model_module": "@jupyter-widgets/controls",
     "model_module_version": "1.5.0",
     "model_name": "HTMLModel",
     "state": {
      "_dom_classes": [],
      "_model_module": "@jupyter-widgets/controls",
      "_model_module_version": "1.5.0",
      "_model_name": "HTMLModel",
      "_view_count": null,
      "_view_module": "@jupyter-widgets/controls",
      "_view_module_version": "1.5.0",
      "_view_name": "HTMLView",
      "description": "",
      "description_tooltip": null,
      "layout": "IPY_MODEL_9d1277fbfa8e45a4b8522cdf5ce5116d",
      "placeholder": "​",
      "style": "IPY_MODEL_763fe10369314e66876450b7259f52f7",
      "value": " 6.17G/6.17G [02:26&lt;00:00, 42.1MB/s]"
     }
    },
    "cd0ee35fafa1419e84cd990ffece3a48": {
     "model_module": "@jupyter-widgets/controls",
     "model_module_version": "1.5.0",
     "model_name": "FloatProgressModel",
     "state": {
      "_dom_classes": [],
      "_model_module": "@jupyter-widgets/controls",
      "_model_module_version": "1.5.0",
      "_model_name": "FloatProgressModel",
      "_view_count": null,
      "_view_module": "@jupyter-widgets/controls",
      "_view_module_version": "1.5.0",
      "_view_name": "ProgressView",
      "bar_style": "success",
      "description": "",
      "description_tooltip": null,
      "layout": "IPY_MODEL_530db69948aa4a3db16f2a3b9e017c82",
      "max": 10811,
      "min": 0,
      "orientation": "horizontal",
      "style": "IPY_MODEL_8962b56b5c1545f69d2f35a40a718eab",
      "value": 10811
     }
    },
    "d0816304c62e405c91cfc3c1817d9e4f": {
     "model_module": "@jupyter-widgets/controls",
     "model_module_version": "1.5.0",
     "model_name": "HTMLModel",
     "state": {
      "_dom_classes": [],
      "_model_module": "@jupyter-widgets/controls",
      "_model_module_version": "1.5.0",
      "_model_name": "HTMLModel",
      "_view_count": null,
      "_view_module": "@jupyter-widgets/controls",
      "_view_module_version": "1.5.0",
      "_view_name": "HTMLView",
      "description": "",
      "description_tooltip": null,
      "layout": "IPY_MODEL_c45098fe6c89484da73ef3dfde56e9e9",
      "placeholder": "​",
      "style": "IPY_MODEL_591fd37f75ba4f80a4c27d7ec1fbbb9d",
      "value": "tokenization_qwen.py: 100%"
     }
    },
    "d08d92cda3f44bc6bd6744bcfbbaa10c": {
     "model_module": "@jupyter-widgets/controls",
     "model_module_version": "1.5.0",
     "model_name": "DescriptionStyleModel",
     "state": {
      "_model_module": "@jupyter-widgets/controls",
      "_model_module_version": "1.5.0",
      "_model_name": "DescriptionStyleModel",
      "_view_count": null,
      "_view_module": "@jupyter-widgets/base",
      "_view_module_version": "1.2.0",
      "_view_name": "StyleView",
      "description_width": ""
     }
    },
    "d1cf7782a60745128d870e416ded980b": {
     "model_module": "@jupyter-widgets/controls",
     "model_module_version": "1.5.0",
     "model_name": "DescriptionStyleModel",
     "state": {
      "_model_module": "@jupyter-widgets/controls",
      "_model_module_version": "1.5.0",
      "_model_name": "DescriptionStyleModel",
      "_view_count": null,
      "_view_module": "@jupyter-widgets/base",
      "_view_module_version": "1.2.0",
      "_view_name": "StyleView",
      "description_width": ""
     }
    },
    "d4b811ace3444f89b163fee46551f744": {
     "model_module": "@jupyter-widgets/base",
     "model_module_version": "1.2.0",
     "model_name": "LayoutModel",
     "state": {
      "_model_module": "@jupyter-widgets/base",
      "_model_module_version": "1.2.0",
      "_model_name": "LayoutModel",
      "_view_count": null,
      "_view_module": "@jupyter-widgets/base",
      "_view_module_version": "1.2.0",
      "_view_name": "LayoutView",
      "align_content": null,
      "align_items": null,
      "align_self": null,
      "border": null,
      "bottom": null,
      "display": null,
      "flex": null,
      "flex_flow": null,
      "grid_area": null,
      "grid_auto_columns": null,
      "grid_auto_flow": null,
      "grid_auto_rows": null,
      "grid_column": null,
      "grid_gap": null,
      "grid_row": null,
      "grid_template_areas": null,
      "grid_template_columns": null,
      "grid_template_rows": null,
      "height": null,
      "justify_content": null,
      "justify_items": null,
      "left": null,
      "margin": null,
      "max_height": null,
      "max_width": null,
      "min_height": null,
      "min_width": null,
      "object_fit": null,
      "object_position": null,
      "order": null,
      "overflow": null,
      "overflow_x": null,
      "overflow_y": null,
      "padding": null,
      "right": null,
      "top": null,
      "visibility": null,
      "width": null
     }
    },
    "d5ce1bedbb0b41f1b1c1b07d40776e9c": {
     "model_module": "@jupyter-widgets/controls",
     "model_module_version": "1.5.0",
     "model_name": "HTMLModel",
     "state": {
      "_dom_classes": [],
      "_model_module": "@jupyter-widgets/controls",
      "_model_module_version": "1.5.0",
      "_model_name": "HTMLModel",
      "_view_count": null,
      "_view_module": "@jupyter-widgets/controls",
      "_view_module_version": "1.5.0",
      "_view_name": "HTMLView",
      "description": "",
      "description_tooltip": null,
      "layout": "IPY_MODEL_0dfb8473370b4ecea7a47348962874df",
      "placeholder": "​",
      "style": "IPY_MODEL_d08d92cda3f44bc6bd6744bcfbbaa10c",
      "value": "1_Pooling/config.json: 100%"
     }
    },
    "d6174f2166b64db2bcb7be6cca118f45": {
     "model_module": "@jupyter-widgets/base",
     "model_module_version": "1.2.0",
     "model_name": "LayoutModel",
     "state": {
      "_model_module": "@jupyter-widgets/base",
      "_model_module_version": "1.2.0",
      "_model_name": "LayoutModel",
      "_view_count": null,
      "_view_module": "@jupyter-widgets/base",
      "_view_module_version": "1.2.0",
      "_view_name": "LayoutView",
      "align_content": null,
      "align_items": null,
      "align_self": null,
      "border": null,
      "bottom": null,
      "display": null,
      "flex": null,
      "flex_flow": null,
      "grid_area": null,
      "grid_auto_columns": null,
      "grid_auto_flow": null,
      "grid_auto_rows": null,
      "grid_column": null,
      "grid_gap": null,
      "grid_row": null,
      "grid_template_areas": null,
      "grid_template_columns": null,
      "grid_template_rows": null,
      "height": null,
      "justify_content": null,
      "justify_items": null,
      "left": null,
      "margin": null,
      "max_height": null,
      "max_width": null,
      "min_height": null,
      "min_width": null,
      "object_fit": null,
      "object_position": null,
      "order": null,
      "overflow": null,
      "overflow_x": null,
      "overflow_y": null,
      "padding": null,
      "right": null,
      "top": null,
      "visibility": null,
      "width": null
     }
    },
    "d66de37bf2fb46dab402e812baaef88e": {
     "model_module": "@jupyter-widgets/controls",
     "model_module_version": "1.5.0",
     "model_name": "HTMLModel",
     "state": {
      "_dom_classes": [],
      "_model_module": "@jupyter-widgets/controls",
      "_model_module_version": "1.5.0",
      "_model_name": "HTMLModel",
      "_view_count": null,
      "_view_module": "@jupyter-widgets/controls",
      "_view_module_version": "1.5.0",
      "_view_name": "HTMLView",
      "description": "",
      "description_tooltip": null,
      "layout": "IPY_MODEL_f4f2a3d5f40c4a67add453aa6c843426",
      "placeholder": "​",
      "style": "IPY_MODEL_43109c4a88274dc38fc8a9d606d5cd75",
      "value": " 2.78M/2.78M [00:00&lt;00:00, 29.4MB/s]"
     }
    },
    "d87835ba98cc4cf997271b85695370c6": {
     "model_module": "@jupyter-widgets/controls",
     "model_module_version": "1.5.0",
     "model_name": "DescriptionStyleModel",
     "state": {
      "_model_module": "@jupyter-widgets/controls",
      "_model_module_version": "1.5.0",
      "_model_name": "DescriptionStyleModel",
      "_view_count": null,
      "_view_module": "@jupyter-widgets/base",
      "_view_module_version": "1.2.0",
      "_view_name": "StyleView",
      "description_width": ""
     }
    },
    "da360a0f56644b0baab32bbfb2050eb1": {
     "model_module": "@jupyter-widgets/controls",
     "model_module_version": "1.5.0",
     "model_name": "HTMLModel",
     "state": {
      "_dom_classes": [],
      "_model_module": "@jupyter-widgets/controls",
      "_model_module_version": "1.5.0",
      "_model_name": "HTMLModel",
      "_view_count": null,
      "_view_module": "@jupyter-widgets/controls",
      "_view_module_version": "1.5.0",
      "_view_name": "HTMLView",
      "description": "",
      "description_tooltip": null,
      "layout": "IPY_MODEL_40a7dec1c6a14544971109b7677321b7",
      "placeholder": "​",
      "style": "IPY_MODEL_4e70b90e0d4845b3b4fe90d07efe8dbd",
      "value": " 1.31k/1.31k [00:00&lt;00:00, 93.3kB/s]"
     }
    },
    "db5c9a8097354fa1886db8861a98b05b": {
     "model_module": "@jupyter-widgets/controls",
     "model_module_version": "1.5.0",
     "model_name": "HTMLModel",
     "state": {
      "_dom_classes": [],
      "_model_module": "@jupyter-widgets/controls",
      "_model_module_version": "1.5.0",
      "_model_name": "HTMLModel",
      "_view_count": null,
      "_view_module": "@jupyter-widgets/controls",
      "_view_module_version": "1.5.0",
      "_view_name": "HTMLView",
      "description": "",
      "description_tooltip": null,
      "layout": "IPY_MODEL_b8d21f361adf41b4b88a631752adbfff",
      "placeholder": "​",
      "style": "IPY_MODEL_1b8a4b72c3344c949d1101f4fc28c34e",
      "value": " 1.67M/1.67M [00:00&lt;00:00, 18.8MB/s]"
     }
    },
    "dd4d0d438f8d4f47be83746313082749": {
     "model_module": "@jupyter-widgets/controls",
     "model_module_version": "1.5.0",
     "model_name": "HTMLModel",
     "state": {
      "_dom_classes": [],
      "_model_module": "@jupyter-widgets/controls",
      "_model_module_version": "1.5.0",
      "_model_name": "HTMLModel",
      "_view_count": null,
      "_view_module": "@jupyter-widgets/controls",
      "_view_module_version": "1.5.0",
      "_view_name": "HTMLView",
      "description": "",
      "description_tooltip": null,
      "layout": "IPY_MODEL_16139a1858dc4ec5b159864dafdcd69d",
      "placeholder": "​",
      "style": "IPY_MODEL_0aa298220b894b70ab30f60b6e8796bb",
      "value": " 6.30M/6.30M [00:00&lt;00:00, 32.6MB/s]"
     }
    },
    "dd842bd25bbe4a9794378117fdd53884": {
     "model_module": "@jupyter-widgets/controls",
     "model_module_version": "1.5.0",
     "model_name": "HTMLModel",
     "state": {
      "_dom_classes": [],
      "_model_module": "@jupyter-widgets/controls",
      "_model_module_version": "1.5.0",
      "_model_name": "HTMLModel",
      "_view_count": null,
      "_view_module": "@jupyter-widgets/controls",
      "_view_module_version": "1.5.0",
      "_view_name": "HTMLView",
      "description": "",
      "description_tooltip": null,
      "layout": "IPY_MODEL_4281231a3af44dd98154f22ac11e8ea0",
      "placeholder": "​",
      "style": "IPY_MODEL_26c6e6a2ec3b40a28103a2691f1f5ac5",
      "value": " 122/122 [00:00&lt;00:00, 5.66kB/s]"
     }
    },
    "e1067efd482b40fdbfe84e86ee424f71": {
     "model_module": "@jupyter-widgets/controls",
     "model_module_version": "1.5.0",
     "model_name": "HTMLModel",
     "state": {
      "_dom_classes": [],
      "_model_module": "@jupyter-widgets/controls",
      "_model_module_version": "1.5.0",
      "_model_name": "HTMLModel",
      "_view_count": null,
      "_view_module": "@jupyter-widgets/controls",
      "_view_module_version": "1.5.0",
      "_view_name": "HTMLView",
      "description": "",
      "description_tooltip": null,
      "layout": "IPY_MODEL_d4b811ace3444f89b163fee46551f744",
      "placeholder": "​",
      "style": "IPY_MODEL_4552272947b04babbfcbc49b2f273cb0",
      "value": "2_Dense_1024/config.json: 100%"
     }
    },
    "e121871dd70e410e924e057c4e8898ef": {
     "model_module": "@jupyter-widgets/controls",
     "model_module_version": "1.5.0",
     "model_name": "ProgressStyleModel",
     "state": {
      "_model_module": "@jupyter-widgets/controls",
      "_model_module_version": "1.5.0",
      "_model_name": "ProgressStyleModel",
      "_view_count": null,
      "_view_module": "@jupyter-widgets/base",
      "_view_module_version": "1.2.0",
      "_view_name": "StyleView",
      "bar_color": null,
      "description_width": ""
     }
    },
    "e2402c5f19ab43eab0acddfc00a31315": {
     "model_module": "@jupyter-widgets/base",
     "model_module_version": "1.2.0",
     "model_name": "LayoutModel",
     "state": {
      "_model_module": "@jupyter-widgets/base",
      "_model_module_version": "1.2.0",
      "_model_name": "LayoutModel",
      "_view_count": null,
      "_view_module": "@jupyter-widgets/base",
      "_view_module_version": "1.2.0",
      "_view_name": "LayoutView",
      "align_content": null,
      "align_items": null,
      "align_self": null,
      "border": null,
      "bottom": null,
      "display": null,
      "flex": null,
      "flex_flow": null,
      "grid_area": null,
      "grid_auto_columns": null,
      "grid_auto_flow": null,
      "grid_auto_rows": null,
      "grid_column": null,
      "grid_gap": null,
      "grid_row": null,
      "grid_template_areas": null,
      "grid_template_columns": null,
      "grid_template_rows": null,
      "height": null,
      "justify_content": null,
      "justify_items": null,
      "left": null,
      "margin": null,
      "max_height": null,
      "max_width": null,
      "min_height": null,
      "min_width": null,
      "object_fit": null,
      "object_position": null,
      "order": null,
      "overflow": null,
      "overflow_x": null,
      "overflow_y": null,
      "padding": null,
      "right": null,
      "top": null,
      "visibility": null,
      "width": null
     }
    },
    "e319fa9f6f374acba5c462e3f0dd59af": {
     "model_module": "@jupyter-widgets/controls",
     "model_module_version": "1.5.0",
     "model_name": "HTMLModel",
     "state": {
      "_dom_classes": [],
      "_model_module": "@jupyter-widgets/controls",
      "_model_module_version": "1.5.0",
      "_model_name": "HTMLModel",
      "_view_count": null,
      "_view_module": "@jupyter-widgets/controls",
      "_view_module_version": "1.5.0",
      "_view_name": "HTMLView",
      "description": "",
      "description_tooltip": null,
      "layout": "IPY_MODEL_f131b09f8b0042bf96820b8615757975",
      "placeholder": "​",
      "style": "IPY_MODEL_414dddcdd547403aa5a30a64bb2a2454",
      "value": "config.json: 100%"
     }
    },
    "e3fdcafbdf3c42b9bb19e9893757e70d": {
     "model_module": "@jupyter-widgets/base",
     "model_module_version": "1.2.0",
     "model_name": "LayoutModel",
     "state": {
      "_model_module": "@jupyter-widgets/base",
      "_model_module_version": "1.2.0",
      "_model_name": "LayoutModel",
      "_view_count": null,
      "_view_module": "@jupyter-widgets/base",
      "_view_module_version": "1.2.0",
      "_view_name": "LayoutView",
      "align_content": null,
      "align_items": null,
      "align_self": null,
      "border": null,
      "bottom": null,
      "display": null,
      "flex": null,
      "flex_flow": null,
      "grid_area": null,
      "grid_auto_columns": null,
      "grid_auto_flow": null,
      "grid_auto_rows": null,
      "grid_column": null,
      "grid_gap": null,
      "grid_row": null,
      "grid_template_areas": null,
      "grid_template_columns": null,
      "grid_template_rows": null,
      "height": null,
      "justify_content": null,
      "justify_items": null,
      "left": null,
      "margin": null,
      "max_height": null,
      "max_width": null,
      "min_height": null,
      "min_width": null,
      "object_fit": null,
      "object_position": null,
      "order": null,
      "overflow": null,
      "overflow_x": null,
      "overflow_y": null,
      "padding": null,
      "right": null,
      "top": null,
      "visibility": null,
      "width": null
     }
    },
    "e6529185ee5548f99371e1add7be6310": {
     "model_module": "@jupyter-widgets/controls",
     "model_module_version": "1.5.0",
     "model_name": "HTMLModel",
     "state": {
      "_dom_classes": [],
      "_model_module": "@jupyter-widgets/controls",
      "_model_module_version": "1.5.0",
      "_model_name": "HTMLModel",
      "_view_count": null,
      "_view_module": "@jupyter-widgets/controls",
      "_view_module_version": "1.5.0",
      "_view_name": "HTMLView",
      "description": "",
      "description_tooltip": null,
      "layout": "IPY_MODEL_0ada76009163415ba7b27fcfb1810da0",
      "placeholder": "​",
      "style": "IPY_MODEL_c8173ba3bc5345849e36041169b76586",
      "value": "vocab.json: 100%"
     }
    },
    "e6dd21d8dba74cdfabd5dcbefa681f89": {
     "model_module": "@jupyter-widgets/controls",
     "model_module_version": "1.5.0",
     "model_name": "FloatProgressModel",
     "state": {
      "_dom_classes": [],
      "_model_module": "@jupyter-widgets/controls",
      "_model_module_version": "1.5.0",
      "_model_name": "FloatProgressModel",
      "_view_count": null,
      "_view_module": "@jupyter-widgets/controls",
      "_view_module_version": "1.5.0",
      "_view_name": "ProgressView",
      "bar_style": "success",
      "description": "",
      "description_tooltip": null,
      "layout": "IPY_MODEL_ff2748a7d22647fb9f8a7c0d21467ed5",
      "max": 6295744,
      "min": 0,
      "orientation": "horizontal",
      "style": "IPY_MODEL_8c7c69ddfaf64b5482a7e1a79e0e4667",
      "value": 6295744
     }
    },
    "e750e909f1134962b17eb4205a0b82c0": {
     "model_module": "@jupyter-widgets/controls",
     "model_module_version": "1.5.0",
     "model_name": "HBoxModel",
     "state": {
      "_dom_classes": [],
      "_model_module": "@jupyter-widgets/controls",
      "_model_module_version": "1.5.0",
      "_model_name": "HBoxModel",
      "_view_count": null,
      "_view_module": "@jupyter-widgets/controls",
      "_view_module_version": "1.5.0",
      "_view_name": "HBoxView",
      "box_style": "",
      "children": [
       "IPY_MODEL_4c941244f0ea481aa3b5c5df4f15a002",
       "IPY_MODEL_7e3aa1d049474db8837169f48e26d7cb",
       "IPY_MODEL_edb9402027f14a1abdc105a64e3570fd"
      ],
      "layout": "IPY_MODEL_a44ab456b35740ab89ef9861147829cd"
     }
    },
    "e86065095b6549f9a45156aaa32c8481": {
     "model_module": "@jupyter-widgets/controls",
     "model_module_version": "1.5.0",
     "model_name": "ProgressStyleModel",
     "state": {
      "_model_module": "@jupyter-widgets/controls",
      "_model_module_version": "1.5.0",
      "_model_name": "ProgressStyleModel",
      "_view_count": null,
      "_view_module": "@jupyter-widgets/base",
      "_view_module_version": "1.2.0",
      "_view_name": "StyleView",
      "bar_color": null,
      "description_width": ""
     }
    },
    "ead419ce05b04e6dbdd516b0c5a1711f": {
     "model_module": "@jupyter-widgets/base",
     "model_module_version": "1.2.0",
     "model_name": "LayoutModel",
     "state": {
      "_model_module": "@jupyter-widgets/base",
      "_model_module_version": "1.2.0",
      "_model_name": "LayoutModel",
      "_view_count": null,
      "_view_module": "@jupyter-widgets/base",
      "_view_module_version": "1.2.0",
      "_view_name": "LayoutView",
      "align_content": null,
      "align_items": null,
      "align_self": null,
      "border": null,
      "bottom": null,
      "display": null,
      "flex": null,
      "flex_flow": null,
      "grid_area": null,
      "grid_auto_columns": null,
      "grid_auto_flow": null,
      "grid_auto_rows": null,
      "grid_column": null,
      "grid_gap": null,
      "grid_row": null,
      "grid_template_areas": null,
      "grid_template_columns": null,
      "grid_template_rows": null,
      "height": null,
      "justify_content": null,
      "justify_items": null,
      "left": null,
      "margin": null,
      "max_height": null,
      "max_width": null,
      "min_height": null,
      "min_width": null,
      "object_fit": null,
      "object_position": null,
      "order": null,
      "overflow": null,
      "overflow_x": null,
      "overflow_y": null,
      "padding": null,
      "right": null,
      "top": null,
      "visibility": null,
      "width": null
     }
    },
    "ebf390d1a4e1434bae3c8cba1749c0e8": {
     "model_module": "@jupyter-widgets/controls",
     "model_module_version": "1.5.0",
     "model_name": "HBoxModel",
     "state": {
      "_dom_classes": [],
      "_model_module": "@jupyter-widgets/controls",
      "_model_module_version": "1.5.0",
      "_model_name": "HBoxModel",
      "_view_count": null,
      "_view_module": "@jupyter-widgets/controls",
      "_view_module_version": "1.5.0",
      "_view_name": "HBoxView",
      "box_style": "",
      "children": [
       "IPY_MODEL_d0816304c62e405c91cfc3c1817d9e4f",
       "IPY_MODEL_cd0ee35fafa1419e84cd990ffece3a48",
       "IPY_MODEL_94a61c1306ca493d87da06a5e7cfafd7"
      ],
      "layout": "IPY_MODEL_c657de2e6f124978bd464d9ba8403239"
     }
    },
    "ecc1237c87bb43b991fa8038c392c1c5": {
     "model_module": "@jupyter-widgets/controls",
     "model_module_version": "1.5.0",
     "model_name": "HBoxModel",
     "state": {
      "_dom_classes": [],
      "_model_module": "@jupyter-widgets/controls",
      "_model_module_version": "1.5.0",
      "_model_name": "HBoxModel",
      "_view_count": null,
      "_view_module": "@jupyter-widgets/controls",
      "_view_module_version": "1.5.0",
      "_view_name": "HBoxView",
      "box_style": "",
      "children": [
       "IPY_MODEL_36b49368ee064ba19dceafec256a5336",
       "IPY_MODEL_7498e3fcc72347d4bcc5cfe4e20ee91b",
       "IPY_MODEL_4a4527dada434aab99e2532abbe58138"
      ],
      "layout": "IPY_MODEL_09c928c1123e425c96b90ba90ada0039"
     }
    },
    "ed9473c2f8304d0fb3f084ea4c924335": {
     "model_module": "@jupyter-widgets/controls",
     "model_module_version": "1.5.0",
     "model_name": "FloatProgressModel",
     "state": {
      "_dom_classes": [],
      "_model_module": "@jupyter-widgets/controls",
      "_model_module_version": "1.5.0",
      "_model_name": "FloatProgressModel",
      "_view_count": null,
      "_view_module": "@jupyter-widgets/controls",
      "_view_module_version": "1.5.0",
      "_view_name": "ProgressView",
      "bar_style": "success",
      "description": "",
      "description_tooltip": null,
      "layout": "IPY_MODEL_457c06bc84704fae85acf6542c45faa5",
      "max": 65308,
      "min": 0,
      "orientation": "horizontal",
      "style": "IPY_MODEL_0d3ea15b5a164c3b8752f90fb7f1dd06",
      "value": 65308
     }
    },
    "edb9402027f14a1abdc105a64e3570fd": {
     "model_module": "@jupyter-widgets/controls",
     "model_module_version": "1.5.0",
     "model_name": "HTMLModel",
     "state": {
      "_dom_classes": [],
      "_model_module": "@jupyter-widgets/controls",
      "_model_module_version": "1.5.0",
      "_model_name": "HTMLModel",
      "_view_count": null,
      "_view_module": "@jupyter-widgets/controls",
      "_view_module_version": "1.5.0",
      "_view_name": "HTMLView",
      "description": "",
      "description_tooltip": null,
      "layout": "IPY_MODEL_a5a06f3f8fe5434f94b8f7b4d44e3447",
      "placeholder": "​",
      "style": "IPY_MODEL_a0e062c68d2f4c6fab2c5b01d518100c",
      "value": " 6.30M/6.30M [00:00&lt;00:00, 18.9MB/s]"
     }
    },
    "eedfe82821154cd29e29385edceb9d0e": {
     "model_module": "@jupyter-widgets/controls",
     "model_module_version": "1.5.0",
     "model_name": "ProgressStyleModel",
     "state": {
      "_model_module": "@jupyter-widgets/controls",
      "_model_module_version": "1.5.0",
      "_model_name": "ProgressStyleModel",
      "_view_count": null,
      "_view_module": "@jupyter-widgets/base",
      "_view_module_version": "1.2.0",
      "_view_name": "StyleView",
      "bar_color": null,
      "description_width": ""
     }
    },
    "f131b09f8b0042bf96820b8615757975": {
     "model_module": "@jupyter-widgets/base",
     "model_module_version": "1.2.0",
     "model_name": "LayoutModel",
     "state": {
      "_model_module": "@jupyter-widgets/base",
      "_model_module_version": "1.2.0",
      "_model_name": "LayoutModel",
      "_view_count": null,
      "_view_module": "@jupyter-widgets/base",
      "_view_module_version": "1.2.0",
      "_view_name": "LayoutView",
      "align_content": null,
      "align_items": null,
      "align_self": null,
      "border": null,
      "bottom": null,
      "display": null,
      "flex": null,
      "flex_flow": null,
      "grid_area": null,
      "grid_auto_columns": null,
      "grid_auto_flow": null,
      "grid_auto_rows": null,
      "grid_column": null,
      "grid_gap": null,
      "grid_row": null,
      "grid_template_areas": null,
      "grid_template_columns": null,
      "grid_template_rows": null,
      "height": null,
      "justify_content": null,
      "justify_items": null,
      "left": null,
      "margin": null,
      "max_height": null,
      "max_width": null,
      "min_height": null,
      "min_width": null,
      "object_fit": null,
      "object_position": null,
      "order": null,
      "overflow": null,
      "overflow_x": null,
      "overflow_y": null,
      "padding": null,
      "right": null,
      "top": null,
      "visibility": null,
      "width": null
     }
    },
    "f197da552a0446b5a81525302d8899de": {
     "model_module": "@jupyter-widgets/controls",
     "model_module_version": "1.5.0",
     "model_name": "DescriptionStyleModel",
     "state": {
      "_model_module": "@jupyter-widgets/controls",
      "_model_module_version": "1.5.0",
      "_model_name": "DescriptionStyleModel",
      "_view_count": null,
      "_view_module": "@jupyter-widgets/base",
      "_view_module_version": "1.2.0",
      "_view_name": "StyleView",
      "description_width": ""
     }
    },
    "f1beae07cf3241ddbe519b60b6de49e1": {
     "model_module": "@jupyter-widgets/controls",
     "model_module_version": "1.5.0",
     "model_name": "HBoxModel",
     "state": {
      "_dom_classes": [],
      "_model_module": "@jupyter-widgets/controls",
      "_model_module_version": "1.5.0",
      "_model_name": "HBoxModel",
      "_view_count": null,
      "_view_module": "@jupyter-widgets/controls",
      "_view_module_version": "1.5.0",
      "_view_name": "HBoxView",
      "box_style": "",
      "children": [
       "IPY_MODEL_9f81d7baf35243e28b5a64e0ff7c1f8c",
       "IPY_MODEL_720672ded9e142a99e3302cd4ddab677",
       "IPY_MODEL_301eef7f313448b8bb8af4a61811eb65"
      ],
      "layout": "IPY_MODEL_38e8e974434141cb8c60903b5a57a6ed"
     }
    },
    "f200e2f72ac74d07ac7dad2a427a0a0f": {
     "model_module": "@jupyter-widgets/base",
     "model_module_version": "1.2.0",
     "model_name": "LayoutModel",
     "state": {
      "_model_module": "@jupyter-widgets/base",
      "_model_module_version": "1.2.0",
      "_model_name": "LayoutModel",
      "_view_count": null,
      "_view_module": "@jupyter-widgets/base",
      "_view_module_version": "1.2.0",
      "_view_name": "LayoutView",
      "align_content": null,
      "align_items": null,
      "align_self": null,
      "border": null,
      "bottom": null,
      "display": null,
      "flex": null,
      "flex_flow": null,
      "grid_area": null,
      "grid_auto_columns": null,
      "grid_auto_flow": null,
      "grid_auto_rows": null,
      "grid_column": null,
      "grid_gap": null,
      "grid_row": null,
      "grid_template_areas": null,
      "grid_template_columns": null,
      "grid_template_rows": null,
      "height": null,
      "justify_content": null,
      "justify_items": null,
      "left": null,
      "margin": null,
      "max_height": null,
      "max_width": null,
      "min_height": null,
      "min_width": null,
      "object_fit": null,
      "object_position": null,
      "order": null,
      "overflow": null,
      "overflow_x": null,
      "overflow_y": null,
      "padding": null,
      "right": null,
      "top": null,
      "visibility": null,
      "width": null
     }
    },
    "f41e3695d91e4e6d80a4a3bda972520c": {
     "model_module": "@jupyter-widgets/controls",
     "model_module_version": "1.5.0",
     "model_name": "HBoxModel",
     "state": {
      "_dom_classes": [],
      "_model_module": "@jupyter-widgets/controls",
      "_model_module_version": "1.5.0",
      "_model_name": "HBoxModel",
      "_view_count": null,
      "_view_module": "@jupyter-widgets/controls",
      "_view_module_version": "1.5.0",
      "_view_name": "HBoxView",
      "box_style": "",
      "children": [
       "IPY_MODEL_1160dde5b89848e4b50190003b619bf8",
       "IPY_MODEL_155d4a49db99433b9b296c6b8ecbf8e1",
       "IPY_MODEL_457528549bc84a8e9d350a42b3092fe1"
      ],
      "layout": "IPY_MODEL_93739977e0494b8f9578488ad1aa7c12"
     }
    },
    "f4761a10afe74bfd97bbcf29a12c90d6": {
     "model_module": "@jupyter-widgets/base",
     "model_module_version": "1.2.0",
     "model_name": "LayoutModel",
     "state": {
      "_model_module": "@jupyter-widgets/base",
      "_model_module_version": "1.2.0",
      "_model_name": "LayoutModel",
      "_view_count": null,
      "_view_module": "@jupyter-widgets/base",
      "_view_module_version": "1.2.0",
      "_view_name": "LayoutView",
      "align_content": null,
      "align_items": null,
      "align_self": null,
      "border": null,
      "bottom": null,
      "display": null,
      "flex": null,
      "flex_flow": null,
      "grid_area": null,
      "grid_auto_columns": null,
      "grid_auto_flow": null,
      "grid_auto_rows": null,
      "grid_column": null,
      "grid_gap": null,
      "grid_row": null,
      "grid_template_areas": null,
      "grid_template_columns": null,
      "grid_template_rows": null,
      "height": null,
      "justify_content": null,
      "justify_items": null,
      "left": null,
      "margin": null,
      "max_height": null,
      "max_width": null,
      "min_height": null,
      "min_width": null,
      "object_fit": null,
      "object_position": null,
      "order": null,
      "overflow": null,
      "overflow_x": null,
      "overflow_y": null,
      "padding": null,
      "right": null,
      "top": null,
      "visibility": null,
      "width": null
     }
    },
    "f4f2a3d5f40c4a67add453aa6c843426": {
     "model_module": "@jupyter-widgets/base",
     "model_module_version": "1.2.0",
     "model_name": "LayoutModel",
     "state": {
      "_model_module": "@jupyter-widgets/base",
      "_model_module_version": "1.2.0",
      "_model_name": "LayoutModel",
      "_view_count": null,
      "_view_module": "@jupyter-widgets/base",
      "_view_module_version": "1.2.0",
      "_view_name": "LayoutView",
      "align_content": null,
      "align_items": null,
      "align_self": null,
      "border": null,
      "bottom": null,
      "display": null,
      "flex": null,
      "flex_flow": null,
      "grid_area": null,
      "grid_auto_columns": null,
      "grid_auto_flow": null,
      "grid_auto_rows": null,
      "grid_column": null,
      "grid_gap": null,
      "grid_row": null,
      "grid_template_areas": null,
      "grid_template_columns": null,
      "grid_template_rows": null,
      "height": null,
      "justify_content": null,
      "justify_items": null,
      "left": null,
      "margin": null,
      "max_height": null,
      "max_width": null,
      "min_height": null,
      "min_width": null,
      "object_fit": null,
      "object_position": null,
      "order": null,
      "overflow": null,
      "overflow_x": null,
      "overflow_y": null,
      "padding": null,
      "right": null,
      "top": null,
      "visibility": null,
      "width": null
     }
    },
    "f599133d0dfb4b2590f9deddf1f1ba21": {
     "model_module": "@jupyter-widgets/base",
     "model_module_version": "1.2.0",
     "model_name": "LayoutModel",
     "state": {
      "_model_module": "@jupyter-widgets/base",
      "_model_module_version": "1.2.0",
      "_model_name": "LayoutModel",
      "_view_count": null,
      "_view_module": "@jupyter-widgets/base",
      "_view_module_version": "1.2.0",
      "_view_name": "LayoutView",
      "align_content": null,
      "align_items": null,
      "align_self": null,
      "border": null,
      "bottom": null,
      "display": null,
      "flex": null,
      "flex_flow": null,
      "grid_area": null,
      "grid_auto_columns": null,
      "grid_auto_flow": null,
      "grid_auto_rows": null,
      "grid_column": null,
      "grid_gap": null,
      "grid_row": null,
      "grid_template_areas": null,
      "grid_template_columns": null,
      "grid_template_rows": null,
      "height": null,
      "justify_content": null,
      "justify_items": null,
      "left": null,
      "margin": null,
      "max_height": null,
      "max_width": null,
      "min_height": null,
      "min_width": null,
      "object_fit": null,
      "object_position": null,
      "order": null,
      "overflow": null,
      "overflow_x": null,
      "overflow_y": null,
      "padding": null,
      "right": null,
      "top": null,
      "visibility": null,
      "width": null
     }
    },
    "f5e34faa167f4f318d2c8e9ec3e86eb3": {
     "model_module": "@jupyter-widgets/base",
     "model_module_version": "1.2.0",
     "model_name": "LayoutModel",
     "state": {
      "_model_module": "@jupyter-widgets/base",
      "_model_module_version": "1.2.0",
      "_model_name": "LayoutModel",
      "_view_count": null,
      "_view_module": "@jupyter-widgets/base",
      "_view_module_version": "1.2.0",
      "_view_name": "LayoutView",
      "align_content": null,
      "align_items": null,
      "align_self": null,
      "border": null,
      "bottom": null,
      "display": null,
      "flex": null,
      "flex_flow": null,
      "grid_area": null,
      "grid_auto_columns": null,
      "grid_auto_flow": null,
      "grid_auto_rows": null,
      "grid_column": null,
      "grid_gap": null,
      "grid_row": null,
      "grid_template_areas": null,
      "grid_template_columns": null,
      "grid_template_rows": null,
      "height": null,
      "justify_content": null,
      "justify_items": null,
      "left": null,
      "margin": null,
      "max_height": null,
      "max_width": null,
      "min_height": null,
      "min_width": null,
      "object_fit": null,
      "object_position": null,
      "order": null,
      "overflow": null,
      "overflow_x": null,
      "overflow_y": null,
      "padding": null,
      "right": null,
      "top": null,
      "visibility": null,
      "width": null
     }
    },
    "f922b1f0accf436a89274829dbc0f686": {
     "model_module": "@jupyter-widgets/base",
     "model_module_version": "1.2.0",
     "model_name": "LayoutModel",
     "state": {
      "_model_module": "@jupyter-widgets/base",
      "_model_module_version": "1.2.0",
      "_model_name": "LayoutModel",
      "_view_count": null,
      "_view_module": "@jupyter-widgets/base",
      "_view_module_version": "1.2.0",
      "_view_name": "LayoutView",
      "align_content": null,
      "align_items": null,
      "align_self": null,
      "border": null,
      "bottom": null,
      "display": null,
      "flex": null,
      "flex_flow": null,
      "grid_area": null,
      "grid_auto_columns": null,
      "grid_auto_flow": null,
      "grid_auto_rows": null,
      "grid_column": null,
      "grid_gap": null,
      "grid_row": null,
      "grid_template_areas": null,
      "grid_template_columns": null,
      "grid_template_rows": null,
      "height": null,
      "justify_content": null,
      "justify_items": null,
      "left": null,
      "margin": null,
      "max_height": null,
      "max_width": null,
      "min_height": null,
      "min_width": null,
      "object_fit": null,
      "object_position": null,
      "order": null,
      "overflow": null,
      "overflow_x": null,
      "overflow_y": null,
      "padding": null,
      "right": null,
      "top": null,
      "visibility": null,
      "width": null
     }
    },
    "fc263bd8cb5a4cddb10318776c2c2aa5": {
     "model_module": "@jupyter-widgets/controls",
     "model_module_version": "1.5.0",
     "model_name": "HTMLModel",
     "state": {
      "_dom_classes": [],
      "_model_module": "@jupyter-widgets/controls",
      "_model_module_version": "1.5.0",
      "_model_name": "HTMLModel",
      "_view_count": null,
      "_view_module": "@jupyter-widgets/controls",
      "_view_module_version": "1.5.0",
      "_view_name": "HTMLView",
      "description": "",
      "description_tooltip": null,
      "layout": "IPY_MODEL_e3fdcafbdf3c42b9bb19e9893757e70d",
      "placeholder": "​",
      "style": "IPY_MODEL_d1cf7782a60745128d870e416ded980b",
      "value": " 7.03M/7.03M [00:00&lt;00:00, 7.97MB/s]"
     }
    },
    "fd1f134c70834d8b8acad29ad90a6474": {
     "model_module": "@jupyter-widgets/controls",
     "model_module_version": "1.5.0",
     "model_name": "HBoxModel",
     "state": {
      "_dom_classes": [],
      "_model_module": "@jupyter-widgets/controls",
      "_model_module_version": "1.5.0",
      "_model_name": "HBoxModel",
      "_view_count": null,
      "_view_module": "@jupyter-widgets/controls",
      "_view_module_version": "1.5.0",
      "_view_name": "HBoxView",
      "box_style": "",
      "children": [
       "IPY_MODEL_4d40903cc8054533b849e48b8046bcc0",
       "IPY_MODEL_2d82f633f0054c5dba772101bb5827d4",
       "IPY_MODEL_db5c9a8097354fa1886db8861a98b05b"
      ],
      "layout": "IPY_MODEL_7111d2f0086d42cfbc6bbdafb023bf7d"
     }
    },
    "fddb8385a0f4448d87594745b307c6b5": {
     "model_module": "@jupyter-widgets/base",
     "model_module_version": "1.2.0",
     "model_name": "LayoutModel",
     "state": {
      "_model_module": "@jupyter-widgets/base",
      "_model_module_version": "1.2.0",
      "_model_name": "LayoutModel",
      "_view_count": null,
      "_view_module": "@jupyter-widgets/base",
      "_view_module_version": "1.2.0",
      "_view_name": "LayoutView",
      "align_content": null,
      "align_items": null,
      "align_self": null,
      "border": null,
      "bottom": null,
      "display": null,
      "flex": null,
      "flex_flow": null,
      "grid_area": null,
      "grid_auto_columns": null,
      "grid_auto_flow": null,
      "grid_auto_rows": null,
      "grid_column": null,
      "grid_gap": null,
      "grid_row": null,
      "grid_template_areas": null,
      "grid_template_columns": null,
      "grid_template_rows": null,
      "height": null,
      "justify_content": null,
      "justify_items": null,
      "left": null,
      "margin": null,
      "max_height": null,
      "max_width": null,
      "min_height": null,
      "min_width": null,
      "object_fit": null,
      "object_position": null,
      "order": null,
      "overflow": null,
      "overflow_x": null,
      "overflow_y": null,
      "padding": null,
      "right": null,
      "top": null,
      "visibility": null,
      "width": null
     }
    },
    "ff2748a7d22647fb9f8a7c0d21467ed5": {
     "model_module": "@jupyter-widgets/base",
     "model_module_version": "1.2.0",
     "model_name": "LayoutModel",
     "state": {
      "_model_module": "@jupyter-widgets/base",
      "_model_module_version": "1.2.0",
      "_model_name": "LayoutModel",
      "_view_count": null,
      "_view_module": "@jupyter-widgets/base",
      "_view_module_version": "1.2.0",
      "_view_name": "LayoutView",
      "align_content": null,
      "align_items": null,
      "align_self": null,
      "border": null,
      "bottom": null,
      "display": null,
      "flex": null,
      "flex_flow": null,
      "grid_area": null,
      "grid_auto_columns": null,
      "grid_auto_flow": null,
      "grid_auto_rows": null,
      "grid_column": null,
      "grid_gap": null,
      "grid_row": null,
      "grid_template_areas": null,
      "grid_template_columns": null,
      "grid_template_rows": null,
      "height": null,
      "justify_content": null,
      "justify_items": null,
      "left": null,
      "margin": null,
      "max_height": null,
      "max_width": null,
      "min_height": null,
      "min_width": null,
      "object_fit": null,
      "object_position": null,
      "order": null,
      "overflow": null,
      "overflow_x": null,
      "overflow_y": null,
      "padding": null,
      "right": null,
      "top": null,
      "visibility": null,
      "width": null
     }
    },
    "ffbcb2799bef475592457e0ce78963c8": {
     "model_module": "@jupyter-widgets/controls",
     "model_module_version": "1.5.0",
     "model_name": "FloatProgressModel",
     "state": {
      "_dom_classes": [],
      "_model_module": "@jupyter-widgets/controls",
      "_model_module_version": "1.5.0",
      "_model_name": "FloatProgressModel",
      "_view_count": null,
      "_view_module": "@jupyter-widgets/controls",
      "_view_module_version": "1.5.0",
      "_view_name": "ProgressView",
      "bar_style": "success",
      "description": "",
      "description_tooltip": null,
      "layout": "IPY_MODEL_a489f7427d884fe2a2c40c69635a67aa",
      "max": 289,
      "min": 0,
      "orientation": "horizontal",
      "style": "IPY_MODEL_e121871dd70e410e924e057c4e8898ef",
      "value": 289
     }
    }
   }
  }
 },
 "nbformat": 4,
 "nbformat_minor": 4
}
