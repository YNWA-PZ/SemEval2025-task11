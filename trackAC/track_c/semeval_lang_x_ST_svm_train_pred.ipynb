{
  "cells": [
    {
      "cell_type": "code",
      "execution_count": 2,
      "metadata": {
        "id": "rVRSZaZ7DdeQ"
      },
      "outputs": [],
      "source": [
        "import os\n",
        "\n",
        "os.environ['CUDA_LAUNCH_BLOCKING'] = \"1\"\n",
        "\n",
        "os.environ['WANDB_DISABLED'] = \"true\""
      ]
    },
    {
      "cell_type": "code",
      "execution_count": 3,
      "metadata": {
        "colab": {
          "base_uri": "https://localhost:8080/"
        },
        "execution": {
          "iopub.execute_input": "2025-01-05T19:15:21.336921Z",
          "iopub.status.busy": "2025-01-05T19:15:21.336601Z",
          "iopub.status.idle": "2025-01-05T19:15:28.642730Z",
          "shell.execute_reply": "2025-01-05T19:15:28.641846Z",
          "shell.execute_reply.started": "2025-01-05T19:15:21.336883Z"
        },
        "id": "jiRg5MiCozSJ",
        "outputId": "865d5aae-fb0b-488c-c4e9-5ab113720b2b",
        "trusted": true
      },
      "outputs": [
        {
          "name": "stdout",
          "output_type": "stream",
          "text": [
            "Downloading...\n",
            "From: https://drive.google.com/uc?id=1EI12smTmdi4Mlu_lLNULN6p6g9dYEWql\n",
            "To: /content/processed_data.zip\n",
            "\r  0% 0.00/6.00M [00:00<?, ?B/s]\r100% 6.00M/6.00M [00:00<00:00, 96.8MB/s]\n"
          ]
        }
      ],
      "source": [
        "!gdown 1EI12smTmdi4Mlu_lLNULN6p6g9dYEWql"
      ]
    },
    {
      "cell_type": "code",
      "execution_count": 4,
      "metadata": {
        "execution": {
          "iopub.execute_input": "2025-01-05T19:15:28.644379Z",
          "iopub.status.busy": "2025-01-05T19:15:28.644090Z",
          "iopub.status.idle": "2025-01-05T19:15:29.037021Z",
          "shell.execute_reply": "2025-01-05T19:15:29.035964Z",
          "shell.execute_reply.started": "2025-01-05T19:15:28.644356Z"
        },
        "id": "kexrENAEo54E",
        "trusted": true
      },
      "outputs": [],
      "source": [
        "!rm -rf processed_data\n",
        "\n",
        "!unzip -q processed_data.zip"
      ]
    },
    {
      "cell_type": "code",
      "execution_count": 5,
      "metadata": {
        "colab": {
          "base_uri": "https://localhost:8080/"
        },
        "execution": {
          "iopub.execute_input": "2025-01-05T19:15:29.038684Z",
          "iopub.status.busy": "2025-01-05T19:15:29.038337Z",
          "iopub.status.idle": "2025-01-05T19:16:03.984740Z",
          "shell.execute_reply": "2025-01-05T19:16:03.983693Z",
          "shell.execute_reply.started": "2025-01-05T19:15:29.038659Z"
        },
        "id": "VC2TifwamSFK",
        "outputId": "61b8653e-18ea-4f3d-d9a9-24a1ca949c43",
        "trusted": true
      },
      "outputs": [
        {
          "name": "stdout",
          "output_type": "stream",
          "text": [
            "\u001b[2K     \u001b[90m━━━━━━━━━━━━━━━━━━━━━━━━━━━━━━━━━━━━━━━━\u001b[0m \u001b[32m44.4/44.4 kB\u001b[0m \u001b[31m1.8 MB/s\u001b[0m eta \u001b[36m0:00:00\u001b[0m\n",
            "\u001b[2K   \u001b[90m━━━━━━━━━━━━━━━━━━━━━━━━━━━━━━━━━━━━━━━━\u001b[0m \u001b[32m9.7/9.7 MB\u001b[0m \u001b[31m32.2 MB/s\u001b[0m eta \u001b[36m0:00:00\u001b[0m\n",
            "\u001b[2K   \u001b[90m━━━━━━━━━━━━━━━━━━━━━━━━━━━━━━━━━━━━━━━━\u001b[0m \u001b[32m480.6/480.6 kB\u001b[0m \u001b[31m10.7 MB/s\u001b[0m eta \u001b[36m0:00:00\u001b[0m\n",
            "\u001b[2K   \u001b[90m━━━━━━━━━━━━━━━━━━━━━━━━━━━━━━━━━━━━━━━━\u001b[0m \u001b[32m116.3/116.3 kB\u001b[0m \u001b[31m10.2 MB/s\u001b[0m eta \u001b[36m0:00:00\u001b[0m\n",
            "\u001b[2K   \u001b[90m━━━━━━━━━━━━━━━━━━━━━━━━━━━━━━━━━━━━━━━━\u001b[0m \u001b[32m179.3/179.3 kB\u001b[0m \u001b[31m14.8 MB/s\u001b[0m eta \u001b[36m0:00:00\u001b[0m\n",
            "\u001b[2K   \u001b[90m━━━━━━━━━━━━━━━━━━━━━━━━━━━━━━━━━━━━━━━━\u001b[0m \u001b[32m134.8/134.8 kB\u001b[0m \u001b[31m12.1 MB/s\u001b[0m eta \u001b[36m0:00:00\u001b[0m\n",
            "\u001b[2K   \u001b[90m━━━━━━━━━━━━━━━━━━━━━━━━━━━━━━━━━━━━━━━━\u001b[0m \u001b[32m194.1/194.1 kB\u001b[0m \u001b[31m15.9 MB/s\u001b[0m eta \u001b[36m0:00:00\u001b[0m\n",
            "\u001b[?25h\u001b[31mERROR: pip's dependency resolver does not currently take into account all the packages that are installed. This behaviour is the source of the following dependency conflicts.\n",
            "gcsfs 2024.10.0 requires fsspec==2024.10.0, but you have fsspec 2024.9.0 which is incompatible.\u001b[0m\u001b[31m\n",
            "\u001b[2K   \u001b[90m━━━━━━━━━━━━━━━━━━━━━━━━━━━━━━━━━━━━━━━━\u001b[0m \u001b[32m23.5/23.5 MB\u001b[0m \u001b[31m68.6 MB/s\u001b[0m eta \u001b[36m0:00:00\u001b[0m\n",
            "\u001b[2K   \u001b[90m━━━━━━━━━━━━━━━━━━━━━━━━━━━━━━━━━━━━━━━━\u001b[0m \u001b[32m424.1/424.1 kB\u001b[0m \u001b[31m33.0 MB/s\u001b[0m eta \u001b[36m0:00:00\u001b[0m\n",
            "\u001b[2K   \u001b[90m━━━━━━━━━━━━━━━━━━━━━━━━━━━━━━━━━━━━━━━━\u001b[0m \u001b[32m69.1/69.1 MB\u001b[0m \u001b[31m10.7 MB/s\u001b[0m eta \u001b[36m0:00:00\u001b[0m\n",
            "\u001b[2K   \u001b[90m━━━━━━━━━━━━━━━━━━━━━━━━━━━━━━━━━━━━━━━━\u001b[0m \u001b[32m46.0/46.0 kB\u001b[0m \u001b[31m4.0 MB/s\u001b[0m eta \u001b[36m0:00:00\u001b[0m\n",
            "\u001b[2K   \u001b[90m━━━━━━━━━━━━━━━━━━━━━━━━━━━━━━━━━━━━━━━━\u001b[0m \u001b[32m13.2/13.2 MB\u001b[0m \u001b[31m84.4 MB/s\u001b[0m eta \u001b[36m0:00:00\u001b[0m\n",
            "\u001b[2K   \u001b[90m━━━━━━━━━━━━━━━━━━━━━━━━━━━━━━━━━━━━━━━━\u001b[0m \u001b[32m86.8/86.8 kB\u001b[0m \u001b[31m8.4 MB/s\u001b[0m eta \u001b[36m0:00:00\u001b[0m\n",
            "\u001b[?25h"
          ]
        }
      ],
      "source": [
        "!pip install -q transformers[torch] accelerate -U\n",
        "!pip install -q sentence_transformers\n",
        "\n",
        "!pip install -q datasets\n",
        "\n",
        "!pip install -q transformers\n",
        "\n",
        "!pip install -q iterative-stratification\n",
        "\n",
        "!pip install -q auto-gptq optimum bitsandbytes"
      ]
    },
    {
      "cell_type": "code",
      "execution_count": 6,
      "metadata": {
        "execution": {
          "iopub.execute_input": "2025-01-05T19:16:03.986156Z",
          "iopub.status.busy": "2025-01-05T19:16:03.985858Z",
          "iopub.status.idle": "2025-01-05T19:16:17.769314Z",
          "shell.execute_reply": "2025-01-05T19:16:17.768671Z",
          "shell.execute_reply.started": "2025-01-05T19:16:03.986133Z"
        },
        "id": "a_v9ZQjVoIma",
        "trusted": true
      },
      "outputs": [],
      "source": [
        "import numpy as np\n",
        "\n",
        "import pandas as pd\n",
        "\n",
        "import os\n",
        "\n",
        "from tqdm.notebook import tqdm\n",
        "\n",
        "from tqdm import tqdm\n",
        "\n",
        "from transformers import BitsAndBytesConfig\n",
        "\n",
        "from torch.utils.data import DataLoader,Dataset\n",
        "\n",
        "import torch\n",
        "\n",
        "import torch.nn as nn\n",
        "\n",
        "import torch.nn.functional as F\n",
        "\n"
      ]
    },
    {
      "cell_type": "code",
      "execution_count": 334,
      "metadata": {
        "execution": {
          "iopub.execute_input": "2025-01-05T19:16:17.794172Z",
          "iopub.status.busy": "2025-01-05T19:16:17.793838Z",
          "iopub.status.idle": "2025-01-05T19:16:17.808123Z",
          "shell.execute_reply": "2025-01-05T19:16:17.807421Z",
          "shell.execute_reply.started": "2025-01-05T19:16:17.794136Z"
        },
        "id": "1kwye6PzpT4N",
        "trusted": true
      },
      "outputs": [],
      "source": [
        "MAX_LENGTH = 512\n",
        "model_name=\"intfloat/multilingual-e5-large-instruct\"\n",
        "kind=\"train\"\n",
        "\n",
        "task=\"track_a\"\n",
        "\n",
        "# langs=[\"afr\",\"amh\",\"deu\",\"eng\",\"oro\",\"ptbr\",\"rus\",\"som\",\"sum\",\"tir\"]\n",
        "# labels=['Anger','Disgust', 'Fear', 'Joy', 'Sadness', 'Surprise']\n",
        "# langs=[\"amh\",\"arq\",\"ary\",\"chn\",\"deu\",\"esp\",\"hau\",\"hin\",\"ibo\",\"kin\",\"mar\",\"orm\",\"pcm\",\"ptbr\",\"ptmz\",\"ron\",\"rus\",\"som\",\"sun\",\"swa\",\"swe\",\"tat\",\"tir\",\"ukr\",\"vmw\",\"yor\",\"ind\",\"jav\",\"xho\",\"zul\"]\n",
        "langs=[\"esp\"]\n",
        "# langs=[\"eng\"]\n",
        "# langs=[\"afr\"]\n",
        "\n",
        "# label_columns =['anger', 'fear', 'joy', 'sadness', 'surprise']\n",
        "label_columns =['anger', 'disgust', 'fear', 'joy', 'sadness', 'surprise']\n",
        "# label_columns =['anger', 'disgust', 'fear', 'joy', 'sadness']\n"
      ]
    },
    {
      "cell_type": "code",
      "execution_count": 335,
      "metadata": {
        "execution": {
          "iopub.execute_input": "2025-01-05T19:16:17.809100Z",
          "iopub.status.busy": "2025-01-05T19:16:17.808821Z",
          "iopub.status.idle": "2025-01-05T19:16:17.843638Z",
          "shell.execute_reply": "2025-01-05T19:16:17.842877Z",
          "shell.execute_reply.started": "2025-01-05T19:16:17.809071Z"
        },
        "id": "1x0MboqJuj21",
        "trusted": true
      },
      "outputs": [],
      "source": [
        "all_csv=pd.DataFrame()\n",
        "\n",
        "for lang in langs:\n",
        "\n",
        "    processed_path=f\"processed_data/{kind}/{task}/{lang}.csv\"\n",
        "    if not os.path.isfile(processed_path):\n",
        "\n",
        "      print(\"not found:\",processed_path)\n",
        "\n",
        "      continue\n",
        "    train_data=pd.read_csv(processed_path)\n",
        "\n",
        "    train_data.columns = train_data.columns.str.lower()\n",
        "\n",
        "    all_csv = pd.concat([all_csv, train_data],ignore_index=True)\n",
        "\n"
      ]
    },
    {
      "cell_type": "code",
      "execution_count": 336,
      "metadata": {
        "execution": {
          "iopub.execute_input": "2025-01-05T19:16:17.890902Z",
          "iopub.status.busy": "2025-01-05T19:16:17.890614Z",
          "iopub.status.idle": "2025-01-05T19:16:17.900899Z",
          "shell.execute_reply": "2025-01-05T19:16:17.900153Z",
          "shell.execute_reply.started": "2025-01-05T19:16:17.890867Z"
        },
        "id": "zITfHiVrBad5",
        "trusted": true
      },
      "outputs": [],
      "source": [
        "train_data=all_csv\n",
        "train_data=train_data.fillna(0)\n",
        "float_columns = train_data.select_dtypes(include=['float64']).columns\n",
        "# Convert those columns to int\n",
        "train_data[float_columns] = train_data[float_columns].astype('int')\n",
        "train_data = train_data[train_data['clean_message'].isnull()==False]\n",
        "\n",
        "train_data.reset_index()"
      ]
    },
    {
      "cell_type": "code",
      "execution_count": 341,
      "metadata": {
        "colab": {
          "base_uri": "https://localhost:8080/",
          "height": 147
        },
        "execution": {
          "iopub.execute_input": "2025-01-05T19:16:18.017416Z",
          "iopub.status.busy": "2025-01-05T19:16:18.017150Z",
          "iopub.status.idle": "2025-01-05T19:16:18.034271Z",
          "shell.execute_reply": "2025-01-05T19:16:18.033495Z",
          "shell.execute_reply.started": "2025-01-05T19:16:18.017383Z"
        },
        "id": "5SDZ3wEUBad6",
        "outputId": "b92f4f16-501f-4f4b-8b78-d2fec4136454",
        "trusted": true
      },
      "outputs": [
        {
          "data": {
            "text/html": [
              "<div>\n",
              "<style scoped>\n",
              "    .dataframe tbody tr th:only-of-type {\n",
              "        vertical-align: middle;\n",
              "    }\n",
              "\n",
              "    .dataframe tbody tr th {\n",
              "        vertical-align: top;\n",
              "    }\n",
              "\n",
              "    .dataframe thead th {\n",
              "        text-align: right;\n",
              "    }\n",
              "</style>\n",
              "<table border=\"1\" class=\"dataframe\">\n",
              "  <thead>\n",
              "    <tr style=\"text-align: right;\">\n",
              "      <th></th>\n",
              "      <th>count</th>\n",
              "    </tr>\n",
              "    <tr>\n",
              "      <th>lang</th>\n",
              "      <th></th>\n",
              "    </tr>\n",
              "  </thead>\n",
              "  <tbody>\n",
              "    <tr>\n",
              "      <th>esp</th>\n",
              "      <td>1996</td>\n",
              "    </tr>\n",
              "  </tbody>\n",
              "</table>\n",
              "</div><br><label><b>dtype:</b> int64</label>"
            ],
            "text/plain": [
              "lang\n",
              "esp    1996\n",
              "Name: count, dtype: int64"
            ]
          },
          "execution_count": 341,
          "metadata": {},
          "output_type": "execute_result"
        }
      ],
      "source": [
        "train_data['lang'].value_counts()"
      ]
    },
    {
      "cell_type": "code",
      "execution_count": 342,
      "metadata": {
        "colab": {
          "base_uri": "https://localhost:8080/"
        },
        "execution": {
          "iopub.execute_input": "2025-01-05T19:16:18.035312Z",
          "iopub.status.busy": "2025-01-05T19:16:18.035066Z",
          "iopub.status.idle": "2025-01-05T19:16:18.049260Z",
          "shell.execute_reply": "2025-01-05T19:16:18.048632Z",
          "shell.execute_reply.started": "2025-01-05T19:16:18.035282Z"
        },
        "id": "5ubyh_YPBad6",
        "outputId": "06cd9ee6-b3d4-40aa-e169-cca91864801e",
        "trusted": true
      },
      "outputs": [
        {
          "data": {
            "text/plain": [
              "0"
            ]
          },
          "execution_count": 342,
          "metadata": {},
          "output_type": "execute_result"
        }
      ],
      "source": [
        "sum(train_data['lang'].isna())"
      ]
    },
    {
      "cell_type": "code",
      "execution_count": 343,
      "metadata": {
        "colab": {
          "base_uri": "https://localhost:8080/",
          "height": 53
        },
        "execution": {
          "iopub.execute_input": "2025-01-05T19:16:18.050341Z",
          "iopub.status.busy": "2025-01-05T19:16:18.050108Z",
          "iopub.status.idle": "2025-01-05T19:16:18.064262Z",
          "shell.execute_reply": "2025-01-05T19:16:18.063637Z",
          "shell.execute_reply.started": "2025-01-05T19:16:18.050322Z"
        },
        "id": "8lubfAyYBad6",
        "outputId": "cd2dadf0-65e1-42c7-ae9a-4abadd6de616",
        "trusted": true
      },
      "outputs": [
        {
          "data": {
            "application/vnd.google.colaboratory.intrinsic+json": {
              "repr_error": "Out of range float values are not JSON compliant: nan",
              "type": "dataframe",
              "variable_name": "nan_rows"
            },
            "text/html": [
              "\n",
              "  <div id=\"df-74e341e3-d2fb-4f50-8cd2-82ee4f27e79c\" class=\"colab-df-container\">\n",
              "    <div>\n",
              "<style scoped>\n",
              "    .dataframe tbody tr th:only-of-type {\n",
              "        vertical-align: middle;\n",
              "    }\n",
              "\n",
              "    .dataframe tbody tr th {\n",
              "        vertical-align: top;\n",
              "    }\n",
              "\n",
              "    .dataframe thead th {\n",
              "        text-align: right;\n",
              "    }\n",
              "</style>\n",
              "<table border=\"1\" class=\"dataframe\">\n",
              "  <thead>\n",
              "    <tr style=\"text-align: right;\">\n",
              "      <th></th>\n",
              "      <th>id</th>\n",
              "      <th>anger</th>\n",
              "      <th>disgust</th>\n",
              "      <th>fear</th>\n",
              "      <th>joy</th>\n",
              "      <th>sadness</th>\n",
              "      <th>surprise</th>\n",
              "      <th>lang</th>\n",
              "      <th>clean_message</th>\n",
              "    </tr>\n",
              "  </thead>\n",
              "  <tbody>\n",
              "  </tbody>\n",
              "</table>\n",
              "</div>\n",
              "    <div class=\"colab-df-buttons\">\n",
              "\n",
              "  <div class=\"colab-df-container\">\n",
              "    <button class=\"colab-df-convert\" onclick=\"convertToInteractive('df-74e341e3-d2fb-4f50-8cd2-82ee4f27e79c')\"\n",
              "            title=\"Convert this dataframe to an interactive table.\"\n",
              "            style=\"display:none;\">\n",
              "\n",
              "  <svg xmlns=\"http://www.w3.org/2000/svg\" height=\"24px\" viewBox=\"0 -960 960 960\">\n",
              "    <path d=\"M120-120v-720h720v720H120Zm60-500h600v-160H180v160Zm220 220h160v-160H400v160Zm0 220h160v-160H400v160ZM180-400h160v-160H180v160Zm440 0h160v-160H620v160ZM180-180h160v-160H180v160Zm440 0h160v-160H620v160Z\"/>\n",
              "  </svg>\n",
              "    </button>\n",
              "\n",
              "  <style>\n",
              "    .colab-df-container {\n",
              "      display:flex;\n",
              "      gap: 12px;\n",
              "    }\n",
              "\n",
              "    .colab-df-convert {\n",
              "      background-color: #E8F0FE;\n",
              "      border: none;\n",
              "      border-radius: 50%;\n",
              "      cursor: pointer;\n",
              "      display: none;\n",
              "      fill: #1967D2;\n",
              "      height: 32px;\n",
              "      padding: 0 0 0 0;\n",
              "      width: 32px;\n",
              "    }\n",
              "\n",
              "    .colab-df-convert:hover {\n",
              "      background-color: #E2EBFA;\n",
              "      box-shadow: 0px 1px 2px rgba(60, 64, 67, 0.3), 0px 1px 3px 1px rgba(60, 64, 67, 0.15);\n",
              "      fill: #174EA6;\n",
              "    }\n",
              "\n",
              "    .colab-df-buttons div {\n",
              "      margin-bottom: 4px;\n",
              "    }\n",
              "\n",
              "    [theme=dark] .colab-df-convert {\n",
              "      background-color: #3B4455;\n",
              "      fill: #D2E3FC;\n",
              "    }\n",
              "\n",
              "    [theme=dark] .colab-df-convert:hover {\n",
              "      background-color: #434B5C;\n",
              "      box-shadow: 0px 1px 3px 1px rgba(0, 0, 0, 0.15);\n",
              "      filter: drop-shadow(0px 1px 2px rgba(0, 0, 0, 0.3));\n",
              "      fill: #FFFFFF;\n",
              "    }\n",
              "  </style>\n",
              "\n",
              "    <script>\n",
              "      const buttonEl =\n",
              "        document.querySelector('#df-74e341e3-d2fb-4f50-8cd2-82ee4f27e79c button.colab-df-convert');\n",
              "      buttonEl.style.display =\n",
              "        google.colab.kernel.accessAllowed ? 'block' : 'none';\n",
              "\n",
              "      async function convertToInteractive(key) {\n",
              "        const element = document.querySelector('#df-74e341e3-d2fb-4f50-8cd2-82ee4f27e79c');\n",
              "        const dataTable =\n",
              "          await google.colab.kernel.invokeFunction('convertToInteractive',\n",
              "                                                    [key], {});\n",
              "        if (!dataTable) return;\n",
              "\n",
              "        const docLinkHtml = 'Like what you see? Visit the ' +\n",
              "          '<a target=\"_blank\" href=https://colab.research.google.com/notebooks/data_table.ipynb>data table notebook</a>'\n",
              "          + ' to learn more about interactive tables.';\n",
              "        element.innerHTML = '';\n",
              "        dataTable['output_type'] = 'display_data';\n",
              "        await google.colab.output.renderOutput(dataTable, element);\n",
              "        const docLink = document.createElement('div');\n",
              "        docLink.innerHTML = docLinkHtml;\n",
              "        element.appendChild(docLink);\n",
              "      }\n",
              "    </script>\n",
              "  </div>\n",
              "\n",
              "    </div>\n",
              "  </div>\n"
            ],
            "text/plain": [
              "Empty DataFrame\n",
              "Columns: [id, anger, disgust, fear, joy, sadness, surprise, lang, clean_message]\n",
              "Index: []"
            ]
          },
          "execution_count": 343,
          "metadata": {},
          "output_type": "execute_result"
        }
      ],
      "source": [
        "nan_rows = train_data[train_data.isna().any(axis=1)]\n",
        "nan_rows"
      ]
    },
    {
      "cell_type": "code",
      "execution_count": 344,
      "metadata": {
        "id": "grQSSQUKZ00y"
      },
      "outputs": [],
      "source": [
        "train_data['clean_message']=train_data['clean_message'].astype(str)"
      ]
    },
    {
      "cell_type": "code",
      "execution_count": 345,
      "metadata": {
        "colab": {
          "base_uri": "https://localhost:8080/"
        },
        "id": "VPAf2dnTZF_H",
        "outputId": "674ce638-3fa1-4387-df8d-1bb490d912f0"
      },
      "outputs": [
        {
          "data": {
            "text/plain": [
              "440"
            ]
          },
          "execution_count": 345,
          "metadata": {},
          "output_type": "execute_result"
        }
      ],
      "source": [
        "maxi=train_data['clean_message'].apply(len).max()\n",
        "maxi"
      ]
    },
    {
      "cell_type": "code",
      "execution_count": 346,
      "metadata": {
        "colab": {
          "base_uri": "https://localhost:8080/",
          "height": 81
        },
        "id": "IpWtbxUzZM2o",
        "outputId": "196a9029-a632-4e49-cb41-3f62f2bce763"
      },
      "outputs": [
        {
          "data": {
            "application/vnd.google.colaboratory.intrinsic+json": {
              "summary": "{\n  \"name\": \"train_data[train_data['clean_message']\",\n  \"rows\": 1,\n  \"fields\": [\n    {\n      \"column\": \"id\",\n      \"properties\": {\n        \"dtype\": \"string\",\n        \"num_unique_values\": 1,\n        \"samples\": [\n          \"esp_train_track_a_00272\"\n        ],\n        \"semantic_type\": \"\",\n        \"description\": \"\"\n      }\n    },\n    {\n      \"column\": \"anger\",\n      \"properties\": {\n        \"dtype\": \"number\",\n        \"std\": null,\n        \"min\": 0,\n        \"max\": 0,\n        \"num_unique_values\": 1,\n        \"samples\": [\n          0\n        ],\n        \"semantic_type\": \"\",\n        \"description\": \"\"\n      }\n    },\n    {\n      \"column\": \"disgust\",\n      \"properties\": {\n        \"dtype\": \"number\",\n        \"std\": null,\n        \"min\": 0,\n        \"max\": 0,\n        \"num_unique_values\": 1,\n        \"samples\": [\n          0\n        ],\n        \"semantic_type\": \"\",\n        \"description\": \"\"\n      }\n    },\n    {\n      \"column\": \"fear\",\n      \"properties\": {\n        \"dtype\": \"number\",\n        \"std\": null,\n        \"min\": 0,\n        \"max\": 0,\n        \"num_unique_values\": 1,\n        \"samples\": [\n          0\n        ],\n        \"semantic_type\": \"\",\n        \"description\": \"\"\n      }\n    },\n    {\n      \"column\": \"joy\",\n      \"properties\": {\n        \"dtype\": \"number\",\n        \"std\": null,\n        \"min\": 0,\n        \"max\": 0,\n        \"num_unique_values\": 1,\n        \"samples\": [\n          0\n        ],\n        \"semantic_type\": \"\",\n        \"description\": \"\"\n      }\n    },\n    {\n      \"column\": \"sadness\",\n      \"properties\": {\n        \"dtype\": \"number\",\n        \"std\": null,\n        \"min\": 1,\n        \"max\": 1,\n        \"num_unique_values\": 1,\n        \"samples\": [\n          1\n        ],\n        \"semantic_type\": \"\",\n        \"description\": \"\"\n      }\n    },\n    {\n      \"column\": \"surprise\",\n      \"properties\": {\n        \"dtype\": \"number\",\n        \"std\": null,\n        \"min\": 0,\n        \"max\": 0,\n        \"num_unique_values\": 1,\n        \"samples\": [\n          0\n        ],\n        \"semantic_type\": \"\",\n        \"description\": \"\"\n      }\n    },\n    {\n      \"column\": \"lang\",\n      \"properties\": {\n        \"dtype\": \"string\",\n        \"num_unique_values\": 1,\n        \"samples\": [\n          \"esp\"\n        ],\n        \"semantic_type\": \"\",\n        \"description\": \"\"\n      }\n    },\n    {\n      \"column\": \"clean_message\",\n      \"properties\": {\n        \"dtype\": \"string\",\n        \"num_unique_values\": 1,\n        \"samples\": [\n          \"me puse a llorar como si no ubiera un ma\\u00f1ana y toda mi familia se rieron de mi crying face smiling face with hearteyes kissing face with smiling eyes face blowing a kiss kissing face with closed eyes smiling cat with hearteyes couple with heart red heart blue heart green heart yellow heart purple heart beating heart broken heart two hearts sparkling heart growing heart heart with arrow heart with ribbon revolving hearts heart decoration\"\n        ],\n        \"semantic_type\": \"\",\n        \"description\": \"\"\n      }\n    }\n  ]\n}",
              "type": "dataframe"
            },
            "text/html": [
              "\n",
              "  <div id=\"df-2f5c56b1-fbc9-4554-a8cb-e45990046dea\" class=\"colab-df-container\">\n",
              "    <div>\n",
              "<style scoped>\n",
              "    .dataframe tbody tr th:only-of-type {\n",
              "        vertical-align: middle;\n",
              "    }\n",
              "\n",
              "    .dataframe tbody tr th {\n",
              "        vertical-align: top;\n",
              "    }\n",
              "\n",
              "    .dataframe thead th {\n",
              "        text-align: right;\n",
              "    }\n",
              "</style>\n",
              "<table border=\"1\" class=\"dataframe\">\n",
              "  <thead>\n",
              "    <tr style=\"text-align: right;\">\n",
              "      <th></th>\n",
              "      <th>id</th>\n",
              "      <th>anger</th>\n",
              "      <th>disgust</th>\n",
              "      <th>fear</th>\n",
              "      <th>joy</th>\n",
              "      <th>sadness</th>\n",
              "      <th>surprise</th>\n",
              "      <th>lang</th>\n",
              "      <th>clean_message</th>\n",
              "    </tr>\n",
              "  </thead>\n",
              "  <tbody>\n",
              "    <tr>\n",
              "      <th>271</th>\n",
              "      <td>esp_train_track_a_00272</td>\n",
              "      <td>0</td>\n",
              "      <td>0</td>\n",
              "      <td>0</td>\n",
              "      <td>0</td>\n",
              "      <td>1</td>\n",
              "      <td>0</td>\n",
              "      <td>esp</td>\n",
              "      <td>me puse a llorar como si no ubiera un mañana y...</td>\n",
              "    </tr>\n",
              "  </tbody>\n",
              "</table>\n",
              "</div>\n",
              "    <div class=\"colab-df-buttons\">\n",
              "\n",
              "  <div class=\"colab-df-container\">\n",
              "    <button class=\"colab-df-convert\" onclick=\"convertToInteractive('df-2f5c56b1-fbc9-4554-a8cb-e45990046dea')\"\n",
              "            title=\"Convert this dataframe to an interactive table.\"\n",
              "            style=\"display:none;\">\n",
              "\n",
              "  <svg xmlns=\"http://www.w3.org/2000/svg\" height=\"24px\" viewBox=\"0 -960 960 960\">\n",
              "    <path d=\"M120-120v-720h720v720H120Zm60-500h600v-160H180v160Zm220 220h160v-160H400v160Zm0 220h160v-160H400v160ZM180-400h160v-160H180v160Zm440 0h160v-160H620v160ZM180-180h160v-160H180v160Zm440 0h160v-160H620v160Z\"/>\n",
              "  </svg>\n",
              "    </button>\n",
              "\n",
              "  <style>\n",
              "    .colab-df-container {\n",
              "      display:flex;\n",
              "      gap: 12px;\n",
              "    }\n",
              "\n",
              "    .colab-df-convert {\n",
              "      background-color: #E8F0FE;\n",
              "      border: none;\n",
              "      border-radius: 50%;\n",
              "      cursor: pointer;\n",
              "      display: none;\n",
              "      fill: #1967D2;\n",
              "      height: 32px;\n",
              "      padding: 0 0 0 0;\n",
              "      width: 32px;\n",
              "    }\n",
              "\n",
              "    .colab-df-convert:hover {\n",
              "      background-color: #E2EBFA;\n",
              "      box-shadow: 0px 1px 2px rgba(60, 64, 67, 0.3), 0px 1px 3px 1px rgba(60, 64, 67, 0.15);\n",
              "      fill: #174EA6;\n",
              "    }\n",
              "\n",
              "    .colab-df-buttons div {\n",
              "      margin-bottom: 4px;\n",
              "    }\n",
              "\n",
              "    [theme=dark] .colab-df-convert {\n",
              "      background-color: #3B4455;\n",
              "      fill: #D2E3FC;\n",
              "    }\n",
              "\n",
              "    [theme=dark] .colab-df-convert:hover {\n",
              "      background-color: #434B5C;\n",
              "      box-shadow: 0px 1px 3px 1px rgba(0, 0, 0, 0.15);\n",
              "      filter: drop-shadow(0px 1px 2px rgba(0, 0, 0, 0.3));\n",
              "      fill: #FFFFFF;\n",
              "    }\n",
              "  </style>\n",
              "\n",
              "    <script>\n",
              "      const buttonEl =\n",
              "        document.querySelector('#df-2f5c56b1-fbc9-4554-a8cb-e45990046dea button.colab-df-convert');\n",
              "      buttonEl.style.display =\n",
              "        google.colab.kernel.accessAllowed ? 'block' : 'none';\n",
              "\n",
              "      async function convertToInteractive(key) {\n",
              "        const element = document.querySelector('#df-2f5c56b1-fbc9-4554-a8cb-e45990046dea');\n",
              "        const dataTable =\n",
              "          await google.colab.kernel.invokeFunction('convertToInteractive',\n",
              "                                                    [key], {});\n",
              "        if (!dataTable) return;\n",
              "\n",
              "        const docLinkHtml = 'Like what you see? Visit the ' +\n",
              "          '<a target=\"_blank\" href=https://colab.research.google.com/notebooks/data_table.ipynb>data table notebook</a>'\n",
              "          + ' to learn more about interactive tables.';\n",
              "        element.innerHTML = '';\n",
              "        dataTable['output_type'] = 'display_data';\n",
              "        await google.colab.output.renderOutput(dataTable, element);\n",
              "        const docLink = document.createElement('div');\n",
              "        docLink.innerHTML = docLinkHtml;\n",
              "        element.appendChild(docLink);\n",
              "      }\n",
              "    </script>\n",
              "  </div>\n",
              "\n",
              "    </div>\n",
              "  </div>\n"
            ],
            "text/plain": [
              "                          id  anger  disgust  fear  joy  sadness  surprise  \\\n",
              "271  esp_train_track_a_00272      0        0     0    0        1         0   \n",
              "\n",
              "    lang                                      clean_message  \n",
              "271  esp  me puse a llorar como si no ubiera un mañana y...  "
            ]
          },
          "execution_count": 346,
          "metadata": {},
          "output_type": "execute_result"
        }
      ],
      "source": [
        "train_data[train_data['clean_message'].apply(len) == maxi]"
      ]
    },
    {
      "cell_type": "code",
      "execution_count": 347,
      "metadata": {
        "colab": {
          "base_uri": "https://localhost:8080/"
        },
        "id": "_gXtuVeaZREY",
        "outputId": "b6fff75a-f01d-49c5-9fc1-0570749a640e"
      },
      "outputs": [
        {
          "data": {
            "text/plain": [
              "array(['me puse a llorar como si no ubiera un mañana y toda mi familia se rieron de mi crying face smiling face with hearteyes kissing face with smiling eyes face blowing a kiss kissing face with closed eyes smiling cat with hearteyes couple with heart red heart blue heart green heart yellow heart purple heart beating heart broken heart two hearts sparkling heart growing heart heart with arrow heart with ribbon revolving hearts heart decoration'],\n",
              "      dtype=object)"
            ]
          },
          "execution_count": 347,
          "metadata": {},
          "output_type": "execute_result"
        }
      ],
      "source": [
        "train_data[train_data['clean_message'].apply(len) == maxi][\"clean_message\"].values"
      ]
    },
    {
      "cell_type": "code",
      "execution_count": 348,
      "metadata": {
        "execution": {
          "iopub.execute_input": "2025-01-05T19:16:18.156293Z",
          "iopub.status.busy": "2025-01-05T19:16:18.156059Z",
          "iopub.status.idle": "2025-01-05T19:16:18.168029Z",
          "shell.execute_reply": "2025-01-05T19:16:18.167293Z",
          "shell.execute_reply.started": "2025-01-05T19:16:18.156256Z"
        },
        "id": "Efx2E-A4Bad7",
        "trusted": true
      },
      "outputs": [],
      "source": [
        "# shuffle data\n",
        "train_data=train_data.sample(frac=1)"
      ]
    },
    {
      "cell_type": "code",
      "execution_count": 350,
      "metadata": {
        "execution": {
          "iopub.execute_input": "2025-01-05T19:16:18.181302Z",
          "iopub.status.busy": "2025-01-05T19:16:18.181039Z",
          "iopub.status.idle": "2025-01-05T19:16:18.191510Z",
          "shell.execute_reply": "2025-01-05T19:16:18.190920Z",
          "shell.execute_reply.started": "2025-01-05T19:16:18.181270Z"
        },
        "id": "K0MsuYqpBad8",
        "trusted": true
      },
      "outputs": [],
      "source": [
        "x_train, y_train = train_data['clean_message'].values.tolist(), train_data[label_columns].values.tolist()"
      ]
    },
    {
      "cell_type": "code",
      "execution_count": 351,
      "metadata": {
        "execution": {
          "iopub.execute_input": "2025-01-05T19:16:18.192407Z",
          "iopub.status.busy": "2025-01-05T19:16:18.192213Z",
          "iopub.status.idle": "2025-01-05T19:16:18.204757Z",
          "shell.execute_reply": "2025-01-05T19:16:18.204006Z",
          "shell.execute_reply.started": "2025-01-05T19:16:18.192382Z"
        },
        "id": "6Sgs63uPBad8",
        "trusted": true
      },
      "outputs": [],
      "source": [
        "y_train_df = pd.DataFrame(y_train, columns=label_columns)"
      ]
    },
    {
      "cell_type": "code",
      "execution_count": 352,
      "metadata": {
        "colab": {
          "base_uri": "https://localhost:8080/"
        },
        "execution": {
          "iopub.execute_input": "2025-01-05T19:16:18.205908Z",
          "iopub.status.busy": "2025-01-05T19:16:18.205671Z",
          "iopub.status.idle": "2025-01-05T19:16:18.223109Z",
          "shell.execute_reply": "2025-01-05T19:16:18.222373Z",
          "shell.execute_reply.started": "2025-01-05T19:16:18.205889Z"
        },
        "id": "sVD0DSPvmdcE",
        "outputId": "74a36fa1-c836-491b-9886-1c7b26edbe21",
        "trusted": true
      },
      "outputs": [
        {
          "name": "stdout",
          "output_type": "stream",
          "text": [
            "          count_0  count_1   sum\n",
            "anger        1504      492  1996\n",
            "disgust      1342      654  1996\n",
            "fear         1679      317  1996\n",
            "joy          1354      642  1996\n",
            "sadness      1687      309  1996\n",
            "surprise     1575      421  1996\n"
          ]
        }
      ],
      "source": [
        "#update label column name\n",
        "\n",
        "label_distribution = y_train_df.apply(pd.Series.value_counts).T.fillna(0).astype(int)\n",
        "\n",
        "label_distribution.columns = ['count_0', 'count_1']\n",
        "label_distribution['sum'] = label_distribution['count_0'] + label_distribution['count_1']\n",
        "print(label_distribution)"
      ]
    },
    {
      "cell_type": "code",
      "execution_count": 353,
      "metadata": {
        "execution": {
          "iopub.execute_input": "2025-01-05T19:16:18.224287Z",
          "iopub.status.busy": "2025-01-05T19:16:18.223981Z",
          "iopub.status.idle": "2025-01-05T19:16:18.281876Z",
          "shell.execute_reply": "2025-01-05T19:16:18.281035Z",
          "shell.execute_reply.started": "2025-01-05T19:16:18.224260Z"
        },
        "id": "-EFMbbzALDd6",
        "trusted": true
      },
      "outputs": [],
      "source": [
        "device=\"cuda\" if torch.cuda.is_available() else 'cpu'"
      ]
    },
    {
      "cell_type": "code",
      "execution_count": 354,
      "metadata": {
        "colab": {
          "base_uri": "https://localhost:8080/"
        },
        "execution": {
          "iopub.execute_input": "2025-01-05T19:16:18.282975Z",
          "iopub.status.busy": "2025-01-05T19:16:18.282722Z",
          "iopub.status.idle": "2025-01-05T19:16:18.778109Z",
          "shell.execute_reply": "2025-01-05T19:16:18.777406Z",
          "shell.execute_reply.started": "2025-01-05T19:16:18.282952Z"
        },
        "id": "ggY-tV1n2P7Q",
        "outputId": "6e74102e-f5cc-4ea4-c353-7ae230af90ed",
        "trusted": true
      },
      "outputs": [
        {
          "data": {
            "text/plain": [
              "tensor([2.0285, 1.5260, 3.1483, 1.5545, 3.2298, 2.3705], device='cuda:0')"
            ]
          },
          "execution_count": 354,
          "metadata": {},
          "output_type": "execute_result"
        }
      ],
      "source": [
        "from sklearn.utils.class_weight import compute_class_weight\n",
        "\n",
        "counts_0 = label_distribution['count_0'].to_numpy()\n",
        "counts_1 = label_distribution['count_1'].to_numpy()\n",
        "\n",
        "# Compute class-specific weights for each label (each class)\n",
        "class_weights = []\n",
        "for i in range(len(counts_0)):\n",
        "    weight = compute_class_weight('balanced', classes=np.array([0, 1]), y=[0] * counts_0[i] + [1] * counts_1[i])\n",
        "    class_weights.append(weight)\n",
        "\n",
        "# Convert the list of weights to a tensor\n",
        "class_weights_tensor = torch.tensor([w[1] for w in class_weights], dtype=torch.float,device=device)\n",
        "class_weights_tensor"
      ]
    },
    {
      "cell_type": "code",
      "execution_count": 356,
      "metadata": {
        "execution": {
          "iopub.execute_input": "2025-01-05T19:16:18.996404Z",
          "iopub.status.busy": "2025-01-05T19:16:18.996116Z",
          "iopub.status.idle": "2025-01-05T19:16:19.009025Z",
          "shell.execute_reply": "2025-01-05T19:16:19.008387Z",
          "shell.execute_reply.started": "2025-01-05T19:16:18.996373Z"
        },
        "id": "3TcPpfq1GdUI",
        "trusted": true
      },
      "outputs": [],
      "source": [
        "quantization_config = BitsAndBytesConfig(\n",
        "\n",
        "    load_in_4bit=True,\n",
        "\n",
        "    bnb_4bit_use_double_quant=True,\n",
        "\n",
        "    bnb_4bit_quant_type=\"nf4\",\n",
        "\n",
        "    bnb_4bit_compute_dtype=torch.bfloat16,\n",
        "\n",
        ")"
      ]
    },
    {
      "cell_type": "code",
      "execution_count": 361,
      "metadata": {
        "id": "4uSE7TEYBGfN"
      },
      "outputs": [],
      "source": [
        "from transformers import AutoModel\n",
        "from sentence_transformers import SentenceTransformer"
      ]
    },
    {
      "cell_type": "code",
      "execution_count": 362,
      "metadata": {
        "colab": {
          "base_uri": "https://localhost:8080/"
        },
        "execution": {
          "iopub.execute_input": "2025-01-05T19:16:19.041374Z",
          "iopub.status.busy": "2025-01-05T19:16:19.041125Z",
          "iopub.status.idle": "2025-01-05T19:16:55.700389Z",
          "shell.execute_reply": "2025-01-05T19:16:55.699744Z",
          "shell.execute_reply.started": "2025-01-05T19:16:19.041354Z"
        },
        "id": "RTwQtNnRZXNI",
        "outputId": "7e40d92f-ec3d-4650-ae40-ce0cdbcad577",
        "trusted": true
      },
      "outputs": [
        {
          "name": "stdout",
          "output_type": "stream",
          "text": [
            "intfloat/multilingual-e5-large-instruct\n"
          ]
        }
      ],
      "source": [
        "\n",
        "\n",
        "torch.cuda.empty_cache()\n",
        "print(model_name)\n",
        "use_gpu = torch.cuda.is_available()\n",
        "embedding_model = SentenceTransformer(\n",
        "        model_name,\n",
        "        trust_remote_code=True,\n",
        "        device=\"cpu\" if not use_gpu else \"cuda\",\n",
        "        model_kwargs={\n",
        "            \"torch_dtype\": torch.bfloat16 if use_gpu else torch.float32,\n",
        "            # \"attn_implementation\": \"sdpa\"\n",
        "        },\n",
        "        # config_kwargs={\"is_text_encoder\": True, \"vector_dim\": 1024},\n",
        "    )\n",
        "    # We can reduce the max_seq_length from the default of 2048 for faster encoding\n",
        "embedding_model.max_seq_length = MAX_LENGTH"
      ]
    },
    {
      "cell_type": "code",
      "execution_count": 364,
      "metadata": {
        "execution": {
          "iopub.execute_input": "2025-01-05T19:16:55.709120Z",
          "iopub.status.busy": "2025-01-05T19:16:55.708803Z",
          "iopub.status.idle": "2025-01-05T19:16:55.719611Z",
          "shell.execute_reply": "2025-01-05T19:16:55.718745Z",
          "shell.execute_reply.started": "2025-01-05T19:16:55.709100Z"
        },
        "id": "AmPLSuxxBaeB",
        "trusted": true
      },
      "outputs": [],
      "source": [
        "embedding_model.eval() # embedding_model in training mode (dropout modules are activated)"
      ]
    },
    {
      "cell_type": "code",
      "execution_count": 365,
      "metadata": {
        "execution": {
          "iopub.execute_input": "2025-01-05T19:16:55.720543Z",
          "iopub.status.busy": "2025-01-05T19:16:55.720340Z",
          "iopub.status.idle": "2025-01-05T19:16:55.734097Z",
          "shell.execute_reply": "2025-01-05T19:16:55.733332Z",
          "shell.execute_reply.started": "2025-01-05T19:16:55.720525Z"
        },
        "id": "MCHCmWeqZd1R",
        "trusted": true
      },
      "outputs": [],
      "source": [
        "device=\"cuda\" if torch.cuda.is_available() else 'cpu'\n",
        "device"
      ]
    },
    {
      "cell_type": "code",
      "execution_count": 367,
      "metadata": {
        "execution": {
          "iopub.execute_input": "2025-01-05T19:16:55.761188Z",
          "iopub.status.busy": "2025-01-05T19:16:55.760917Z",
          "iopub.status.idle": "2025-01-05T19:16:56.101169Z",
          "shell.execute_reply": "2025-01-05T19:16:56.100496Z",
          "shell.execute_reply.started": "2025-01-05T19:16:55.761160Z"
        },
        "id": "Ot09dhy1Jq2T",
        "trusted": true
      },
      "outputs": [],
      "source": [
        "embedding_model = embedding_model.to(device)\n",
        "for param in embedding_model.parameters():\n",
        "    param.data = param.data.contiguous()"
      ]
    },
    {
      "cell_type": "code",
      "execution_count": 368,
      "metadata": {
        "id": "LcyDYbHFFhS4"
      },
      "outputs": [],
      "source": [
        "# Custom Dataset for batching\n",
        "class TextDataset(Dataset):\n",
        "    def __init__(self, texts):\n",
        "        self.texts = texts\n",
        "\n",
        "    def __len__(self):\n",
        "        return len(self.texts)\n",
        "\n",
        "    def __getitem__(self, idx):\n",
        "        # Tokenize a single example\n",
        "        return self.texts[idx]\n"
      ]
    },
    {
      "cell_type": "code",
      "execution_count": 370,
      "metadata": {
        "id": "s8dV8g_NDo_v"
      },
      "outputs": [],
      "source": [
        "\n",
        "# Batch extraction function\n",
        "def extract_embeddings(texts, model, batch_size=32):\n",
        "    dataset = TextDataset(texts)\n",
        "    dataloader = DataLoader(dataset, batch_size=batch_size, shuffle=False)\n",
        "\n",
        "    embeddings = []\n",
        "    model.eval()\n",
        "    with torch.no_grad():\n",
        "        for batch in tqdm(dataloader, desc=\"Extracting embeddings\"):\n",
        "            # Move batch to device\n",
        "            # input_ids = torch.Tensor(batch['input_ids']).squeeze().to(device)\n",
        "            # attention_mask = torch.Tensor(batch['attention_mask']).squeeze().to(device)\n",
        "\n",
        "            # Forward pass through the model\n",
        "            cls_embeddings = model.encode(batch)\n",
        "            embeddings.append(cls_embeddings)\n",
        "\n",
        "    return np.vstack(embeddings)"
      ]
    },
    {
      "cell_type": "code",
      "execution_count": 371,
      "metadata": {
        "colab": {
          "base_uri": "https://localhost:8080/"
        },
        "id": "QkJtUXXiDx22",
        "outputId": "e237c974-38f0-43ae-ecab-62875c7101c3"
      },
      "outputs": [
        {
          "name": "stderr",
          "output_type": "stream",
          "text": [
            "Extracting embeddings: 100%|██████████| 63/63 [00:30<00:00,  2.07it/s]\n"
          ]
        }
      ],
      "source": [
        "# Extract embeddings for train and validation datasets\n",
        "x_train_embeddings = extract_embeddings(x_train, embedding_model, batch_size=32)"
      ]
    },
    {
      "cell_type": "code",
      "execution_count": 372,
      "metadata": {
        "id": "gcScaudA1Vrk"
      },
      "outputs": [],
      "source": [
        "np.save(\"x_train_embeddings.npy\",x_train_embeddings)"
      ]
    },
    {
      "cell_type": "code",
      "execution_count": 373,
      "metadata": {
        "id": "J-d1ZAwbDzS-"
      },
      "outputs": [],
      "source": [
        "# Flatten labels for XGBoost (multi-label classification)\n",
        "y_train_flat = np.array(y_train)"
      ]
    },
    {
      "cell_type": "code",
      "execution_count": 374,
      "metadata": {
        "id": "eJ89U0khMXAq"
      },
      "outputs": [],
      "source": [
        "import xgboost as xgb"
      ]
    },
    {
      "cell_type": "code",
      "execution_count": 375,
      "metadata": {
        "id": "Fa279ZX6MXAr"
      },
      "outputs": [],
      "source": [
        "# xgb_models = {}\n",
        "\n",
        "# for i, label in enumerate(label_columns):\n",
        "#     print(f\"Training XGBoost for label: {label}\")\n",
        "#     # Use the computed class weights for the positive class\n",
        "#     scale_pos_weight = class_weights_tensor[i].item()\n",
        "#     # Initialize and train XGBoost classifier\n",
        "#     xgb_model = xgb.XGBClassifier(\n",
        "#         objective='binary:logistic',\n",
        "#         eval_metric='logloss',\n",
        "#         use_label_encoder=False,\n",
        "#         n_estimators=100,\n",
        "#         learning_rate=0.1,\n",
        "#         max_depth=6,\n",
        "#         tree_method='hist',\n",
        "#         scale_pos_weight=scale_pos_weight,  # Apply the class weight here\n",
        "#         device=device\n",
        "#     )\n",
        "#     xgb_model.fit(x_train_embeddings, y_train_flat[:, i])\n",
        "#     xgb_models[label] = xgb_model"
      ]
    },
    {
      "cell_type": "code",
      "execution_count": 376,
      "metadata": {
        "id": "9jHj9smdMXAr"
      },
      "outputs": [],
      "source": [
        "# Save the XGBoost models if needed\n",
        "# for label, model in xgb_models.items():\n",
        "#     model.save_model(f\"xgb_model_{label}.json\")"
      ]
    },
    {
      "cell_type": "code",
      "execution_count": 377,
      "metadata": {
        "id": "Du-mS-6LMXAr"
      },
      "outputs": [],
      "source": [
        "# import pickle\n",
        "# # Save the XGBoost models if needed\n",
        "# for label, model in xgb_models.items():\n",
        "#     with open(f\"xgb_model_{label}.pkl\", 'wb') as f:\n",
        "#       pickle.dump(model, f)"
      ]
    },
    {
      "cell_type": "code",
      "execution_count": 378,
      "metadata": {
        "id": "R4SklNOpMXAr"
      },
      "outputs": [],
      "source": [
        "# !zip xgb_models_pkl.zip xgb_model_*.pkl"
      ]
    },
    {
      "cell_type": "code",
      "execution_count": 379,
      "metadata": {
        "id": "HmjpzkjdFvGC"
      },
      "outputs": [],
      "source": [
        "!rm -rf svm*"
      ]
    },
    {
      "cell_type": "code",
      "execution_count": 380,
      "metadata": {
        "id": "TMRlx05eKvBY"
      },
      "outputs": [],
      "source": [
        "from sklearn.svm import SVC"
      ]
    },
    {
      "cell_type": "code",
      "execution_count": 381,
      "metadata": {
        "colab": {
          "base_uri": "https://localhost:8080/"
        },
        "id": "lEP0kNeYD7L2",
        "outputId": "b97cb0a1-d785-4f49-c467-0506706516b7"
      },
      "outputs": [
        {
          "name": "stdout",
          "output_type": "stream",
          "text": [
            "Training SVM for label: anger\n",
            "Training SVM for label: disgust\n",
            "Training SVM for label: fear\n",
            "Training SVM for label: joy\n",
            "Training SVM for label: sadness\n",
            "Training SVM for label: surprise\n"
          ]
        }
      ],
      "source": [
        "svm_models = {}\n",
        "\n",
        "for i, label in enumerate(label_columns):\n",
        "    print(f\"Training SVM for label: {label}\")\n",
        "\n",
        "    # Use the computed class weights for balancing the classes\n",
        "    class_weight = {0: 1, 1: class_weights_tensor[i].item()}  # Adjust the class weights\n",
        "\n",
        "    svm_model = SVC(class_weight={0: 1, 1: class_weights_tensor[i].item()})\n",
        "\n",
        "    svm_model.fit(x_train_embeddings, y_train_flat[:, i])\n",
        "    svm_models[label] = svm_model"
      ]
    },
    {
      "cell_type": "code",
      "execution_count": 382,
      "metadata": {
        "id": "K2XuOhEj6u_U"
      },
      "outputs": [],
      "source": [
        "import pickle\n",
        "# Save the svm models if needed\n",
        "for label, model in svm_models.items():\n",
        "    with open(f\"svm_model_{label}.pkl\", 'wb') as f:\n",
        "      pickle.dump(model, f)"
      ]
    },
    {
      "cell_type": "code",
      "execution_count": 383,
      "metadata": {
        "colab": {
          "base_uri": "https://localhost:8080/"
        },
        "id": "0BW54_je667r",
        "outputId": "d14a4a89-573d-449b-f71c-5b8d2652f9bf"
      },
      "outputs": [
        {
          "name": "stdout",
          "output_type": "stream",
          "text": [
            "  adding: svm_model_anger.pkl (deflated 75%)\n",
            "  adding: svm_model_disgust.pkl (deflated 75%)\n",
            "  adding: svm_model_fear.pkl (deflated 75%)\n",
            "  adding: svm_model_joy.pkl (deflated 75%)\n",
            "  adding: svm_model_sadness.pkl (deflated 75%)\n",
            "  adding: svm_model_surprise.pkl (deflated 75%)\n"
          ]
        }
      ],
      "source": [
        "!zip svm_models_pkl.zip svm_model_*.pkl"
      ]
    },
    {
      "cell_type": "code",
      "execution_count": 384,
      "metadata": {
        "id": "zhVJ1at0MXAs"
      },
      "outputs": [],
      "source": [
        "kind=\"dev\""
      ]
    },
    {
      "cell_type": "code",
      "execution_count": 385,
      "metadata": {
        "colab": {
          "base_uri": "https://localhost:8080/",
          "height": 423
        },
        "id": "nhnFaUn6MXAs",
        "outputId": "f34c296b-6a9b-4302-9c8b-5e93b36fb2ad"
      },
      "outputs": [
        {
          "data": {
            "application/vnd.google.colaboratory.intrinsic+json": {
              "summary": "{\n  \"name\": \"dev_data\",\n  \"rows\": 184,\n  \"fields\": [\n    {\n      \"column\": \"index\",\n      \"properties\": {\n        \"dtype\": \"number\",\n        \"std\": 53,\n        \"min\": 0,\n        \"max\": 183,\n        \"num_unique_values\": 184,\n        \"samples\": [\n          19,\n          42,\n          156\n        ],\n        \"semantic_type\": \"\",\n        \"description\": \"\"\n      }\n    },\n    {\n      \"column\": \"id\",\n      \"properties\": {\n        \"dtype\": \"string\",\n        \"num_unique_values\": 184,\n        \"samples\": [\n          \"esp_dev_track_a_00020\",\n          \"esp_dev_track_a_00043\",\n          \"esp_dev_track_a_00157\"\n        ],\n        \"semantic_type\": \"\",\n        \"description\": \"\"\n      }\n    },\n    {\n      \"column\": \"anger\",\n      \"properties\": {\n        \"dtype\": \"number\",\n        \"std\": 0,\n        \"min\": 0,\n        \"max\": 0,\n        \"num_unique_values\": 1,\n        \"samples\": [\n          0\n        ],\n        \"semantic_type\": \"\",\n        \"description\": \"\"\n      }\n    },\n    {\n      \"column\": \"disgust\",\n      \"properties\": {\n        \"dtype\": \"number\",\n        \"std\": 0,\n        \"min\": 0,\n        \"max\": 0,\n        \"num_unique_values\": 1,\n        \"samples\": [\n          0\n        ],\n        \"semantic_type\": \"\",\n        \"description\": \"\"\n      }\n    },\n    {\n      \"column\": \"fear\",\n      \"properties\": {\n        \"dtype\": \"number\",\n        \"std\": 0,\n        \"min\": 0,\n        \"max\": 0,\n        \"num_unique_values\": 1,\n        \"samples\": [\n          0\n        ],\n        \"semantic_type\": \"\",\n        \"description\": \"\"\n      }\n    },\n    {\n      \"column\": \"joy\",\n      \"properties\": {\n        \"dtype\": \"number\",\n        \"std\": 0,\n        \"min\": 0,\n        \"max\": 0,\n        \"num_unique_values\": 1,\n        \"samples\": [\n          0\n        ],\n        \"semantic_type\": \"\",\n        \"description\": \"\"\n      }\n    },\n    {\n      \"column\": \"sadness\",\n      \"properties\": {\n        \"dtype\": \"number\",\n        \"std\": 0,\n        \"min\": 0,\n        \"max\": 0,\n        \"num_unique_values\": 1,\n        \"samples\": [\n          0\n        ],\n        \"semantic_type\": \"\",\n        \"description\": \"\"\n      }\n    },\n    {\n      \"column\": \"surprise\",\n      \"properties\": {\n        \"dtype\": \"number\",\n        \"std\": 0,\n        \"min\": 0,\n        \"max\": 0,\n        \"num_unique_values\": 1,\n        \"samples\": [\n          0\n        ],\n        \"semantic_type\": \"\",\n        \"description\": \"\"\n      }\n    },\n    {\n      \"column\": \"lang\",\n      \"properties\": {\n        \"dtype\": \"category\",\n        \"num_unique_values\": 1,\n        \"samples\": [\n          \"esp\"\n        ],\n        \"semantic_type\": \"\",\n        \"description\": \"\"\n      }\n    },\n    {\n      \"column\": \"clean_message\",\n      \"properties\": {\n        \"dtype\": \"string\",\n        \"num_unique_values\": 184,\n        \"samples\": [\n          \"a mi me da miedo a m\\u00ed mam\\u00e1 con la chancla\"\n        ],\n        \"semantic_type\": \"\",\n        \"description\": \"\"\n      }\n    }\n  ]\n}",
              "type": "dataframe"
            },
            "text/html": [
              "\n",
              "  <div id=\"df-44fd20b3-f2f5-4f7f-9d44-9458884feb03\" class=\"colab-df-container\">\n",
              "    <div>\n",
              "<style scoped>\n",
              "    .dataframe tbody tr th:only-of-type {\n",
              "        vertical-align: middle;\n",
              "    }\n",
              "\n",
              "    .dataframe tbody tr th {\n",
              "        vertical-align: top;\n",
              "    }\n",
              "\n",
              "    .dataframe thead th {\n",
              "        text-align: right;\n",
              "    }\n",
              "</style>\n",
              "<table border=\"1\" class=\"dataframe\">\n",
              "  <thead>\n",
              "    <tr style=\"text-align: right;\">\n",
              "      <th></th>\n",
              "      <th>index</th>\n",
              "      <th>id</th>\n",
              "      <th>anger</th>\n",
              "      <th>disgust</th>\n",
              "      <th>fear</th>\n",
              "      <th>joy</th>\n",
              "      <th>sadness</th>\n",
              "      <th>surprise</th>\n",
              "      <th>lang</th>\n",
              "      <th>clean_message</th>\n",
              "    </tr>\n",
              "  </thead>\n",
              "  <tbody>\n",
              "    <tr>\n",
              "      <th>0</th>\n",
              "      <td>0</td>\n",
              "      <td>esp_dev_track_a_00001</td>\n",
              "      <td>0</td>\n",
              "      <td>0</td>\n",
              "      <td>0</td>\n",
              "      <td>0</td>\n",
              "      <td>0</td>\n",
              "      <td>0</td>\n",
              "      <td>esp</td>\n",
              "      <td>lástima que este roast va a desaparecer</td>\n",
              "    </tr>\n",
              "    <tr>\n",
              "      <th>1</th>\n",
              "      <td>1</td>\n",
              "      <td>esp_dev_track_a_00002</td>\n",
              "      <td>0</td>\n",
              "      <td>0</td>\n",
              "      <td>0</td>\n",
              "      <td>0</td>\n",
              "      <td>0</td>\n",
              "      <td>0</td>\n",
              "      <td>esp</td>\n",
              "      <td>la verdad 3lla tiene razón los trajes son horr...</td>\n",
              "    </tr>\n",
              "    <tr>\n",
              "      <th>2</th>\n",
              "      <td>2</td>\n",
              "      <td>esp_dev_track_a_00003</td>\n",
              "      <td>0</td>\n",
              "      <td>0</td>\n",
              "      <td>0</td>\n",
              "      <td>0</td>\n",
              "      <td>0</td>\n",
              "      <td>0</td>\n",
              "      <td>esp</td>\n",
              "      <td>mi padre me rompio el corazon broken heart nun...</td>\n",
              "    </tr>\n",
              "    <tr>\n",
              "      <th>3</th>\n",
              "      <td>3</td>\n",
              "      <td>esp_dev_track_a_00004</td>\n",
              "      <td>0</td>\n",
              "      <td>0</td>\n",
              "      <td>0</td>\n",
              "      <td>0</td>\n",
              "      <td>0</td>\n",
              "      <td>0</td>\n",
              "      <td>esp</td>\n",
              "      <td>deberás sus vídeos están super horribles y sus...</td>\n",
              "    </tr>\n",
              "    <tr>\n",
              "      <th>4</th>\n",
              "      <td>4</td>\n",
              "      <td>esp_dev_track_a_00005</td>\n",
              "      <td>0</td>\n",
              "      <td>0</td>\n",
              "      <td>0</td>\n",
              "      <td>0</td>\n",
              "      <td>0</td>\n",
              "      <td>0</td>\n",
              "      <td>esp</td>\n",
              "      <td>que asco alto cringe larguense de youtube esto...</td>\n",
              "    </tr>\n",
              "    <tr>\n",
              "      <th>...</th>\n",
              "      <td>...</td>\n",
              "      <td>...</td>\n",
              "      <td>...</td>\n",
              "      <td>...</td>\n",
              "      <td>...</td>\n",
              "      <td>...</td>\n",
              "      <td>...</td>\n",
              "      <td>...</td>\n",
              "      <td>...</td>\n",
              "      <td>...</td>\n",
              "    </tr>\n",
              "    <tr>\n",
              "      <th>179</th>\n",
              "      <td>179</td>\n",
              "      <td>esp_dev_track_a_00180</td>\n",
              "      <td>0</td>\n",
              "      <td>0</td>\n",
              "      <td>0</td>\n",
              "      <td>0</td>\n",
              "      <td>0</td>\n",
              "      <td>0</td>\n",
              "      <td>esp</td>\n",
              "      <td>sinceramente los vídeos como estos me hacen ll...</td>\n",
              "    </tr>\n",
              "    <tr>\n",
              "      <th>180</th>\n",
              "      <td>180</td>\n",
              "      <td>esp_dev_track_a_00181</td>\n",
              "      <td>0</td>\n",
              "      <td>0</td>\n",
              "      <td>0</td>\n",
              "      <td>0</td>\n",
              "      <td>0</td>\n",
              "      <td>0</td>\n",
              "      <td>esp</td>\n",
              "      <td>crying face que injusticia urge permitir que l...</td>\n",
              "    </tr>\n",
              "    <tr>\n",
              "      <th>181</th>\n",
              "      <td>181</td>\n",
              "      <td>esp_dev_track_a_00182</td>\n",
              "      <td>0</td>\n",
              "      <td>0</td>\n",
              "      <td>0</td>\n",
              "      <td>0</td>\n",
              "      <td>0</td>\n",
              "      <td>0</td>\n",
              "      <td>esp</td>\n",
              "      <td>llore pensar que yo te seguí desde tu primer v...</td>\n",
              "    </tr>\n",
              "    <tr>\n",
              "      <th>182</th>\n",
              "      <td>182</td>\n",
              "      <td>esp_dev_track_a_00183</td>\n",
              "      <td>0</td>\n",
              "      <td>0</td>\n",
              "      <td>0</td>\n",
              "      <td>0</td>\n",
              "      <td>0</td>\n",
              "      <td>0</td>\n",
              "      <td>esp</td>\n",
              "      <td>no entendí xd están o no</td>\n",
              "    </tr>\n",
              "    <tr>\n",
              "      <th>183</th>\n",
              "      <td>183</td>\n",
              "      <td>esp_dev_track_a_00184</td>\n",
              "      <td>0</td>\n",
              "      <td>0</td>\n",
              "      <td>0</td>\n",
              "      <td>0</td>\n",
              "      <td>0</td>\n",
              "      <td>0</td>\n",
              "      <td>esp</td>\n",
              "      <td>por que no está el trips que pena de verdad</td>\n",
              "    </tr>\n",
              "  </tbody>\n",
              "</table>\n",
              "<p>184 rows × 10 columns</p>\n",
              "</div>\n",
              "    <div class=\"colab-df-buttons\">\n",
              "\n",
              "  <div class=\"colab-df-container\">\n",
              "    <button class=\"colab-df-convert\" onclick=\"convertToInteractive('df-44fd20b3-f2f5-4f7f-9d44-9458884feb03')\"\n",
              "            title=\"Convert this dataframe to an interactive table.\"\n",
              "            style=\"display:none;\">\n",
              "\n",
              "  <svg xmlns=\"http://www.w3.org/2000/svg\" height=\"24px\" viewBox=\"0 -960 960 960\">\n",
              "    <path d=\"M120-120v-720h720v720H120Zm60-500h600v-160H180v160Zm220 220h160v-160H400v160Zm0 220h160v-160H400v160ZM180-400h160v-160H180v160Zm440 0h160v-160H620v160ZM180-180h160v-160H180v160Zm440 0h160v-160H620v160Z\"/>\n",
              "  </svg>\n",
              "    </button>\n",
              "\n",
              "  <style>\n",
              "    .colab-df-container {\n",
              "      display:flex;\n",
              "      gap: 12px;\n",
              "    }\n",
              "\n",
              "    .colab-df-convert {\n",
              "      background-color: #E8F0FE;\n",
              "      border: none;\n",
              "      border-radius: 50%;\n",
              "      cursor: pointer;\n",
              "      display: none;\n",
              "      fill: #1967D2;\n",
              "      height: 32px;\n",
              "      padding: 0 0 0 0;\n",
              "      width: 32px;\n",
              "    }\n",
              "\n",
              "    .colab-df-convert:hover {\n",
              "      background-color: #E2EBFA;\n",
              "      box-shadow: 0px 1px 2px rgba(60, 64, 67, 0.3), 0px 1px 3px 1px rgba(60, 64, 67, 0.15);\n",
              "      fill: #174EA6;\n",
              "    }\n",
              "\n",
              "    .colab-df-buttons div {\n",
              "      margin-bottom: 4px;\n",
              "    }\n",
              "\n",
              "    [theme=dark] .colab-df-convert {\n",
              "      background-color: #3B4455;\n",
              "      fill: #D2E3FC;\n",
              "    }\n",
              "\n",
              "    [theme=dark] .colab-df-convert:hover {\n",
              "      background-color: #434B5C;\n",
              "      box-shadow: 0px 1px 3px 1px rgba(0, 0, 0, 0.15);\n",
              "      filter: drop-shadow(0px 1px 2px rgba(0, 0, 0, 0.3));\n",
              "      fill: #FFFFFF;\n",
              "    }\n",
              "  </style>\n",
              "\n",
              "    <script>\n",
              "      const buttonEl =\n",
              "        document.querySelector('#df-44fd20b3-f2f5-4f7f-9d44-9458884feb03 button.colab-df-convert');\n",
              "      buttonEl.style.display =\n",
              "        google.colab.kernel.accessAllowed ? 'block' : 'none';\n",
              "\n",
              "      async function convertToInteractive(key) {\n",
              "        const element = document.querySelector('#df-44fd20b3-f2f5-4f7f-9d44-9458884feb03');\n",
              "        const dataTable =\n",
              "          await google.colab.kernel.invokeFunction('convertToInteractive',\n",
              "                                                    [key], {});\n",
              "        if (!dataTable) return;\n",
              "\n",
              "        const docLinkHtml = 'Like what you see? Visit the ' +\n",
              "          '<a target=\"_blank\" href=https://colab.research.google.com/notebooks/data_table.ipynb>data table notebook</a>'\n",
              "          + ' to learn more about interactive tables.';\n",
              "        element.innerHTML = '';\n",
              "        dataTable['output_type'] = 'display_data';\n",
              "        await google.colab.output.renderOutput(dataTable, element);\n",
              "        const docLink = document.createElement('div');\n",
              "        docLink.innerHTML = docLinkHtml;\n",
              "        element.appendChild(docLink);\n",
              "      }\n",
              "    </script>\n",
              "  </div>\n",
              "\n",
              "\n",
              "<div id=\"df-fadd1140-d838-44d0-8e69-25ed5af16332\">\n",
              "  <button class=\"colab-df-quickchart\" onclick=\"quickchart('df-fadd1140-d838-44d0-8e69-25ed5af16332')\"\n",
              "            title=\"Suggest charts\"\n",
              "            style=\"display:none;\">\n",
              "\n",
              "<svg xmlns=\"http://www.w3.org/2000/svg\" height=\"24px\"viewBox=\"0 0 24 24\"\n",
              "     width=\"24px\">\n",
              "    <g>\n",
              "        <path d=\"M19 3H5c-1.1 0-2 .9-2 2v14c0 1.1.9 2 2 2h14c1.1 0 2-.9 2-2V5c0-1.1-.9-2-2-2zM9 17H7v-7h2v7zm4 0h-2V7h2v10zm4 0h-2v-4h2v4z\"/>\n",
              "    </g>\n",
              "</svg>\n",
              "  </button>\n",
              "\n",
              "<style>\n",
              "  .colab-df-quickchart {\n",
              "      --bg-color: #E8F0FE;\n",
              "      --fill-color: #1967D2;\n",
              "      --hover-bg-color: #E2EBFA;\n",
              "      --hover-fill-color: #174EA6;\n",
              "      --disabled-fill-color: #AAA;\n",
              "      --disabled-bg-color: #DDD;\n",
              "  }\n",
              "\n",
              "  [theme=dark] .colab-df-quickchart {\n",
              "      --bg-color: #3B4455;\n",
              "      --fill-color: #D2E3FC;\n",
              "      --hover-bg-color: #434B5C;\n",
              "      --hover-fill-color: #FFFFFF;\n",
              "      --disabled-bg-color: #3B4455;\n",
              "      --disabled-fill-color: #666;\n",
              "  }\n",
              "\n",
              "  .colab-df-quickchart {\n",
              "    background-color: var(--bg-color);\n",
              "    border: none;\n",
              "    border-radius: 50%;\n",
              "    cursor: pointer;\n",
              "    display: none;\n",
              "    fill: var(--fill-color);\n",
              "    height: 32px;\n",
              "    padding: 0;\n",
              "    width: 32px;\n",
              "  }\n",
              "\n",
              "  .colab-df-quickchart:hover {\n",
              "    background-color: var(--hover-bg-color);\n",
              "    box-shadow: 0 1px 2px rgba(60, 64, 67, 0.3), 0 1px 3px 1px rgba(60, 64, 67, 0.15);\n",
              "    fill: var(--button-hover-fill-color);\n",
              "  }\n",
              "\n",
              "  .colab-df-quickchart-complete:disabled,\n",
              "  .colab-df-quickchart-complete:disabled:hover {\n",
              "    background-color: var(--disabled-bg-color);\n",
              "    fill: var(--disabled-fill-color);\n",
              "    box-shadow: none;\n",
              "  }\n",
              "\n",
              "  .colab-df-spinner {\n",
              "    border: 2px solid var(--fill-color);\n",
              "    border-color: transparent;\n",
              "    border-bottom-color: var(--fill-color);\n",
              "    animation:\n",
              "      spin 1s steps(1) infinite;\n",
              "  }\n",
              "\n",
              "  @keyframes spin {\n",
              "    0% {\n",
              "      border-color: transparent;\n",
              "      border-bottom-color: var(--fill-color);\n",
              "      border-left-color: var(--fill-color);\n",
              "    }\n",
              "    20% {\n",
              "      border-color: transparent;\n",
              "      border-left-color: var(--fill-color);\n",
              "      border-top-color: var(--fill-color);\n",
              "    }\n",
              "    30% {\n",
              "      border-color: transparent;\n",
              "      border-left-color: var(--fill-color);\n",
              "      border-top-color: var(--fill-color);\n",
              "      border-right-color: var(--fill-color);\n",
              "    }\n",
              "    40% {\n",
              "      border-color: transparent;\n",
              "      border-right-color: var(--fill-color);\n",
              "      border-top-color: var(--fill-color);\n",
              "    }\n",
              "    60% {\n",
              "      border-color: transparent;\n",
              "      border-right-color: var(--fill-color);\n",
              "    }\n",
              "    80% {\n",
              "      border-color: transparent;\n",
              "      border-right-color: var(--fill-color);\n",
              "      border-bottom-color: var(--fill-color);\n",
              "    }\n",
              "    90% {\n",
              "      border-color: transparent;\n",
              "      border-bottom-color: var(--fill-color);\n",
              "    }\n",
              "  }\n",
              "</style>\n",
              "\n",
              "  <script>\n",
              "    async function quickchart(key) {\n",
              "      const quickchartButtonEl =\n",
              "        document.querySelector('#' + key + ' button');\n",
              "      quickchartButtonEl.disabled = true;  // To prevent multiple clicks.\n",
              "      quickchartButtonEl.classList.add('colab-df-spinner');\n",
              "      try {\n",
              "        const charts = await google.colab.kernel.invokeFunction(\n",
              "            'suggestCharts', [key], {});\n",
              "      } catch (error) {\n",
              "        console.error('Error during call to suggestCharts:', error);\n",
              "      }\n",
              "      quickchartButtonEl.classList.remove('colab-df-spinner');\n",
              "      quickchartButtonEl.classList.add('colab-df-quickchart-complete');\n",
              "    }\n",
              "    (() => {\n",
              "      let quickchartButtonEl =\n",
              "        document.querySelector('#df-fadd1140-d838-44d0-8e69-25ed5af16332 button');\n",
              "      quickchartButtonEl.style.display =\n",
              "        google.colab.kernel.accessAllowed ? 'block' : 'none';\n",
              "    })();\n",
              "  </script>\n",
              "</div>\n",
              "    </div>\n",
              "  </div>\n"
            ],
            "text/plain": [
              "     index                     id  anger  disgust  fear  joy  sadness  \\\n",
              "0        0  esp_dev_track_a_00001      0        0     0    0        0   \n",
              "1        1  esp_dev_track_a_00002      0        0     0    0        0   \n",
              "2        2  esp_dev_track_a_00003      0        0     0    0        0   \n",
              "3        3  esp_dev_track_a_00004      0        0     0    0        0   \n",
              "4        4  esp_dev_track_a_00005      0        0     0    0        0   \n",
              "..     ...                    ...    ...      ...   ...  ...      ...   \n",
              "179    179  esp_dev_track_a_00180      0        0     0    0        0   \n",
              "180    180  esp_dev_track_a_00181      0        0     0    0        0   \n",
              "181    181  esp_dev_track_a_00182      0        0     0    0        0   \n",
              "182    182  esp_dev_track_a_00183      0        0     0    0        0   \n",
              "183    183  esp_dev_track_a_00184      0        0     0    0        0   \n",
              "\n",
              "     surprise lang                                      clean_message  \n",
              "0           0  esp            lástima que este roast va a desaparecer  \n",
              "1           0  esp  la verdad 3lla tiene razón los trajes son horr...  \n",
              "2           0  esp  mi padre me rompio el corazon broken heart nun...  \n",
              "3           0  esp  deberás sus vídeos están super horribles y sus...  \n",
              "4           0  esp  que asco alto cringe larguense de youtube esto...  \n",
              "..        ...  ...                                                ...  \n",
              "179         0  esp  sinceramente los vídeos como estos me hacen ll...  \n",
              "180         0  esp  crying face que injusticia urge permitir que l...  \n",
              "181         0  esp  llore pensar que yo te seguí desde tu primer v...  \n",
              "182         0  esp                           no entendí xd están o no  \n",
              "183         0  esp        por que no está el trips que pena de verdad  \n",
              "\n",
              "[184 rows x 10 columns]"
            ]
          },
          "execution_count": 385,
          "metadata": {},
          "output_type": "execute_result"
        }
      ],
      "source": [
        "all_csv=pd.DataFrame()\n",
        "\n",
        "for lang in langs:\n",
        "\n",
        "    processed_path=f\"processed_data/{kind}/{task}/{lang}.csv\"\n",
        "    # if kind==\"dev\":\n",
        "    #    processed_path=processed_path.replace(lang,lang+task[-2:])\n",
        "    if not os.path.isfile(processed_path):\n",
        "\n",
        "      print(\"not found:\",processed_path)\n",
        "\n",
        "      continue\n",
        "    train_data=pd.read_csv(processed_path)\n",
        "\n",
        "    train_data.columns = train_data.columns.str.lower()\n",
        "\n",
        "    all_csv = pd.concat([all_csv, train_data],ignore_index=True)\n",
        "dev_data=all_csv\n",
        "dev_data=dev_data.fillna(0)\n",
        "float_columns = dev_data.select_dtypes(include=['float64']).columns\n",
        "\n",
        "# Convert those columns to int\n",
        "dev_data[float_columns] = dev_data[float_columns].astype('int')\n",
        "dev_data = dev_data[dev_data['clean_message'].isnull()==False]\n",
        "dev_data.reset_index()\n"
      ]
    },
    {
      "cell_type": "code",
      "execution_count": 386,
      "metadata": {
        "id": "5o3BTrYtMXAs"
      },
      "outputs": [],
      "source": [
        "x_dev, y_dev = dev_data['clean_message'].values.tolist(), dev_data[label_columns].values.tolist()"
      ]
    },
    {
      "cell_type": "code",
      "execution_count": 387,
      "metadata": {
        "id": "UHCkNG34MXAs"
      },
      "outputs": [],
      "source": [
        "y_dev_df = pd.DataFrame(y_dev, columns=label_columns)"
      ]
    },
    {
      "cell_type": "code",
      "execution_count": 388,
      "metadata": {
        "colab": {
          "base_uri": "https://localhost:8080/"
        },
        "id": "oyWtdjnYMXAs",
        "outputId": "1fc0d80c-7168-4a0b-b335-aebc245f3dce"
      },
      "outputs": [
        {
          "name": "stderr",
          "output_type": "stream",
          "text": [
            "Extracting embeddings: 100%|██████████| 6/6 [00:03<00:00,  1.72it/s]\n"
          ]
        }
      ],
      "source": [
        "x_dev_embeddings = extract_embeddings(x_dev, embedding_model, batch_size=32)"
      ]
    },
    {
      "cell_type": "code",
      "execution_count": 389,
      "metadata": {
        "id": "WjeDNuqEMXAt"
      },
      "outputs": [],
      "source": [
        "y_dev_flat = np.array(y_dev)"
      ]
    },
    {
      "cell_type": "code",
      "execution_count": 390,
      "metadata": {
        "colab": {
          "base_uri": "https://localhost:8080/"
        },
        "id": "3FoBtPJxMXAt",
        "outputId": "9ea0309d-10d9-4940-ca4c-81fbef9f8a61"
      },
      "outputs": [
        {
          "name": "stdout",
          "output_type": "stream",
          "text": [
            "Predicting for label: anger\n",
            "Predicting for label: disgust\n",
            "Predicting for label: fear\n",
            "Predicting for label: joy\n",
            "Predicting for label: sadness\n",
            "Predicting for label: surprise\n"
          ]
        }
      ],
      "source": [
        "# Predict labels for the test data\n",
        "test_predictions = {}\n",
        "for label in label_columns:\n",
        "    print(f\"Predicting for label: {label}\")\n",
        "    test_predictions[label] = svm_models[label].predict(x_dev_embeddings)"
      ]
    },
    {
      "cell_type": "code",
      "execution_count": 391,
      "metadata": {
        "id": "_P1CbM-_MXAt"
      },
      "outputs": [],
      "source": [
        "predictions_df = pd.DataFrame(test_predictions)\n",
        "dev_data.reset_index(inplace=True)"
      ]
    },
    {
      "cell_type": "code",
      "execution_count": 392,
      "metadata": {
        "id": "NwG32gbtMXAt"
      },
      "outputs": [],
      "source": [
        "output_df = pd.concat([dev_data[['id','lang']], predictions_df], axis=1)"
      ]
    },
    {
      "cell_type": "code",
      "execution_count": 393,
      "metadata": {
        "id": "NiY-w-qZD41K"
      },
      "outputs": [],
      "source": [
        "!rm -rf track*"
      ]
    },
    {
      "cell_type": "code",
      "execution_count": 394,
      "metadata": {
        "colab": {
          "base_uri": "https://localhost:8080/"
        },
        "id": "XqPYlQX5MXAt",
        "outputId": "9e00161f-4d4e-47d3-e424-64408810e173"
      },
      "outputs": [
        {
          "name": "stdout",
          "output_type": "stream",
          "text": [
            "Predictions for language 'esp' saved to track_a/pred_esp.csv\n"
          ]
        }
      ],
      "source": [
        "# Create directory if it doesn't exist\n",
        "output_dir = task\n",
        "os.makedirs(output_dir, exist_ok=True)\n",
        "\n",
        "# Iterate through the unique languages in the 'lang' column\n",
        "for lang in output_df['lang'].unique():\n",
        "    # Filter rows for the current language\n",
        "    lang_df = output_df[output_df['lang'] == lang]\n",
        "    lang_df.drop(columns=['lang'],inplace=True)\n",
        "\n",
        "    # Define the output file path for the current language\n",
        "    lang_csv_file = os.path.join(output_dir, f\"pred_{lang}.csv\")\n",
        "\n",
        "    # Sort the DataFrame by the 'id' column\n",
        "    lang_df.sort_values(by='id', inplace=True)\n",
        "\n",
        "    # Save the filtered DataFrame to a CSV file\n",
        "    lang_df.to_csv(lang_csv_file, index=False)\n",
        "\n",
        "    # Print a confirmation message\n",
        "    print(f\"Predictions for language '{lang}' saved to {lang_csv_file}\")"
      ]
    },
    {
      "cell_type": "code",
      "execution_count": 395,
      "metadata": {
        "colab": {
          "base_uri": "https://localhost:8080/"
        },
        "id": "wLsDfIWwMXAt",
        "outputId": "c7082730-e739-4a05-b8d7-c45110e87a6d"
      },
      "outputs": [
        {
          "name": "stdout",
          "output_type": "stream",
          "text": [
            "  adding: track_a/ (stored 0%)\n",
            "  adding: track_a/pred_esp.csv (deflated 89%)\n"
          ]
        }
      ],
      "source": [
        "!zip -r {task}.zip {task}"
      ]
    }
  ],
  "metadata": {
    "accelerator": "GPU",
    "colab": {
      "gpuType": "T4",
      "provenance": []
    },
    "kaggle": {
      "accelerator": "gpu",
      "dataSources": [],
      "dockerImageVersionId": 30823,
      "isGpuEnabled": true,
      "isInternetEnabled": true,
      "language": "python",
      "sourceType": "notebook"
    },
    "kernelspec": {
      "display_name": "Python 3",
      "language": "python",
      "name": "python3"
    },
    "language_info": {
      "codemirror_mode": {
        "name": "ipython",
        "version": 3
      },
      "file_extension": ".py",
      "mimetype": "text/x-python",
      "name": "python",
      "nbconvert_exporter": "python",
      "pygments_lexer": "ipython3",
      "version": "3.10.12"
    }
  },
  "nbformat": 4,
  "nbformat_minor": 0
}
