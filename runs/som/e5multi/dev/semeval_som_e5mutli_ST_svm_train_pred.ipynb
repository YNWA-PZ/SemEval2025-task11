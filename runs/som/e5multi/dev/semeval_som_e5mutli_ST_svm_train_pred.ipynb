{
  "cells": [
    {
      "cell_type": "code",
      "execution_count": 1,
      "metadata": {
        "id": "EKReewTRMXAf"
      },
      "outputs": [],
      "source": [
        "model_name=\"intfloat/multilingual-e5-large-instruct\""
      ]
    },
    {
      "cell_type": "code",
      "execution_count": 2,
      "metadata": {
        "id": "rVRSZaZ7DdeQ"
      },
      "outputs": [],
      "source": [
        "import os\n",
        "\n",
        "os.environ['CUDA_LAUNCH_BLOCKING'] = \"1\"\n",
        "\n",
        "os.environ['WANDB_DISABLED'] = \"true\""
      ]
    },
    {
      "cell_type": "code",
      "execution_count": 3,
      "metadata": {
        "colab": {
          "base_uri": "https://localhost:8080/"
        },
        "execution": {
          "iopub.execute_input": "2025-01-05T19:15:21.336921Z",
          "iopub.status.busy": "2025-01-05T19:15:21.336601Z",
          "iopub.status.idle": "2025-01-05T19:15:28.642730Z",
          "shell.execute_reply": "2025-01-05T19:15:28.641846Z",
          "shell.execute_reply.started": "2025-01-05T19:15:21.336883Z"
        },
        "id": "jiRg5MiCozSJ",
        "outputId": "865d5aae-fb0b-488c-c4e9-5ab113720b2b",
        "trusted": true
      },
      "outputs": [
        {
          "output_type": "stream",
          "name": "stdout",
          "text": [
            "Downloading...\n",
            "From: https://drive.google.com/uc?id=1EI12smTmdi4Mlu_lLNULN6p6g9dYEWql\n",
            "To: /content/processed_data.zip\n",
            "\r  0% 0.00/6.00M [00:00<?, ?B/s]\r100% 6.00M/6.00M [00:00<00:00, 96.8MB/s]\n"
          ]
        }
      ],
      "source": [
        "# !gdown 1qq5gDuEAqWnoviRBDYfbprLFD-MPQyNo\n",
        "# !gdown 1mq9CWT9MXsH1Y-ihxVL4uEzufQjpBoer\n",
        "!gdown 1EI12smTmdi4Mlu_lLNULN6p6g9dYEWql"
      ]
    },
    {
      "cell_type": "code",
      "execution_count": 4,
      "metadata": {
        "execution": {
          "iopub.execute_input": "2025-01-05T19:15:28.644379Z",
          "iopub.status.busy": "2025-01-05T19:15:28.644090Z",
          "iopub.status.idle": "2025-01-05T19:15:29.037021Z",
          "shell.execute_reply": "2025-01-05T19:15:29.035964Z",
          "shell.execute_reply.started": "2025-01-05T19:15:28.644356Z"
        },
        "id": "kexrENAEo54E",
        "trusted": true
      },
      "outputs": [],
      "source": [
        "!rm -rf processed_data\n",
        "\n",
        "!unzip -q processed_data.zip"
      ]
    },
    {
      "cell_type": "code",
      "execution_count": 5,
      "metadata": {
        "execution": {
          "iopub.execute_input": "2025-01-05T19:15:29.038684Z",
          "iopub.status.busy": "2025-01-05T19:15:29.038337Z",
          "iopub.status.idle": "2025-01-05T19:16:03.984740Z",
          "shell.execute_reply": "2025-01-05T19:16:03.983693Z",
          "shell.execute_reply.started": "2025-01-05T19:15:29.038659Z"
        },
        "id": "VC2TifwamSFK",
        "trusted": true,
        "colab": {
          "base_uri": "https://localhost:8080/"
        },
        "outputId": "61b8653e-18ea-4f3d-d9a9-24a1ca949c43"
      },
      "outputs": [
        {
          "output_type": "stream",
          "name": "stdout",
          "text": [
            "\u001b[2K     \u001b[90m━━━━━━━━━━━━━━━━━━━━━━━━━━━━━━━━━━━━━━━━\u001b[0m \u001b[32m44.4/44.4 kB\u001b[0m \u001b[31m1.8 MB/s\u001b[0m eta \u001b[36m0:00:00\u001b[0m\n",
            "\u001b[2K   \u001b[90m━━━━━━━━━━━━━━━━━━━━━━━━━━━━━━━━━━━━━━━━\u001b[0m \u001b[32m9.7/9.7 MB\u001b[0m \u001b[31m32.2 MB/s\u001b[0m eta \u001b[36m0:00:00\u001b[0m\n",
            "\u001b[2K   \u001b[90m━━━━━━━━━━━━━━━━━━━━━━━━━━━━━━━━━━━━━━━━\u001b[0m \u001b[32m480.6/480.6 kB\u001b[0m \u001b[31m10.7 MB/s\u001b[0m eta \u001b[36m0:00:00\u001b[0m\n",
            "\u001b[2K   \u001b[90m━━━━━━━━━━━━━━━━━━━━━━━━━━━━━━━━━━━━━━━━\u001b[0m \u001b[32m116.3/116.3 kB\u001b[0m \u001b[31m10.2 MB/s\u001b[0m eta \u001b[36m0:00:00\u001b[0m\n",
            "\u001b[2K   \u001b[90m━━━━━━━━━━━━━━━━━━━━━━━━━━━━━━━━━━━━━━━━\u001b[0m \u001b[32m179.3/179.3 kB\u001b[0m \u001b[31m14.8 MB/s\u001b[0m eta \u001b[36m0:00:00\u001b[0m\n",
            "\u001b[2K   \u001b[90m━━━━━━━━━━━━━━━━━━━━━━━━━━━━━━━━━━━━━━━━\u001b[0m \u001b[32m134.8/134.8 kB\u001b[0m \u001b[31m12.1 MB/s\u001b[0m eta \u001b[36m0:00:00\u001b[0m\n",
            "\u001b[2K   \u001b[90m━━━━━━━━━━━━━━━━━━━━━━━━━━━━━━━━━━━━━━━━\u001b[0m \u001b[32m194.1/194.1 kB\u001b[0m \u001b[31m15.9 MB/s\u001b[0m eta \u001b[36m0:00:00\u001b[0m\n",
            "\u001b[?25h\u001b[31mERROR: pip's dependency resolver does not currently take into account all the packages that are installed. This behaviour is the source of the following dependency conflicts.\n",
            "gcsfs 2024.10.0 requires fsspec==2024.10.0, but you have fsspec 2024.9.0 which is incompatible.\u001b[0m\u001b[31m\n",
            "\u001b[2K   \u001b[90m━━━━━━━━━━━━━━━━━━━━━━━━━━━━━━━━━━━━━━━━\u001b[0m \u001b[32m23.5/23.5 MB\u001b[0m \u001b[31m68.6 MB/s\u001b[0m eta \u001b[36m0:00:00\u001b[0m\n",
            "\u001b[2K   \u001b[90m━━━━━━━━━━━━━━━━━━━━━━━━━━━━━━━━━━━━━━━━\u001b[0m \u001b[32m424.1/424.1 kB\u001b[0m \u001b[31m33.0 MB/s\u001b[0m eta \u001b[36m0:00:00\u001b[0m\n",
            "\u001b[2K   \u001b[90m━━━━━━━━━━━━━━━━━━━━━━━━━━━━━━━━━━━━━━━━\u001b[0m \u001b[32m69.1/69.1 MB\u001b[0m \u001b[31m10.7 MB/s\u001b[0m eta \u001b[36m0:00:00\u001b[0m\n",
            "\u001b[2K   \u001b[90m━━━━━━━━━━━━━━━━━━━━━━━━━━━━━━━━━━━━━━━━\u001b[0m \u001b[32m46.0/46.0 kB\u001b[0m \u001b[31m4.0 MB/s\u001b[0m eta \u001b[36m0:00:00\u001b[0m\n",
            "\u001b[2K   \u001b[90m━━━━━━━━━━━━━━━━━━━━━━━━━━━━━━━━━━━━━━━━\u001b[0m \u001b[32m13.2/13.2 MB\u001b[0m \u001b[31m84.4 MB/s\u001b[0m eta \u001b[36m0:00:00\u001b[0m\n",
            "\u001b[2K   \u001b[90m━━━━━━━━━━━━━━━━━━━━━━━━━━━━━━━━━━━━━━━━\u001b[0m \u001b[32m86.8/86.8 kB\u001b[0m \u001b[31m8.4 MB/s\u001b[0m eta \u001b[36m0:00:00\u001b[0m\n",
            "\u001b[?25h"
          ]
        }
      ],
      "source": [
        "!pip install -q transformers[torch] accelerate -U\n",
        "\n",
        "!pip install -q datasets\n",
        "\n",
        "!pip install -q transformers\n",
        "\n",
        "!pip install -q iterative-stratification\n",
        "\n",
        "!pip install -q auto-gptq optimum bitsandbytes"
      ]
    },
    {
      "cell_type": "code",
      "execution_count": 6,
      "metadata": {
        "execution": {
          "iopub.execute_input": "2025-01-05T19:16:03.986156Z",
          "iopub.status.busy": "2025-01-05T19:16:03.985858Z",
          "iopub.status.idle": "2025-01-05T19:16:17.769314Z",
          "shell.execute_reply": "2025-01-05T19:16:17.768671Z",
          "shell.execute_reply.started": "2025-01-05T19:16:03.986133Z"
        },
        "id": "a_v9ZQjVoIma",
        "trusted": true
      },
      "outputs": [],
      "source": [
        "import numpy as np\n",
        "\n",
        "import pandas as pd\n",
        "\n",
        "import os\n",
        "\n",
        "from os import path\n",
        "\n",
        "import glob\n",
        "\n",
        "from tqdm.notebook import tqdm\n",
        "\n",
        "from tqdm import tqdm\n",
        "\n",
        "import string\n",
        "\n",
        "import copy\n",
        "\n",
        "from transformers import AutoTokenizer, AutoModelForSequenceClassification, TrainingArguments, Trainer,IntervalStrategy,BitsAndBytesConfig\n",
        "\n",
        "from datasets import Dataset,load_dataset, DatasetDict\n",
        "\n",
        "# from iterstrat.ml_stratifiers import MultilabelStratifiedKFold\n",
        "\n",
        "from sklearn.metrics import confusion_matrix, ConfusionMatrixDisplay\n",
        "\n",
        "\n",
        "\n",
        "from sklearn.model_selection import train_test_split,KFold\n",
        "\n",
        "from sklearn.metrics import classification_report,accuracy_score, f1_score\n",
        "\n",
        "from sklearn.metrics import precision_recall_fscore_support\n",
        "\n",
        "from sklearn.utils import shuffle\n",
        "\n",
        "from sklearn.preprocessing import LabelEncoder\n",
        "\n",
        "from scipy.special import expit\n",
        "\n",
        "from peft import prepare_model_for_kbit_training\n",
        "\n",
        "from peft import LoraConfig, get_peft_model,PeftModel\n"
      ]
    },
    {
      "cell_type": "code",
      "execution_count": 7,
      "metadata": {
        "execution": {
          "iopub.execute_input": "2025-01-05T19:16:17.770536Z",
          "iopub.status.busy": "2025-01-05T19:16:17.770048Z",
          "iopub.status.idle": "2025-01-05T19:16:17.773985Z",
          "shell.execute_reply": "2025-01-05T19:16:17.773122Z",
          "shell.execute_reply.started": "2025-01-05T19:16:17.770512Z"
        },
        "id": "BN44kbQ4ocG2",
        "trusted": true
      },
      "outputs": [],
      "source": [
        "import torch\n",
        "\n",
        "import torch.nn as nn\n",
        "\n",
        "import torch.nn.functional as F"
      ]
    },
    {
      "cell_type": "code",
      "execution_count": 8,
      "metadata": {
        "execution": {
          "iopub.execute_input": "2025-01-05T19:16:17.777241Z",
          "iopub.status.busy": "2025-01-05T19:16:17.776925Z",
          "iopub.status.idle": "2025-01-05T19:16:17.791835Z",
          "shell.execute_reply": "2025-01-05T19:16:17.790818Z",
          "shell.execute_reply.started": "2025-01-05T19:16:17.777202Z"
        },
        "id": "Ugv0OfRImSin",
        "trusted": true
      },
      "outputs": [],
      "source": [
        "\n",
        "\n",
        "models_list_3=[\n",
        "        model_name,\n",
        "          ]\n",
        "\n",
        "\n",
        "\n",
        "models_name_3=[\n",
        "        model_name,\n",
        "\n",
        "]"
      ]
    },
    {
      "cell_type": "code",
      "execution_count": 892,
      "metadata": {
        "execution": {
          "iopub.execute_input": "2025-01-05T19:16:17.794172Z",
          "iopub.status.busy": "2025-01-05T19:16:17.793838Z",
          "iopub.status.idle": "2025-01-05T19:16:17.808123Z",
          "shell.execute_reply": "2025-01-05T19:16:17.807421Z",
          "shell.execute_reply.started": "2025-01-05T19:16:17.794136Z"
        },
        "id": "1kwye6PzpT4N",
        "trusted": true
      },
      "outputs": [],
      "source": [
        "kind=\"train\"\n",
        "\n",
        "task=\"track_a\"\n",
        "\n",
        "# langs=[\"afr\",\"amh\",\"deu\",\"eng\",\"oro\",\"ptbr\",\"rus\",\"som\",\"sum\",\"tir\"]\n",
        "# labels=['Anger','Disgust', 'Fear', 'Joy', 'Sadness', 'Surprise']\n",
        "# langs=[\"amh\",\"arq\",\"ary\",\"chn\",\"deu\",\"esp\",\"hau\",\"hin\",\"ibo\",\"kin\",\"mar\",\"orm\",\"pcm\",\"ptbr\",\"ptmz\",\"ron\",\"rus\",\"som\",\"sun\",\"swa\",\"swe\",\"tat\",\"tir\",\"ukr\",\"vmw\",\"yor\",\"ind\",\"jav\",\"xho\",\"zul\"]\n",
        "langs=[\"som\"]\n",
        "# langs=[\"eng\"]\n",
        "# langs=[\"afr\"]\n",
        "\n",
        "\n",
        "# processed_path=f\"processed_data/{kinds[0]}/{tasks[0]}/{langs[3]}.csv\"\n",
        "\n",
        "\n",
        "\n",
        "# train_data=pd.read_csv(processed_path)\n"
      ]
    },
    {
      "cell_type": "code",
      "execution_count": 893,
      "metadata": {
        "execution": {
          "iopub.execute_input": "2025-01-05T19:16:17.809100Z",
          "iopub.status.busy": "2025-01-05T19:16:17.808821Z",
          "iopub.status.idle": "2025-01-05T19:16:17.843638Z",
          "shell.execute_reply": "2025-01-05T19:16:17.842877Z",
          "shell.execute_reply.started": "2025-01-05T19:16:17.809071Z"
        },
        "id": "1x0MboqJuj21",
        "trusted": true
      },
      "outputs": [],
      "source": [
        "all_csv=pd.DataFrame()\n",
        "\n",
        "for lang in langs:\n",
        "\n",
        "    processed_path=f\"processed_data/{kind}/{task}/{lang}.csv\"\n",
        "    # if kind==\"dev\":\n",
        "    #    processed_path=processed_path.replace(lang,lang+task[-2:])\n",
        "    if not os.path.isfile(processed_path):\n",
        "\n",
        "      print(\"not found:\",processed_path)\n",
        "\n",
        "      continue\n",
        "    train_data=pd.read_csv(processed_path)\n",
        "\n",
        "    train_data.columns = train_data.columns.str.lower()\n",
        "\n",
        "    all_csv = pd.concat([all_csv, train_data],ignore_index=True)\n",
        "\n",
        "\n"
      ]
    },
    {
      "cell_type": "code",
      "execution_count": 894,
      "metadata": {
        "execution": {
          "iopub.execute_input": "2025-01-05T19:16:17.890902Z",
          "iopub.status.busy": "2025-01-05T19:16:17.890614Z",
          "iopub.status.idle": "2025-01-05T19:16:17.900899Z",
          "shell.execute_reply": "2025-01-05T19:16:17.900153Z",
          "shell.execute_reply.started": "2025-01-05T19:16:17.890867Z"
        },
        "id": "zITfHiVrBad5",
        "trusted": true
      },
      "outputs": [],
      "source": [
        "train_data=all_csv\n"
      ]
    },
    {
      "cell_type": "code",
      "execution_count": 895,
      "metadata": {
        "execution": {
          "iopub.execute_input": "2025-01-05T19:16:17.912630Z",
          "iopub.status.busy": "2025-01-05T19:16:17.912355Z",
          "iopub.status.idle": "2025-01-05T19:16:17.929266Z",
          "shell.execute_reply": "2025-01-05T19:16:17.928527Z",
          "shell.execute_reply.started": "2025-01-05T19:16:17.912598Z"
        },
        "id": "7a-08HGownlu",
        "trusted": true
      },
      "outputs": [],
      "source": [
        "train_data=train_data.fillna(0)"
      ]
    },
    {
      "cell_type": "code",
      "execution_count": 896,
      "metadata": {
        "execution": {
          "iopub.execute_input": "2025-01-05T19:16:17.930200Z",
          "iopub.status.busy": "2025-01-05T19:16:17.930010Z",
          "iopub.status.idle": "2025-01-05T19:16:17.952285Z",
          "shell.execute_reply": "2025-01-05T19:16:17.951380Z",
          "shell.execute_reply.started": "2025-01-05T19:16:17.930173Z"
        },
        "id": "wWyOiTLLBad5",
        "trusted": true
      },
      "outputs": [],
      "source": [
        "float_columns = train_data.select_dtypes(include=['float64']).columns\n",
        "# Convert those columns to int\n",
        "train_data[float_columns] = train_data[float_columns].astype('int')"
      ]
    },
    {
      "cell_type": "code",
      "execution_count": 897,
      "metadata": {
        "colab": {
          "base_uri": "https://localhost:8080/",
          "height": 423
        },
        "execution": {
          "iopub.execute_input": "2025-01-05T19:16:17.965502Z",
          "iopub.status.busy": "2025-01-05T19:16:17.965221Z",
          "iopub.status.idle": "2025-01-05T19:16:17.984776Z",
          "shell.execute_reply": "2025-01-05T19:16:17.984010Z",
          "shell.execute_reply.started": "2025-01-05T19:16:17.965472Z"
        },
        "id": "tlabsablmWzT",
        "outputId": "ba34cbf7-31e1-4cfa-d6d8-37169e7ffc87",
        "trusted": true
      },
      "outputs": [
        {
          "output_type": "execute_result",
          "data": {
            "text/plain": [
              "      index                       id  anger  disgust  fear  joy  sadness  \\\n",
              "0         0  som_train_track_a_00001      0        0     0    0        1   \n",
              "1         1  som_train_track_a_00002      0        0     0    0        0   \n",
              "2         2  som_train_track_a_00003      0        0     0    1        0   \n",
              "3         3  som_train_track_a_00004      0        0     0    1        0   \n",
              "4         4  som_train_track_a_00005      0        0     0    0        1   \n",
              "...     ...                      ...    ...      ...   ...  ...      ...   \n",
              "3387   3387  som_train_track_a_03388      0        0     0    0        1   \n",
              "3388   3388  som_train_track_a_03389      0        1     0    0        0   \n",
              "3389   3389  som_train_track_a_03390      1        0     0    0        0   \n",
              "3390   3390  som_train_track_a_03391      0        0     0    0        0   \n",
              "3391   3391  som_train_track_a_03392      0        0     0    0        0   \n",
              "\n",
              "      surprise lang                                      clean_message  \n",
              "0            0  som  ilahay hakuuugargaaaro wlllo wlhi waaanlaoooya...  \n",
              "1            0  som  mahadsanid walaaalkiiis lkn iniga ugu yaraaan ...  \n",
              "2            0  som  hambalyo ummmaddda sooomaaaliyeeed waxaaan laq...  \n",
              "3            0  som  waxa uuu ahaaa faqiiir lkn jacayl ayaaa hayay ...  \n",
              "4            0  som  iskal ilaaasha sinada iyo siiigada xuman allla...  \n",
              "...        ...  ...                                                ...  \n",
              "3387         0  som  hadaaan sidiii futo ari looo feydin ma fayooob...  \n",
              "3388         0  som             allla maxa barooor kadhacaysa qoladiii  \n",
              "3389         0  som  garaaad jaaamac garaaad ali garaaadka guuud ee...  \n",
              "3390         0  som  taliska ciiidanka xoooggga dalka ooo war kasoo...  \n",
              "3391         0  som  waxaaan dhalinyarada uuuga waramay dadalaaadii...  \n",
              "\n",
              "[3392 rows x 10 columns]"
            ],
            "text/html": [
              "\n",
              "  <div id=\"df-b45185d6-eef9-4198-a41b-4b73c6a23c6b\" class=\"colab-df-container\">\n",
              "    <div>\n",
              "<style scoped>\n",
              "    .dataframe tbody tr th:only-of-type {\n",
              "        vertical-align: middle;\n",
              "    }\n",
              "\n",
              "    .dataframe tbody tr th {\n",
              "        vertical-align: top;\n",
              "    }\n",
              "\n",
              "    .dataframe thead th {\n",
              "        text-align: right;\n",
              "    }\n",
              "</style>\n",
              "<table border=\"1\" class=\"dataframe\">\n",
              "  <thead>\n",
              "    <tr style=\"text-align: right;\">\n",
              "      <th></th>\n",
              "      <th>index</th>\n",
              "      <th>id</th>\n",
              "      <th>anger</th>\n",
              "      <th>disgust</th>\n",
              "      <th>fear</th>\n",
              "      <th>joy</th>\n",
              "      <th>sadness</th>\n",
              "      <th>surprise</th>\n",
              "      <th>lang</th>\n",
              "      <th>clean_message</th>\n",
              "    </tr>\n",
              "  </thead>\n",
              "  <tbody>\n",
              "    <tr>\n",
              "      <th>0</th>\n",
              "      <td>0</td>\n",
              "      <td>som_train_track_a_00001</td>\n",
              "      <td>0</td>\n",
              "      <td>0</td>\n",
              "      <td>0</td>\n",
              "      <td>0</td>\n",
              "      <td>1</td>\n",
              "      <td>0</td>\n",
              "      <td>som</td>\n",
              "      <td>ilahay hakuuugargaaaro wlllo wlhi waaanlaoooya...</td>\n",
              "    </tr>\n",
              "    <tr>\n",
              "      <th>1</th>\n",
              "      <td>1</td>\n",
              "      <td>som_train_track_a_00002</td>\n",
              "      <td>0</td>\n",
              "      <td>0</td>\n",
              "      <td>0</td>\n",
              "      <td>0</td>\n",
              "      <td>0</td>\n",
              "      <td>0</td>\n",
              "      <td>som</td>\n",
              "      <td>mahadsanid walaaalkiiis lkn iniga ugu yaraaan ...</td>\n",
              "    </tr>\n",
              "    <tr>\n",
              "      <th>2</th>\n",
              "      <td>2</td>\n",
              "      <td>som_train_track_a_00003</td>\n",
              "      <td>0</td>\n",
              "      <td>0</td>\n",
              "      <td>0</td>\n",
              "      <td>1</td>\n",
              "      <td>0</td>\n",
              "      <td>0</td>\n",
              "      <td>som</td>\n",
              "      <td>hambalyo ummmaddda sooomaaaliyeeed waxaaan laq...</td>\n",
              "    </tr>\n",
              "    <tr>\n",
              "      <th>3</th>\n",
              "      <td>3</td>\n",
              "      <td>som_train_track_a_00004</td>\n",
              "      <td>0</td>\n",
              "      <td>0</td>\n",
              "      <td>0</td>\n",
              "      <td>1</td>\n",
              "      <td>0</td>\n",
              "      <td>0</td>\n",
              "      <td>som</td>\n",
              "      <td>waxa uuu ahaaa faqiiir lkn jacayl ayaaa hayay ...</td>\n",
              "    </tr>\n",
              "    <tr>\n",
              "      <th>4</th>\n",
              "      <td>4</td>\n",
              "      <td>som_train_track_a_00005</td>\n",
              "      <td>0</td>\n",
              "      <td>0</td>\n",
              "      <td>0</td>\n",
              "      <td>0</td>\n",
              "      <td>1</td>\n",
              "      <td>0</td>\n",
              "      <td>som</td>\n",
              "      <td>iskal ilaaasha sinada iyo siiigada xuman allla...</td>\n",
              "    </tr>\n",
              "    <tr>\n",
              "      <th>...</th>\n",
              "      <td>...</td>\n",
              "      <td>...</td>\n",
              "      <td>...</td>\n",
              "      <td>...</td>\n",
              "      <td>...</td>\n",
              "      <td>...</td>\n",
              "      <td>...</td>\n",
              "      <td>...</td>\n",
              "      <td>...</td>\n",
              "      <td>...</td>\n",
              "    </tr>\n",
              "    <tr>\n",
              "      <th>3387</th>\n",
              "      <td>3387</td>\n",
              "      <td>som_train_track_a_03388</td>\n",
              "      <td>0</td>\n",
              "      <td>0</td>\n",
              "      <td>0</td>\n",
              "      <td>0</td>\n",
              "      <td>1</td>\n",
              "      <td>0</td>\n",
              "      <td>som</td>\n",
              "      <td>hadaaan sidiii futo ari looo feydin ma fayooob...</td>\n",
              "    </tr>\n",
              "    <tr>\n",
              "      <th>3388</th>\n",
              "      <td>3388</td>\n",
              "      <td>som_train_track_a_03389</td>\n",
              "      <td>0</td>\n",
              "      <td>1</td>\n",
              "      <td>0</td>\n",
              "      <td>0</td>\n",
              "      <td>0</td>\n",
              "      <td>0</td>\n",
              "      <td>som</td>\n",
              "      <td>allla maxa barooor kadhacaysa qoladiii</td>\n",
              "    </tr>\n",
              "    <tr>\n",
              "      <th>3389</th>\n",
              "      <td>3389</td>\n",
              "      <td>som_train_track_a_03390</td>\n",
              "      <td>1</td>\n",
              "      <td>0</td>\n",
              "      <td>0</td>\n",
              "      <td>0</td>\n",
              "      <td>0</td>\n",
              "      <td>0</td>\n",
              "      <td>som</td>\n",
              "      <td>garaaad jaaamac garaaad ali garaaadka guuud ee...</td>\n",
              "    </tr>\n",
              "    <tr>\n",
              "      <th>3390</th>\n",
              "      <td>3390</td>\n",
              "      <td>som_train_track_a_03391</td>\n",
              "      <td>0</td>\n",
              "      <td>0</td>\n",
              "      <td>0</td>\n",
              "      <td>0</td>\n",
              "      <td>0</td>\n",
              "      <td>0</td>\n",
              "      <td>som</td>\n",
              "      <td>taliska ciiidanka xoooggga dalka ooo war kasoo...</td>\n",
              "    </tr>\n",
              "    <tr>\n",
              "      <th>3391</th>\n",
              "      <td>3391</td>\n",
              "      <td>som_train_track_a_03392</td>\n",
              "      <td>0</td>\n",
              "      <td>0</td>\n",
              "      <td>0</td>\n",
              "      <td>0</td>\n",
              "      <td>0</td>\n",
              "      <td>0</td>\n",
              "      <td>som</td>\n",
              "      <td>waxaaan dhalinyarada uuuga waramay dadalaaadii...</td>\n",
              "    </tr>\n",
              "  </tbody>\n",
              "</table>\n",
              "<p>3392 rows × 10 columns</p>\n",
              "</div>\n",
              "    <div class=\"colab-df-buttons\">\n",
              "\n",
              "  <div class=\"colab-df-container\">\n",
              "    <button class=\"colab-df-convert\" onclick=\"convertToInteractive('df-b45185d6-eef9-4198-a41b-4b73c6a23c6b')\"\n",
              "            title=\"Convert this dataframe to an interactive table.\"\n",
              "            style=\"display:none;\">\n",
              "\n",
              "  <svg xmlns=\"http://www.w3.org/2000/svg\" height=\"24px\" viewBox=\"0 -960 960 960\">\n",
              "    <path d=\"M120-120v-720h720v720H120Zm60-500h600v-160H180v160Zm220 220h160v-160H400v160Zm0 220h160v-160H400v160ZM180-400h160v-160H180v160Zm440 0h160v-160H620v160ZM180-180h160v-160H180v160Zm440 0h160v-160H620v160Z\"/>\n",
              "  </svg>\n",
              "    </button>\n",
              "\n",
              "  <style>\n",
              "    .colab-df-container {\n",
              "      display:flex;\n",
              "      gap: 12px;\n",
              "    }\n",
              "\n",
              "    .colab-df-convert {\n",
              "      background-color: #E8F0FE;\n",
              "      border: none;\n",
              "      border-radius: 50%;\n",
              "      cursor: pointer;\n",
              "      display: none;\n",
              "      fill: #1967D2;\n",
              "      height: 32px;\n",
              "      padding: 0 0 0 0;\n",
              "      width: 32px;\n",
              "    }\n",
              "\n",
              "    .colab-df-convert:hover {\n",
              "      background-color: #E2EBFA;\n",
              "      box-shadow: 0px 1px 2px rgba(60, 64, 67, 0.3), 0px 1px 3px 1px rgba(60, 64, 67, 0.15);\n",
              "      fill: #174EA6;\n",
              "    }\n",
              "\n",
              "    .colab-df-buttons div {\n",
              "      margin-bottom: 4px;\n",
              "    }\n",
              "\n",
              "    [theme=dark] .colab-df-convert {\n",
              "      background-color: #3B4455;\n",
              "      fill: #D2E3FC;\n",
              "    }\n",
              "\n",
              "    [theme=dark] .colab-df-convert:hover {\n",
              "      background-color: #434B5C;\n",
              "      box-shadow: 0px 1px 3px 1px rgba(0, 0, 0, 0.15);\n",
              "      filter: drop-shadow(0px 1px 2px rgba(0, 0, 0, 0.3));\n",
              "      fill: #FFFFFF;\n",
              "    }\n",
              "  </style>\n",
              "\n",
              "    <script>\n",
              "      const buttonEl =\n",
              "        document.querySelector('#df-b45185d6-eef9-4198-a41b-4b73c6a23c6b button.colab-df-convert');\n",
              "      buttonEl.style.display =\n",
              "        google.colab.kernel.accessAllowed ? 'block' : 'none';\n",
              "\n",
              "      async function convertToInteractive(key) {\n",
              "        const element = document.querySelector('#df-b45185d6-eef9-4198-a41b-4b73c6a23c6b');\n",
              "        const dataTable =\n",
              "          await google.colab.kernel.invokeFunction('convertToInteractive',\n",
              "                                                    [key], {});\n",
              "        if (!dataTable) return;\n",
              "\n",
              "        const docLinkHtml = 'Like what you see? Visit the ' +\n",
              "          '<a target=\"_blank\" href=https://colab.research.google.com/notebooks/data_table.ipynb>data table notebook</a>'\n",
              "          + ' to learn more about interactive tables.';\n",
              "        element.innerHTML = '';\n",
              "        dataTable['output_type'] = 'display_data';\n",
              "        await google.colab.output.renderOutput(dataTable, element);\n",
              "        const docLink = document.createElement('div');\n",
              "        docLink.innerHTML = docLinkHtml;\n",
              "        element.appendChild(docLink);\n",
              "      }\n",
              "    </script>\n",
              "  </div>\n",
              "\n",
              "\n",
              "<div id=\"df-bfb90dc3-40dd-448e-89da-738c64cb9ae0\">\n",
              "  <button class=\"colab-df-quickchart\" onclick=\"quickchart('df-bfb90dc3-40dd-448e-89da-738c64cb9ae0')\"\n",
              "            title=\"Suggest charts\"\n",
              "            style=\"display:none;\">\n",
              "\n",
              "<svg xmlns=\"http://www.w3.org/2000/svg\" height=\"24px\"viewBox=\"0 0 24 24\"\n",
              "     width=\"24px\">\n",
              "    <g>\n",
              "        <path d=\"M19 3H5c-1.1 0-2 .9-2 2v14c0 1.1.9 2 2 2h14c1.1 0 2-.9 2-2V5c0-1.1-.9-2-2-2zM9 17H7v-7h2v7zm4 0h-2V7h2v10zm4 0h-2v-4h2v4z\"/>\n",
              "    </g>\n",
              "</svg>\n",
              "  </button>\n",
              "\n",
              "<style>\n",
              "  .colab-df-quickchart {\n",
              "      --bg-color: #E8F0FE;\n",
              "      --fill-color: #1967D2;\n",
              "      --hover-bg-color: #E2EBFA;\n",
              "      --hover-fill-color: #174EA6;\n",
              "      --disabled-fill-color: #AAA;\n",
              "      --disabled-bg-color: #DDD;\n",
              "  }\n",
              "\n",
              "  [theme=dark] .colab-df-quickchart {\n",
              "      --bg-color: #3B4455;\n",
              "      --fill-color: #D2E3FC;\n",
              "      --hover-bg-color: #434B5C;\n",
              "      --hover-fill-color: #FFFFFF;\n",
              "      --disabled-bg-color: #3B4455;\n",
              "      --disabled-fill-color: #666;\n",
              "  }\n",
              "\n",
              "  .colab-df-quickchart {\n",
              "    background-color: var(--bg-color);\n",
              "    border: none;\n",
              "    border-radius: 50%;\n",
              "    cursor: pointer;\n",
              "    display: none;\n",
              "    fill: var(--fill-color);\n",
              "    height: 32px;\n",
              "    padding: 0;\n",
              "    width: 32px;\n",
              "  }\n",
              "\n",
              "  .colab-df-quickchart:hover {\n",
              "    background-color: var(--hover-bg-color);\n",
              "    box-shadow: 0 1px 2px rgba(60, 64, 67, 0.3), 0 1px 3px 1px rgba(60, 64, 67, 0.15);\n",
              "    fill: var(--button-hover-fill-color);\n",
              "  }\n",
              "\n",
              "  .colab-df-quickchart-complete:disabled,\n",
              "  .colab-df-quickchart-complete:disabled:hover {\n",
              "    background-color: var(--disabled-bg-color);\n",
              "    fill: var(--disabled-fill-color);\n",
              "    box-shadow: none;\n",
              "  }\n",
              "\n",
              "  .colab-df-spinner {\n",
              "    border: 2px solid var(--fill-color);\n",
              "    border-color: transparent;\n",
              "    border-bottom-color: var(--fill-color);\n",
              "    animation:\n",
              "      spin 1s steps(1) infinite;\n",
              "  }\n",
              "\n",
              "  @keyframes spin {\n",
              "    0% {\n",
              "      border-color: transparent;\n",
              "      border-bottom-color: var(--fill-color);\n",
              "      border-left-color: var(--fill-color);\n",
              "    }\n",
              "    20% {\n",
              "      border-color: transparent;\n",
              "      border-left-color: var(--fill-color);\n",
              "      border-top-color: var(--fill-color);\n",
              "    }\n",
              "    30% {\n",
              "      border-color: transparent;\n",
              "      border-left-color: var(--fill-color);\n",
              "      border-top-color: var(--fill-color);\n",
              "      border-right-color: var(--fill-color);\n",
              "    }\n",
              "    40% {\n",
              "      border-color: transparent;\n",
              "      border-right-color: var(--fill-color);\n",
              "      border-top-color: var(--fill-color);\n",
              "    }\n",
              "    60% {\n",
              "      border-color: transparent;\n",
              "      border-right-color: var(--fill-color);\n",
              "    }\n",
              "    80% {\n",
              "      border-color: transparent;\n",
              "      border-right-color: var(--fill-color);\n",
              "      border-bottom-color: var(--fill-color);\n",
              "    }\n",
              "    90% {\n",
              "      border-color: transparent;\n",
              "      border-bottom-color: var(--fill-color);\n",
              "    }\n",
              "  }\n",
              "</style>\n",
              "\n",
              "  <script>\n",
              "    async function quickchart(key) {\n",
              "      const quickchartButtonEl =\n",
              "        document.querySelector('#' + key + ' button');\n",
              "      quickchartButtonEl.disabled = true;  // To prevent multiple clicks.\n",
              "      quickchartButtonEl.classList.add('colab-df-spinner');\n",
              "      try {\n",
              "        const charts = await google.colab.kernel.invokeFunction(\n",
              "            'suggestCharts', [key], {});\n",
              "      } catch (error) {\n",
              "        console.error('Error during call to suggestCharts:', error);\n",
              "      }\n",
              "      quickchartButtonEl.classList.remove('colab-df-spinner');\n",
              "      quickchartButtonEl.classList.add('colab-df-quickchart-complete');\n",
              "    }\n",
              "    (() => {\n",
              "      let quickchartButtonEl =\n",
              "        document.querySelector('#df-bfb90dc3-40dd-448e-89da-738c64cb9ae0 button');\n",
              "      quickchartButtonEl.style.display =\n",
              "        google.colab.kernel.accessAllowed ? 'block' : 'none';\n",
              "    })();\n",
              "  </script>\n",
              "</div>\n",
              "    </div>\n",
              "  </div>\n"
            ],
            "application/vnd.google.colaboratory.intrinsic+json": {
              "type": "dataframe",
              "summary": "{\n  \"name\": \"train_data\",\n  \"rows\": 3392,\n  \"fields\": [\n    {\n      \"column\": \"index\",\n      \"properties\": {\n        \"dtype\": \"number\",\n        \"std\": 979,\n        \"min\": 0,\n        \"max\": 3391,\n        \"num_unique_values\": 3392,\n        \"samples\": [\n          134,\n          785,\n          1606\n        ],\n        \"semantic_type\": \"\",\n        \"description\": \"\"\n      }\n    },\n    {\n      \"column\": \"id\",\n      \"properties\": {\n        \"dtype\": \"string\",\n        \"num_unique_values\": 3392,\n        \"samples\": [\n          \"som_train_track_a_00135\",\n          \"som_train_track_a_00786\",\n          \"som_train_track_a_01607\"\n        ],\n        \"semantic_type\": \"\",\n        \"description\": \"\"\n      }\n    },\n    {\n      \"column\": \"anger\",\n      \"properties\": {\n        \"dtype\": \"number\",\n        \"std\": 0,\n        \"min\": 0,\n        \"max\": 1,\n        \"num_unique_values\": 2,\n        \"samples\": [\n          1,\n          0\n        ],\n        \"semantic_type\": \"\",\n        \"description\": \"\"\n      }\n    },\n    {\n      \"column\": \"disgust\",\n      \"properties\": {\n        \"dtype\": \"number\",\n        \"std\": 0,\n        \"min\": 0,\n        \"max\": 1,\n        \"num_unique_values\": 2,\n        \"samples\": [\n          1,\n          0\n        ],\n        \"semantic_type\": \"\",\n        \"description\": \"\"\n      }\n    },\n    {\n      \"column\": \"fear\",\n      \"properties\": {\n        \"dtype\": \"number\",\n        \"std\": 0,\n        \"min\": 0,\n        \"max\": 1,\n        \"num_unique_values\": 2,\n        \"samples\": [\n          1,\n          0\n        ],\n        \"semantic_type\": \"\",\n        \"description\": \"\"\n      }\n    },\n    {\n      \"column\": \"joy\",\n      \"properties\": {\n        \"dtype\": \"number\",\n        \"std\": 0,\n        \"min\": 0,\n        \"max\": 1,\n        \"num_unique_values\": 2,\n        \"samples\": [\n          1,\n          0\n        ],\n        \"semantic_type\": \"\",\n        \"description\": \"\"\n      }\n    },\n    {\n      \"column\": \"sadness\",\n      \"properties\": {\n        \"dtype\": \"number\",\n        \"std\": 0,\n        \"min\": 0,\n        \"max\": 1,\n        \"num_unique_values\": 2,\n        \"samples\": [\n          0,\n          1\n        ],\n        \"semantic_type\": \"\",\n        \"description\": \"\"\n      }\n    },\n    {\n      \"column\": \"surprise\",\n      \"properties\": {\n        \"dtype\": \"number\",\n        \"std\": 0,\n        \"min\": 0,\n        \"max\": 1,\n        \"num_unique_values\": 2,\n        \"samples\": [\n          1,\n          0\n        ],\n        \"semantic_type\": \"\",\n        \"description\": \"\"\n      }\n    },\n    {\n      \"column\": \"lang\",\n      \"properties\": {\n        \"dtype\": \"category\",\n        \"num_unique_values\": 1,\n        \"samples\": [\n          \"som\"\n        ],\n        \"semantic_type\": \"\",\n        \"description\": \"\"\n      }\n    },\n    {\n      \"column\": \"clean_message\",\n      \"properties\": {\n        \"dtype\": \"string\",\n        \"num_unique_values\": 3391,\n        \"samples\": [\n          \"maxaa kasoo baxay baaritaanka shilkii uu ku lug lahaa wiilka madaxweynaha soomaaliya\"\n        ],\n        \"semantic_type\": \"\",\n        \"description\": \"\"\n      }\n    }\n  ]\n}"
            }
          },
          "metadata": {},
          "execution_count": 897
        }
      ],
      "source": [
        "train_data = train_data[\n",
        "\n",
        "train_data['clean_message'].isnull()==False]\n",
        "\n",
        "train_data.reset_index()"
      ]
    },
    {
      "cell_type": "code",
      "execution_count": 898,
      "metadata": {
        "execution": {
          "iopub.execute_input": "2025-01-05T19:16:18.005304Z",
          "iopub.status.busy": "2025-01-05T19:16:18.005077Z",
          "iopub.status.idle": "2025-01-05T19:16:18.016316Z",
          "shell.execute_reply": "2025-01-05T19:16:18.015631Z",
          "shell.execute_reply.started": "2025-01-05T19:16:18.005285Z"
        },
        "id": "2RXwzOOkBad6",
        "trusted": true
      },
      "outputs": [],
      "source": [
        "# label_columns =['anger', 'fear', 'joy', 'sadness', 'surprise']\n",
        "label_columns =['anger', 'disgust', 'fear', 'joy', 'sadness', 'surprise']\n",
        "# label_columns =['anger', 'disgust', 'fear', 'joy', 'sadness']\n"
      ]
    },
    {
      "cell_type": "code",
      "execution_count": 899,
      "metadata": {
        "colab": {
          "base_uri": "https://localhost:8080/",
          "height": 147
        },
        "execution": {
          "iopub.execute_input": "2025-01-05T19:16:18.017416Z",
          "iopub.status.busy": "2025-01-05T19:16:18.017150Z",
          "iopub.status.idle": "2025-01-05T19:16:18.034271Z",
          "shell.execute_reply": "2025-01-05T19:16:18.033495Z",
          "shell.execute_reply.started": "2025-01-05T19:16:18.017383Z"
        },
        "id": "5SDZ3wEUBad6",
        "outputId": "2f5419c6-3694-4f92-d78b-42cf622169bb",
        "trusted": true
      },
      "outputs": [
        {
          "output_type": "execute_result",
          "data": {
            "text/plain": [
              "lang\n",
              "som    3392\n",
              "Name: count, dtype: int64"
            ],
            "text/html": [
              "<div>\n",
              "<style scoped>\n",
              "    .dataframe tbody tr th:only-of-type {\n",
              "        vertical-align: middle;\n",
              "    }\n",
              "\n",
              "    .dataframe tbody tr th {\n",
              "        vertical-align: top;\n",
              "    }\n",
              "\n",
              "    .dataframe thead th {\n",
              "        text-align: right;\n",
              "    }\n",
              "</style>\n",
              "<table border=\"1\" class=\"dataframe\">\n",
              "  <thead>\n",
              "    <tr style=\"text-align: right;\">\n",
              "      <th></th>\n",
              "      <th>count</th>\n",
              "    </tr>\n",
              "    <tr>\n",
              "      <th>lang</th>\n",
              "      <th></th>\n",
              "    </tr>\n",
              "  </thead>\n",
              "  <tbody>\n",
              "    <tr>\n",
              "      <th>som</th>\n",
              "      <td>3392</td>\n",
              "    </tr>\n",
              "  </tbody>\n",
              "</table>\n",
              "</div><br><label><b>dtype:</b> int64</label>"
            ]
          },
          "metadata": {},
          "execution_count": 899
        }
      ],
      "source": [
        "train_data['lang'].value_counts()"
      ]
    },
    {
      "cell_type": "code",
      "execution_count": 900,
      "metadata": {
        "colab": {
          "base_uri": "https://localhost:8080/"
        },
        "execution": {
          "iopub.execute_input": "2025-01-05T19:16:18.035312Z",
          "iopub.status.busy": "2025-01-05T19:16:18.035066Z",
          "iopub.status.idle": "2025-01-05T19:16:18.049260Z",
          "shell.execute_reply": "2025-01-05T19:16:18.048632Z",
          "shell.execute_reply.started": "2025-01-05T19:16:18.035282Z"
        },
        "id": "5ubyh_YPBad6",
        "outputId": "3636c8b1-8f6e-4c35-a5d4-e674c68239da",
        "trusted": true
      },
      "outputs": [
        {
          "output_type": "execute_result",
          "data": {
            "text/plain": [
              "0"
            ]
          },
          "metadata": {},
          "execution_count": 900
        }
      ],
      "source": [
        "sum(train_data['lang'].isna())"
      ]
    },
    {
      "cell_type": "code",
      "execution_count": 901,
      "metadata": {
        "colab": {
          "base_uri": "https://localhost:8080/",
          "height": 53
        },
        "execution": {
          "iopub.execute_input": "2025-01-05T19:16:18.050341Z",
          "iopub.status.busy": "2025-01-05T19:16:18.050108Z",
          "iopub.status.idle": "2025-01-05T19:16:18.064262Z",
          "shell.execute_reply": "2025-01-05T19:16:18.063637Z",
          "shell.execute_reply.started": "2025-01-05T19:16:18.050322Z"
        },
        "id": "8lubfAyYBad6",
        "outputId": "a494df31-4b79-4666-da0b-5fea833e4500",
        "trusted": true
      },
      "outputs": [
        {
          "output_type": "execute_result",
          "data": {
            "text/plain": [
              "Empty DataFrame\n",
              "Columns: [id, anger, disgust, fear, joy, sadness, surprise, lang, clean_message]\n",
              "Index: []"
            ],
            "text/html": [
              "\n",
              "  <div id=\"df-f9a64628-155b-4e97-a20d-eefbb7324f2f\" class=\"colab-df-container\">\n",
              "    <div>\n",
              "<style scoped>\n",
              "    .dataframe tbody tr th:only-of-type {\n",
              "        vertical-align: middle;\n",
              "    }\n",
              "\n",
              "    .dataframe tbody tr th {\n",
              "        vertical-align: top;\n",
              "    }\n",
              "\n",
              "    .dataframe thead th {\n",
              "        text-align: right;\n",
              "    }\n",
              "</style>\n",
              "<table border=\"1\" class=\"dataframe\">\n",
              "  <thead>\n",
              "    <tr style=\"text-align: right;\">\n",
              "      <th></th>\n",
              "      <th>id</th>\n",
              "      <th>anger</th>\n",
              "      <th>disgust</th>\n",
              "      <th>fear</th>\n",
              "      <th>joy</th>\n",
              "      <th>sadness</th>\n",
              "      <th>surprise</th>\n",
              "      <th>lang</th>\n",
              "      <th>clean_message</th>\n",
              "    </tr>\n",
              "  </thead>\n",
              "  <tbody>\n",
              "  </tbody>\n",
              "</table>\n",
              "</div>\n",
              "    <div class=\"colab-df-buttons\">\n",
              "\n",
              "  <div class=\"colab-df-container\">\n",
              "    <button class=\"colab-df-convert\" onclick=\"convertToInteractive('df-f9a64628-155b-4e97-a20d-eefbb7324f2f')\"\n",
              "            title=\"Convert this dataframe to an interactive table.\"\n",
              "            style=\"display:none;\">\n",
              "\n",
              "  <svg xmlns=\"http://www.w3.org/2000/svg\" height=\"24px\" viewBox=\"0 -960 960 960\">\n",
              "    <path d=\"M120-120v-720h720v720H120Zm60-500h600v-160H180v160Zm220 220h160v-160H400v160Zm0 220h160v-160H400v160ZM180-400h160v-160H180v160Zm440 0h160v-160H620v160ZM180-180h160v-160H180v160Zm440 0h160v-160H620v160Z\"/>\n",
              "  </svg>\n",
              "    </button>\n",
              "\n",
              "  <style>\n",
              "    .colab-df-container {\n",
              "      display:flex;\n",
              "      gap: 12px;\n",
              "    }\n",
              "\n",
              "    .colab-df-convert {\n",
              "      background-color: #E8F0FE;\n",
              "      border: none;\n",
              "      border-radius: 50%;\n",
              "      cursor: pointer;\n",
              "      display: none;\n",
              "      fill: #1967D2;\n",
              "      height: 32px;\n",
              "      padding: 0 0 0 0;\n",
              "      width: 32px;\n",
              "    }\n",
              "\n",
              "    .colab-df-convert:hover {\n",
              "      background-color: #E2EBFA;\n",
              "      box-shadow: 0px 1px 2px rgba(60, 64, 67, 0.3), 0px 1px 3px 1px rgba(60, 64, 67, 0.15);\n",
              "      fill: #174EA6;\n",
              "    }\n",
              "\n",
              "    .colab-df-buttons div {\n",
              "      margin-bottom: 4px;\n",
              "    }\n",
              "\n",
              "    [theme=dark] .colab-df-convert {\n",
              "      background-color: #3B4455;\n",
              "      fill: #D2E3FC;\n",
              "    }\n",
              "\n",
              "    [theme=dark] .colab-df-convert:hover {\n",
              "      background-color: #434B5C;\n",
              "      box-shadow: 0px 1px 3px 1px rgba(0, 0, 0, 0.15);\n",
              "      filter: drop-shadow(0px 1px 2px rgba(0, 0, 0, 0.3));\n",
              "      fill: #FFFFFF;\n",
              "    }\n",
              "  </style>\n",
              "\n",
              "    <script>\n",
              "      const buttonEl =\n",
              "        document.querySelector('#df-f9a64628-155b-4e97-a20d-eefbb7324f2f button.colab-df-convert');\n",
              "      buttonEl.style.display =\n",
              "        google.colab.kernel.accessAllowed ? 'block' : 'none';\n",
              "\n",
              "      async function convertToInteractive(key) {\n",
              "        const element = document.querySelector('#df-f9a64628-155b-4e97-a20d-eefbb7324f2f');\n",
              "        const dataTable =\n",
              "          await google.colab.kernel.invokeFunction('convertToInteractive',\n",
              "                                                    [key], {});\n",
              "        if (!dataTable) return;\n",
              "\n",
              "        const docLinkHtml = 'Like what you see? Visit the ' +\n",
              "          '<a target=\"_blank\" href=https://colab.research.google.com/notebooks/data_table.ipynb>data table notebook</a>'\n",
              "          + ' to learn more about interactive tables.';\n",
              "        element.innerHTML = '';\n",
              "        dataTable['output_type'] = 'display_data';\n",
              "        await google.colab.output.renderOutput(dataTable, element);\n",
              "        const docLink = document.createElement('div');\n",
              "        docLink.innerHTML = docLinkHtml;\n",
              "        element.appendChild(docLink);\n",
              "      }\n",
              "    </script>\n",
              "  </div>\n",
              "\n",
              "    </div>\n",
              "  </div>\n"
            ],
            "application/vnd.google.colaboratory.intrinsic+json": {
              "type": "dataframe",
              "variable_name": "nan_rows",
              "repr_error": "Out of range float values are not JSON compliant: nan"
            }
          },
          "metadata": {},
          "execution_count": 901
        }
      ],
      "source": [
        "nan_rows = train_data[train_data.isna().any(axis=1)]\n",
        "nan_rows"
      ]
    },
    {
      "cell_type": "code",
      "execution_count": 902,
      "metadata": {
        "id": "grQSSQUKZ00y"
      },
      "outputs": [],
      "source": [
        "train_data['clean_message']=train_data['clean_message'].astype(str)"
      ]
    },
    {
      "cell_type": "code",
      "execution_count": 903,
      "metadata": {
        "colab": {
          "base_uri": "https://localhost:8080/"
        },
        "id": "VPAf2dnTZF_H",
        "outputId": "c90765e5-3b11-4f0f-cc1c-6868351ac1f7"
      },
      "outputs": [
        {
          "output_type": "execute_result",
          "data": {
            "text/plain": [
              "645"
            ]
          },
          "metadata": {},
          "execution_count": 903
        }
      ],
      "source": [
        "maxi=train_data['clean_message'].apply(len).max()\n",
        "maxi"
      ]
    },
    {
      "cell_type": "code",
      "execution_count": 904,
      "metadata": {
        "colab": {
          "base_uri": "https://localhost:8080/",
          "height": 81
        },
        "id": "IpWtbxUzZM2o",
        "outputId": "3664ba45-dae2-43f8-c12a-b3a9a4ac5923"
      },
      "outputs": [
        {
          "output_type": "execute_result",
          "data": {
            "text/plain": [
              "                           id  anger  disgust  fear  joy  sadness  surprise  \\\n",
              "2600  som_train_track_a_02601      0        1     0    0        0         0   \n",
              "\n",
              "     lang                                      clean_message  \n",
              "2600  som  ma noli hhh cunugay ika so dhacaygrinning face...  "
            ],
            "text/html": [
              "\n",
              "  <div id=\"df-9eb0ef87-4701-4f3c-a906-06deb4404b4a\" class=\"colab-df-container\">\n",
              "    <div>\n",
              "<style scoped>\n",
              "    .dataframe tbody tr th:only-of-type {\n",
              "        vertical-align: middle;\n",
              "    }\n",
              "\n",
              "    .dataframe tbody tr th {\n",
              "        vertical-align: top;\n",
              "    }\n",
              "\n",
              "    .dataframe thead th {\n",
              "        text-align: right;\n",
              "    }\n",
              "</style>\n",
              "<table border=\"1\" class=\"dataframe\">\n",
              "  <thead>\n",
              "    <tr style=\"text-align: right;\">\n",
              "      <th></th>\n",
              "      <th>id</th>\n",
              "      <th>anger</th>\n",
              "      <th>disgust</th>\n",
              "      <th>fear</th>\n",
              "      <th>joy</th>\n",
              "      <th>sadness</th>\n",
              "      <th>surprise</th>\n",
              "      <th>lang</th>\n",
              "      <th>clean_message</th>\n",
              "    </tr>\n",
              "  </thead>\n",
              "  <tbody>\n",
              "    <tr>\n",
              "      <th>2600</th>\n",
              "      <td>som_train_track_a_02601</td>\n",
              "      <td>0</td>\n",
              "      <td>1</td>\n",
              "      <td>0</td>\n",
              "      <td>0</td>\n",
              "      <td>0</td>\n",
              "      <td>0</td>\n",
              "      <td>som</td>\n",
              "      <td>ma noli hhh cunugay ika so dhacaygrinning face...</td>\n",
              "    </tr>\n",
              "  </tbody>\n",
              "</table>\n",
              "</div>\n",
              "    <div class=\"colab-df-buttons\">\n",
              "\n",
              "  <div class=\"colab-df-container\">\n",
              "    <button class=\"colab-df-convert\" onclick=\"convertToInteractive('df-9eb0ef87-4701-4f3c-a906-06deb4404b4a')\"\n",
              "            title=\"Convert this dataframe to an interactive table.\"\n",
              "            style=\"display:none;\">\n",
              "\n",
              "  <svg xmlns=\"http://www.w3.org/2000/svg\" height=\"24px\" viewBox=\"0 -960 960 960\">\n",
              "    <path d=\"M120-120v-720h720v720H120Zm60-500h600v-160H180v160Zm220 220h160v-160H400v160Zm0 220h160v-160H400v160ZM180-400h160v-160H180v160Zm440 0h160v-160H620v160ZM180-180h160v-160H180v160Zm440 0h160v-160H620v160Z\"/>\n",
              "  </svg>\n",
              "    </button>\n",
              "\n",
              "  <style>\n",
              "    .colab-df-container {\n",
              "      display:flex;\n",
              "      gap: 12px;\n",
              "    }\n",
              "\n",
              "    .colab-df-convert {\n",
              "      background-color: #E8F0FE;\n",
              "      border: none;\n",
              "      border-radius: 50%;\n",
              "      cursor: pointer;\n",
              "      display: none;\n",
              "      fill: #1967D2;\n",
              "      height: 32px;\n",
              "      padding: 0 0 0 0;\n",
              "      width: 32px;\n",
              "    }\n",
              "\n",
              "    .colab-df-convert:hover {\n",
              "      background-color: #E2EBFA;\n",
              "      box-shadow: 0px 1px 2px rgba(60, 64, 67, 0.3), 0px 1px 3px 1px rgba(60, 64, 67, 0.15);\n",
              "      fill: #174EA6;\n",
              "    }\n",
              "\n",
              "    .colab-df-buttons div {\n",
              "      margin-bottom: 4px;\n",
              "    }\n",
              "\n",
              "    [theme=dark] .colab-df-convert {\n",
              "      background-color: #3B4455;\n",
              "      fill: #D2E3FC;\n",
              "    }\n",
              "\n",
              "    [theme=dark] .colab-df-convert:hover {\n",
              "      background-color: #434B5C;\n",
              "      box-shadow: 0px 1px 3px 1px rgba(0, 0, 0, 0.15);\n",
              "      filter: drop-shadow(0px 1px 2px rgba(0, 0, 0, 0.3));\n",
              "      fill: #FFFFFF;\n",
              "    }\n",
              "  </style>\n",
              "\n",
              "    <script>\n",
              "      const buttonEl =\n",
              "        document.querySelector('#df-9eb0ef87-4701-4f3c-a906-06deb4404b4a button.colab-df-convert');\n",
              "      buttonEl.style.display =\n",
              "        google.colab.kernel.accessAllowed ? 'block' : 'none';\n",
              "\n",
              "      async function convertToInteractive(key) {\n",
              "        const element = document.querySelector('#df-9eb0ef87-4701-4f3c-a906-06deb4404b4a');\n",
              "        const dataTable =\n",
              "          await google.colab.kernel.invokeFunction('convertToInteractive',\n",
              "                                                    [key], {});\n",
              "        if (!dataTable) return;\n",
              "\n",
              "        const docLinkHtml = 'Like what you see? Visit the ' +\n",
              "          '<a target=\"_blank\" href=https://colab.research.google.com/notebooks/data_table.ipynb>data table notebook</a>'\n",
              "          + ' to learn more about interactive tables.';\n",
              "        element.innerHTML = '';\n",
              "        dataTable['output_type'] = 'display_data';\n",
              "        await google.colab.output.renderOutput(dataTable, element);\n",
              "        const docLink = document.createElement('div');\n",
              "        docLink.innerHTML = docLinkHtml;\n",
              "        element.appendChild(docLink);\n",
              "      }\n",
              "    </script>\n",
              "  </div>\n",
              "\n",
              "    </div>\n",
              "  </div>\n"
            ],
            "application/vnd.google.colaboratory.intrinsic+json": {
              "type": "dataframe",
              "summary": "{\n  \"name\": \"train_data[train_data['clean_message']\",\n  \"rows\": 1,\n  \"fields\": [\n    {\n      \"column\": \"id\",\n      \"properties\": {\n        \"dtype\": \"string\",\n        \"num_unique_values\": 1,\n        \"samples\": [\n          \"som_train_track_a_02601\"\n        ],\n        \"semantic_type\": \"\",\n        \"description\": \"\"\n      }\n    },\n    {\n      \"column\": \"anger\",\n      \"properties\": {\n        \"dtype\": \"number\",\n        \"std\": null,\n        \"min\": 0,\n        \"max\": 0,\n        \"num_unique_values\": 1,\n        \"samples\": [\n          0\n        ],\n        \"semantic_type\": \"\",\n        \"description\": \"\"\n      }\n    },\n    {\n      \"column\": \"disgust\",\n      \"properties\": {\n        \"dtype\": \"number\",\n        \"std\": null,\n        \"min\": 1,\n        \"max\": 1,\n        \"num_unique_values\": 1,\n        \"samples\": [\n          1\n        ],\n        \"semantic_type\": \"\",\n        \"description\": \"\"\n      }\n    },\n    {\n      \"column\": \"fear\",\n      \"properties\": {\n        \"dtype\": \"number\",\n        \"std\": null,\n        \"min\": 0,\n        \"max\": 0,\n        \"num_unique_values\": 1,\n        \"samples\": [\n          0\n        ],\n        \"semantic_type\": \"\",\n        \"description\": \"\"\n      }\n    },\n    {\n      \"column\": \"joy\",\n      \"properties\": {\n        \"dtype\": \"number\",\n        \"std\": null,\n        \"min\": 0,\n        \"max\": 0,\n        \"num_unique_values\": 1,\n        \"samples\": [\n          0\n        ],\n        \"semantic_type\": \"\",\n        \"description\": \"\"\n      }\n    },\n    {\n      \"column\": \"sadness\",\n      \"properties\": {\n        \"dtype\": \"number\",\n        \"std\": null,\n        \"min\": 0,\n        \"max\": 0,\n        \"num_unique_values\": 1,\n        \"samples\": [\n          0\n        ],\n        \"semantic_type\": \"\",\n        \"description\": \"\"\n      }\n    },\n    {\n      \"column\": \"surprise\",\n      \"properties\": {\n        \"dtype\": \"number\",\n        \"std\": null,\n        \"min\": 0,\n        \"max\": 0,\n        \"num_unique_values\": 1,\n        \"samples\": [\n          0\n        ],\n        \"semantic_type\": \"\",\n        \"description\": \"\"\n      }\n    },\n    {\n      \"column\": \"lang\",\n      \"properties\": {\n        \"dtype\": \"string\",\n        \"num_unique_values\": 1,\n        \"samples\": [\n          \"som\"\n        ],\n        \"semantic_type\": \"\",\n        \"description\": \"\"\n      }\n    },\n    {\n      \"column\": \"clean_message\",\n      \"properties\": {\n        \"dtype\": \"string\",\n        \"num_unique_values\": 1,\n        \"samples\": [\n          \"ma noli hhh cunugay ika so dhacaygrinning face with big eyes face with tears of joy rolling on the floor laughing face with tears of joy grinning face with big eyes face with tears of joy face with tears of joy face with tears of joy tihan dofargrinning face with big eyes face with tears of joy rolling on the floor laughing rolling on the floor laughing rolling on the floor laughing face with tears of joy grinning face with big eyes grinning face with big eyes grinning face with big eyes face with tears of joy face with tears of joy face with tears of joy grinning face with big eyes grinning face with big eyes grinning face with big eyes\"\n        ],\n        \"semantic_type\": \"\",\n        \"description\": \"\"\n      }\n    }\n  ]\n}"
            }
          },
          "metadata": {},
          "execution_count": 904
        }
      ],
      "source": [
        "train_data[train_data['clean_message'].apply(len) == maxi]"
      ]
    },
    {
      "cell_type": "code",
      "execution_count": 905,
      "metadata": {
        "colab": {
          "base_uri": "https://localhost:8080/"
        },
        "id": "_gXtuVeaZREY",
        "outputId": "9fd35185-9bf7-43a5-8d45-ce667c120369"
      },
      "outputs": [
        {
          "output_type": "execute_result",
          "data": {
            "text/plain": [
              "array(['ma noli hhh cunugay ika so dhacaygrinning face with big eyes face with tears of joy rolling on the floor laughing face with tears of joy grinning face with big eyes face with tears of joy face with tears of joy face with tears of joy tihan dofargrinning face with big eyes face with tears of joy rolling on the floor laughing rolling on the floor laughing rolling on the floor laughing face with tears of joy grinning face with big eyes grinning face with big eyes grinning face with big eyes face with tears of joy face with tears of joy face with tears of joy grinning face with big eyes grinning face with big eyes grinning face with big eyes'],\n",
              "      dtype=object)"
            ]
          },
          "metadata": {},
          "execution_count": 905
        }
      ],
      "source": [
        "train_data[train_data['clean_message'].apply(len) == maxi][\"clean_message\"].values"
      ]
    },
    {
      "cell_type": "code",
      "execution_count": 906,
      "metadata": {
        "execution": {
          "iopub.execute_input": "2025-01-05T19:16:18.156293Z",
          "iopub.status.busy": "2025-01-05T19:16:18.156059Z",
          "iopub.status.idle": "2025-01-05T19:16:18.168029Z",
          "shell.execute_reply": "2025-01-05T19:16:18.167293Z",
          "shell.execute_reply.started": "2025-01-05T19:16:18.156256Z"
        },
        "id": "Efx2E-A4Bad7",
        "trusted": true
      },
      "outputs": [],
      "source": [
        "# shuffle data\n",
        "train_data=train_data.sample(frac=1)\n",
        "# train_data=train_data.sample(100,random_state=42)\n"
      ]
    },
    {
      "cell_type": "code",
      "execution_count": 907,
      "metadata": {
        "execution": {
          "iopub.execute_input": "2025-01-05T19:16:18.169203Z",
          "iopub.status.busy": "2025-01-05T19:16:18.168924Z",
          "iopub.status.idle": "2025-01-05T19:16:18.180285Z",
          "shell.execute_reply": "2025-01-05T19:16:18.179711Z",
          "shell.execute_reply.started": "2025-01-05T19:16:18.169176Z"
        },
        "id": "QfMcAI26Bad7",
        "trusted": true
      },
      "outputs": [],
      "source": [
        "# train valid split\n",
        "# train,valid=train_test_split(train_data,test_size=0.2,random_state=42)"
      ]
    },
    {
      "cell_type": "code",
      "execution_count": 908,
      "metadata": {
        "execution": {
          "iopub.execute_input": "2025-01-05T19:16:18.181302Z",
          "iopub.status.busy": "2025-01-05T19:16:18.181039Z",
          "iopub.status.idle": "2025-01-05T19:16:18.191510Z",
          "shell.execute_reply": "2025-01-05T19:16:18.190920Z",
          "shell.execute_reply.started": "2025-01-05T19:16:18.181270Z"
        },
        "id": "K0MsuYqpBad8",
        "trusted": true
      },
      "outputs": [],
      "source": [
        "x_train, y_train = train_data['clean_message'].values.tolist(), train_data[label_columns].values.tolist()"
      ]
    },
    {
      "cell_type": "code",
      "execution_count": 909,
      "metadata": {
        "execution": {
          "iopub.execute_input": "2025-01-05T19:16:18.192407Z",
          "iopub.status.busy": "2025-01-05T19:16:18.192213Z",
          "iopub.status.idle": "2025-01-05T19:16:18.204757Z",
          "shell.execute_reply": "2025-01-05T19:16:18.204006Z",
          "shell.execute_reply.started": "2025-01-05T19:16:18.192382Z"
        },
        "id": "6Sgs63uPBad8",
        "trusted": true
      },
      "outputs": [],
      "source": [
        "y_train_df = pd.DataFrame(y_train, columns=label_columns)"
      ]
    },
    {
      "cell_type": "code",
      "execution_count": 910,
      "metadata": {
        "colab": {
          "base_uri": "https://localhost:8080/"
        },
        "execution": {
          "iopub.execute_input": "2025-01-05T19:16:18.205908Z",
          "iopub.status.busy": "2025-01-05T19:16:18.205671Z",
          "iopub.status.idle": "2025-01-05T19:16:18.223109Z",
          "shell.execute_reply": "2025-01-05T19:16:18.222373Z",
          "shell.execute_reply.started": "2025-01-05T19:16:18.205889Z"
        },
        "id": "sVD0DSPvmdcE",
        "outputId": "03440227-5356-4559-8abb-3f0e457609eb",
        "trusted": true
      },
      "outputs": [
        {
          "output_type": "stream",
          "name": "stdout",
          "text": [
            "          count_0  count_1   sum\n",
            "anger        3064      328  3392\n",
            "disgust      2915      477  3392\n",
            "fear         3087      305  3392\n",
            "joy          2797      595  3392\n",
            "sadness      3001      391  3392\n",
            "surprise     3213      179  3392\n"
          ]
        }
      ],
      "source": [
        "#update label column name\n",
        "\n",
        "label_distribution = y_train_df.apply(pd.Series.value_counts).T.fillna(0).astype(int)\n",
        "\n",
        "label_distribution.columns = ['count_0', 'count_1']\n",
        "label_distribution['sum'] = label_distribution['count_0'] + label_distribution['count_1']\n",
        "print(label_distribution)"
      ]
    },
    {
      "cell_type": "code",
      "execution_count": 911,
      "metadata": {
        "execution": {
          "iopub.execute_input": "2025-01-05T19:16:18.224287Z",
          "iopub.status.busy": "2025-01-05T19:16:18.223981Z",
          "iopub.status.idle": "2025-01-05T19:16:18.281876Z",
          "shell.execute_reply": "2025-01-05T19:16:18.281035Z",
          "shell.execute_reply.started": "2025-01-05T19:16:18.224260Z"
        },
        "id": "-EFMbbzALDd6",
        "trusted": true
      },
      "outputs": [],
      "source": [
        "device=\"cuda\" if torch.cuda.is_available() else 'cpu'"
      ]
    },
    {
      "cell_type": "code",
      "execution_count": 912,
      "metadata": {
        "colab": {
          "base_uri": "https://localhost:8080/"
        },
        "execution": {
          "iopub.execute_input": "2025-01-05T19:16:18.282975Z",
          "iopub.status.busy": "2025-01-05T19:16:18.282722Z",
          "iopub.status.idle": "2025-01-05T19:16:18.778109Z",
          "shell.execute_reply": "2025-01-05T19:16:18.777406Z",
          "shell.execute_reply.started": "2025-01-05T19:16:18.282952Z"
        },
        "id": "ggY-tV1n2P7Q",
        "outputId": "d0040989-a2aa-4510-daa6-6f228e4832c1",
        "trusted": true
      },
      "outputs": [
        {
          "output_type": "execute_result",
          "data": {
            "text/plain": [
              "tensor([5.1707, 3.5556, 5.5607, 2.8504, 4.3376, 9.4749], device='cuda:0')"
            ]
          },
          "metadata": {},
          "execution_count": 912
        }
      ],
      "source": [
        "from sklearn.utils.class_weight import compute_class_weight\n",
        "\n",
        "counts_0 = label_distribution['count_0'].to_numpy()\n",
        "counts_1 = label_distribution['count_1'].to_numpy()\n",
        "\n",
        "# Compute class-specific weights for each label (each class)\n",
        "class_weights = []\n",
        "for i in range(len(counts_0)):\n",
        "    weight = compute_class_weight('balanced', classes=np.array([0, 1]), y=[0] * counts_0[i] + [1] * counts_1[i])\n",
        "    class_weights.append(weight)\n",
        "\n",
        "# Convert the list of weights to a tensor\n",
        "class_weights_tensor = torch.tensor([w[1] for w in class_weights], dtype=torch.float,device=device)\n",
        "class_weights_tensor"
      ]
    },
    {
      "cell_type": "code",
      "execution_count": 913,
      "metadata": {
        "execution": {
          "iopub.execute_input": "2025-01-05T19:16:18.979908Z",
          "iopub.status.busy": "2025-01-05T19:16:18.979699Z",
          "iopub.status.idle": "2025-01-05T19:16:18.995243Z",
          "shell.execute_reply": "2025-01-05T19:16:18.994592Z",
          "shell.execute_reply.started": "2025-01-05T19:16:18.979880Z"
        },
        "id": "_2K_WqEPnF6l",
        "trusted": true
      },
      "outputs": [],
      "source": [
        "MAX_LENGTH = 512\n",
        "\n",
        "metrics_df = pd.DataFrame(columns=[\"Models_name\", \"Precision\", \"Recall\", \"F1_score\", \"Accuracy\"])\n",
        "\n",
        "confusion_matrices = []"
      ]
    },
    {
      "cell_type": "code",
      "execution_count": 914,
      "metadata": {
        "execution": {
          "iopub.execute_input": "2025-01-05T19:16:18.996404Z",
          "iopub.status.busy": "2025-01-05T19:16:18.996116Z",
          "iopub.status.idle": "2025-01-05T19:16:19.009025Z",
          "shell.execute_reply": "2025-01-05T19:16:19.008387Z",
          "shell.execute_reply.started": "2025-01-05T19:16:18.996373Z"
        },
        "id": "3TcPpfq1GdUI",
        "trusted": true
      },
      "outputs": [],
      "source": [
        "quantization_config = BitsAndBytesConfig(\n",
        "\n",
        "    load_in_4bit=True,\n",
        "\n",
        "    bnb_4bit_use_double_quant=True,\n",
        "\n",
        "    bnb_4bit_quant_type=\"nf4\",\n",
        "\n",
        "    bnb_4bit_compute_dtype=torch.bfloat16,\n",
        "\n",
        ")"
      ]
    },
    {
      "cell_type": "code",
      "execution_count": 915,
      "metadata": {
        "execution": {
          "iopub.execute_input": "2025-01-05T19:16:19.009895Z",
          "iopub.status.busy": "2025-01-05T19:16:19.009703Z",
          "iopub.status.idle": "2025-01-05T19:16:19.018430Z",
          "shell.execute_reply": "2025-01-05T19:16:19.017839Z",
          "shell.execute_reply.started": "2025-01-05T19:16:19.009877Z"
        },
        "id": "ps6BcVspzvnP",
        "trusted": true
      },
      "outputs": [],
      "source": [
        "models_list=models_list_3\n",
        "\n",
        "models_name=models_name_3\n",
        "\n",
        "x=models_list[0]"
      ]
    },
    {
      "cell_type": "code",
      "execution_count": 916,
      "metadata": {
        "execution": {
          "iopub.execute_input": "2025-01-05T19:16:19.019365Z",
          "iopub.status.busy": "2025-01-05T19:16:19.019158Z",
          "iopub.status.idle": "2025-01-05T19:16:19.028736Z",
          "shell.execute_reply": "2025-01-05T19:16:19.028061Z",
          "shell.execute_reply.started": "2025-01-05T19:16:19.019337Z"
        },
        "id": "jHjrZwu7_GSr",
        "trusted": true
      },
      "outputs": [],
      "source": [
        "token=\"\"\n",
        "\n",
        "import huggingface_hub\n",
        "\n",
        "if \"gemma\" in x or \"Phi\" in x:\n",
        "\n",
        "  huggingface_hub.login(token=token)"
      ]
    },
    {
      "cell_type": "code",
      "execution_count": 917,
      "metadata": {
        "execution": {
          "iopub.execute_input": "2025-01-05T19:16:19.029752Z",
          "iopub.status.busy": "2025-01-05T19:16:19.029517Z",
          "iopub.status.idle": "2025-01-05T19:16:19.040251Z",
          "shell.execute_reply": "2025-01-05T19:16:19.039248Z",
          "shell.execute_reply.started": "2025-01-05T19:16:19.029734Z"
        },
        "id": "cclf1eMoIfuA",
        "trusted": true
      },
      "outputs": [],
      "source": [
        "USE_LORA=False"
      ]
    },
    {
      "cell_type": "code",
      "execution_count": 918,
      "metadata": {
        "id": "dq2Ch-58MXAo"
      },
      "outputs": [],
      "source": [
        "!pip install -q sentence_transformers"
      ]
    },
    {
      "cell_type": "code",
      "execution_count": 919,
      "metadata": {
        "id": "4uSE7TEYBGfN"
      },
      "outputs": [],
      "source": [
        "from transformers import AutoModel\n",
        "from sentence_transformers import SentenceTransformer"
      ]
    },
    {
      "cell_type": "code",
      "execution_count": 920,
      "metadata": {
        "colab": {
          "base_uri": "https://localhost:8080/"
        },
        "execution": {
          "iopub.execute_input": "2025-01-05T19:16:19.041374Z",
          "iopub.status.busy": "2025-01-05T19:16:19.041125Z",
          "iopub.status.idle": "2025-01-05T19:16:55.700389Z",
          "shell.execute_reply": "2025-01-05T19:16:55.699744Z",
          "shell.execute_reply.started": "2025-01-05T19:16:19.041354Z"
        },
        "id": "RTwQtNnRZXNI",
        "outputId": "0547f2c9-fa0d-40ba-db34-ec5ad179c29a",
        "trusted": true
      },
      "outputs": [
        {
          "output_type": "stream",
          "name": "stdout",
          "text": [
            "intfloat/multilingual-e5-large-instruct\n"
          ]
        }
      ],
      "source": [
        "\n",
        "\n",
        "torch.cuda.empty_cache()\n",
        "\n",
        "\n",
        "\n",
        "print(x)\n",
        "use_gpu = torch.cuda.is_available()\n",
        "# embedding_model = SentenceTransformer(\n",
        "#         x,\n",
        "#         trust_remote_code=True,\n",
        "#         device=\"cpu\" if not use_gpu else \"cuda\",\n",
        "#         model_kwargs={\n",
        "#             \"torch_dtype\": torch.bfloat16 if use_gpu else torch.float32,\n",
        "#             # \"attn_implementation\": \"sdpa\"\n",
        "#         },\n",
        "#         # vector_dim must be 12288, 1024, 512, 256\n",
        "#         ## 1024 is recommended\n",
        "#         # set is_text_encoder 'True', if you do not encode image\n",
        "#         # config_kwargs={\"is_text_encoder\": True, \"vector_dim\": 1024},\n",
        "#     )\n",
        "#     # We can reduce the max_seq_length from the default of 2048 for faster encoding\n",
        "# embedding_model.max_seq_length = MAX_LENGTH"
      ]
    },
    {
      "cell_type": "code",
      "execution_count": 921,
      "metadata": {
        "colab": {
          "base_uri": "https://localhost:8080/"
        },
        "execution": {
          "iopub.execute_input": "2025-01-05T19:16:55.701670Z",
          "iopub.status.busy": "2025-01-05T19:16:55.701384Z",
          "iopub.status.idle": "2025-01-05T19:16:55.708108Z",
          "shell.execute_reply": "2025-01-05T19:16:55.707487Z",
          "shell.execute_reply.started": "2025-01-05T19:16:55.701637Z"
        },
        "id": "h5TGLlXVBaeB",
        "outputId": "d4f9ca14-380c-4599-d7be-fd632b6b0a98",
        "trusted": true
      },
      "outputs": [
        {
          "output_type": "execute_result",
          "data": {
            "text/plain": [
              "[]"
            ]
          },
          "metadata": {},
          "execution_count": 921
        }
      ],
      "source": [
        "def find_target_modules(model):\n",
        "    # Initialize a Set to Store Unique Layers\n",
        "    unique_layers = set()\n",
        "\n",
        "    # Iterate Over All Named Modules in the Model\n",
        "    for name, module in model.named_modules():\n",
        "        # Check if the Module Type Contains 'Linear4bit'\n",
        "        if \"Linear4bit\" in str(type(module)):\n",
        "            # Extract the Type of the Layer\n",
        "            layer_type = name.split('.')[-1]\n",
        "\n",
        "            # Add the Layer Type to the Set of Unique Layers\n",
        "            unique_layers.add(layer_type)\n",
        "\n",
        "    # Return the Set of Unique Layers Converted to a List\n",
        "    return list(unique_layers)\n",
        "find_target_modules(embedding_model)"
      ]
    },
    {
      "cell_type": "code",
      "execution_count": 922,
      "metadata": {
        "execution": {
          "iopub.execute_input": "2025-01-05T19:16:55.709120Z",
          "iopub.status.busy": "2025-01-05T19:16:55.708803Z",
          "iopub.status.idle": "2025-01-05T19:16:55.719611Z",
          "shell.execute_reply": "2025-01-05T19:16:55.718745Z",
          "shell.execute_reply.started": "2025-01-05T19:16:55.709100Z"
        },
        "id": "AmPLSuxxBaeB",
        "trusted": true
      },
      "outputs": [],
      "source": [
        "# a="
      ]
    },
    {
      "cell_type": "code",
      "execution_count": 923,
      "metadata": {
        "execution": {
          "iopub.execute_input": "2025-01-05T19:16:55.720543Z",
          "iopub.status.busy": "2025-01-05T19:16:55.720340Z",
          "iopub.status.idle": "2025-01-05T19:16:55.734097Z",
          "shell.execute_reply": "2025-01-05T19:16:55.733332Z",
          "shell.execute_reply.started": "2025-01-05T19:16:55.720525Z"
        },
        "id": "MCHCmWeqZd1R",
        "trusted": true
      },
      "outputs": [],
      "source": [
        "embedding_model.eval() # embedding_model in training mode (dropout modules are activated)\n",
        "\n",
        "if USE_LORA:\n",
        "\n",
        "  # enable gradient check pointing\n",
        "\n",
        "  embedding_model.gradient_checkpointing_enable()\n",
        "\n",
        "  target_modules_dict={\n",
        "\n",
        "      \"microsoft/Phi-3.5-mini-instruct\":'all-linear',\n",
        "      \"unsloth/Llama-3.2-1B-Instruct\":[\"q_proj\",\"k_proj\",\"v_proj\"],\n",
        "      \"unsloth/Qwen2.5-3B-Instruct-bnb-4bit\":[\"q_proj\",\"k_proj\",\"v_proj\"],\n",
        "  }\n",
        "\n",
        "  target_modules= target_modules_dict.get(x,[\"q_proj\"])\n",
        "\n",
        "\n",
        "\n",
        "  # enable quantized training\n",
        "\n",
        "  embedding_model = prepare_model_for_kbit_training(embedding_model)\n",
        "\n",
        "  config = LoraConfig(\n",
        "\n",
        "    r=8,\n",
        "\n",
        "    lora_alpha=32,\n",
        "\n",
        "    # target_modules=[\"k_proj\"],\n",
        "\n",
        "    target_modules = target_modules,#TODOOOOOOOOOOOOO\n",
        "\n",
        "    lora_dropout=0.1,\n",
        "\n",
        "    bias=\"none\",\n",
        "\n",
        "    task_type=\"SEQ_CLS\",\n",
        "\n",
        "  )\n",
        "\n",
        "  # LoRA trainable version of model\n",
        "\n",
        "  embedding_model = get_peft_model(embedding_model, config)\n",
        "\n",
        "\n",
        "\n",
        "  # trainable parameter count\n",
        "\n",
        "  embedding_model.print_trainable_parameters()\n",
        "\n",
        "device=\"cuda\" if torch.cuda.is_available() else 'cpu'"
      ]
    },
    {
      "cell_type": "code",
      "execution_count": 924,
      "metadata": {
        "colab": {
          "base_uri": "https://localhost:8080/",
          "height": 36
        },
        "execution": {
          "iopub.execute_input": "2025-01-05T19:16:55.749945Z",
          "iopub.status.busy": "2025-01-05T19:16:55.749694Z",
          "iopub.status.idle": "2025-01-05T19:16:55.760182Z",
          "shell.execute_reply": "2025-01-05T19:16:55.759477Z",
          "shell.execute_reply.started": "2025-01-05T19:16:55.749920Z"
        },
        "id": "CWtjrTGfJtvS",
        "outputId": "15683e54-a9bb-4165-eebd-8bf611afd86c",
        "trusted": true
      },
      "outputs": [
        {
          "output_type": "execute_result",
          "data": {
            "text/plain": [
              "'cuda'"
            ],
            "application/vnd.google.colaboratory.intrinsic+json": {
              "type": "string"
            }
          },
          "metadata": {},
          "execution_count": 924
        }
      ],
      "source": [
        "device"
      ]
    },
    {
      "cell_type": "code",
      "execution_count": 925,
      "metadata": {
        "execution": {
          "iopub.execute_input": "2025-01-05T19:16:55.761188Z",
          "iopub.status.busy": "2025-01-05T19:16:55.760917Z",
          "iopub.status.idle": "2025-01-05T19:16:56.101169Z",
          "shell.execute_reply": "2025-01-05T19:16:56.100496Z",
          "shell.execute_reply.started": "2025-01-05T19:16:55.761160Z"
        },
        "id": "Ot09dhy1Jq2T",
        "trusted": true
      },
      "outputs": [],
      "source": [
        "embedding_model = embedding_model.to(device)\n",
        "\n",
        "for param in embedding_model.parameters():\n",
        "    param.data = param.data.contiguous()\n"
      ]
    },
    {
      "cell_type": "code",
      "execution_count": 926,
      "metadata": {
        "id": "LcyDYbHFFhS4"
      },
      "outputs": [],
      "source": [
        "\n",
        "# Custom Dataset for batching\n",
        "class TextDataset(torch.utils.data.Dataset):\n",
        "    def __init__(self, texts):\n",
        "        self.texts = texts\n",
        "\n",
        "    def __len__(self):\n",
        "        return len(self.texts)\n",
        "\n",
        "    def __getitem__(self, idx):\n",
        "        # Tokenize a single example\n",
        "        return self.texts[idx]\n"
      ]
    },
    {
      "cell_type": "code",
      "source": [
        "from torch.utils.data import DataLoader"
      ],
      "metadata": {
        "id": "3K6r7yZ7NuP2"
      },
      "execution_count": 927,
      "outputs": []
    },
    {
      "cell_type": "code",
      "execution_count": 928,
      "metadata": {
        "id": "s8dV8g_NDo_v"
      },
      "outputs": [],
      "source": [
        "\n",
        "# Batch extraction function\n",
        "def extract_embeddings(texts, model, batch_size=32):\n",
        "    dataset = TextDataset(texts)\n",
        "    dataloader = DataLoader(dataset, batch_size=batch_size, shuffle=False)\n",
        "\n",
        "    embeddings = []\n",
        "    model.eval()\n",
        "    with torch.no_grad():\n",
        "        for batch in tqdm(dataloader, desc=\"Extracting embeddings\"):\n",
        "            # Move batch to device\n",
        "            # input_ids = torch.Tensor(batch['input_ids']).squeeze().to(device)\n",
        "            # attention_mask = torch.Tensor(batch['attention_mask']).squeeze().to(device)\n",
        "\n",
        "            # Forward pass through the model\n",
        "            cls_embeddings = model.encode(batch)\n",
        "            embeddings.append(cls_embeddings)\n",
        "\n",
        "    return np.vstack(embeddings)"
      ]
    },
    {
      "cell_type": "code",
      "execution_count": 929,
      "metadata": {
        "colab": {
          "base_uri": "https://localhost:8080/"
        },
        "id": "QkJtUXXiDx22",
        "outputId": "29b1c4e9-43c6-4368-e15f-135c6984bd7f"
      },
      "outputs": [
        {
          "output_type": "stream",
          "name": "stderr",
          "text": [
            "Extracting embeddings: 100%|██████████| 106/106 [01:35<00:00,  1.12it/s]\n"
          ]
        }
      ],
      "source": [
        "# Extract embeddings for train and validation datasets\n",
        "x_train_embeddings = extract_embeddings(x_train, embedding_model, batch_size=32)"
      ]
    },
    {
      "cell_type": "code",
      "execution_count": 930,
      "metadata": {
        "id": "gcScaudA1Vrk"
      },
      "outputs": [],
      "source": [
        "np.save(\"x_train_embeddings.npy\",x_train_embeddings)"
      ]
    },
    {
      "cell_type": "code",
      "execution_count": 931,
      "metadata": {
        "id": "J-d1ZAwbDzS-"
      },
      "outputs": [],
      "source": [
        "# Flatten labels for XGBoost (multi-label classification)\n",
        "y_train_flat = np.array(y_train)"
      ]
    },
    {
      "cell_type": "code",
      "execution_count": 932,
      "metadata": {
        "id": "eJ89U0khMXAq"
      },
      "outputs": [],
      "source": [
        "import xgboost as xgb"
      ]
    },
    {
      "cell_type": "code",
      "execution_count": 933,
      "metadata": {
        "id": "Fa279ZX6MXAr"
      },
      "outputs": [],
      "source": [
        "# xgb_models = {}\n",
        "\n",
        "# for i, label in enumerate(label_columns):\n",
        "#     print(f\"Training XGBoost for label: {label}\")\n",
        "#     # Use the computed class weights for the positive class\n",
        "#     scale_pos_weight = class_weights_tensor[i].item()\n",
        "#     # Initialize and train XGBoost classifier\n",
        "#     xgb_model = xgb.XGBClassifier(\n",
        "#         objective='binary:logistic',\n",
        "#         eval_metric='logloss',\n",
        "#         use_label_encoder=False,\n",
        "#         n_estimators=100,\n",
        "#         learning_rate=0.1,\n",
        "#         max_depth=6,\n",
        "#         tree_method='hist',\n",
        "#         scale_pos_weight=scale_pos_weight,  # Apply the class weight here\n",
        "#         device=device\n",
        "#     )\n",
        "#     xgb_model.fit(x_train_embeddings, y_train_flat[:, i])\n",
        "#     xgb_models[label] = xgb_model"
      ]
    },
    {
      "cell_type": "code",
      "execution_count": 934,
      "metadata": {
        "id": "9jHj9smdMXAr"
      },
      "outputs": [],
      "source": [
        "# Save the XGBoost models if needed\n",
        "# for label, model in xgb_models.items():\n",
        "#     model.save_model(f\"xgb_model_{label}.json\")"
      ]
    },
    {
      "cell_type": "code",
      "execution_count": 935,
      "metadata": {
        "id": "Du-mS-6LMXAr"
      },
      "outputs": [],
      "source": [
        "# import pickle\n",
        "# # Save the XGBoost models if needed\n",
        "# for label, model in xgb_models.items():\n",
        "#     with open(f\"xgb_model_{label}.pkl\", 'wb') as f:\n",
        "#       pickle.dump(model, f)"
      ]
    },
    {
      "cell_type": "code",
      "execution_count": 936,
      "metadata": {
        "id": "R4SklNOpMXAr"
      },
      "outputs": [],
      "source": [
        "# !zip xgb_models_pkl.zip xgb_model_*.pkl"
      ]
    },
    {
      "cell_type": "code",
      "source": [
        "!rm -rf svm*"
      ],
      "metadata": {
        "id": "HmjpzkjdFvGC"
      },
      "execution_count": 937,
      "outputs": []
    },
    {
      "cell_type": "code",
      "execution_count": 938,
      "metadata": {
        "id": "TMRlx05eKvBY"
      },
      "outputs": [],
      "source": [
        "from sklearn.svm import SVC"
      ]
    },
    {
      "cell_type": "code",
      "execution_count": 939,
      "metadata": {
        "colab": {
          "base_uri": "https://localhost:8080/"
        },
        "id": "lEP0kNeYD7L2",
        "outputId": "e847fc3e-8d5a-43cd-f93e-c1d3d15f7097"
      },
      "outputs": [
        {
          "output_type": "stream",
          "name": "stdout",
          "text": [
            "Training SVM for label: anger\n",
            "Training SVM for label: disgust\n",
            "Training SVM for label: fear\n",
            "Training SVM for label: joy\n",
            "Training SVM for label: sadness\n",
            "Training SVM for label: surprise\n"
          ]
        }
      ],
      "source": [
        "svm_models = {}\n",
        "\n",
        "for i, label in enumerate(label_columns):\n",
        "    print(f\"Training SVM for label: {label}\")\n",
        "\n",
        "    # Use the computed class weights for balancing the classes\n",
        "    class_weight = {0: 1, 1: class_weights_tensor[i].item()}  # Adjust the class weights\n",
        "\n",
        "    svm_model = SVC(class_weight={0: 1, 1: class_weights_tensor[i].item()})\n",
        "\n",
        "    svm_model.fit(x_train_embeddings, y_train_flat[:, i])\n",
        "    svm_models[label] = svm_model"
      ]
    },
    {
      "cell_type": "code",
      "execution_count": 940,
      "metadata": {
        "id": "K2XuOhEj6u_U"
      },
      "outputs": [],
      "source": [
        "import pickle\n",
        "# Save the svm models if needed\n",
        "for label, model in svm_models.items():\n",
        "    with open(f\"svm_model_{label}.pkl\", 'wb') as f:\n",
        "      pickle.dump(model, f)"
      ]
    },
    {
      "cell_type": "code",
      "execution_count": 941,
      "metadata": {
        "id": "0BW54_je667r",
        "colab": {
          "base_uri": "https://localhost:8080/"
        },
        "outputId": "99be1319-1e5b-409d-8301-afc468d55d0c"
      },
      "outputs": [
        {
          "output_type": "stream",
          "name": "stdout",
          "text": [
            "  adding: svm_model_anger.pkl (deflated 75%)\n",
            "  adding: svm_model_disgust.pkl (deflated 75%)\n",
            "  adding: svm_model_fear.pkl (deflated 75%)\n",
            "  adding: svm_model_joy.pkl (deflated 75%)\n",
            "  adding: svm_model_sadness.pkl (deflated 75%)\n",
            "  adding: svm_model_surprise.pkl (deflated 75%)\n"
          ]
        }
      ],
      "source": [
        "!zip svm_models_pkl.zip svm_model_*.pkl"
      ]
    },
    {
      "cell_type": "code",
      "execution_count": 942,
      "metadata": {
        "id": "zhVJ1at0MXAs"
      },
      "outputs": [],
      "source": [
        "kind=\"dev\""
      ]
    },
    {
      "cell_type": "code",
      "execution_count": 943,
      "metadata": {
        "colab": {
          "base_uri": "https://localhost:8080/",
          "height": 423
        },
        "id": "nhnFaUn6MXAs",
        "outputId": "0a6ae273-5931-4444-f661-3e53d8d6fb5d"
      },
      "outputs": [
        {
          "output_type": "execute_result",
          "data": {
            "text/plain": [
              "     index                     id  anger  disgust  fear  joy  sadness  \\\n",
              "0        0  som_dev_track_a_00001      0        0     0    0        0   \n",
              "1        1  som_dev_track_a_00002      0        0     0    0        0   \n",
              "2        2  som_dev_track_a_00003      0        0     0    0        0   \n",
              "3        3  som_dev_track_a_00004      0        0     0    0        0   \n",
              "4        4  som_dev_track_a_00005      0        0     0    0        0   \n",
              "..     ...                    ...    ...      ...   ...  ...      ...   \n",
              "561    561  som_dev_track_a_00562      0        0     0    0        0   \n",
              "562    562  som_dev_track_a_00563      0        0     0    0        0   \n",
              "563    563  som_dev_track_a_00564      0        0     0    0        0   \n",
              "564    564  som_dev_track_a_00565      0        0     0    0        0   \n",
              "565    565  som_dev_track_a_00566      0        0     0    0        0   \n",
              "\n",
              "     surprise lang                                      clean_message  \n",
              "0           0  som  albaaab walba ooo kaaa xiran alaha kuuu furo m...  \n",
              "1           0  som  wadan fashilmay somalia alllow dalkayga somali...  \n",
              "2           0  som  aduuunkan farxad mataaalo cos adigooooooyneya ...  \n",
              "3           0  som     maro madow ina sooo xiratan bey aheyd wa cabsi  \n",
              "4           0  som  meshan waxabaaakadhacay malintaaan qurux ku dh...  \n",
              "..        ...  ...                                                ...  \n",
              "561         0  som  rwanda waxa ka dhacay 19994 dagaaal sokeeeye o...  \n",
              "562         0  som  wlhi wlll wa runta inanku cawaaan ayu ahaaa ha...  \n",
              "563         0  som  welcome to mugadisho gacan furan ku sooo dhawa...  \n",
              "564         0  som  user uae ooo dhistay djibouti deladeeeda kadib...  \n",
              "565         0  som  maaamulka dagmada dhooobleeey ooo dhagax dhiga...  \n",
              "\n",
              "[566 rows x 10 columns]"
            ],
            "text/html": [
              "\n",
              "  <div id=\"df-913187c3-6349-41ec-a219-9e76d5fd2266\" class=\"colab-df-container\">\n",
              "    <div>\n",
              "<style scoped>\n",
              "    .dataframe tbody tr th:only-of-type {\n",
              "        vertical-align: middle;\n",
              "    }\n",
              "\n",
              "    .dataframe tbody tr th {\n",
              "        vertical-align: top;\n",
              "    }\n",
              "\n",
              "    .dataframe thead th {\n",
              "        text-align: right;\n",
              "    }\n",
              "</style>\n",
              "<table border=\"1\" class=\"dataframe\">\n",
              "  <thead>\n",
              "    <tr style=\"text-align: right;\">\n",
              "      <th></th>\n",
              "      <th>index</th>\n",
              "      <th>id</th>\n",
              "      <th>anger</th>\n",
              "      <th>disgust</th>\n",
              "      <th>fear</th>\n",
              "      <th>joy</th>\n",
              "      <th>sadness</th>\n",
              "      <th>surprise</th>\n",
              "      <th>lang</th>\n",
              "      <th>clean_message</th>\n",
              "    </tr>\n",
              "  </thead>\n",
              "  <tbody>\n",
              "    <tr>\n",
              "      <th>0</th>\n",
              "      <td>0</td>\n",
              "      <td>som_dev_track_a_00001</td>\n",
              "      <td>0</td>\n",
              "      <td>0</td>\n",
              "      <td>0</td>\n",
              "      <td>0</td>\n",
              "      <td>0</td>\n",
              "      <td>0</td>\n",
              "      <td>som</td>\n",
              "      <td>albaaab walba ooo kaaa xiran alaha kuuu furo m...</td>\n",
              "    </tr>\n",
              "    <tr>\n",
              "      <th>1</th>\n",
              "      <td>1</td>\n",
              "      <td>som_dev_track_a_00002</td>\n",
              "      <td>0</td>\n",
              "      <td>0</td>\n",
              "      <td>0</td>\n",
              "      <td>0</td>\n",
              "      <td>0</td>\n",
              "      <td>0</td>\n",
              "      <td>som</td>\n",
              "      <td>wadan fashilmay somalia alllow dalkayga somali...</td>\n",
              "    </tr>\n",
              "    <tr>\n",
              "      <th>2</th>\n",
              "      <td>2</td>\n",
              "      <td>som_dev_track_a_00003</td>\n",
              "      <td>0</td>\n",
              "      <td>0</td>\n",
              "      <td>0</td>\n",
              "      <td>0</td>\n",
              "      <td>0</td>\n",
              "      <td>0</td>\n",
              "      <td>som</td>\n",
              "      <td>aduuunkan farxad mataaalo cos adigooooooyneya ...</td>\n",
              "    </tr>\n",
              "    <tr>\n",
              "      <th>3</th>\n",
              "      <td>3</td>\n",
              "      <td>som_dev_track_a_00004</td>\n",
              "      <td>0</td>\n",
              "      <td>0</td>\n",
              "      <td>0</td>\n",
              "      <td>0</td>\n",
              "      <td>0</td>\n",
              "      <td>0</td>\n",
              "      <td>som</td>\n",
              "      <td>maro madow ina sooo xiratan bey aheyd wa cabsi</td>\n",
              "    </tr>\n",
              "    <tr>\n",
              "      <th>4</th>\n",
              "      <td>4</td>\n",
              "      <td>som_dev_track_a_00005</td>\n",
              "      <td>0</td>\n",
              "      <td>0</td>\n",
              "      <td>0</td>\n",
              "      <td>0</td>\n",
              "      <td>0</td>\n",
              "      <td>0</td>\n",
              "      <td>som</td>\n",
              "      <td>meshan waxabaaakadhacay malintaaan qurux ku dh...</td>\n",
              "    </tr>\n",
              "    <tr>\n",
              "      <th>...</th>\n",
              "      <td>...</td>\n",
              "      <td>...</td>\n",
              "      <td>...</td>\n",
              "      <td>...</td>\n",
              "      <td>...</td>\n",
              "      <td>...</td>\n",
              "      <td>...</td>\n",
              "      <td>...</td>\n",
              "      <td>...</td>\n",
              "      <td>...</td>\n",
              "    </tr>\n",
              "    <tr>\n",
              "      <th>561</th>\n",
              "      <td>561</td>\n",
              "      <td>som_dev_track_a_00562</td>\n",
              "      <td>0</td>\n",
              "      <td>0</td>\n",
              "      <td>0</td>\n",
              "      <td>0</td>\n",
              "      <td>0</td>\n",
              "      <td>0</td>\n",
              "      <td>som</td>\n",
              "      <td>rwanda waxa ka dhacay 19994 dagaaal sokeeeye o...</td>\n",
              "    </tr>\n",
              "    <tr>\n",
              "      <th>562</th>\n",
              "      <td>562</td>\n",
              "      <td>som_dev_track_a_00563</td>\n",
              "      <td>0</td>\n",
              "      <td>0</td>\n",
              "      <td>0</td>\n",
              "      <td>0</td>\n",
              "      <td>0</td>\n",
              "      <td>0</td>\n",
              "      <td>som</td>\n",
              "      <td>wlhi wlll wa runta inanku cawaaan ayu ahaaa ha...</td>\n",
              "    </tr>\n",
              "    <tr>\n",
              "      <th>563</th>\n",
              "      <td>563</td>\n",
              "      <td>som_dev_track_a_00564</td>\n",
              "      <td>0</td>\n",
              "      <td>0</td>\n",
              "      <td>0</td>\n",
              "      <td>0</td>\n",
              "      <td>0</td>\n",
              "      <td>0</td>\n",
              "      <td>som</td>\n",
              "      <td>welcome to mugadisho gacan furan ku sooo dhawa...</td>\n",
              "    </tr>\n",
              "    <tr>\n",
              "      <th>564</th>\n",
              "      <td>564</td>\n",
              "      <td>som_dev_track_a_00565</td>\n",
              "      <td>0</td>\n",
              "      <td>0</td>\n",
              "      <td>0</td>\n",
              "      <td>0</td>\n",
              "      <td>0</td>\n",
              "      <td>0</td>\n",
              "      <td>som</td>\n",
              "      <td>user uae ooo dhistay djibouti deladeeeda kadib...</td>\n",
              "    </tr>\n",
              "    <tr>\n",
              "      <th>565</th>\n",
              "      <td>565</td>\n",
              "      <td>som_dev_track_a_00566</td>\n",
              "      <td>0</td>\n",
              "      <td>0</td>\n",
              "      <td>0</td>\n",
              "      <td>0</td>\n",
              "      <td>0</td>\n",
              "      <td>0</td>\n",
              "      <td>som</td>\n",
              "      <td>maaamulka dagmada dhooobleeey ooo dhagax dhiga...</td>\n",
              "    </tr>\n",
              "  </tbody>\n",
              "</table>\n",
              "<p>566 rows × 10 columns</p>\n",
              "</div>\n",
              "    <div class=\"colab-df-buttons\">\n",
              "\n",
              "  <div class=\"colab-df-container\">\n",
              "    <button class=\"colab-df-convert\" onclick=\"convertToInteractive('df-913187c3-6349-41ec-a219-9e76d5fd2266')\"\n",
              "            title=\"Convert this dataframe to an interactive table.\"\n",
              "            style=\"display:none;\">\n",
              "\n",
              "  <svg xmlns=\"http://www.w3.org/2000/svg\" height=\"24px\" viewBox=\"0 -960 960 960\">\n",
              "    <path d=\"M120-120v-720h720v720H120Zm60-500h600v-160H180v160Zm220 220h160v-160H400v160Zm0 220h160v-160H400v160ZM180-400h160v-160H180v160Zm440 0h160v-160H620v160ZM180-180h160v-160H180v160Zm440 0h160v-160H620v160Z\"/>\n",
              "  </svg>\n",
              "    </button>\n",
              "\n",
              "  <style>\n",
              "    .colab-df-container {\n",
              "      display:flex;\n",
              "      gap: 12px;\n",
              "    }\n",
              "\n",
              "    .colab-df-convert {\n",
              "      background-color: #E8F0FE;\n",
              "      border: none;\n",
              "      border-radius: 50%;\n",
              "      cursor: pointer;\n",
              "      display: none;\n",
              "      fill: #1967D2;\n",
              "      height: 32px;\n",
              "      padding: 0 0 0 0;\n",
              "      width: 32px;\n",
              "    }\n",
              "\n",
              "    .colab-df-convert:hover {\n",
              "      background-color: #E2EBFA;\n",
              "      box-shadow: 0px 1px 2px rgba(60, 64, 67, 0.3), 0px 1px 3px 1px rgba(60, 64, 67, 0.15);\n",
              "      fill: #174EA6;\n",
              "    }\n",
              "\n",
              "    .colab-df-buttons div {\n",
              "      margin-bottom: 4px;\n",
              "    }\n",
              "\n",
              "    [theme=dark] .colab-df-convert {\n",
              "      background-color: #3B4455;\n",
              "      fill: #D2E3FC;\n",
              "    }\n",
              "\n",
              "    [theme=dark] .colab-df-convert:hover {\n",
              "      background-color: #434B5C;\n",
              "      box-shadow: 0px 1px 3px 1px rgba(0, 0, 0, 0.15);\n",
              "      filter: drop-shadow(0px 1px 2px rgba(0, 0, 0, 0.3));\n",
              "      fill: #FFFFFF;\n",
              "    }\n",
              "  </style>\n",
              "\n",
              "    <script>\n",
              "      const buttonEl =\n",
              "        document.querySelector('#df-913187c3-6349-41ec-a219-9e76d5fd2266 button.colab-df-convert');\n",
              "      buttonEl.style.display =\n",
              "        google.colab.kernel.accessAllowed ? 'block' : 'none';\n",
              "\n",
              "      async function convertToInteractive(key) {\n",
              "        const element = document.querySelector('#df-913187c3-6349-41ec-a219-9e76d5fd2266');\n",
              "        const dataTable =\n",
              "          await google.colab.kernel.invokeFunction('convertToInteractive',\n",
              "                                                    [key], {});\n",
              "        if (!dataTable) return;\n",
              "\n",
              "        const docLinkHtml = 'Like what you see? Visit the ' +\n",
              "          '<a target=\"_blank\" href=https://colab.research.google.com/notebooks/data_table.ipynb>data table notebook</a>'\n",
              "          + ' to learn more about interactive tables.';\n",
              "        element.innerHTML = '';\n",
              "        dataTable['output_type'] = 'display_data';\n",
              "        await google.colab.output.renderOutput(dataTable, element);\n",
              "        const docLink = document.createElement('div');\n",
              "        docLink.innerHTML = docLinkHtml;\n",
              "        element.appendChild(docLink);\n",
              "      }\n",
              "    </script>\n",
              "  </div>\n",
              "\n",
              "\n",
              "<div id=\"df-8f553cb0-762f-4930-9739-5ede5b0204e2\">\n",
              "  <button class=\"colab-df-quickchart\" onclick=\"quickchart('df-8f553cb0-762f-4930-9739-5ede5b0204e2')\"\n",
              "            title=\"Suggest charts\"\n",
              "            style=\"display:none;\">\n",
              "\n",
              "<svg xmlns=\"http://www.w3.org/2000/svg\" height=\"24px\"viewBox=\"0 0 24 24\"\n",
              "     width=\"24px\">\n",
              "    <g>\n",
              "        <path d=\"M19 3H5c-1.1 0-2 .9-2 2v14c0 1.1.9 2 2 2h14c1.1 0 2-.9 2-2V5c0-1.1-.9-2-2-2zM9 17H7v-7h2v7zm4 0h-2V7h2v10zm4 0h-2v-4h2v4z\"/>\n",
              "    </g>\n",
              "</svg>\n",
              "  </button>\n",
              "\n",
              "<style>\n",
              "  .colab-df-quickchart {\n",
              "      --bg-color: #E8F0FE;\n",
              "      --fill-color: #1967D2;\n",
              "      --hover-bg-color: #E2EBFA;\n",
              "      --hover-fill-color: #174EA6;\n",
              "      --disabled-fill-color: #AAA;\n",
              "      --disabled-bg-color: #DDD;\n",
              "  }\n",
              "\n",
              "  [theme=dark] .colab-df-quickchart {\n",
              "      --bg-color: #3B4455;\n",
              "      --fill-color: #D2E3FC;\n",
              "      --hover-bg-color: #434B5C;\n",
              "      --hover-fill-color: #FFFFFF;\n",
              "      --disabled-bg-color: #3B4455;\n",
              "      --disabled-fill-color: #666;\n",
              "  }\n",
              "\n",
              "  .colab-df-quickchart {\n",
              "    background-color: var(--bg-color);\n",
              "    border: none;\n",
              "    border-radius: 50%;\n",
              "    cursor: pointer;\n",
              "    display: none;\n",
              "    fill: var(--fill-color);\n",
              "    height: 32px;\n",
              "    padding: 0;\n",
              "    width: 32px;\n",
              "  }\n",
              "\n",
              "  .colab-df-quickchart:hover {\n",
              "    background-color: var(--hover-bg-color);\n",
              "    box-shadow: 0 1px 2px rgba(60, 64, 67, 0.3), 0 1px 3px 1px rgba(60, 64, 67, 0.15);\n",
              "    fill: var(--button-hover-fill-color);\n",
              "  }\n",
              "\n",
              "  .colab-df-quickchart-complete:disabled,\n",
              "  .colab-df-quickchart-complete:disabled:hover {\n",
              "    background-color: var(--disabled-bg-color);\n",
              "    fill: var(--disabled-fill-color);\n",
              "    box-shadow: none;\n",
              "  }\n",
              "\n",
              "  .colab-df-spinner {\n",
              "    border: 2px solid var(--fill-color);\n",
              "    border-color: transparent;\n",
              "    border-bottom-color: var(--fill-color);\n",
              "    animation:\n",
              "      spin 1s steps(1) infinite;\n",
              "  }\n",
              "\n",
              "  @keyframes spin {\n",
              "    0% {\n",
              "      border-color: transparent;\n",
              "      border-bottom-color: var(--fill-color);\n",
              "      border-left-color: var(--fill-color);\n",
              "    }\n",
              "    20% {\n",
              "      border-color: transparent;\n",
              "      border-left-color: var(--fill-color);\n",
              "      border-top-color: var(--fill-color);\n",
              "    }\n",
              "    30% {\n",
              "      border-color: transparent;\n",
              "      border-left-color: var(--fill-color);\n",
              "      border-top-color: var(--fill-color);\n",
              "      border-right-color: var(--fill-color);\n",
              "    }\n",
              "    40% {\n",
              "      border-color: transparent;\n",
              "      border-right-color: var(--fill-color);\n",
              "      border-top-color: var(--fill-color);\n",
              "    }\n",
              "    60% {\n",
              "      border-color: transparent;\n",
              "      border-right-color: var(--fill-color);\n",
              "    }\n",
              "    80% {\n",
              "      border-color: transparent;\n",
              "      border-right-color: var(--fill-color);\n",
              "      border-bottom-color: var(--fill-color);\n",
              "    }\n",
              "    90% {\n",
              "      border-color: transparent;\n",
              "      border-bottom-color: var(--fill-color);\n",
              "    }\n",
              "  }\n",
              "</style>\n",
              "\n",
              "  <script>\n",
              "    async function quickchart(key) {\n",
              "      const quickchartButtonEl =\n",
              "        document.querySelector('#' + key + ' button');\n",
              "      quickchartButtonEl.disabled = true;  // To prevent multiple clicks.\n",
              "      quickchartButtonEl.classList.add('colab-df-spinner');\n",
              "      try {\n",
              "        const charts = await google.colab.kernel.invokeFunction(\n",
              "            'suggestCharts', [key], {});\n",
              "      } catch (error) {\n",
              "        console.error('Error during call to suggestCharts:', error);\n",
              "      }\n",
              "      quickchartButtonEl.classList.remove('colab-df-spinner');\n",
              "      quickchartButtonEl.classList.add('colab-df-quickchart-complete');\n",
              "    }\n",
              "    (() => {\n",
              "      let quickchartButtonEl =\n",
              "        document.querySelector('#df-8f553cb0-762f-4930-9739-5ede5b0204e2 button');\n",
              "      quickchartButtonEl.style.display =\n",
              "        google.colab.kernel.accessAllowed ? 'block' : 'none';\n",
              "    })();\n",
              "  </script>\n",
              "</div>\n",
              "    </div>\n",
              "  </div>\n"
            ],
            "application/vnd.google.colaboratory.intrinsic+json": {
              "type": "dataframe",
              "summary": "{\n  \"name\": \"dev_data\",\n  \"rows\": 566,\n  \"fields\": [\n    {\n      \"column\": \"index\",\n      \"properties\": {\n        \"dtype\": \"number\",\n        \"std\": 163,\n        \"min\": 0,\n        \"max\": 565,\n        \"num_unique_values\": 566,\n        \"samples\": [\n          539,\n          524,\n          234\n        ],\n        \"semantic_type\": \"\",\n        \"description\": \"\"\n      }\n    },\n    {\n      \"column\": \"id\",\n      \"properties\": {\n        \"dtype\": \"string\",\n        \"num_unique_values\": 566,\n        \"samples\": [\n          \"som_dev_track_a_00540\",\n          \"som_dev_track_a_00525\",\n          \"som_dev_track_a_00235\"\n        ],\n        \"semantic_type\": \"\",\n        \"description\": \"\"\n      }\n    },\n    {\n      \"column\": \"anger\",\n      \"properties\": {\n        \"dtype\": \"number\",\n        \"std\": 0,\n        \"min\": 0,\n        \"max\": 0,\n        \"num_unique_values\": 1,\n        \"samples\": [\n          0\n        ],\n        \"semantic_type\": \"\",\n        \"description\": \"\"\n      }\n    },\n    {\n      \"column\": \"disgust\",\n      \"properties\": {\n        \"dtype\": \"number\",\n        \"std\": 0,\n        \"min\": 0,\n        \"max\": 0,\n        \"num_unique_values\": 1,\n        \"samples\": [\n          0\n        ],\n        \"semantic_type\": \"\",\n        \"description\": \"\"\n      }\n    },\n    {\n      \"column\": \"fear\",\n      \"properties\": {\n        \"dtype\": \"number\",\n        \"std\": 0,\n        \"min\": 0,\n        \"max\": 0,\n        \"num_unique_values\": 1,\n        \"samples\": [\n          0\n        ],\n        \"semantic_type\": \"\",\n        \"description\": \"\"\n      }\n    },\n    {\n      \"column\": \"joy\",\n      \"properties\": {\n        \"dtype\": \"number\",\n        \"std\": 0,\n        \"min\": 0,\n        \"max\": 0,\n        \"num_unique_values\": 1,\n        \"samples\": [\n          0\n        ],\n        \"semantic_type\": \"\",\n        \"description\": \"\"\n      }\n    },\n    {\n      \"column\": \"sadness\",\n      \"properties\": {\n        \"dtype\": \"number\",\n        \"std\": 0,\n        \"min\": 0,\n        \"max\": 0,\n        \"num_unique_values\": 1,\n        \"samples\": [\n          0\n        ],\n        \"semantic_type\": \"\",\n        \"description\": \"\"\n      }\n    },\n    {\n      \"column\": \"surprise\",\n      \"properties\": {\n        \"dtype\": \"number\",\n        \"std\": 0,\n        \"min\": 0,\n        \"max\": 0,\n        \"num_unique_values\": 1,\n        \"samples\": [\n          0\n        ],\n        \"semantic_type\": \"\",\n        \"description\": \"\"\n      }\n    },\n    {\n      \"column\": \"lang\",\n      \"properties\": {\n        \"dtype\": \"category\",\n        \"num_unique_values\": 1,\n        \"samples\": [\n          \"som\"\n        ],\n        \"semantic_type\": \"\",\n        \"description\": \"\"\n      }\n    },\n    {\n      \"column\": \"clean_message\",\n      \"properties\": {\n        \"dtype\": \"string\",\n        \"num_unique_values\": 566,\n        \"samples\": [\n          \"geeeli awowgey laga dhacay xiligas burburki aya wali dad caaana ka lisayaaa talow gormey kuwas xaraaanta iska so celidonaaan ooo ay cafis na weydin donaaan\"\n        ],\n        \"semantic_type\": \"\",\n        \"description\": \"\"\n      }\n    }\n  ]\n}"
            }
          },
          "metadata": {},
          "execution_count": 943
        }
      ],
      "source": [
        "all_csv=pd.DataFrame()\n",
        "\n",
        "for lang in langs:\n",
        "\n",
        "    processed_path=f\"processed_data/{kind}/{task}/{lang}.csv\"\n",
        "    # if kind==\"dev\":\n",
        "    #    processed_path=processed_path.replace(lang,lang+task[-2:])\n",
        "    if not os.path.isfile(processed_path):\n",
        "\n",
        "      print(\"not found:\",processed_path)\n",
        "\n",
        "      continue\n",
        "    train_data=pd.read_csv(processed_path)\n",
        "\n",
        "    train_data.columns = train_data.columns.str.lower()\n",
        "\n",
        "    all_csv = pd.concat([all_csv, train_data],ignore_index=True)\n",
        "dev_data=all_csv\n",
        "dev_data=dev_data.fillna(0)\n",
        "float_columns = dev_data.select_dtypes(include=['float64']).columns\n",
        "\n",
        "# Convert those columns to int\n",
        "dev_data[float_columns] = dev_data[float_columns].astype('int')\n",
        "dev_data = dev_data[dev_data['clean_message'].isnull()==False]\n",
        "dev_data.reset_index()\n"
      ]
    },
    {
      "cell_type": "code",
      "execution_count": 944,
      "metadata": {
        "id": "5o3BTrYtMXAs"
      },
      "outputs": [],
      "source": [
        "x_dev, y_dev = dev_data['clean_message'].values.tolist(), dev_data[label_columns].values.tolist()"
      ]
    },
    {
      "cell_type": "code",
      "execution_count": 945,
      "metadata": {
        "id": "UHCkNG34MXAs"
      },
      "outputs": [],
      "source": [
        "y_dev_df = pd.DataFrame(y_dev, columns=label_columns)"
      ]
    },
    {
      "cell_type": "code",
      "execution_count": 946,
      "metadata": {
        "colab": {
          "base_uri": "https://localhost:8080/"
        },
        "id": "oyWtdjnYMXAs",
        "outputId": "2d581d47-2bf6-4ea5-8520-da27a841e858"
      },
      "outputs": [
        {
          "output_type": "stream",
          "name": "stderr",
          "text": [
            "Extracting embeddings: 100%|██████████| 18/18 [00:14<00:00,  1.25it/s]\n"
          ]
        }
      ],
      "source": [
        "x_dev_embeddings = extract_embeddings(x_dev, embedding_model, batch_size=32)"
      ]
    },
    {
      "cell_type": "code",
      "execution_count": 947,
      "metadata": {
        "id": "WjeDNuqEMXAt"
      },
      "outputs": [],
      "source": [
        "y_dev_flat = np.array(y_dev)"
      ]
    },
    {
      "cell_type": "code",
      "execution_count": 948,
      "metadata": {
        "colab": {
          "base_uri": "https://localhost:8080/"
        },
        "id": "3FoBtPJxMXAt",
        "outputId": "5c0b41ee-848e-4d31-cf99-4365c69e8dc9"
      },
      "outputs": [
        {
          "output_type": "stream",
          "name": "stdout",
          "text": [
            "Predicting for label: anger\n",
            "Predicting for label: disgust\n",
            "Predicting for label: fear\n",
            "Predicting for label: joy\n",
            "Predicting for label: sadness\n",
            "Predicting for label: surprise\n"
          ]
        }
      ],
      "source": [
        "# Predict labels for the test data\n",
        "test_predictions = {}\n",
        "for label in label_columns:\n",
        "    print(f\"Predicting for label: {label}\")\n",
        "    test_predictions[label] = svm_models[label].predict(x_dev_embeddings)"
      ]
    },
    {
      "cell_type": "code",
      "execution_count": 949,
      "metadata": {
        "id": "_P1CbM-_MXAt"
      },
      "outputs": [],
      "source": [
        "predictions_df = pd.DataFrame(test_predictions)\n",
        "dev_data.reset_index(inplace=True)"
      ]
    },
    {
      "cell_type": "code",
      "execution_count": 950,
      "metadata": {
        "id": "NwG32gbtMXAt"
      },
      "outputs": [],
      "source": [
        "output_df = pd.concat([dev_data[['id','lang']], predictions_df], axis=1)"
      ]
    },
    {
      "cell_type": "code",
      "source": [
        "!rm -rf track*"
      ],
      "metadata": {
        "id": "NiY-w-qZD41K"
      },
      "execution_count": 951,
      "outputs": []
    },
    {
      "cell_type": "code",
      "execution_count": 952,
      "metadata": {
        "colab": {
          "base_uri": "https://localhost:8080/"
        },
        "id": "XqPYlQX5MXAt",
        "outputId": "456939a9-ae81-42f6-c541-af1c6d264a83"
      },
      "outputs": [
        {
          "output_type": "stream",
          "name": "stdout",
          "text": [
            "Predictions for language 'som' saved to track_a/pred_som.csv\n"
          ]
        }
      ],
      "source": [
        "# Create directory if it doesn't exist\n",
        "output_dir = task\n",
        "os.makedirs(output_dir, exist_ok=True)\n",
        "\n",
        "# Iterate through the unique languages in the 'lang' column\n",
        "for lang in output_df['lang'].unique():\n",
        "    # Filter rows for the current language\n",
        "    lang_df = output_df[output_df['lang'] == lang]\n",
        "    lang_df.drop(columns=['lang'],inplace=True)\n",
        "\n",
        "    # Define the output file path for the current language\n",
        "    lang_csv_file = os.path.join(output_dir, f\"pred_{lang}.csv\")\n",
        "\n",
        "    # Sort the DataFrame by the 'id' column\n",
        "    lang_df.sort_values(by='id', inplace=True)\n",
        "\n",
        "    # Save the filtered DataFrame to a CSV file\n",
        "    lang_df.to_csv(lang_csv_file, index=False)\n",
        "\n",
        "    # Print a confirmation message\n",
        "    print(f\"Predictions for language '{lang}' saved to {lang_csv_file}\")"
      ]
    },
    {
      "cell_type": "code",
      "execution_count": 953,
      "metadata": {
        "colab": {
          "base_uri": "https://localhost:8080/"
        },
        "id": "wLsDfIWwMXAt",
        "outputId": "4a997287-7b8b-4204-b03a-49f8cecd113e"
      },
      "outputs": [
        {
          "output_type": "stream",
          "name": "stdout",
          "text": [
            "  adding: track_a/ (stored 0%)\n",
            "  adding: track_a/pred_som.csv (deflated 90%)\n"
          ]
        }
      ],
      "source": [
        "!zip -r {task}.zip {task}"
      ]
    }
  ],
  "metadata": {
    "accelerator": "GPU",
    "colab": {
      "gpuType": "T4",
      "provenance": []
    },
    "kaggle": {
      "accelerator": "gpu",
      "dataSources": [],
      "dockerImageVersionId": 30823,
      "isGpuEnabled": true,
      "isInternetEnabled": true,
      "language": "python",
      "sourceType": "notebook"
    },
    "kernelspec": {
      "display_name": "Python 3",
      "language": "python",
      "name": "python3"
    },
    "language_info": {
      "codemirror_mode": {
        "name": "ipython",
        "version": 3
      },
      "file_extension": ".py",
      "mimetype": "text/x-python",
      "name": "python",
      "nbconvert_exporter": "python",
      "pygments_lexer": "ipython3",
      "version": "3.10.12"
    }
  },
  "nbformat": 4,
  "nbformat_minor": 0
}