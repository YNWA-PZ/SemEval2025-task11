{
  "cells": [
    {
      "cell_type": "code",
      "execution_count": 402,
      "metadata": {
        "id": "EKReewTRMXAf"
      },
      "outputs": [],
      "source": [
        "model_name=\"jinaai/jina-embeddings-v3\""
      ]
    },
    {
      "cell_type": "code",
      "execution_count": 2,
      "metadata": {
        "id": "rVRSZaZ7DdeQ"
      },
      "outputs": [],
      "source": [
        "import os\n",
        "\n",
        "os.environ['CUDA_LAUNCH_BLOCKING'] = \"1\"\n",
        "\n",
        "os.environ['WANDB_DISABLED'] = \"true\""
      ]
    },
    {
      "cell_type": "code",
      "execution_count": 3,
      "metadata": {
        "colab": {
          "base_uri": "https://localhost:8080/"
        },
        "execution": {
          "iopub.execute_input": "2025-01-05T19:15:21.336921Z",
          "iopub.status.busy": "2025-01-05T19:15:21.336601Z",
          "iopub.status.idle": "2025-01-05T19:15:28.642730Z",
          "shell.execute_reply": "2025-01-05T19:15:28.641846Z",
          "shell.execute_reply.started": "2025-01-05T19:15:21.336883Z"
        },
        "id": "jiRg5MiCozSJ",
        "outputId": "ec4ce3f6-209e-4fcd-a227-869f73d4e468",
        "trusted": true
      },
      "outputs": [
        {
          "output_type": "stream",
          "name": "stdout",
          "text": [
            "Downloading...\n",
            "From: https://drive.google.com/uc?id=1EI12smTmdi4Mlu_lLNULN6p6g9dYEWql\n",
            "To: /content/processed_data.zip\n",
            "\r  0% 0.00/6.00M [00:00<?, ?B/s]\r 26% 1.57M/6.00M [00:00<00:00, 15.5MB/s]\r100% 6.00M/6.00M [00:00<00:00, 47.4MB/s]\n"
          ]
        }
      ],
      "source": [
        "# !gdown 1qq5gDuEAqWnoviRBDYfbprLFD-MPQyNo\n",
        "# !gdown 1mq9CWT9MXsH1Y-ihxVL4uEzufQjpBoer\n",
        "!gdown 1EI12smTmdi4Mlu_lLNULN6p6g9dYEWql"
      ]
    },
    {
      "cell_type": "code",
      "execution_count": 4,
      "metadata": {
        "execution": {
          "iopub.execute_input": "2025-01-05T19:15:28.644379Z",
          "iopub.status.busy": "2025-01-05T19:15:28.644090Z",
          "iopub.status.idle": "2025-01-05T19:15:29.037021Z",
          "shell.execute_reply": "2025-01-05T19:15:29.035964Z",
          "shell.execute_reply.started": "2025-01-05T19:15:28.644356Z"
        },
        "id": "kexrENAEo54E",
        "trusted": true
      },
      "outputs": [],
      "source": [
        "!rm -rf processed_data\n",
        "\n",
        "!unzip -q processed_data.zip"
      ]
    },
    {
      "cell_type": "code",
      "execution_count": 5,
      "metadata": {
        "execution": {
          "iopub.execute_input": "2025-01-05T19:15:29.038684Z",
          "iopub.status.busy": "2025-01-05T19:15:29.038337Z",
          "iopub.status.idle": "2025-01-05T19:16:03.984740Z",
          "shell.execute_reply": "2025-01-05T19:16:03.983693Z",
          "shell.execute_reply.started": "2025-01-05T19:15:29.038659Z"
        },
        "id": "VC2TifwamSFK",
        "trusted": true,
        "colab": {
          "base_uri": "https://localhost:8080/"
        },
        "outputId": "01c37459-bc3e-47fc-f35d-6c0370201104"
      },
      "outputs": [
        {
          "output_type": "stream",
          "name": "stdout",
          "text": [
            "\u001b[2K     \u001b[90m━━━━━━━━━━━━━━━━━━━━━━━━━━━━━━━━━━━━━━━━\u001b[0m \u001b[32m44.4/44.4 kB\u001b[0m \u001b[31m2.2 MB/s\u001b[0m eta \u001b[36m0:00:00\u001b[0m\n",
            "\u001b[2K   \u001b[90m━━━━━━━━━━━━━━━━━━━━━━━━━━━━━━━━━━━━━━━━\u001b[0m \u001b[32m9.7/9.7 MB\u001b[0m \u001b[31m21.7 MB/s\u001b[0m eta \u001b[36m0:00:00\u001b[0m\n",
            "\u001b[2K   \u001b[90m━━━━━━━━━━━━━━━━━━━━━━━━━━━━━━━━━━━━━━━━\u001b[0m \u001b[32m480.6/480.6 kB\u001b[0m \u001b[31m12.9 MB/s\u001b[0m eta \u001b[36m0:00:00\u001b[0m\n",
            "\u001b[2K   \u001b[90m━━━━━━━━━━━━━━━━━━━━━━━━━━━━━━━━━━━━━━━━\u001b[0m \u001b[32m116.3/116.3 kB\u001b[0m \u001b[31m8.8 MB/s\u001b[0m eta \u001b[36m0:00:00\u001b[0m\n",
            "\u001b[2K   \u001b[90m━━━━━━━━━━━━━━━━━━━━━━━━━━━━━━━━━━━━━━━━\u001b[0m \u001b[32m179.3/179.3 kB\u001b[0m \u001b[31m14.7 MB/s\u001b[0m eta \u001b[36m0:00:00\u001b[0m\n",
            "\u001b[2K   \u001b[90m━━━━━━━━━━━━━━━━━━━━━━━━━━━━━━━━━━━━━━━━\u001b[0m \u001b[32m134.8/134.8 kB\u001b[0m \u001b[31m11.7 MB/s\u001b[0m eta \u001b[36m0:00:00\u001b[0m\n",
            "\u001b[2K   \u001b[90m━━━━━━━━━━━━━━━━━━━━━━━━━━━━━━━━━━━━━━━━\u001b[0m \u001b[32m194.1/194.1 kB\u001b[0m \u001b[31m17.0 MB/s\u001b[0m eta \u001b[36m0:00:00\u001b[0m\n",
            "\u001b[?25h\u001b[31mERROR: pip's dependency resolver does not currently take into account all the packages that are installed. This behaviour is the source of the following dependency conflicts.\n",
            "gcsfs 2024.10.0 requires fsspec==2024.10.0, but you have fsspec 2024.9.0 which is incompatible.\u001b[0m\u001b[31m\n",
            "\u001b[2K   \u001b[90m━━━━━━━━━━━━━━━━━━━━━━━━━━━━━━━━━━━━━━━━\u001b[0m \u001b[32m23.5/23.5 MB\u001b[0m \u001b[31m90.0 MB/s\u001b[0m eta \u001b[36m0:00:00\u001b[0m\n",
            "\u001b[2K   \u001b[90m━━━━━━━━━━━━━━━━━━━━━━━━━━━━━━━━━━━━━━━━\u001b[0m \u001b[32m424.1/424.1 kB\u001b[0m \u001b[31m28.3 MB/s\u001b[0m eta \u001b[36m0:00:00\u001b[0m\n",
            "\u001b[2K   \u001b[90m━━━━━━━━━━━━━━━━━━━━━━━━━━━━━━━━━━━━━━━━\u001b[0m \u001b[32m69.1/69.1 MB\u001b[0m \u001b[31m11.6 MB/s\u001b[0m eta \u001b[36m0:00:00\u001b[0m\n",
            "\u001b[2K   \u001b[90m━━━━━━━━━━━━━━━━━━━━━━━━━━━━━━━━━━━━━━━━\u001b[0m \u001b[32m46.0/46.0 kB\u001b[0m \u001b[31m3.5 MB/s\u001b[0m eta \u001b[36m0:00:00\u001b[0m\n",
            "\u001b[2K   \u001b[90m━━━━━━━━━━━━━━━━━━━━━━━━━━━━━━━━━━━━━━━━\u001b[0m \u001b[32m13.2/13.2 MB\u001b[0m \u001b[31m84.7 MB/s\u001b[0m eta \u001b[36m0:00:00\u001b[0m\n",
            "\u001b[2K   \u001b[90m━━━━━━━━━━━━━━━━━━━━━━━━━━━━━━━━━━━━━━━━\u001b[0m \u001b[32m86.8/86.8 kB\u001b[0m \u001b[31m6.2 MB/s\u001b[0m eta \u001b[36m0:00:00\u001b[0m\n",
            "\u001b[?25h"
          ]
        }
      ],
      "source": [
        "!pip install -q transformers[torch] accelerate -U\n",
        "\n",
        "!pip install -q datasets\n",
        "\n",
        "!pip install -q transformers\n",
        "\n",
        "!pip install -q iterative-stratification\n",
        "\n",
        "!pip install -q auto-gptq optimum bitsandbytes"
      ]
    },
    {
      "cell_type": "code",
      "execution_count": 6,
      "metadata": {
        "execution": {
          "iopub.execute_input": "2025-01-05T19:16:03.986156Z",
          "iopub.status.busy": "2025-01-05T19:16:03.985858Z",
          "iopub.status.idle": "2025-01-05T19:16:17.769314Z",
          "shell.execute_reply": "2025-01-05T19:16:17.768671Z",
          "shell.execute_reply.started": "2025-01-05T19:16:03.986133Z"
        },
        "id": "a_v9ZQjVoIma",
        "trusted": true
      },
      "outputs": [],
      "source": [
        "import numpy as np\n",
        "\n",
        "import pandas as pd\n",
        "\n",
        "import os\n",
        "\n",
        "from os import path\n",
        "\n",
        "import glob\n",
        "\n",
        "from tqdm.notebook import tqdm\n",
        "\n",
        "from tqdm import tqdm\n",
        "\n",
        "import string\n",
        "\n",
        "import copy\n",
        "\n",
        "from transformers import AutoTokenizer, AutoModelForSequenceClassification, TrainingArguments, Trainer,IntervalStrategy,BitsAndBytesConfig\n",
        "\n",
        "from datasets import Dataset,load_dataset, DatasetDict\n",
        "\n",
        "# from iterstrat.ml_stratifiers import MultilabelStratifiedKFold\n",
        "\n",
        "from sklearn.metrics import confusion_matrix, ConfusionMatrixDisplay\n",
        "\n",
        "\n",
        "\n",
        "from sklearn.model_selection import train_test_split,KFold\n",
        "\n",
        "from sklearn.metrics import classification_report,accuracy_score, f1_score\n",
        "\n",
        "from sklearn.metrics import precision_recall_fscore_support\n",
        "\n",
        "from sklearn.utils import shuffle\n",
        "\n",
        "from sklearn.preprocessing import LabelEncoder\n",
        "\n",
        "from scipy.special import expit\n",
        "\n",
        "from peft import prepare_model_for_kbit_training\n",
        "\n",
        "from peft import LoraConfig, get_peft_model,PeftModel\n"
      ]
    },
    {
      "cell_type": "code",
      "execution_count": 7,
      "metadata": {
        "execution": {
          "iopub.execute_input": "2025-01-05T19:16:17.770536Z",
          "iopub.status.busy": "2025-01-05T19:16:17.770048Z",
          "iopub.status.idle": "2025-01-05T19:16:17.773985Z",
          "shell.execute_reply": "2025-01-05T19:16:17.773122Z",
          "shell.execute_reply.started": "2025-01-05T19:16:17.770512Z"
        },
        "id": "BN44kbQ4ocG2",
        "trusted": true
      },
      "outputs": [],
      "source": [
        "import torch\n",
        "\n",
        "import torch.nn as nn\n",
        "\n",
        "import torch.nn.functional as F"
      ]
    },
    {
      "cell_type": "code",
      "execution_count": 403,
      "metadata": {
        "execution": {
          "iopub.execute_input": "2025-01-05T19:16:17.777241Z",
          "iopub.status.busy": "2025-01-05T19:16:17.776925Z",
          "iopub.status.idle": "2025-01-05T19:16:17.791835Z",
          "shell.execute_reply": "2025-01-05T19:16:17.790818Z",
          "shell.execute_reply.started": "2025-01-05T19:16:17.777202Z"
        },
        "id": "Ugv0OfRImSin",
        "trusted": true
      },
      "outputs": [],
      "source": [
        "\n",
        "\n",
        "models_list_3=[\n",
        "        model_name,\n",
        "          ]\n",
        "\n",
        "\n",
        "\n",
        "models_name_3=[\n",
        "        model_name,\n",
        "\n",
        "]"
      ]
    },
    {
      "cell_type": "code",
      "execution_count": 467,
      "metadata": {
        "execution": {
          "iopub.execute_input": "2025-01-05T19:16:17.794172Z",
          "iopub.status.busy": "2025-01-05T19:16:17.793838Z",
          "iopub.status.idle": "2025-01-05T19:16:17.808123Z",
          "shell.execute_reply": "2025-01-05T19:16:17.807421Z",
          "shell.execute_reply.started": "2025-01-05T19:16:17.794136Z"
        },
        "id": "1kwye6PzpT4N",
        "trusted": true
      },
      "outputs": [],
      "source": [
        "kind=\"train\"\n",
        "\n",
        "task=\"track_a\"\n",
        "\n",
        "# langs=[\"afr\",\"amh\",\"deu\",\"eng\",\"oro\",\"ptbr\",\"rus\",\"som\",\"sum\",\"tir\"]\n",
        "# labels=['Anger','Disgust', 'Fear', 'Joy', 'Sadness', 'Surprise']\n",
        "# langs=[\"amh\",\"arq\",\"ary\",\"chn\",\"deu\",\"esp\",\"hau\",\"hin\",\"ibo\",\"kin\",\"mar\",\"orm\",\"pcm\",\"ptbr\",\"ptmz\",\"ron\",\"rus\",\"som\",\"sun\",\"swa\",\"swe\",\"tat\",\"tir\",\"ukr\",\"vmw\",\"yor\",\"ind\",\"jav\",\"xho\",\"zul\"]\n",
        "langs=[\"vmw\"]\n",
        "# langs=[\"eng\"]\n",
        "# langs=[\"afr\"]\n",
        "\n",
        "\n",
        "# processed_path=f\"processed_data/{kinds[0]}/{tasks[0]}/{langs[3]}.csv\"\n",
        "\n",
        "\n",
        "\n",
        "# train_data=pd.read_csv(processed_path)\n"
      ]
    },
    {
      "cell_type": "code",
      "execution_count": 468,
      "metadata": {
        "execution": {
          "iopub.execute_input": "2025-01-05T19:16:17.809100Z",
          "iopub.status.busy": "2025-01-05T19:16:17.808821Z",
          "iopub.status.idle": "2025-01-05T19:16:17.843638Z",
          "shell.execute_reply": "2025-01-05T19:16:17.842877Z",
          "shell.execute_reply.started": "2025-01-05T19:16:17.809071Z"
        },
        "id": "1x0MboqJuj21",
        "trusted": true
      },
      "outputs": [],
      "source": [
        "all_csv=pd.DataFrame()\n",
        "\n",
        "for lang in langs:\n",
        "\n",
        "    processed_path=f\"processed_data/{kind}/{task}/{lang}.csv\"\n",
        "    # if kind==\"dev\":\n",
        "    #    processed_path=processed_path.replace(lang,lang+task[-2:])\n",
        "    if not os.path.isfile(processed_path):\n",
        "\n",
        "      print(\"not found:\",processed_path)\n",
        "\n",
        "      continue\n",
        "    train_data=pd.read_csv(processed_path)\n",
        "\n",
        "    train_data.columns = train_data.columns.str.lower()\n",
        "\n",
        "    all_csv = pd.concat([all_csv, train_data],ignore_index=True)\n",
        "\n",
        "\n"
      ]
    },
    {
      "cell_type": "code",
      "execution_count": 469,
      "metadata": {
        "execution": {
          "iopub.execute_input": "2025-01-05T19:16:17.890902Z",
          "iopub.status.busy": "2025-01-05T19:16:17.890614Z",
          "iopub.status.idle": "2025-01-05T19:16:17.900899Z",
          "shell.execute_reply": "2025-01-05T19:16:17.900153Z",
          "shell.execute_reply.started": "2025-01-05T19:16:17.890867Z"
        },
        "id": "zITfHiVrBad5",
        "trusted": true
      },
      "outputs": [],
      "source": [
        "train_data=all_csv\n"
      ]
    },
    {
      "cell_type": "code",
      "execution_count": 470,
      "metadata": {
        "execution": {
          "iopub.execute_input": "2025-01-05T19:16:17.912630Z",
          "iopub.status.busy": "2025-01-05T19:16:17.912355Z",
          "iopub.status.idle": "2025-01-05T19:16:17.929266Z",
          "shell.execute_reply": "2025-01-05T19:16:17.928527Z",
          "shell.execute_reply.started": "2025-01-05T19:16:17.912598Z"
        },
        "id": "7a-08HGownlu",
        "trusted": true
      },
      "outputs": [],
      "source": [
        "train_data=train_data.fillna(0)"
      ]
    },
    {
      "cell_type": "code",
      "execution_count": 471,
      "metadata": {
        "execution": {
          "iopub.execute_input": "2025-01-05T19:16:17.930200Z",
          "iopub.status.busy": "2025-01-05T19:16:17.930010Z",
          "iopub.status.idle": "2025-01-05T19:16:17.952285Z",
          "shell.execute_reply": "2025-01-05T19:16:17.951380Z",
          "shell.execute_reply.started": "2025-01-05T19:16:17.930173Z"
        },
        "id": "wWyOiTLLBad5",
        "trusted": true
      },
      "outputs": [],
      "source": [
        "float_columns = train_data.select_dtypes(include=['float64']).columns\n",
        "# Convert those columns to int\n",
        "train_data[float_columns] = train_data[float_columns].astype('int')"
      ]
    },
    {
      "cell_type": "code",
      "execution_count": 472,
      "metadata": {
        "colab": {
          "base_uri": "https://localhost:8080/",
          "height": 423
        },
        "execution": {
          "iopub.execute_input": "2025-01-05T19:16:17.965502Z",
          "iopub.status.busy": "2025-01-05T19:16:17.965221Z",
          "iopub.status.idle": "2025-01-05T19:16:17.984776Z",
          "shell.execute_reply": "2025-01-05T19:16:17.984010Z",
          "shell.execute_reply.started": "2025-01-05T19:16:17.965472Z"
        },
        "id": "tlabsablmWzT",
        "outputId": "b4264414-b946-4ef2-bcaf-27cf459ef124",
        "trusted": true
      },
      "outputs": [
        {
          "output_type": "execute_result",
          "data": {
            "text/plain": [
              "      index                       id  anger  disgust  fear  joy  sadness  \\\n",
              "0         0  vmw_train_track_a_00001      0        0     0    0        1   \n",
              "1         1  vmw_train_track_a_00002      0        0     0    0        0   \n",
              "2         2  vmw_train_track_a_00003      0        0     0    1        0   \n",
              "3         3  vmw_train_track_a_00004      0        0     0    0        1   \n",
              "4         4  vmw_train_track_a_00005      0        0     0    0        0   \n",
              "...     ...                      ...    ...      ...   ...  ...      ...   \n",
              "1546   1546  vmw_train_track_a_01547      0        0     0    0        1   \n",
              "1547   1547  vmw_train_track_a_01548      0        0     0    0        0   \n",
              "1548   1548  vmw_train_track_a_01549      0        0     0    0        1   \n",
              "1549   1549  vmw_train_track_a_01550      0        0     0    0        1   \n",
              "1550   1550  vmw_train_track_a_01551      0        0     0    0        1   \n",
              "\n",
              "      surprise lang                                      clean_message  \n",
              "0            0  vmw  exiitu mameetiku aalatha eviitiyu ya blecaute ...  \n",
              "1            0  vmw  iresulitaato stheyiihz ni sihiniphaveleya sa m...  \n",
              "2            0  vmw  mosampiikhi otupweeoiha ni waakiherya okuumibw...  \n",
              "3            0  vmw  nikhuru nalipo ottwawela a wameerika senteraal...  \n",
              "4            0  vmw  maxikooti a ekoopa okhalana nsina na hilario n...  \n",
              "...        ...  ...                                                ...  \n",
              "1546         0  vmw          little richard arikiteetu a rock ohookhwa  \n",
              "1547         0  vmw  afirika ti suuli okhala oweleelaka mireerelo s...  \n",
              "1548         0  vmw  atthu yaala otthyawasa elapo aya aphiyasa elap...  \n",
              "1549         0  vmw  can 2021 kwinepisawu ni mawuritaaniya ti ikiip...  \n",
              "1550         0  vmw  anamwaane anoomiserya wiira yaavahe yoolya amu...  \n",
              "\n",
              "[1551 rows x 10 columns]"
            ],
            "text/html": [
              "\n",
              "  <div id=\"df-11a59faa-bc4e-4b34-8628-3f55a732a328\" class=\"colab-df-container\">\n",
              "    <div>\n",
              "<style scoped>\n",
              "    .dataframe tbody tr th:only-of-type {\n",
              "        vertical-align: middle;\n",
              "    }\n",
              "\n",
              "    .dataframe tbody tr th {\n",
              "        vertical-align: top;\n",
              "    }\n",
              "\n",
              "    .dataframe thead th {\n",
              "        text-align: right;\n",
              "    }\n",
              "</style>\n",
              "<table border=\"1\" class=\"dataframe\">\n",
              "  <thead>\n",
              "    <tr style=\"text-align: right;\">\n",
              "      <th></th>\n",
              "      <th>index</th>\n",
              "      <th>id</th>\n",
              "      <th>anger</th>\n",
              "      <th>disgust</th>\n",
              "      <th>fear</th>\n",
              "      <th>joy</th>\n",
              "      <th>sadness</th>\n",
              "      <th>surprise</th>\n",
              "      <th>lang</th>\n",
              "      <th>clean_message</th>\n",
              "    </tr>\n",
              "  </thead>\n",
              "  <tbody>\n",
              "    <tr>\n",
              "      <th>0</th>\n",
              "      <td>0</td>\n",
              "      <td>vmw_train_track_a_00001</td>\n",
              "      <td>0</td>\n",
              "      <td>0</td>\n",
              "      <td>0</td>\n",
              "      <td>0</td>\n",
              "      <td>1</td>\n",
              "      <td>0</td>\n",
              "      <td>vmw</td>\n",
              "      <td>exiitu mameetiku aalatha eviitiyu ya blecaute ...</td>\n",
              "    </tr>\n",
              "    <tr>\n",
              "      <th>1</th>\n",
              "      <td>1</td>\n",
              "      <td>vmw_train_track_a_00002</td>\n",
              "      <td>0</td>\n",
              "      <td>0</td>\n",
              "      <td>0</td>\n",
              "      <td>0</td>\n",
              "      <td>0</td>\n",
              "      <td>0</td>\n",
              "      <td>vmw</td>\n",
              "      <td>iresulitaato stheyiihz ni sihiniphaveleya sa m...</td>\n",
              "    </tr>\n",
              "    <tr>\n",
              "      <th>2</th>\n",
              "      <td>2</td>\n",
              "      <td>vmw_train_track_a_00003</td>\n",
              "      <td>0</td>\n",
              "      <td>0</td>\n",
              "      <td>0</td>\n",
              "      <td>1</td>\n",
              "      <td>0</td>\n",
              "      <td>0</td>\n",
              "      <td>vmw</td>\n",
              "      <td>mosampiikhi otupweeoiha ni waakiherya okuumibw...</td>\n",
              "    </tr>\n",
              "    <tr>\n",
              "      <th>3</th>\n",
              "      <td>3</td>\n",
              "      <td>vmw_train_track_a_00004</td>\n",
              "      <td>0</td>\n",
              "      <td>0</td>\n",
              "      <td>0</td>\n",
              "      <td>0</td>\n",
              "      <td>1</td>\n",
              "      <td>0</td>\n",
              "      <td>vmw</td>\n",
              "      <td>nikhuru nalipo ottwawela a wameerika senteraal...</td>\n",
              "    </tr>\n",
              "    <tr>\n",
              "      <th>4</th>\n",
              "      <td>4</td>\n",
              "      <td>vmw_train_track_a_00005</td>\n",
              "      <td>0</td>\n",
              "      <td>0</td>\n",
              "      <td>0</td>\n",
              "      <td>0</td>\n",
              "      <td>0</td>\n",
              "      <td>0</td>\n",
              "      <td>vmw</td>\n",
              "      <td>maxikooti a ekoopa okhalana nsina na hilario n...</td>\n",
              "    </tr>\n",
              "    <tr>\n",
              "      <th>...</th>\n",
              "      <td>...</td>\n",
              "      <td>...</td>\n",
              "      <td>...</td>\n",
              "      <td>...</td>\n",
              "      <td>...</td>\n",
              "      <td>...</td>\n",
              "      <td>...</td>\n",
              "      <td>...</td>\n",
              "      <td>...</td>\n",
              "      <td>...</td>\n",
              "    </tr>\n",
              "    <tr>\n",
              "      <th>1546</th>\n",
              "      <td>1546</td>\n",
              "      <td>vmw_train_track_a_01547</td>\n",
              "      <td>0</td>\n",
              "      <td>0</td>\n",
              "      <td>0</td>\n",
              "      <td>0</td>\n",
              "      <td>1</td>\n",
              "      <td>0</td>\n",
              "      <td>vmw</td>\n",
              "      <td>little richard arikiteetu a rock ohookhwa</td>\n",
              "    </tr>\n",
              "    <tr>\n",
              "      <th>1547</th>\n",
              "      <td>1547</td>\n",
              "      <td>vmw_train_track_a_01548</td>\n",
              "      <td>0</td>\n",
              "      <td>0</td>\n",
              "      <td>0</td>\n",
              "      <td>0</td>\n",
              "      <td>0</td>\n",
              "      <td>0</td>\n",
              "      <td>vmw</td>\n",
              "      <td>afirika ti suuli okhala oweleelaka mireerelo s...</td>\n",
              "    </tr>\n",
              "    <tr>\n",
              "      <th>1548</th>\n",
              "      <td>1548</td>\n",
              "      <td>vmw_train_track_a_01549</td>\n",
              "      <td>0</td>\n",
              "      <td>0</td>\n",
              "      <td>0</td>\n",
              "      <td>0</td>\n",
              "      <td>1</td>\n",
              "      <td>0</td>\n",
              "      <td>vmw</td>\n",
              "      <td>atthu yaala otthyawasa elapo aya aphiyasa elap...</td>\n",
              "    </tr>\n",
              "    <tr>\n",
              "      <th>1549</th>\n",
              "      <td>1549</td>\n",
              "      <td>vmw_train_track_a_01550</td>\n",
              "      <td>0</td>\n",
              "      <td>0</td>\n",
              "      <td>0</td>\n",
              "      <td>0</td>\n",
              "      <td>1</td>\n",
              "      <td>0</td>\n",
              "      <td>vmw</td>\n",
              "      <td>can 2021 kwinepisawu ni mawuritaaniya ti ikiip...</td>\n",
              "    </tr>\n",
              "    <tr>\n",
              "      <th>1550</th>\n",
              "      <td>1550</td>\n",
              "      <td>vmw_train_track_a_01551</td>\n",
              "      <td>0</td>\n",
              "      <td>0</td>\n",
              "      <td>0</td>\n",
              "      <td>0</td>\n",
              "      <td>1</td>\n",
              "      <td>0</td>\n",
              "      <td>vmw</td>\n",
              "      <td>anamwaane anoomiserya wiira yaavahe yoolya amu...</td>\n",
              "    </tr>\n",
              "  </tbody>\n",
              "</table>\n",
              "<p>1551 rows × 10 columns</p>\n",
              "</div>\n",
              "    <div class=\"colab-df-buttons\">\n",
              "\n",
              "  <div class=\"colab-df-container\">\n",
              "    <button class=\"colab-df-convert\" onclick=\"convertToInteractive('df-11a59faa-bc4e-4b34-8628-3f55a732a328')\"\n",
              "            title=\"Convert this dataframe to an interactive table.\"\n",
              "            style=\"display:none;\">\n",
              "\n",
              "  <svg xmlns=\"http://www.w3.org/2000/svg\" height=\"24px\" viewBox=\"0 -960 960 960\">\n",
              "    <path d=\"M120-120v-720h720v720H120Zm60-500h600v-160H180v160Zm220 220h160v-160H400v160Zm0 220h160v-160H400v160ZM180-400h160v-160H180v160Zm440 0h160v-160H620v160ZM180-180h160v-160H180v160Zm440 0h160v-160H620v160Z\"/>\n",
              "  </svg>\n",
              "    </button>\n",
              "\n",
              "  <style>\n",
              "    .colab-df-container {\n",
              "      display:flex;\n",
              "      gap: 12px;\n",
              "    }\n",
              "\n",
              "    .colab-df-convert {\n",
              "      background-color: #E8F0FE;\n",
              "      border: none;\n",
              "      border-radius: 50%;\n",
              "      cursor: pointer;\n",
              "      display: none;\n",
              "      fill: #1967D2;\n",
              "      height: 32px;\n",
              "      padding: 0 0 0 0;\n",
              "      width: 32px;\n",
              "    }\n",
              "\n",
              "    .colab-df-convert:hover {\n",
              "      background-color: #E2EBFA;\n",
              "      box-shadow: 0px 1px 2px rgba(60, 64, 67, 0.3), 0px 1px 3px 1px rgba(60, 64, 67, 0.15);\n",
              "      fill: #174EA6;\n",
              "    }\n",
              "\n",
              "    .colab-df-buttons div {\n",
              "      margin-bottom: 4px;\n",
              "    }\n",
              "\n",
              "    [theme=dark] .colab-df-convert {\n",
              "      background-color: #3B4455;\n",
              "      fill: #D2E3FC;\n",
              "    }\n",
              "\n",
              "    [theme=dark] .colab-df-convert:hover {\n",
              "      background-color: #434B5C;\n",
              "      box-shadow: 0px 1px 3px 1px rgba(0, 0, 0, 0.15);\n",
              "      filter: drop-shadow(0px 1px 2px rgba(0, 0, 0, 0.3));\n",
              "      fill: #FFFFFF;\n",
              "    }\n",
              "  </style>\n",
              "\n",
              "    <script>\n",
              "      const buttonEl =\n",
              "        document.querySelector('#df-11a59faa-bc4e-4b34-8628-3f55a732a328 button.colab-df-convert');\n",
              "      buttonEl.style.display =\n",
              "        google.colab.kernel.accessAllowed ? 'block' : 'none';\n",
              "\n",
              "      async function convertToInteractive(key) {\n",
              "        const element = document.querySelector('#df-11a59faa-bc4e-4b34-8628-3f55a732a328');\n",
              "        const dataTable =\n",
              "          await google.colab.kernel.invokeFunction('convertToInteractive',\n",
              "                                                    [key], {});\n",
              "        if (!dataTable) return;\n",
              "\n",
              "        const docLinkHtml = 'Like what you see? Visit the ' +\n",
              "          '<a target=\"_blank\" href=https://colab.research.google.com/notebooks/data_table.ipynb>data table notebook</a>'\n",
              "          + ' to learn more about interactive tables.';\n",
              "        element.innerHTML = '';\n",
              "        dataTable['output_type'] = 'display_data';\n",
              "        await google.colab.output.renderOutput(dataTable, element);\n",
              "        const docLink = document.createElement('div');\n",
              "        docLink.innerHTML = docLinkHtml;\n",
              "        element.appendChild(docLink);\n",
              "      }\n",
              "    </script>\n",
              "  </div>\n",
              "\n",
              "\n",
              "<div id=\"df-911ce2b3-515c-4095-93ca-b865e167bd1b\">\n",
              "  <button class=\"colab-df-quickchart\" onclick=\"quickchart('df-911ce2b3-515c-4095-93ca-b865e167bd1b')\"\n",
              "            title=\"Suggest charts\"\n",
              "            style=\"display:none;\">\n",
              "\n",
              "<svg xmlns=\"http://www.w3.org/2000/svg\" height=\"24px\"viewBox=\"0 0 24 24\"\n",
              "     width=\"24px\">\n",
              "    <g>\n",
              "        <path d=\"M19 3H5c-1.1 0-2 .9-2 2v14c0 1.1.9 2 2 2h14c1.1 0 2-.9 2-2V5c0-1.1-.9-2-2-2zM9 17H7v-7h2v7zm4 0h-2V7h2v10zm4 0h-2v-4h2v4z\"/>\n",
              "    </g>\n",
              "</svg>\n",
              "  </button>\n",
              "\n",
              "<style>\n",
              "  .colab-df-quickchart {\n",
              "      --bg-color: #E8F0FE;\n",
              "      --fill-color: #1967D2;\n",
              "      --hover-bg-color: #E2EBFA;\n",
              "      --hover-fill-color: #174EA6;\n",
              "      --disabled-fill-color: #AAA;\n",
              "      --disabled-bg-color: #DDD;\n",
              "  }\n",
              "\n",
              "  [theme=dark] .colab-df-quickchart {\n",
              "      --bg-color: #3B4455;\n",
              "      --fill-color: #D2E3FC;\n",
              "      --hover-bg-color: #434B5C;\n",
              "      --hover-fill-color: #FFFFFF;\n",
              "      --disabled-bg-color: #3B4455;\n",
              "      --disabled-fill-color: #666;\n",
              "  }\n",
              "\n",
              "  .colab-df-quickchart {\n",
              "    background-color: var(--bg-color);\n",
              "    border: none;\n",
              "    border-radius: 50%;\n",
              "    cursor: pointer;\n",
              "    display: none;\n",
              "    fill: var(--fill-color);\n",
              "    height: 32px;\n",
              "    padding: 0;\n",
              "    width: 32px;\n",
              "  }\n",
              "\n",
              "  .colab-df-quickchart:hover {\n",
              "    background-color: var(--hover-bg-color);\n",
              "    box-shadow: 0 1px 2px rgba(60, 64, 67, 0.3), 0 1px 3px 1px rgba(60, 64, 67, 0.15);\n",
              "    fill: var(--button-hover-fill-color);\n",
              "  }\n",
              "\n",
              "  .colab-df-quickchart-complete:disabled,\n",
              "  .colab-df-quickchart-complete:disabled:hover {\n",
              "    background-color: var(--disabled-bg-color);\n",
              "    fill: var(--disabled-fill-color);\n",
              "    box-shadow: none;\n",
              "  }\n",
              "\n",
              "  .colab-df-spinner {\n",
              "    border: 2px solid var(--fill-color);\n",
              "    border-color: transparent;\n",
              "    border-bottom-color: var(--fill-color);\n",
              "    animation:\n",
              "      spin 1s steps(1) infinite;\n",
              "  }\n",
              "\n",
              "  @keyframes spin {\n",
              "    0% {\n",
              "      border-color: transparent;\n",
              "      border-bottom-color: var(--fill-color);\n",
              "      border-left-color: var(--fill-color);\n",
              "    }\n",
              "    20% {\n",
              "      border-color: transparent;\n",
              "      border-left-color: var(--fill-color);\n",
              "      border-top-color: var(--fill-color);\n",
              "    }\n",
              "    30% {\n",
              "      border-color: transparent;\n",
              "      border-left-color: var(--fill-color);\n",
              "      border-top-color: var(--fill-color);\n",
              "      border-right-color: var(--fill-color);\n",
              "    }\n",
              "    40% {\n",
              "      border-color: transparent;\n",
              "      border-right-color: var(--fill-color);\n",
              "      border-top-color: var(--fill-color);\n",
              "    }\n",
              "    60% {\n",
              "      border-color: transparent;\n",
              "      border-right-color: var(--fill-color);\n",
              "    }\n",
              "    80% {\n",
              "      border-color: transparent;\n",
              "      border-right-color: var(--fill-color);\n",
              "      border-bottom-color: var(--fill-color);\n",
              "    }\n",
              "    90% {\n",
              "      border-color: transparent;\n",
              "      border-bottom-color: var(--fill-color);\n",
              "    }\n",
              "  }\n",
              "</style>\n",
              "\n",
              "  <script>\n",
              "    async function quickchart(key) {\n",
              "      const quickchartButtonEl =\n",
              "        document.querySelector('#' + key + ' button');\n",
              "      quickchartButtonEl.disabled = true;  // To prevent multiple clicks.\n",
              "      quickchartButtonEl.classList.add('colab-df-spinner');\n",
              "      try {\n",
              "        const charts = await google.colab.kernel.invokeFunction(\n",
              "            'suggestCharts', [key], {});\n",
              "      } catch (error) {\n",
              "        console.error('Error during call to suggestCharts:', error);\n",
              "      }\n",
              "      quickchartButtonEl.classList.remove('colab-df-spinner');\n",
              "      quickchartButtonEl.classList.add('colab-df-quickchart-complete');\n",
              "    }\n",
              "    (() => {\n",
              "      let quickchartButtonEl =\n",
              "        document.querySelector('#df-911ce2b3-515c-4095-93ca-b865e167bd1b button');\n",
              "      quickchartButtonEl.style.display =\n",
              "        google.colab.kernel.accessAllowed ? 'block' : 'none';\n",
              "    })();\n",
              "  </script>\n",
              "</div>\n",
              "    </div>\n",
              "  </div>\n"
            ],
            "application/vnd.google.colaboratory.intrinsic+json": {
              "type": "dataframe",
              "summary": "{\n  \"name\": \"train_data\",\n  \"rows\": 1551,\n  \"fields\": [\n    {\n      \"column\": \"index\",\n      \"properties\": {\n        \"dtype\": \"number\",\n        \"std\": 447,\n        \"min\": 0,\n        \"max\": 1550,\n        \"num_unique_values\": 1551,\n        \"samples\": [\n          1520,\n          621,\n          352\n        ],\n        \"semantic_type\": \"\",\n        \"description\": \"\"\n      }\n    },\n    {\n      \"column\": \"id\",\n      \"properties\": {\n        \"dtype\": \"string\",\n        \"num_unique_values\": 1551,\n        \"samples\": [\n          \"vmw_train_track_a_01521\",\n          \"vmw_train_track_a_00622\",\n          \"vmw_train_track_a_00353\"\n        ],\n        \"semantic_type\": \"\",\n        \"description\": \"\"\n      }\n    },\n    {\n      \"column\": \"anger\",\n      \"properties\": {\n        \"dtype\": \"number\",\n        \"std\": 0,\n        \"min\": 0,\n        \"max\": 1,\n        \"num_unique_values\": 2,\n        \"samples\": [\n          1,\n          0\n        ],\n        \"semantic_type\": \"\",\n        \"description\": \"\"\n      }\n    },\n    {\n      \"column\": \"disgust\",\n      \"properties\": {\n        \"dtype\": \"number\",\n        \"std\": 0,\n        \"min\": 0,\n        \"max\": 1,\n        \"num_unique_values\": 2,\n        \"samples\": [\n          1,\n          0\n        ],\n        \"semantic_type\": \"\",\n        \"description\": \"\"\n      }\n    },\n    {\n      \"column\": \"fear\",\n      \"properties\": {\n        \"dtype\": \"number\",\n        \"std\": 0,\n        \"min\": 0,\n        \"max\": 1,\n        \"num_unique_values\": 2,\n        \"samples\": [\n          1,\n          0\n        ],\n        \"semantic_type\": \"\",\n        \"description\": \"\"\n      }\n    },\n    {\n      \"column\": \"joy\",\n      \"properties\": {\n        \"dtype\": \"number\",\n        \"std\": 0,\n        \"min\": 0,\n        \"max\": 1,\n        \"num_unique_values\": 2,\n        \"samples\": [\n          1,\n          0\n        ],\n        \"semantic_type\": \"\",\n        \"description\": \"\"\n      }\n    },\n    {\n      \"column\": \"sadness\",\n      \"properties\": {\n        \"dtype\": \"number\",\n        \"std\": 0,\n        \"min\": 0,\n        \"max\": 1,\n        \"num_unique_values\": 2,\n        \"samples\": [\n          0,\n          1\n        ],\n        \"semantic_type\": \"\",\n        \"description\": \"\"\n      }\n    },\n    {\n      \"column\": \"surprise\",\n      \"properties\": {\n        \"dtype\": \"number\",\n        \"std\": 0,\n        \"min\": 0,\n        \"max\": 1,\n        \"num_unique_values\": 2,\n        \"samples\": [\n          1,\n          0\n        ],\n        \"semantic_type\": \"\",\n        \"description\": \"\"\n      }\n    },\n    {\n      \"column\": \"lang\",\n      \"properties\": {\n        \"dtype\": \"category\",\n        \"num_unique_values\": 1,\n        \"samples\": [\n          \"vmw\"\n        ],\n        \"semantic_type\": \"\",\n        \"description\": \"\"\n      }\n    },\n    {\n      \"column\": \"clean_message\",\n      \"properties\": {\n        \"dtype\": \"string\",\n        \"num_unique_values\": 1551,\n        \"samples\": [\n          \"netizen report wooviwa sa fake news onikweherya malexixiratoore ofaraasa ni parasiili aniphavela okuttuleela wixeetta wabinamuuno soolavulz vahinatthi amwaathanle\"\n        ],\n        \"semantic_type\": \"\",\n        \"description\": \"\"\n      }\n    }\n  ]\n}"
            }
          },
          "metadata": {},
          "execution_count": 472
        }
      ],
      "source": [
        "train_data = train_data[\n",
        "\n",
        "train_data['clean_message'].isnull()==False]\n",
        "\n",
        "train_data.reset_index()"
      ]
    },
    {
      "cell_type": "code",
      "execution_count": 473,
      "metadata": {
        "execution": {
          "iopub.execute_input": "2025-01-05T19:16:18.005304Z",
          "iopub.status.busy": "2025-01-05T19:16:18.005077Z",
          "iopub.status.idle": "2025-01-05T19:16:18.016316Z",
          "shell.execute_reply": "2025-01-05T19:16:18.015631Z",
          "shell.execute_reply.started": "2025-01-05T19:16:18.005285Z"
        },
        "id": "2RXwzOOkBad6",
        "trusted": true
      },
      "outputs": [],
      "source": [
        "# label_columns =['anger', 'fear', 'joy', 'sadness', 'surprise']\n",
        "label_columns =['anger', 'disgust', 'fear', 'joy', 'sadness', 'surprise']\n",
        "# label_columns =['anger', 'disgust', 'fear', 'joy', 'sadness']\n"
      ]
    },
    {
      "cell_type": "code",
      "execution_count": 474,
      "metadata": {
        "colab": {
          "base_uri": "https://localhost:8080/",
          "height": 147
        },
        "execution": {
          "iopub.execute_input": "2025-01-05T19:16:18.017416Z",
          "iopub.status.busy": "2025-01-05T19:16:18.017150Z",
          "iopub.status.idle": "2025-01-05T19:16:18.034271Z",
          "shell.execute_reply": "2025-01-05T19:16:18.033495Z",
          "shell.execute_reply.started": "2025-01-05T19:16:18.017383Z"
        },
        "id": "5SDZ3wEUBad6",
        "outputId": "6024fe78-df9f-483b-9c7a-33ce936c24c3",
        "trusted": true
      },
      "outputs": [
        {
          "output_type": "execute_result",
          "data": {
            "text/plain": [
              "lang\n",
              "vmw    1551\n",
              "Name: count, dtype: int64"
            ],
            "text/html": [
              "<div>\n",
              "<style scoped>\n",
              "    .dataframe tbody tr th:only-of-type {\n",
              "        vertical-align: middle;\n",
              "    }\n",
              "\n",
              "    .dataframe tbody tr th {\n",
              "        vertical-align: top;\n",
              "    }\n",
              "\n",
              "    .dataframe thead th {\n",
              "        text-align: right;\n",
              "    }\n",
              "</style>\n",
              "<table border=\"1\" class=\"dataframe\">\n",
              "  <thead>\n",
              "    <tr style=\"text-align: right;\">\n",
              "      <th></th>\n",
              "      <th>count</th>\n",
              "    </tr>\n",
              "    <tr>\n",
              "      <th>lang</th>\n",
              "      <th></th>\n",
              "    </tr>\n",
              "  </thead>\n",
              "  <tbody>\n",
              "    <tr>\n",
              "      <th>vmw</th>\n",
              "      <td>1551</td>\n",
              "    </tr>\n",
              "  </tbody>\n",
              "</table>\n",
              "</div><br><label><b>dtype:</b> int64</label>"
            ]
          },
          "metadata": {},
          "execution_count": 474
        }
      ],
      "source": [
        "train_data['lang'].value_counts()"
      ]
    },
    {
      "cell_type": "code",
      "execution_count": 475,
      "metadata": {
        "colab": {
          "base_uri": "https://localhost:8080/"
        },
        "execution": {
          "iopub.execute_input": "2025-01-05T19:16:18.035312Z",
          "iopub.status.busy": "2025-01-05T19:16:18.035066Z",
          "iopub.status.idle": "2025-01-05T19:16:18.049260Z",
          "shell.execute_reply": "2025-01-05T19:16:18.048632Z",
          "shell.execute_reply.started": "2025-01-05T19:16:18.035282Z"
        },
        "id": "5ubyh_YPBad6",
        "outputId": "525b6c8a-d198-4d6d-aba7-65fe92be071d",
        "trusted": true
      },
      "outputs": [
        {
          "output_type": "execute_result",
          "data": {
            "text/plain": [
              "0"
            ]
          },
          "metadata": {},
          "execution_count": 475
        }
      ],
      "source": [
        "sum(train_data['lang'].isna())"
      ]
    },
    {
      "cell_type": "code",
      "execution_count": 476,
      "metadata": {
        "colab": {
          "base_uri": "https://localhost:8080/",
          "height": 53
        },
        "execution": {
          "iopub.execute_input": "2025-01-05T19:16:18.050341Z",
          "iopub.status.busy": "2025-01-05T19:16:18.050108Z",
          "iopub.status.idle": "2025-01-05T19:16:18.064262Z",
          "shell.execute_reply": "2025-01-05T19:16:18.063637Z",
          "shell.execute_reply.started": "2025-01-05T19:16:18.050322Z"
        },
        "id": "8lubfAyYBad6",
        "outputId": "d9928773-7ce5-4a40-9b3a-83a4783ce50a",
        "trusted": true
      },
      "outputs": [
        {
          "output_type": "execute_result",
          "data": {
            "text/plain": [
              "Empty DataFrame\n",
              "Columns: [id, anger, disgust, fear, joy, sadness, surprise, lang, clean_message]\n",
              "Index: []"
            ],
            "text/html": [
              "\n",
              "  <div id=\"df-99ce9307-842a-4f23-acb5-c5a4e84f24aa\" class=\"colab-df-container\">\n",
              "    <div>\n",
              "<style scoped>\n",
              "    .dataframe tbody tr th:only-of-type {\n",
              "        vertical-align: middle;\n",
              "    }\n",
              "\n",
              "    .dataframe tbody tr th {\n",
              "        vertical-align: top;\n",
              "    }\n",
              "\n",
              "    .dataframe thead th {\n",
              "        text-align: right;\n",
              "    }\n",
              "</style>\n",
              "<table border=\"1\" class=\"dataframe\">\n",
              "  <thead>\n",
              "    <tr style=\"text-align: right;\">\n",
              "      <th></th>\n",
              "      <th>id</th>\n",
              "      <th>anger</th>\n",
              "      <th>disgust</th>\n",
              "      <th>fear</th>\n",
              "      <th>joy</th>\n",
              "      <th>sadness</th>\n",
              "      <th>surprise</th>\n",
              "      <th>lang</th>\n",
              "      <th>clean_message</th>\n",
              "    </tr>\n",
              "  </thead>\n",
              "  <tbody>\n",
              "  </tbody>\n",
              "</table>\n",
              "</div>\n",
              "    <div class=\"colab-df-buttons\">\n",
              "\n",
              "  <div class=\"colab-df-container\">\n",
              "    <button class=\"colab-df-convert\" onclick=\"convertToInteractive('df-99ce9307-842a-4f23-acb5-c5a4e84f24aa')\"\n",
              "            title=\"Convert this dataframe to an interactive table.\"\n",
              "            style=\"display:none;\">\n",
              "\n",
              "  <svg xmlns=\"http://www.w3.org/2000/svg\" height=\"24px\" viewBox=\"0 -960 960 960\">\n",
              "    <path d=\"M120-120v-720h720v720H120Zm60-500h600v-160H180v160Zm220 220h160v-160H400v160Zm0 220h160v-160H400v160ZM180-400h160v-160H180v160Zm440 0h160v-160H620v160ZM180-180h160v-160H180v160Zm440 0h160v-160H620v160Z\"/>\n",
              "  </svg>\n",
              "    </button>\n",
              "\n",
              "  <style>\n",
              "    .colab-df-container {\n",
              "      display:flex;\n",
              "      gap: 12px;\n",
              "    }\n",
              "\n",
              "    .colab-df-convert {\n",
              "      background-color: #E8F0FE;\n",
              "      border: none;\n",
              "      border-radius: 50%;\n",
              "      cursor: pointer;\n",
              "      display: none;\n",
              "      fill: #1967D2;\n",
              "      height: 32px;\n",
              "      padding: 0 0 0 0;\n",
              "      width: 32px;\n",
              "    }\n",
              "\n",
              "    .colab-df-convert:hover {\n",
              "      background-color: #E2EBFA;\n",
              "      box-shadow: 0px 1px 2px rgba(60, 64, 67, 0.3), 0px 1px 3px 1px rgba(60, 64, 67, 0.15);\n",
              "      fill: #174EA6;\n",
              "    }\n",
              "\n",
              "    .colab-df-buttons div {\n",
              "      margin-bottom: 4px;\n",
              "    }\n",
              "\n",
              "    [theme=dark] .colab-df-convert {\n",
              "      background-color: #3B4455;\n",
              "      fill: #D2E3FC;\n",
              "    }\n",
              "\n",
              "    [theme=dark] .colab-df-convert:hover {\n",
              "      background-color: #434B5C;\n",
              "      box-shadow: 0px 1px 3px 1px rgba(0, 0, 0, 0.15);\n",
              "      filter: drop-shadow(0px 1px 2px rgba(0, 0, 0, 0.3));\n",
              "      fill: #FFFFFF;\n",
              "    }\n",
              "  </style>\n",
              "\n",
              "    <script>\n",
              "      const buttonEl =\n",
              "        document.querySelector('#df-99ce9307-842a-4f23-acb5-c5a4e84f24aa button.colab-df-convert');\n",
              "      buttonEl.style.display =\n",
              "        google.colab.kernel.accessAllowed ? 'block' : 'none';\n",
              "\n",
              "      async function convertToInteractive(key) {\n",
              "        const element = document.querySelector('#df-99ce9307-842a-4f23-acb5-c5a4e84f24aa');\n",
              "        const dataTable =\n",
              "          await google.colab.kernel.invokeFunction('convertToInteractive',\n",
              "                                                    [key], {});\n",
              "        if (!dataTable) return;\n",
              "\n",
              "        const docLinkHtml = 'Like what you see? Visit the ' +\n",
              "          '<a target=\"_blank\" href=https://colab.research.google.com/notebooks/data_table.ipynb>data table notebook</a>'\n",
              "          + ' to learn more about interactive tables.';\n",
              "        element.innerHTML = '';\n",
              "        dataTable['output_type'] = 'display_data';\n",
              "        await google.colab.output.renderOutput(dataTable, element);\n",
              "        const docLink = document.createElement('div');\n",
              "        docLink.innerHTML = docLinkHtml;\n",
              "        element.appendChild(docLink);\n",
              "      }\n",
              "    </script>\n",
              "  </div>\n",
              "\n",
              "    </div>\n",
              "  </div>\n"
            ],
            "application/vnd.google.colaboratory.intrinsic+json": {
              "type": "dataframe",
              "variable_name": "nan_rows",
              "repr_error": "Out of range float values are not JSON compliant: nan"
            }
          },
          "metadata": {},
          "execution_count": 476
        }
      ],
      "source": [
        "nan_rows = train_data[train_data.isna().any(axis=1)]\n",
        "nan_rows"
      ]
    },
    {
      "cell_type": "code",
      "execution_count": 477,
      "metadata": {
        "id": "grQSSQUKZ00y"
      },
      "outputs": [],
      "source": [
        "train_data['clean_message']=train_data['clean_message'].astype(str)"
      ]
    },
    {
      "cell_type": "code",
      "execution_count": 478,
      "metadata": {
        "colab": {
          "base_uri": "https://localhost:8080/"
        },
        "id": "VPAf2dnTZF_H",
        "outputId": "e3c9b5f8-8ebf-4940-e018-b936e73230a8"
      },
      "outputs": [
        {
          "output_type": "execute_result",
          "data": {
            "text/plain": [
              "274"
            ]
          },
          "metadata": {},
          "execution_count": 478
        }
      ],
      "source": [
        "maxi=train_data['clean_message'].apply(len).max()\n",
        "maxi"
      ]
    },
    {
      "cell_type": "code",
      "execution_count": 479,
      "metadata": {
        "colab": {
          "base_uri": "https://localhost:8080/",
          "height": 81
        },
        "id": "IpWtbxUzZM2o",
        "outputId": "69623da7-f9ce-4e2e-c303-2514fb85d28f"
      },
      "outputs": [
        {
          "output_type": "execute_result",
          "data": {
            "text/plain": [
              "                         id  anger  disgust  fear  joy  sadness  surprise  \\\n",
              "38  vmw_train_track_a_00039      0        0     0    1        0         0   \n",
              "\n",
              "   lang                                      clean_message  \n",
              "38  vmw  okumihiwa atoropa akhalayi a renamu oniira wii...  "
            ],
            "text/html": [
              "\n",
              "  <div id=\"df-7c4a0081-6ac8-4e78-be23-068aca846976\" class=\"colab-df-container\">\n",
              "    <div>\n",
              "<style scoped>\n",
              "    .dataframe tbody tr th:only-of-type {\n",
              "        vertical-align: middle;\n",
              "    }\n",
              "\n",
              "    .dataframe tbody tr th {\n",
              "        vertical-align: top;\n",
              "    }\n",
              "\n",
              "    .dataframe thead th {\n",
              "        text-align: right;\n",
              "    }\n",
              "</style>\n",
              "<table border=\"1\" class=\"dataframe\">\n",
              "  <thead>\n",
              "    <tr style=\"text-align: right;\">\n",
              "      <th></th>\n",
              "      <th>id</th>\n",
              "      <th>anger</th>\n",
              "      <th>disgust</th>\n",
              "      <th>fear</th>\n",
              "      <th>joy</th>\n",
              "      <th>sadness</th>\n",
              "      <th>surprise</th>\n",
              "      <th>lang</th>\n",
              "      <th>clean_message</th>\n",
              "    </tr>\n",
              "  </thead>\n",
              "  <tbody>\n",
              "    <tr>\n",
              "      <th>38</th>\n",
              "      <td>vmw_train_track_a_00039</td>\n",
              "      <td>0</td>\n",
              "      <td>0</td>\n",
              "      <td>0</td>\n",
              "      <td>1</td>\n",
              "      <td>0</td>\n",
              "      <td>0</td>\n",
              "      <td>vmw</td>\n",
              "      <td>okumihiwa atoropa akhalayi a renamu oniira wii...</td>\n",
              "    </tr>\n",
              "  </tbody>\n",
              "</table>\n",
              "</div>\n",
              "    <div class=\"colab-df-buttons\">\n",
              "\n",
              "  <div class=\"colab-df-container\">\n",
              "    <button class=\"colab-df-convert\" onclick=\"convertToInteractive('df-7c4a0081-6ac8-4e78-be23-068aca846976')\"\n",
              "            title=\"Convert this dataframe to an interactive table.\"\n",
              "            style=\"display:none;\">\n",
              "\n",
              "  <svg xmlns=\"http://www.w3.org/2000/svg\" height=\"24px\" viewBox=\"0 -960 960 960\">\n",
              "    <path d=\"M120-120v-720h720v720H120Zm60-500h600v-160H180v160Zm220 220h160v-160H400v160Zm0 220h160v-160H400v160ZM180-400h160v-160H180v160Zm440 0h160v-160H620v160ZM180-180h160v-160H180v160Zm440 0h160v-160H620v160Z\"/>\n",
              "  </svg>\n",
              "    </button>\n",
              "\n",
              "  <style>\n",
              "    .colab-df-container {\n",
              "      display:flex;\n",
              "      gap: 12px;\n",
              "    }\n",
              "\n",
              "    .colab-df-convert {\n",
              "      background-color: #E8F0FE;\n",
              "      border: none;\n",
              "      border-radius: 50%;\n",
              "      cursor: pointer;\n",
              "      display: none;\n",
              "      fill: #1967D2;\n",
              "      height: 32px;\n",
              "      padding: 0 0 0 0;\n",
              "      width: 32px;\n",
              "    }\n",
              "\n",
              "    .colab-df-convert:hover {\n",
              "      background-color: #E2EBFA;\n",
              "      box-shadow: 0px 1px 2px rgba(60, 64, 67, 0.3), 0px 1px 3px 1px rgba(60, 64, 67, 0.15);\n",
              "      fill: #174EA6;\n",
              "    }\n",
              "\n",
              "    .colab-df-buttons div {\n",
              "      margin-bottom: 4px;\n",
              "    }\n",
              "\n",
              "    [theme=dark] .colab-df-convert {\n",
              "      background-color: #3B4455;\n",
              "      fill: #D2E3FC;\n",
              "    }\n",
              "\n",
              "    [theme=dark] .colab-df-convert:hover {\n",
              "      background-color: #434B5C;\n",
              "      box-shadow: 0px 1px 3px 1px rgba(0, 0, 0, 0.15);\n",
              "      filter: drop-shadow(0px 1px 2px rgba(0, 0, 0, 0.3));\n",
              "      fill: #FFFFFF;\n",
              "    }\n",
              "  </style>\n",
              "\n",
              "    <script>\n",
              "      const buttonEl =\n",
              "        document.querySelector('#df-7c4a0081-6ac8-4e78-be23-068aca846976 button.colab-df-convert');\n",
              "      buttonEl.style.display =\n",
              "        google.colab.kernel.accessAllowed ? 'block' : 'none';\n",
              "\n",
              "      async function convertToInteractive(key) {\n",
              "        const element = document.querySelector('#df-7c4a0081-6ac8-4e78-be23-068aca846976');\n",
              "        const dataTable =\n",
              "          await google.colab.kernel.invokeFunction('convertToInteractive',\n",
              "                                                    [key], {});\n",
              "        if (!dataTable) return;\n",
              "\n",
              "        const docLinkHtml = 'Like what you see? Visit the ' +\n",
              "          '<a target=\"_blank\" href=https://colab.research.google.com/notebooks/data_table.ipynb>data table notebook</a>'\n",
              "          + ' to learn more about interactive tables.';\n",
              "        element.innerHTML = '';\n",
              "        dataTable['output_type'] = 'display_data';\n",
              "        await google.colab.output.renderOutput(dataTable, element);\n",
              "        const docLink = document.createElement('div');\n",
              "        docLink.innerHTML = docLinkHtml;\n",
              "        element.appendChild(docLink);\n",
              "      }\n",
              "    </script>\n",
              "  </div>\n",
              "\n",
              "    </div>\n",
              "  </div>\n"
            ],
            "application/vnd.google.colaboratory.intrinsic+json": {
              "type": "dataframe",
              "summary": "{\n  \"name\": \"train_data[train_data['clean_message']\",\n  \"rows\": 1,\n  \"fields\": [\n    {\n      \"column\": \"id\",\n      \"properties\": {\n        \"dtype\": \"string\",\n        \"num_unique_values\": 1,\n        \"samples\": [\n          \"vmw_train_track_a_00039\"\n        ],\n        \"semantic_type\": \"\",\n        \"description\": \"\"\n      }\n    },\n    {\n      \"column\": \"anger\",\n      \"properties\": {\n        \"dtype\": \"number\",\n        \"std\": null,\n        \"min\": 0,\n        \"max\": 0,\n        \"num_unique_values\": 1,\n        \"samples\": [\n          0\n        ],\n        \"semantic_type\": \"\",\n        \"description\": \"\"\n      }\n    },\n    {\n      \"column\": \"disgust\",\n      \"properties\": {\n        \"dtype\": \"number\",\n        \"std\": null,\n        \"min\": 0,\n        \"max\": 0,\n        \"num_unique_values\": 1,\n        \"samples\": [\n          0\n        ],\n        \"semantic_type\": \"\",\n        \"description\": \"\"\n      }\n    },\n    {\n      \"column\": \"fear\",\n      \"properties\": {\n        \"dtype\": \"number\",\n        \"std\": null,\n        \"min\": 0,\n        \"max\": 0,\n        \"num_unique_values\": 1,\n        \"samples\": [\n          0\n        ],\n        \"semantic_type\": \"\",\n        \"description\": \"\"\n      }\n    },\n    {\n      \"column\": \"joy\",\n      \"properties\": {\n        \"dtype\": \"number\",\n        \"std\": null,\n        \"min\": 1,\n        \"max\": 1,\n        \"num_unique_values\": 1,\n        \"samples\": [\n          1\n        ],\n        \"semantic_type\": \"\",\n        \"description\": \"\"\n      }\n    },\n    {\n      \"column\": \"sadness\",\n      \"properties\": {\n        \"dtype\": \"number\",\n        \"std\": null,\n        \"min\": 0,\n        \"max\": 0,\n        \"num_unique_values\": 1,\n        \"samples\": [\n          0\n        ],\n        \"semantic_type\": \"\",\n        \"description\": \"\"\n      }\n    },\n    {\n      \"column\": \"surprise\",\n      \"properties\": {\n        \"dtype\": \"number\",\n        \"std\": null,\n        \"min\": 0,\n        \"max\": 0,\n        \"num_unique_values\": 1,\n        \"samples\": [\n          0\n        ],\n        \"semantic_type\": \"\",\n        \"description\": \"\"\n      }\n    },\n    {\n      \"column\": \"lang\",\n      \"properties\": {\n        \"dtype\": \"string\",\n        \"num_unique_values\": 1,\n        \"samples\": [\n          \"vmw\"\n        ],\n        \"semantic_type\": \"\",\n        \"description\": \"\"\n      }\n    },\n    {\n      \"column\": \"clean_message\",\n      \"properties\": {\n        \"dtype\": \"string\",\n        \"num_unique_values\": 1,\n        \"samples\": [\n          \"okumihiwa atoropa akhalayi a renamu oniira wiiraneyaka okathi ola omosampiikhi ookhala oopakeya eporosesu yohisuwanyeya saana ni ehinrowa okhaliherya wii okhale osamihana elapo yootheene wakhala wii otthikiheriwa wa wataaneya wahikhale wa exariya ni wa okhalela wa atthu ale\"\n        ],\n        \"semantic_type\": \"\",\n        \"description\": \"\"\n      }\n    }\n  ]\n}"
            }
          },
          "metadata": {},
          "execution_count": 479
        }
      ],
      "source": [
        "train_data[train_data['clean_message'].apply(len) == maxi]"
      ]
    },
    {
      "cell_type": "code",
      "execution_count": 480,
      "metadata": {
        "colab": {
          "base_uri": "https://localhost:8080/"
        },
        "id": "_gXtuVeaZREY",
        "outputId": "c3cdf28e-1e6b-452e-c63f-6f9766642bcd"
      },
      "outputs": [
        {
          "output_type": "execute_result",
          "data": {
            "text/plain": [
              "array(['okumihiwa atoropa akhalayi a renamu oniira wiiraneyaka okathi ola omosampiikhi ookhala oopakeya eporosesu yohisuwanyeya saana ni ehinrowa okhaliherya wii okhale osamihana elapo yootheene wakhala wii otthikiheriwa wa wataaneya wahikhale wa exariya ni wa okhalela wa atthu ale'],\n",
              "      dtype=object)"
            ]
          },
          "metadata": {},
          "execution_count": 480
        }
      ],
      "source": [
        "train_data[train_data['clean_message'].apply(len) == maxi][\"clean_message\"].values"
      ]
    },
    {
      "cell_type": "code",
      "execution_count": 481,
      "metadata": {
        "execution": {
          "iopub.execute_input": "2025-01-05T19:16:18.156293Z",
          "iopub.status.busy": "2025-01-05T19:16:18.156059Z",
          "iopub.status.idle": "2025-01-05T19:16:18.168029Z",
          "shell.execute_reply": "2025-01-05T19:16:18.167293Z",
          "shell.execute_reply.started": "2025-01-05T19:16:18.156256Z"
        },
        "id": "Efx2E-A4Bad7",
        "trusted": true
      },
      "outputs": [],
      "source": [
        "# shuffle data\n",
        "train_data=train_data.sample(frac=1)\n",
        "# train_data=train_data.sample(100,random_state=42)\n"
      ]
    },
    {
      "cell_type": "code",
      "execution_count": 482,
      "metadata": {
        "execution": {
          "iopub.execute_input": "2025-01-05T19:16:18.169203Z",
          "iopub.status.busy": "2025-01-05T19:16:18.168924Z",
          "iopub.status.idle": "2025-01-05T19:16:18.180285Z",
          "shell.execute_reply": "2025-01-05T19:16:18.179711Z",
          "shell.execute_reply.started": "2025-01-05T19:16:18.169176Z"
        },
        "id": "QfMcAI26Bad7",
        "trusted": true
      },
      "outputs": [],
      "source": [
        "# train valid split\n",
        "# train,valid=train_test_split(train_data,test_size=0.2,random_state=42)"
      ]
    },
    {
      "cell_type": "code",
      "execution_count": 483,
      "metadata": {
        "execution": {
          "iopub.execute_input": "2025-01-05T19:16:18.181302Z",
          "iopub.status.busy": "2025-01-05T19:16:18.181039Z",
          "iopub.status.idle": "2025-01-05T19:16:18.191510Z",
          "shell.execute_reply": "2025-01-05T19:16:18.190920Z",
          "shell.execute_reply.started": "2025-01-05T19:16:18.181270Z"
        },
        "id": "K0MsuYqpBad8",
        "trusted": true
      },
      "outputs": [],
      "source": [
        "x_train, y_train = train_data['clean_message'].values.tolist(), train_data[label_columns].values.tolist()"
      ]
    },
    {
      "cell_type": "code",
      "execution_count": 484,
      "metadata": {
        "execution": {
          "iopub.execute_input": "2025-01-05T19:16:18.192407Z",
          "iopub.status.busy": "2025-01-05T19:16:18.192213Z",
          "iopub.status.idle": "2025-01-05T19:16:18.204757Z",
          "shell.execute_reply": "2025-01-05T19:16:18.204006Z",
          "shell.execute_reply.started": "2025-01-05T19:16:18.192382Z"
        },
        "id": "6Sgs63uPBad8",
        "trusted": true
      },
      "outputs": [],
      "source": [
        "y_train_df = pd.DataFrame(y_train, columns=label_columns)"
      ]
    },
    {
      "cell_type": "code",
      "execution_count": 485,
      "metadata": {
        "colab": {
          "base_uri": "https://localhost:8080/"
        },
        "execution": {
          "iopub.execute_input": "2025-01-05T19:16:18.205908Z",
          "iopub.status.busy": "2025-01-05T19:16:18.205671Z",
          "iopub.status.idle": "2025-01-05T19:16:18.223109Z",
          "shell.execute_reply": "2025-01-05T19:16:18.222373Z",
          "shell.execute_reply.started": "2025-01-05T19:16:18.205889Z"
        },
        "id": "sVD0DSPvmdcE",
        "outputId": "391010be-9d3e-4b83-b1dd-1ba8ebdc8823",
        "trusted": true
      },
      "outputs": [
        {
          "output_type": "stream",
          "name": "stdout",
          "text": [
            "          count_0  count_1   sum\n",
            "anger        1460       91  1551\n",
            "disgust      1487       64  1551\n",
            "fear         1442      109  1551\n",
            "joy          1352      199  1551\n",
            "sadness      1273      278  1551\n",
            "surprise     1451      100  1551\n"
          ]
        }
      ],
      "source": [
        "#update label column name\n",
        "\n",
        "label_distribution = y_train_df.apply(pd.Series.value_counts).T.fillna(0).astype(int)\n",
        "\n",
        "label_distribution.columns = ['count_0', 'count_1']\n",
        "label_distribution['sum'] = label_distribution['count_0'] + label_distribution['count_1']\n",
        "print(label_distribution)"
      ]
    },
    {
      "cell_type": "code",
      "execution_count": 486,
      "metadata": {
        "execution": {
          "iopub.execute_input": "2025-01-05T19:16:18.224287Z",
          "iopub.status.busy": "2025-01-05T19:16:18.223981Z",
          "iopub.status.idle": "2025-01-05T19:16:18.281876Z",
          "shell.execute_reply": "2025-01-05T19:16:18.281035Z",
          "shell.execute_reply.started": "2025-01-05T19:16:18.224260Z"
        },
        "id": "-EFMbbzALDd6",
        "trusted": true
      },
      "outputs": [],
      "source": [
        "device=\"cuda\" if torch.cuda.is_available() else 'cpu'"
      ]
    },
    {
      "cell_type": "code",
      "execution_count": 487,
      "metadata": {
        "colab": {
          "base_uri": "https://localhost:8080/"
        },
        "execution": {
          "iopub.execute_input": "2025-01-05T19:16:18.282975Z",
          "iopub.status.busy": "2025-01-05T19:16:18.282722Z",
          "iopub.status.idle": "2025-01-05T19:16:18.778109Z",
          "shell.execute_reply": "2025-01-05T19:16:18.777406Z",
          "shell.execute_reply.started": "2025-01-05T19:16:18.282952Z"
        },
        "id": "ggY-tV1n2P7Q",
        "outputId": "2975b0a6-be11-4f45-d8ab-33bd99ca92e9",
        "trusted": true
      },
      "outputs": [
        {
          "output_type": "execute_result",
          "data": {
            "text/plain": [
              "tensor([ 8.5220, 12.1172,  7.1147,  3.8970,  2.7896,  7.7550], device='cuda:0')"
            ]
          },
          "metadata": {},
          "execution_count": 487
        }
      ],
      "source": [
        "from sklearn.utils.class_weight import compute_class_weight\n",
        "\n",
        "counts_0 = label_distribution['count_0'].to_numpy()\n",
        "counts_1 = label_distribution['count_1'].to_numpy()\n",
        "\n",
        "# Compute class-specific weights for each label (each class)\n",
        "class_weights = []\n",
        "for i in range(len(counts_0)):\n",
        "    weight = compute_class_weight('balanced', classes=np.array([0, 1]), y=[0] * counts_0[i] + [1] * counts_1[i])\n",
        "    class_weights.append(weight)\n",
        "\n",
        "# Convert the list of weights to a tensor\n",
        "class_weights_tensor = torch.tensor([w[1] for w in class_weights], dtype=torch.float,device=device)\n",
        "class_weights_tensor"
      ]
    },
    {
      "cell_type": "code",
      "execution_count": 488,
      "metadata": {
        "execution": {
          "iopub.execute_input": "2025-01-05T19:16:18.979908Z",
          "iopub.status.busy": "2025-01-05T19:16:18.979699Z",
          "iopub.status.idle": "2025-01-05T19:16:18.995243Z",
          "shell.execute_reply": "2025-01-05T19:16:18.994592Z",
          "shell.execute_reply.started": "2025-01-05T19:16:18.979880Z"
        },
        "id": "_2K_WqEPnF6l",
        "trusted": true
      },
      "outputs": [],
      "source": [
        "MAX_LENGTH = 512\n",
        "\n",
        "metrics_df = pd.DataFrame(columns=[\"Models_name\", \"Precision\", \"Recall\", \"F1_score\", \"Accuracy\"])\n",
        "\n",
        "confusion_matrices = []"
      ]
    },
    {
      "cell_type": "code",
      "execution_count": 489,
      "metadata": {
        "execution": {
          "iopub.execute_input": "2025-01-05T19:16:18.996404Z",
          "iopub.status.busy": "2025-01-05T19:16:18.996116Z",
          "iopub.status.idle": "2025-01-05T19:16:19.009025Z",
          "shell.execute_reply": "2025-01-05T19:16:19.008387Z",
          "shell.execute_reply.started": "2025-01-05T19:16:18.996373Z"
        },
        "id": "3TcPpfq1GdUI",
        "trusted": true
      },
      "outputs": [],
      "source": [
        "quantization_config = BitsAndBytesConfig(\n",
        "\n",
        "    load_in_4bit=True,\n",
        "\n",
        "    bnb_4bit_use_double_quant=True,\n",
        "\n",
        "    bnb_4bit_quant_type=\"nf4\",\n",
        "\n",
        "    bnb_4bit_compute_dtype=torch.bfloat16,\n",
        "\n",
        ")"
      ]
    },
    {
      "cell_type": "code",
      "execution_count": 490,
      "metadata": {
        "execution": {
          "iopub.execute_input": "2025-01-05T19:16:19.009895Z",
          "iopub.status.busy": "2025-01-05T19:16:19.009703Z",
          "iopub.status.idle": "2025-01-05T19:16:19.018430Z",
          "shell.execute_reply": "2025-01-05T19:16:19.017839Z",
          "shell.execute_reply.started": "2025-01-05T19:16:19.009877Z"
        },
        "id": "ps6BcVspzvnP",
        "trusted": true
      },
      "outputs": [],
      "source": [
        "models_list=models_list_3\n",
        "\n",
        "models_name=models_name_3\n",
        "\n",
        "x=models_list[0]"
      ]
    },
    {
      "cell_type": "code",
      "execution_count": 491,
      "metadata": {
        "execution": {
          "iopub.execute_input": "2025-01-05T19:16:19.019365Z",
          "iopub.status.busy": "2025-01-05T19:16:19.019158Z",
          "iopub.status.idle": "2025-01-05T19:16:19.028736Z",
          "shell.execute_reply": "2025-01-05T19:16:19.028061Z",
          "shell.execute_reply.started": "2025-01-05T19:16:19.019337Z"
        },
        "id": "jHjrZwu7_GSr",
        "trusted": true
      },
      "outputs": [],
      "source": [
        "token=\"\"\n",
        "\n",
        "import huggingface_hub\n",
        "\n",
        "if \"gemma\" in x or \"Phi\" in x:\n",
        "\n",
        "  huggingface_hub.login(token=token)"
      ]
    },
    {
      "cell_type": "code",
      "execution_count": 492,
      "metadata": {
        "execution": {
          "iopub.execute_input": "2025-01-05T19:16:19.029752Z",
          "iopub.status.busy": "2025-01-05T19:16:19.029517Z",
          "iopub.status.idle": "2025-01-05T19:16:19.040251Z",
          "shell.execute_reply": "2025-01-05T19:16:19.039248Z",
          "shell.execute_reply.started": "2025-01-05T19:16:19.029734Z"
        },
        "id": "cclf1eMoIfuA",
        "trusted": true
      },
      "outputs": [],
      "source": [
        "USE_LORA=False"
      ]
    },
    {
      "cell_type": "code",
      "execution_count": 493,
      "metadata": {
        "id": "dq2Ch-58MXAo"
      },
      "outputs": [],
      "source": [
        "!pip install -q sentence_transformers"
      ]
    },
    {
      "cell_type": "code",
      "execution_count": 494,
      "metadata": {
        "id": "4uSE7TEYBGfN"
      },
      "outputs": [],
      "source": [
        "from transformers import AutoModel\n",
        "from sentence_transformers import SentenceTransformer"
      ]
    },
    {
      "cell_type": "code",
      "execution_count": 495,
      "metadata": {
        "colab": {
          "base_uri": "https://localhost:8080/"
        },
        "execution": {
          "iopub.execute_input": "2025-01-05T19:16:19.041374Z",
          "iopub.status.busy": "2025-01-05T19:16:19.041125Z",
          "iopub.status.idle": "2025-01-05T19:16:55.700389Z",
          "shell.execute_reply": "2025-01-05T19:16:55.699744Z",
          "shell.execute_reply.started": "2025-01-05T19:16:19.041354Z"
        },
        "id": "RTwQtNnRZXNI",
        "outputId": "08cdd67f-6af2-40cf-a5b4-83ad2dabf1b1",
        "trusted": true
      },
      "outputs": [
        {
          "output_type": "stream",
          "name": "stdout",
          "text": [
            "jinaai/jina-embeddings-v3\n"
          ]
        },
        {
          "output_type": "stream",
          "name": "stderr",
          "text": [
            "WARNING:transformers_modules.jinaai.xlm-roberta-flash-implementation.2b6bc3f30750b3a9648fe9b63448c09920efe9be.modeling_xlm_roberta:flash_attn is not installed. Using PyTorch native attention implementation.\n",
            "WARNING:transformers_modules.jinaai.xlm-roberta-flash-implementation.2b6bc3f30750b3a9648fe9b63448c09920efe9be.modeling_xlm_roberta:flash_attn is not installed. Using PyTorch native attention implementation.\n",
            "WARNING:transformers_modules.jinaai.xlm-roberta-flash-implementation.2b6bc3f30750b3a9648fe9b63448c09920efe9be.modeling_xlm_roberta:flash_attn is not installed. Using PyTorch native attention implementation.\n",
            "WARNING:transformers_modules.jinaai.xlm-roberta-flash-implementation.2b6bc3f30750b3a9648fe9b63448c09920efe9be.modeling_xlm_roberta:flash_attn is not installed. Using PyTorch native attention implementation.\n",
            "WARNING:transformers_modules.jinaai.xlm-roberta-flash-implementation.2b6bc3f30750b3a9648fe9b63448c09920efe9be.modeling_xlm_roberta:flash_attn is not installed. Using PyTorch native attention implementation.\n",
            "WARNING:transformers_modules.jinaai.xlm-roberta-flash-implementation.2b6bc3f30750b3a9648fe9b63448c09920efe9be.modeling_xlm_roberta:flash_attn is not installed. Using PyTorch native attention implementation.\n",
            "WARNING:transformers_modules.jinaai.xlm-roberta-flash-implementation.2b6bc3f30750b3a9648fe9b63448c09920efe9be.modeling_xlm_roberta:flash_attn is not installed. Using PyTorch native attention implementation.\n",
            "WARNING:transformers_modules.jinaai.xlm-roberta-flash-implementation.2b6bc3f30750b3a9648fe9b63448c09920efe9be.modeling_xlm_roberta:flash_attn is not installed. Using PyTorch native attention implementation.\n",
            "WARNING:transformers_modules.jinaai.xlm-roberta-flash-implementation.2b6bc3f30750b3a9648fe9b63448c09920efe9be.modeling_xlm_roberta:flash_attn is not installed. Using PyTorch native attention implementation.\n",
            "WARNING:transformers_modules.jinaai.xlm-roberta-flash-implementation.2b6bc3f30750b3a9648fe9b63448c09920efe9be.modeling_xlm_roberta:flash_attn is not installed. Using PyTorch native attention implementation.\n",
            "WARNING:transformers_modules.jinaai.xlm-roberta-flash-implementation.2b6bc3f30750b3a9648fe9b63448c09920efe9be.modeling_xlm_roberta:flash_attn is not installed. Using PyTorch native attention implementation.\n",
            "WARNING:transformers_modules.jinaai.xlm-roberta-flash-implementation.2b6bc3f30750b3a9648fe9b63448c09920efe9be.modeling_xlm_roberta:flash_attn is not installed. Using PyTorch native attention implementation.\n",
            "WARNING:transformers_modules.jinaai.xlm-roberta-flash-implementation.2b6bc3f30750b3a9648fe9b63448c09920efe9be.modeling_xlm_roberta:flash_attn is not installed. Using PyTorch native attention implementation.\n",
            "WARNING:transformers_modules.jinaai.xlm-roberta-flash-implementation.2b6bc3f30750b3a9648fe9b63448c09920efe9be.modeling_xlm_roberta:flash_attn is not installed. Using PyTorch native attention implementation.\n",
            "WARNING:transformers_modules.jinaai.xlm-roberta-flash-implementation.2b6bc3f30750b3a9648fe9b63448c09920efe9be.modeling_xlm_roberta:flash_attn is not installed. Using PyTorch native attention implementation.\n",
            "WARNING:transformers_modules.jinaai.xlm-roberta-flash-implementation.2b6bc3f30750b3a9648fe9b63448c09920efe9be.modeling_xlm_roberta:flash_attn is not installed. Using PyTorch native attention implementation.\n",
            "WARNING:transformers_modules.jinaai.xlm-roberta-flash-implementation.2b6bc3f30750b3a9648fe9b63448c09920efe9be.modeling_xlm_roberta:flash_attn is not installed. Using PyTorch native attention implementation.\n",
            "WARNING:transformers_modules.jinaai.xlm-roberta-flash-implementation.2b6bc3f30750b3a9648fe9b63448c09920efe9be.modeling_xlm_roberta:flash_attn is not installed. Using PyTorch native attention implementation.\n",
            "WARNING:transformers_modules.jinaai.xlm-roberta-flash-implementation.2b6bc3f30750b3a9648fe9b63448c09920efe9be.modeling_xlm_roberta:flash_attn is not installed. Using PyTorch native attention implementation.\n",
            "WARNING:transformers_modules.jinaai.xlm-roberta-flash-implementation.2b6bc3f30750b3a9648fe9b63448c09920efe9be.modeling_xlm_roberta:flash_attn is not installed. Using PyTorch native attention implementation.\n",
            "WARNING:transformers_modules.jinaai.xlm-roberta-flash-implementation.2b6bc3f30750b3a9648fe9b63448c09920efe9be.modeling_xlm_roberta:flash_attn is not installed. Using PyTorch native attention implementation.\n",
            "WARNING:transformers_modules.jinaai.xlm-roberta-flash-implementation.2b6bc3f30750b3a9648fe9b63448c09920efe9be.modeling_xlm_roberta:flash_attn is not installed. Using PyTorch native attention implementation.\n",
            "WARNING:transformers_modules.jinaai.xlm-roberta-flash-implementation.2b6bc3f30750b3a9648fe9b63448c09920efe9be.modeling_xlm_roberta:flash_attn is not installed. Using PyTorch native attention implementation.\n",
            "WARNING:transformers_modules.jinaai.xlm-roberta-flash-implementation.2b6bc3f30750b3a9648fe9b63448c09920efe9be.modeling_xlm_roberta:flash_attn is not installed. Using PyTorch native attention implementation.\n",
            "WARNING:transformers_modules.jinaai.xlm-roberta-flash-implementation.2b6bc3f30750b3a9648fe9b63448c09920efe9be.modeling_xlm_roberta:flash_attn is not installed. Using PyTorch native attention implementation.\n"
          ]
        }
      ],
      "source": [
        "\n",
        "\n",
        "torch.cuda.empty_cache()\n",
        "\n",
        "\n",
        "\n",
        "print(x)\n",
        "use_gpu = torch.cuda.is_available()\n",
        "embedding_model = SentenceTransformer(\n",
        "        x,\n",
        "        trust_remote_code=True,\n",
        "        device=\"cpu\" if not use_gpu else \"cuda\",\n",
        "        model_kwargs={\n",
        "            \"torch_dtype\": torch.bfloat16 if use_gpu else torch.float32,\n",
        "            # \"attn_implementation\": \"sdpa\"\n",
        "        },\n",
        "        # vector_dim must be 12288, 1024, 512, 256\n",
        "        ## 1024 is recommended\n",
        "        # set is_text_encoder 'True', if you do not encode image\n",
        "        # config_kwargs={\"is_text_encoder\": True, \"vector_dim\": 1024},\n",
        "    )\n",
        "    # We can reduce the max_seq_length from the default of 2048 for faster encoding\n",
        "embedding_model.max_seq_length = MAX_LENGTH"
      ]
    },
    {
      "cell_type": "code",
      "execution_count": 496,
      "metadata": {
        "colab": {
          "base_uri": "https://localhost:8080/"
        },
        "execution": {
          "iopub.execute_input": "2025-01-05T19:16:55.701670Z",
          "iopub.status.busy": "2025-01-05T19:16:55.701384Z",
          "iopub.status.idle": "2025-01-05T19:16:55.708108Z",
          "shell.execute_reply": "2025-01-05T19:16:55.707487Z",
          "shell.execute_reply.started": "2025-01-05T19:16:55.701637Z"
        },
        "id": "h5TGLlXVBaeB",
        "outputId": "7398b015-749b-4e94-e955-8c15c30d8e2f",
        "trusted": true
      },
      "outputs": [
        {
          "output_type": "execute_result",
          "data": {
            "text/plain": [
              "[]"
            ]
          },
          "metadata": {},
          "execution_count": 496
        }
      ],
      "source": [
        "def find_target_modules(model):\n",
        "    # Initialize a Set to Store Unique Layers\n",
        "    unique_layers = set()\n",
        "\n",
        "    # Iterate Over All Named Modules in the Model\n",
        "    for name, module in model.named_modules():\n",
        "        # Check if the Module Type Contains 'Linear4bit'\n",
        "        if \"Linear4bit\" in str(type(module)):\n",
        "            # Extract the Type of the Layer\n",
        "            layer_type = name.split('.')[-1]\n",
        "\n",
        "            # Add the Layer Type to the Set of Unique Layers\n",
        "            unique_layers.add(layer_type)\n",
        "\n",
        "    # Return the Set of Unique Layers Converted to a List\n",
        "    return list(unique_layers)\n",
        "find_target_modules(embedding_model)"
      ]
    },
    {
      "cell_type": "code",
      "execution_count": 497,
      "metadata": {
        "execution": {
          "iopub.execute_input": "2025-01-05T19:16:55.709120Z",
          "iopub.status.busy": "2025-01-05T19:16:55.708803Z",
          "iopub.status.idle": "2025-01-05T19:16:55.719611Z",
          "shell.execute_reply": "2025-01-05T19:16:55.718745Z",
          "shell.execute_reply.started": "2025-01-05T19:16:55.709100Z"
        },
        "id": "AmPLSuxxBaeB",
        "trusted": true
      },
      "outputs": [],
      "source": [
        "# a="
      ]
    },
    {
      "cell_type": "code",
      "execution_count": 498,
      "metadata": {
        "execution": {
          "iopub.execute_input": "2025-01-05T19:16:55.720543Z",
          "iopub.status.busy": "2025-01-05T19:16:55.720340Z",
          "iopub.status.idle": "2025-01-05T19:16:55.734097Z",
          "shell.execute_reply": "2025-01-05T19:16:55.733332Z",
          "shell.execute_reply.started": "2025-01-05T19:16:55.720525Z"
        },
        "id": "MCHCmWeqZd1R",
        "trusted": true
      },
      "outputs": [],
      "source": [
        "embedding_model.eval() # embedding_model in training mode (dropout modules are activated)\n",
        "\n",
        "if USE_LORA:\n",
        "\n",
        "  # enable gradient check pointing\n",
        "\n",
        "  embedding_model.gradient_checkpointing_enable()\n",
        "\n",
        "  target_modules_dict={\n",
        "\n",
        "      \"microsoft/Phi-3.5-mini-instruct\":'all-linear',\n",
        "      \"unsloth/Llama-3.2-1B-Instruct\":[\"q_proj\",\"k_proj\",\"v_proj\"],\n",
        "      \"unsloth/Qwen2.5-3B-Instruct-bnb-4bit\":[\"q_proj\",\"k_proj\",\"v_proj\"],\n",
        "  }\n",
        "\n",
        "  target_modules= target_modules_dict.get(x,[\"q_proj\"])\n",
        "\n",
        "\n",
        "\n",
        "  # enable quantized training\n",
        "\n",
        "  embedding_model = prepare_model_for_kbit_training(embedding_model)\n",
        "\n",
        "  config = LoraConfig(\n",
        "\n",
        "    r=8,\n",
        "\n",
        "    lora_alpha=32,\n",
        "\n",
        "    # target_modules=[\"k_proj\"],\n",
        "\n",
        "    target_modules = target_modules,#TODOOOOOOOOOOOOO\n",
        "\n",
        "    lora_dropout=0.1,\n",
        "\n",
        "    bias=\"none\",\n",
        "\n",
        "    task_type=\"SEQ_CLS\",\n",
        "\n",
        "  )\n",
        "\n",
        "  # LoRA trainable version of model\n",
        "\n",
        "  embedding_model = get_peft_model(embedding_model, config)\n",
        "\n",
        "\n",
        "\n",
        "  # trainable parameter count\n",
        "\n",
        "  embedding_model.print_trainable_parameters()\n",
        "\n",
        "device=\"cuda\" if torch.cuda.is_available() else 'cpu'"
      ]
    },
    {
      "cell_type": "code",
      "execution_count": 499,
      "metadata": {
        "colab": {
          "base_uri": "https://localhost:8080/",
          "height": 36
        },
        "execution": {
          "iopub.execute_input": "2025-01-05T19:16:55.749945Z",
          "iopub.status.busy": "2025-01-05T19:16:55.749694Z",
          "iopub.status.idle": "2025-01-05T19:16:55.760182Z",
          "shell.execute_reply": "2025-01-05T19:16:55.759477Z",
          "shell.execute_reply.started": "2025-01-05T19:16:55.749920Z"
        },
        "id": "CWtjrTGfJtvS",
        "outputId": "695a2ff5-01a2-40b7-ccbf-3c6805823d27",
        "trusted": true
      },
      "outputs": [
        {
          "output_type": "execute_result",
          "data": {
            "text/plain": [
              "'cuda'"
            ],
            "application/vnd.google.colaboratory.intrinsic+json": {
              "type": "string"
            }
          },
          "metadata": {},
          "execution_count": 499
        }
      ],
      "source": [
        "device"
      ]
    },
    {
      "cell_type": "code",
      "execution_count": 500,
      "metadata": {
        "execution": {
          "iopub.execute_input": "2025-01-05T19:16:55.761188Z",
          "iopub.status.busy": "2025-01-05T19:16:55.760917Z",
          "iopub.status.idle": "2025-01-05T19:16:56.101169Z",
          "shell.execute_reply": "2025-01-05T19:16:56.100496Z",
          "shell.execute_reply.started": "2025-01-05T19:16:55.761160Z"
        },
        "id": "Ot09dhy1Jq2T",
        "trusted": true
      },
      "outputs": [],
      "source": [
        "embedding_model = embedding_model.to(device)\n",
        "\n",
        "for param in embedding_model.parameters():\n",
        "    param.data = param.data.contiguous()\n"
      ]
    },
    {
      "cell_type": "code",
      "execution_count": 501,
      "metadata": {
        "id": "LcyDYbHFFhS4"
      },
      "outputs": [],
      "source": [
        "\n",
        "# Custom Dataset for batching\n",
        "class TextDataset(torch.utils.data.Dataset):\n",
        "    def __init__(self, texts):\n",
        "        self.texts = texts\n",
        "\n",
        "    def __len__(self):\n",
        "        return len(self.texts)\n",
        "\n",
        "    def __getitem__(self, idx):\n",
        "        # Tokenize a single example\n",
        "        return self.texts[idx]\n"
      ]
    },
    {
      "cell_type": "code",
      "source": [
        "from torch.utils.data import DataLoader"
      ],
      "metadata": {
        "id": "3K6r7yZ7NuP2"
      },
      "execution_count": 502,
      "outputs": []
    },
    {
      "cell_type": "code",
      "execution_count": 503,
      "metadata": {
        "id": "s8dV8g_NDo_v"
      },
      "outputs": [],
      "source": [
        "\n",
        "# Batch extraction function\n",
        "def extract_embeddings(texts, model, batch_size=32):\n",
        "    dataset = TextDataset(texts)\n",
        "    dataloader = DataLoader(dataset, batch_size=batch_size, shuffle=False)\n",
        "\n",
        "    embeddings = []\n",
        "    model.eval()\n",
        "    with torch.no_grad():\n",
        "        for batch in tqdm(dataloader, desc=\"Extracting embeddings\"):\n",
        "            # Move batch to device\n",
        "            # input_ids = torch.Tensor(batch['input_ids']).squeeze().to(device)\n",
        "            # attention_mask = torch.Tensor(batch['attention_mask']).squeeze().to(device)\n",
        "\n",
        "            # Forward pass through the model\n",
        "            cls_embeddings = model.encode(batch)\n",
        "            embeddings.append(cls_embeddings)\n",
        "\n",
        "    return np.vstack(embeddings)"
      ]
    },
    {
      "cell_type": "code",
      "execution_count": 504,
      "metadata": {
        "colab": {
          "base_uri": "https://localhost:8080/"
        },
        "id": "QkJtUXXiDx22",
        "outputId": "7d4c2963-c114-46bf-be79-acb40c45aad8"
      },
      "outputs": [
        {
          "output_type": "stream",
          "name": "stderr",
          "text": [
            "Extracting embeddings: 100%|██████████| 49/49 [00:29<00:00,  1.66it/s]\n"
          ]
        }
      ],
      "source": [
        "# Extract embeddings for train and validation datasets\n",
        "x_train_embeddings = extract_embeddings(x_train, embedding_model, batch_size=32)"
      ]
    },
    {
      "cell_type": "code",
      "execution_count": 505,
      "metadata": {
        "id": "gcScaudA1Vrk"
      },
      "outputs": [],
      "source": [
        "np.save(\"x_train_embeddings.npy\",x_train_embeddings)"
      ]
    },
    {
      "cell_type": "code",
      "execution_count": 506,
      "metadata": {
        "id": "J-d1ZAwbDzS-"
      },
      "outputs": [],
      "source": [
        "# Flatten labels for XGBoost (multi-label classification)\n",
        "y_train_flat = np.array(y_train)"
      ]
    },
    {
      "cell_type": "code",
      "execution_count": 507,
      "metadata": {
        "id": "eJ89U0khMXAq"
      },
      "outputs": [],
      "source": [
        "import xgboost as xgb"
      ]
    },
    {
      "cell_type": "code",
      "execution_count": 508,
      "metadata": {
        "id": "Fa279ZX6MXAr"
      },
      "outputs": [],
      "source": [
        "# xgb_models = {}\n",
        "\n",
        "# for i, label in enumerate(label_columns):\n",
        "#     print(f\"Training XGBoost for label: {label}\")\n",
        "#     # Use the computed class weights for the positive class\n",
        "#     scale_pos_weight = class_weights_tensor[i].item()\n",
        "#     # Initialize and train XGBoost classifier\n",
        "#     xgb_model = xgb.XGBClassifier(\n",
        "#         objective='binary:logistic',\n",
        "#         eval_metric='logloss',\n",
        "#         use_label_encoder=False,\n",
        "#         n_estimators=100,\n",
        "#         learning_rate=0.1,\n",
        "#         max_depth=6,\n",
        "#         tree_method='hist',\n",
        "#         scale_pos_weight=scale_pos_weight,  # Apply the class weight here\n",
        "#         device=device\n",
        "#     )\n",
        "#     xgb_model.fit(x_train_embeddings, y_train_flat[:, i])\n",
        "#     xgb_models[label] = xgb_model"
      ]
    },
    {
      "cell_type": "code",
      "execution_count": 509,
      "metadata": {
        "id": "9jHj9smdMXAr"
      },
      "outputs": [],
      "source": [
        "# Save the XGBoost models if needed\n",
        "# for label, model in xgb_models.items():\n",
        "#     model.save_model(f\"xgb_model_{label}.json\")"
      ]
    },
    {
      "cell_type": "code",
      "execution_count": 510,
      "metadata": {
        "id": "Du-mS-6LMXAr"
      },
      "outputs": [],
      "source": [
        "# import pickle\n",
        "# # Save the XGBoost models if needed\n",
        "# for label, model in xgb_models.items():\n",
        "#     with open(f\"xgb_model_{label}.pkl\", 'wb') as f:\n",
        "#       pickle.dump(model, f)"
      ]
    },
    {
      "cell_type": "code",
      "execution_count": 511,
      "metadata": {
        "id": "R4SklNOpMXAr"
      },
      "outputs": [],
      "source": [
        "# !zip xgb_models_pkl.zip xgb_model_*.pkl"
      ]
    },
    {
      "cell_type": "code",
      "source": [
        "!rm -rf svm*"
      ],
      "metadata": {
        "id": "HmjpzkjdFvGC"
      },
      "execution_count": 512,
      "outputs": []
    },
    {
      "cell_type": "code",
      "execution_count": 513,
      "metadata": {
        "id": "TMRlx05eKvBY"
      },
      "outputs": [],
      "source": [
        "from sklearn.svm import SVC"
      ]
    },
    {
      "cell_type": "code",
      "execution_count": 514,
      "metadata": {
        "colab": {
          "base_uri": "https://localhost:8080/"
        },
        "id": "lEP0kNeYD7L2",
        "outputId": "67fafcd3-9343-48bb-e1ae-66523a47dd3a"
      },
      "outputs": [
        {
          "output_type": "stream",
          "name": "stdout",
          "text": [
            "Training SVM for label: anger\n",
            "Training SVM for label: disgust\n",
            "Training SVM for label: fear\n",
            "Training SVM for label: joy\n",
            "Training SVM for label: sadness\n",
            "Training SVM for label: surprise\n"
          ]
        }
      ],
      "source": [
        "svm_models = {}\n",
        "\n",
        "for i, label in enumerate(label_columns):\n",
        "    print(f\"Training SVM for label: {label}\")\n",
        "\n",
        "    # Use the computed class weights for balancing the classes\n",
        "    class_weight = {0: 1, 1: class_weights_tensor[i].item()}  # Adjust the class weights\n",
        "\n",
        "    svm_model = SVC(class_weight={0: 1, 1: class_weights_tensor[i].item()})\n",
        "\n",
        "    svm_model.fit(x_train_embeddings, y_train_flat[:, i])\n",
        "    svm_models[label] = svm_model"
      ]
    },
    {
      "cell_type": "code",
      "execution_count": 515,
      "metadata": {
        "id": "K2XuOhEj6u_U"
      },
      "outputs": [],
      "source": [
        "import pickle\n",
        "# Save the svm models if needed\n",
        "for label, model in svm_models.items():\n",
        "    with open(f\"svm_model_{label}.pkl\", 'wb') as f:\n",
        "      pickle.dump(model, f)"
      ]
    },
    {
      "cell_type": "code",
      "execution_count": 516,
      "metadata": {
        "id": "0BW54_je667r",
        "colab": {
          "base_uri": "https://localhost:8080/"
        },
        "outputId": "bc5e638e-4304-42f8-de9e-42d25ba07d48"
      },
      "outputs": [
        {
          "output_type": "stream",
          "name": "stdout",
          "text": [
            "  adding: svm_model_anger.pkl (deflated 75%)\n",
            "  adding: svm_model_disgust.pkl (deflated 75%)\n",
            "  adding: svm_model_fear.pkl (deflated 75%)\n",
            "  adding: svm_model_joy.pkl (deflated 75%)\n",
            "  adding: svm_model_sadness.pkl (deflated 75%)\n",
            "  adding: svm_model_surprise.pkl (deflated 75%)\n"
          ]
        }
      ],
      "source": [
        "!zip svm_models_pkl.zip svm_model_*.pkl"
      ]
    },
    {
      "cell_type": "code",
      "execution_count": 517,
      "metadata": {
        "id": "zhVJ1at0MXAs"
      },
      "outputs": [],
      "source": [
        "kind=\"dev\""
      ]
    },
    {
      "cell_type": "code",
      "execution_count": 518,
      "metadata": {
        "colab": {
          "base_uri": "https://localhost:8080/",
          "height": 423
        },
        "id": "nhnFaUn6MXAs",
        "outputId": "e92c0c9a-97f3-4ba4-bbd2-b9fafddef2d2"
      },
      "outputs": [
        {
          "output_type": "execute_result",
          "data": {
            "text/plain": [
              "     index                     id  anger  disgust  fear  joy  sadness  \\\n",
              "0        0  vmw_dev_track_a_00001      0        0     0    0        0   \n",
              "1        1  vmw_dev_track_a_00002      0        0     0    0        0   \n",
              "2        2  vmw_dev_track_a_00003      0        0     0    0        0   \n",
              "3        3  vmw_dev_track_a_00004      0        0     0    0        0   \n",
              "4        4  vmw_dev_track_a_00005      0        0     0    0        0   \n",
              "..     ...                    ...    ...      ...   ...  ...      ...   \n",
              "253    253  vmw_dev_track_a_00254      0        0     0    0        0   \n",
              "254    254  vmw_dev_track_a_00255      0        0     0    0        0   \n",
              "255    255  vmw_dev_track_a_00256      0        0     0    0        0   \n",
              "256    256  vmw_dev_track_a_00257      0        0     0    0        0   \n",
              "257    257  vmw_dev_track_a_00258      0        0     0    0        0   \n",
              "\n",
              "     surprise lang                                      clean_message  \n",
              "0           0  vmw  maputu onimutholathola mpatthani wiira amwaaki...  \n",
              "1           0  vmw  maweheriwa a miteko sa mpanko ootapanyeya mmos...  \n",
              "2           0  vmw  eua ohinteererya mukwaha wa blinken oorowa oxi...  \n",
              "3           0  vmw  maniniixituru mayili ookhalayi a stf aalakela ...  \n",
              "4           0  vmw  braziili oniira taata wa ekoopa ya olumwenku n...  \n",
              "..        ...  ...                                                ...  \n",
              "253         0  vmw  kuveerunu a kaapu veerete ohoohiya matteeke na...  \n",
              "254         0  vmw  top ten amerikaano jermaine dupri mphironi woo...  \n",
              "255         0  vmw  mantiixina aniirwa yoopopihaka woopola oturaat...  \n",
              "256         0  vmw  materoriixita a opariixi aatthukwelasiwa opeel...  \n",
              "257         0  vmw  anamakumiherya mawoowo ooparasiili anrumiha on...  \n",
              "\n",
              "[258 rows x 10 columns]"
            ],
            "text/html": [
              "\n",
              "  <div id=\"df-ea86e0cf-bbd8-499d-bafc-017d2cd77c9f\" class=\"colab-df-container\">\n",
              "    <div>\n",
              "<style scoped>\n",
              "    .dataframe tbody tr th:only-of-type {\n",
              "        vertical-align: middle;\n",
              "    }\n",
              "\n",
              "    .dataframe tbody tr th {\n",
              "        vertical-align: top;\n",
              "    }\n",
              "\n",
              "    .dataframe thead th {\n",
              "        text-align: right;\n",
              "    }\n",
              "</style>\n",
              "<table border=\"1\" class=\"dataframe\">\n",
              "  <thead>\n",
              "    <tr style=\"text-align: right;\">\n",
              "      <th></th>\n",
              "      <th>index</th>\n",
              "      <th>id</th>\n",
              "      <th>anger</th>\n",
              "      <th>disgust</th>\n",
              "      <th>fear</th>\n",
              "      <th>joy</th>\n",
              "      <th>sadness</th>\n",
              "      <th>surprise</th>\n",
              "      <th>lang</th>\n",
              "      <th>clean_message</th>\n",
              "    </tr>\n",
              "  </thead>\n",
              "  <tbody>\n",
              "    <tr>\n",
              "      <th>0</th>\n",
              "      <td>0</td>\n",
              "      <td>vmw_dev_track_a_00001</td>\n",
              "      <td>0</td>\n",
              "      <td>0</td>\n",
              "      <td>0</td>\n",
              "      <td>0</td>\n",
              "      <td>0</td>\n",
              "      <td>0</td>\n",
              "      <td>vmw</td>\n",
              "      <td>maputu onimutholathola mpatthani wiira amwaaki...</td>\n",
              "    </tr>\n",
              "    <tr>\n",
              "      <th>1</th>\n",
              "      <td>1</td>\n",
              "      <td>vmw_dev_track_a_00002</td>\n",
              "      <td>0</td>\n",
              "      <td>0</td>\n",
              "      <td>0</td>\n",
              "      <td>0</td>\n",
              "      <td>0</td>\n",
              "      <td>0</td>\n",
              "      <td>vmw</td>\n",
              "      <td>maweheriwa a miteko sa mpanko ootapanyeya mmos...</td>\n",
              "    </tr>\n",
              "    <tr>\n",
              "      <th>2</th>\n",
              "      <td>2</td>\n",
              "      <td>vmw_dev_track_a_00003</td>\n",
              "      <td>0</td>\n",
              "      <td>0</td>\n",
              "      <td>0</td>\n",
              "      <td>0</td>\n",
              "      <td>0</td>\n",
              "      <td>0</td>\n",
              "      <td>vmw</td>\n",
              "      <td>eua ohinteererya mukwaha wa blinken oorowa oxi...</td>\n",
              "    </tr>\n",
              "    <tr>\n",
              "      <th>3</th>\n",
              "      <td>3</td>\n",
              "      <td>vmw_dev_track_a_00004</td>\n",
              "      <td>0</td>\n",
              "      <td>0</td>\n",
              "      <td>0</td>\n",
              "      <td>0</td>\n",
              "      <td>0</td>\n",
              "      <td>0</td>\n",
              "      <td>vmw</td>\n",
              "      <td>maniniixituru mayili ookhalayi a stf aalakela ...</td>\n",
              "    </tr>\n",
              "    <tr>\n",
              "      <th>4</th>\n",
              "      <td>4</td>\n",
              "      <td>vmw_dev_track_a_00005</td>\n",
              "      <td>0</td>\n",
              "      <td>0</td>\n",
              "      <td>0</td>\n",
              "      <td>0</td>\n",
              "      <td>0</td>\n",
              "      <td>0</td>\n",
              "      <td>vmw</td>\n",
              "      <td>braziili oniira taata wa ekoopa ya olumwenku n...</td>\n",
              "    </tr>\n",
              "    <tr>\n",
              "      <th>...</th>\n",
              "      <td>...</td>\n",
              "      <td>...</td>\n",
              "      <td>...</td>\n",
              "      <td>...</td>\n",
              "      <td>...</td>\n",
              "      <td>...</td>\n",
              "      <td>...</td>\n",
              "      <td>...</td>\n",
              "      <td>...</td>\n",
              "      <td>...</td>\n",
              "    </tr>\n",
              "    <tr>\n",
              "      <th>253</th>\n",
              "      <td>253</td>\n",
              "      <td>vmw_dev_track_a_00254</td>\n",
              "      <td>0</td>\n",
              "      <td>0</td>\n",
              "      <td>0</td>\n",
              "      <td>0</td>\n",
              "      <td>0</td>\n",
              "      <td>0</td>\n",
              "      <td>vmw</td>\n",
              "      <td>kuveerunu a kaapu veerete ohoohiya matteeke na...</td>\n",
              "    </tr>\n",
              "    <tr>\n",
              "      <th>254</th>\n",
              "      <td>254</td>\n",
              "      <td>vmw_dev_track_a_00255</td>\n",
              "      <td>0</td>\n",
              "      <td>0</td>\n",
              "      <td>0</td>\n",
              "      <td>0</td>\n",
              "      <td>0</td>\n",
              "      <td>0</td>\n",
              "      <td>vmw</td>\n",
              "      <td>top ten amerikaano jermaine dupri mphironi woo...</td>\n",
              "    </tr>\n",
              "    <tr>\n",
              "      <th>255</th>\n",
              "      <td>255</td>\n",
              "      <td>vmw_dev_track_a_00256</td>\n",
              "      <td>0</td>\n",
              "      <td>0</td>\n",
              "      <td>0</td>\n",
              "      <td>0</td>\n",
              "      <td>0</td>\n",
              "      <td>0</td>\n",
              "      <td>vmw</td>\n",
              "      <td>mantiixina aniirwa yoopopihaka woopola oturaat...</td>\n",
              "    </tr>\n",
              "    <tr>\n",
              "      <th>256</th>\n",
              "      <td>256</td>\n",
              "      <td>vmw_dev_track_a_00257</td>\n",
              "      <td>0</td>\n",
              "      <td>0</td>\n",
              "      <td>0</td>\n",
              "      <td>0</td>\n",
              "      <td>0</td>\n",
              "      <td>0</td>\n",
              "      <td>vmw</td>\n",
              "      <td>materoriixita a opariixi aatthukwelasiwa opeel...</td>\n",
              "    </tr>\n",
              "    <tr>\n",
              "      <th>257</th>\n",
              "      <td>257</td>\n",
              "      <td>vmw_dev_track_a_00258</td>\n",
              "      <td>0</td>\n",
              "      <td>0</td>\n",
              "      <td>0</td>\n",
              "      <td>0</td>\n",
              "      <td>0</td>\n",
              "      <td>0</td>\n",
              "      <td>vmw</td>\n",
              "      <td>anamakumiherya mawoowo ooparasiili anrumiha on...</td>\n",
              "    </tr>\n",
              "  </tbody>\n",
              "</table>\n",
              "<p>258 rows × 10 columns</p>\n",
              "</div>\n",
              "    <div class=\"colab-df-buttons\">\n",
              "\n",
              "  <div class=\"colab-df-container\">\n",
              "    <button class=\"colab-df-convert\" onclick=\"convertToInteractive('df-ea86e0cf-bbd8-499d-bafc-017d2cd77c9f')\"\n",
              "            title=\"Convert this dataframe to an interactive table.\"\n",
              "            style=\"display:none;\">\n",
              "\n",
              "  <svg xmlns=\"http://www.w3.org/2000/svg\" height=\"24px\" viewBox=\"0 -960 960 960\">\n",
              "    <path d=\"M120-120v-720h720v720H120Zm60-500h600v-160H180v160Zm220 220h160v-160H400v160Zm0 220h160v-160H400v160ZM180-400h160v-160H180v160Zm440 0h160v-160H620v160ZM180-180h160v-160H180v160Zm440 0h160v-160H620v160Z\"/>\n",
              "  </svg>\n",
              "    </button>\n",
              "\n",
              "  <style>\n",
              "    .colab-df-container {\n",
              "      display:flex;\n",
              "      gap: 12px;\n",
              "    }\n",
              "\n",
              "    .colab-df-convert {\n",
              "      background-color: #E8F0FE;\n",
              "      border: none;\n",
              "      border-radius: 50%;\n",
              "      cursor: pointer;\n",
              "      display: none;\n",
              "      fill: #1967D2;\n",
              "      height: 32px;\n",
              "      padding: 0 0 0 0;\n",
              "      width: 32px;\n",
              "    }\n",
              "\n",
              "    .colab-df-convert:hover {\n",
              "      background-color: #E2EBFA;\n",
              "      box-shadow: 0px 1px 2px rgba(60, 64, 67, 0.3), 0px 1px 3px 1px rgba(60, 64, 67, 0.15);\n",
              "      fill: #174EA6;\n",
              "    }\n",
              "\n",
              "    .colab-df-buttons div {\n",
              "      margin-bottom: 4px;\n",
              "    }\n",
              "\n",
              "    [theme=dark] .colab-df-convert {\n",
              "      background-color: #3B4455;\n",
              "      fill: #D2E3FC;\n",
              "    }\n",
              "\n",
              "    [theme=dark] .colab-df-convert:hover {\n",
              "      background-color: #434B5C;\n",
              "      box-shadow: 0px 1px 3px 1px rgba(0, 0, 0, 0.15);\n",
              "      filter: drop-shadow(0px 1px 2px rgba(0, 0, 0, 0.3));\n",
              "      fill: #FFFFFF;\n",
              "    }\n",
              "  </style>\n",
              "\n",
              "    <script>\n",
              "      const buttonEl =\n",
              "        document.querySelector('#df-ea86e0cf-bbd8-499d-bafc-017d2cd77c9f button.colab-df-convert');\n",
              "      buttonEl.style.display =\n",
              "        google.colab.kernel.accessAllowed ? 'block' : 'none';\n",
              "\n",
              "      async function convertToInteractive(key) {\n",
              "        const element = document.querySelector('#df-ea86e0cf-bbd8-499d-bafc-017d2cd77c9f');\n",
              "        const dataTable =\n",
              "          await google.colab.kernel.invokeFunction('convertToInteractive',\n",
              "                                                    [key], {});\n",
              "        if (!dataTable) return;\n",
              "\n",
              "        const docLinkHtml = 'Like what you see? Visit the ' +\n",
              "          '<a target=\"_blank\" href=https://colab.research.google.com/notebooks/data_table.ipynb>data table notebook</a>'\n",
              "          + ' to learn more about interactive tables.';\n",
              "        element.innerHTML = '';\n",
              "        dataTable['output_type'] = 'display_data';\n",
              "        await google.colab.output.renderOutput(dataTable, element);\n",
              "        const docLink = document.createElement('div');\n",
              "        docLink.innerHTML = docLinkHtml;\n",
              "        element.appendChild(docLink);\n",
              "      }\n",
              "    </script>\n",
              "  </div>\n",
              "\n",
              "\n",
              "<div id=\"df-9dffa535-d6f7-4ce7-8a6f-45843411ff30\">\n",
              "  <button class=\"colab-df-quickchart\" onclick=\"quickchart('df-9dffa535-d6f7-4ce7-8a6f-45843411ff30')\"\n",
              "            title=\"Suggest charts\"\n",
              "            style=\"display:none;\">\n",
              "\n",
              "<svg xmlns=\"http://www.w3.org/2000/svg\" height=\"24px\"viewBox=\"0 0 24 24\"\n",
              "     width=\"24px\">\n",
              "    <g>\n",
              "        <path d=\"M19 3H5c-1.1 0-2 .9-2 2v14c0 1.1.9 2 2 2h14c1.1 0 2-.9 2-2V5c0-1.1-.9-2-2-2zM9 17H7v-7h2v7zm4 0h-2V7h2v10zm4 0h-2v-4h2v4z\"/>\n",
              "    </g>\n",
              "</svg>\n",
              "  </button>\n",
              "\n",
              "<style>\n",
              "  .colab-df-quickchart {\n",
              "      --bg-color: #E8F0FE;\n",
              "      --fill-color: #1967D2;\n",
              "      --hover-bg-color: #E2EBFA;\n",
              "      --hover-fill-color: #174EA6;\n",
              "      --disabled-fill-color: #AAA;\n",
              "      --disabled-bg-color: #DDD;\n",
              "  }\n",
              "\n",
              "  [theme=dark] .colab-df-quickchart {\n",
              "      --bg-color: #3B4455;\n",
              "      --fill-color: #D2E3FC;\n",
              "      --hover-bg-color: #434B5C;\n",
              "      --hover-fill-color: #FFFFFF;\n",
              "      --disabled-bg-color: #3B4455;\n",
              "      --disabled-fill-color: #666;\n",
              "  }\n",
              "\n",
              "  .colab-df-quickchart {\n",
              "    background-color: var(--bg-color);\n",
              "    border: none;\n",
              "    border-radius: 50%;\n",
              "    cursor: pointer;\n",
              "    display: none;\n",
              "    fill: var(--fill-color);\n",
              "    height: 32px;\n",
              "    padding: 0;\n",
              "    width: 32px;\n",
              "  }\n",
              "\n",
              "  .colab-df-quickchart:hover {\n",
              "    background-color: var(--hover-bg-color);\n",
              "    box-shadow: 0 1px 2px rgba(60, 64, 67, 0.3), 0 1px 3px 1px rgba(60, 64, 67, 0.15);\n",
              "    fill: var(--button-hover-fill-color);\n",
              "  }\n",
              "\n",
              "  .colab-df-quickchart-complete:disabled,\n",
              "  .colab-df-quickchart-complete:disabled:hover {\n",
              "    background-color: var(--disabled-bg-color);\n",
              "    fill: var(--disabled-fill-color);\n",
              "    box-shadow: none;\n",
              "  }\n",
              "\n",
              "  .colab-df-spinner {\n",
              "    border: 2px solid var(--fill-color);\n",
              "    border-color: transparent;\n",
              "    border-bottom-color: var(--fill-color);\n",
              "    animation:\n",
              "      spin 1s steps(1) infinite;\n",
              "  }\n",
              "\n",
              "  @keyframes spin {\n",
              "    0% {\n",
              "      border-color: transparent;\n",
              "      border-bottom-color: var(--fill-color);\n",
              "      border-left-color: var(--fill-color);\n",
              "    }\n",
              "    20% {\n",
              "      border-color: transparent;\n",
              "      border-left-color: var(--fill-color);\n",
              "      border-top-color: var(--fill-color);\n",
              "    }\n",
              "    30% {\n",
              "      border-color: transparent;\n",
              "      border-left-color: var(--fill-color);\n",
              "      border-top-color: var(--fill-color);\n",
              "      border-right-color: var(--fill-color);\n",
              "    }\n",
              "    40% {\n",
              "      border-color: transparent;\n",
              "      border-right-color: var(--fill-color);\n",
              "      border-top-color: var(--fill-color);\n",
              "    }\n",
              "    60% {\n",
              "      border-color: transparent;\n",
              "      border-right-color: var(--fill-color);\n",
              "    }\n",
              "    80% {\n",
              "      border-color: transparent;\n",
              "      border-right-color: var(--fill-color);\n",
              "      border-bottom-color: var(--fill-color);\n",
              "    }\n",
              "    90% {\n",
              "      border-color: transparent;\n",
              "      border-bottom-color: var(--fill-color);\n",
              "    }\n",
              "  }\n",
              "</style>\n",
              "\n",
              "  <script>\n",
              "    async function quickchart(key) {\n",
              "      const quickchartButtonEl =\n",
              "        document.querySelector('#' + key + ' button');\n",
              "      quickchartButtonEl.disabled = true;  // To prevent multiple clicks.\n",
              "      quickchartButtonEl.classList.add('colab-df-spinner');\n",
              "      try {\n",
              "        const charts = await google.colab.kernel.invokeFunction(\n",
              "            'suggestCharts', [key], {});\n",
              "      } catch (error) {\n",
              "        console.error('Error during call to suggestCharts:', error);\n",
              "      }\n",
              "      quickchartButtonEl.classList.remove('colab-df-spinner');\n",
              "      quickchartButtonEl.classList.add('colab-df-quickchart-complete');\n",
              "    }\n",
              "    (() => {\n",
              "      let quickchartButtonEl =\n",
              "        document.querySelector('#df-9dffa535-d6f7-4ce7-8a6f-45843411ff30 button');\n",
              "      quickchartButtonEl.style.display =\n",
              "        google.colab.kernel.accessAllowed ? 'block' : 'none';\n",
              "    })();\n",
              "  </script>\n",
              "</div>\n",
              "    </div>\n",
              "  </div>\n"
            ],
            "application/vnd.google.colaboratory.intrinsic+json": {
              "type": "dataframe",
              "summary": "{\n  \"name\": \"dev_data\",\n  \"rows\": 258,\n  \"fields\": [\n    {\n      \"column\": \"index\",\n      \"properties\": {\n        \"dtype\": \"number\",\n        \"std\": 74,\n        \"min\": 0,\n        \"max\": 257,\n        \"num_unique_values\": 258,\n        \"samples\": [\n          66,\n          45,\n          9\n        ],\n        \"semantic_type\": \"\",\n        \"description\": \"\"\n      }\n    },\n    {\n      \"column\": \"id\",\n      \"properties\": {\n        \"dtype\": \"string\",\n        \"num_unique_values\": 258,\n        \"samples\": [\n          \"vmw_dev_track_a_00067\",\n          \"vmw_dev_track_a_00046\",\n          \"vmw_dev_track_a_00010\"\n        ],\n        \"semantic_type\": \"\",\n        \"description\": \"\"\n      }\n    },\n    {\n      \"column\": \"anger\",\n      \"properties\": {\n        \"dtype\": \"number\",\n        \"std\": 0,\n        \"min\": 0,\n        \"max\": 0,\n        \"num_unique_values\": 1,\n        \"samples\": [\n          0\n        ],\n        \"semantic_type\": \"\",\n        \"description\": \"\"\n      }\n    },\n    {\n      \"column\": \"disgust\",\n      \"properties\": {\n        \"dtype\": \"number\",\n        \"std\": 0,\n        \"min\": 0,\n        \"max\": 0,\n        \"num_unique_values\": 1,\n        \"samples\": [\n          0\n        ],\n        \"semantic_type\": \"\",\n        \"description\": \"\"\n      }\n    },\n    {\n      \"column\": \"fear\",\n      \"properties\": {\n        \"dtype\": \"number\",\n        \"std\": 0,\n        \"min\": 0,\n        \"max\": 0,\n        \"num_unique_values\": 1,\n        \"samples\": [\n          0\n        ],\n        \"semantic_type\": \"\",\n        \"description\": \"\"\n      }\n    },\n    {\n      \"column\": \"joy\",\n      \"properties\": {\n        \"dtype\": \"number\",\n        \"std\": 0,\n        \"min\": 0,\n        \"max\": 0,\n        \"num_unique_values\": 1,\n        \"samples\": [\n          0\n        ],\n        \"semantic_type\": \"\",\n        \"description\": \"\"\n      }\n    },\n    {\n      \"column\": \"sadness\",\n      \"properties\": {\n        \"dtype\": \"number\",\n        \"std\": 0,\n        \"min\": 0,\n        \"max\": 0,\n        \"num_unique_values\": 1,\n        \"samples\": [\n          0\n        ],\n        \"semantic_type\": \"\",\n        \"description\": \"\"\n      }\n    },\n    {\n      \"column\": \"surprise\",\n      \"properties\": {\n        \"dtype\": \"number\",\n        \"std\": 0,\n        \"min\": 0,\n        \"max\": 0,\n        \"num_unique_values\": 1,\n        \"samples\": [\n          0\n        ],\n        \"semantic_type\": \"\",\n        \"description\": \"\"\n      }\n    },\n    {\n      \"column\": \"lang\",\n      \"properties\": {\n        \"dtype\": \"category\",\n        \"num_unique_values\": 1,\n        \"samples\": [\n          \"vmw\"\n        ],\n        \"semantic_type\": \"\",\n        \"description\": \"\"\n      }\n    },\n    {\n      \"column\": \"clean_message\",\n      \"properties\": {\n        \"dtype\": \"string\",\n        \"num_unique_values\": 258,\n        \"samples\": [\n          \"filipe nyusi onaalipiherya mamosampiikaano okhala voohoova\"\n        ],\n        \"semantic_type\": \"\",\n        \"description\": \"\"\n      }\n    }\n  ]\n}"
            }
          },
          "metadata": {},
          "execution_count": 518
        }
      ],
      "source": [
        "all_csv=pd.DataFrame()\n",
        "\n",
        "for lang in langs:\n",
        "\n",
        "    processed_path=f\"processed_data/{kind}/{task}/{lang}.csv\"\n",
        "    # if kind==\"dev\":\n",
        "    #    processed_path=processed_path.replace(lang,lang+task[-2:])\n",
        "    if not os.path.isfile(processed_path):\n",
        "\n",
        "      print(\"not found:\",processed_path)\n",
        "\n",
        "      continue\n",
        "    train_data=pd.read_csv(processed_path)\n",
        "\n",
        "    train_data.columns = train_data.columns.str.lower()\n",
        "\n",
        "    all_csv = pd.concat([all_csv, train_data],ignore_index=True)\n",
        "dev_data=all_csv\n",
        "dev_data=dev_data.fillna(0)\n",
        "float_columns = dev_data.select_dtypes(include=['float64']).columns\n",
        "\n",
        "# Convert those columns to int\n",
        "dev_data[float_columns] = dev_data[float_columns].astype('int')\n",
        "dev_data = dev_data[dev_data['clean_message'].isnull()==False]\n",
        "dev_data.reset_index()\n"
      ]
    },
    {
      "cell_type": "code",
      "execution_count": 519,
      "metadata": {
        "id": "5o3BTrYtMXAs"
      },
      "outputs": [],
      "source": [
        "x_dev, y_dev = dev_data['clean_message'].values.tolist(), dev_data[label_columns].values.tolist()"
      ]
    },
    {
      "cell_type": "code",
      "execution_count": 520,
      "metadata": {
        "id": "UHCkNG34MXAs"
      },
      "outputs": [],
      "source": [
        "y_dev_df = pd.DataFrame(y_dev, columns=label_columns)"
      ]
    },
    {
      "cell_type": "code",
      "execution_count": 521,
      "metadata": {
        "colab": {
          "base_uri": "https://localhost:8080/"
        },
        "id": "oyWtdjnYMXAs",
        "outputId": "1aaa6fde-d5c2-4c8c-e069-44f1da61a15c"
      },
      "outputs": [
        {
          "output_type": "stream",
          "name": "stderr",
          "text": [
            "Extracting embeddings: 100%|██████████| 9/9 [00:03<00:00,  2.54it/s]\n"
          ]
        }
      ],
      "source": [
        "x_dev_embeddings = extract_embeddings(x_dev, embedding_model, batch_size=32)"
      ]
    },
    {
      "cell_type": "code",
      "execution_count": 522,
      "metadata": {
        "id": "WjeDNuqEMXAt"
      },
      "outputs": [],
      "source": [
        "y_dev_flat = np.array(y_dev)"
      ]
    },
    {
      "cell_type": "code",
      "execution_count": 523,
      "metadata": {
        "colab": {
          "base_uri": "https://localhost:8080/"
        },
        "id": "3FoBtPJxMXAt",
        "outputId": "5749796d-410d-4cc1-fd7c-a57c5d2102ba"
      },
      "outputs": [
        {
          "output_type": "stream",
          "name": "stdout",
          "text": [
            "Predicting for label: anger\n",
            "Predicting for label: disgust\n",
            "Predicting for label: fear\n",
            "Predicting for label: joy\n",
            "Predicting for label: sadness\n",
            "Predicting for label: surprise\n"
          ]
        }
      ],
      "source": [
        "# Predict labels for the test data\n",
        "test_predictions = {}\n",
        "for label in label_columns:\n",
        "    print(f\"Predicting for label: {label}\")\n",
        "    test_predictions[label] = svm_models[label].predict(x_dev_embeddings)"
      ]
    },
    {
      "cell_type": "code",
      "execution_count": 524,
      "metadata": {
        "id": "_P1CbM-_MXAt"
      },
      "outputs": [],
      "source": [
        "predictions_df = pd.DataFrame(test_predictions)\n",
        "dev_data.reset_index(inplace=True)"
      ]
    },
    {
      "cell_type": "code",
      "execution_count": 525,
      "metadata": {
        "id": "NwG32gbtMXAt"
      },
      "outputs": [],
      "source": [
        "output_df = pd.concat([dev_data[['id','lang']], predictions_df], axis=1)"
      ]
    },
    {
      "cell_type": "code",
      "source": [
        "!rm -rf track*"
      ],
      "metadata": {
        "id": "NiY-w-qZD41K"
      },
      "execution_count": 526,
      "outputs": []
    },
    {
      "cell_type": "code",
      "execution_count": 527,
      "metadata": {
        "colab": {
          "base_uri": "https://localhost:8080/"
        },
        "id": "XqPYlQX5MXAt",
        "outputId": "09fafcc6-11a8-4f98-a320-15b49068586e"
      },
      "outputs": [
        {
          "output_type": "stream",
          "name": "stdout",
          "text": [
            "Predictions for language 'vmw' saved to track_a/pred_vmw.csv\n"
          ]
        }
      ],
      "source": [
        "# Create directory if it doesn't exist\n",
        "output_dir = task\n",
        "os.makedirs(output_dir, exist_ok=True)\n",
        "\n",
        "# Iterate through the unique languages in the 'lang' column\n",
        "for lang in output_df['lang'].unique():\n",
        "    # Filter rows for the current language\n",
        "    lang_df = output_df[output_df['lang'] == lang]\n",
        "    lang_df.drop(columns=['lang'],inplace=True)\n",
        "\n",
        "    # Define the output file path for the current language\n",
        "    lang_csv_file = os.path.join(output_dir, f\"pred_{lang}.csv\")\n",
        "\n",
        "    # Sort the DataFrame by the 'id' column\n",
        "    lang_df.sort_values(by='id', inplace=True)\n",
        "\n",
        "    # Save the filtered DataFrame to a CSV file\n",
        "    lang_df.to_csv(lang_csv_file, index=False)\n",
        "\n",
        "    # Print a confirmation message\n",
        "    print(f\"Predictions for language '{lang}' saved to {lang_csv_file}\")"
      ]
    },
    {
      "cell_type": "code",
      "execution_count": 528,
      "metadata": {
        "colab": {
          "base_uri": "https://localhost:8080/"
        },
        "id": "wLsDfIWwMXAt",
        "outputId": "c88785b2-821b-4234-91e3-974c6b357192"
      },
      "outputs": [
        {
          "output_type": "stream",
          "name": "stdout",
          "text": [
            "  adding: track_a/ (stored 0%)\n",
            "  adding: track_a/pred_vmw.csv (deflated 91%)\n"
          ]
        }
      ],
      "source": [
        "!zip -r {task}.zip {task}"
      ]
    }
  ],
  "metadata": {
    "accelerator": "GPU",
    "colab": {
      "gpuType": "T4",
      "provenance": []
    },
    "kaggle": {
      "accelerator": "gpu",
      "dataSources": [],
      "dockerImageVersionId": 30823,
      "isGpuEnabled": true,
      "isInternetEnabled": true,
      "language": "python",
      "sourceType": "notebook"
    },
    "kernelspec": {
      "display_name": "Python 3",
      "language": "python",
      "name": "python3"
    },
    "language_info": {
      "codemirror_mode": {
        "name": "ipython",
        "version": 3
      },
      "file_extension": ".py",
      "mimetype": "text/x-python",
      "name": "python",
      "nbconvert_exporter": "python",
      "pygments_lexer": "ipython3",
      "version": "3.10.12"
    }
  },
  "nbformat": 4,
  "nbformat_minor": 0
}