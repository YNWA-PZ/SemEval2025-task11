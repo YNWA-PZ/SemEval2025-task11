{
 "cells": [
  {
   "cell_type": "raw",
   "metadata": {
    "id": "xFuwgl6FOZmx"
   },
   "source": [
    "import os\n",
    "\n",
    "os.environ['CUDA_LAUNCH_BLOCKING'] = \"1\"\n",
    "\n",
    "os.environ['WANDB_DISABLED'] = \"true\""
   ]
  },
  {
   "cell_type": "code",
   "execution_count": 1,
   "metadata": {
    "colab": {
     "base_uri": "https://localhost:8080/"
    },
    "execution": {
     "iopub.execute_input": "2025-01-05T19:15:21.336921Z",
     "iopub.status.busy": "2025-01-05T19:15:21.336601Z",
     "iopub.status.idle": "2025-01-05T19:15:28.642730Z",
     "shell.execute_reply": "2025-01-05T19:15:28.641846Z",
     "shell.execute_reply.started": "2025-01-05T19:15:21.336883Z"
    },
    "id": "jiRg5MiCozSJ",
    "outputId": "82ae27cc-3b0b-4670-955b-4a42c61a1dcb",
    "trusted": true
   },
   "outputs": [
    {
     "name": "stdout",
     "output_type": "stream",
     "text": [
      "Downloading...\n",
      "From: https://drive.google.com/uc?id=1EI12smTmdi4Mlu_lLNULN6p6g9dYEWql\n",
      "To: /kaggle/working/processed_data.zip\n",
      "100%|██████████████████████████████████████| 5.62M/5.62M [00:00<00:00, 8.61MB/s]\n"
     ]
    }
   ],
   "source": [
    "# !gdown 1qq5gDuEAqWnoviRBDYfbprLFD-MPQyNo\n",
    "# !gdown 1mq9CWT9MXsH1Y-ihxVL4uEzufQjpBoer\n",
    "!gdown 1EI12smTmdi4Mlu_lLNULN6p6g9dYEWql"
   ]
  },
  {
   "cell_type": "code",
   "execution_count": 2,
   "metadata": {
    "execution": {
     "iopub.execute_input": "2025-01-05T19:15:28.644379Z",
     "iopub.status.busy": "2025-01-05T19:15:28.644090Z",
     "iopub.status.idle": "2025-01-05T19:15:29.037021Z",
     "shell.execute_reply": "2025-01-05T19:15:29.035964Z",
     "shell.execute_reply.started": "2025-01-05T19:15:28.644356Z"
    },
    "id": "kexrENAEo54E",
    "trusted": true
   },
   "outputs": [],
   "source": [
    "!rm -rf processed_data\n",
    "\n",
    "!unzip -q processed_data.zip"
   ]
  },
  {
   "cell_type": "code",
   "execution_count": 3,
   "metadata": {
    "colab": {
     "base_uri": "https://localhost:8080/"
    },
    "execution": {
     "iopub.execute_input": "2025-01-05T19:15:29.038684Z",
     "iopub.status.busy": "2025-01-05T19:15:29.038337Z",
     "iopub.status.idle": "2025-01-05T19:16:03.984740Z",
     "shell.execute_reply": "2025-01-05T19:16:03.983693Z",
     "shell.execute_reply.started": "2025-01-05T19:15:29.038659Z"
    },
    "id": "VC2TifwamSFK",
    "outputId": "ffae7c64-f324-4dc6-9771-061e513ec7bc",
    "trusted": true
   },
   "outputs": [
    {
     "name": "stdout",
     "output_type": "stream",
     "text": [
      "\u001b[2K     \u001b[90m━━━━━━━━━━━━━━━━━━━━━━━━━━━━━━━━━━━━━━━━\u001b[0m \u001b[32m44.1/44.1 kB\u001b[0m \u001b[31m2.5 MB/s\u001b[0m eta \u001b[36m0:00:00\u001b[0m\n",
      "\u001b[2K   \u001b[90m━━━━━━━━━━━━━━━━━━━━━━━━━━━━━━━━━━━━━━━━\u001b[0m \u001b[32m336.4/336.4 kB\u001b[0m \u001b[31m21.0 MB/s\u001b[0m eta \u001b[36m0:00:00\u001b[0m\n",
      "\u001b[2K   \u001b[90m━━━━━━━━━━━━━━━━━━━━━━━━━━━━━━━━━━━━━━━━\u001b[0m \u001b[32m3.0/3.0 MB\u001b[0m \u001b[31m85.9 MB/s\u001b[0m eta \u001b[36m0:00:00\u001b[0m:00:01\u001b[0m\n",
      "\u001b[2K   \u001b[90m━━━━━━━━━━━━━━━━━━━━━━━━━━━━━━━━━━━━━━━━\u001b[0m \u001b[32m10.1/10.1 MB\u001b[0m \u001b[31m47.2 MB/s\u001b[0m eta \u001b[36m0:00:00\u001b[0m00:01\u001b[0m0:01\u001b[0m\n",
      "\u001b[2K   \u001b[90m━━━━━━━━━━━━━━━━━━━━━━━━━━━━━━━━━━━━━━━━\u001b[0m \u001b[32m23.5/23.5 MB\u001b[0m \u001b[31m29.9 MB/s\u001b[0m eta \u001b[36m0:00:00\u001b[0m:00:01\u001b[0m00:01\u001b[0m\n",
      "\u001b[2K   \u001b[90m━━━━━━━━━━━━━━━━━━━━━━━━━━━━━━━━━━━━━━━━\u001b[0m \u001b[32m424.1/424.1 kB\u001b[0m \u001b[31m27.8 MB/s\u001b[0m eta \u001b[36m0:00:00\u001b[0m\n",
      "\u001b[2K   \u001b[90m━━━━━━━━━━━━━━━━━━━━━━━━━━━━━━━━━━━━━━━━\u001b[0m \u001b[32m69.1/69.1 MB\u001b[0m \u001b[31m25.3 MB/s\u001b[0m eta \u001b[36m0:00:00\u001b[0m:00:01\u001b[0m00:01\u001b[0m\n",
      "\u001b[2K   \u001b[90m━━━━━━━━━━━━━━━━━━━━━━━━━━━━━━━━━━━━━━━━\u001b[0m \u001b[32m374.8/374.8 kB\u001b[0m \u001b[31m24.5 MB/s\u001b[0m eta \u001b[36m0:00:00\u001b[0m\n",
      "\u001b[2K   \u001b[90m━━━━━━━━━━━━━━━━━━━━━━━━━━━━━━━━━━━━━━━━\u001b[0m \u001b[32m450.5/450.5 kB\u001b[0m \u001b[31m30.8 MB/s\u001b[0m eta \u001b[36m0:00:00\u001b[0m\n",
      "\u001b[2K   \u001b[90m━━━━━━━━━━━━━━━━━━━━━━━━━━━━━━━━━━━━━━━━\u001b[0m \u001b[32m46.0/46.0 kB\u001b[0m \u001b[31m3.3 MB/s\u001b[0m eta \u001b[36m0:00:00\u001b[0m\n",
      "\u001b[2K   \u001b[90m━━━━━━━━━━━━━━━━━━━━━━━━━━━━━━━━━━━━━━━━\u001b[0m \u001b[32m13.2/13.2 MB\u001b[0m \u001b[31m111.0 MB/s\u001b[0m eta \u001b[36m0:00:00\u001b[0m00:01\u001b[0m0:01\u001b[0m\n",
      "\u001b[2K   \u001b[90m━━━━━━━━━━━━━━━━━━━━━━━━━━━━━━━━━━━━━━━━\u001b[0m \u001b[32m86.8/86.8 kB\u001b[0m \u001b[31m8.1 MB/s\u001b[0m eta \u001b[36m0:00:00\u001b[0m\n",
      "\u001b[?25h"
     ]
    }
   ],
   "source": [
    "!pip install -q transformers[torch] accelerate -U\n",
    "\n",
    "!pip install -q datasets\n",
    "\n",
    "!pip install -q transformers\n",
    "\n",
    "!pip install -q iterative-stratification\n",
    "\n",
    "!pip install -q auto-gptq optimum bitsandbytes"
   ]
  },
  {
   "cell_type": "code",
   "execution_count": 4,
   "metadata": {
    "execution": {
     "iopub.execute_input": "2025-01-05T19:16:03.986156Z",
     "iopub.status.busy": "2025-01-05T19:16:03.985858Z",
     "iopub.status.idle": "2025-01-05T19:16:17.769314Z",
     "shell.execute_reply": "2025-01-05T19:16:17.768671Z",
     "shell.execute_reply.started": "2025-01-05T19:16:03.986133Z"
    },
    "id": "a_v9ZQjVoIma",
    "trusted": true
   },
   "outputs": [],
   "source": [
    "import numpy as np\n",
    "\n",
    "import pandas as pd\n",
    "\n",
    "import os\n",
    "\n",
    "from os import path\n",
    "\n",
    "import glob\n",
    "\n",
    "from tqdm.notebook import tqdm\n",
    "\n",
    "from tqdm import tqdm\n",
    "\n",
    "import string\n",
    "\n",
    "import copy\n",
    "\n",
    "from transformers import AutoTokenizer, AutoModelForSequenceClassification, TrainingArguments, Trainer,IntervalStrategy,BitsAndBytesConfig\n",
    "\n",
    "from datasets import Dataset,load_dataset, DatasetDict\n",
    "\n",
    "# from iterstrat.ml_stratifiers import MultilabelStratifiedKFold\n",
    "\n",
    "from sklearn.metrics import confusion_matrix, ConfusionMatrixDisplay\n",
    "\n",
    "\n",
    "\n",
    "from sklearn.model_selection import train_test_split,KFold\n",
    "\n",
    "from sklearn.metrics import classification_report,accuracy_score, f1_score\n",
    "\n",
    "from sklearn.metrics import precision_recall_fscore_support\n",
    "\n",
    "from sklearn.utils import shuffle\n",
    "\n",
    "from sklearn.preprocessing import LabelEncoder\n",
    "\n",
    "from scipy.special import expit\n",
    "\n",
    "from peft import prepare_model_for_kbit_training\n",
    "\n",
    "from peft import LoraConfig, get_peft_model,PeftModel\n"
   ]
  },
  {
   "cell_type": "code",
   "execution_count": 5,
   "metadata": {
    "execution": {
     "iopub.execute_input": "2025-01-05T19:16:17.770536Z",
     "iopub.status.busy": "2025-01-05T19:16:17.770048Z",
     "iopub.status.idle": "2025-01-05T19:16:17.773985Z",
     "shell.execute_reply": "2025-01-05T19:16:17.773122Z",
     "shell.execute_reply.started": "2025-01-05T19:16:17.770512Z"
    },
    "id": "BN44kbQ4ocG2",
    "trusted": true
   },
   "outputs": [],
   "source": [
    "import torch\n",
    "\n",
    "import torch.nn as nn\n",
    "\n",
    "import torch.nn.functional as F"
   ]
  },
  {
   "cell_type": "code",
   "execution_count": 6,
   "metadata": {
    "execution": {
     "iopub.execute_input": "2025-01-05T19:16:17.777241Z",
     "iopub.status.busy": "2025-01-05T19:16:17.776925Z",
     "iopub.status.idle": "2025-01-05T19:16:17.791835Z",
     "shell.execute_reply": "2025-01-05T19:16:17.790818Z",
     "shell.execute_reply.started": "2025-01-05T19:16:17.777202Z"
    },
    "id": "Ugv0OfRImSin",
    "trusted": true
   },
   "outputs": [],
   "source": [
    "\n",
    "\n",
    "models_list_3=[\n",
    "        \"FacebookAI/xlm-roberta-large\",\n",
    "      # \"google-bert/bert-base-uncased\",\n",
    "\n",
    "#      \"google-bert/bert-base-multilingual-uncased\",\n",
    "\n",
    "          ]\n",
    "\n",
    "\n",
    "\n",
    "models_name_3=[\n",
    "\"FacebookAI/xlm-roberta-large\",\n",
    "# \"google-bert/bert-base-uncased\",\n",
    "\n",
    "# \"bert\",\n",
    "\n",
    "]\n"
   ]
  },
  {
   "cell_type": "code",
   "execution_count": 7,
   "metadata": {
    "execution": {
     "iopub.execute_input": "2025-01-05T19:16:17.794172Z",
     "iopub.status.busy": "2025-01-05T19:16:17.793838Z",
     "iopub.status.idle": "2025-01-05T19:16:17.808123Z",
     "shell.execute_reply": "2025-01-05T19:16:17.807421Z",
     "shell.execute_reply.started": "2025-01-05T19:16:17.794136Z"
    },
    "id": "1kwye6PzpT4N",
    "trusted": true
   },
   "outputs": [],
   "source": [
    "kind=\"train\"\n",
    "\n",
    "task=\"track_a\"\n",
    "\n",
    "# langs=[\"afr\",\"amh\",\"deu\",\"eng\",\"oro\",\"ptbr\",\"rus\",\"som\",\"sum\",\"tir\"]\n",
    "# labels=['Anger','Disgust', 'Fear', 'Joy', 'Sadness', 'Surprise']\n",
    "langs=[\"amh\",\"arq\",\"ary\",\"chn\",\"deu\",\"esp\",\"hau\",\"hin\",\"ibo\",\"kin\",\"mar\",\"orm\",\"pcm\",\"ptbr\",\"ptmz\",\"ron\",\"rus\",\"som\",\"sun\",\"swa\",\"swe\",\"tat\",\"tir\",\"ukr\",\"vmw\",\"yor\",\"ind\",\"jav\",\"xho\",\"zul\"]\n",
    "# langs=[\"eng\"]\n",
    "# langs=[\"afr\"]\n",
    "\n",
    "\n",
    "# processed_path=f\"processed_data/{kinds[0]}/{tasks[0]}/{langs[3]}.csv\"\n",
    "\n",
    "\n",
    "\n",
    "# train_data=pd.read_csv(processed_path)\n"
   ]
  },
  {
   "cell_type": "code",
   "execution_count": 8,
   "metadata": {
    "colab": {
     "base_uri": "https://localhost:8080/"
    },
    "execution": {
     "iopub.execute_input": "2025-01-05T19:16:17.809100Z",
     "iopub.status.busy": "2025-01-05T19:16:17.808821Z",
     "iopub.status.idle": "2025-01-05T19:16:17.843638Z",
     "shell.execute_reply": "2025-01-05T19:16:17.842877Z",
     "shell.execute_reply.started": "2025-01-05T19:16:17.809071Z"
    },
    "id": "1x0MboqJuj21",
    "outputId": "ca6e68ee-4576-453e-d984-00d41384507e",
    "trusted": true
   },
   "outputs": [],
   "source": [
    "all_csv=pd.DataFrame()\n",
    "\n",
    "for lang in langs:\n",
    "\n",
    "    processed_path=f\"processed_data/{kind}/{task}/{lang}.csv\"\n",
    "    # if kind==\"dev\":\n",
    "    #    processed_path=processed_path.replace(lang,lang+task[-2:])\n",
    "    if not os.path.isfile(processed_path):\n",
    "\n",
    "      print(\"not found:\",processed_path)\n",
    "\n",
    "      continue\n",
    "    train_data=pd.read_csv(processed_path)\n",
    "\n",
    "    train_data.columns = train_data.columns.str.lower()\n",
    "\n",
    "    all_csv = pd.concat([all_csv, train_data],ignore_index=True)\n",
    "\n",
    "\n"
   ]
  },
  {
   "cell_type": "code",
   "execution_count": 9,
   "metadata": {
    "colab": {
     "base_uri": "https://localhost:8080/",
     "height": 423
    },
    "execution": {
     "iopub.execute_input": "2025-01-05T19:16:17.844719Z",
     "iopub.status.busy": "2025-01-05T19:16:17.844383Z",
     "iopub.status.idle": "2025-01-05T19:16:17.866655Z",
     "shell.execute_reply": "2025-01-05T19:16:17.866024Z",
     "shell.execute_reply.started": "2025-01-05T19:16:17.844693Z"
    },
    "id": "owuvojrICn5c",
    "outputId": "e97a2c94-d936-4426-d03f-335583239e40",
    "trusted": true
   },
   "outputs": [
    {
     "data": {
      "text/html": [
       "<div>\n",
       "<style scoped>\n",
       "    .dataframe tbody tr th:only-of-type {\n",
       "        vertical-align: middle;\n",
       "    }\n",
       "\n",
       "    .dataframe tbody tr th {\n",
       "        vertical-align: top;\n",
       "    }\n",
       "\n",
       "    .dataframe thead th {\n",
       "        text-align: right;\n",
       "    }\n",
       "</style>\n",
       "<table border=\"1\" class=\"dataframe\">\n",
       "  <thead>\n",
       "    <tr style=\"text-align: right;\">\n",
       "      <th></th>\n",
       "      <th>id</th>\n",
       "      <th>anger</th>\n",
       "      <th>fear</th>\n",
       "      <th>joy</th>\n",
       "      <th>sadness</th>\n",
       "      <th>surprise</th>\n",
       "      <th>lang</th>\n",
       "      <th>clean_message</th>\n",
       "    </tr>\n",
       "  </thead>\n",
       "  <tbody>\n",
       "    <tr>\n",
       "      <th>0</th>\n",
       "      <td>eng_train_track_a_00001</td>\n",
       "      <td>0</td>\n",
       "      <td>1</td>\n",
       "      <td>0</td>\n",
       "      <td>0</td>\n",
       "      <td>1</td>\n",
       "      <td>eng</td>\n",
       "      <td>colorado middle of nowhere</td>\n",
       "    </tr>\n",
       "    <tr>\n",
       "      <th>1</th>\n",
       "      <td>eng_train_track_a_00002</td>\n",
       "      <td>0</td>\n",
       "      <td>1</td>\n",
       "      <td>0</td>\n",
       "      <td>0</td>\n",
       "      <td>0</td>\n",
       "      <td>eng</td>\n",
       "      <td>this involved swimming a pretty large lake tha...</td>\n",
       "    </tr>\n",
       "    <tr>\n",
       "      <th>2</th>\n",
       "      <td>eng_train_track_a_00003</td>\n",
       "      <td>0</td>\n",
       "      <td>1</td>\n",
       "      <td>0</td>\n",
       "      <td>1</td>\n",
       "      <td>0</td>\n",
       "      <td>eng</td>\n",
       "      <td>it was one of my most shameful experiences</td>\n",
       "    </tr>\n",
       "    <tr>\n",
       "      <th>3</th>\n",
       "      <td>eng_train_track_a_00004</td>\n",
       "      <td>0</td>\n",
       "      <td>0</td>\n",
       "      <td>0</td>\n",
       "      <td>0</td>\n",
       "      <td>0</td>\n",
       "      <td>eng</td>\n",
       "      <td>after all i had vegetables coming out my ears ...</td>\n",
       "    </tr>\n",
       "    <tr>\n",
       "      <th>4</th>\n",
       "      <td>eng_train_track_a_00005</td>\n",
       "      <td>0</td>\n",
       "      <td>1</td>\n",
       "      <td>0</td>\n",
       "      <td>1</td>\n",
       "      <td>1</td>\n",
       "      <td>eng</td>\n",
       "      <td>then the screaming started</td>\n",
       "    </tr>\n",
       "    <tr>\n",
       "      <th>...</th>\n",
       "      <td>...</td>\n",
       "      <td>...</td>\n",
       "      <td>...</td>\n",
       "      <td>...</td>\n",
       "      <td>...</td>\n",
       "      <td>...</td>\n",
       "      <td>...</td>\n",
       "      <td>...</td>\n",
       "    </tr>\n",
       "    <tr>\n",
       "      <th>2763</th>\n",
       "      <td>eng_train_track_a_02764</td>\n",
       "      <td>0</td>\n",
       "      <td>0</td>\n",
       "      <td>1</td>\n",
       "      <td>0</td>\n",
       "      <td>1</td>\n",
       "      <td>eng</td>\n",
       "      <td>she cants her hip against my waist into my sid...</td>\n",
       "    </tr>\n",
       "    <tr>\n",
       "      <th>2764</th>\n",
       "      <td>eng_train_track_a_02765</td>\n",
       "      <td>0</td>\n",
       "      <td>0</td>\n",
       "      <td>0</td>\n",
       "      <td>0</td>\n",
       "      <td>0</td>\n",
       "      <td>eng</td>\n",
       "      <td>i then did the dishes whitened my teeth watche...</td>\n",
       "    </tr>\n",
       "    <tr>\n",
       "      <th>2765</th>\n",
       "      <td>eng_train_track_a_02766</td>\n",
       "      <td>0</td>\n",
       "      <td>0</td>\n",
       "      <td>0</td>\n",
       "      <td>0</td>\n",
       "      <td>1</td>\n",
       "      <td>eng</td>\n",
       "      <td>it just kind of gradually vanished over a coup...</td>\n",
       "    </tr>\n",
       "    <tr>\n",
       "      <th>2766</th>\n",
       "      <td>eng_train_track_a_02767</td>\n",
       "      <td>0</td>\n",
       "      <td>1</td>\n",
       "      <td>0</td>\n",
       "      <td>0</td>\n",
       "      <td>0</td>\n",
       "      <td>eng</td>\n",
       "      <td>i didnt look out of my hands</td>\n",
       "    </tr>\n",
       "    <tr>\n",
       "      <th>2767</th>\n",
       "      <td>eng_train_track_a_02768</td>\n",
       "      <td>1</td>\n",
       "      <td>0</td>\n",
       "      <td>0</td>\n",
       "      <td>0</td>\n",
       "      <td>0</td>\n",
       "      <td>eng</td>\n",
       "      <td>`` im fine amanda said forcefully shrugging of...</td>\n",
       "    </tr>\n",
       "  </tbody>\n",
       "</table>\n",
       "<p>2768 rows × 8 columns</p>\n",
       "</div>"
      ],
      "text/plain": [
       "                           id  anger  fear  joy  sadness  surprise lang  \\\n",
       "0     eng_train_track_a_00001      0     1    0        0         1  eng   \n",
       "1     eng_train_track_a_00002      0     1    0        0         0  eng   \n",
       "2     eng_train_track_a_00003      0     1    0        1         0  eng   \n",
       "3     eng_train_track_a_00004      0     0    0        0         0  eng   \n",
       "4     eng_train_track_a_00005      0     1    0        1         1  eng   \n",
       "...                       ...    ...   ...  ...      ...       ...  ...   \n",
       "2763  eng_train_track_a_02764      0     0    1        0         1  eng   \n",
       "2764  eng_train_track_a_02765      0     0    0        0         0  eng   \n",
       "2765  eng_train_track_a_02766      0     0    0        0         1  eng   \n",
       "2766  eng_train_track_a_02767      0     1    0        0         0  eng   \n",
       "2767  eng_train_track_a_02768      1     0    0        0         0  eng   \n",
       "\n",
       "                                          clean_message  \n",
       "0                            colorado middle of nowhere  \n",
       "1     this involved swimming a pretty large lake tha...  \n",
       "2            it was one of my most shameful experiences  \n",
       "3     after all i had vegetables coming out my ears ...  \n",
       "4                            then the screaming started  \n",
       "...                                                 ...  \n",
       "2763  she cants her hip against my waist into my sid...  \n",
       "2764  i then did the dishes whitened my teeth watche...  \n",
       "2765  it just kind of gradually vanished over a coup...  \n",
       "2766                       i didnt look out of my hands  \n",
       "2767  `` im fine amanda said forcefully shrugging of...  \n",
       "\n",
       "[2768 rows x 8 columns]"
      ]
     },
     "execution_count": 9,
     "metadata": {},
     "output_type": "execute_result"
    }
   ],
   "source": [
    "all_csv"
   ]
  },
  {
   "cell_type": "code",
   "execution_count": 10,
   "metadata": {
    "colab": {
     "base_uri": "https://localhost:8080/",
     "height": 53
    },
    "execution": {
     "iopub.execute_input": "2025-01-05T19:16:17.867509Z",
     "iopub.status.busy": "2025-01-05T19:16:17.867295Z",
     "iopub.status.idle": "2025-01-05T19:16:17.878253Z",
     "shell.execute_reply": "2025-01-05T19:16:17.877433Z",
     "shell.execute_reply.started": "2025-01-05T19:16:17.867489Z"
    },
    "id": "zm9h2f0rBad4",
    "outputId": "9bd1a4c5-6dff-4fbb-8589-fdab9099b171",
    "trusted": true
   },
   "outputs": [
    {
     "data": {
      "text/html": [
       "<div>\n",
       "<style scoped>\n",
       "    .dataframe tbody tr th:only-of-type {\n",
       "        vertical-align: middle;\n",
       "    }\n",
       "\n",
       "    .dataframe tbody tr th {\n",
       "        vertical-align: top;\n",
       "    }\n",
       "\n",
       "    .dataframe thead th {\n",
       "        text-align: right;\n",
       "    }\n",
       "</style>\n",
       "<table border=\"1\" class=\"dataframe\">\n",
       "  <thead>\n",
       "    <tr style=\"text-align: right;\">\n",
       "      <th></th>\n",
       "      <th>id</th>\n",
       "      <th>anger</th>\n",
       "      <th>fear</th>\n",
       "      <th>joy</th>\n",
       "      <th>sadness</th>\n",
       "      <th>surprise</th>\n",
       "      <th>lang</th>\n",
       "      <th>clean_message</th>\n",
       "    </tr>\n",
       "  </thead>\n",
       "  <tbody>\n",
       "    <tr>\n",
       "      <th>0</th>\n",
       "      <td>eng_train_track_a_00001</td>\n",
       "      <td>0</td>\n",
       "      <td>1</td>\n",
       "      <td>0</td>\n",
       "      <td>0</td>\n",
       "      <td>1</td>\n",
       "      <td>eng</td>\n",
       "      <td>colorado middle of nowhere</td>\n",
       "    </tr>\n",
       "    <tr>\n",
       "      <th>1</th>\n",
       "      <td>eng_train_track_a_00002</td>\n",
       "      <td>0</td>\n",
       "      <td>1</td>\n",
       "      <td>0</td>\n",
       "      <td>0</td>\n",
       "      <td>0</td>\n",
       "      <td>eng</td>\n",
       "      <td>this involved swimming a pretty large lake tha...</td>\n",
       "    </tr>\n",
       "    <tr>\n",
       "      <th>2</th>\n",
       "      <td>eng_train_track_a_00003</td>\n",
       "      <td>0</td>\n",
       "      <td>1</td>\n",
       "      <td>0</td>\n",
       "      <td>1</td>\n",
       "      <td>0</td>\n",
       "      <td>eng</td>\n",
       "      <td>it was one of my most shameful experiences</td>\n",
       "    </tr>\n",
       "    <tr>\n",
       "      <th>3</th>\n",
       "      <td>eng_train_track_a_00004</td>\n",
       "      <td>0</td>\n",
       "      <td>0</td>\n",
       "      <td>0</td>\n",
       "      <td>0</td>\n",
       "      <td>0</td>\n",
       "      <td>eng</td>\n",
       "      <td>after all i had vegetables coming out my ears ...</td>\n",
       "    </tr>\n",
       "    <tr>\n",
       "      <th>4</th>\n",
       "      <td>eng_train_track_a_00005</td>\n",
       "      <td>0</td>\n",
       "      <td>1</td>\n",
       "      <td>0</td>\n",
       "      <td>1</td>\n",
       "      <td>1</td>\n",
       "      <td>eng</td>\n",
       "      <td>then the screaming started</td>\n",
       "    </tr>\n",
       "    <tr>\n",
       "      <th>...</th>\n",
       "      <td>...</td>\n",
       "      <td>...</td>\n",
       "      <td>...</td>\n",
       "      <td>...</td>\n",
       "      <td>...</td>\n",
       "      <td>...</td>\n",
       "      <td>...</td>\n",
       "      <td>...</td>\n",
       "    </tr>\n",
       "    <tr>\n",
       "      <th>2763</th>\n",
       "      <td>eng_train_track_a_02764</td>\n",
       "      <td>0</td>\n",
       "      <td>0</td>\n",
       "      <td>1</td>\n",
       "      <td>0</td>\n",
       "      <td>1</td>\n",
       "      <td>eng</td>\n",
       "      <td>she cants her hip against my waist into my sid...</td>\n",
       "    </tr>\n",
       "    <tr>\n",
       "      <th>2764</th>\n",
       "      <td>eng_train_track_a_02765</td>\n",
       "      <td>0</td>\n",
       "      <td>0</td>\n",
       "      <td>0</td>\n",
       "      <td>0</td>\n",
       "      <td>0</td>\n",
       "      <td>eng</td>\n",
       "      <td>i then did the dishes whitened my teeth watche...</td>\n",
       "    </tr>\n",
       "    <tr>\n",
       "      <th>2765</th>\n",
       "      <td>eng_train_track_a_02766</td>\n",
       "      <td>0</td>\n",
       "      <td>0</td>\n",
       "      <td>0</td>\n",
       "      <td>0</td>\n",
       "      <td>1</td>\n",
       "      <td>eng</td>\n",
       "      <td>it just kind of gradually vanished over a coup...</td>\n",
       "    </tr>\n",
       "    <tr>\n",
       "      <th>2766</th>\n",
       "      <td>eng_train_track_a_02767</td>\n",
       "      <td>0</td>\n",
       "      <td>1</td>\n",
       "      <td>0</td>\n",
       "      <td>0</td>\n",
       "      <td>0</td>\n",
       "      <td>eng</td>\n",
       "      <td>i didnt look out of my hands</td>\n",
       "    </tr>\n",
       "    <tr>\n",
       "      <th>2767</th>\n",
       "      <td>eng_train_track_a_02768</td>\n",
       "      <td>1</td>\n",
       "      <td>0</td>\n",
       "      <td>0</td>\n",
       "      <td>0</td>\n",
       "      <td>0</td>\n",
       "      <td>eng</td>\n",
       "      <td>`` im fine amanda said forcefully shrugging of...</td>\n",
       "    </tr>\n",
       "  </tbody>\n",
       "</table>\n",
       "<p>2768 rows × 8 columns</p>\n",
       "</div>"
      ],
      "text/plain": [
       "                           id  anger  fear  joy  sadness  surprise lang  \\\n",
       "0     eng_train_track_a_00001      0     1    0        0         1  eng   \n",
       "1     eng_train_track_a_00002      0     1    0        0         0  eng   \n",
       "2     eng_train_track_a_00003      0     1    0        1         0  eng   \n",
       "3     eng_train_track_a_00004      0     0    0        0         0  eng   \n",
       "4     eng_train_track_a_00005      0     1    0        1         1  eng   \n",
       "...                       ...    ...   ...  ...      ...       ...  ...   \n",
       "2763  eng_train_track_a_02764      0     0    1        0         1  eng   \n",
       "2764  eng_train_track_a_02765      0     0    0        0         0  eng   \n",
       "2765  eng_train_track_a_02766      0     0    0        0         1  eng   \n",
       "2766  eng_train_track_a_02767      0     1    0        0         0  eng   \n",
       "2767  eng_train_track_a_02768      1     0    0        0         0  eng   \n",
       "\n",
       "                                          clean_message  \n",
       "0                            colorado middle of nowhere  \n",
       "1     this involved swimming a pretty large lake tha...  \n",
       "2            it was one of my most shameful experiences  \n",
       "3     after all i had vegetables coming out my ears ...  \n",
       "4                            then the screaming started  \n",
       "...                                                 ...  \n",
       "2763  she cants her hip against my waist into my sid...  \n",
       "2764  i then did the dishes whitened my teeth watche...  \n",
       "2765  it just kind of gradually vanished over a coup...  \n",
       "2766                       i didnt look out of my hands  \n",
       "2767  `` im fine amanda said forcefully shrugging of...  \n",
       "\n",
       "[2768 rows x 8 columns]"
      ]
     },
     "execution_count": 10,
     "metadata": {},
     "output_type": "execute_result"
    }
   ],
   "source": [
    "all_csv[all_csv[\"lang\"]==\"eng\"]"
   ]
  },
  {
   "cell_type": "code",
   "execution_count": 11,
   "metadata": {
    "execution": {
     "iopub.execute_input": "2025-01-05T19:16:17.879112Z",
     "iopub.status.busy": "2025-01-05T19:16:17.878930Z",
     "iopub.status.idle": "2025-01-05T19:16:17.889798Z",
     "shell.execute_reply": "2025-01-05T19:16:17.889028Z",
     "shell.execute_reply.started": "2025-01-05T19:16:17.879096Z"
    },
    "id": "BDrtrsvCBad4",
    "trusted": true
   },
   "outputs": [],
   "source": [
    "# float_columns = all_csv.select_dtypes(include=['float64']).columns\n",
    "# # Check each column and convert only if there are no NaN values\n",
    "# for col in float_columns:\n",
    "#     if all_csv[col].isna().sum() == 0:  # No NaN values in the column\n",
    "#         print(f\"converting {kind} {task} {lang} column {col} to int\")\n",
    "#         all_csv[col] = all_csv[col].astype('int')\n",
    "#     else:\n",
    "#         print(f\"converting {kind} {task} {lang} column {col} to int\")"
   ]
  },
  {
   "cell_type": "code",
   "execution_count": 12,
   "metadata": {
    "execution": {
     "iopub.execute_input": "2025-01-05T19:16:17.890902Z",
     "iopub.status.busy": "2025-01-05T19:16:17.890614Z",
     "iopub.status.idle": "2025-01-05T19:16:17.900899Z",
     "shell.execute_reply": "2025-01-05T19:16:17.900153Z",
     "shell.execute_reply.started": "2025-01-05T19:16:17.890867Z"
    },
    "id": "zITfHiVrBad5",
    "trusted": true
   },
   "outputs": [],
   "source": [
    "train_data=all_csv\n"
   ]
  },
  {
   "cell_type": "code",
   "execution_count": 13,
   "metadata": {
    "execution": {
     "iopub.execute_input": "2025-01-05T19:16:17.901988Z",
     "iopub.status.busy": "2025-01-05T19:16:17.901701Z",
     "iopub.status.idle": "2025-01-05T19:16:17.911516Z",
     "shell.execute_reply": "2025-01-05T19:16:17.910780Z",
     "shell.execute_reply.started": "2025-01-05T19:16:17.901960Z"
    },
    "id": "kN_EpabwBad5",
    "trusted": true
   },
   "outputs": [],
   "source": [
    "# train_data = train_data.drop(columns=['disgust'],axis=1)\n"
   ]
  },
  {
   "cell_type": "code",
   "execution_count": 14,
   "metadata": {
    "colab": {
     "base_uri": "https://localhost:8080/",
     "height": 423
    },
    "execution": {
     "iopub.execute_input": "2025-01-05T19:16:17.912630Z",
     "iopub.status.busy": "2025-01-05T19:16:17.912355Z",
     "iopub.status.idle": "2025-01-05T19:16:17.929266Z",
     "shell.execute_reply": "2025-01-05T19:16:17.928527Z",
     "shell.execute_reply.started": "2025-01-05T19:16:17.912598Z"
    },
    "id": "7a-08HGownlu",
    "outputId": "43b94e4b-275c-41ab-a91b-4baf7cc028c7",
    "trusted": true
   },
   "outputs": [
    {
     "data": {
      "text/html": [
       "<div>\n",
       "<style scoped>\n",
       "    .dataframe tbody tr th:only-of-type {\n",
       "        vertical-align: middle;\n",
       "    }\n",
       "\n",
       "    .dataframe tbody tr th {\n",
       "        vertical-align: top;\n",
       "    }\n",
       "\n",
       "    .dataframe thead th {\n",
       "        text-align: right;\n",
       "    }\n",
       "</style>\n",
       "<table border=\"1\" class=\"dataframe\">\n",
       "  <thead>\n",
       "    <tr style=\"text-align: right;\">\n",
       "      <th></th>\n",
       "      <th>id</th>\n",
       "      <th>anger</th>\n",
       "      <th>fear</th>\n",
       "      <th>joy</th>\n",
       "      <th>sadness</th>\n",
       "      <th>surprise</th>\n",
       "      <th>lang</th>\n",
       "      <th>clean_message</th>\n",
       "    </tr>\n",
       "  </thead>\n",
       "  <tbody>\n",
       "    <tr>\n",
       "      <th>0</th>\n",
       "      <td>eng_train_track_a_00001</td>\n",
       "      <td>0</td>\n",
       "      <td>1</td>\n",
       "      <td>0</td>\n",
       "      <td>0</td>\n",
       "      <td>1</td>\n",
       "      <td>eng</td>\n",
       "      <td>colorado middle of nowhere</td>\n",
       "    </tr>\n",
       "    <tr>\n",
       "      <th>1</th>\n",
       "      <td>eng_train_track_a_00002</td>\n",
       "      <td>0</td>\n",
       "      <td>1</td>\n",
       "      <td>0</td>\n",
       "      <td>0</td>\n",
       "      <td>0</td>\n",
       "      <td>eng</td>\n",
       "      <td>this involved swimming a pretty large lake tha...</td>\n",
       "    </tr>\n",
       "    <tr>\n",
       "      <th>2</th>\n",
       "      <td>eng_train_track_a_00003</td>\n",
       "      <td>0</td>\n",
       "      <td>1</td>\n",
       "      <td>0</td>\n",
       "      <td>1</td>\n",
       "      <td>0</td>\n",
       "      <td>eng</td>\n",
       "      <td>it was one of my most shameful experiences</td>\n",
       "    </tr>\n",
       "    <tr>\n",
       "      <th>3</th>\n",
       "      <td>eng_train_track_a_00004</td>\n",
       "      <td>0</td>\n",
       "      <td>0</td>\n",
       "      <td>0</td>\n",
       "      <td>0</td>\n",
       "      <td>0</td>\n",
       "      <td>eng</td>\n",
       "      <td>after all i had vegetables coming out my ears ...</td>\n",
       "    </tr>\n",
       "    <tr>\n",
       "      <th>4</th>\n",
       "      <td>eng_train_track_a_00005</td>\n",
       "      <td>0</td>\n",
       "      <td>1</td>\n",
       "      <td>0</td>\n",
       "      <td>1</td>\n",
       "      <td>1</td>\n",
       "      <td>eng</td>\n",
       "      <td>then the screaming started</td>\n",
       "    </tr>\n",
       "    <tr>\n",
       "      <th>...</th>\n",
       "      <td>...</td>\n",
       "      <td>...</td>\n",
       "      <td>...</td>\n",
       "      <td>...</td>\n",
       "      <td>...</td>\n",
       "      <td>...</td>\n",
       "      <td>...</td>\n",
       "      <td>...</td>\n",
       "    </tr>\n",
       "    <tr>\n",
       "      <th>2763</th>\n",
       "      <td>eng_train_track_a_02764</td>\n",
       "      <td>0</td>\n",
       "      <td>0</td>\n",
       "      <td>1</td>\n",
       "      <td>0</td>\n",
       "      <td>1</td>\n",
       "      <td>eng</td>\n",
       "      <td>she cants her hip against my waist into my sid...</td>\n",
       "    </tr>\n",
       "    <tr>\n",
       "      <th>2764</th>\n",
       "      <td>eng_train_track_a_02765</td>\n",
       "      <td>0</td>\n",
       "      <td>0</td>\n",
       "      <td>0</td>\n",
       "      <td>0</td>\n",
       "      <td>0</td>\n",
       "      <td>eng</td>\n",
       "      <td>i then did the dishes whitened my teeth watche...</td>\n",
       "    </tr>\n",
       "    <tr>\n",
       "      <th>2765</th>\n",
       "      <td>eng_train_track_a_02766</td>\n",
       "      <td>0</td>\n",
       "      <td>0</td>\n",
       "      <td>0</td>\n",
       "      <td>0</td>\n",
       "      <td>1</td>\n",
       "      <td>eng</td>\n",
       "      <td>it just kind of gradually vanished over a coup...</td>\n",
       "    </tr>\n",
       "    <tr>\n",
       "      <th>2766</th>\n",
       "      <td>eng_train_track_a_02767</td>\n",
       "      <td>0</td>\n",
       "      <td>1</td>\n",
       "      <td>0</td>\n",
       "      <td>0</td>\n",
       "      <td>0</td>\n",
       "      <td>eng</td>\n",
       "      <td>i didnt look out of my hands</td>\n",
       "    </tr>\n",
       "    <tr>\n",
       "      <th>2767</th>\n",
       "      <td>eng_train_track_a_02768</td>\n",
       "      <td>1</td>\n",
       "      <td>0</td>\n",
       "      <td>0</td>\n",
       "      <td>0</td>\n",
       "      <td>0</td>\n",
       "      <td>eng</td>\n",
       "      <td>`` im fine amanda said forcefully shrugging of...</td>\n",
       "    </tr>\n",
       "  </tbody>\n",
       "</table>\n",
       "<p>2768 rows × 8 columns</p>\n",
       "</div>"
      ],
      "text/plain": [
       "                           id  anger  fear  joy  sadness  surprise lang  \\\n",
       "0     eng_train_track_a_00001      0     1    0        0         1  eng   \n",
       "1     eng_train_track_a_00002      0     1    0        0         0  eng   \n",
       "2     eng_train_track_a_00003      0     1    0        1         0  eng   \n",
       "3     eng_train_track_a_00004      0     0    0        0         0  eng   \n",
       "4     eng_train_track_a_00005      0     1    0        1         1  eng   \n",
       "...                       ...    ...   ...  ...      ...       ...  ...   \n",
       "2763  eng_train_track_a_02764      0     0    1        0         1  eng   \n",
       "2764  eng_train_track_a_02765      0     0    0        0         0  eng   \n",
       "2765  eng_train_track_a_02766      0     0    0        0         1  eng   \n",
       "2766  eng_train_track_a_02767      0     1    0        0         0  eng   \n",
       "2767  eng_train_track_a_02768      1     0    0        0         0  eng   \n",
       "\n",
       "                                          clean_message  \n",
       "0                            colorado middle of nowhere  \n",
       "1     this involved swimming a pretty large lake tha...  \n",
       "2            it was one of my most shameful experiences  \n",
       "3     after all i had vegetables coming out my ears ...  \n",
       "4                            then the screaming started  \n",
       "...                                                 ...  \n",
       "2763  she cants her hip against my waist into my sid...  \n",
       "2764  i then did the dishes whitened my teeth watche...  \n",
       "2765  it just kind of gradually vanished over a coup...  \n",
       "2766                       i didnt look out of my hands  \n",
       "2767  `` im fine amanda said forcefully shrugging of...  \n",
       "\n",
       "[2768 rows x 8 columns]"
      ]
     },
     "execution_count": 14,
     "metadata": {},
     "output_type": "execute_result"
    }
   ],
   "source": [
    "\n",
    "train_data=train_data.fillna(0)\n",
    "\n",
    "train_data"
   ]
  },
  {
   "cell_type": "code",
   "execution_count": 15,
   "metadata": {
    "colab": {
     "base_uri": "https://localhost:8080/",
     "height": 423
    },
    "execution": {
     "iopub.execute_input": "2025-01-05T19:16:17.930200Z",
     "iopub.status.busy": "2025-01-05T19:16:17.930010Z",
     "iopub.status.idle": "2025-01-05T19:16:17.952285Z",
     "shell.execute_reply": "2025-01-05T19:16:17.951380Z",
     "shell.execute_reply.started": "2025-01-05T19:16:17.930173Z"
    },
    "id": "wWyOiTLLBad5",
    "outputId": "9d77a8d0-39be-4fdb-e7fc-49fbe980ebd9",
    "trusted": true
   },
   "outputs": [
    {
     "data": {
      "text/html": [
       "<div>\n",
       "<style scoped>\n",
       "    .dataframe tbody tr th:only-of-type {\n",
       "        vertical-align: middle;\n",
       "    }\n",
       "\n",
       "    .dataframe tbody tr th {\n",
       "        vertical-align: top;\n",
       "    }\n",
       "\n",
       "    .dataframe thead th {\n",
       "        text-align: right;\n",
       "    }\n",
       "</style>\n",
       "<table border=\"1\" class=\"dataframe\">\n",
       "  <thead>\n",
       "    <tr style=\"text-align: right;\">\n",
       "      <th></th>\n",
       "      <th>id</th>\n",
       "      <th>anger</th>\n",
       "      <th>fear</th>\n",
       "      <th>joy</th>\n",
       "      <th>sadness</th>\n",
       "      <th>surprise</th>\n",
       "      <th>lang</th>\n",
       "      <th>clean_message</th>\n",
       "    </tr>\n",
       "  </thead>\n",
       "  <tbody>\n",
       "    <tr>\n",
       "      <th>0</th>\n",
       "      <td>eng_train_track_a_00001</td>\n",
       "      <td>0</td>\n",
       "      <td>1</td>\n",
       "      <td>0</td>\n",
       "      <td>0</td>\n",
       "      <td>1</td>\n",
       "      <td>eng</td>\n",
       "      <td>colorado middle of nowhere</td>\n",
       "    </tr>\n",
       "    <tr>\n",
       "      <th>1</th>\n",
       "      <td>eng_train_track_a_00002</td>\n",
       "      <td>0</td>\n",
       "      <td>1</td>\n",
       "      <td>0</td>\n",
       "      <td>0</td>\n",
       "      <td>0</td>\n",
       "      <td>eng</td>\n",
       "      <td>this involved swimming a pretty large lake tha...</td>\n",
       "    </tr>\n",
       "    <tr>\n",
       "      <th>2</th>\n",
       "      <td>eng_train_track_a_00003</td>\n",
       "      <td>0</td>\n",
       "      <td>1</td>\n",
       "      <td>0</td>\n",
       "      <td>1</td>\n",
       "      <td>0</td>\n",
       "      <td>eng</td>\n",
       "      <td>it was one of my most shameful experiences</td>\n",
       "    </tr>\n",
       "    <tr>\n",
       "      <th>3</th>\n",
       "      <td>eng_train_track_a_00004</td>\n",
       "      <td>0</td>\n",
       "      <td>0</td>\n",
       "      <td>0</td>\n",
       "      <td>0</td>\n",
       "      <td>0</td>\n",
       "      <td>eng</td>\n",
       "      <td>after all i had vegetables coming out my ears ...</td>\n",
       "    </tr>\n",
       "    <tr>\n",
       "      <th>4</th>\n",
       "      <td>eng_train_track_a_00005</td>\n",
       "      <td>0</td>\n",
       "      <td>1</td>\n",
       "      <td>0</td>\n",
       "      <td>1</td>\n",
       "      <td>1</td>\n",
       "      <td>eng</td>\n",
       "      <td>then the screaming started</td>\n",
       "    </tr>\n",
       "    <tr>\n",
       "      <th>...</th>\n",
       "      <td>...</td>\n",
       "      <td>...</td>\n",
       "      <td>...</td>\n",
       "      <td>...</td>\n",
       "      <td>...</td>\n",
       "      <td>...</td>\n",
       "      <td>...</td>\n",
       "      <td>...</td>\n",
       "    </tr>\n",
       "    <tr>\n",
       "      <th>2763</th>\n",
       "      <td>eng_train_track_a_02764</td>\n",
       "      <td>0</td>\n",
       "      <td>0</td>\n",
       "      <td>1</td>\n",
       "      <td>0</td>\n",
       "      <td>1</td>\n",
       "      <td>eng</td>\n",
       "      <td>she cants her hip against my waist into my sid...</td>\n",
       "    </tr>\n",
       "    <tr>\n",
       "      <th>2764</th>\n",
       "      <td>eng_train_track_a_02765</td>\n",
       "      <td>0</td>\n",
       "      <td>0</td>\n",
       "      <td>0</td>\n",
       "      <td>0</td>\n",
       "      <td>0</td>\n",
       "      <td>eng</td>\n",
       "      <td>i then did the dishes whitened my teeth watche...</td>\n",
       "    </tr>\n",
       "    <tr>\n",
       "      <th>2765</th>\n",
       "      <td>eng_train_track_a_02766</td>\n",
       "      <td>0</td>\n",
       "      <td>0</td>\n",
       "      <td>0</td>\n",
       "      <td>0</td>\n",
       "      <td>1</td>\n",
       "      <td>eng</td>\n",
       "      <td>it just kind of gradually vanished over a coup...</td>\n",
       "    </tr>\n",
       "    <tr>\n",
       "      <th>2766</th>\n",
       "      <td>eng_train_track_a_02767</td>\n",
       "      <td>0</td>\n",
       "      <td>1</td>\n",
       "      <td>0</td>\n",
       "      <td>0</td>\n",
       "      <td>0</td>\n",
       "      <td>eng</td>\n",
       "      <td>i didnt look out of my hands</td>\n",
       "    </tr>\n",
       "    <tr>\n",
       "      <th>2767</th>\n",
       "      <td>eng_train_track_a_02768</td>\n",
       "      <td>1</td>\n",
       "      <td>0</td>\n",
       "      <td>0</td>\n",
       "      <td>0</td>\n",
       "      <td>0</td>\n",
       "      <td>eng</td>\n",
       "      <td>`` im fine amanda said forcefully shrugging of...</td>\n",
       "    </tr>\n",
       "  </tbody>\n",
       "</table>\n",
       "<p>2768 rows × 8 columns</p>\n",
       "</div>"
      ],
      "text/plain": [
       "                           id  anger  fear  joy  sadness  surprise lang  \\\n",
       "0     eng_train_track_a_00001      0     1    0        0         1  eng   \n",
       "1     eng_train_track_a_00002      0     1    0        0         0  eng   \n",
       "2     eng_train_track_a_00003      0     1    0        1         0  eng   \n",
       "3     eng_train_track_a_00004      0     0    0        0         0  eng   \n",
       "4     eng_train_track_a_00005      0     1    0        1         1  eng   \n",
       "...                       ...    ...   ...  ...      ...       ...  ...   \n",
       "2763  eng_train_track_a_02764      0     0    1        0         1  eng   \n",
       "2764  eng_train_track_a_02765      0     0    0        0         0  eng   \n",
       "2765  eng_train_track_a_02766      0     0    0        0         1  eng   \n",
       "2766  eng_train_track_a_02767      0     1    0        0         0  eng   \n",
       "2767  eng_train_track_a_02768      1     0    0        0         0  eng   \n",
       "\n",
       "                                          clean_message  \n",
       "0                            colorado middle of nowhere  \n",
       "1     this involved swimming a pretty large lake tha...  \n",
       "2            it was one of my most shameful experiences  \n",
       "3     after all i had vegetables coming out my ears ...  \n",
       "4                            then the screaming started  \n",
       "...                                                 ...  \n",
       "2763  she cants her hip against my waist into my sid...  \n",
       "2764  i then did the dishes whitened my teeth watche...  \n",
       "2765  it just kind of gradually vanished over a coup...  \n",
       "2766                       i didnt look out of my hands  \n",
       "2767  `` im fine amanda said forcefully shrugging of...  \n",
       "\n",
       "[2768 rows x 8 columns]"
      ]
     },
     "execution_count": 15,
     "metadata": {},
     "output_type": "execute_result"
    }
   ],
   "source": [
    "float_columns = train_data.select_dtypes(include=['float64']).columns\n",
    "\n",
    "# Convert those columns to int\n",
    "train_data[float_columns] = train_data[float_columns].astype('int')\n",
    "train_data"
   ]
  },
  {
   "cell_type": "code",
   "execution_count": 16,
   "metadata": {
    "colab": {
     "base_uri": "https://localhost:8080/",
     "height": 366
    },
    "execution": {
     "iopub.execute_input": "2025-01-05T19:16:17.953219Z",
     "iopub.status.busy": "2025-01-05T19:16:17.953034Z",
     "iopub.status.idle": "2025-01-05T19:16:17.964350Z",
     "shell.execute_reply": "2025-01-05T19:16:17.963589Z",
     "shell.execute_reply.started": "2025-01-05T19:16:17.953203Z"
    },
    "id": "LfElY7blBad5",
    "outputId": "fb21a4f9-ff4b-4b85-8fb3-0b457d7f239d",
    "trusted": true
   },
   "outputs": [
    {
     "data": {
      "text/plain": [
       "id               object\n",
       "anger             int64\n",
       "fear              int64\n",
       "joy               int64\n",
       "sadness           int64\n",
       "surprise          int64\n",
       "lang             object\n",
       "clean_message    object\n",
       "dtype: object"
      ]
     },
     "execution_count": 16,
     "metadata": {},
     "output_type": "execute_result"
    }
   ],
   "source": [
    "train_data.dtypes"
   ]
  },
  {
   "cell_type": "code",
   "execution_count": 17,
   "metadata": {
    "colab": {
     "base_uri": "https://localhost:8080/",
     "height": 423
    },
    "execution": {
     "iopub.execute_input": "2025-01-05T19:16:17.965502Z",
     "iopub.status.busy": "2025-01-05T19:16:17.965221Z",
     "iopub.status.idle": "2025-01-05T19:16:17.984776Z",
     "shell.execute_reply": "2025-01-05T19:16:17.984010Z",
     "shell.execute_reply.started": "2025-01-05T19:16:17.965472Z"
    },
    "id": "tlabsablmWzT",
    "outputId": "c403a470-dfa2-4e5b-d1ab-a55ab7764858",
    "trusted": true
   },
   "outputs": [
    {
     "data": {
      "text/html": [
       "<div>\n",
       "<style scoped>\n",
       "    .dataframe tbody tr th:only-of-type {\n",
       "        vertical-align: middle;\n",
       "    }\n",
       "\n",
       "    .dataframe tbody tr th {\n",
       "        vertical-align: top;\n",
       "    }\n",
       "\n",
       "    .dataframe thead th {\n",
       "        text-align: right;\n",
       "    }\n",
       "</style>\n",
       "<table border=\"1\" class=\"dataframe\">\n",
       "  <thead>\n",
       "    <tr style=\"text-align: right;\">\n",
       "      <th></th>\n",
       "      <th>index</th>\n",
       "      <th>id</th>\n",
       "      <th>anger</th>\n",
       "      <th>fear</th>\n",
       "      <th>joy</th>\n",
       "      <th>sadness</th>\n",
       "      <th>surprise</th>\n",
       "      <th>lang</th>\n",
       "      <th>clean_message</th>\n",
       "    </tr>\n",
       "  </thead>\n",
       "  <tbody>\n",
       "    <tr>\n",
       "      <th>0</th>\n",
       "      <td>0</td>\n",
       "      <td>eng_train_track_a_00001</td>\n",
       "      <td>0</td>\n",
       "      <td>1</td>\n",
       "      <td>0</td>\n",
       "      <td>0</td>\n",
       "      <td>1</td>\n",
       "      <td>eng</td>\n",
       "      <td>colorado middle of nowhere</td>\n",
       "    </tr>\n",
       "    <tr>\n",
       "      <th>1</th>\n",
       "      <td>1</td>\n",
       "      <td>eng_train_track_a_00002</td>\n",
       "      <td>0</td>\n",
       "      <td>1</td>\n",
       "      <td>0</td>\n",
       "      <td>0</td>\n",
       "      <td>0</td>\n",
       "      <td>eng</td>\n",
       "      <td>this involved swimming a pretty large lake tha...</td>\n",
       "    </tr>\n",
       "    <tr>\n",
       "      <th>2</th>\n",
       "      <td>2</td>\n",
       "      <td>eng_train_track_a_00003</td>\n",
       "      <td>0</td>\n",
       "      <td>1</td>\n",
       "      <td>0</td>\n",
       "      <td>1</td>\n",
       "      <td>0</td>\n",
       "      <td>eng</td>\n",
       "      <td>it was one of my most shameful experiences</td>\n",
       "    </tr>\n",
       "    <tr>\n",
       "      <th>3</th>\n",
       "      <td>3</td>\n",
       "      <td>eng_train_track_a_00004</td>\n",
       "      <td>0</td>\n",
       "      <td>0</td>\n",
       "      <td>0</td>\n",
       "      <td>0</td>\n",
       "      <td>0</td>\n",
       "      <td>eng</td>\n",
       "      <td>after all i had vegetables coming out my ears ...</td>\n",
       "    </tr>\n",
       "    <tr>\n",
       "      <th>4</th>\n",
       "      <td>4</td>\n",
       "      <td>eng_train_track_a_00005</td>\n",
       "      <td>0</td>\n",
       "      <td>1</td>\n",
       "      <td>0</td>\n",
       "      <td>1</td>\n",
       "      <td>1</td>\n",
       "      <td>eng</td>\n",
       "      <td>then the screaming started</td>\n",
       "    </tr>\n",
       "    <tr>\n",
       "      <th>...</th>\n",
       "      <td>...</td>\n",
       "      <td>...</td>\n",
       "      <td>...</td>\n",
       "      <td>...</td>\n",
       "      <td>...</td>\n",
       "      <td>...</td>\n",
       "      <td>...</td>\n",
       "      <td>...</td>\n",
       "      <td>...</td>\n",
       "    </tr>\n",
       "    <tr>\n",
       "      <th>2763</th>\n",
       "      <td>2763</td>\n",
       "      <td>eng_train_track_a_02764</td>\n",
       "      <td>0</td>\n",
       "      <td>0</td>\n",
       "      <td>1</td>\n",
       "      <td>0</td>\n",
       "      <td>1</td>\n",
       "      <td>eng</td>\n",
       "      <td>she cants her hip against my waist into my sid...</td>\n",
       "    </tr>\n",
       "    <tr>\n",
       "      <th>2764</th>\n",
       "      <td>2764</td>\n",
       "      <td>eng_train_track_a_02765</td>\n",
       "      <td>0</td>\n",
       "      <td>0</td>\n",
       "      <td>0</td>\n",
       "      <td>0</td>\n",
       "      <td>0</td>\n",
       "      <td>eng</td>\n",
       "      <td>i then did the dishes whitened my teeth watche...</td>\n",
       "    </tr>\n",
       "    <tr>\n",
       "      <th>2765</th>\n",
       "      <td>2765</td>\n",
       "      <td>eng_train_track_a_02766</td>\n",
       "      <td>0</td>\n",
       "      <td>0</td>\n",
       "      <td>0</td>\n",
       "      <td>0</td>\n",
       "      <td>1</td>\n",
       "      <td>eng</td>\n",
       "      <td>it just kind of gradually vanished over a coup...</td>\n",
       "    </tr>\n",
       "    <tr>\n",
       "      <th>2766</th>\n",
       "      <td>2766</td>\n",
       "      <td>eng_train_track_a_02767</td>\n",
       "      <td>0</td>\n",
       "      <td>1</td>\n",
       "      <td>0</td>\n",
       "      <td>0</td>\n",
       "      <td>0</td>\n",
       "      <td>eng</td>\n",
       "      <td>i didnt look out of my hands</td>\n",
       "    </tr>\n",
       "    <tr>\n",
       "      <th>2767</th>\n",
       "      <td>2767</td>\n",
       "      <td>eng_train_track_a_02768</td>\n",
       "      <td>1</td>\n",
       "      <td>0</td>\n",
       "      <td>0</td>\n",
       "      <td>0</td>\n",
       "      <td>0</td>\n",
       "      <td>eng</td>\n",
       "      <td>`` im fine amanda said forcefully shrugging of...</td>\n",
       "    </tr>\n",
       "  </tbody>\n",
       "</table>\n",
       "<p>2768 rows × 9 columns</p>\n",
       "</div>"
      ],
      "text/plain": [
       "      index                       id  anger  fear  joy  sadness  surprise  \\\n",
       "0         0  eng_train_track_a_00001      0     1    0        0         1   \n",
       "1         1  eng_train_track_a_00002      0     1    0        0         0   \n",
       "2         2  eng_train_track_a_00003      0     1    0        1         0   \n",
       "3         3  eng_train_track_a_00004      0     0    0        0         0   \n",
       "4         4  eng_train_track_a_00005      0     1    0        1         1   \n",
       "...     ...                      ...    ...   ...  ...      ...       ...   \n",
       "2763   2763  eng_train_track_a_02764      0     0    1        0         1   \n",
       "2764   2764  eng_train_track_a_02765      0     0    0        0         0   \n",
       "2765   2765  eng_train_track_a_02766      0     0    0        0         1   \n",
       "2766   2766  eng_train_track_a_02767      0     1    0        0         0   \n",
       "2767   2767  eng_train_track_a_02768      1     0    0        0         0   \n",
       "\n",
       "     lang                                      clean_message  \n",
       "0     eng                         colorado middle of nowhere  \n",
       "1     eng  this involved swimming a pretty large lake tha...  \n",
       "2     eng         it was one of my most shameful experiences  \n",
       "3     eng  after all i had vegetables coming out my ears ...  \n",
       "4     eng                         then the screaming started  \n",
       "...   ...                                                ...  \n",
       "2763  eng  she cants her hip against my waist into my sid...  \n",
       "2764  eng  i then did the dishes whitened my teeth watche...  \n",
       "2765  eng  it just kind of gradually vanished over a coup...  \n",
       "2766  eng                       i didnt look out of my hands  \n",
       "2767  eng  `` im fine amanda said forcefully shrugging of...  \n",
       "\n",
       "[2768 rows x 9 columns]"
      ]
     },
     "execution_count": 17,
     "metadata": {},
     "output_type": "execute_result"
    }
   ],
   "source": [
    "train_data = train_data[\n",
    "\n",
    "train_data['clean_message'].isnull()==False]\n",
    "\n",
    "train_data.reset_index()"
   ]
  },
  {
   "cell_type": "code",
   "execution_count": 18,
   "metadata": {
    "colab": {
     "base_uri": "https://localhost:8080/",
     "height": 423
    },
    "execution": {
     "iopub.execute_input": "2025-01-05T19:16:17.988776Z",
     "iopub.status.busy": "2025-01-05T19:16:17.988508Z",
     "iopub.status.idle": "2025-01-05T19:16:18.002993Z",
     "shell.execute_reply": "2025-01-05T19:16:18.002155Z",
     "shell.execute_reply.started": "2025-01-05T19:16:17.988755Z"
    },
    "id": "3sl4zq2jBad6",
    "outputId": "a8e8152b-9e1b-4a36-e564-2236c7018aca",
    "trusted": true
   },
   "outputs": [
    {
     "data": {
      "text/html": [
       "<div>\n",
       "<style scoped>\n",
       "    .dataframe tbody tr th:only-of-type {\n",
       "        vertical-align: middle;\n",
       "    }\n",
       "\n",
       "    .dataframe tbody tr th {\n",
       "        vertical-align: top;\n",
       "    }\n",
       "\n",
       "    .dataframe thead th {\n",
       "        text-align: right;\n",
       "    }\n",
       "</style>\n",
       "<table border=\"1\" class=\"dataframe\">\n",
       "  <thead>\n",
       "    <tr style=\"text-align: right;\">\n",
       "      <th></th>\n",
       "      <th>id</th>\n",
       "      <th>anger</th>\n",
       "      <th>fear</th>\n",
       "      <th>joy</th>\n",
       "      <th>sadness</th>\n",
       "      <th>surprise</th>\n",
       "      <th>lang</th>\n",
       "      <th>clean_message</th>\n",
       "    </tr>\n",
       "  </thead>\n",
       "  <tbody>\n",
       "    <tr>\n",
       "      <th>0</th>\n",
       "      <td>eng_train_track_a_00001</td>\n",
       "      <td>0</td>\n",
       "      <td>1</td>\n",
       "      <td>0</td>\n",
       "      <td>0</td>\n",
       "      <td>1</td>\n",
       "      <td>eng</td>\n",
       "      <td>colorado middle of nowhere</td>\n",
       "    </tr>\n",
       "    <tr>\n",
       "      <th>1</th>\n",
       "      <td>eng_train_track_a_00002</td>\n",
       "      <td>0</td>\n",
       "      <td>1</td>\n",
       "      <td>0</td>\n",
       "      <td>0</td>\n",
       "      <td>0</td>\n",
       "      <td>eng</td>\n",
       "      <td>this involved swimming a pretty large lake tha...</td>\n",
       "    </tr>\n",
       "    <tr>\n",
       "      <th>2</th>\n",
       "      <td>eng_train_track_a_00003</td>\n",
       "      <td>0</td>\n",
       "      <td>1</td>\n",
       "      <td>0</td>\n",
       "      <td>1</td>\n",
       "      <td>0</td>\n",
       "      <td>eng</td>\n",
       "      <td>it was one of my most shameful experiences</td>\n",
       "    </tr>\n",
       "    <tr>\n",
       "      <th>3</th>\n",
       "      <td>eng_train_track_a_00004</td>\n",
       "      <td>0</td>\n",
       "      <td>0</td>\n",
       "      <td>0</td>\n",
       "      <td>0</td>\n",
       "      <td>0</td>\n",
       "      <td>eng</td>\n",
       "      <td>after all i had vegetables coming out my ears ...</td>\n",
       "    </tr>\n",
       "    <tr>\n",
       "      <th>4</th>\n",
       "      <td>eng_train_track_a_00005</td>\n",
       "      <td>0</td>\n",
       "      <td>1</td>\n",
       "      <td>0</td>\n",
       "      <td>1</td>\n",
       "      <td>1</td>\n",
       "      <td>eng</td>\n",
       "      <td>then the screaming started</td>\n",
       "    </tr>\n",
       "    <tr>\n",
       "      <th>...</th>\n",
       "      <td>...</td>\n",
       "      <td>...</td>\n",
       "      <td>...</td>\n",
       "      <td>...</td>\n",
       "      <td>...</td>\n",
       "      <td>...</td>\n",
       "      <td>...</td>\n",
       "      <td>...</td>\n",
       "    </tr>\n",
       "    <tr>\n",
       "      <th>2763</th>\n",
       "      <td>eng_train_track_a_02764</td>\n",
       "      <td>0</td>\n",
       "      <td>0</td>\n",
       "      <td>1</td>\n",
       "      <td>0</td>\n",
       "      <td>1</td>\n",
       "      <td>eng</td>\n",
       "      <td>she cants her hip against my waist into my sid...</td>\n",
       "    </tr>\n",
       "    <tr>\n",
       "      <th>2764</th>\n",
       "      <td>eng_train_track_a_02765</td>\n",
       "      <td>0</td>\n",
       "      <td>0</td>\n",
       "      <td>0</td>\n",
       "      <td>0</td>\n",
       "      <td>0</td>\n",
       "      <td>eng</td>\n",
       "      <td>i then did the dishes whitened my teeth watche...</td>\n",
       "    </tr>\n",
       "    <tr>\n",
       "      <th>2765</th>\n",
       "      <td>eng_train_track_a_02766</td>\n",
       "      <td>0</td>\n",
       "      <td>0</td>\n",
       "      <td>0</td>\n",
       "      <td>0</td>\n",
       "      <td>1</td>\n",
       "      <td>eng</td>\n",
       "      <td>it just kind of gradually vanished over a coup...</td>\n",
       "    </tr>\n",
       "    <tr>\n",
       "      <th>2766</th>\n",
       "      <td>eng_train_track_a_02767</td>\n",
       "      <td>0</td>\n",
       "      <td>1</td>\n",
       "      <td>0</td>\n",
       "      <td>0</td>\n",
       "      <td>0</td>\n",
       "      <td>eng</td>\n",
       "      <td>i didnt look out of my hands</td>\n",
       "    </tr>\n",
       "    <tr>\n",
       "      <th>2767</th>\n",
       "      <td>eng_train_track_a_02768</td>\n",
       "      <td>1</td>\n",
       "      <td>0</td>\n",
       "      <td>0</td>\n",
       "      <td>0</td>\n",
       "      <td>0</td>\n",
       "      <td>eng</td>\n",
       "      <td>`` im fine amanda said forcefully shrugging of...</td>\n",
       "    </tr>\n",
       "  </tbody>\n",
       "</table>\n",
       "<p>2768 rows × 8 columns</p>\n",
       "</div>"
      ],
      "text/plain": [
       "                           id  anger  fear  joy  sadness  surprise lang  \\\n",
       "0     eng_train_track_a_00001      0     1    0        0         1  eng   \n",
       "1     eng_train_track_a_00002      0     1    0        0         0  eng   \n",
       "2     eng_train_track_a_00003      0     1    0        1         0  eng   \n",
       "3     eng_train_track_a_00004      0     0    0        0         0  eng   \n",
       "4     eng_train_track_a_00005      0     1    0        1         1  eng   \n",
       "...                       ...    ...   ...  ...      ...       ...  ...   \n",
       "2763  eng_train_track_a_02764      0     0    1        0         1  eng   \n",
       "2764  eng_train_track_a_02765      0     0    0        0         0  eng   \n",
       "2765  eng_train_track_a_02766      0     0    0        0         1  eng   \n",
       "2766  eng_train_track_a_02767      0     1    0        0         0  eng   \n",
       "2767  eng_train_track_a_02768      1     0    0        0         0  eng   \n",
       "\n",
       "                                          clean_message  \n",
       "0                            colorado middle of nowhere  \n",
       "1     this involved swimming a pretty large lake tha...  \n",
       "2            it was one of my most shameful experiences  \n",
       "3     after all i had vegetables coming out my ears ...  \n",
       "4                            then the screaming started  \n",
       "...                                                 ...  \n",
       "2763  she cants her hip against my waist into my sid...  \n",
       "2764  i then did the dishes whitened my teeth watche...  \n",
       "2765  it just kind of gradually vanished over a coup...  \n",
       "2766                       i didnt look out of my hands  \n",
       "2767  `` im fine amanda said forcefully shrugging of...  \n",
       "\n",
       "[2768 rows x 8 columns]"
      ]
     },
     "execution_count": 18,
     "metadata": {},
     "output_type": "execute_result"
    }
   ],
   "source": [
    "train_data"
   ]
  },
  {
   "cell_type": "code",
   "execution_count": 19,
   "metadata": {
    "execution": {
     "iopub.execute_input": "2025-01-05T19:16:18.005304Z",
     "iopub.status.busy": "2025-01-05T19:16:18.005077Z",
     "iopub.status.idle": "2025-01-05T19:16:18.016316Z",
     "shell.execute_reply": "2025-01-05T19:16:18.015631Z",
     "shell.execute_reply.started": "2025-01-05T19:16:18.005285Z"
    },
    "id": "2RXwzOOkBad6",
    "trusted": true
   },
   "outputs": [],
   "source": [
    "# label_columns =['anger', 'fear', 'joy', 'sadness', 'surprise']\n",
    "label_columns =['anger', 'disgust', 'fear', 'joy', 'sadness', 'surprise']\n"
   ]
  },
  {
   "cell_type": "code",
   "execution_count": 20,
   "metadata": {
    "colab": {
     "base_uri": "https://localhost:8080/",
     "height": 366
    },
    "execution": {
     "iopub.execute_input": "2025-01-05T19:16:18.017416Z",
     "iopub.status.busy": "2025-01-05T19:16:18.017150Z",
     "iopub.status.idle": "2025-01-05T19:16:18.034271Z",
     "shell.execute_reply": "2025-01-05T19:16:18.033495Z",
     "shell.execute_reply.started": "2025-01-05T19:16:18.017383Z"
    },
    "id": "5SDZ3wEUBad6",
    "outputId": "133e0d74-5eaa-4a1e-8708-f91d72da4756",
    "trusted": true
   },
   "outputs": [
    {
     "data": {
      "text/plain": [
       "lang\n",
       "eng    2768\n",
       "Name: count, dtype: int64"
      ]
     },
     "execution_count": 20,
     "metadata": {},
     "output_type": "execute_result"
    }
   ],
   "source": [
    "train_data['lang'].value_counts()"
   ]
  },
  {
   "cell_type": "code",
   "execution_count": 21,
   "metadata": {
    "colab": {
     "base_uri": "https://localhost:8080/"
    },
    "execution": {
     "iopub.execute_input": "2025-01-05T19:16:18.035312Z",
     "iopub.status.busy": "2025-01-05T19:16:18.035066Z",
     "iopub.status.idle": "2025-01-05T19:16:18.049260Z",
     "shell.execute_reply": "2025-01-05T19:16:18.048632Z",
     "shell.execute_reply.started": "2025-01-05T19:16:18.035282Z"
    },
    "id": "5ubyh_YPBad6",
    "outputId": "73cc4eb8-24e2-443c-ca9a-72d582821ad6",
    "trusted": true
   },
   "outputs": [
    {
     "data": {
      "text/plain": [
       "0"
      ]
     },
     "execution_count": 21,
     "metadata": {},
     "output_type": "execute_result"
    }
   ],
   "source": [
    "sum(train_data['lang'].isna())"
   ]
  },
  {
   "cell_type": "code",
   "execution_count": 22,
   "metadata": {
    "colab": {
     "base_uri": "https://localhost:8080/",
     "height": 89
    },
    "execution": {
     "iopub.execute_input": "2025-01-05T19:16:18.050341Z",
     "iopub.status.busy": "2025-01-05T19:16:18.050108Z",
     "iopub.status.idle": "2025-01-05T19:16:18.064262Z",
     "shell.execute_reply": "2025-01-05T19:16:18.063637Z",
     "shell.execute_reply.started": "2025-01-05T19:16:18.050322Z"
    },
    "id": "8lubfAyYBad6",
    "outputId": "b1aa0170-b9ef-4e88-df24-2f6253ec9cd4",
    "trusted": true
   },
   "outputs": [
    {
     "data": {
      "text/html": [
       "<div>\n",
       "<style scoped>\n",
       "    .dataframe tbody tr th:only-of-type {\n",
       "        vertical-align: middle;\n",
       "    }\n",
       "\n",
       "    .dataframe tbody tr th {\n",
       "        vertical-align: top;\n",
       "    }\n",
       "\n",
       "    .dataframe thead th {\n",
       "        text-align: right;\n",
       "    }\n",
       "</style>\n",
       "<table border=\"1\" class=\"dataframe\">\n",
       "  <thead>\n",
       "    <tr style=\"text-align: right;\">\n",
       "      <th></th>\n",
       "      <th>id</th>\n",
       "      <th>anger</th>\n",
       "      <th>fear</th>\n",
       "      <th>joy</th>\n",
       "      <th>sadness</th>\n",
       "      <th>surprise</th>\n",
       "      <th>lang</th>\n",
       "      <th>clean_message</th>\n",
       "    </tr>\n",
       "  </thead>\n",
       "  <tbody>\n",
       "  </tbody>\n",
       "</table>\n",
       "</div>"
      ],
      "text/plain": [
       "Empty DataFrame\n",
       "Columns: [id, anger, fear, joy, sadness, surprise, lang, clean_message]\n",
       "Index: []"
      ]
     },
     "execution_count": 22,
     "metadata": {},
     "output_type": "execute_result"
    }
   ],
   "source": [
    "nan_rows = train_data[train_data.isna().any(axis=1)]\n",
    "nan_rows\n",
    "# Group by 'lang' and list the rows with NaNs for each language\n",
    "# nan_by_language = nan_rows.groupby('lang').apply(lambda x: x)\n",
    "\n",
    "# Display the result\n",
    "# print(nan_by_language)"
   ]
  },
  {
   "cell_type": "code",
   "execution_count": 23,
   "metadata": {
    "colab": {
     "base_uri": "https://localhost:8080/",
     "height": 53
    },
    "execution": {
     "iopub.execute_input": "2025-01-05T19:16:18.065381Z",
     "iopub.status.busy": "2025-01-05T19:16:18.065107Z",
     "iopub.status.idle": "2025-01-05T19:16:18.076825Z",
     "shell.execute_reply": "2025-01-05T19:16:18.076015Z",
     "shell.execute_reply.started": "2025-01-05T19:16:18.065353Z"
    },
    "id": "egecP3nTBad6",
    "outputId": "c3e4e25e-0211-435a-f1c4-dd1fda5822ac",
    "trusted": true
   },
   "outputs": [
    {
     "data": {
      "text/html": [
       "<div>\n",
       "<style scoped>\n",
       "    .dataframe tbody tr th:only-of-type {\n",
       "        vertical-align: middle;\n",
       "    }\n",
       "\n",
       "    .dataframe tbody tr th {\n",
       "        vertical-align: top;\n",
       "    }\n",
       "\n",
       "    .dataframe thead th {\n",
       "        text-align: right;\n",
       "    }\n",
       "</style>\n",
       "<table border=\"1\" class=\"dataframe\">\n",
       "  <thead>\n",
       "    <tr style=\"text-align: right;\">\n",
       "      <th></th>\n",
       "      <th>id</th>\n",
       "      <th>anger</th>\n",
       "      <th>fear</th>\n",
       "      <th>joy</th>\n",
       "      <th>sadness</th>\n",
       "      <th>surprise</th>\n",
       "      <th>lang</th>\n",
       "      <th>clean_message</th>\n",
       "    </tr>\n",
       "  </thead>\n",
       "  <tbody>\n",
       "  </tbody>\n",
       "</table>\n",
       "</div>"
      ],
      "text/plain": [
       "Empty DataFrame\n",
       "Columns: [id, anger, fear, joy, sadness, surprise, lang, clean_message]\n",
       "Index: []"
      ]
     },
     "execution_count": 23,
     "metadata": {},
     "output_type": "execute_result"
    }
   ],
   "source": [
    "nan_rows[nan_rows[\"lang\"]==\"eng\"]"
   ]
  },
  {
   "cell_type": "code",
   "execution_count": 24,
   "metadata": {
    "colab": {
     "base_uri": "https://localhost:8080/",
     "height": 366
    },
    "execution": {
     "iopub.execute_input": "2025-01-05T19:16:18.078074Z",
     "iopub.status.busy": "2025-01-05T19:16:18.077742Z",
     "iopub.status.idle": "2025-01-05T19:16:18.089317Z",
     "shell.execute_reply": "2025-01-05T19:16:18.088701Z",
     "shell.execute_reply.started": "2025-01-05T19:16:18.078049Z"
    },
    "id": "kweBEYKVBad6",
    "outputId": "8a1db74e-4fc0-49b4-d39e-12d467044590",
    "trusted": true
   },
   "outputs": [
    {
     "data": {
      "text/plain": [
       "id               object\n",
       "anger             int64\n",
       "fear              int64\n",
       "joy               int64\n",
       "sadness           int64\n",
       "surprise          int64\n",
       "lang             object\n",
       "clean_message    object\n",
       "dtype: object"
      ]
     },
     "execution_count": 24,
     "metadata": {},
     "output_type": "execute_result"
    }
   ],
   "source": [
    "train_data[train_data[\"lang\"]==\"deu\"].dtypes"
   ]
  },
  {
   "cell_type": "code",
   "execution_count": 25,
   "metadata": {
    "colab": {
     "base_uri": "https://localhost:8080/"
    },
    "execution": {
     "iopub.execute_input": "2025-01-05T19:16:18.090372Z",
     "iopub.status.busy": "2025-01-05T19:16:18.090155Z",
     "iopub.status.idle": "2025-01-05T19:16:18.105888Z",
     "shell.execute_reply": "2025-01-05T19:16:18.105168Z",
     "shell.execute_reply.started": "2025-01-05T19:16:18.090353Z"
    },
    "id": "JhtGZAd5Bad7",
    "outputId": "e75d5118-4103-4c57-9d3a-9a986f2d1e93",
    "trusted": true
   },
   "outputs": [
    {
     "name": "stdout",
     "output_type": "stream",
     "text": [
      "eng anger []\n",
      "eng fear []\n",
      "eng joy []\n",
      "eng sadness []\n",
      "eng surprise []\n"
     ]
    }
   ],
   "source": [
    "for lang in langs:\n",
    "    for label in label_columns:\n",
    "        print(lang,label,train_data[train_data[\"lang\"]==\"afr\"][label].unique())"
   ]
  },
  {
   "cell_type": "code",
   "execution_count": 26,
   "metadata": {
    "colab": {
     "base_uri": "https://localhost:8080/",
     "height": 115
    },
    "execution": {
     "iopub.execute_input": "2025-01-05T19:16:18.106810Z",
     "iopub.status.busy": "2025-01-05T19:16:18.106548Z",
     "iopub.status.idle": "2025-01-05T19:16:18.116701Z",
     "shell.execute_reply": "2025-01-05T19:16:18.116040Z",
     "shell.execute_reply.started": "2025-01-05T19:16:18.106790Z"
    },
    "id": "dkMYBknIBad7",
    "outputId": "5b465640-59ae-485f-e1c2-4716a0a081ca",
    "trusted": true
   },
   "outputs": [
    {
     "data": {
      "text/plain": [
       "Series([], Name: count, dtype: int64)"
      ]
     },
     "execution_count": 26,
     "metadata": {},
     "output_type": "execute_result"
    }
   ],
   "source": [
    "nan_rows[\"lang\"].value_counts()"
   ]
  },
  {
   "cell_type": "code",
   "execution_count": 27,
   "metadata": {
    "colab": {
     "base_uri": "https://localhost:8080/",
     "height": 366
    },
    "execution": {
     "iopub.execute_input": "2025-01-05T19:16:18.117826Z",
     "iopub.status.busy": "2025-01-05T19:16:18.117512Z",
     "iopub.status.idle": "2025-01-05T19:16:18.128963Z",
     "shell.execute_reply": "2025-01-05T19:16:18.128266Z",
     "shell.execute_reply.started": "2025-01-05T19:16:18.117796Z"
    },
    "id": "OrpSoZdfBad7",
    "outputId": "e70b6787-a195-44b6-b234-d6a69d325a3e",
    "trusted": true
   },
   "outputs": [
    {
     "data": {
      "text/plain": [
       "id               object\n",
       "anger             int64\n",
       "fear              int64\n",
       "joy               int64\n",
       "sadness           int64\n",
       "surprise          int64\n",
       "lang             object\n",
       "clean_message    object\n",
       "dtype: object"
      ]
     },
     "execution_count": 27,
     "metadata": {},
     "output_type": "execute_result"
    }
   ],
   "source": [
    "nan_rows.dtypes"
   ]
  },
  {
   "cell_type": "code",
   "execution_count": 28,
   "metadata": {
    "colab": {
     "base_uri": "https://localhost:8080/"
    },
    "execution": {
     "iopub.execute_input": "2025-01-05T19:16:18.129935Z",
     "iopub.status.busy": "2025-01-05T19:16:18.129725Z",
     "iopub.status.idle": "2025-01-05T19:16:18.150878Z",
     "shell.execute_reply": "2025-01-05T19:16:18.150187Z",
     "shell.execute_reply.started": "2025-01-05T19:16:18.129916Z"
    },
    "id": "a1FDeJieBad7",
    "outputId": "fa69c6d5-6c8b-4c7e-c877-f42afc2b262d",
    "trusted": true
   },
   "outputs": [
    {
     "name": "stdout",
     "output_type": "stream",
     "text": [
      "              id   fear    joy  sadness  surprise   lang  clean_message\n",
      "lang                                                                   \n",
      "eng  0     False  False  False    False     False  False          False\n",
      "     1     False  False  False    False     False  False          False\n",
      "     2     False  False  False    False     False  False          False\n",
      "     3     False  False  False    False     False  False          False\n",
      "     4     False  False  False    False     False  False          False\n",
      "...          ...    ...    ...      ...       ...    ...            ...\n",
      "     2763  False  False  False    False     False  False          False\n",
      "     2764  False  False  False    False     False  False          False\n",
      "     2765  False  False  False    False     False  False          False\n",
      "     2766  False  False  False    False     False  False          False\n",
      "     2767  False  False  False    False     False  False          False\n",
      "\n",
      "[2768 rows x 7 columns]\n"
     ]
    }
   ],
   "source": [
    "# Step 2: Count how many columns are not 0 or 1 for each language\n",
    "def count_nonzero_nonone_rows(group):\n",
    "    # Exclude the 'lang' column from counting if needed\n",
    "    # Use boolean conditions to count values that are not 0 or 1\n",
    "    return (group.drop(columns='anger') != 0) & (group.drop(columns='anger') != 1).sum(axis=1).sum()\n",
    "\n",
    "# Group by 'lang' and apply the function to count non-zero, non-one values\n",
    "non_zero_non_one_counts = train_data.groupby('lang').apply(count_nonzero_nonone_rows)\n",
    "\n",
    "# Display the results\n",
    "# result = pd.DataFrame({\n",
    "#     'row_count': lang_row_counts,\n",
    "#     'non_zero_non_one_count': non_zero_non_one_counts\n",
    "# })\n",
    "\n",
    "print(non_zero_non_one_counts)"
   ]
  },
  {
   "cell_type": "code",
   "execution_count": 30,
   "metadata": {
    "execution": {
     "iopub.execute_input": "2025-01-05T19:16:18.156293Z",
     "iopub.status.busy": "2025-01-05T19:16:18.156059Z",
     "iopub.status.idle": "2025-01-05T19:16:18.168029Z",
     "shell.execute_reply": "2025-01-05T19:16:18.167293Z",
     "shell.execute_reply.started": "2025-01-05T19:16:18.156256Z"
    },
    "id": "Efx2E-A4Bad7",
    "trusted": true
   },
   "outputs": [],
   "source": [
    "# shuffle data\n",
    "train_data=train_data.sample(frac=1)\n",
    "# train_data=train_data.sample(100,random_state=42)\n"
   ]
  },
  {
   "cell_type": "code",
   "execution_count": 31,
   "metadata": {
    "execution": {
     "iopub.execute_input": "2025-01-05T19:16:18.169203Z",
     "iopub.status.busy": "2025-01-05T19:16:18.168924Z",
     "iopub.status.idle": "2025-01-05T19:16:18.180285Z",
     "shell.execute_reply": "2025-01-05T19:16:18.179711Z",
     "shell.execute_reply.started": "2025-01-05T19:16:18.169176Z"
    },
    "id": "QfMcAI26Bad7",
    "trusted": true
   },
   "outputs": [],
   "source": [
    "# train valid split\n",
    "train,valid=train_test_split(train_data,test_size=0.2,random_state=42)"
   ]
  },
  {
   "cell_type": "code",
   "execution_count": 32,
   "metadata": {
    "execution": {
     "iopub.execute_input": "2025-01-05T19:16:18.181302Z",
     "iopub.status.busy": "2025-01-05T19:16:18.181039Z",
     "iopub.status.idle": "2025-01-05T19:16:18.191510Z",
     "shell.execute_reply": "2025-01-05T19:16:18.190920Z",
     "shell.execute_reply.started": "2025-01-05T19:16:18.181270Z"
    },
    "id": "K0MsuYqpBad8",
    "trusted": true
   },
   "outputs": [],
   "source": [
    "x_train, y_train = train['clean_message'].values.tolist(), train[label_columns].values.tolist()\n",
    "\n",
    "x_valid, y_valid = valid['clean_message'].values.tolist(), valid[label_columns].values.tolist()"
   ]
  },
  {
   "cell_type": "code",
   "execution_count": 33,
   "metadata": {
    "execution": {
     "iopub.execute_input": "2025-01-05T19:16:18.192407Z",
     "iopub.status.busy": "2025-01-05T19:16:18.192213Z",
     "iopub.status.idle": "2025-01-05T19:16:18.204757Z",
     "shell.execute_reply": "2025-01-05T19:16:18.204006Z",
     "shell.execute_reply.started": "2025-01-05T19:16:18.192382Z"
    },
    "id": "6Sgs63uPBad8",
    "trusted": true
   },
   "outputs": [],
   "source": [
    "y_train_df = pd.DataFrame(y_train, columns=label_columns)"
   ]
  },
  {
   "cell_type": "code",
   "execution_count": 34,
   "metadata": {
    "colab": {
     "base_uri": "https://localhost:8080/"
    },
    "execution": {
     "iopub.execute_input": "2025-01-05T19:16:18.205908Z",
     "iopub.status.busy": "2025-01-05T19:16:18.205671Z",
     "iopub.status.idle": "2025-01-05T19:16:18.223109Z",
     "shell.execute_reply": "2025-01-05T19:16:18.222373Z",
     "shell.execute_reply.started": "2025-01-05T19:16:18.205889Z"
    },
    "id": "sVD0DSPvmdcE",
    "outputId": "95ab8c82-b82f-460f-c1b0-0d768929b8d1",
    "trusted": true
   },
   "outputs": [
    {
     "name": "stdout",
     "output_type": "stream",
     "text": [
      "          count_0  count_1   sum\n",
      "anger        1947      267  2214\n",
      "fear          943     1271  2214\n",
      "joy          1661      553  2214\n",
      "sadness      1513      701  2214\n",
      "surprise     1552      662  2214\n"
     ]
    }
   ],
   "source": [
    "#update label column name\n",
    "\n",
    "label_distribution = y_train_df.apply(pd.Series.value_counts).T.fillna(0).astype(int)\n",
    "\n",
    "label_distribution.columns = ['count_0', 'count_1']\n",
    "label_distribution['sum'] = label_distribution['count_0'] + label_distribution['count_1']\n",
    "print(label_distribution)"
   ]
  },
  {
   "cell_type": "code",
   "execution_count": 35,
   "metadata": {
    "execution": {
     "iopub.execute_input": "2025-01-05T19:16:18.224287Z",
     "iopub.status.busy": "2025-01-05T19:16:18.223981Z",
     "iopub.status.idle": "2025-01-05T19:16:18.281876Z",
     "shell.execute_reply": "2025-01-05T19:16:18.281035Z",
     "shell.execute_reply.started": "2025-01-05T19:16:18.224260Z"
    },
    "id": "-EFMbbzALDd6",
    "trusted": true
   },
   "outputs": [],
   "source": [
    "device=\"cuda\" if torch.cuda.is_available() else 'cpu'"
   ]
  },
  {
   "cell_type": "code",
   "execution_count": 36,
   "metadata": {
    "execution": {
     "iopub.execute_input": "2025-01-05T19:16:18.282975Z",
     "iopub.status.busy": "2025-01-05T19:16:18.282722Z",
     "iopub.status.idle": "2025-01-05T19:16:18.778109Z",
     "shell.execute_reply": "2025-01-05T19:16:18.777406Z",
     "shell.execute_reply.started": "2025-01-05T19:16:18.282952Z"
    },
    "trusted": true
   },
   "outputs": [
    {
     "data": {
      "text/plain": [
       "tensor([4.1461, 0.8710, 2.0018, 1.5792, 1.6722], device='cuda:0')"
      ]
     },
     "execution_count": 36,
     "metadata": {},
     "output_type": "execute_result"
    }
   ],
   "source": [
    "from sklearn.utils.class_weight import compute_class_weight\n",
    "\n",
    "counts_0 = label_distribution['count_0'].to_numpy()\n",
    "counts_1 = label_distribution['count_1'].to_numpy()\n",
    "\n",
    "# Compute class-specific weights for each label (each class)\n",
    "class_weights = []\n",
    "for i in range(len(counts_0)):\n",
    "    weight = compute_class_weight('balanced', classes=np.array([0, 1]), y=[0] * counts_0[i] + [1] * counts_1[i])\n",
    "    class_weights.append(weight)\n",
    "\n",
    "# Convert the list of weights to a tensor\n",
    "class_weights_tensor = torch.tensor([w[1] for w in class_weights], dtype=torch.float,device=device)\n",
    "class_weights_tensor"
   ]
  },
  {
   "cell_type": "code",
   "execution_count": 37,
   "metadata": {
    "execution": {
     "iopub.execute_input": "2025-01-05T19:16:18.779096Z",
     "iopub.status.busy": "2025-01-05T19:16:18.778879Z",
     "iopub.status.idle": "2025-01-05T19:16:18.783976Z",
     "shell.execute_reply": "2025-01-05T19:16:18.783294Z",
     "shell.execute_reply.started": "2025-01-05T19:16:18.779077Z"
    },
    "id": "yZqp6Z2YmkJM",
    "trusted": true
   },
   "outputs": [],
   "source": [
    "class Dataset(torch.utils.data.Dataset):\n",
    "\n",
    "    def __init__(self, encodings, labels):\n",
    "\n",
    "        self.encodings = encodings\n",
    "\n",
    "        self.labels = labels\n",
    "\n",
    "\n",
    "\n",
    "    def __getitem__(self, idx):\n",
    "\n",
    "        item = {key: torch.tensor(val[idx]) for key, val in self.encodings.items()}\n",
    "\n",
    "        item['labels'] = torch.tensor(self.labels[idx], dtype=torch.float)\n",
    "\n",
    "        return item\n",
    "\n",
    "\n",
    "    def __len__(self):\n",
    "\n",
    "        return len(self.labels)"
   ]
  },
  {
   "cell_type": "code",
   "execution_count": 38,
   "metadata": {
    "colab": {
     "base_uri": "https://localhost:8080/"
    },
    "execution": {
     "iopub.execute_input": "2025-01-05T19:16:18.785017Z",
     "iopub.status.busy": "2025-01-05T19:16:18.784714Z",
     "iopub.status.idle": "2025-01-05T19:16:18.943788Z",
     "shell.execute_reply": "2025-01-05T19:16:18.942636Z",
     "shell.execute_reply.started": "2025-01-05T19:16:18.784968Z"
    },
    "id": "oKxH4x81Bad8",
    "outputId": "a70de637-71bb-402a-cd0e-c27405ab273c",
    "trusted": true
   },
   "outputs": [
    {
     "name": "stdout",
     "output_type": "stream",
     "text": [
      "ls: cannot access 'output/best-model-v1': No such file or directory\n"
     ]
    },
    {
     "name": "stderr",
     "output_type": "stream",
     "text": [
      "/usr/lib/python3.10/pty.py:89: RuntimeWarning: os.fork() was called. os.fork() is incompatible with multithreaded code, and JAX is multithreaded, so this will likely lead to a deadlock.\n",
      "  pid, fd = os.forkpty()\n"
     ]
    }
   ],
   "source": [
    "!ls output/best-model-v1"
   ]
  },
  {
   "cell_type": "code",
   "execution_count": 39,
   "metadata": {
    "execution": {
     "iopub.execute_input": "2025-01-05T19:16:18.945327Z",
     "iopub.status.busy": "2025-01-05T19:16:18.944977Z",
     "iopub.status.idle": "2025-01-05T19:16:18.951321Z",
     "shell.execute_reply": "2025-01-05T19:16:18.950463Z",
     "shell.execute_reply.started": "2025-01-05T19:16:18.945284Z"
    },
    "id": "rkp5NCQoml0I",
    "trusted": true
   },
   "outputs": [],
   "source": [
    "def build_dataset(x_train,y_train,x_valid,y_valid,MAX_LENGTH):\n",
    "\n",
    "  train_encodings = tokenizer(x_train, truncation=True, padding=\"max_length\", max_length=MAX_LENGTH)\n",
    "\n",
    "  valid_encodings = tokenizer(x_valid, truncation=True, padding=\"max_length\", max_length=MAX_LENGTH)\n",
    "\n",
    "  train_dataset = Dataset(train_encodings, y_train)\n",
    "\n",
    "  valid_dataset = Dataset(valid_encodings, y_valid)\n",
    "\n",
    "  return train_dataset,valid_dataset\n",
    "\n",
    "\n",
    "\n",
    "def train_arg():\n",
    "\n",
    "    training_args = TrainingArguments(\n",
    "\n",
    "    output_dir=\"./output/best-model-v1\",\n",
    "\n",
    "    report_to=None,\n",
    "    dataloader_pin_memory=False,\n",
    "\n",
    "    num_train_epochs=3,\n",
    "\n",
    "    gradient_accumulation_steps=2,\n",
    "\n",
    "    per_device_train_batch_size=8,\n",
    "\n",
    "    per_device_eval_batch_size=16,\n",
    "\n",
    "    learning_rate=2e-5,\n",
    "\n",
    "    weight_decay=0.01,\n",
    "\n",
    "    eval_strategy=IntervalStrategy.STEPS,\n",
    "\n",
    "    save_total_limit=1,\n",
    "\n",
    "    logging_dir=\"./logs\",\n",
    "\n",
    "    logging_strategy=IntervalStrategy.STEPS,\n",
    "\n",
    "    logging_steps=250,\n",
    "\n",
    "    eval_steps=500,\n",
    "\n",
    "    load_best_model_at_end=True,\n",
    "\n",
    "    lr_scheduler_type=\"cosine_with_restarts\",\n",
    "\n",
    "    warmup_steps=500,\n",
    "\n",
    "    save_strategy=\"steps\",\n",
    "\n",
    "    save_steps=500,\n",
    "\n",
    "  )\n",
    "\n",
    "    return training_args"
   ]
  },
  {
   "cell_type": "code",
   "execution_count": 40,
   "metadata": {
    "execution": {
     "iopub.execute_input": "2025-01-05T19:16:18.952283Z",
     "iopub.status.busy": "2025-01-05T19:16:18.952057Z",
     "iopub.status.idle": "2025-01-05T19:16:18.966114Z",
     "shell.execute_reply": "2025-01-05T19:16:18.965408Z",
     "shell.execute_reply.started": "2025-01-05T19:16:18.952262Z"
    },
    "id": "izahhMy5NwVv",
    "trusted": true
   },
   "outputs": [],
   "source": [
    "def compute_metrics(p):\n",
    "\n",
    "  predicted_logits = p.predictions\n",
    "\n",
    "  print(f\"Type of predicted_logits: {type(predicted_logits)}\")\n",
    "\n",
    "  if isinstance(predicted_logits, tuple):\n",
    "\n",
    "        predicted_logits = predicted_logits[0]\n",
    "\n",
    "  if not isinstance(predicted_logits, np.ndarray):\n",
    "\n",
    "        predicted_logits = np.array(predicted_logits)\n",
    "\n",
    "  if len(predicted_logits.shape) == 3:\n",
    "\n",
    "        predicted_logits = predicted_logits[:, 0, :]\n",
    "\n",
    "  predicted_probabilities = expit(predicted_logits)\n",
    "\n",
    "  threshold = 0.5\n",
    "\n",
    "  predicted_classes = (predicted_probabilities >= threshold).astype(int)\n",
    "\n",
    "  precision, recall, f1, _ = precision_recall_fscore_support(y_valid, predicted_classes, average=\"weighted\")\n",
    "\n",
    "  accuracy = accuracy_score(y_valid, predicted_classes)\n",
    "\n",
    "  return {\n",
    "\n",
    "        \"accuracy\": accuracy,\n",
    "\n",
    "        \"precision\": precision,\n",
    "\n",
    "        \"recall\": recall,\n",
    "\n",
    "        \"f1_score\": f1\n",
    "\n",
    "    }"
   ]
  },
  {
   "cell_type": "code",
   "execution_count": 41,
   "metadata": {
    "execution": {
     "iopub.execute_input": "2025-01-05T19:16:18.967090Z",
     "iopub.status.busy": "2025-01-05T19:16:18.966899Z",
     "iopub.status.idle": "2025-01-05T19:16:18.978945Z",
     "shell.execute_reply": "2025-01-05T19:16:18.978288Z",
     "shell.execute_reply.started": "2025-01-05T19:16:18.967072Z"
    },
    "id": "ahrCmCKmmvvV",
    "trusted": true
   },
   "outputs": [],
   "source": [
    "def evaluate_func(trainer):\n",
    "\n",
    "  trainer.evaluate()\n",
    "\n",
    "  predictions = trainer.predict(valid_dataset)\n",
    "\n",
    "  predicted_logits = predictions.predictions\n",
    "\n",
    "  print(f\"Type of predicted_logits: {type(predicted_logits)}\")\n",
    "\n",
    "  if isinstance(predicted_logits, tuple):\n",
    "\n",
    "        predicted_logits = predicted_logits[0]\n",
    "\n",
    "  if not isinstance(predicted_logits, np.ndarray):\n",
    "\n",
    "        predicted_logits = np.array(predicted_logits)\n",
    "\n",
    "  if len(predicted_logits.shape) == 3:\n",
    "\n",
    "        predicted_logits = predicted_logits[:, 0, :]\n",
    "\n",
    "  predicted_probabilities = expit(predicted_logits)\n",
    "\n",
    "  threshold = 0.5\n",
    "\n",
    "  predicted_classes = (predicted_probabilities >= threshold).astype(int)\n",
    "\n",
    "  precision, recall, f1, _ = precision_recall_fscore_support(y_valid, predicted_classes, average=None,zero_division=0)\n",
    "\n",
    "  accuracy = accuracy_score(y_valid, predicted_classes)\n",
    "\n",
    "  return precision, recall, f1,accuracy"
   ]
  },
  {
   "cell_type": "code",
   "execution_count": 42,
   "metadata": {
    "execution": {
     "iopub.execute_input": "2025-01-05T19:16:18.979908Z",
     "iopub.status.busy": "2025-01-05T19:16:18.979699Z",
     "iopub.status.idle": "2025-01-05T19:16:18.995243Z",
     "shell.execute_reply": "2025-01-05T19:16:18.994592Z",
     "shell.execute_reply.started": "2025-01-05T19:16:18.979880Z"
    },
    "id": "_2K_WqEPnF6l",
    "trusted": true
   },
   "outputs": [],
   "source": [
    "MAX_LENGTH = 256\n",
    "\n",
    "metrics_df = pd.DataFrame(columns=[\"Models_name\", \"Precision\", \"Recall\", \"F1_score\", \"Accuracy\"])\n",
    "\n",
    "confusion_matrices = []"
   ]
  },
  {
   "cell_type": "code",
   "execution_count": 43,
   "metadata": {
    "execution": {
     "iopub.execute_input": "2025-01-05T19:16:18.996404Z",
     "iopub.status.busy": "2025-01-05T19:16:18.996116Z",
     "iopub.status.idle": "2025-01-05T19:16:19.009025Z",
     "shell.execute_reply": "2025-01-05T19:16:19.008387Z",
     "shell.execute_reply.started": "2025-01-05T19:16:18.996373Z"
    },
    "id": "3TcPpfq1GdUI",
    "trusted": true
   },
   "outputs": [],
   "source": [
    "quantization_config = BitsAndBytesConfig(\n",
    "\n",
    "    load_in_4bit=True,\n",
    "\n",
    "    bnb_4bit_use_double_quant=True,\n",
    "\n",
    "    bnb_4bit_quant_type=\"nf4\",\n",
    "\n",
    "    bnb_4bit_compute_dtype=torch.bfloat16,\n",
    "\n",
    ")"
   ]
  },
  {
   "cell_type": "code",
   "execution_count": 44,
   "metadata": {
    "execution": {
     "iopub.execute_input": "2025-01-05T19:16:19.009895Z",
     "iopub.status.busy": "2025-01-05T19:16:19.009703Z",
     "iopub.status.idle": "2025-01-05T19:16:19.018430Z",
     "shell.execute_reply": "2025-01-05T19:16:19.017839Z",
     "shell.execute_reply.started": "2025-01-05T19:16:19.009877Z"
    },
    "id": "ps6BcVspzvnP",
    "trusted": true
   },
   "outputs": [],
   "source": [
    "models_list=models_list_3\n",
    "\n",
    "models_name=models_name_3\n",
    "\n",
    "x=models_list[0]"
   ]
  },
  {
   "cell_type": "code",
   "execution_count": 45,
   "metadata": {
    "execution": {
     "iopub.execute_input": "2025-01-05T19:16:19.019365Z",
     "iopub.status.busy": "2025-01-05T19:16:19.019158Z",
     "iopub.status.idle": "2025-01-05T19:16:19.028736Z",
     "shell.execute_reply": "2025-01-05T19:16:19.028061Z",
     "shell.execute_reply.started": "2025-01-05T19:16:19.019337Z"
    },
    "id": "jHjrZwu7_GSr",
    "trusted": true
   },
   "outputs": [],
   "source": [
    "token=\"\"\n",
    "\n",
    "import huggingface_hub\n",
    "\n",
    "if \"gemma\" in x or \"Phi\" in x:\n",
    "\n",
    "  huggingface_hub.login(token=token)"
   ]
  },
  {
   "cell_type": "code",
   "execution_count": 46,
   "metadata": {
    "execution": {
     "iopub.execute_input": "2025-01-05T19:16:19.029752Z",
     "iopub.status.busy": "2025-01-05T19:16:19.029517Z",
     "iopub.status.idle": "2025-01-05T19:16:19.040251Z",
     "shell.execute_reply": "2025-01-05T19:16:19.039248Z",
     "shell.execute_reply.started": "2025-01-05T19:16:19.029734Z"
    },
    "id": "cclf1eMoIfuA",
    "trusted": true
   },
   "outputs": [],
   "source": [
    "USE_LORA=False"
   ]
  },
  {
   "cell_type": "code",
   "execution_count": 47,
   "metadata": {
    "colab": {
     "base_uri": "https://localhost:8080/"
    },
    "execution": {
     "iopub.execute_input": "2025-01-05T19:16:19.041374Z",
     "iopub.status.busy": "2025-01-05T19:16:19.041125Z",
     "iopub.status.idle": "2025-01-05T19:16:55.700389Z",
     "shell.execute_reply": "2025-01-05T19:16:55.699744Z",
     "shell.execute_reply.started": "2025-01-05T19:16:19.041354Z"
    },
    "id": "RTwQtNnRZXNI",
    "outputId": "178047e4-136d-4f7b-c2b9-5677f8939533",
    "trusted": true
   },
   "outputs": [
    {
     "name": "stdout",
     "output_type": "stream",
     "text": [
      "FacebookAI/xlm-roberta-large\n"
     ]
    },
    {
     "data": {
      "application/vnd.jupyter.widget-view+json": {
       "model_id": "64cb0273d3784d3d8e6962beecd7a8f6",
       "version_major": 2,
       "version_minor": 0
      },
      "text/plain": [
       "tokenizer_config.json:   0%|          | 0.00/25.0 [00:00<?, ?B/s]"
      ]
     },
     "metadata": {},
     "output_type": "display_data"
    },
    {
     "data": {
      "application/vnd.jupyter.widget-view+json": {
       "model_id": "fbbe6ab945ed4a7bb08db0455febaf43",
       "version_major": 2,
       "version_minor": 0
      },
      "text/plain": [
       "config.json:   0%|          | 0.00/616 [00:00<?, ?B/s]"
      ]
     },
     "metadata": {},
     "output_type": "display_data"
    },
    {
     "data": {
      "application/vnd.jupyter.widget-view+json": {
       "model_id": "9126f1c70e614b7789e80cf39df393bf",
       "version_major": 2,
       "version_minor": 0
      },
      "text/plain": [
       "sentencepiece.bpe.model:   0%|          | 0.00/5.07M [00:00<?, ?B/s]"
      ]
     },
     "metadata": {},
     "output_type": "display_data"
    },
    {
     "data": {
      "application/vnd.jupyter.widget-view+json": {
       "model_id": "7ee8b0be3e5b47fd943bf6bb91e68b90",
       "version_major": 2,
       "version_minor": 0
      },
      "text/plain": [
       "tokenizer.json:   0%|          | 0.00/9.10M [00:00<?, ?B/s]"
      ]
     },
     "metadata": {},
     "output_type": "display_data"
    },
    {
     "data": {
      "application/vnd.jupyter.widget-view+json": {
       "model_id": "172db50281184674b649f3f4d1dc13dd",
       "version_major": 2,
       "version_minor": 0
      },
      "text/plain": [
       "model.safetensors:   0%|          | 0.00/2.24G [00:00<?, ?B/s]"
      ]
     },
     "metadata": {},
     "output_type": "display_data"
    },
    {
     "name": "stderr",
     "output_type": "stream",
     "text": [
      "Some weights of XLMRobertaForSequenceClassification were not initialized from the model checkpoint at FacebookAI/xlm-roberta-large and are newly initialized: ['classifier.dense.bias', 'classifier.dense.weight', 'classifier.out_proj.bias', 'classifier.out_proj.weight']\n",
      "You should probably TRAIN this model on a down-stream task to be able to use it for predictions and inference.\n"
     ]
    }
   ],
   "source": [
    "\n",
    "\n",
    "torch.cuda.empty_cache()\n",
    "\n",
    "\n",
    "\n",
    "print(x)\n",
    "\n",
    "tokenizer = AutoTokenizer.from_pretrained(x)\n",
    "\n",
    "model = AutoModelForSequenceClassification.from_pretrained(x, num_labels=len(label_columns),\n",
    "\n",
    "                                                            ignore_mismatched_sizes=True,\n",
    "\n",
    "                                                            quantization_config=quantization_config if USE_LORA else None,\n",
    "\n",
    "                                                            # low_cpu_mem_usage=True,\n",
    "\n",
    "                                                           torch_dtype=torch.bfloat16,\n",
    "\n",
    "                                                           problem_type = \"multi_label_classification\",\n",
    "\n",
    "\n",
    "\n",
    "                                                            )"
   ]
  },
  {
   "cell_type": "code",
   "execution_count": 48,
   "metadata": {
    "colab": {
     "base_uri": "https://localhost:8080/"
    },
    "execution": {
     "iopub.execute_input": "2025-01-05T19:16:55.701670Z",
     "iopub.status.busy": "2025-01-05T19:16:55.701384Z",
     "iopub.status.idle": "2025-01-05T19:16:55.708108Z",
     "shell.execute_reply": "2025-01-05T19:16:55.707487Z",
     "shell.execute_reply.started": "2025-01-05T19:16:55.701637Z"
    },
    "id": "h5TGLlXVBaeB",
    "outputId": "4c6e1856-4702-4d4f-d22d-f22f09834d7c",
    "trusted": true
   },
   "outputs": [
    {
     "data": {
      "text/plain": [
       "[]"
      ]
     },
     "execution_count": 48,
     "metadata": {},
     "output_type": "execute_result"
    }
   ],
   "source": [
    "def find_target_modules(model):\n",
    "    # Initialize a Set to Store Unique Layers\n",
    "    unique_layers = set()\n",
    "\n",
    "    # Iterate Over All Named Modules in the Model\n",
    "    for name, module in model.named_modules():\n",
    "        # Check if the Module Type Contains 'Linear4bit'\n",
    "        if \"Linear4bit\" in str(type(module)):\n",
    "            # Extract the Type of the Layer\n",
    "            layer_type = name.split('.')[-1]\n",
    "\n",
    "            # Add the Layer Type to the Set of Unique Layers\n",
    "            unique_layers.add(layer_type)\n",
    "\n",
    "    # Return the Set of Unique Layers Converted to a List\n",
    "    return list(unique_layers)\n",
    "find_target_modules(model)"
   ]
  },
  {
   "cell_type": "code",
   "execution_count": 49,
   "metadata": {
    "execution": {
     "iopub.execute_input": "2025-01-05T19:16:55.709120Z",
     "iopub.status.busy": "2025-01-05T19:16:55.708803Z",
     "iopub.status.idle": "2025-01-05T19:16:55.719611Z",
     "shell.execute_reply": "2025-01-05T19:16:55.718745Z",
     "shell.execute_reply.started": "2025-01-05T19:16:55.709100Z"
    },
    "id": "AmPLSuxxBaeB",
    "trusted": true
   },
   "outputs": [],
   "source": [
    "# a="
   ]
  },
  {
   "cell_type": "code",
   "execution_count": 50,
   "metadata": {
    "execution": {
     "iopub.execute_input": "2025-01-05T19:16:55.720543Z",
     "iopub.status.busy": "2025-01-05T19:16:55.720340Z",
     "iopub.status.idle": "2025-01-05T19:16:55.734097Z",
     "shell.execute_reply": "2025-01-05T19:16:55.733332Z",
     "shell.execute_reply.started": "2025-01-05T19:16:55.720525Z"
    },
    "id": "MCHCmWeqZd1R",
    "trusted": true
   },
   "outputs": [],
   "source": [
    "model.train() # model in training mode (dropout modules are activated)\n",
    "\n",
    "if USE_LORA:\n",
    "\n",
    "  # enable gradient check pointing\n",
    "\n",
    "  model.gradient_checkpointing_enable()\n",
    "\n",
    "  target_modules_dict={\n",
    "\n",
    "      \"microsoft/Phi-3.5-mini-instruct\":'all-linear',\n",
    "      \"unsloth/Llama-3.2-1B-Instruct\":[\"q_proj\",\"k_proj\",\"v_proj\"],\n",
    "      \"unsloth/Qwen2.5-3B-Instruct-bnb-4bit\":[\"q_proj\",\"k_proj\",\"v_proj\"],\n",
    "  }\n",
    "\n",
    "  target_modules= target_modules_dict.get(x,[\"q_proj\"])\n",
    "\n",
    "\n",
    "\n",
    "  # enable quantized training\n",
    "\n",
    "  model = prepare_model_for_kbit_training(model)\n",
    "\n",
    "  config = LoraConfig(\n",
    "\n",
    "    r=8,\n",
    "\n",
    "    lora_alpha=32,\n",
    "\n",
    "    # target_modules=[\"k_proj\"],\n",
    "\n",
    "    target_modules = target_modules,#TODOOOOOOOOOOOOO\n",
    "\n",
    "    lora_dropout=0.1,\n",
    "\n",
    "    bias=\"none\",\n",
    "\n",
    "    task_type=\"SEQ_CLS\",\n",
    "\n",
    "  )\n",
    "\n",
    "  # LoRA trainable version of model\n",
    "\n",
    "  model = get_peft_model(model, config)\n",
    "\n",
    "\n",
    "\n",
    "  # trainable parameter count\n",
    "\n",
    "  model.print_trainable_parameters()\n",
    "\n",
    "device=\"cuda\" if torch.cuda.is_available() else 'cpu'"
   ]
  },
  {
   "cell_type": "code",
   "execution_count": 51,
   "metadata": {
    "colab": {
     "base_uri": "https://localhost:8080/",
     "height": 36
    },
    "execution": {
     "iopub.execute_input": "2025-01-05T19:16:55.735081Z",
     "iopub.status.busy": "2025-01-05T19:16:55.734823Z",
     "iopub.status.idle": "2025-01-05T19:16:55.748810Z",
     "shell.execute_reply": "2025-01-05T19:16:55.747995Z",
     "shell.execute_reply.started": "2025-01-05T19:16:55.735061Z"
    },
    "id": "PxWaxUtlO_Ev",
    "outputId": "027e9b9a-d282-4d65-de7f-8829f59ff0a5",
    "trusted": true
   },
   "outputs": [
    {
     "data": {
      "text/plain": [
       "'<pad>'"
      ]
     },
     "execution_count": 51,
     "metadata": {},
     "output_type": "execute_result"
    }
   ],
   "source": [
    "if tokenizer.pad_token is None:\n",
    "    print(\"adding tokenizer token\")\n",
    "    # tokenizer.add_special_tokens({'pad_token': '[PAD]'})\n",
    "\n",
    "    tokenizer.pad_token=tokenizer.eos_token\n",
    "\n",
    "    model.config.pad_token_id = tokenizer.pad_token_id\n",
    "\n",
    "    # model.resize_token_embeddings(len(tokenizer))\n",
    "\n",
    "    if model.config.pad_token_id is None:\n",
    "        print(\"setting model pad token\")\n",
    "        model.config.pad_token_id = tokenizer.pad_token_id\n",
    "\n",
    "tokenizer.pad_token"
   ]
  },
  {
   "cell_type": "code",
   "execution_count": 52,
   "metadata": {
    "colab": {
     "base_uri": "https://localhost:8080/",
     "height": 36
    },
    "execution": {
     "iopub.execute_input": "2025-01-05T19:16:55.749945Z",
     "iopub.status.busy": "2025-01-05T19:16:55.749694Z",
     "iopub.status.idle": "2025-01-05T19:16:55.760182Z",
     "shell.execute_reply": "2025-01-05T19:16:55.759477Z",
     "shell.execute_reply.started": "2025-01-05T19:16:55.749920Z"
    },
    "id": "CWtjrTGfJtvS",
    "outputId": "f2d7586f-f7fc-403b-ef2f-bf68cdb67a61",
    "trusted": true
   },
   "outputs": [
    {
     "data": {
      "text/plain": [
       "'cuda'"
      ]
     },
     "execution_count": 52,
     "metadata": {},
     "output_type": "execute_result"
    }
   ],
   "source": [
    "device"
   ]
  },
  {
   "cell_type": "code",
   "execution_count": 53,
   "metadata": {
    "execution": {
     "iopub.execute_input": "2025-01-05T19:16:55.761188Z",
     "iopub.status.busy": "2025-01-05T19:16:55.760917Z",
     "iopub.status.idle": "2025-01-05T19:16:56.101169Z",
     "shell.execute_reply": "2025-01-05T19:16:56.100496Z",
     "shell.execute_reply.started": "2025-01-05T19:16:55.761160Z"
    },
    "id": "Ot09dhy1Jq2T",
    "trusted": true
   },
   "outputs": [],
   "source": [
    "model = model.to(device)\n",
    "\n",
    "# for param in model.parameters():\n",
    "\n",
    "#     param.data = param.data.contiguous()\n"
   ]
  },
  {
   "cell_type": "code",
   "execution_count": 54,
   "metadata": {
    "colab": {
     "base_uri": "https://localhost:8080/"
    },
    "execution": {
     "iopub.execute_input": "2025-01-05T19:16:56.106266Z",
     "iopub.status.busy": "2025-01-05T19:16:56.106034Z",
     "iopub.status.idle": "2025-01-05T19:16:56.135876Z",
     "shell.execute_reply": "2025-01-05T19:16:56.135247Z",
     "shell.execute_reply.started": "2025-01-05T19:16:56.106246Z"
    },
    "id": "QdJNlzlyJ5Ae",
    "outputId": "78f5bc6c-935b-499e-ee40-e00d8d732226",
    "trusted": true
   },
   "outputs": [
    {
     "name": "stderr",
     "output_type": "stream",
     "text": [
      "Using the `WANDB_DISABLED` environment variable is deprecated and will be removed in v5. Use the --report_to flag to control the integrations used for logging result (for instance --report_to none).\n"
     ]
    }
   ],
   "source": [
    "os.environ['WANDB_DISABLED']=\"true\"\n",
    "training_args = train_arg()"
   ]
  },
  {
   "cell_type": "code",
   "execution_count": 55,
   "metadata": {
    "execution": {
     "iopub.execute_input": "2025-01-05T19:16:56.137139Z",
     "iopub.status.busy": "2025-01-05T19:16:56.136863Z",
     "iopub.status.idle": "2025-01-05T19:16:56.308198Z",
     "shell.execute_reply": "2025-01-05T19:16:56.307243Z",
     "shell.execute_reply.started": "2025-01-05T19:16:56.137117Z"
    },
    "id": "6Cx4DPiiIs_7",
    "trusted": true
   },
   "outputs": [],
   "source": [
    "train_dataset,valid_dataset=build_dataset(x_train,y_train,x_valid,y_valid,MAX_LENGTH)"
   ]
  },
  {
   "cell_type": "code",
   "execution_count": 56,
   "metadata": {
    "execution": {
     "iopub.execute_input": "2025-01-05T19:16:56.309326Z",
     "iopub.status.busy": "2025-01-05T19:16:56.309105Z",
     "iopub.status.idle": "2025-01-05T19:16:56.313236Z",
     "shell.execute_reply": "2025-01-05T19:16:56.312522Z",
     "shell.execute_reply.started": "2025-01-05T19:16:56.309308Z"
    },
    "trusted": true
   },
   "outputs": [],
   "source": [
    "# Define a custom loss function to handle class weights for multilabel classification\n",
    "def custom_loss(output, target):\n",
    "    # BCEWithLogitsLoss with pos_weight for each class\n",
    "    loss_fn = torch.nn.BCEWithLogitsLoss(pos_weight=class_weights_tensor)\n",
    "    return loss_fn(output, target)"
   ]
  },
  {
   "cell_type": "code",
   "execution_count": 57,
   "metadata": {
    "execution": {
     "iopub.execute_input": "2025-01-05T19:16:56.314304Z",
     "iopub.status.busy": "2025-01-05T19:16:56.314036Z",
     "iopub.status.idle": "2025-01-05T19:16:56.326089Z",
     "shell.execute_reply": "2025-01-05T19:16:56.325408Z",
     "shell.execute_reply.started": "2025-01-05T19:16:56.314269Z"
    },
    "trusted": true
   },
   "outputs": [],
   "source": [
    "# Define the Trainer with custom loss function\n",
    "class CustomTrainer(Trainer):\n",
    "    def compute_loss(self, model, inputs, return_outputs=False,num_items_in_batch=None):\n",
    "        labels = inputs.get(\"labels\")\n",
    "        outputs = model(**inputs)\n",
    "        logits = outputs.logits\n",
    "        loss = custom_loss(logits, labels)\n",
    "        return (loss, outputs) if return_outputs else loss"
   ]
  },
  {
   "cell_type": "code",
   "execution_count": 58,
   "metadata": {
    "execution": {
     "iopub.execute_input": "2025-01-05T19:16:56.327256Z",
     "iopub.status.busy": "2025-01-05T19:16:56.326971Z",
     "iopub.status.idle": "2025-01-05T19:16:56.857077Z",
     "shell.execute_reply": "2025-01-05T19:16:56.856430Z",
     "shell.execute_reply.started": "2025-01-05T19:16:56.327226Z"
    },
    "id": "WCD2WpxWaQBx",
    "trusted": true
   },
   "outputs": [],
   "source": [
    "trainer = CustomTrainer(\n",
    "\n",
    "    model=model,\n",
    "\n",
    "    args=training_args,\n",
    "\n",
    "    train_dataset=train_dataset,\n",
    "\n",
    "    eval_dataset=valid_dataset,\n",
    "\n",
    "    compute_metrics=compute_metrics,\n",
    "\n",
    "    # data_collator=data_collator\n",
    "\n",
    ")"
   ]
  },
  {
   "cell_type": "code",
   "execution_count": 59,
   "metadata": {
    "colab": {
     "background_save": true,
     "base_uri": "https://localhost:8080/",
     "height": 388
    },
    "execution": {
     "iopub.execute_input": "2025-01-05T19:16:56.858144Z",
     "iopub.status.busy": "2025-01-05T19:16:56.857848Z",
     "iopub.status.idle": "2025-01-05T19:27:48.088545Z",
     "shell.execute_reply": "2025-01-05T19:27:48.087647Z",
     "shell.execute_reply.started": "2025-01-05T19:16:56.858106Z"
    },
    "id": "YbO6fS_6nNWA",
    "outputId": "ef3d604c-843d-47ce-a99f-aa7616b57e6c",
    "trusted": true
   },
   "outputs": [
    {
     "data": {
      "text/html": [
       "\n",
       "    <div>\n",
       "      \n",
       "      <progress value='414' max='414' style='width:300px; height:20px; vertical-align: middle;'></progress>\n",
       "      [414/414 10:48, Epoch 2/3]\n",
       "    </div>\n",
       "    <table border=\"1\" class=\"dataframe\">\n",
       "  <thead>\n",
       " <tr style=\"text-align: left;\">\n",
       "      <th>Step</th>\n",
       "      <th>Training Loss</th>\n",
       "      <th>Validation Loss</th>\n",
       "    </tr>\n",
       "  </thead>\n",
       "  <tbody>\n",
       "  </tbody>\n",
       "</table><p>"
      ],
      "text/plain": [
       "<IPython.core.display.HTML object>"
      ]
     },
     "metadata": {},
     "output_type": "display_data"
    }
   ],
   "source": [
    "checkpoints = sorted(glob.glob(os.path.join(trainer.args.output_dir, \"checkpoint-*\")), key=os.path.getmtime)\n",
    "\n",
    "\n",
    "\n",
    "resume_checkpoint = True if checkpoints else False\n",
    "\n",
    "model.config.use_cache = False  # silence the warnings. Please re-enable for inference!\n",
    "\n",
    "trainer.train(resume_from_checkpoint=resume_checkpoint)\n",
    "\n",
    "model.config.use_cache = True\n"
   ]
  },
  {
   "cell_type": "code",
   "execution_count": 60,
   "metadata": {
    "colab": {
     "background_save": true
    },
    "execution": {
     "iopub.execute_input": "2025-01-05T19:27:48.089892Z",
     "iopub.status.busy": "2025-01-05T19:27:48.089538Z",
     "iopub.status.idle": "2025-01-05T19:28:38.930014Z",
     "shell.execute_reply": "2025-01-05T19:28:38.929111Z",
     "shell.execute_reply.started": "2025-01-05T19:27:48.089854Z"
    },
    "id": "uGLXR8HmBaeC",
    "outputId": "a3ce297c-577b-425f-e2a5-23cb923c5932",
    "trusted": true
   },
   "outputs": [
    {
     "data": {
      "text/html": [],
      "text/plain": [
       "<IPython.core.display.HTML object>"
      ]
     },
     "metadata": {},
     "output_type": "display_data"
    },
    {
     "name": "stdout",
     "output_type": "stream",
     "text": [
      "Type of predicted_logits: <class 'numpy.ndarray'>\n"
     ]
    },
    {
     "name": "stderr",
     "output_type": "stream",
     "text": [
      "/usr/local/lib/python3.10/dist-packages/sklearn/metrics/_classification.py:1344: UndefinedMetricWarning: Precision and F-score are ill-defined and being set to 0.0 in labels with no predicted samples. Use `zero_division` parameter to control this behavior.\n",
      "  _warn_prf(average, modifier, msg_start, len(result))\n"
     ]
    },
    {
     "name": "stdout",
     "output_type": "stream",
     "text": [
      "Type of predicted_logits: <class 'numpy.ndarray'>\n"
     ]
    },
    {
     "name": "stderr",
     "output_type": "stream",
     "text": [
      "/usr/local/lib/python3.10/dist-packages/sklearn/metrics/_classification.py:1344: UndefinedMetricWarning: Precision and F-score are ill-defined and being set to 0.0 in labels with no predicted samples. Use `zero_division` parameter to control this behavior.\n",
      "  _warn_prf(average, modifier, msg_start, len(result))\n"
     ]
    },
    {
     "name": "stdout",
     "output_type": "stream",
     "text": [
      "Type of predicted_logits: <class 'numpy.ndarray'>\n"
     ]
    },
    {
     "name": "stderr",
     "output_type": "stream",
     "text": [
      "<ipython-input-60-280a069bd3c3>:19: FutureWarning: The behavior of DataFrame concatenation with empty or all-NA entries is deprecated. In a future version, this will no longer exclude empty or all-NA columns when determining the result dtypes. To retain the old behavior, exclude the relevant entries before the concat operation.\n",
      "  metrics_df = pd.concat([metrics_df, new_data], ignore_index=True)\n"
     ]
    },
    {
     "data": {
      "text/html": [],
      "text/plain": [
       "<IPython.core.display.HTML object>"
      ]
     },
     "metadata": {},
     "output_type": "display_data"
    },
    {
     "name": "stdout",
     "output_type": "stream",
     "text": [
      "Type of predicted_logits: <class 'numpy.ndarray'>\n"
     ]
    },
    {
     "name": "stderr",
     "output_type": "stream",
     "text": [
      "/usr/local/lib/python3.10/dist-packages/sklearn/metrics/_classification.py:1344: UndefinedMetricWarning: Precision and F-score are ill-defined and being set to 0.0 in labels with no predicted samples. Use `zero_division` parameter to control this behavior.\n",
      "  _warn_prf(average, modifier, msg_start, len(result))\n"
     ]
    },
    {
     "name": "stdout",
     "output_type": "stream",
     "text": [
      "Computing confusion matrix for label: anger\n",
      "Computing confusion matrix for label: fear\n",
      "Computing confusion matrix for label: joy\n",
      "Computing confusion matrix for label: sadness\n",
      "Computing confusion matrix for label: surprise\n",
      "FacebookAI/xlm-roberta-large evaluates:\n",
      "Class 'anger': Precision: 0.0000, Recall: 0.0000, F1: 0.0000\n",
      "Class 'fear': Precision: 0.6137, Recall: 1.0000, F1: 0.7606\n",
      "Class 'joy': Precision: 0.0000, Recall: 0.0000, F1: 0.0000\n",
      "Class 'sadness': Precision: 0.0000, Recall: 0.0000, F1: 0.0000\n",
      "Class 'surprise': Precision: 0.0000, Recall: 0.0000, F1: 0.0000\n",
      "Overall accuracy: 0.1426\n",
      "-------------------------------------------------------------------------\n",
      "\n"
     ]
    }
   ],
   "source": [
    "model.config.use_cache = True\n",
    "precision, recall, f1,accuracy=evaluate_func(trainer)\n",
    "new_data = pd.DataFrame({\n",
    "\n",
    "  \"Models_name\": [x],\n",
    "\n",
    "  \"Precision\": [precision],\n",
    "\n",
    "  \"Recall\": [recall],\n",
    "\n",
    "  \"F1_score\": [f1],\n",
    "\n",
    "  \"Accuracy\": [accuracy]\n",
    "\n",
    "})\n",
    "\n",
    "\n",
    "\n",
    "metrics_df = pd.concat([metrics_df, new_data], ignore_index=True)\n",
    "\n",
    "\n",
    "\n",
    "model_confusion_matrices = []\n",
    "\n",
    "predicted_classes = trainer.predict(valid_dataset).predictions\n",
    "\n",
    "\n",
    "\n",
    "\n",
    "\n",
    "\n",
    "\n",
    "if isinstance(predicted_classes, tuple) :\n",
    "\n",
    "  predicted_classes = predicted_classes[0]\n",
    "\n",
    "predicted_classes = np.array(predicted_classes)\n",
    "\n",
    "# print(f\"Type after conversion: {type(predicted_classes)}\")\n",
    "\n",
    "\n",
    "\n",
    "if len(predicted_classes.shape) > 2:\n",
    "\n",
    "  predicted_classes = predicted_classes.reshape(predicted_classes.shape[0], -1)\n",
    "\n",
    "  # print(f\"Shape after reshaping: {predicted_classes.shape}\")\n",
    "\n",
    "\n",
    "\n",
    "\n",
    "\n",
    "\n",
    "\n",
    "\n",
    "\n",
    "predicted_classes = (expit(predicted_classes) >= 0.5).astype(int)\n",
    "\n",
    "\n",
    "\n",
    "y_valid_np = np.array(y_valid)\n",
    "\n",
    "\n",
    "\n",
    "for j in range(len(label_columns)):\n",
    "\n",
    "    print(f\"Computing confusion matrix for label: {label_columns[j]}\")\n",
    "\n",
    "    cm = confusion_matrix(y_valid_np[:, j], predicted_classes[:, j])\n",
    "\n",
    "\n",
    "\n",
    "    # cm = confusion_matrix(y_valid[:, j], predicted_classes[:, j])\n",
    "\n",
    "    model_confusion_matrices.append(cm)\n",
    "\n",
    "confusion_matrices.append(model_confusion_matrices)\n",
    "\n",
    "\n",
    "\n",
    "\n",
    "\n",
    "print(f\"{x} evaluates:\")\n",
    "\n",
    "for k, label in enumerate(label_columns):\n",
    "\n",
    "  print(f\"Class '{label}': Precision: {precision[k]:.4f}, Recall: {recall[k]:.4f}, F1: {f1[k]:.4f}\")\n",
    "\n",
    "print(f\"Overall accuracy: {accuracy:.4f}\")\n",
    "\n",
    "print(\"-------------------------------------------------------------------------\\n\")"
   ]
  },
  {
   "cell_type": "code",
   "execution_count": 61,
   "metadata": {
    "colab": {
     "background_save": true
    },
    "execution": {
     "iopub.execute_input": "2025-01-05T19:28:38.931551Z",
     "iopub.status.busy": "2025-01-05T19:28:38.931216Z",
     "iopub.status.idle": "2025-01-05T19:28:55.906245Z",
     "shell.execute_reply": "2025-01-05T19:28:55.905305Z",
     "shell.execute_reply.started": "2025-01-05T19:28:38.931505Z"
    },
    "id": "nNQrEWEJBaeC",
    "outputId": "a3a20055-8bd6-48e6-d41e-cfb4cbb2ad70",
    "trusted": true
   },
   "outputs": [
    {
     "data": {
      "text/html": [],
      "text/plain": [
       "<IPython.core.display.HTML object>"
      ]
     },
     "metadata": {},
     "output_type": "display_data"
    },
    {
     "name": "stdout",
     "output_type": "stream",
     "text": [
      "  Language  Precision    Recall  F1_score  Accuracy\n",
      "0      eng   0.236849  0.385925  0.293545  0.142599\n"
     ]
    },
    {
     "name": "stderr",
     "output_type": "stream",
     "text": [
      "/usr/local/lib/python3.10/dist-packages/sklearn/metrics/_classification.py:1344: UndefinedMetricWarning: Precision and F-score are ill-defined and being set to 0.0 in labels with no predicted samples. Use `zero_division` parameter to control this behavior.\n",
      "  _warn_prf(average, modifier, msg_start, len(result))\n",
      "<ipython-input-61-bf824cdfa0a4>:49: FutureWarning: The behavior of DataFrame concatenation with empty or all-NA entries is deprecated. In a future version, this will no longer exclude empty or all-NA columns when determining the result dtypes. To retain the old behavior, exclude the relevant entries before the concat operation.\n",
      "  lang_metrics_df = pd.concat([lang_metrics_df, new_data], ignore_index=True)\n"
     ]
    }
   ],
   "source": [
    "# Initialize a DataFrame to store the evaluation results for each language\n",
    "lang_metrics_df = pd.DataFrame(columns=[\"Language\", \"Precision\", \"Recall\", \"F1_score\", \"Accuracy\"])\n",
    "# Temporarily disable metric computation\n",
    "original_compute_metrics = trainer.compute_metrics\n",
    "trainer.compute_metrics = None\n",
    "\n",
    "# Iterate over each language\n",
    "for lang in langs:\n",
    "    # Filter the validation data for the current language\n",
    "    lang_valid_data = valid[valid['lang'] == lang]\n",
    "    lang_x_valid = lang_valid_data['clean_message'].values.tolist()\n",
    "    lang_y_valid = lang_valid_data[label_columns].values.tolist()\n",
    "    if(len(lang_valid_data)==0):\n",
    "      continue\n",
    "    # Tokenize the validation data\n",
    "    lang_valid_encodings = tokenizer(lang_x_valid, truncation=True, padding=\"max_length\", max_length=MAX_LENGTH)\n",
    "    lang_valid_dataset = Dataset(lang_valid_encodings, lang_y_valid)\n",
    "\n",
    "    # Get predictions\n",
    "    predictions = trainer.predict(lang_valid_dataset,)\n",
    "    predicted_logits = predictions.predictions\n",
    "\n",
    "    if isinstance(predicted_logits, tuple):\n",
    "        predicted_logits = predicted_logits[0]\n",
    "\n",
    "    if not isinstance(predicted_logits, np.ndarray):\n",
    "        predicted_logits = np.array(predicted_logits)\n",
    "\n",
    "    if len(predicted_logits.shape) == 3:\n",
    "        predicted_logits = predicted_logits[:, 0, :]\n",
    "\n",
    "    predicted_probabilities = expit(predicted_logits)\n",
    "    threshold = 0.5\n",
    "    predicted_classes = (predicted_probabilities >= threshold).astype(int)\n",
    "\n",
    "    # Compute metrics\n",
    "    precision, recall, f1, _ = precision_recall_fscore_support(lang_y_valid, predicted_classes, average=\"weighted\")\n",
    "    accuracy = accuracy_score(lang_y_valid, predicted_classes)\n",
    "\n",
    "    # Store the metrics in the DataFrame\n",
    "    new_data = pd.DataFrame({\n",
    "        \"Language\": [lang],\n",
    "        \"Precision\": [precision],\n",
    "        \"Recall\": [recall],\n",
    "        \"F1_score\": [f1],\n",
    "        \"Accuracy\": [accuracy]\n",
    "    })\n",
    "\n",
    "    lang_metrics_df = pd.concat([lang_metrics_df, new_data], ignore_index=True)\n",
    "\n",
    "# Display the evaluation results for each language\n",
    "print(lang_metrics_df)\n",
    "\n",
    "# Restore compute_metrics function if needed\n",
    "trainer.compute_metrics = original_compute_metrics"
   ]
  },
  {
   "cell_type": "code",
   "execution_count": 62,
   "metadata": {
    "execution": {
     "iopub.execute_input": "2025-01-05T19:28:55.907567Z",
     "iopub.status.busy": "2025-01-05T19:28:55.907259Z",
     "iopub.status.idle": "2025-01-05T19:28:55.913095Z",
     "shell.execute_reply": "2025-01-05T19:28:55.911868Z",
     "shell.execute_reply.started": "2025-01-05T19:28:55.907533Z"
    },
    "trusted": true
   },
   "outputs": [
    {
     "ename": "SyntaxError",
     "evalue": "invalid syntax (<ipython-input-62-2d920c342ece>, line 1)",
     "output_type": "error",
     "traceback": [
      "\u001b[0;36m  File \u001b[0;32m\"<ipython-input-62-2d920c342ece>\"\u001b[0;36m, line \u001b[0;32m1\u001b[0m\n\u001b[0;31m    a=\u001b[0m\n\u001b[0m      ^\u001b[0m\n\u001b[0;31mSyntaxError\u001b[0m\u001b[0;31m:\u001b[0m invalid syntax\n"
     ]
    }
   ],
   "source": [
    "a="
   ]
  },
  {
   "cell_type": "code",
   "execution_count": null,
   "metadata": {
    "execution": {
     "iopub.status.busy": "2025-01-05T19:28:55.913600Z",
     "iopub.status.idle": "2025-01-05T19:28:55.913934Z",
     "shell.execute_reply": "2025-01-05T19:28:55.913789Z"
    },
    "trusted": true
   },
   "outputs": [],
   "source": [
    "import os\n",
    "os.environ[\"HUGGING_FACE_HUB_TOKEN\"] = token"
   ]
  },
  {
   "cell_type": "code",
   "execution_count": null,
   "metadata": {
    "execution": {
     "iopub.status.busy": "2025-01-05T19:28:55.914755Z",
     "iopub.status.idle": "2025-01-05T19:28:55.915155Z",
     "shell.execute_reply": "2025-01-05T19:28:55.914946Z"
    },
    "trusted": true
   },
   "outputs": [],
   "source": [
    "trainer.push_to_hub(\"roberta-sentiment\")"
   ]
  }
 ],
 "metadata": {
  "accelerator": "GPU",
  "colab": {
   "gpuType": "T4",
   "provenance": []
  },
  "kaggle": {
   "accelerator": "gpu",
   "dataSources": [],
   "dockerImageVersionId": 30823,
   "isGpuEnabled": true,
   "isInternetEnabled": true,
   "language": "python",
   "sourceType": "notebook"
  },
  "kernelspec": {
   "display_name": "Python 3",
   "language": "python",
   "name": "python3"
  },
  "language_info": {
   "codemirror_mode": {
    "name": "ipython",
    "version": 3
   },
   "file_extension": ".py",
   "mimetype": "text/x-python",
   "name": "python",
   "nbconvert_exporter": "python",
   "pygments_lexer": "ipython3",
   "version": "3.10.12"
  }
 },
 "nbformat": 4,
 "nbformat_minor": 4
}
