{
  "cells": [
    {
      "cell_type": "code",
      "execution_count": 1,
      "metadata": {
        "colab": {
          "base_uri": "https://localhost:8080/"
        },
        "id": "g7wkyDC0IyuJ",
        "outputId": "da0f182b-8e36-45c6-cf8f-7231c82ed2cd"
      },
      "outputs": [
        {
          "name": "stdout",
          "output_type": "stream",
          "text": [
            "Downloading...\n",
            "From: https://drive.google.com/uc?id=15R1tP_ouELsObDb9M4RTq4jRQ4xHWj07\n",
            "To: /content/public_data_dev.zip\n",
            "100% 6.46M/6.46M [00:00<00:00, 31.9MB/s]\n"
          ]
        }
      ],
      "source": [
        "!gdown 15R1tP_ouELsObDb9M4RTq4jRQ4xHWj07"
      ]
    },
    {
      "cell_type": "code",
      "execution_count": 1,
      "metadata": {
        "colab": {
          "base_uri": "https://localhost:8080/"
        },
        "id": "Kf5ohrpWI-u4",
        "outputId": "94beedb2-93af-43d1-c4bf-d9cb19535241"
      },
      "outputs": [
        {
          "name": "stderr",
          "output_type": "stream",
          "text": [
            "'rm' is not recognized as an internal or external command,\n",
            "operable program or batch file.\n",
            "Downloading...\n",
            "From (original): https://drive.google.com/uc?id=1UNFaBN1JIg0rSdv9RYXr4jZm-F7-XSi8\n",
            "From (redirected): https://drive.google.com/uc?id=1UNFaBN1JIg0rSdv9RYXr4jZm-F7-XSi8&confirm=t&uuid=04cccc86-bd12-4b3e-ab60-9189e91499e6\n",
            "To: e:\\eLearning\\code\\TermArshad1\\SemEval2025_Task11\\output\\new 2025\\temp\\emo_unicode.py\n",
            "\n",
            "  0%|          | 0.00/304k [00:00<?, ?B/s]\n",
            "100%|██████████| 304k/304k [00:00<00:00, 861kB/s]\n",
            "100%|██████████| 304k/304k [00:00<00:00, 856kB/s]\n",
            "unzip:  cannot find either public_data_dev.zip or public_data_dev.zip.zip.\n"
          ]
        }
      ],
      "source": [
        "!rm -rf public_data emo_unicode.py\n",
        "!gdown 1UNFaBN1JIg0rSdv9RYXr4jZm-F7-XSi8\n",
        "!unzip -q public_data_dev.zip"
      ]
    },
    {
      "cell_type": "markdown",
      "metadata": {
        "id": "g-JLGLGAJNLD"
      },
      "source": [
        "INSTALLED"
      ]
    },
    {
      "cell_type": "code",
      "execution_count": 4,
      "metadata": {
        "colab": {
          "base_uri": "https://localhost:8080/"
        },
        "id": "4_fulKO1V1LK",
        "outputId": "db395667-7e09-4385-c694-97600a658398"
      },
      "outputs": [
        {
          "name": "stdout",
          "output_type": "stream",
          "text": [
            "\u001b[?25l     \u001b[90m━━━━━━━━━━━━━━━━━━━━━━━━━━━━━━━━━━━━━━━━\u001b[0m \u001b[32m0.0/175.4 kB\u001b[0m \u001b[31m?\u001b[0m eta \u001b[36m-:--:--\u001b[0m\r\u001b[2K     \u001b[91m━━━━━━━━━━━━━━━━━━━━━━━━━━━━\u001b[0m\u001b[90m╺\u001b[0m\u001b[90m━━━━━━━━━━━\u001b[0m \u001b[32m122.9/175.4 kB\u001b[0m \u001b[31m4.2 MB/s\u001b[0m eta \u001b[36m0:00:01\u001b[0m\r\u001b[2K     \u001b[90m━━━━━━━━━━━━━━━━━━━━━━━━━━━━━━━━━━━━━━━━\u001b[0m \u001b[32m175.4/175.4 kB\u001b[0m \u001b[31m3.2 MB/s\u001b[0m eta \u001b[36m0:00:00\u001b[0m\n",
            "\u001b[?25h  Preparing metadata (setup.py) ... \u001b[?25l\u001b[?25hdone\n",
            "\u001b[2K   \u001b[90m━━━━━━━━━━━━━━━━━━━━━━━━━━━━━━━━━━━━━━━━\u001b[0m \u001b[32m44.8/44.8 kB\u001b[0m \u001b[31m2.9 MB/s\u001b[0m eta \u001b[36m0:00:00\u001b[0m\n",
            "\u001b[2K   \u001b[90m━━━━━━━━━━━━━━━━━━━━━━━━━━━━━━━━━━━━━━━━\u001b[0m \u001b[32m235.5/235.5 kB\u001b[0m \u001b[31m9.1 MB/s\u001b[0m eta \u001b[36m0:00:00\u001b[0m\n",
            "\u001b[?25h  Building wheel for emoji (setup.py) ... \u001b[?25l\u001b[?25hdone\n"
          ]
        }
      ],
      "source": [
        "!pip install -q clean-text[gpl]"
      ]
    },
    {
      "cell_type": "code",
      "execution_count": 253,
      "metadata": {
        "id": "Tbpdh5w-Jw9F"
      },
      "outputs": [],
      "source": [
        "import numpy as np\n",
        "import pandas as pd\n",
        "from matplotlib import pyplot as plt\n",
        "%matplotlib inline\n",
        "import seaborn as sns\n",
        "import re\n",
        "import pandas as pd\n",
        "import time\n",
        "import os\n",
        "from sklearn import metrics\n",
        "import nltk\n",
        "from nltk.tokenize import word_tokenize\n",
        "from emo_unicode import UNICODE_EMOJI\n",
        "from tqdm.notebook import tqdm\n",
        "from tqdm import tqdm\n",
        "from cleantext import clean"
      ]
    },
    {
      "cell_type": "code",
      "execution_count": 254,
      "metadata": {
        "colab": {
          "base_uri": "https://localhost:8080/"
        },
        "id": "sar-JEBpWQMI",
        "outputId": "222ffa98-3cd7-404d-c51c-a3aeb0d086b4"
      },
      "outputs": [
        {
          "name": "stderr",
          "output_type": "stream",
          "text": [
            "[nltk_data] Downloading package punkt to\n",
            "[nltk_data]     C:\\Users\\Sadegh\\AppData\\Roaming\\nltk_data...\n",
            "[nltk_data]   Package punkt is already up-to-date!\n"
          ]
        },
        {
          "data": {
            "text/plain": [
              "True"
            ]
          },
          "execution_count": 254,
          "metadata": {},
          "output_type": "execute_result"
        }
      ],
      "source": [
        "nltk.download('punkt')"
      ]
    },
    {
      "cell_type": "markdown",
      "metadata": {
        "id": "oMfL-BzqJ3Ts"
      },
      "source": [
        "**load and preprocess**\n",
        "\n"
      ]
    },
    {
      "cell_type": "markdown",
      "metadata": {
        "id": "5kBkYBMUcjHx"
      },
      "source": [
        "constant\n"
      ]
    },
    {
      "cell_type": "code",
      "execution_count": 255,
      "metadata": {
        "id": "R-ib7WVVchXo"
      },
      "outputs": [],
      "source": [
        "emoji_regex = r\"[\\U0001F600-\\U0001F64F\\U0001F300-\\U0001F5FF\\U0001F680-\\U0001F6FF\\U0001F700-\\U0001F77F\\U0001F780-\\U0001F7FF\\U0001F800-\\U0001F8FF\\U0001F900-\\U0001F9FF\\U0001FA00-\\U0001FA6F\\U0001FA70-\\U0001FAFF\\u2600-\\u26FF\\u2700-\\u27BF]\"\n",
        "labels=['Anger','Disgust', 'Fear', 'Joy', 'Sadness', 'Surprise']\n",
        "kinds=[\"train\",\"dev\"]\n",
        "tasks=[\"track_a\",\"track_b\",\"track_c\"]\n",
        "langs=[\"afr\",\"amh\",\"arq\",\"ary\",\"chn\",\"deu\",\"eng\",\"esp\",\"hau\",\"hin\",\"ibo\",\"kin\",\"mar\",\"orm\",\"pcm\",\"ptbr\",\"ptmz\",\"ron\",\"rus\",\"som\",\"sun\",\"swa\",\"swe\",\"tat\",\"tir\",\"ukr\",\"vmw\",\"yor\",\"ind\",\"jav\",\"xho\",\"zul\"]\n",
        "\n"
      ]
    },
    {
      "cell_type": "code",
      "execution_count": 267,
      "metadata": {
        "id": "V5UbvcrjLKpQ"
      },
      "outputs": [],
      "source": [
        "def cleanhtml(raw_html):\n",
        "    cleanr = re.compile('<.*?>')\n",
        "    cleantext = re.sub(cleanr, '', raw_html)\n",
        "    return cleantext\n",
        "\n",
        "\n",
        "def cleaning(text,lang=\"en\"):\n",
        "    text = text.strip()\n",
        "    text = re.sub(r\"&.*?;\",'',text)\n",
        "\n",
        "    # cleaning htmls\n",
        "    text = cleanhtml(text)\n",
        "    \n",
        "    # regular cleaning\n",
        "    text = clean(text,\n",
        "        fix_unicode=True,\n",
        "        to_ascii=False,\n",
        "        lower=True,\n",
        "        no_line_breaks=True,\n",
        "        no_urls=True,\n",
        "        no_emails=True,\n",
        "        no_phone_numbers=True,\n",
        "        no_numbers=False,\n",
        "        no_digits=False,\n",
        "        no_currency_symbols=True,\n",
        "        no_punct=True,\n",
        "        # replace_with_url=\"\",\n",
        "        # replace_with_email=\"\",\n",
        "        # replace_with_phone_number=\"\",\n",
        "        # replace_with_number=\"\",\n",
        "        # replace_with_digit=\"0\",\n",
        "        # replace_with_currency_symbol=\"\",\n",
        "        lang=lang[:2]\n",
        "    )\n",
        "\n",
        "    # normalizing\n",
        "    text = str(text).lower()\n",
        "\n",
        "    \n",
        "    # Base pattern without the conditional part\n",
        "    base_pattern = (\n",
        "        # u\"\\U0001F600-\\U0001F64F\" # emoticons\n",
        "        u\"\\U0001F300-\\U0001F5FF\" # symbols & pictographs\n",
        "        u\"\\U0001F680-\\U0001F6FF\" # transport & map symbols\n",
        "        u\"\\U0001F1E0-\\U0001F1FF\" # flags (iOS)\n",
        "        u\"\\U00002702-\\U000027B0\"\n",
        "        u\"\\U0001f926-\\U0001f937\"\n",
        "        u'\\U00010000-\\U0010ffff'\n",
        "        u\"\\u200d\"\n",
        "        u\"\\u2640-\\u2642\"\n",
        "        u\"\\u2600-\\u2B55\"\n",
        "        u\"\\u23cf\"\n",
        "        u\"\\u23e9\"\n",
        "        u\"\\u231a\"\n",
        "        u\"\\u3030\"\n",
        "        u\"\\ufe0f\"\n",
        "        u\"\\u2069\"\n",
        "        u\"\\u2066\"\n",
        "        # u\"\\u200c\"\n",
        "        u\"\\u2068\"\n",
        "        u\"\\u2067\"\n",
        "    )\n",
        "\n",
        "    # Add the conditional part based on the value of `chn`\n",
        "    if lang!=\"chn\":\n",
        "        base_pattern += u\"\\U000024C2-\\U0001F251\"\n",
        "\n",
        "    # Compile the regex pattern\n",
        "    wierd_pattern = re.compile(f\"[{base_pattern}]+\", flags=re.UNICODE)\n",
        "\n",
        "    text = wierd_pattern.sub(r'', text)\n",
        "\n",
        "    # removing extra spaces, hashtags\n",
        "    text = re.sub(\"#\", \"\", text)\n",
        "    text = re.sub(\"\\s+\", \" \", text)\n",
        "\n",
        "    return text\n",
        "\n",
        "def convert_emoticons(text):\n",
        "  emojis=re.findall(emoji_regex,text)\n",
        "  # return emojis\n",
        "  for emot in emojis:\n",
        "    if emot not in UNICODE_EMOJI:\n",
        "      # print(\"gosh\")\n",
        "      text = re.sub(u'('+emot+')',\"\", text)\n",
        "    else:\n",
        "      text = re.sub(u'('+emot+')', '('+UNICODE_EMOJI[emot].replace('_',' ').replace(':','')+') ', text)\n",
        "  return text\n"
      ]
    },
    {
      "cell_type": "code",
      "execution_count": 268,
      "metadata": {},
      "outputs": [
        {
          "data": {
            "text/plain": [
              "'2018 y lo sigo escuchando Like si tú también , te amo @<username> amor terricola (vulcan salute) (red heart) ️'"
            ]
          },
          "execution_count": 268,
          "metadata": {},
          "output_type": "execute_result"
        }
      ],
      "source": [
        "a=convert_emoticons(\"2018 y lo sigo escuchando Like si tú también , te amo @<username> amor terricola 🖖❤️\")\n",
        "a"
      ]
    },
    {
      "cell_type": "code",
      "execution_count": 269,
      "metadata": {},
      "outputs": [
        {
          "data": {
            "text/plain": [
              "'2018 y lo sigo escuchando like si tú también te amo amor terricola vulcan salute red heart '"
            ]
          },
          "execution_count": 269,
          "metadata": {},
          "output_type": "execute_result"
        }
      ],
      "source": [
        "cleaning(a,lang=\"esp\")"
      ]
    },
    {
      "cell_type": "code",
      "execution_count": 270,
      "metadata": {
        "id": "yA704OVfLp_Q"
      },
      "outputs": [],
      "source": [
        "def safe_tokenize(message):\n",
        "    if isinstance(message, str):\n",
        "        return word_tokenize(message)\n",
        "    else:\n",
        "        return []"
      ]
    },
    {
      "cell_type": "code",
      "execution_count": 271,
      "metadata": {
        "colab": {
          "base_uri": "https://localhost:8080/"
        },
        "id": "0JtO9u4SN7Sh",
        "outputId": "3970d9ae-f44f-4864-e531-feda0d29f999"
      },
      "outputs": [
        {
          "name": "stderr",
          "output_type": "stream",
          "text": [
            "100%|██████████| 1222/1222 [00:00<00:00, 628888.28it/s]\n",
            "100%|██████████| 1222/1222 [00:00<00:00, 11429.72it/s]\n",
            "100%|██████████| 3549/3549 [00:00<00:00, 255507.04it/s]\n",
            "100%|██████████| 3549/3549 [00:00<00:00, 7422.23it/s]\n",
            "100%|██████████| 901/901 [00:00<00:00, 441479.90it/s]\n",
            "100%|██████████| 901/901 [00:00<00:00, 9048.50it/s]\n",
            "100%|██████████| 1608/1608 [00:00<00:00, 299593.14it/s]\n",
            "100%|██████████| 1608/1608 [00:00<00:00, 8937.80it/s]\n",
            "100%|██████████| 2642/2642 [00:00<00:00, 524188.80it/s]\n",
            "100%|██████████| 2642/2642 [00:00<00:00, 9211.48it/s]\n",
            "100%|██████████| 2603/2603 [00:00<00:00, 118790.24it/s]\n",
            "100%|██████████| 2603/2603 [00:00<00:00, 4514.08it/s]\n",
            "100%|██████████| 2768/2768 [00:00<00:00, 301906.99it/s]\n",
            "100%|██████████| 2768/2768 [00:00<00:00, 13419.35it/s]\n"
          ]
        },
        {
          "name": "stdout",
          "output_type": "stream",
          "text": [
            "train track_a eng doesn't have column disgust\n"
          ]
        },
        {
          "name": "stderr",
          "output_type": "stream",
          "text": [
            "100%|██████████| 1996/1996 [00:00<00:00, 205151.71it/s]\n",
            "100%|██████████| 1996/1996 [00:00<00:00, 11906.27it/s]\n",
            "100%|██████████| 2145/2145 [00:00<?, ?it/s]\n",
            "100%|██████████| 2145/2145 [00:00<00:00, 10621.00it/s]\n",
            "100%|██████████| 2556/2556 [00:00<00:00, 330201.16it/s]\n",
            "100%|██████████| 2556/2556 [00:00<00:00, 7603.20it/s]\n",
            "100%|██████████| 2880/2880 [00:00<00:00, 186246.81it/s]\n",
            "100%|██████████| 2880/2880 [00:00<00:00, 12308.27it/s]\n",
            "100%|██████████| 2451/2451 [00:00<00:00, 179828.21it/s]\n",
            "100%|██████████| 2451/2451 [00:00<00:00, 7690.67it/s]\n",
            "100%|██████████| 2415/2415 [00:00<00:00, 341454.38it/s]\n",
            "100%|██████████| 2415/2415 [00:00<00:00, 9419.21it/s]\n",
            "100%|██████████| 3442/3442 [00:00<00:00, 1375325.75it/s]\n",
            "100%|██████████| 3442/3442 [00:00<00:00, 9060.77it/s]\n",
            "100%|██████████| 3728/3728 [00:00<00:00, 574211.94it/s]\n",
            "100%|██████████| 3728/3728 [00:00<00:00, 10118.40it/s]\n",
            "100%|██████████| 2226/2226 [00:00<00:00, 370673.36it/s]\n",
            "100%|██████████| 2226/2226 [00:00<00:00, 7444.22it/s]\n",
            "100%|██████████| 1546/1546 [00:00<00:00, 337201.98it/s]\n",
            "100%|██████████| 1546/1546 [00:00<00:00, 10476.31it/s]\n",
            "100%|██████████| 1241/1241 [00:00<00:00, 194264.81it/s]\n",
            "100%|██████████| 1241/1241 [00:00<00:00, 8234.48it/s]\n",
            "100%|██████████| 2679/2679 [00:00<00:00, 666184.88it/s]\n",
            "100%|██████████| 2679/2679 [00:00<00:00, 10954.13it/s]\n",
            "100%|██████████| 3392/3392 [00:00<00:00, 176363.65it/s]\n",
            "100%|██████████| 3392/3392 [00:00<00:00, 9269.20it/s]\n",
            "100%|██████████| 924/924 [00:00<00:00, 48537.65it/s]\n",
            "100%|██████████| 924/924 [00:00<00:00, 13167.09it/s]\n",
            "100%|██████████| 3307/3307 [00:00<00:00, 299502.58it/s]\n",
            "100%|██████████| 3307/3307 [00:00<00:00, 12481.88it/s]\n",
            "100%|██████████| 1187/1187 [00:00<00:00, 210228.82it/s]\n",
            "100%|██████████| 1187/1187 [00:00<00:00, 4714.21it/s]\n",
            "100%|██████████| 1000/1000 [00:00<00:00, 175229.95it/s]\n",
            "100%|██████████| 1000/1000 [00:00<00:00, 10608.02it/s]\n",
            "100%|██████████| 3681/3681 [00:00<00:00, 249615.74it/s]\n",
            "100%|██████████| 3681/3681 [00:00<00:00, 7541.72it/s]\n",
            "100%|██████████| 2466/2466 [00:00<00:00, 346504.31it/s]\n",
            "100%|██████████| 2466/2466 [00:00<00:00, 12159.02it/s]\n",
            "100%|██████████| 1551/1551 [00:00<00:00, 92468.81it/s]\n",
            "100%|██████████| 1551/1551 [00:00<00:00, 13056.74it/s]\n",
            "100%|██████████| 2992/2992 [00:00<00:00, 493991.40it/s]\n",
            "100%|██████████| 2992/2992 [00:00<00:00, 7785.42it/s]\n"
          ]
        },
        {
          "name": "stdout",
          "output_type": "stream",
          "text": [
            "not found: public_data_dev/track_a/train/ind.csv\n",
            "not found: public_data_dev/track_a/train/jav.csv\n",
            "not found: public_data_dev/track_a/train/xho.csv\n",
            "not found: public_data_dev/track_a/train/zul.csv\n",
            "not found: public_data_dev/track_b/train/afr.csv\n"
          ]
        },
        {
          "name": "stderr",
          "output_type": "stream",
          "text": [
            "100%|██████████| 3549/3549 [00:00<00:00, 258529.04it/s]\n",
            "100%|██████████| 3549/3549 [00:00<00:00, 6952.31it/s]\n",
            "100%|██████████| 901/901 [00:00<00:00, 760835.09it/s]\n",
            "100%|██████████| 901/901 [00:00<00:00, 9307.04it/s]\n"
          ]
        },
        {
          "name": "stdout",
          "output_type": "stream",
          "text": [
            "not found: public_data_dev/track_b/train/ary.csv\n"
          ]
        },
        {
          "name": "stderr",
          "output_type": "stream",
          "text": [
            "100%|██████████| 2642/2642 [00:00<00:00, 139893.09it/s]\n",
            "100%|██████████| 2642/2642 [00:00<00:00, 8596.42it/s]\n",
            "100%|██████████| 2603/2603 [00:00<00:00, 150448.87it/s]\n",
            "100%|██████████| 2603/2603 [00:00<00:00, 4194.32it/s]\n",
            "100%|██████████| 2768/2768 [00:00<00:00, 5649554.00it/s]\n",
            "100%|██████████| 2768/2768 [00:00<00:00, 12828.77it/s]\n"
          ]
        },
        {
          "name": "stdout",
          "output_type": "stream",
          "text": [
            "train track_b eng doesn't have column disgust\n"
          ]
        },
        {
          "name": "stderr",
          "output_type": "stream",
          "text": [
            "100%|██████████| 1996/1996 [00:00<00:00, 585934.41it/s]\n",
            "100%|██████████| 1996/1996 [00:00<00:00, 13034.67it/s]\n",
            "100%|██████████| 2145/2145 [00:00<00:00, 192840.53it/s]\n",
            "100%|██████████| 2145/2145 [00:00<00:00, 10822.19it/s]\n"
          ]
        },
        {
          "name": "stdout",
          "output_type": "stream",
          "text": [
            "not found: public_data_dev/track_b/train/hin.csv\n",
            "not found: public_data_dev/track_b/train/ibo.csv\n",
            "not found: public_data_dev/track_b/train/kin.csv\n",
            "not found: public_data_dev/track_b/train/mar.csv\n",
            "not found: public_data_dev/track_b/train/orm.csv\n",
            "not found: public_data_dev/track_b/train/pcm.csv\n"
          ]
        },
        {
          "name": "stderr",
          "output_type": "stream",
          "text": [
            "100%|██████████| 2226/2226 [00:00<00:00, 116283.53it/s]\n",
            "100%|██████████| 2226/2226 [00:00<00:00, 7769.55it/s]\n"
          ]
        },
        {
          "name": "stdout",
          "output_type": "stream",
          "text": [
            "not found: public_data_dev/track_b/train/ptmz.csv\n"
          ]
        },
        {
          "name": "stderr",
          "output_type": "stream",
          "text": [
            "100%|██████████| 1241/1241 [00:00<00:00, 95621.04it/s]\n",
            "100%|██████████| 1241/1241 [00:00<00:00, 8151.98it/s]\n",
            "100%|██████████| 2220/2220 [00:00<00:00, 472873.64it/s]\n",
            "100%|██████████| 2220/2220 [00:00<00:00, 8558.88it/s]\n"
          ]
        },
        {
          "name": "stdout",
          "output_type": "stream",
          "text": [
            "not found: public_data_dev/track_b/train/som.csv\n",
            "not found: public_data_dev/track_b/train/sun.csv\n",
            "not found: public_data_dev/track_b/train/swa.csv\n",
            "not found: public_data_dev/track_b/train/swe.csv\n",
            "not found: public_data_dev/track_b/train/tat.csv\n",
            "not found: public_data_dev/track_b/train/tir.csv\n"
          ]
        },
        {
          "name": "stderr",
          "output_type": "stream",
          "text": [
            "100%|██████████| 2466/2466 [00:00<00:00, 267541.48it/s]\n",
            "100%|██████████| 2466/2466 [00:00<00:00, 8935.04it/s] \n"
          ]
        },
        {
          "name": "stdout",
          "output_type": "stream",
          "text": [
            "not found: public_data_dev/track_b/train/vmw.csv\n",
            "not found: public_data_dev/track_b/train/yor.csv\n",
            "not found: public_data_dev/track_b/train/ind.csv\n",
            "not found: public_data_dev/track_b/train/jav.csv\n",
            "not found: public_data_dev/track_b/train/xho.csv\n",
            "not found: public_data_dev/track_b/train/zul.csv\n",
            "not found: public_data_dev/track_c/train/afr.csv\n",
            "not found: public_data_dev/track_c/train/amh.csv\n",
            "not found: public_data_dev/track_c/train/arq.csv\n",
            "not found: public_data_dev/track_c/train/ary.csv\n",
            "not found: public_data_dev/track_c/train/chn.csv\n",
            "not found: public_data_dev/track_c/train/deu.csv\n",
            "not found: public_data_dev/track_c/train/eng.csv\n",
            "not found: public_data_dev/track_c/train/esp.csv\n",
            "not found: public_data_dev/track_c/train/hau.csv\n",
            "not found: public_data_dev/track_c/train/hin.csv\n",
            "not found: public_data_dev/track_c/train/ibo.csv\n",
            "not found: public_data_dev/track_c/train/kin.csv\n",
            "not found: public_data_dev/track_c/train/mar.csv\n",
            "not found: public_data_dev/track_c/train/orm.csv\n",
            "not found: public_data_dev/track_c/train/pcm.csv\n",
            "not found: public_data_dev/track_c/train/ptbr.csv\n",
            "not found: public_data_dev/track_c/train/ptmz.csv\n",
            "not found: public_data_dev/track_c/train/ron.csv\n",
            "not found: public_data_dev/track_c/train/rus.csv\n",
            "not found: public_data_dev/track_c/train/som.csv\n",
            "not found: public_data_dev/track_c/train/sun.csv\n",
            "not found: public_data_dev/track_c/train/swa.csv\n",
            "not found: public_data_dev/track_c/train/swe.csv\n",
            "not found: public_data_dev/track_c/train/tat.csv\n",
            "not found: public_data_dev/track_c/train/tir.csv\n",
            "not found: public_data_dev/track_c/train/ukr.csv\n",
            "not found: public_data_dev/track_c/train/vmw.csv\n",
            "not found: public_data_dev/track_c/train/yor.csv\n",
            "not found: public_data_dev/track_c/train/ind.csv\n",
            "not found: public_data_dev/track_c/train/jav.csv\n",
            "not found: public_data_dev/track_c/train/xho.csv\n",
            "not found: public_data_dev/track_c/train/zul.csv\n"
          ]
        },
        {
          "name": "stderr",
          "output_type": "stream",
          "text": [
            "100%|██████████| 98/98 [00:00<00:00, 44384.17it/s]\n",
            "100%|██████████| 98/98 [00:00<00:00, 16293.72it/s]\n",
            "100%|██████████| 592/592 [00:00<00:00, 227696.28it/s]\n",
            "100%|██████████| 592/592 [00:00<00:00, 4458.60it/s]\n",
            "100%|██████████| 100/100 [00:00<00:00, 99745.64it/s]\n",
            "100%|██████████| 100/100 [00:00<00:00, 5528.06it/s]\n",
            "100%|██████████| 267/267 [00:00<?, ?it/s]\n",
            "100%|██████████| 267/267 [00:00<00:00, 6381.01it/s]\n",
            "100%|██████████| 200/200 [00:00<00:00, 68078.30it/s]\n",
            "100%|██████████| 200/200 [00:00<00:00, 4308.35it/s]\n",
            "100%|██████████| 200/200 [00:00<00:00, 81498.18it/s]\n",
            "100%|██████████| 200/200 [00:00<00:00, 2853.14it/s]\n",
            "100%|██████████| 116/116 [00:00<?, ?it/s]\n",
            "100%|██████████| 116/116 [00:00<00:00, 8298.33it/s]\n"
          ]
        },
        {
          "name": "stdout",
          "output_type": "stream",
          "text": [
            "dev track_a eng doesn't have column disgust\n"
          ]
        },
        {
          "name": "stderr",
          "output_type": "stream",
          "text": [
            "100%|██████████| 184/184 [00:00<00:00, 192552.88it/s]\n",
            "100%|██████████| 184/184 [00:00<00:00, 9376.05it/s]\n",
            "100%|██████████| 356/356 [00:00<00:00, 56210.37it/s]\n",
            "100%|██████████| 356/356 [00:00<00:00, 4277.94it/s]\n",
            "100%|██████████| 100/100 [00:00<00:00, 101091.93it/s]\n",
            "100%|██████████| 100/100 [00:00<00:00, 3591.84it/s]\n",
            "100%|██████████| 479/479 [00:00<00:00, 99899.14it/s]\n",
            "100%|██████████| 479/479 [00:00<00:00, 6966.27it/s]\n",
            "100%|██████████| 407/407 [00:00<00:00, 107437.96it/s]\n",
            "100%|██████████| 407/407 [00:00<00:00, 3925.49it/s]\n",
            "100%|██████████| 100/100 [00:00<00:00, 80861.85it/s]\n",
            "100%|██████████| 100/100 [00:00<00:00, 4087.90it/s]\n",
            "100%|██████████| 574/574 [00:00<00:00, 76497.54it/s]\n",
            "100%|██████████| 574/574 [00:00<00:00, 6890.27it/s]\n",
            "100%|██████████| 620/620 [00:00<00:00, 279080.11it/s]\n",
            "100%|██████████| 620/620 [00:00<00:00, 9898.18it/s]\n",
            "100%|██████████| 200/200 [00:00<?, ?it/s]\n",
            "100%|██████████| 200/200 [00:00<00:00, 7170.30it/s]\n",
            "100%|██████████| 257/257 [00:00<?, ?it/s]\n",
            "100%|██████████| 257/257 [00:00<00:00, 7336.49it/s]\n",
            "100%|██████████| 123/123 [00:00<?, ?it/s]\n",
            "100%|██████████| 123/123 [00:00<00:00, 5898.22it/s]\n",
            "100%|██████████| 199/199 [00:00<00:00, 69660.03it/s]\n",
            "100%|██████████| 199/199 [00:00<00:00, 8019.62it/s]\n",
            "100%|██████████| 566/566 [00:00<00:00, 81636.04it/s]\n",
            "100%|██████████| 566/566 [00:00<00:00, 6742.24it/s]\n",
            "100%|██████████| 199/199 [00:00<00:00, 100260.24it/s]\n",
            "100%|██████████| 199/199 [00:00<00:00, 7904.64it/s]\n",
            "100%|██████████| 551/551 [00:00<00:00, 96194.03it/s]\n",
            "100%|██████████| 551/551 [00:00<00:00, 8829.64it/s]\n",
            "100%|██████████| 200/200 [00:00<00:00, 180672.15it/s]\n",
            "100%|██████████| 200/200 [00:00<00:00, 4301.34it/s]\n",
            "100%|██████████| 200/200 [00:00<?, ?it/s]\n",
            "100%|██████████| 200/200 [00:00<00:00, 11456.40it/s]\n",
            "100%|██████████| 614/614 [00:00<00:00, 89578.86it/s]\n",
            "100%|██████████| 614/614 [00:00<00:00, 6783.24it/s]\n",
            "100%|██████████| 249/249 [00:00<00:00, 243502.38it/s]\n",
            "100%|██████████| 249/249 [00:00<00:00, 8951.97it/s]\n",
            "100%|██████████| 258/258 [00:00<?, ?it/s]\n",
            "100%|██████████| 258/258 [00:00<00:00, 12487.95it/s]\n",
            "100%|██████████| 497/497 [00:00<?, ?it/s]\n",
            "100%|██████████| 497/497 [00:00<00:00, 6932.78it/s]\n"
          ]
        },
        {
          "name": "stdout",
          "output_type": "stream",
          "text": [
            "not found: public_data_dev/track_a/dev/ind.csv\n",
            "not found: public_data_dev/track_a/dev/jav.csv\n",
            "not found: public_data_dev/track_a/dev/xho.csv\n",
            "not found: public_data_dev/track_a/dev/zul.csv\n",
            "not found: public_data_dev/track_b/dev/afr.csv\n"
          ]
        },
        {
          "name": "stderr",
          "output_type": "stream",
          "text": [
            "100%|██████████| 592/592 [00:00<00:00, 118907.57it/s]\n",
            "100%|██████████| 592/592 [00:00<00:00, 5858.67it/s]\n",
            "100%|██████████| 100/100 [00:00<?, ?it/s]\n",
            "100%|██████████| 100/100 [00:00<00:00, 7480.21it/s]\n"
          ]
        },
        {
          "name": "stdout",
          "output_type": "stream",
          "text": [
            "not found: public_data_dev/track_b/dev/ary.csv\n"
          ]
        },
        {
          "name": "stderr",
          "output_type": "stream",
          "text": [
            "100%|██████████| 200/200 [00:00<?, ?it/s]\n",
            "100%|██████████| 200/200 [00:00<00:00, 10844.44it/s]\n",
            "100%|██████████| 200/200 [00:00<00:00, 67841.55it/s]\n",
            "100%|██████████| 200/200 [00:00<00:00, 4092.46it/s]\n",
            "100%|██████████| 116/116 [00:00<00:00, 180668.13it/s]\n",
            "100%|██████████| 116/116 [00:00<00:00, 17403.13it/s]\n"
          ]
        },
        {
          "name": "stdout",
          "output_type": "stream",
          "text": [
            "dev track_b eng doesn't have column disgust\n"
          ]
        },
        {
          "name": "stderr",
          "output_type": "stream",
          "text": [
            "100%|██████████| 184/184 [00:00<?, ?it/s]\n",
            "100%|██████████| 184/184 [00:00<00:00, 8637.50it/s]\n",
            "100%|██████████| 356/356 [00:00<00:00, 104075.57it/s]\n",
            "100%|██████████| 356/356 [00:00<00:00, 10689.49it/s]\n"
          ]
        },
        {
          "name": "stdout",
          "output_type": "stream",
          "text": [
            "not found: public_data_dev/track_b/dev/hin.csv\n",
            "not found: public_data_dev/track_b/dev/ibo.csv\n",
            "not found: public_data_dev/track_b/dev/kin.csv\n",
            "not found: public_data_dev/track_b/dev/mar.csv\n",
            "not found: public_data_dev/track_b/dev/orm.csv\n",
            "not found: public_data_dev/track_b/dev/pcm.csv\n"
          ]
        },
        {
          "name": "stderr",
          "output_type": "stream",
          "text": [
            "100%|██████████| 200/200 [00:00<00:00, 555905.10it/s]\n",
            "100%|██████████| 200/200 [00:00<00:00, 9573.41it/s]\n"
          ]
        },
        {
          "name": "stdout",
          "output_type": "stream",
          "text": [
            "not found: public_data_dev/track_b/dev/ptmz.csv\n"
          ]
        },
        {
          "name": "stderr",
          "output_type": "stream",
          "text": [
            "100%|██████████| 123/123 [00:00<?, ?it/s]\n",
            "100%|██████████| 123/123 [00:00<00:00, 8869.28it/s]\n",
            "100%|██████████| 343/343 [00:00<00:00, 646292.13it/s]\n",
            "100%|██████████| 343/343 [00:00<00:00, 10957.27it/s]\n"
          ]
        },
        {
          "name": "stdout",
          "output_type": "stream",
          "text": [
            "not found: public_data_dev/track_b/dev/som.csv\n",
            "not found: public_data_dev/track_b/dev/sun.csv\n",
            "not found: public_data_dev/track_b/dev/swa.csv\n",
            "not found: public_data_dev/track_b/dev/swe.csv\n",
            "not found: public_data_dev/track_b/dev/tat.csv\n",
            "not found: public_data_dev/track_b/dev/tir.csv\n"
          ]
        },
        {
          "name": "stderr",
          "output_type": "stream",
          "text": [
            "100%|██████████| 249/249 [00:00<00:00, 205546.49it/s]\n",
            "100%|██████████| 249/249 [00:00<00:00, 12337.21it/s]\n"
          ]
        },
        {
          "name": "stdout",
          "output_type": "stream",
          "text": [
            "not found: public_data_dev/track_b/dev/vmw.csv\n",
            "not found: public_data_dev/track_b/dev/yor.csv\n",
            "not found: public_data_dev/track_b/dev/ind.csv\n",
            "not found: public_data_dev/track_b/dev/jav.csv\n",
            "not found: public_data_dev/track_b/dev/xho.csv\n",
            "not found: public_data_dev/track_b/dev/zul.csv\n"
          ]
        },
        {
          "name": "stderr",
          "output_type": "stream",
          "text": [
            "100%|██████████| 98/98 [00:00<?, ?it/s]\n",
            "100%|██████████| 98/98 [00:00<00:00, 11193.95it/s]\n",
            "100%|██████████| 592/592 [00:00<?, ?it/s]\n",
            "100%|██████████| 592/592 [00:00<00:00, 7161.23it/s]\n",
            "100%|██████████| 100/100 [00:00<?, ?it/s]\n",
            "100%|██████████| 100/100 [00:00<00:00, 14778.04it/s]\n",
            "100%|██████████| 267/267 [00:00<?, ?it/s]\n",
            "100%|██████████| 267/267 [00:00<00:00, 9611.79it/s]\n",
            "100%|██████████| 200/200 [00:00<?, ?it/s]\n",
            "100%|██████████| 200/200 [00:00<00:00, 9703.98it/s]\n",
            "100%|██████████| 200/200 [00:00<?, ?it/s]\n",
            "100%|██████████| 200/200 [00:00<00:00, 4122.49it/s]\n",
            "100%|██████████| 116/116 [00:00<00:00, 167830.03it/s]\n",
            "100%|██████████| 116/116 [00:00<00:00, 12652.83it/s]\n"
          ]
        },
        {
          "name": "stdout",
          "output_type": "stream",
          "text": [
            "dev track_c eng doesn't have column disgust\n"
          ]
        },
        {
          "name": "stderr",
          "output_type": "stream",
          "text": [
            "100%|██████████| 184/184 [00:00<00:00, 134217.73it/s]\n",
            "100%|██████████| 184/184 [00:00<00:00, 11122.11it/s]\n",
            "100%|██████████| 356/356 [00:00<00:00, 207962.71it/s]\n",
            "100%|██████████| 356/356 [00:00<00:00, 11243.85it/s]\n",
            "100%|██████████| 100/100 [00:00<00:00, 99627.17it/s]\n",
            "100%|██████████| 100/100 [00:00<00:00, 7165.46it/s]\n",
            "100%|██████████| 479/479 [00:00<00:00, 137147.36it/s]\n",
            "100%|██████████| 479/479 [00:00<00:00, 11611.59it/s]\n",
            "100%|██████████| 407/407 [00:00<00:00, 138158.12it/s]\n",
            "100%|██████████| 407/407 [00:00<00:00, 7757.77it/s]\n",
            "100%|██████████| 100/100 [00:00<?, ?it/s]\n",
            "100%|██████████| 100/100 [00:00<00:00, 7259.72it/s]\n",
            "100%|██████████| 574/574 [00:00<00:00, 115602.16it/s]\n",
            "100%|██████████| 574/574 [00:00<00:00, 9883.21it/s]\n",
            "100%|██████████| 620/620 [00:00<00:00, 206846.05it/s]\n",
            "100%|██████████| 620/620 [00:00<00:00, 9226.75it/s]\n",
            "100%|██████████| 200/200 [00:00<?, ?it/s]\n",
            "100%|██████████| 200/200 [00:00<00:00, 9878.60it/s]\n",
            "100%|██████████| 257/257 [00:00<?, ?it/s]\n",
            "100%|██████████| 257/257 [00:00<00:00, 9215.89it/s]\n",
            "100%|██████████| 123/123 [00:00<?, ?it/s]\n",
            "100%|██████████| 123/123 [00:00<00:00, 8957.52it/s]\n",
            "100%|██████████| 199/199 [00:00<?, ?it/s]\n",
            "100%|██████████| 199/199 [00:00<00:00, 9553.79it/s]\n",
            "100%|██████████| 566/566 [00:00<00:00, 237373.87it/s]\n",
            "100%|██████████| 566/566 [00:00<00:00, 8299.83it/s]\n",
            "100%|██████████| 199/199 [00:00<?, ?it/s]\n",
            "100%|██████████| 199/199 [00:00<00:00, 9637.18it/s]\n",
            "100%|██████████| 551/551 [00:00<?, ?it/s]\n",
            "100%|██████████| 551/551 [00:00<00:00, 11067.98it/s]\n",
            "100%|██████████| 200/200 [00:00<00:00, 181375.31it/s]\n",
            "100%|██████████| 200/200 [00:00<00:00, 5039.93it/s]\n",
            "100%|██████████| 200/200 [00:00<00:00, 182678.75it/s]\n",
            "100%|██████████| 200/200 [00:00<00:00, 10710.27it/s]\n",
            "100%|██████████| 614/614 [00:00<?, ?it/s]\n",
            "100%|██████████| 614/614 [00:00<00:00, 7364.95it/s]\n",
            "100%|██████████| 249/249 [00:00<?, ?it/s]\n",
            "100%|██████████| 249/249 [00:00<00:00, 9045.63it/s]\n",
            "100%|██████████| 258/258 [00:00<00:00, 36985.80it/s]\n",
            "100%|██████████| 258/258 [00:00<00:00, 12637.58it/s]\n",
            "100%|██████████| 497/497 [00:00<00:00, 281508.32it/s]\n",
            "100%|██████████| 497/497 [00:00<00:00, 8945.50it/s]\n",
            "100%|██████████| 156/156 [00:00<00:00, 247096.46it/s]\n",
            "100%|██████████| 156/156 [00:00<00:00, 11499.73it/s]\n",
            "100%|██████████| 151/151 [00:00<?, ?it/s]\n",
            "100%|██████████| 151/151 [00:00<00:00, 7293.60it/s]\n",
            "100%|██████████| 682/682 [00:00<?, ?it/s]\n",
            "100%|██████████| 682/682 [00:00<00:00, 14109.14it/s]\n",
            "100%|██████████| 875/875 [00:00<00:00, 119798.14it/s]\n",
            "100%|██████████| 875/875 [00:00<00:00, 10514.45it/s]\n"
          ]
        }
      ],
      "source": [
        "tqdm.pandas()\n",
        "for kind in kinds:\n",
        "  for task in tasks:\n",
        "    for lang in langs:\n",
        "      path=f\"public_data_dev/{task}/{kind}/{lang}.csv\"\n",
        "      # if kind==\"dev\":\n",
        "      #   path=path.replace(lang,lang+task[-2:])\n",
        "      if not os.path.isfile(path):\n",
        "        print(\"not found:\",path)\n",
        "        continue\n",
        "      train_data=pd.read_csv(path)\n",
        "      train_data[\"lang\"]=lang\n",
        "      train_data['clean_message']=train_data['text'].progress_apply(convert_emoticons).progress_apply(cleaning,args=(lang,))\n",
        "      train_data = train_data.reset_index(drop=True)\n",
        "      train_data=train_data.drop(columns={\"text\"})\n",
        "      try:\n",
        "        train_data[\"disgust\"]\n",
        "        # print(f\"{kind} {task} {lang} has column disgust\")\n",
        "      except:\n",
        "        print(f\"{kind} {task} {lang} doesn't have column disgust\")\n",
        "\n",
        "      processed_path=f\"processed_data/{kind}/{task}/{lang}.csv\"\n",
        "      directory = os.path.dirname(processed_path)\n",
        "      if not os.path.exists(directory):\n",
        "        os.makedirs(directory)\n",
        "\n",
        "      train_data.to_csv(processed_path,index=False)\n",
        "\n"
      ]
    },
    {
      "cell_type": "code",
      "execution_count": 272,
      "metadata": {
        "id": "-UNuNkJFkNAZ"
      },
      "outputs": [],
      "source": [
        "!zip -qr processed_data.zip processed_data"
      ]
    },
    {
      "cell_type": "code",
      "execution_count": 273,
      "metadata": {
        "id": "-lSPK8NyNfTq"
      },
      "outputs": [],
      "source": [
        "# train_data[labels].sum()"
      ]
    },
    {
      "cell_type": "code",
      "execution_count": 274,
      "metadata": {
        "id": "Fxb-hH9tLaHr"
      },
      "outputs": [],
      "source": [
        "# data_counts=train_data[labels].value_counts()\n",
        "# data_counts"
      ]
    },
    {
      "cell_type": "markdown",
      "metadata": {
        "id": "RXTGSadtL4qv"
      },
      "source": [
        "data visualization\n"
      ]
    },
    {
      "cell_type": "code",
      "execution_count": 275,
      "metadata": {
        "id": "hLjjzt7-MBMC"
      },
      "outputs": [],
      "source": [
        "# train_data['num_words']=train_data['clean_message'].str.len()\n",
        "# fig=plt.figure(figsize=(12,8))\n",
        "# sns.set_style('dark')\n",
        "\n",
        "# sns.displot(train_data['num_words'], kde=True,color='Blue')\n",
        "# mean_val = train_data['num_words'].mean()\n",
        "# print(f'\\nMean:{mean_val:.2f}')\n",
        "# plt.legend()\n",
        "# plt.title('number of words in each message',fontsize=16,fontweight='bold')\n",
        "# plt.xlabel('Number of Words', fontsize=12)\n",
        "# plt.ylabel('Frequency', fontsize=12)\n",
        "\n",
        "# plt.grid(True, linestyle='--', alpha=1)\n",
        "# plt.show()"
      ]
    },
    {
      "cell_type": "code",
      "execution_count": 276,
      "metadata": {
        "id": "sYikEmEpMDmn"
      },
      "outputs": [],
      "source": [
        "# big_len_data= train_data[train_data['clean_message'].apply(lambda x: len(x) >350)]\n",
        "# big_len_data"
      ]
    },
    {
      "cell_type": "code",
      "execution_count": 277,
      "metadata": {
        "id": "MHMvCMHyUCqs"
      },
      "outputs": [],
      "source": [
        "# normal_len_data= train_data[train_data['clean_message'].apply(lambda x: len(x)<=350)]\n",
        "# normal_len_data"
      ]
    }
  ],
  "metadata": {
    "colab": {
      "provenance": []
    },
    "kernelspec": {
      "display_name": "Python 3",
      "name": "python3"
    },
    "language_info": {
      "codemirror_mode": {
        "name": "ipython",
        "version": 3
      },
      "file_extension": ".py",
      "mimetype": "text/x-python",
      "name": "python",
      "nbconvert_exporter": "python",
      "pygments_lexer": "ipython3",
      "version": "3.11.9"
    }
  },
  "nbformat": 4,
  "nbformat_minor": 0
}
